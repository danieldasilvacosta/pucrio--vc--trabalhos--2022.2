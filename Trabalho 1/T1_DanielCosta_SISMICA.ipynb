{
  "nbformat": 4,
  "nbformat_minor": 0,
  "metadata": {
    "colab": {
      "name": "T1_DanielCosta_SISMICA.ipynb",
      "provenance": [],
      "collapsed_sections": []
    },
    "kernelspec": {
      "name": "python3",
      "display_name": "Python 3"
    },
    "language_info": {
      "name": "python"
    }
  },
  "cells": [
    {
      "cell_type": "markdown",
      "source": [
        "# Trabalho 1 - Tipo: SÍSMICA\n",
        "Descrição do trabalho:\n",
        "\n",
        "http://webserver2.tecgraf.puc-rio.br/~mgattass/visao/trb/T1.html\n",
        "\n",
        "Aluno: Daniel da Silva Costa\n",
        "\n",
        "E-mail: danieldasilvacosta@gmail.com"
      ],
      "metadata": {
        "id": "apRR-waV6yPH"
      }
    },
    {
      "cell_type": "markdown",
      "source": [
        "### Mudando o diretório para o meu Google Drive para não precisar ficar baixando os datasets novamente."
      ],
      "metadata": {
        "id": "SFI8y74x7f49"
      }
    },
    {
      "cell_type": "code",
      "source": [
        "from google.colab import drive\n",
        "drive.mount('/content/drive/')"
      ],
      "metadata": {
        "colab": {
          "base_uri": "https://localhost:8080/"
        },
        "id": "EDeZ7nmz7kuh",
        "outputId": "b255dc3b-45fa-4814-de10-7cd240680998"
      },
      "execution_count": 1,
      "outputs": [
        {
          "output_type": "stream",
          "name": "stdout",
          "text": [
            "Mounted at /content/drive/\n"
          ]
        }
      ]
    },
    {
      "cell_type": "code",
      "source": [
        "cd \"drive/MyDrive/Doutorado/Disciplinas/[2022.2] [PUC-Rio] Visão Computacional - Professor Marcelo Gattass/Trabalhos/Trabalho 1/\""
      ],
      "metadata": {
        "colab": {
          "base_uri": "https://localhost:8080/"
        },
        "id": "jxl7Rrex7sMl",
        "outputId": "2f748ae5-9811-4ce0-cee6-979fc0cb7c51"
      },
      "execution_count": 2,
      "outputs": [
        {
          "output_type": "stream",
          "name": "stdout",
          "text": [
            "/content/drive/MyDrive/Doutorado/Disciplinas/[2022.2] [PUC-Rio] Visão Computacional - Professor Marcelo Gattass/Trabalhos/Trabalho 1\n"
          ]
        }
      ]
    },
    {
      "cell_type": "code",
      "source": [
        "!pwd"
      ],
      "metadata": {
        "colab": {
          "base_uri": "https://localhost:8080/"
        },
        "id": "bgfDlLE48G38",
        "outputId": "9b878940-4ceb-4bbc-b47b-1495d8b36b5e"
      },
      "execution_count": 3,
      "outputs": [
        {
          "output_type": "stream",
          "name": "stdout",
          "text": [
            "/content/drive/MyDrive/Doutorado/Disciplinas/[2022.2] [PUC-Rio] Visão Computacional - Professor Marcelo Gattass/Trabalhos/Trabalho 1\n"
          ]
        }
      ]
    },
    {
      "cell_type": "markdown",
      "source": [
        "### Imports"
      ],
      "metadata": {
        "id": "zZ_zh3Ux7laZ"
      }
    },
    {
      "cell_type": "code",
      "source": [
        "!pip install segyio"
      ],
      "metadata": {
        "colab": {
          "base_uri": "https://localhost:8080/"
        },
        "id": "bqTOWe1moGMg",
        "outputId": "ad4ba41b-26d8-4be8-ac85-b4113f87dfcf"
      },
      "execution_count": 4,
      "outputs": [
        {
          "output_type": "stream",
          "name": "stdout",
          "text": [
            "Looking in indexes: https://pypi.org/simple, https://us-python.pkg.dev/colab-wheels/public/simple/\n",
            "Collecting segyio\n",
            "  Downloading segyio-1.9.9-cp37-cp37m-manylinux_2_12_x86_64.manylinux2010_x86_64.whl (84 kB)\n",
            "\u001b[K     |████████████████████████████████| 84 kB 1.4 MB/s \n",
            "\u001b[?25hRequirement already satisfied: numpy>=1.10 in /usr/local/lib/python3.7/dist-packages (from segyio) (1.21.6)\n",
            "Installing collected packages: segyio\n",
            "Successfully installed segyio-1.9.9\n"
          ]
        }
      ]
    },
    {
      "cell_type": "code",
      "execution_count": 5,
      "metadata": {
        "id": "JGVCsIcY5tqy"
      },
      "outputs": [],
      "source": [
        "import numpy as np\n",
        "import segyio\n",
        "import matplotlib.pyplot as plt"
      ]
    },
    {
      "cell_type": "markdown",
      "source": [
        "Origem dos dados\n",
        "\n",
        "[Indicar a origem dos dados]"
      ],
      "metadata": {
        "id": "fl16F7kepmsu"
      }
    },
    {
      "cell_type": "code",
      "source": [
        "def load_segy( fname ):\n",
        "\n",
        "    with segyio.open( fname, ignore_geometry=True ) as file:\n",
        "    # with segyio.open( fname ) as file:\n",
        "\n",
        "        # Get basic attributes\n",
        "        n_traces = file.tracecount\n",
        "        sample_rate = segyio.tools.dt( file ) / 1000\n",
        "        n_samples = file.samples.size\n",
        "        time = file.samples\n",
        "        amplitude = file.trace.raw[:]\n",
        "\n",
        "        return n_traces, n_samples, sample_rate, time, amplitude"
      ],
      "metadata": {
        "id": "Y-QnCtxRosih"
      },
      "execution_count": 48,
      "outputs": []
    },
    {
      "cell_type": "code",
      "source": [
        "path = './imagens/sismica/'"
      ],
      "metadata": {
        "id": "3-30HDbd6xnt"
      },
      "execution_count": 49,
      "outputs": []
    },
    {
      "cell_type": "code",
      "source": [
        "# fname = path + 'CDPSyn200t_801m.sgy'\n",
        "# fname = path + 'Equinor_issap20_AI.sgyhdr'\n",
        "fname = path + 'Seismic_data.sgy'"
      ],
      "metadata": {
        "id": "Z4-PT8uK6xqp"
      },
      "execution_count": 50,
      "outputs": []
    },
    {
      "cell_type": "code",
      "source": [
        "%%time\n",
        "\n",
        "n_traces, n_samples, dt_samples, time_axis, data = load_segy( fname )\n",
        "\n",
        "print( f'Número de traços do volume: {n_traces}' )\n",
        "print( f'Número de amostras por traço: {n_samples}' )\n",
        "print( f'Delta t de amostragem (dta): {dt_samples} ms' )\n",
        "print()"
      ],
      "metadata": {
        "colab": {
          "base_uri": "https://localhost:8080/"
        },
        "id": "tI5OmTP2p--9",
        "outputId": "260cb624-2497-4261-ae56-22e06b2d73a0"
      },
      "execution_count": 51,
      "outputs": [
        {
          "output_type": "stream",
          "name": "stdout",
          "text": [
            "Número de traços do volume: 600515\n",
            "Número de amostras por traço: 462\n",
            "Delta t de amostragem (dta): 4.0 ms\n",
            "\n",
            "CPU times: user 412 ms, sys: 515 ms, total: 927 ms\n",
            "Wall time: 1.93 s\n"
          ]
        }
      ]
    },
    {
      "cell_type": "code",
      "source": [
        "# informação tirada da internet 915 traços por seção inline\n",
        "# n_inlines = 651\n",
        "n_inlines = 631\n",
        "n_crosslines = 951\n",
        "print( f'n_inlines: {n_inlines}' )\n",
        "print( f'n_crosslines: {n_crosslines}' )\n",
        "print( f'n_traces: {n_traces}' )\n",
        "print( f'n_inlines * n_crosslines: {n_inlines * n_crosslines}' )"
      ],
      "metadata": {
        "colab": {
          "base_uri": "https://localhost:8080/"
        },
        "id": "DBZFlfPNp_B4",
        "outputId": "eb751979-071e-4de8-9d3a-682184200501"
      },
      "execution_count": 109,
      "outputs": [
        {
          "output_type": "stream",
          "name": "stdout",
          "text": [
            "n_inlines: 631\n",
            "n_crosslines: 951\n",
            "n_traces: 600515\n",
            "n_inlines * n_crosslines: 600081\n"
          ]
        }
      ]
    },
    {
      "cell_type": "code",
      "source": [
        "# 631 * 951 = 600081\n",
        "# 600515 - 600081 = 434\n",
        "\n",
        "data.shape"
      ],
      "metadata": {
        "colab": {
          "base_uri": "https://localhost:8080/"
        },
        "id": "kJHFzhLg1io2",
        "outputId": "a81b4bbd-7067-4a6e-a126-ab3f59f3e260"
      },
      "execution_count": 110,
      "outputs": [
        {
          "output_type": "execute_result",
          "data": {
            "text/plain": [
              "(600515, 462)"
            ]
          },
          "metadata": {},
          "execution_count": 110
        }
      ]
    },
    {
      "cell_type": "code",
      "source": [
        "new_data = data[ :-434 ]\n",
        "# new_data = data[ 434: ]\n",
        "\n",
        "# new_data = data[ 4340: ]\n",
        "# n_inlines = 651\n",
        "\n",
        "# new_data = data\n",
        "# new_data[0] = [ 0 for i in range(0, 434) ]\n",
        "\n",
        "print(len( new_data ))\n",
        "print( new_data.shape )"
      ],
      "metadata": {
        "colab": {
          "base_uri": "https://localhost:8080/"
        },
        "id": "JI5YciUC2Gew",
        "outputId": "87a31340-8c85-4b19-9125-00871f97826a"
      },
      "execution_count": 142,
      "outputs": [
        {
          "output_type": "stream",
          "name": "stdout",
          "text": [
            "600081\n",
            "(600081, 462)\n"
          ]
        }
      ]
    },
    {
      "cell_type": "code",
      "source": [
        "vol = new_data.reshape( ( n_inlines, n_crosslines, n_samples ) )\n",
        "print( vol.shape )"
      ],
      "metadata": {
        "colab": {
          "base_uri": "https://localhost:8080/"
        },
        "id": "h2XT2DX61i1L",
        "outputId": "34d73b1e-1183-442a-b3ac-2803112b3cb0"
      },
      "execution_count": 143,
      "outputs": [
        {
          "output_type": "stream",
          "name": "stdout",
          "text": [
            "(631, 951, 462)\n"
          ]
        }
      ]
    },
    {
      "cell_type": "code",
      "source": [
        "inline = n_inlines//2\n",
        "crossline = n_crosslines//2\n",
        "timeline = n_samples//2\n",
        "\n",
        "print( f'inline: {inline}' )\n",
        "print( f'crossline: {crossline}' )\n",
        "print( f'timeline: {timeline}' )"
      ],
      "metadata": {
        "colab": {
          "base_uri": "https://localhost:8080/"
        },
        "id": "Zo7wdCGEqxK8",
        "outputId": "b5f4a23b-5fde-414a-baa7-6f2e6cf3c1d7"
      },
      "execution_count": 144,
      "outputs": [
        {
          "output_type": "stream",
          "name": "stdout",
          "text": [
            "inline: 315\n",
            "crossline: 475\n",
            "timeline: 231\n"
          ]
        }
      ]
    },
    {
      "cell_type": "code",
      "source": [
        "# inline - 500"
      ],
      "metadata": {
        "id": "Xd748COR58ss"
      },
      "execution_count": 132,
      "outputs": []
    },
    {
      "cell_type": "code",
      "source": [
        "inline_section = vol[ inline, :, : ]\n",
        "crossline_section = vol[ crossline, :, : ]\n",
        "timeline_section = vol[ timeline, :, : ]\n",
        "\n",
        "print( f'inline_section: {inline_section}' )\n",
        "print( f'crossline_section: {crossline_section}' )\n",
        "print( f'timeline_section: {timeline_section}' )"
      ],
      "metadata": {
        "colab": {
          "base_uri": "https://localhost:8080/"
        },
        "id": "ARR5FJ6GqxNm",
        "outputId": "83d3ac84-57d6-4134-84e5-0cd51405c6b2"
      },
      "execution_count": 145,
      "outputs": [
        {
          "output_type": "stream",
          "name": "stdout",
          "text": [
            "inline_section: [[    0     0     0 ... -2173 -2562 -3992]\n",
            " [    0     0     0 ... -1933 -4013 -6252]\n",
            " [    0     0     0 ... -2013 -5531 -7224]\n",
            " ...\n",
            " [    0     0     0 ... -4550 -7985 -2829]\n",
            " [    0     0     0 ... -3307 -8067 -3674]\n",
            " [    0     0     0 ... -3183 -9304 -4059]]\n",
            "crossline_section: [[    0     0     0 ... -3505 -1317   140]\n",
            " [    0     0     0 ... -3318 -2314  -214]\n",
            " [    0     0     0 ... -2303  -447   294]\n",
            " ...\n",
            " [    0     0     0 ...  3330  3269  1416]\n",
            " [    0     0     0 ...   -36    12  1385]\n",
            " [    0     0     0 ...   830  -533 -3008]]\n",
            "timeline_section: [[    0     0     0 ...   724 -1379  -119]\n",
            " [    0     0     0 ...  -571  -969  1588]\n",
            " [    0     0     0 ... -2247   356  2916]\n",
            " ...\n",
            " [    0     0     0 ...  1175  2900  1705]\n",
            " [    0     0     0 ...  1697  3056  1522]\n",
            " [    0     0     0 ...  2197  3036   715]]\n"
          ]
        }
      ]
    },
    {
      "cell_type": "code",
      "source": [
        "x = np.linspace( \n",
        "    0, \n",
        "    n_samples - 1, \n",
        "    n_samples )\n",
        "trace1 = inline_section[ crossline, : ]\n",
        "trace2 = crossline_section[ inline + 5, : ] ######################################## Está deslocado... Os dados estão errados: faltando dados, para poder ficar igual ao do professor.\n",
        "\n",
        "plt.figure( figsize=(10, 4) )\n",
        "plt.plot( x, trace1, 'y' )\n",
        "plt.plot( x, trace2, '+' )\n",
        "plt.show()"
      ],
      "metadata": {
        "colab": {
          "base_uri": "https://localhost:8080/",
          "height": 265
        },
        "id": "rCTKTVnNqxQE",
        "outputId": "d9dac5f5-9f35-47d4-a775-973e9860b83c"
      },
      "execution_count": 165,
      "outputs": [
        {
          "output_type": "display_data",
          "data": {
            "text/plain": [
              "<Figure size 720x288 with 1 Axes>"
            ],
            "image/png": "[encoded data removed]"
          },
          "metadata": {
            "needs_background": "light"
          }
        }
      ]
    },
    {
      "cell_type": "code",
      "source": [
        ""
      ],
      "metadata": {
        "id": "2nbUZhdH3S15"
      },
      "execution_count": 134,
      "outputs": []
    },
    {
      "cell_type": "code",
      "source": [
        ""
      ],
      "metadata": {
        "id": "IDekPV7J3S4X"
      },
      "execution_count": 134,
      "outputs": []
    },
    {
      "cell_type": "code",
      "source": [
        ""
      ],
      "metadata": {
        "id": "aaMF5nxe3S7D"
      },
      "execution_count": 134,
      "outputs": []
    },
    {
      "cell_type": "code",
      "source": [
        ""
      ],
      "metadata": {
        "id": "USYEVrazp_Ey"
      },
      "execution_count": 134,
      "outputs": []
    },
    {
      "cell_type": "code",
      "source": [
        ""
      ],
      "metadata": {
        "id": "Grp3obIvp_HN"
      },
      "execution_count": 134,
      "outputs": []
    },
    {
      "cell_type": "code",
      "source": [
        ""
      ],
      "metadata": {
        "id": "lN12cFy4p_J6"
      },
      "execution_count": 134,
      "outputs": []
    }
  ]
}