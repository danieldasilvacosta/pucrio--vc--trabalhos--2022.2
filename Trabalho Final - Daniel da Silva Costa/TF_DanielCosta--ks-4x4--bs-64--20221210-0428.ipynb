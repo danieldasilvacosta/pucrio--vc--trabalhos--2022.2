{
  "cells": [
    {
      "cell_type": "code",
      "execution_count": 1,
      "metadata": {
        "colab": {
          "base_uri": "https://localhost:8080/"
        },
        "id": "yukxIi6LniSQ",
        "outputId": "52be4e8b-04bd-4f8e-f75a-7658af5f649f"
      },
      "outputs": [
        {
          "output_type": "stream",
          "name": "stdout",
          "text": [
            "Mounted at /content/drive\n"
          ]
        }
      ],
      "source": [
        "from google.colab import drive\n",
        "drive.mount('/content/drive', force_remount=True)"
      ]
    },
    {
      "cell_type": "code",
      "execution_count": 2,
      "metadata": {
        "colab": {
          "base_uri": "https://localhost:8080/"
        },
        "id": "995UeTpNnpqJ",
        "outputId": "32f411be-a223-4aaf-f0ff-8ae5f4614b8d"
      },
      "outputs": [
        {
          "output_type": "stream",
          "name": "stdout",
          "text": [
            "/content/drive/MyDrive/Doutorado/Disciplinas/[2022.2] [PUC-Rio] Visão Computacional - Professor: Marcelo Gattass/Trabalhos/Trabalho Final/Code/What does a CNN see?\n"
          ]
        }
      ],
      "source": [
        "cd \"drive/MyDrive/Doutorado/Disciplinas/[2022.2] [PUC-Rio] Visão Computacional - Professor: Marcelo Gattass/Trabalhos/Trabalho Final/Code/What does a CNN see?/\""
      ]
    },
    {
      "cell_type": "code",
      "execution_count": 3,
      "metadata": {
        "colab": {
          "base_uri": "https://localhost:8080/"
        },
        "id": "cg29tq9_nx3_",
        "outputId": "b6886b11-a669-4143-cb55-ec2526ed5234"
      },
      "outputs": [
        {
          "output_type": "stream",
          "name": "stdout",
          "text": [
            "/content/drive/MyDrive/Doutorado/Disciplinas/[2022.2] [PUC-Rio] Visão Computacional - Professor: Marcelo Gattass/Trabalhos/Trabalho Final/Code/What does a CNN see?\n"
          ]
        }
      ],
      "source": [
        "!pwd"
      ]
    },
    {
      "cell_type": "code",
      "execution_count": 4,
      "metadata": {
        "id": "Fmp5VkmDnzJ6"
      },
      "outputs": [],
      "source": [
        "data_folder = './data/'"
      ]
    },
    {
      "cell_type": "code",
      "execution_count": 5,
      "metadata": {
        "id": "r49vJQx6m_n5"
      },
      "outputs": [],
      "source": [
        "import os\n",
        "import cv2\n",
        "import glob\n",
        "import h5py\n",
        "import shutil\n",
        "import imgaug as aug\n",
        "import numpy as np # linear algebra\n",
        "import pandas as pd # data processing, CSV file I/O (e.g. pd.read_csv)\n",
        "import seaborn as sns\n",
        "import matplotlib.pyplot as plt\n",
        "import imgaug.augmenters as iaa\n",
        "from os import listdir, makedirs, getcwd, remove\n",
        "from os.path import isfile, join, abspath, exists, isdir, expanduser\n",
        "from pathlib import Path\n",
        "from skimage.io import imread\n",
        "from skimage.transform import resize\n",
        "from keras.models import Sequential, Model, load_model\n",
        "from keras.applications.vgg16 import VGG16, preprocess_input\n",
        "from keras.layers import Conv2D, MaxPooling2D, Dense, Dropout, InputLayer, Flatten\n",
        "from keras.optimizers import Adam, SGD, RMSprop\n",
        "from keras.callbacks import ModelCheckpoint, Callback, EarlyStopping\n",
        "from keras.utils import to_categorical\n",
        "from sklearn.model_selection import train_test_split\n",
        "from mlxtend.plotting import plot_confusion_matrix\n",
        "from sklearn.metrics import confusion_matrix\n",
        "from mlxtend.plotting import plot_confusion_matrix\n",
        "from keras import backend as K\n",
        "import tensorflow as tf\n",
        "tf.compat.v1.disable_eager_execution() # daniel\n",
        "\n",
        "\n",
        "color = sns.color_palette()\n",
        "%matplotlib inline\n",
        "%config InlineBackend.figure_format=\"svg\"\n",
        "\n",
        "# Daniel\n",
        "from tensorflow.keras import datasets, layers, models"
      ]
    },
    {
      "cell_type": "code",
      "execution_count": 6,
      "metadata": {
        "id": "O63jTZkRm_n8"
      },
      "outputs": [],
      "source": [
        "# Set the seed for hash based operations in python\n",
        "os.environ['PYTHONHASHSEED'] = '0'\n",
        "\n",
        "seed=1234\n",
        "\n",
        "# Set the numpy seed\n",
        "np.random.seed(seed)\n",
        "\n",
        "# Set the random seed in tensorflow at graph level\n",
        "# tf.set_random_seed(seed) # obsolete\n",
        "tf.random.set_seed(seed)\n",
        "\n",
        "# Make the augmentation sequence deterministic\n",
        "aug.seed(seed)"
      ]
    },
    {
      "cell_type": "code",
      "execution_count": 7,
      "metadata": {
        "id": "GDVCZ3Som_n-"
      },
      "outputs": [],
      "source": [
        "# As usual, define some paths first to make life simpler\n",
        "training_data = Path(data_folder + '/training/') \n",
        "validation_data = Path(data_folder + '/validation/') \n",
        "labels_path = Path(data_folder + '/monkey_labels.txt')"
      ]
    },
    {
      "cell_type": "code",
      "execution_count": 8,
      "metadata": {
        "colab": {
          "base_uri": "https://localhost:8080/",
          "height": 363
        },
        "id": "pFmq_UfRm_oA",
        "outputId": "dee01ba0-c28f-44f7-fc0b-45aaf159980e"
      },
      "outputs": [
        {
          "output_type": "execute_result",
          "data": {
            "text/plain": [
              "  Label             Latin Name                Common Name  Train Images  \\\n",
              "0    n0      alouatta_palliata             mantled_howler           131   \n",
              "1    n1     erythrocebus_patas               patas_monkey           139   \n",
              "2    n2         cacajao_calvus                bald_uakari           137   \n",
              "3    n3         macaca_fuscata           japanese_macaque           152   \n",
              "4    n4        cebuella_pygmea             pygmy_marmoset           131   \n",
              "5    n5        cebus_capucinus      white_headed_capuchin           141   \n",
              "6    n6        mico_argentatus           silvery_marmoset           132   \n",
              "7    n7       saimiri_sciureus     common_squirrel_monkey           142   \n",
              "8    n8        aotus_nigriceps  black_headed_night_monkey           133   \n",
              "9    n9  trachypithecus_johnii             nilgiri_langur           132   \n",
              "\n",
              "   Validation Images  \n",
              "0                 26  \n",
              "1                 28  \n",
              "2                 27  \n",
              "3                 30  \n",
              "4                 26  \n",
              "5                 28  \n",
              "6                 26  \n",
              "7                 28  \n",
              "8                 27  \n",
              "9                 26  "
            ],
            "text/html": [
              "\n",
              "  <div id=\"df-e838e7be-ee93-46fb-bc17-03b16c103fec\">\n",
              "    <div class=\"colab-df-container\">\n",
              "      <div>\n",
              "<style scoped>\n",
              "    .dataframe tbody tr th:only-of-type {\n",
              "        vertical-align: middle;\n",
              "    }\n",
              "\n",
              "    .dataframe tbody tr th {\n",
              "        vertical-align: top;\n",
              "    }\n",
              "\n",
              "    .dataframe thead th {\n",
              "        text-align: right;\n",
              "    }\n",
              "</style>\n",
              "<table border=\"1\" class=\"dataframe\">\n",
              "  <thead>\n",
              "    <tr style=\"text-align: right;\">\n",
              "      <th></th>\n",
              "      <th>Label</th>\n",
              "      <th>Latin Name</th>\n",
              "      <th>Common Name</th>\n",
              "      <th>Train Images</th>\n",
              "      <th>Validation Images</th>\n",
              "    </tr>\n",
              "  </thead>\n",
              "  <tbody>\n",
              "    <tr>\n",
              "      <th>0</th>\n",
              "      <td>n0</td>\n",
              "      <td>alouatta_palliata</td>\n",
              "      <td>mantled_howler</td>\n",
              "      <td>131</td>\n",
              "      <td>26</td>\n",
              "    </tr>\n",
              "    <tr>\n",
              "      <th>1</th>\n",
              "      <td>n1</td>\n",
              "      <td>erythrocebus_patas</td>\n",
              "      <td>patas_monkey</td>\n",
              "      <td>139</td>\n",
              "      <td>28</td>\n",
              "    </tr>\n",
              "    <tr>\n",
              "      <th>2</th>\n",
              "      <td>n2</td>\n",
              "      <td>cacajao_calvus</td>\n",
              "      <td>bald_uakari</td>\n",
              "      <td>137</td>\n",
              "      <td>27</td>\n",
              "    </tr>\n",
              "    <tr>\n",
              "      <th>3</th>\n",
              "      <td>n3</td>\n",
              "      <td>macaca_fuscata</td>\n",
              "      <td>japanese_macaque</td>\n",
              "      <td>152</td>\n",
              "      <td>30</td>\n",
              "    </tr>\n",
              "    <tr>\n",
              "      <th>4</th>\n",
              "      <td>n4</td>\n",
              "      <td>cebuella_pygmea</td>\n",
              "      <td>pygmy_marmoset</td>\n",
              "      <td>131</td>\n",
              "      <td>26</td>\n",
              "    </tr>\n",
              "    <tr>\n",
              "      <th>5</th>\n",
              "      <td>n5</td>\n",
              "      <td>cebus_capucinus</td>\n",
              "      <td>white_headed_capuchin</td>\n",
              "      <td>141</td>\n",
              "      <td>28</td>\n",
              "    </tr>\n",
              "    <tr>\n",
              "      <th>6</th>\n",
              "      <td>n6</td>\n",
              "      <td>mico_argentatus</td>\n",
              "      <td>silvery_marmoset</td>\n",
              "      <td>132</td>\n",
              "      <td>26</td>\n",
              "    </tr>\n",
              "    <tr>\n",
              "      <th>7</th>\n",
              "      <td>n7</td>\n",
              "      <td>saimiri_sciureus</td>\n",
              "      <td>common_squirrel_monkey</td>\n",
              "      <td>142</td>\n",
              "      <td>28</td>\n",
              "    </tr>\n",
              "    <tr>\n",
              "      <th>8</th>\n",
              "      <td>n8</td>\n",
              "      <td>aotus_nigriceps</td>\n",
              "      <td>black_headed_night_monkey</td>\n",
              "      <td>133</td>\n",
              "      <td>27</td>\n",
              "    </tr>\n",
              "    <tr>\n",
              "      <th>9</th>\n",
              "      <td>n9</td>\n",
              "      <td>trachypithecus_johnii</td>\n",
              "      <td>nilgiri_langur</td>\n",
              "      <td>132</td>\n",
              "      <td>26</td>\n",
              "    </tr>\n",
              "  </tbody>\n",
              "</table>\n",
              "</div>\n",
              "      <button class=\"colab-df-convert\" onclick=\"convertToInteractive('df-e838e7be-ee93-46fb-bc17-03b16c103fec')\"\n",
              "              title=\"Convert this dataframe to an interactive table.\"\n",
              "              style=\"display:none;\">\n",
              "        \n",
              "  <svg xmlns=\"http://www.w3.org/2000/svg\" height=\"24px\"viewBox=\"0 0 24 24\"\n",
              "       width=\"24px\">\n",
              "    <path d=\"M0 0h24v24H0V0z\" fill=\"none\"/>\n",
              "    <path d=\"M18.56 5.44l.94 2.06.94-2.06 2.06-.94-2.06-.94-.94-2.06-.94 2.06-2.06.94zm-11 1L8.5 8.5l.94-2.06 2.06-.94-2.06-.94L8.5 2.5l-.94 2.06-2.06.94zm10 10l.94 2.06.94-2.06 2.06-.94-2.06-.94-.94-2.06-.94 2.06-2.06.94z\"/><path d=\"M17.41 7.96l-1.37-1.37c-.4-.4-.92-.59-1.43-.59-.52 0-1.04.2-1.43.59L10.3 9.45l-7.72 7.72c-.78.78-.78 2.05 0 2.83L4 21.41c.39.39.9.59 1.41.59.51 0 1.02-.2 1.41-.59l7.78-7.78 2.81-2.81c.8-.78.8-2.07 0-2.86zM5.41 20L4 18.59l7.72-7.72 1.47 1.35L5.41 20z\"/>\n",
              "  </svg>\n",
              "      </button>\n",
              "      \n",
              "  <style>\n",
              "    .colab-df-container {\n",
              "      display:flex;\n",
              "      flex-wrap:wrap;\n",
              "      gap: 12px;\n",
              "    }\n",
              "\n",
              "    .colab-df-convert {\n",
              "      background-color: #E8F0FE;\n",
              "      border: none;\n",
              "      border-radius: 50%;\n",
              "      cursor: pointer;\n",
              "      display: none;\n",
              "      fill: #1967D2;\n",
              "      height: 32px;\n",
              "      padding: 0 0 0 0;\n",
              "      width: 32px;\n",
              "    }\n",
              "\n",
              "    .colab-df-convert:hover {\n",
              "      background-color: #E2EBFA;\n",
              "      box-shadow: 0px 1px 2px rgba(60, 64, 67, 0.3), 0px 1px 3px 1px rgba(60, 64, 67, 0.15);\n",
              "      fill: #174EA6;\n",
              "    }\n",
              "\n",
              "    [theme=dark] .colab-df-convert {\n",
              "      background-color: #3B4455;\n",
              "      fill: #D2E3FC;\n",
              "    }\n",
              "\n",
              "    [theme=dark] .colab-df-convert:hover {\n",
              "      background-color: #434B5C;\n",
              "      box-shadow: 0px 1px 3px 1px rgba(0, 0, 0, 0.15);\n",
              "      filter: drop-shadow(0px 1px 2px rgba(0, 0, 0, 0.3));\n",
              "      fill: #FFFFFF;\n",
              "    }\n",
              "  </style>\n",
              "\n",
              "      <script>\n",
              "        const buttonEl =\n",
              "          document.querySelector('#df-e838e7be-ee93-46fb-bc17-03b16c103fec button.colab-df-convert');\n",
              "        buttonEl.style.display =\n",
              "          google.colab.kernel.accessAllowed ? 'block' : 'none';\n",
              "\n",
              "        async function convertToInteractive(key) {\n",
              "          const element = document.querySelector('#df-e838e7be-ee93-46fb-bc17-03b16c103fec');\n",
              "          const dataTable =\n",
              "            await google.colab.kernel.invokeFunction('convertToInteractive',\n",
              "                                                     [key], {});\n",
              "          if (!dataTable) return;\n",
              "\n",
              "          const docLinkHtml = 'Like what you see? Visit the ' +\n",
              "            '<a target=\"_blank\" href=https://colab.research.google.com/notebooks/data_table.ipynb>data table notebook</a>'\n",
              "            + ' to learn more about interactive tables.';\n",
              "          element.innerHTML = '';\n",
              "          dataTable['output_type'] = 'display_data';\n",
              "          await google.colab.output.renderOutput(dataTable, element);\n",
              "          const docLink = document.createElement('div');\n",
              "          docLink.innerHTML = docLinkHtml;\n",
              "          element.appendChild(docLink);\n",
              "        }\n",
              "      </script>\n",
              "    </div>\n",
              "  </div>\n",
              "  "
            ]
          },
          "metadata": {},
          "execution_count": 8
        }
      ],
      "source": [
        "labels_info = []\n",
        "\n",
        "# Read the file\n",
        "lines = labels_path.read_text().strip().splitlines()[1:]\n",
        "for line in lines:\n",
        "    line = line.split(',')\n",
        "    line = [x.strip(' \\n\\t\\r') for x in line]\n",
        "    line[3], line[4] = int(line[3]), int(line[4])\n",
        "    line = tuple(line)\n",
        "    labels_info.append(line)\n",
        "    \n",
        "# Convert the data into a pandas dataframe\n",
        "labels_info = pd.DataFrame(labels_info, columns=['Label', 'Latin Name', 'Common Name', \n",
        "                                                 'Train Images', 'Validation Images'], index=None)\n",
        "# Sneak peek \n",
        "labels_info.head(10)"
      ]
    },
    {
      "cell_type": "code",
      "execution_count": 9,
      "metadata": {
        "colab": {
          "base_uri": "https://localhost:8080/"
        },
        "id": "wHuT1Hz8m_oB",
        "outputId": "12c2b25b-0bd7-4acb-a27a-f8bf84f89c44"
      },
      "outputs": [
        {
          "output_type": "stream",
          "name": "stdout",
          "text": [
            "{0: 'mantled_howler', 1: 'patas_monkey', 2: 'bald_uakari', 3: 'japanese_macaque', 4: 'pygmy_marmoset', 5: 'white_headed_capuchin', 6: 'silvery_marmoset', 7: 'common_squirrel_monkey', 8: 'black_headed_night_monkey', 9: 'nilgiri_langur'}\n"
          ]
        }
      ],
      "source": [
        "# Create a dictionary to map the labels to integers\n",
        "labels_dict= {'n0':0, 'n1':1, 'n2':2, 'n3':3, 'n4':4, 'n5':5, 'n6':6, 'n7':7, 'n8':8, 'n9':9}\n",
        "\n",
        "# map labels to common names\n",
        "names_dict = dict(zip(labels_dict.values(), labels_info[\"Common Name\"]))\n",
        "print(names_dict)"
      ]
    },
    {
      "cell_type": "code",
      "execution_count": 10,
      "metadata": {
        "colab": {
          "base_uri": "https://localhost:8080/"
        },
        "id": "a_MLw2_dm_oC",
        "outputId": "950fe345-0b7a-4a78-b3fe-e9afb40b5c2f"
      },
      "outputs": [
        {
          "output_type": "stream",
          "name": "stdout",
          "text": [
            "Number of traininng samples:  1096\n",
            "Number of validation samples:  272\n",
            "\n",
            "                         image  label\n",
            "0  data/training/n2/n2117.jpg      2\n",
            "1  data/training/n7/n7028.jpg      7\n",
            "2  data/training/n0/n0155.jpg      0\n",
            "3  data/training/n7/n7064.jpg      7\n",
            "4  data/training/n2/n2133.jpg      2 \n",
            "\n",
            "=================================================================\n",
            "\n",
            "\n",
            "                           image  label\n",
            "0   data/validation/n7/n718.jpg      7\n",
            "1  data/validation/n6/n6013.jpg      6\n",
            "2  data/validation/n7/n7012.jpg      7\n",
            "3   data/validation/n5/n512.jpg      5\n",
            "4   data/validation/n5/n509.jpg      5\n"
          ]
        }
      ],
      "source": [
        "# Creating a dataframe for the training dataset\n",
        "train_df = []\n",
        "for folder in os.listdir(training_data):\n",
        "    # Define the path to the images\n",
        "    imgs_path = training_data / folder\n",
        "    \n",
        "    # Get the list of all the images stored in that directory\n",
        "    imgs = sorted(imgs_path.glob('*.jpg'))\n",
        "    \n",
        "    # Store each image path and corresponding label \n",
        "    for img_name in imgs:\n",
        "        train_df.append((str(img_name), labels_dict[folder]))\n",
        "\n",
        "\n",
        "train_df = pd.DataFrame(train_df, columns=['image', 'label'], index=None)\n",
        "# shuffle the dataset \n",
        "train_df = train_df.sample(frac=1.).reset_index(drop=True)\n",
        "\n",
        "####################################################################################################\n",
        "\n",
        "# Creating dataframe for validation data in a similar fashion\n",
        "valid_df = []\n",
        "for folder in os.listdir(validation_data):\n",
        "    imgs_path = validation_data / folder\n",
        "    imgs = sorted(imgs_path.glob('*.jpg'))\n",
        "    for img_name in imgs:\n",
        "        valid_df.append((str(img_name), labels_dict[folder]))\n",
        "\n",
        "        \n",
        "valid_df = pd.DataFrame(valid_df, columns=['image', 'label'], index=None)\n",
        "# shuffle the dataset \n",
        "valid_df = valid_df.sample(frac=1.).reset_index(drop=True)\n",
        "\n",
        "####################################################################################################\n",
        "\n",
        "# How many samples do we have in our training and validation data?\n",
        "print(\"Number of traininng samples: \", len(train_df))\n",
        "print(\"Number of validation samples: \", len(valid_df))\n",
        "\n",
        "# sneak peek of the training and validation dataframes\n",
        "print(\"\\n\",train_df.head(), \"\\n\")\n",
        "print(\"=================================================================\\n\")\n",
        "print(\"\\n\", valid_df.head())"
      ]
    },
    {
      "cell_type": "code",
      "execution_count": 11,
      "metadata": {
        "id": "4zcekSk9m_oD"
      },
      "outputs": [],
      "source": [
        "# some constants(not truly though!) \n",
        "\n",
        "# dimensions to consider for the images\n",
        "img_rows, img_cols, img_channels = 224,224,3\n",
        "\n",
        "# batch size for training  \n",
        "batch_size=64\n",
        "\n",
        "# total number of classes in the dataset\n",
        "nb_classes=10"
      ]
    },
    {
      "cell_type": "code",
      "execution_count": 12,
      "metadata": {
        "id": "XSt-OHwym_oD"
      },
      "outputs": [],
      "source": [
        "# Augmentation sequence \n",
        "seq = iaa.OneOf([\n",
        "    iaa.Fliplr(), # horizontal flips\n",
        "    iaa.Affine(rotate=20), # roatation\n",
        "    iaa.Multiply((1.2, 1.5))]) #random brightness"
      ]
    },
    {
      "cell_type": "code",
      "execution_count": 13,
      "metadata": {
        "id": "4hASMeAOm_oE"
      },
      "outputs": [],
      "source": [
        "def data_generator(data, batch_size, is_validation_data=False):\n",
        "    # Get total number of samples in the data\n",
        "    n = len(data)\n",
        "    nb_batches = int(np.ceil(n/batch_size))\n",
        "\n",
        "    # Get a numpy array of all the indices of the input data\n",
        "    indices = np.arange(n)\n",
        "    \n",
        "    # Define two numpy arrays for containing batch data and labels\n",
        "    batch_data = np.zeros((batch_size, img_rows, img_cols, img_channels), dtype=np.float32)\n",
        "    batch_labels = np.zeros((batch_size, nb_classes), dtype=np.float32)\n",
        "    \n",
        "    while True:\n",
        "        if not is_validation_data:\n",
        "            # shuffle indices for the training data\n",
        "            np.random.shuffle(indices)\n",
        "            \n",
        "        for i in range(nb_batches):\n",
        "            # get the next batch \n",
        "            next_batch_indices = indices[i*batch_size:(i+1)*batch_size]\n",
        "            \n",
        "            # process the next batch\n",
        "            for j, idx in enumerate(next_batch_indices):\n",
        "                img = cv2.imread(data.iloc[idx][\"image\"])\n",
        "                img = cv2.cvtColor(img, cv2.COLOR_BGR2RGB)\n",
        "                label = data.iloc[idx][\"label\"]\n",
        "                \n",
        "                if not is_validation_data:\n",
        "                    img = seq.augment_image(img)\n",
        "                \n",
        "                img = cv2.resize(img, (img_rows, img_cols)).astype(np.float32)\n",
        "                batch_data[j] = img\n",
        "                batch_labels[j] = to_categorical(label,num_classes=nb_classes)\n",
        "            \n",
        "            batch_data = preprocess_input(batch_data)\n",
        "            yield batch_data, batch_labels"
      ]
    },
    {
      "cell_type": "code",
      "execution_count": 14,
      "metadata": {
        "id": "gJ8LEwAJm_oF"
      },
      "outputs": [],
      "source": [
        "#training data generator \n",
        "train_data_gen = data_generator(train_df, batch_size)\n",
        "\n",
        "# validation data generator \n",
        "valid_data_gen = data_generator(valid_df, batch_size, is_validation_data=True)"
      ]
    },
    {
      "cell_type": "code",
      "execution_count": 15,
      "metadata": {
        "colab": {
          "base_uri": "https://localhost:8080/"
        },
        "id": "GwBknUFEbd5U",
        "outputId": "bf45a404-3752-4a65-b974-e387494cddf5"
      },
      "outputs": [
        {
          "output_type": "stream",
          "name": "stdout",
          "text": [
            "Model: \"model\"\n",
            "_________________________________________________________________\n",
            " Layer (type)                Output Shape              Param #   \n",
            "=================================================================\n",
            " input_1 (InputLayer)        [(None, 224, 224, 3)]     0         \n",
            "                                                                 \n",
            " conv2d (Conv2D)             (None, 224, 224, 64)      3136      \n",
            "                                                                 \n",
            " max_pooling2d (MaxPooling2D  (None, 112, 112, 64)     0         \n",
            " )                                                               \n",
            "                                                                 \n",
            " conv2d_1 (Conv2D)           (None, 112, 112, 128)     131200    \n",
            "                                                                 \n",
            " max_pooling2d_1 (MaxPooling  (None, 56, 56, 128)      0         \n",
            " 2D)                                                             \n",
            "                                                                 \n",
            " conv2d_2 (Conv2D)           (None, 56, 56, 256)       524544    \n",
            "                                                                 \n",
            " max_pooling2d_2 (MaxPooling  (None, 28, 28, 256)      0         \n",
            " 2D)                                                             \n",
            "                                                                 \n",
            " conv2d_3 (Conv2D)           (None, 28, 28, 512)       2097664   \n",
            "                                                                 \n",
            " max_pooling2d_3 (MaxPooling  (None, 14, 14, 512)      0         \n",
            " 2D)                                                             \n",
            "                                                                 \n",
            " conv2d_4 (Conv2D)           (None, 14, 14, 512)       4194816   \n",
            "                                                                 \n",
            " conv2d_5 (Conv2D)           (None, 14, 14, 512)       4194816   \n",
            "                                                                 \n",
            " max_pooling2d_4 (MaxPooling  (None, 7, 7, 512)        0         \n",
            " 2D)                                                             \n",
            "                                                                 \n",
            " flatten (Flatten)           (None, 25088)             0         \n",
            "                                                                 \n",
            " dense (Dense)               (None, 4096)              102764544 \n",
            "                                                                 \n",
            " dense_1 (Dense)             (None, 4096)              16781312  \n",
            "                                                                 \n",
            " dropout (Dropout)           (None, 4096)              0         \n",
            "                                                                 \n",
            " dense_2 (Dense)             (None, 10)                40970     \n",
            "                                                                 \n",
            "=================================================================\n",
            "Total params: 130,733,002\n",
            "Trainable params: 130,733,002\n",
            "Non-trainable params: 0\n",
            "_________________________________________________________________\n"
          ]
        }
      ],
      "source": [
        "# https://www.tensorflow.org/api_docs/python/tf/keras/layers/Conv2D\n",
        "# tf.keras.layers.Conv2D( filters, kernel_size, ...)\n",
        "\n",
        "model = models.Sequential([\n",
        "    layers.InputLayer( input_shape=(224, 224, 3) )\n",
        "])\n",
        "\n",
        "model.add( layers.Conv2D(64, (4, 4), \n",
        "                        padding='same',\n",
        "                        activation='relu') )\n",
        "model.add( layers.MaxPooling2D((2, 2)) )\n",
        "\n",
        "model.add( layers.Conv2D(128, (4, 4), \n",
        "                        padding='same',\n",
        "                        activation='relu') )\n",
        "model.add( layers.MaxPooling2D((2, 2)) )\n",
        "\n",
        "model.add( layers.Conv2D(256, (4, 4), \n",
        "                        padding='same',\n",
        "                        activation='relu') )\n",
        "model.add( layers.MaxPooling2D((2, 2)) )\n",
        "\n",
        "model.add( layers.Conv2D(512, (4, 4), \n",
        "                        padding='same',\n",
        "                        activation='relu') )\n",
        "model.add( layers.MaxPooling2D((2, 2)) )\n",
        "\n",
        "model.add( layers.Conv2D(512, (4, 4), \n",
        "                        padding='same',\n",
        "                        activation='relu') )\n",
        "model.add( layers.Conv2D(512, (4, 4), \n",
        "                        padding='same',\n",
        "                        activation='relu') )\n",
        "model.add( layers.MaxPooling2D((2, 2)) )\n",
        "\n",
        "model.add( layers.Flatten() )\n",
        "model.add( layers.Dense(4096, activation='relu') )\n",
        "model.add( layers.Dense(4096, activation='relu') )\n",
        "model.add( layers.Dropout(0.2) )\n",
        "model.add( layers.Dense(10, activation='softmax') )\n",
        "\n",
        "# To correct some bug on input\n",
        "model = Model(model.input, model.output)\n",
        "\n",
        "optimizer = RMSprop(0.001)\n",
        "model.compile(optimizer = optimizer, \n",
        "              loss = 'categorical_crossentropy',\n",
        "              metrics = ['accuracy'])\n",
        "\n",
        "model.summary()"
      ]
    },
    {
      "cell_type": "code",
      "execution_count": 16,
      "metadata": {
        "id": "AxTpbjyjm_oI"
      },
      "outputs": [],
      "source": [
        "early_stopping = EarlyStopping(patience=20, restore_best_weights=True)\n",
        "\n",
        "model_checkpoint = ModelCheckpoint(filepath=\"model1\", save_best_only=True)\n",
        "\n",
        "num_train_steps = int(np.ceil(len(train_df)/batch_size))\n",
        "num_valid_steps = int(np.ceil(len(valid_df)/batch_size))"
      ]
    },
    {
      "cell_type": "code",
      "execution_count": 17,
      "metadata": {
        "id": "mYCzLnpI8ZaC"
      },
      "outputs": [],
      "source": [
        "epochs=100\n",
        "# epochs=5 # daniel"
      ]
    },
    {
      "cell_type": "code",
      "execution_count": 18,
      "metadata": {
        "colab": {
          "base_uri": "https://localhost:8080/"
        },
        "id": "G5c29rBSm_oI",
        "outputId": "23efd0db-6f1e-40e5-d79e-0a720d6b0a2a"
      },
      "outputs": [
        {
          "output_type": "stream",
          "name": "stdout",
          "text": [
            "Epoch 1/100\n",
            "18/18 [==============================] - ETA: 0s - batch: 8.5000 - size: 64.0000 - loss: 209242.5100 - accuracy: 0.1076"
          ]
        },
        {
          "output_type": "stream",
          "name": "stderr",
          "text": [
            "/usr/local/lib/python3.8/dist-packages/keras/engine/training_v1.py:2045: UserWarning: `Model.state_updates` will be removed in a future version. This property should not be used in TensorFlow 2.0, as `updates` are applied automatically.\n",
            "  updates = self.state_updates\n",
            "WARNING:absl:Found untraced functions such as _jit_compiled_convolution_op, _jit_compiled_convolution_op, _jit_compiled_convolution_op, _jit_compiled_convolution_op, _jit_compiled_convolution_op while saving (showing 5 of 6). These functions will not be directly callable after loading.\n"
          ]
        },
        {
          "output_type": "stream",
          "name": "stdout",
          "text": [
            "\b\b\b\b\b\b\b\b\b\b\b\b\b\b\b\b\b\b\b\b\b\b\b\b\b\b\b\b\b\b\b\b\b\b\b\b\b\b\b\b\b\b\b\b\b\b\b\b\b\b\b\b\b\b\b\b\b\b\b\b\b\b\b\b\b\b\b\b\b\b\b\b\b\b\b\b\b\b\b\b\b\b\b\b\b\b\b\b\b\b\b\b\b\b\b\b\b\b\b\b\b\b\b\b\b\b\b\b\b\b\b\b\b\b\b\b\b\b\b\r18/18 [==============================] - 46s 2s/step - batch: 8.5000 - size: 64.0000 - loss: 209242.5100 - accuracy: 0.1076 - val_loss: 2.3009 - val_accuracy: 0.1094\n",
            "Epoch 2/100\n",
            "18/18 [==============================] - 28s 2s/step - batch: 8.5000 - size: 64.0000 - loss: 2.3599 - accuracy: 0.1389 - val_loss: 2.3080 - val_accuracy: 0.1969\n",
            "Epoch 3/100\n",
            "18/18 [==============================] - ETA: 0s - batch: 8.5000 - size: 64.0000 - loss: 2.3359 - accuracy: 0.1458"
          ]
        },
        {
          "output_type": "stream",
          "name": "stderr",
          "text": [
            "WARNING:absl:Found untraced functions such as _jit_compiled_convolution_op, _jit_compiled_convolution_op, _jit_compiled_convolution_op, _jit_compiled_convolution_op, _jit_compiled_convolution_op while saving (showing 5 of 6). These functions will not be directly callable after loading.\n"
          ]
        },
        {
          "output_type": "stream",
          "name": "stdout",
          "text": [
            "\b\b\b\b\b\b\b\b\b\b\b\b\b\b\b\b\b\b\b\b\b\b\b\b\b\b\b\b\b\b\b\b\b\b\b\b\b\b\b\b\b\b\b\b\b\b\b\b\b\b\b\b\b\b\b\b\b\b\b\b\b\b\b\b\b\b\b\b\b\b\b\b\b\b\b\b\b\b\b\b\b\b\b\b\b\b\b\b\b\b\b\b\b\b\b\b\b\b\b\b\b\b\b\b\b\b\b\b\b\b\b\b\b\b\r18/18 [==============================] - 36s 2s/step - batch: 8.5000 - size: 64.0000 - loss: 2.3359 - accuracy: 0.1458 - val_loss: 2.2285 - val_accuracy: 0.1500\n",
            "Epoch 4/100\n",
            "18/18 [==============================] - ETA: 0s - batch: 8.5000 - size: 64.0000 - loss: 2.2859 - accuracy: 0.1988"
          ]
        },
        {
          "output_type": "stream",
          "name": "stderr",
          "text": [
            "WARNING:absl:Found untraced functions such as _jit_compiled_convolution_op, _jit_compiled_convolution_op, _jit_compiled_convolution_op, _jit_compiled_convolution_op, _jit_compiled_convolution_op while saving (showing 5 of 6). These functions will not be directly callable after loading.\n"
          ]
        },
        {
          "output_type": "stream",
          "name": "stdout",
          "text": [
            "\b\b\b\b\b\b\b\b\b\b\b\b\b\b\b\b\b\b\b\b\b\b\b\b\b\b\b\b\b\b\b\b\b\b\b\b\b\b\b\b\b\b\b\b\b\b\b\b\b\b\b\b\b\b\b\b\b\b\b\b\b\b\b\b\b\b\b\b\b\b\b\b\b\b\b\b\b\b\b\b\b\b\b\b\b\b\b\b\b\b\b\b\b\b\b\b\b\b\b\b\b\b\b\b\b\b\b\b\b\b\b\b\b\b\r18/18 [==============================] - 35s 2s/step - batch: 8.5000 - size: 64.0000 - loss: 2.2859 - accuracy: 0.1988 - val_loss: 2.1754 - val_accuracy: 0.2000\n",
            "Epoch 5/100\n",
            "18/18 [==============================] - 28s 2s/step - batch: 8.5000 - size: 64.0000 - loss: 3.5723 - accuracy: 0.1736 - val_loss: 2.2103 - val_accuracy: 0.1656\n",
            "Epoch 6/100\n",
            "18/18 [==============================] - 31s 2s/step - batch: 8.5000 - size: 64.0000 - loss: 2.2419 - accuracy: 0.2066 - val_loss: 2.1910 - val_accuracy: 0.1875\n",
            "Epoch 7/100\n",
            "18/18 [==============================] - ETA: 0s - batch: 8.5000 - size: 64.0000 - loss: 2.1563 - accuracy: 0.2214"
          ]
        },
        {
          "output_type": "stream",
          "name": "stderr",
          "text": [
            "WARNING:absl:Found untraced functions such as _jit_compiled_convolution_op, _jit_compiled_convolution_op, _jit_compiled_convolution_op, _jit_compiled_convolution_op, _jit_compiled_convolution_op while saving (showing 5 of 6). These functions will not be directly callable after loading.\n"
          ]
        },
        {
          "output_type": "stream",
          "name": "stdout",
          "text": [
            "\b\b\b\b\b\b\b\b\b\b\b\b\b\b\b\b\b\b\b\b\b\b\b\b\b\b\b\b\b\b\b\b\b\b\b\b\b\b\b\b\b\b\b\b\b\b\b\b\b\b\b\b\b\b\b\b\b\b\b\b\b\b\b\b\b\b\b\b\b\b\b\b\b\b\b\b\b\b\b\b\b\b\b\b\b\b\b\b\b\b\b\b\b\b\b\b\b\b\b\b\b\b\b\b\b\b\b\b\b\b\b\b\b\b\r18/18 [==============================] - 36s 2s/step - batch: 8.5000 - size: 64.0000 - loss: 2.1563 - accuracy: 0.2214 - val_loss: 2.1424 - val_accuracy: 0.2125\n",
            "Epoch 8/100\n",
            "18/18 [==============================] - 28s 2s/step - batch: 8.5000 - size: 64.0000 - loss: 3.3341 - accuracy: 0.1701 - val_loss: 2.3609 - val_accuracy: 0.1406\n",
            "Epoch 9/100\n",
            "18/18 [==============================] - 31s 2s/step - batch: 8.5000 - size: 64.0000 - loss: 2.2629 - accuracy: 0.1944 - val_loss: 2.2184 - val_accuracy: 0.1750\n",
            "Epoch 10/100\n",
            "18/18 [==============================] - 31s 2s/step - batch: 8.5000 - size: 64.0000 - loss: 3.7722 - accuracy: 0.1380 - val_loss: 2.2355 - val_accuracy: 0.1437\n",
            "Epoch 11/100\n",
            "18/18 [==============================] - 31s 2s/step - batch: 8.5000 - size: 64.0000 - loss: 2.2048 - accuracy: 0.1953 - val_loss: 2.7590 - val_accuracy: 0.1906\n",
            "Epoch 12/100\n",
            "18/18 [==============================] - 31s 2s/step - batch: 8.5000 - size: 64.0000 - loss: 2.2399 - accuracy: 0.2049 - val_loss: 2.1807 - val_accuracy: 0.1281\n",
            "Epoch 13/100\n",
            "18/18 [==============================] - 31s 2s/step - batch: 8.5000 - size: 64.0000 - loss: 4.0024 - accuracy: 0.1424 - val_loss: 2.2982 - val_accuracy: 0.1219\n",
            "Epoch 14/100\n",
            "18/18 [==============================] - 31s 2s/step - batch: 8.5000 - size: 64.0000 - loss: 2.9397 - accuracy: 0.1528 - val_loss: 2.2343 - val_accuracy: 0.1625\n",
            "Epoch 15/100\n",
            "18/18 [==============================] - 32s 2s/step - batch: 8.5000 - size: 64.0000 - loss: 2.3066 - accuracy: 0.1970 - val_loss: 2.5154 - val_accuracy: 0.0812\n",
            "Epoch 16/100\n",
            "18/18 [==============================] - 31s 2s/step - batch: 8.5000 - size: 64.0000 - loss: 2.5025 - accuracy: 0.1667 - val_loss: 2.5553 - val_accuracy: 0.1594\n",
            "Epoch 17/100\n",
            "18/18 [==============================] - 31s 2s/step - batch: 8.5000 - size: 64.0000 - loss: 2.6003 - accuracy: 0.1450 - val_loss: 2.2898 - val_accuracy: 0.1656\n",
            "Epoch 18/100\n",
            "18/18 [==============================] - 31s 2s/step - batch: 8.5000 - size: 64.0000 - loss: 2.8712 - accuracy: 0.1693 - val_loss: 2.2986 - val_accuracy: 0.1250\n",
            "Epoch 19/100\n",
            "18/18 [==============================] - 31s 2s/step - batch: 8.5000 - size: 64.0000 - loss: 2.6150 - accuracy: 0.1120 - val_loss: 2.3164 - val_accuracy: 0.1344\n",
            "Epoch 20/100\n",
            "18/18 [==============================] - 31s 2s/step - batch: 8.5000 - size: 64.0000 - loss: 2.3788 - accuracy: 0.1276 - val_loss: 2.3027 - val_accuracy: 0.1594\n",
            "Epoch 21/100\n",
            "18/18 [==============================] - 31s 2s/step - batch: 8.5000 - size: 64.0000 - loss: 2.4071 - accuracy: 0.1597 - val_loss: 2.3016 - val_accuracy: 0.1125\n",
            "Epoch 22/100\n",
            "18/18 [==============================] - 31s 2s/step - batch: 8.5000 - size: 64.0000 - loss: 2.5259 - accuracy: 0.1146 - val_loss: 2.2500 - val_accuracy: 0.1937\n",
            "Epoch 23/100\n",
            "18/18 [==============================] - 31s 2s/step - batch: 8.5000 - size: 64.0000 - loss: 3.3429 - accuracy: 0.1467 - val_loss: 2.3481 - val_accuracy: 0.0906\n",
            "Epoch 24/100\n",
            "18/18 [==============================] - 31s 2s/step - batch: 8.5000 - size: 64.0000 - loss: 2.3052 - accuracy: 0.1467 - val_loss: 2.2877 - val_accuracy: 0.1500\n",
            "Epoch 25/100\n",
            "18/18 [==============================] - 31s 2s/step - batch: 8.5000 - size: 64.0000 - loss: 3.7137 - accuracy: 0.1606 - val_loss: 2.2168 - val_accuracy: 0.1844\n",
            "Epoch 26/100\n",
            "18/18 [==============================] - 31s 2s/step - batch: 8.5000 - size: 64.0000 - loss: 3.6079 - accuracy: 0.1562 - val_loss: 2.2898 - val_accuracy: 0.1531\n",
            "Epoch 27/100\n",
            "18/18 [==============================] - 31s 2s/step - batch: 8.5000 - size: 64.0000 - loss: 2.3020 - accuracy: 0.1788 - val_loss: 2.3358 - val_accuracy: 0.1125\n",
            "CPU times: user 25min 21s, sys: 4min 36s, total: 29min 57s\n",
            "Wall time: 14min 26s\n"
          ]
        }
      ],
      "source": [
        "%%time\n",
        "\n",
        "# train the model \n",
        "history1 = model.fit(train_data_gen, \n",
        "                              epochs = epochs, \n",
        "                              steps_per_epoch = num_train_steps, \n",
        "                              validation_data = valid_data_gen, \n",
        "                              validation_steps = num_valid_steps,\n",
        "                              callbacks = [early_stopping, model_checkpoint])"
      ]
    },
    {
      "cell_type": "code",
      "execution_count": 19,
      "metadata": {
        "id": "Qhkb7xSA6m5s",
        "outputId": "6ccbabf6-8ca4-4bd5-c7c2-79d741224875",
        "colab": {
          "base_uri": "https://localhost:8080/"
        }
      },
      "outputs": [
        {
          "output_type": "execute_result",
          "data": {
            "text/plain": [
              "dict_keys(['loss', 'accuracy', 'val_loss', 'val_accuracy'])"
            ]
          },
          "metadata": {},
          "execution_count": 19
        }
      ],
      "source": [
        "history1.history.keys()"
      ]
    },
    {
      "cell_type": "code",
      "execution_count": 20,
      "metadata": {
        "id": "5-IB0o62m_oJ",
        "colab": {
          "base_uri": "https://localhost:8080/",
          "height": 463
        },
        "outputId": "e1db39e5-6912-45d5-e8c2-913b0765be05"
      },
      "outputs": [
        {
          "output_type": "display_data",
          "data": {
            "text/plain": [
              "<Figure size 720x360 with 2 Axes>"
            ],
            "image/svg+xml": "<?xml version=\"1.0\" encoding=\"utf-8\" standalone=\"no\"?>\n<!DOCTYPE svg PUBLIC \"-//W3C//DTD SVG 1.1//EN\"\n  \"http://www.w3.org/Graphics/SVG/1.1/DTD/svg11.dtd\">\n<!-- Created with matplotlib (https://matplotlib.org/) -->\n<svg height=\"331.674375pt\" version=\"1.1\" viewBox=\"0 0 631.253125 331.674375\" width=\"631.253125pt\" xmlns=\"http://www.w3.org/2000/svg\" xmlns:xlink=\"http://www.w3.org/1999/xlink\">\n <defs>\n  <style type=\"text/css\">\n*{stroke-linecap:butt;stroke-linejoin:round;}\n  </style>\n </defs>\n <g id=\"figure_1\">\n  <g id=\"patch_1\">\n   <path d=\"M 0 331.674375 \nL 631.253125 331.674375 \nL 631.253125 0 \nL 0 0 \nz\n\" style=\"fill:none;\"/>\n  </g>\n  <g id=\"axes_1\">\n   <g id=\"patch_2\">\n    <path d=\"M 66.053125 294.118125 \nL 319.689489 294.118125 \nL 319.689489 22.318125 \nL 66.053125 22.318125 \nz\n\" style=\"fill:#ffffff;\"/>\n   </g>\n   <g id=\"matplotlib.axis_1\">\n    <g id=\"xtick_1\">\n     <g id=\"line2d_1\">\n      <defs>\n       <path d=\"M 0 0 \nL 0 3.5 \n\" id=\"m32aadfc2ac\" style=\"stroke:#000000;stroke-width:0.8;\"/>\n      </defs>\n      <g>\n       <use style=\"stroke:#000000;stroke-width:0.8;\" x=\"77.582051\" xlink:href=\"#m32aadfc2ac\" y=\"294.118125\"/>\n      </g>\n     </g>\n     <g id=\"text_1\">\n      <!-- 0 -->\n      <defs>\n       <path d=\"M 31.78125 66.40625 \nQ 24.171875 66.40625 20.328125 58.90625 \nQ 16.5 51.421875 16.5 36.375 \nQ 16.5 21.390625 20.328125 13.890625 \nQ 24.171875 6.390625 31.78125 6.390625 \nQ 39.453125 6.390625 43.28125 13.890625 \nQ 47.125 21.390625 47.125 36.375 \nQ 47.125 51.421875 43.28125 58.90625 \nQ 39.453125 66.40625 31.78125 66.40625 \nz\nM 31.78125 74.21875 \nQ 44.046875 74.21875 50.515625 64.515625 \nQ 56.984375 54.828125 56.984375 36.375 \nQ 56.984375 17.96875 50.515625 8.265625 \nQ 44.046875 -1.421875 31.78125 -1.421875 \nQ 19.53125 -1.421875 13.0625 8.265625 \nQ 6.59375 17.96875 6.59375 36.375 \nQ 6.59375 54.828125 13.0625 64.515625 \nQ 19.53125 74.21875 31.78125 74.21875 \nz\n\" id=\"DejaVuSans-48\"/>\n      </defs>\n      <g transform=\"translate(74.400801 308.716563)scale(0.1 -0.1)\">\n       <use xlink:href=\"#DejaVuSans-48\"/>\n      </g>\n     </g>\n    </g>\n    <g id=\"xtick_2\">\n     <g id=\"line2d_2\">\n      <g>\n       <use style=\"stroke:#000000;stroke-width:0.8;\" x=\"121.924072\" xlink:href=\"#m32aadfc2ac\" y=\"294.118125\"/>\n      </g>\n     </g>\n     <g id=\"text_2\">\n      <!-- 5 -->\n      <defs>\n       <path d=\"M 10.796875 72.90625 \nL 49.515625 72.90625 \nL 49.515625 64.59375 \nL 19.828125 64.59375 \nL 19.828125 46.734375 \nQ 21.96875 47.46875 24.109375 47.828125 \nQ 26.265625 48.1875 28.421875 48.1875 \nQ 40.625 48.1875 47.75 41.5 \nQ 54.890625 34.8125 54.890625 23.390625 \nQ 54.890625 11.625 47.5625 5.09375 \nQ 40.234375 -1.421875 26.90625 -1.421875 \nQ 22.3125 -1.421875 17.546875 -0.640625 \nQ 12.796875 0.140625 7.71875 1.703125 \nL 7.71875 11.625 \nQ 12.109375 9.234375 16.796875 8.0625 \nQ 21.484375 6.890625 26.703125 6.890625 \nQ 35.15625 6.890625 40.078125 11.328125 \nQ 45.015625 15.765625 45.015625 23.390625 \nQ 45.015625 31 40.078125 35.4375 \nQ 35.15625 39.890625 26.703125 39.890625 \nQ 22.75 39.890625 18.8125 39.015625 \nQ 14.890625 38.140625 10.796875 36.28125 \nz\n\" id=\"DejaVuSans-53\"/>\n      </defs>\n      <g transform=\"translate(118.742822 308.716563)scale(0.1 -0.1)\">\n       <use xlink:href=\"#DejaVuSans-53\"/>\n      </g>\n     </g>\n    </g>\n    <g id=\"xtick_3\">\n     <g id=\"line2d_3\">\n      <g>\n       <use style=\"stroke:#000000;stroke-width:0.8;\" x=\"166.266094\" xlink:href=\"#m32aadfc2ac\" y=\"294.118125\"/>\n      </g>\n     </g>\n     <g id=\"text_3\">\n      <!-- 10 -->\n      <defs>\n       <path d=\"M 12.40625 8.296875 \nL 28.515625 8.296875 \nL 28.515625 63.921875 \nL 10.984375 60.40625 \nL 10.984375 69.390625 \nL 28.421875 72.90625 \nL 38.28125 72.90625 \nL 38.28125 8.296875 \nL 54.390625 8.296875 \nL 54.390625 0 \nL 12.40625 0 \nz\n\" id=\"DejaVuSans-49\"/>\n      </defs>\n      <g transform=\"translate(159.903594 308.716563)scale(0.1 -0.1)\">\n       <use xlink:href=\"#DejaVuSans-49\"/>\n       <use x=\"63.623047\" xlink:href=\"#DejaVuSans-48\"/>\n      </g>\n     </g>\n    </g>\n    <g id=\"xtick_4\">\n     <g id=\"line2d_4\">\n      <g>\n       <use style=\"stroke:#000000;stroke-width:0.8;\" x=\"210.608115\" xlink:href=\"#m32aadfc2ac\" y=\"294.118125\"/>\n      </g>\n     </g>\n     <g id=\"text_4\">\n      <!-- 15 -->\n      <g transform=\"translate(204.245615 308.716563)scale(0.1 -0.1)\">\n       <use xlink:href=\"#DejaVuSans-49\"/>\n       <use x=\"63.623047\" xlink:href=\"#DejaVuSans-53\"/>\n      </g>\n     </g>\n    </g>\n    <g id=\"xtick_5\">\n     <g id=\"line2d_5\">\n      <g>\n       <use style=\"stroke:#000000;stroke-width:0.8;\" x=\"254.950137\" xlink:href=\"#m32aadfc2ac\" y=\"294.118125\"/>\n      </g>\n     </g>\n     <g id=\"text_5\">\n      <!-- 20 -->\n      <defs>\n       <path d=\"M 19.1875 8.296875 \nL 53.609375 8.296875 \nL 53.609375 0 \nL 7.328125 0 \nL 7.328125 8.296875 \nQ 12.9375 14.109375 22.625 23.890625 \nQ 32.328125 33.6875 34.8125 36.53125 \nQ 39.546875 41.84375 41.421875 45.53125 \nQ 43.3125 49.21875 43.3125 52.78125 \nQ 43.3125 58.59375 39.234375 62.25 \nQ 35.15625 65.921875 28.609375 65.921875 \nQ 23.96875 65.921875 18.8125 64.3125 \nQ 13.671875 62.703125 7.8125 59.421875 \nL 7.8125 69.390625 \nQ 13.765625 71.78125 18.9375 73 \nQ 24.125 74.21875 28.421875 74.21875 \nQ 39.75 74.21875 46.484375 68.546875 \nQ 53.21875 62.890625 53.21875 53.421875 \nQ 53.21875 48.921875 51.53125 44.890625 \nQ 49.859375 40.875 45.40625 35.40625 \nQ 44.1875 33.984375 37.640625 27.21875 \nQ 31.109375 20.453125 19.1875 8.296875 \nz\n\" id=\"DejaVuSans-50\"/>\n      </defs>\n      <g transform=\"translate(248.587637 308.716563)scale(0.1 -0.1)\">\n       <use xlink:href=\"#DejaVuSans-50\"/>\n       <use x=\"63.623047\" xlink:href=\"#DejaVuSans-48\"/>\n      </g>\n     </g>\n    </g>\n    <g id=\"xtick_6\">\n     <g id=\"line2d_6\">\n      <g>\n       <use style=\"stroke:#000000;stroke-width:0.8;\" x=\"299.292159\" xlink:href=\"#m32aadfc2ac\" y=\"294.118125\"/>\n      </g>\n     </g>\n     <g id=\"text_6\">\n      <!-- 25 -->\n      <g transform=\"translate(292.929659 308.716563)scale(0.1 -0.1)\">\n       <use xlink:href=\"#DejaVuSans-50\"/>\n       <use x=\"63.623047\" xlink:href=\"#DejaVuSans-53\"/>\n      </g>\n     </g>\n    </g>\n    <g id=\"text_7\">\n     <!-- Epoch -->\n     <defs>\n      <path d=\"M 9.8125 72.90625 \nL 55.90625 72.90625 \nL 55.90625 64.59375 \nL 19.671875 64.59375 \nL 19.671875 43.015625 \nL 54.390625 43.015625 \nL 54.390625 34.71875 \nL 19.671875 34.71875 \nL 19.671875 8.296875 \nL 56.78125 8.296875 \nL 56.78125 0 \nL 9.8125 0 \nz\n\" id=\"DejaVuSans-69\"/>\n      <path d=\"M 18.109375 8.203125 \nL 18.109375 -20.796875 \nL 9.078125 -20.796875 \nL 9.078125 54.6875 \nL 18.109375 54.6875 \nL 18.109375 46.390625 \nQ 20.953125 51.265625 25.265625 53.625 \nQ 29.59375 56 35.59375 56 \nQ 45.5625 56 51.78125 48.09375 \nQ 58.015625 40.1875 58.015625 27.296875 \nQ 58.015625 14.40625 51.78125 6.484375 \nQ 45.5625 -1.421875 35.59375 -1.421875 \nQ 29.59375 -1.421875 25.265625 0.953125 \nQ 20.953125 3.328125 18.109375 8.203125 \nz\nM 48.6875 27.296875 \nQ 48.6875 37.203125 44.609375 42.84375 \nQ 40.53125 48.484375 33.40625 48.484375 \nQ 26.265625 48.484375 22.1875 42.84375 \nQ 18.109375 37.203125 18.109375 27.296875 \nQ 18.109375 17.390625 22.1875 11.75 \nQ 26.265625 6.109375 33.40625 6.109375 \nQ 40.53125 6.109375 44.609375 11.75 \nQ 48.6875 17.390625 48.6875 27.296875 \nz\n\" id=\"DejaVuSans-112\"/>\n      <path d=\"M 30.609375 48.390625 \nQ 23.390625 48.390625 19.1875 42.75 \nQ 14.984375 37.109375 14.984375 27.296875 \nQ 14.984375 17.484375 19.15625 11.84375 \nQ 23.34375 6.203125 30.609375 6.203125 \nQ 37.796875 6.203125 41.984375 11.859375 \nQ 46.1875 17.53125 46.1875 27.296875 \nQ 46.1875 37.015625 41.984375 42.703125 \nQ 37.796875 48.390625 30.609375 48.390625 \nz\nM 30.609375 56 \nQ 42.328125 56 49.015625 48.375 \nQ 55.71875 40.765625 55.71875 27.296875 \nQ 55.71875 13.875 49.015625 6.21875 \nQ 42.328125 -1.421875 30.609375 -1.421875 \nQ 18.84375 -1.421875 12.171875 6.21875 \nQ 5.515625 13.875 5.515625 27.296875 \nQ 5.515625 40.765625 12.171875 48.375 \nQ 18.84375 56 30.609375 56 \nz\n\" id=\"DejaVuSans-111\"/>\n      <path d=\"M 48.78125 52.59375 \nL 48.78125 44.1875 \nQ 44.96875 46.296875 41.140625 47.34375 \nQ 37.3125 48.390625 33.40625 48.390625 \nQ 24.65625 48.390625 19.8125 42.84375 \nQ 14.984375 37.3125 14.984375 27.296875 \nQ 14.984375 17.28125 19.8125 11.734375 \nQ 24.65625 6.203125 33.40625 6.203125 \nQ 37.3125 6.203125 41.140625 7.25 \nQ 44.96875 8.296875 48.78125 10.40625 \nL 48.78125 2.09375 \nQ 45.015625 0.34375 40.984375 -0.53125 \nQ 36.96875 -1.421875 32.421875 -1.421875 \nQ 20.0625 -1.421875 12.78125 6.34375 \nQ 5.515625 14.109375 5.515625 27.296875 \nQ 5.515625 40.671875 12.859375 48.328125 \nQ 20.21875 56 33.015625 56 \nQ 37.15625 56 41.109375 55.140625 \nQ 45.0625 54.296875 48.78125 52.59375 \nz\n\" id=\"DejaVuSans-99\"/>\n      <path d=\"M 54.890625 33.015625 \nL 54.890625 0 \nL 45.90625 0 \nL 45.90625 32.71875 \nQ 45.90625 40.484375 42.875 44.328125 \nQ 39.84375 48.1875 33.796875 48.1875 \nQ 26.515625 48.1875 22.3125 43.546875 \nQ 18.109375 38.921875 18.109375 30.90625 \nL 18.109375 0 \nL 9.078125 0 \nL 9.078125 75.984375 \nL 18.109375 75.984375 \nL 18.109375 46.1875 \nQ 21.34375 51.125 25.703125 53.5625 \nQ 30.078125 56 35.796875 56 \nQ 45.21875 56 50.046875 50.171875 \nQ 54.890625 44.34375 54.890625 33.015625 \nz\n\" id=\"DejaVuSans-104\"/>\n     </defs>\n     <g transform=\"translate(177.560369 322.394687)scale(0.1 -0.1)\">\n      <use xlink:href=\"#DejaVuSans-69\"/>\n      <use x=\"63.183594\" xlink:href=\"#DejaVuSans-112\"/>\n      <use x=\"126.660156\" xlink:href=\"#DejaVuSans-111\"/>\n      <use x=\"187.841797\" xlink:href=\"#DejaVuSans-99\"/>\n      <use x=\"242.822266\" xlink:href=\"#DejaVuSans-104\"/>\n     </g>\n    </g>\n   </g>\n   <g id=\"matplotlib.axis_2\">\n    <g id=\"ytick_1\">\n     <g id=\"line2d_7\">\n      <defs>\n       <path d=\"M 0 0 \nL -3.5 0 \n\" id=\"m3c77834688\" style=\"stroke:#000000;stroke-width:0.8;\"/>\n      </defs>\n      <g>\n       <use style=\"stroke:#000000;stroke-width:0.8;\" x=\"66.053125\" xlink:href=\"#m3c77834688\" y=\"281.766109\"/>\n      </g>\n     </g>\n     <g id=\"text_8\">\n      <!-- 0 -->\n      <g transform=\"translate(52.690625 285.565328)scale(0.1 -0.1)\">\n       <use xlink:href=\"#DejaVuSans-48\"/>\n      </g>\n     </g>\n    </g>\n    <g id=\"ytick_2\">\n     <g id=\"line2d_8\">\n      <g>\n       <use style=\"stroke:#000000;stroke-width:0.8;\" x=\"66.053125\" xlink:href=\"#m3c77834688\" y=\"222.721358\"/>\n      </g>\n     </g>\n     <g id=\"text_9\">\n      <!-- 50000 -->\n      <g transform=\"translate(27.240625 226.520577)scale(0.1 -0.1)\">\n       <use xlink:href=\"#DejaVuSans-53\"/>\n       <use x=\"63.623047\" xlink:href=\"#DejaVuSans-48\"/>\n       <use x=\"127.246094\" xlink:href=\"#DejaVuSans-48\"/>\n       <use x=\"190.869141\" xlink:href=\"#DejaVuSans-48\"/>\n       <use x=\"254.492188\" xlink:href=\"#DejaVuSans-48\"/>\n      </g>\n     </g>\n    </g>\n    <g id=\"ytick_3\">\n     <g id=\"line2d_9\">\n      <g>\n       <use style=\"stroke:#000000;stroke-width:0.8;\" x=\"66.053125\" xlink:href=\"#m3c77834688\" y=\"163.676607\"/>\n      </g>\n     </g>\n     <g id=\"text_10\">\n      <!-- 100000 -->\n      <g transform=\"translate(20.878125 167.475826)scale(0.1 -0.1)\">\n       <use xlink:href=\"#DejaVuSans-49\"/>\n       <use x=\"63.623047\" xlink:href=\"#DejaVuSans-48\"/>\n       <use x=\"127.246094\" xlink:href=\"#DejaVuSans-48\"/>\n       <use x=\"190.869141\" xlink:href=\"#DejaVuSans-48\"/>\n       <use x=\"254.492188\" xlink:href=\"#DejaVuSans-48\"/>\n       <use x=\"318.115234\" xlink:href=\"#DejaVuSans-48\"/>\n      </g>\n     </g>\n    </g>\n    <g id=\"ytick_4\">\n     <g id=\"line2d_10\">\n      <g>\n       <use style=\"stroke:#000000;stroke-width:0.8;\" x=\"66.053125\" xlink:href=\"#m3c77834688\" y=\"104.631856\"/>\n      </g>\n     </g>\n     <g id=\"text_11\">\n      <!-- 150000 -->\n      <g transform=\"translate(20.878125 108.431075)scale(0.1 -0.1)\">\n       <use xlink:href=\"#DejaVuSans-49\"/>\n       <use x=\"63.623047\" xlink:href=\"#DejaVuSans-53\"/>\n       <use x=\"127.246094\" xlink:href=\"#DejaVuSans-48\"/>\n       <use x=\"190.869141\" xlink:href=\"#DejaVuSans-48\"/>\n       <use x=\"254.492188\" xlink:href=\"#DejaVuSans-48\"/>\n       <use x=\"318.115234\" xlink:href=\"#DejaVuSans-48\"/>\n      </g>\n     </g>\n    </g>\n    <g id=\"ytick_5\">\n     <g id=\"line2d_11\">\n      <g>\n       <use style=\"stroke:#000000;stroke-width:0.8;\" x=\"66.053125\" xlink:href=\"#m3c77834688\" y=\"45.587105\"/>\n      </g>\n     </g>\n     <g id=\"text_12\">\n      <!-- 200000 -->\n      <g transform=\"translate(20.878125 49.386323)scale(0.1 -0.1)\">\n       <use xlink:href=\"#DejaVuSans-50\"/>\n       <use x=\"63.623047\" xlink:href=\"#DejaVuSans-48\"/>\n       <use x=\"127.246094\" xlink:href=\"#DejaVuSans-48\"/>\n       <use x=\"190.869141\" xlink:href=\"#DejaVuSans-48\"/>\n       <use x=\"254.492188\" xlink:href=\"#DejaVuSans-48\"/>\n       <use x=\"318.115234\" xlink:href=\"#DejaVuSans-48\"/>\n      </g>\n     </g>\n    </g>\n    <g id=\"text_13\">\n     <!-- loss -->\n     <defs>\n      <path d=\"M 9.421875 75.984375 \nL 18.40625 75.984375 \nL 18.40625 0 \nL 9.421875 0 \nz\n\" id=\"DejaVuSans-108\"/>\n      <path d=\"M 44.28125 53.078125 \nL 44.28125 44.578125 \nQ 40.484375 46.53125 36.375 47.5 \nQ 32.28125 48.484375 27.875 48.484375 \nQ 21.1875 48.484375 17.84375 46.4375 \nQ 14.5 44.390625 14.5 40.28125 \nQ 14.5 37.15625 16.890625 35.375 \nQ 19.28125 33.59375 26.515625 31.984375 \nL 29.59375 31.296875 \nQ 39.15625 29.25 43.1875 25.515625 \nQ 47.21875 21.78125 47.21875 15.09375 \nQ 47.21875 7.46875 41.1875 3.015625 \nQ 35.15625 -1.421875 24.609375 -1.421875 \nQ 20.21875 -1.421875 15.453125 -0.5625 \nQ 10.6875 0.296875 5.421875 2 \nL 5.421875 11.28125 \nQ 10.40625 8.6875 15.234375 7.390625 \nQ 20.0625 6.109375 24.8125 6.109375 \nQ 31.15625 6.109375 34.5625 8.28125 \nQ 37.984375 10.453125 37.984375 14.40625 \nQ 37.984375 18.0625 35.515625 20.015625 \nQ 33.0625 21.96875 24.703125 23.78125 \nL 21.578125 24.515625 \nQ 13.234375 26.265625 9.515625 29.90625 \nQ 5.8125 33.546875 5.8125 39.890625 \nQ 5.8125 47.609375 11.28125 51.796875 \nQ 16.75 56 26.8125 56 \nQ 31.78125 56 36.171875 55.265625 \nQ 40.578125 54.546875 44.28125 53.078125 \nz\n\" id=\"DejaVuSans-115\"/>\n     </defs>\n     <g transform=\"translate(14.798438 167.875938)rotate(-90)scale(0.1 -0.1)\">\n      <use xlink:href=\"#DejaVuSans-108\"/>\n      <use x=\"27.783203\" xlink:href=\"#DejaVuSans-111\"/>\n      <use x=\"88.964844\" xlink:href=\"#DejaVuSans-115\"/>\n      <use x=\"141.064453\" xlink:href=\"#DejaVuSans-115\"/>\n     </g>\n    </g>\n   </g>\n   <g id=\"line2d_12\">\n    <path clip-path=\"url(#p9d7c53880f)\" d=\"M 77.582051 34.67267 \nL 86.450455 281.763323 \nL 95.318859 281.763351 \nL 104.187264 281.76341 \nL 113.055668 281.761891 \nL 121.924072 281.763462 \nL 130.792477 281.763563 \nL 139.660881 281.762172 \nL 148.529285 281.763437 \nL 157.39769 281.761655 \nL 166.266094 281.763506 \nL 175.134498 281.763464 \nL 184.002902 281.761383 \nL 192.871307 281.762638 \nL 201.739711 281.763386 \nL 210.608115 281.763154 \nL 219.47652 281.763039 \nL 228.344924 281.762719 \nL 237.213328 281.763021 \nL 246.081733 281.7633 \nL 254.950137 281.763267 \nL 263.818541 281.763127 \nL 272.686946 281.762162 \nL 281.55535 281.763387 \nL 290.423754 281.761724 \nL 299.292159 281.761849 \nL 308.160563 281.763391 \n\" style=\"fill:none;stroke:#1f77b4;stroke-linecap:square;stroke-width:1.5;\"/>\n   </g>\n   <g id=\"line2d_13\">\n    <path clip-path=\"url(#p9d7c53880f)\" d=\"M 77.582051 281.763392 \nL 86.450455 281.763384 \nL 95.318859 281.763478 \nL 104.187264 281.763541 \nL 113.055668 281.763499 \nL 121.924072 281.763522 \nL 130.792477 281.76358 \nL 139.660881 281.763321 \nL 148.529285 281.76349 \nL 157.39769 281.76347 \nL 166.266094 281.762851 \nL 175.134498 281.763534 \nL 184.002902 281.763396 \nL 192.871307 281.763471 \nL 201.739711 281.763139 \nL 210.608115 281.763092 \nL 219.47652 281.763406 \nL 228.344924 281.763395 \nL 237.213328 281.763374 \nL 246.081733 281.76339 \nL 254.950137 281.763392 \nL 263.818541 281.763452 \nL 272.686946 281.763337 \nL 281.55535 281.763408 \nL 290.423754 281.763492 \nL 299.292159 281.763405 \nL 308.160563 281.763351 \n\" style=\"fill:none;stroke:#ff7f0e;stroke-linecap:square;stroke-width:1.5;\"/>\n   </g>\n   <g id=\"patch_3\">\n    <path d=\"M 66.053125 294.118125 \nL 66.053125 22.318125 \n\" style=\"fill:none;stroke:#000000;stroke-linecap:square;stroke-linejoin:miter;stroke-width:0.8;\"/>\n   </g>\n   <g id=\"patch_4\">\n    <path d=\"M 319.689489 294.118125 \nL 319.689489 22.318125 \n\" style=\"fill:none;stroke:#000000;stroke-linecap:square;stroke-linejoin:miter;stroke-width:0.8;\"/>\n   </g>\n   <g id=\"patch_5\">\n    <path d=\"M 66.053125 294.118125 \nL 319.689489 294.118125 \n\" style=\"fill:none;stroke:#000000;stroke-linecap:square;stroke-linejoin:miter;stroke-width:0.8;\"/>\n   </g>\n   <g id=\"patch_6\">\n    <path d=\"M 66.053125 22.318125 \nL 319.689489 22.318125 \n\" style=\"fill:none;stroke:#000000;stroke-linecap:square;stroke-linejoin:miter;stroke-width:0.8;\"/>\n   </g>\n   <g id=\"text_14\">\n    <!-- Loss curve -->\n    <defs>\n     <path d=\"M 9.8125 72.90625 \nL 19.671875 72.90625 \nL 19.671875 8.296875 \nL 55.171875 8.296875 \nL 55.171875 0 \nL 9.8125 0 \nz\n\" id=\"DejaVuSans-76\"/>\n     <path id=\"DejaVuSans-32\"/>\n     <path d=\"M 8.5 21.578125 \nL 8.5 54.6875 \nL 17.484375 54.6875 \nL 17.484375 21.921875 \nQ 17.484375 14.15625 20.5 10.265625 \nQ 23.53125 6.390625 29.59375 6.390625 \nQ 36.859375 6.390625 41.078125 11.03125 \nQ 45.3125 15.671875 45.3125 23.6875 \nL 45.3125 54.6875 \nL 54.296875 54.6875 \nL 54.296875 0 \nL 45.3125 0 \nL 45.3125 8.40625 \nQ 42.046875 3.421875 37.71875 1 \nQ 33.40625 -1.421875 27.6875 -1.421875 \nQ 18.265625 -1.421875 13.375 4.4375 \nQ 8.5 10.296875 8.5 21.578125 \nz\nM 31.109375 56 \nz\n\" id=\"DejaVuSans-117\"/>\n     <path d=\"M 41.109375 46.296875 \nQ 39.59375 47.171875 37.8125 47.578125 \nQ 36.03125 48 33.890625 48 \nQ 26.265625 48 22.1875 43.046875 \nQ 18.109375 38.09375 18.109375 28.8125 \nL 18.109375 0 \nL 9.078125 0 \nL 9.078125 54.6875 \nL 18.109375 54.6875 \nL 18.109375 46.1875 \nQ 20.953125 51.171875 25.484375 53.578125 \nQ 30.03125 56 36.53125 56 \nQ 37.453125 56 38.578125 55.875 \nQ 39.703125 55.765625 41.0625 55.515625 \nz\n\" id=\"DejaVuSans-114\"/>\n     <path d=\"M 2.984375 54.6875 \nL 12.5 54.6875 \nL 29.59375 8.796875 \nL 46.6875 54.6875 \nL 56.203125 54.6875 \nL 35.6875 0 \nL 23.484375 0 \nz\n\" id=\"DejaVuSans-118\"/>\n     <path d=\"M 56.203125 29.59375 \nL 56.203125 25.203125 \nL 14.890625 25.203125 \nQ 15.484375 15.921875 20.484375 11.0625 \nQ 25.484375 6.203125 34.421875 6.203125 \nQ 39.59375 6.203125 44.453125 7.46875 \nQ 49.3125 8.734375 54.109375 11.28125 \nL 54.109375 2.78125 \nQ 49.265625 0.734375 44.1875 -0.34375 \nQ 39.109375 -1.421875 33.890625 -1.421875 \nQ 20.796875 -1.421875 13.15625 6.1875 \nQ 5.515625 13.8125 5.515625 26.8125 \nQ 5.515625 40.234375 12.765625 48.109375 \nQ 20.015625 56 32.328125 56 \nQ 43.359375 56 49.78125 48.890625 \nQ 56.203125 41.796875 56.203125 29.59375 \nz\nM 47.21875 32.234375 \nQ 47.125 39.59375 43.09375 43.984375 \nQ 39.0625 48.390625 32.421875 48.390625 \nQ 24.90625 48.390625 20.390625 44.140625 \nQ 15.875 39.890625 15.1875 32.171875 \nz\n\" id=\"DejaVuSans-101\"/>\n    </defs>\n    <g transform=\"translate(160.992557 16.318125)scale(0.12 -0.12)\">\n     <use xlink:href=\"#DejaVuSans-76\"/>\n     <use x=\"53.962891\" xlink:href=\"#DejaVuSans-111\"/>\n     <use x=\"115.144531\" xlink:href=\"#DejaVuSans-115\"/>\n     <use x=\"167.244141\" xlink:href=\"#DejaVuSans-115\"/>\n     <use x=\"219.34375\" xlink:href=\"#DejaVuSans-32\"/>\n     <use x=\"251.130859\" xlink:href=\"#DejaVuSans-99\"/>\n     <use x=\"306.111328\" xlink:href=\"#DejaVuSans-117\"/>\n     <use x=\"369.490234\" xlink:href=\"#DejaVuSans-114\"/>\n     <use x=\"410.603516\" xlink:href=\"#DejaVuSans-118\"/>\n     <use x=\"469.783203\" xlink:href=\"#DejaVuSans-101\"/>\n    </g>\n   </g>\n   <g id=\"legend_1\">\n    <g id=\"patch_7\">\n     <path d=\"M 231.455114 59.674375 \nL 312.689489 59.674375 \nQ 314.689489 59.674375 314.689489 57.674375 \nL 314.689489 29.318125 \nQ 314.689489 27.318125 312.689489 27.318125 \nL 231.455114 27.318125 \nQ 229.455114 27.318125 229.455114 29.318125 \nL 229.455114 57.674375 \nQ 229.455114 59.674375 231.455114 59.674375 \nz\n\" style=\"fill:#ffffff;opacity:0.8;stroke:#cccccc;stroke-linejoin:miter;\"/>\n    </g>\n    <g id=\"line2d_14\">\n     <path d=\"M 233.455114 35.416562 \nL 253.455114 35.416562 \n\" style=\"fill:none;stroke:#1f77b4;stroke-linecap:square;stroke-width:1.5;\"/>\n    </g>\n    <g id=\"line2d_15\"/>\n    <g id=\"text_15\">\n     <!-- train -->\n     <defs>\n      <path d=\"M 18.3125 70.21875 \nL 18.3125 54.6875 \nL 36.8125 54.6875 \nL 36.8125 47.703125 \nL 18.3125 47.703125 \nL 18.3125 18.015625 \nQ 18.3125 11.328125 20.140625 9.421875 \nQ 21.96875 7.515625 27.59375 7.515625 \nL 36.8125 7.515625 \nL 36.8125 0 \nL 27.59375 0 \nQ 17.1875 0 13.234375 3.875 \nQ 9.28125 7.765625 9.28125 18.015625 \nL 9.28125 47.703125 \nL 2.6875 47.703125 \nL 2.6875 54.6875 \nL 9.28125 54.6875 \nL 9.28125 70.21875 \nz\n\" id=\"DejaVuSans-116\"/>\n      <path d=\"M 34.28125 27.484375 \nQ 23.390625 27.484375 19.1875 25 \nQ 14.984375 22.515625 14.984375 16.5 \nQ 14.984375 11.71875 18.140625 8.90625 \nQ 21.296875 6.109375 26.703125 6.109375 \nQ 34.1875 6.109375 38.703125 11.40625 \nQ 43.21875 16.703125 43.21875 25.484375 \nL 43.21875 27.484375 \nz\nM 52.203125 31.203125 \nL 52.203125 0 \nL 43.21875 0 \nL 43.21875 8.296875 \nQ 40.140625 3.328125 35.546875 0.953125 \nQ 30.953125 -1.421875 24.3125 -1.421875 \nQ 15.921875 -1.421875 10.953125 3.296875 \nQ 6 8.015625 6 15.921875 \nQ 6 25.140625 12.171875 29.828125 \nQ 18.359375 34.515625 30.609375 34.515625 \nL 43.21875 34.515625 \nL 43.21875 35.40625 \nQ 43.21875 41.609375 39.140625 45 \nQ 35.0625 48.390625 27.6875 48.390625 \nQ 23 48.390625 18.546875 47.265625 \nQ 14.109375 46.140625 10.015625 43.890625 \nL 10.015625 52.203125 \nQ 14.9375 54.109375 19.578125 55.046875 \nQ 24.21875 56 28.609375 56 \nQ 40.484375 56 46.34375 49.84375 \nQ 52.203125 43.703125 52.203125 31.203125 \nz\n\" id=\"DejaVuSans-97\"/>\n      <path d=\"M 9.421875 54.6875 \nL 18.40625 54.6875 \nL 18.40625 0 \nL 9.421875 0 \nz\nM 9.421875 75.984375 \nL 18.40625 75.984375 \nL 18.40625 64.59375 \nL 9.421875 64.59375 \nz\n\" id=\"DejaVuSans-105\"/>\n      <path d=\"M 54.890625 33.015625 \nL 54.890625 0 \nL 45.90625 0 \nL 45.90625 32.71875 \nQ 45.90625 40.484375 42.875 44.328125 \nQ 39.84375 48.1875 33.796875 48.1875 \nQ 26.515625 48.1875 22.3125 43.546875 \nQ 18.109375 38.921875 18.109375 30.90625 \nL 18.109375 0 \nL 9.078125 0 \nL 9.078125 54.6875 \nL 18.109375 54.6875 \nL 18.109375 46.1875 \nQ 21.34375 51.125 25.703125 53.5625 \nQ 30.078125 56 35.796875 56 \nQ 45.21875 56 50.046875 50.171875 \nQ 54.890625 44.34375 54.890625 33.015625 \nz\n\" id=\"DejaVuSans-110\"/>\n     </defs>\n     <g transform=\"translate(261.455114 38.916562)scale(0.1 -0.1)\">\n      <use xlink:href=\"#DejaVuSans-116\"/>\n      <use x=\"39.208984\" xlink:href=\"#DejaVuSans-114\"/>\n      <use x=\"80.322266\" xlink:href=\"#DejaVuSans-97\"/>\n      <use x=\"141.601562\" xlink:href=\"#DejaVuSans-105\"/>\n      <use x=\"169.384766\" xlink:href=\"#DejaVuSans-110\"/>\n     </g>\n    </g>\n    <g id=\"line2d_16\">\n     <path d=\"M 233.455114 50.094688 \nL 253.455114 50.094688 \n\" style=\"fill:none;stroke:#ff7f0e;stroke-linecap:square;stroke-width:1.5;\"/>\n    </g>\n    <g id=\"line2d_17\"/>\n    <g id=\"text_16\">\n     <!-- validation -->\n     <defs>\n      <path d=\"M 45.40625 46.390625 \nL 45.40625 75.984375 \nL 54.390625 75.984375 \nL 54.390625 0 \nL 45.40625 0 \nL 45.40625 8.203125 \nQ 42.578125 3.328125 38.25 0.953125 \nQ 33.9375 -1.421875 27.875 -1.421875 \nQ 17.96875 -1.421875 11.734375 6.484375 \nQ 5.515625 14.40625 5.515625 27.296875 \nQ 5.515625 40.1875 11.734375 48.09375 \nQ 17.96875 56 27.875 56 \nQ 33.9375 56 38.25 53.625 \nQ 42.578125 51.265625 45.40625 46.390625 \nz\nM 14.796875 27.296875 \nQ 14.796875 17.390625 18.875 11.75 \nQ 22.953125 6.109375 30.078125 6.109375 \nQ 37.203125 6.109375 41.296875 11.75 \nQ 45.40625 17.390625 45.40625 27.296875 \nQ 45.40625 37.203125 41.296875 42.84375 \nQ 37.203125 48.484375 30.078125 48.484375 \nQ 22.953125 48.484375 18.875 42.84375 \nQ 14.796875 37.203125 14.796875 27.296875 \nz\n\" id=\"DejaVuSans-100\"/>\n     </defs>\n     <g transform=\"translate(261.455114 53.594688)scale(0.1 -0.1)\">\n      <use xlink:href=\"#DejaVuSans-118\"/>\n      <use x=\"59.179688\" xlink:href=\"#DejaVuSans-97\"/>\n      <use x=\"120.458984\" xlink:href=\"#DejaVuSans-108\"/>\n      <use x=\"148.242188\" xlink:href=\"#DejaVuSans-105\"/>\n      <use x=\"176.025391\" xlink:href=\"#DejaVuSans-100\"/>\n      <use x=\"239.501953\" xlink:href=\"#DejaVuSans-97\"/>\n      <use x=\"300.78125\" xlink:href=\"#DejaVuSans-116\"/>\n      <use x=\"339.990234\" xlink:href=\"#DejaVuSans-105\"/>\n      <use x=\"367.773438\" xlink:href=\"#DejaVuSans-111\"/>\n      <use x=\"428.955078\" xlink:href=\"#DejaVuSans-110\"/>\n     </g>\n    </g>\n   </g>\n  </g>\n  <g id=\"axes_2\">\n   <g id=\"patch_8\">\n    <path d=\"M 370.416761 294.118125 \nL 624.053125 294.118125 \nL 624.053125 22.318125 \nL 370.416761 22.318125 \nz\n\" style=\"fill:#ffffff;\"/>\n   </g>\n   <g id=\"matplotlib.axis_3\">\n    <g id=\"xtick_7\">\n     <g id=\"line2d_18\">\n      <g>\n       <use style=\"stroke:#000000;stroke-width:0.8;\" x=\"381.945687\" xlink:href=\"#m32aadfc2ac\" y=\"294.118125\"/>\n      </g>\n     </g>\n     <g id=\"text_17\">\n      <!-- 0 -->\n      <g transform=\"translate(378.764437 308.716563)scale(0.1 -0.1)\">\n       <use xlink:href=\"#DejaVuSans-48\"/>\n      </g>\n     </g>\n    </g>\n    <g id=\"xtick_8\">\n     <g id=\"line2d_19\">\n      <g>\n       <use style=\"stroke:#000000;stroke-width:0.8;\" x=\"426.287709\" xlink:href=\"#m32aadfc2ac\" y=\"294.118125\"/>\n      </g>\n     </g>\n     <g id=\"text_18\">\n      <!-- 5 -->\n      <g transform=\"translate(423.106459 308.716563)scale(0.1 -0.1)\">\n       <use xlink:href=\"#DejaVuSans-53\"/>\n      </g>\n     </g>\n    </g>\n    <g id=\"xtick_9\">\n     <g id=\"line2d_20\">\n      <g>\n       <use style=\"stroke:#000000;stroke-width:0.8;\" x=\"470.62973\" xlink:href=\"#m32aadfc2ac\" y=\"294.118125\"/>\n      </g>\n     </g>\n     <g id=\"text_19\">\n      <!-- 10 -->\n      <g transform=\"translate(464.26723 308.716563)scale(0.1 -0.1)\">\n       <use xlink:href=\"#DejaVuSans-49\"/>\n       <use x=\"63.623047\" xlink:href=\"#DejaVuSans-48\"/>\n      </g>\n     </g>\n    </g>\n    <g id=\"xtick_10\">\n     <g id=\"line2d_21\">\n      <g>\n       <use style=\"stroke:#000000;stroke-width:0.8;\" x=\"514.971752\" xlink:href=\"#m32aadfc2ac\" y=\"294.118125\"/>\n      </g>\n     </g>\n     <g id=\"text_20\">\n      <!-- 15 -->\n      <g transform=\"translate(508.609252 308.716563)scale(0.1 -0.1)\">\n       <use xlink:href=\"#DejaVuSans-49\"/>\n       <use x=\"63.623047\" xlink:href=\"#DejaVuSans-53\"/>\n      </g>\n     </g>\n    </g>\n    <g id=\"xtick_11\">\n     <g id=\"line2d_22\">\n      <g>\n       <use style=\"stroke:#000000;stroke-width:0.8;\" x=\"559.313773\" xlink:href=\"#m32aadfc2ac\" y=\"294.118125\"/>\n      </g>\n     </g>\n     <g id=\"text_21\">\n      <!-- 20 -->\n      <g transform=\"translate(552.951273 308.716563)scale(0.1 -0.1)\">\n       <use xlink:href=\"#DejaVuSans-50\"/>\n       <use x=\"63.623047\" xlink:href=\"#DejaVuSans-48\"/>\n      </g>\n     </g>\n    </g>\n    <g id=\"xtick_12\">\n     <g id=\"line2d_23\">\n      <g>\n       <use style=\"stroke:#000000;stroke-width:0.8;\" x=\"603.655795\" xlink:href=\"#m32aadfc2ac\" y=\"294.118125\"/>\n      </g>\n     </g>\n     <g id=\"text_22\">\n      <!-- 25 -->\n      <g transform=\"translate(597.293295 308.716563)scale(0.1 -0.1)\">\n       <use xlink:href=\"#DejaVuSans-50\"/>\n       <use x=\"63.623047\" xlink:href=\"#DejaVuSans-53\"/>\n      </g>\n     </g>\n    </g>\n    <g id=\"text_23\">\n     <!-- Epoch -->\n     <g transform=\"translate(481.924006 322.394687)scale(0.1 -0.1)\">\n      <use xlink:href=\"#DejaVuSans-69\"/>\n      <use x=\"63.183594\" xlink:href=\"#DejaVuSans-112\"/>\n      <use x=\"126.660156\" xlink:href=\"#DejaVuSans-111\"/>\n      <use x=\"187.841797\" xlink:href=\"#DejaVuSans-99\"/>\n      <use x=\"242.822266\" xlink:href=\"#DejaVuSans-104\"/>\n     </g>\n    </g>\n   </g>\n   <g id=\"matplotlib.axis_4\">\n    <g id=\"ytick_6\">\n     <g id=\"line2d_24\">\n      <g>\n       <use style=\"stroke:#000000;stroke-width:0.8;\" x=\"370.416761\" xlink:href=\"#m3c77834688\" y=\"283.968103\"/>\n      </g>\n     </g>\n     <g id=\"text_24\">\n      <!-- 0.08 -->\n      <defs>\n       <path d=\"M 10.6875 12.40625 \nL 21 12.40625 \nL 21 0 \nL 10.6875 0 \nz\n\" id=\"DejaVuSans-46\"/>\n       <path d=\"M 31.78125 34.625 \nQ 24.75 34.625 20.71875 30.859375 \nQ 16.703125 27.09375 16.703125 20.515625 \nQ 16.703125 13.921875 20.71875 10.15625 \nQ 24.75 6.390625 31.78125 6.390625 \nQ 38.8125 6.390625 42.859375 10.171875 \nQ 46.921875 13.96875 46.921875 20.515625 \nQ 46.921875 27.09375 42.890625 30.859375 \nQ 38.875 34.625 31.78125 34.625 \nz\nM 21.921875 38.8125 \nQ 15.578125 40.375 12.03125 44.71875 \nQ 8.5 49.078125 8.5 55.328125 \nQ 8.5 64.0625 14.71875 69.140625 \nQ 20.953125 74.21875 31.78125 74.21875 \nQ 42.671875 74.21875 48.875 69.140625 \nQ 55.078125 64.0625 55.078125 55.328125 \nQ 55.078125 49.078125 51.53125 44.71875 \nQ 48 40.375 41.703125 38.8125 \nQ 48.828125 37.15625 52.796875 32.3125 \nQ 56.78125 27.484375 56.78125 20.515625 \nQ 56.78125 9.90625 50.3125 4.234375 \nQ 43.84375 -1.421875 31.78125 -1.421875 \nQ 19.734375 -1.421875 13.25 4.234375 \nQ 6.78125 9.90625 6.78125 20.515625 \nQ 6.78125 27.484375 10.78125 32.3125 \nQ 14.796875 37.15625 21.921875 38.8125 \nz\nM 18.3125 54.390625 \nQ 18.3125 48.734375 21.84375 45.5625 \nQ 25.390625 42.390625 31.78125 42.390625 \nQ 38.140625 42.390625 41.71875 45.5625 \nQ 45.3125 48.734375 45.3125 54.390625 \nQ 45.3125 60.0625 41.71875 63.234375 \nQ 38.140625 66.40625 31.78125 66.40625 \nQ 25.390625 66.40625 21.84375 63.234375 \nQ 18.3125 60.0625 18.3125 54.390625 \nz\n\" id=\"DejaVuSans-56\"/>\n      </defs>\n      <g transform=\"translate(341.151136 287.767321)scale(0.1 -0.1)\">\n       <use xlink:href=\"#DejaVuSans-48\"/>\n       <use x=\"63.623047\" xlink:href=\"#DejaVuSans-46\"/>\n       <use x=\"95.410156\" xlink:href=\"#DejaVuSans-48\"/>\n       <use x=\"159.033203\" xlink:href=\"#DejaVuSans-56\"/>\n      </g>\n     </g>\n    </g>\n    <g id=\"ytick_7\">\n     <g id=\"line2d_25\">\n      <g>\n       <use style=\"stroke:#000000;stroke-width:0.8;\" x=\"370.416761\" xlink:href=\"#m3c77834688\" y=\"248.695648\"/>\n      </g>\n     </g>\n     <g id=\"text_25\">\n      <!-- 0.10 -->\n      <g transform=\"translate(341.151136 252.494867)scale(0.1 -0.1)\">\n       <use xlink:href=\"#DejaVuSans-48\"/>\n       <use x=\"63.623047\" xlink:href=\"#DejaVuSans-46\"/>\n       <use x=\"95.410156\" xlink:href=\"#DejaVuSans-49\"/>\n       <use x=\"159.033203\" xlink:href=\"#DejaVuSans-48\"/>\n      </g>\n     </g>\n    </g>\n    <g id=\"ytick_8\">\n     <g id=\"line2d_26\">\n      <g>\n       <use style=\"stroke:#000000;stroke-width:0.8;\" x=\"370.416761\" xlink:href=\"#m3c77834688\" y=\"213.423193\"/>\n      </g>\n     </g>\n     <g id=\"text_26\">\n      <!-- 0.12 -->\n      <g transform=\"translate(341.151136 217.222412)scale(0.1 -0.1)\">\n       <use xlink:href=\"#DejaVuSans-48\"/>\n       <use x=\"63.623047\" xlink:href=\"#DejaVuSans-46\"/>\n       <use x=\"95.410156\" xlink:href=\"#DejaVuSans-49\"/>\n       <use x=\"159.033203\" xlink:href=\"#DejaVuSans-50\"/>\n      </g>\n     </g>\n    </g>\n    <g id=\"ytick_9\">\n     <g id=\"line2d_27\">\n      <g>\n       <use style=\"stroke:#000000;stroke-width:0.8;\" x=\"370.416761\" xlink:href=\"#m3c77834688\" y=\"178.150738\"/>\n      </g>\n     </g>\n     <g id=\"text_27\">\n      <!-- 0.14 -->\n      <defs>\n       <path d=\"M 37.796875 64.3125 \nL 12.890625 25.390625 \nL 37.796875 25.390625 \nz\nM 35.203125 72.90625 \nL 47.609375 72.90625 \nL 47.609375 25.390625 \nL 58.015625 25.390625 \nL 58.015625 17.1875 \nL 47.609375 17.1875 \nL 47.609375 0 \nL 37.796875 0 \nL 37.796875 17.1875 \nL 4.890625 17.1875 \nL 4.890625 26.703125 \nz\n\" id=\"DejaVuSans-52\"/>\n      </defs>\n      <g transform=\"translate(341.151136 181.949957)scale(0.1 -0.1)\">\n       <use xlink:href=\"#DejaVuSans-48\"/>\n       <use x=\"63.623047\" xlink:href=\"#DejaVuSans-46\"/>\n       <use x=\"95.410156\" xlink:href=\"#DejaVuSans-49\"/>\n       <use x=\"159.033203\" xlink:href=\"#DejaVuSans-52\"/>\n      </g>\n     </g>\n    </g>\n    <g id=\"ytick_10\">\n     <g id=\"line2d_28\">\n      <g>\n       <use style=\"stroke:#000000;stroke-width:0.8;\" x=\"370.416761\" xlink:href=\"#m3c77834688\" y=\"142.878283\"/>\n      </g>\n     </g>\n     <g id=\"text_28\">\n      <!-- 0.16 -->\n      <defs>\n       <path d=\"M 33.015625 40.375 \nQ 26.375 40.375 22.484375 35.828125 \nQ 18.609375 31.296875 18.609375 23.390625 \nQ 18.609375 15.53125 22.484375 10.953125 \nQ 26.375 6.390625 33.015625 6.390625 \nQ 39.65625 6.390625 43.53125 10.953125 \nQ 47.40625 15.53125 47.40625 23.390625 \nQ 47.40625 31.296875 43.53125 35.828125 \nQ 39.65625 40.375 33.015625 40.375 \nz\nM 52.59375 71.296875 \nL 52.59375 62.3125 \nQ 48.875 64.0625 45.09375 64.984375 \nQ 41.3125 65.921875 37.59375 65.921875 \nQ 27.828125 65.921875 22.671875 59.328125 \nQ 17.53125 52.734375 16.796875 39.40625 \nQ 19.671875 43.65625 24.015625 45.921875 \nQ 28.375 48.1875 33.59375 48.1875 \nQ 44.578125 48.1875 50.953125 41.515625 \nQ 57.328125 34.859375 57.328125 23.390625 \nQ 57.328125 12.15625 50.6875 5.359375 \nQ 44.046875 -1.421875 33.015625 -1.421875 \nQ 20.359375 -1.421875 13.671875 8.265625 \nQ 6.984375 17.96875 6.984375 36.375 \nQ 6.984375 53.65625 15.1875 63.9375 \nQ 23.390625 74.21875 37.203125 74.21875 \nQ 40.921875 74.21875 44.703125 73.484375 \nQ 48.484375 72.75 52.59375 71.296875 \nz\n\" id=\"DejaVuSans-54\"/>\n      </defs>\n      <g transform=\"translate(341.151136 146.677502)scale(0.1 -0.1)\">\n       <use xlink:href=\"#DejaVuSans-48\"/>\n       <use x=\"63.623047\" xlink:href=\"#DejaVuSans-46\"/>\n       <use x=\"95.410156\" xlink:href=\"#DejaVuSans-49\"/>\n       <use x=\"159.033203\" xlink:href=\"#DejaVuSans-54\"/>\n      </g>\n     </g>\n    </g>\n    <g id=\"ytick_11\">\n     <g id=\"line2d_29\">\n      <g>\n       <use style=\"stroke:#000000;stroke-width:0.8;\" x=\"370.416761\" xlink:href=\"#m3c77834688\" y=\"107.605828\"/>\n      </g>\n     </g>\n     <g id=\"text_29\">\n      <!-- 0.18 -->\n      <g transform=\"translate(341.151136 111.405047)scale(0.1 -0.1)\">\n       <use xlink:href=\"#DejaVuSans-48\"/>\n       <use x=\"63.623047\" xlink:href=\"#DejaVuSans-46\"/>\n       <use x=\"95.410156\" xlink:href=\"#DejaVuSans-49\"/>\n       <use x=\"159.033203\" xlink:href=\"#DejaVuSans-56\"/>\n      </g>\n     </g>\n    </g>\n    <g id=\"ytick_12\">\n     <g id=\"line2d_30\">\n      <g>\n       <use style=\"stroke:#000000;stroke-width:0.8;\" x=\"370.416761\" xlink:href=\"#m3c77834688\" y=\"72.333373\"/>\n      </g>\n     </g>\n     <g id=\"text_30\">\n      <!-- 0.20 -->\n      <g transform=\"translate(341.151136 76.132592)scale(0.1 -0.1)\">\n       <use xlink:href=\"#DejaVuSans-48\"/>\n       <use x=\"63.623047\" xlink:href=\"#DejaVuSans-46\"/>\n       <use x=\"95.410156\" xlink:href=\"#DejaVuSans-50\"/>\n       <use x=\"159.033203\" xlink:href=\"#DejaVuSans-48\"/>\n      </g>\n     </g>\n    </g>\n    <g id=\"ytick_13\">\n     <g id=\"line2d_31\">\n      <g>\n       <use style=\"stroke:#000000;stroke-width:0.8;\" x=\"370.416761\" xlink:href=\"#m3c77834688\" y=\"37.060918\"/>\n      </g>\n     </g>\n     <g id=\"text_31\">\n      <!-- 0.22 -->\n      <g transform=\"translate(341.151136 40.860137)scale(0.1 -0.1)\">\n       <use xlink:href=\"#DejaVuSans-48\"/>\n       <use x=\"63.623047\" xlink:href=\"#DejaVuSans-46\"/>\n       <use x=\"95.410156\" xlink:href=\"#DejaVuSans-50\"/>\n       <use x=\"159.033203\" xlink:href=\"#DejaVuSans-50\"/>\n      </g>\n     </g>\n    </g>\n    <g id=\"text_32\">\n     <!-- accuracy -->\n     <defs>\n      <path d=\"M 32.171875 -5.078125 \nQ 28.375 -14.84375 24.75 -17.8125 \nQ 21.140625 -20.796875 15.09375 -20.796875 \nL 7.90625 -20.796875 \nL 7.90625 -13.28125 \nL 13.1875 -13.28125 \nQ 16.890625 -13.28125 18.9375 -11.515625 \nQ 21 -9.765625 23.484375 -3.21875 \nL 25.09375 0.875 \nL 2.984375 54.6875 \nL 12.5 54.6875 \nL 29.59375 11.921875 \nL 46.6875 54.6875 \nL 56.203125 54.6875 \nz\n\" id=\"DejaVuSans-121\"/>\n     </defs>\n     <g transform=\"translate(335.071449 180.7775)rotate(-90)scale(0.1 -0.1)\">\n      <use xlink:href=\"#DejaVuSans-97\"/>\n      <use x=\"61.279297\" xlink:href=\"#DejaVuSans-99\"/>\n      <use x=\"116.259766\" xlink:href=\"#DejaVuSans-99\"/>\n      <use x=\"171.240234\" xlink:href=\"#DejaVuSans-117\"/>\n      <use x=\"234.619141\" xlink:href=\"#DejaVuSans-114\"/>\n      <use x=\"275.732422\" xlink:href=\"#DejaVuSans-97\"/>\n      <use x=\"337.011719\" xlink:href=\"#DejaVuSans-99\"/>\n      <use x=\"391.992188\" xlink:href=\"#DejaVuSans-121\"/>\n     </g>\n    </g>\n   </g>\n   <g id=\"line2d_32\">\n    <path clip-path=\"url(#p3c6db94d76)\" d=\"M 381.945687 235.223531 \nL 390.814091 180.110307 \nL 399.682496 167.862947 \nL 408.5509 74.476662 \nL 417.419304 118.87343 \nL 426.287709 60.698359 \nL 435.156113 34.67267 \nL 444.024517 124.997096 \nL 452.892922 82.131272 \nL 461.761326 181.64125 \nL 470.62973 80.600355 \nL 479.498135 63.760219 \nL 488.366539 173.98664 \nL 497.234943 155.615561 \nL 506.103348 77.538522 \nL 514.971752 131.120789 \nL 523.840156 169.393864 \nL 532.70856 126.528039 \nL 541.576965 227.568921 \nL 550.445369 200.012303 \nL 559.313773 143.368175 \nL 568.182178 222.976145 \nL 577.050582 166.332004 \nL 585.918986 166.332004 \nL 594.787391 141.837259 \nL 603.655795 149.491868 \nL 612.524199 109.687877 \n\" style=\"fill:none;stroke:#1f77b4;stroke-linecap:square;stroke-width:1.5;\"/>\n   </g>\n   <g id=\"line2d_33\">\n    <path clip-path=\"url(#p3c6db94d76)\" d=\"M 381.945687 232.161685 \nL 390.814091 77.844684 \nL 399.682496 160.5145 \nL 408.5509 72.333368 \nL 417.419304 132.957895 \nL 426.287709 94.378658 \nL 435.156113 50.288078 \nL 444.024517 177.048474 \nL 452.892922 116.423947 \nL 461.761326 171.537158 \nL 470.62973 88.867342 \nL 479.498135 199.093763 \nL 488.366539 210.116395 \nL 497.234943 138.469237 \nL 506.103348 281.76358 \nL 514.971752 143.980553 \nL 523.840156 132.957895 \nL 532.70856 204.605079 \nL 541.576965 188.071105 \nL 550.445369 143.980553 \nL 559.313773 226.650369 \nL 568.182178 83.356026 \nL 577.050582 265.229606 \nL 585.918986 160.5145 \nL 594.787391 99.889973 \nL 603.655795 155.003184 \nL 612.524199 226.650369 \n\" style=\"fill:none;stroke:#ff7f0e;stroke-linecap:square;stroke-width:1.5;\"/>\n   </g>\n   <g id=\"patch_9\">\n    <path d=\"M 370.416761 294.118125 \nL 370.416761 22.318125 \n\" style=\"fill:none;stroke:#000000;stroke-linecap:square;stroke-linejoin:miter;stroke-width:0.8;\"/>\n   </g>\n   <g id=\"patch_10\">\n    <path d=\"M 624.053125 294.118125 \nL 624.053125 22.318125 \n\" style=\"fill:none;stroke:#000000;stroke-linecap:square;stroke-linejoin:miter;stroke-width:0.8;\"/>\n   </g>\n   <g id=\"patch_11\">\n    <path d=\"M 370.416761 294.118125 \nL 624.053125 294.118125 \n\" style=\"fill:none;stroke:#000000;stroke-linecap:square;stroke-linejoin:miter;stroke-width:0.8;\"/>\n   </g>\n   <g id=\"patch_12\">\n    <path d=\"M 370.416761 22.318125 \nL 624.053125 22.318125 \n\" style=\"fill:none;stroke:#000000;stroke-linecap:square;stroke-linejoin:miter;stroke-width:0.8;\"/>\n   </g>\n   <g id=\"text_33\">\n    <!-- Accuracy -->\n    <defs>\n     <path d=\"M 34.1875 63.1875 \nL 20.796875 26.90625 \nL 47.609375 26.90625 \nz\nM 28.609375 72.90625 \nL 39.796875 72.90625 \nL 67.578125 0 \nL 57.328125 0 \nL 50.6875 18.703125 \nL 17.828125 18.703125 \nL 11.1875 0 \nL 0.78125 0 \nz\n\" id=\"DejaVuSans-65\"/>\n    </defs>\n    <g transform=\"translate(469.841193 16.318125)scale(0.12 -0.12)\">\n     <use xlink:href=\"#DejaVuSans-65\"/>\n     <use x=\"66.658203\" xlink:href=\"#DejaVuSans-99\"/>\n     <use x=\"121.638672\" xlink:href=\"#DejaVuSans-99\"/>\n     <use x=\"176.619141\" xlink:href=\"#DejaVuSans-117\"/>\n     <use x=\"239.998047\" xlink:href=\"#DejaVuSans-114\"/>\n     <use x=\"281.111328\" xlink:href=\"#DejaVuSans-97\"/>\n     <use x=\"342.390625\" xlink:href=\"#DejaVuSans-99\"/>\n     <use x=\"397.371094\" xlink:href=\"#DejaVuSans-121\"/>\n    </g>\n   </g>\n   <g id=\"legend_2\">\n    <g id=\"patch_13\">\n     <path d=\"M 535.81875 59.674375 \nL 617.053125 59.674375 \nQ 619.053125 59.674375 619.053125 57.674375 \nL 619.053125 29.318125 \nQ 619.053125 27.318125 617.053125 27.318125 \nL 535.81875 27.318125 \nQ 533.81875 27.318125 533.81875 29.318125 \nL 533.81875 57.674375 \nQ 533.81875 59.674375 535.81875 59.674375 \nz\n\" style=\"fill:#ffffff;opacity:0.8;stroke:#cccccc;stroke-linejoin:miter;\"/>\n    </g>\n    <g id=\"line2d_34\">\n     <path d=\"M 537.81875 35.416562 \nL 557.81875 35.416562 \n\" style=\"fill:none;stroke:#1f77b4;stroke-linecap:square;stroke-width:1.5;\"/>\n    </g>\n    <g id=\"line2d_35\"/>\n    <g id=\"text_34\">\n     <!-- train -->\n     <g transform=\"translate(565.81875 38.916562)scale(0.1 -0.1)\">\n      <use xlink:href=\"#DejaVuSans-116\"/>\n      <use x=\"39.208984\" xlink:href=\"#DejaVuSans-114\"/>\n      <use x=\"80.322266\" xlink:href=\"#DejaVuSans-97\"/>\n      <use x=\"141.601562\" xlink:href=\"#DejaVuSans-105\"/>\n      <use x=\"169.384766\" xlink:href=\"#DejaVuSans-110\"/>\n     </g>\n    </g>\n    <g id=\"line2d_36\">\n     <path d=\"M 537.81875 50.094688 \nL 557.81875 50.094688 \n\" style=\"fill:none;stroke:#ff7f0e;stroke-linecap:square;stroke-width:1.5;\"/>\n    </g>\n    <g id=\"line2d_37\"/>\n    <g id=\"text_35\">\n     <!-- validation -->\n     <g transform=\"translate(565.81875 53.594688)scale(0.1 -0.1)\">\n      <use xlink:href=\"#DejaVuSans-118\"/>\n      <use x=\"59.179688\" xlink:href=\"#DejaVuSans-97\"/>\n      <use x=\"120.458984\" xlink:href=\"#DejaVuSans-108\"/>\n      <use x=\"148.242188\" xlink:href=\"#DejaVuSans-105\"/>\n      <use x=\"176.025391\" xlink:href=\"#DejaVuSans-100\"/>\n      <use x=\"239.501953\" xlink:href=\"#DejaVuSans-97\"/>\n      <use x=\"300.78125\" xlink:href=\"#DejaVuSans-116\"/>\n      <use x=\"339.990234\" xlink:href=\"#DejaVuSans-105\"/>\n      <use x=\"367.773438\" xlink:href=\"#DejaVuSans-111\"/>\n      <use x=\"428.955078\" xlink:href=\"#DejaVuSans-110\"/>\n     </g>\n    </g>\n   </g>\n  </g>\n </g>\n <defs>\n  <clipPath id=\"p9d7c53880f\">\n   <rect height=\"271.8\" width=\"253.636364\" x=\"66.053125\" y=\"22.318125\"/>\n  </clipPath>\n  <clipPath id=\"p3c6db94d76\">\n   <rect height=\"271.8\" width=\"253.636364\" x=\"370.416761\" y=\"22.318125\"/>\n  </clipPath>\n </defs>\n</svg>\n"
          },
          "metadata": {
            "needs_background": "light"
          }
        }
      ],
      "source": [
        "# let's plot the loss and accuracy \n",
        "\n",
        "# get the training and validation accuracy from the history object\n",
        "train_acc = history1.history['accuracy']\n",
        "valid_acc = history1.history['val_accuracy']\n",
        "\n",
        "# get the loss\n",
        "train_loss = history1.history['loss']\n",
        "valid_loss = history1.history['val_loss']\n",
        "\n",
        "# get the number of entries\n",
        "xvalues = np.arange(len(train_acc))\n",
        "\n",
        "# visualize\n",
        "f,ax = plt.subplots(1,2, figsize=(10,5))\n",
        "ax[0].plot(xvalues, train_loss)\n",
        "ax[0].plot(xvalues, valid_loss)\n",
        "ax[0].set_title(\"Loss curve\")\n",
        "ax[0].set_xlabel(\"Epoch\")\n",
        "ax[0].set_ylabel(\"loss\")\n",
        "ax[0].legend(['train', 'validation'])\n",
        "\n",
        "ax[1].plot(xvalues, train_acc)\n",
        "ax[1].plot(xvalues, valid_acc)\n",
        "ax[1].set_title(\"Accuracy\")\n",
        "ax[1].set_xlabel(\"Epoch\")\n",
        "ax[1].set_ylabel(\"accuracy\")\n",
        "ax[1].legend(['train', 'validation'])\n",
        "\n",
        "plt.show()"
      ]
    },
    {
      "cell_type": "code",
      "execution_count": 22,
      "metadata": {
        "id": "QbyCEgjOm_oJ",
        "colab": {
          "base_uri": "https://localhost:8080/"
        },
        "outputId": "fa0fee01-dbf8-42d0-ac2d-25b04887e90d"
      },
      "outputs": [
        {
          "output_type": "stream",
          "name": "stderr",
          "text": [
            "<ipython-input-22-e428c4fc796b>:2: UserWarning: `Model.evaluate_generator` is deprecated and will be removed in a future version. Please use `Model.evaluate`, which supports generators.\n",
            "  valid_loss, valid_acc = model.evaluate_generator(valid_data_gen, steps=num_valid_steps)\n"
          ]
        },
        {
          "output_type": "stream",
          "name": "stdout",
          "text": [
            "Final validation accuracy: 20.94%\n"
          ]
        }
      ],
      "source": [
        "# What is the final loss and accuracy on our validation data?\n",
        "valid_loss, valid_acc = model.evaluate_generator(valid_data_gen, steps=num_valid_steps)\n",
        "print(f\"Final validation accuracy: {valid_acc*100:.2f}%\")"
      ]
    },
    {
      "cell_type": "code",
      "execution_count": 23,
      "metadata": {
        "id": "xtftPiu_m_oK",
        "colab": {
          "base_uri": "https://localhost:8080/"
        },
        "outputId": "0cca6616-3186-4f65-b134-bd05f9abb26e"
      },
      "outputs": [
        {
          "output_type": "stream",
          "name": "stdout",
          "text": [
            "Model: \"model_1\"\n",
            "_________________________________________________________________\n",
            " Layer (type)                Output Shape              Param #   \n",
            "=================================================================\n",
            " input_1 (InputLayer)        [(None, 224, 224, 3)]     0         \n",
            "                                                                 \n",
            " conv2d (Conv2D)             (None, 224, 224, 64)      3136      \n",
            "                                                                 \n",
            " max_pooling2d (MaxPooling2D  (None, 112, 112, 64)     0         \n",
            " )                                                               \n",
            "                                                                 \n",
            " conv2d_1 (Conv2D)           (None, 112, 112, 128)     131200    \n",
            "                                                                 \n",
            " max_pooling2d_1 (MaxPooling  (None, 56, 56, 128)      0         \n",
            " 2D)                                                             \n",
            "                                                                 \n",
            " conv2d_2 (Conv2D)           (None, 56, 56, 256)       524544    \n",
            "                                                                 \n",
            " max_pooling2d_2 (MaxPooling  (None, 28, 28, 256)      0         \n",
            " 2D)                                                             \n",
            "                                                                 \n",
            " conv2d_3 (Conv2D)           (None, 28, 28, 512)       2097664   \n",
            "                                                                 \n",
            " max_pooling2d_3 (MaxPooling  (None, 14, 14, 512)      0         \n",
            " 2D)                                                             \n",
            "                                                                 \n",
            " conv2d_4 (Conv2D)           (None, 14, 14, 512)       4194816   \n",
            "                                                                 \n",
            " conv2d_5 (Conv2D)           (None, 14, 14, 512)       4194816   \n",
            "                                                                 \n",
            " max_pooling2d_4 (MaxPooling  (None, 7, 7, 512)        0         \n",
            " 2D)                                                             \n",
            "                                                                 \n",
            " flatten (Flatten)           (None, 25088)             0         \n",
            "                                                                 \n",
            " dense (Dense)               (None, 4096)              102764544 \n",
            "                                                                 \n",
            " dense_1 (Dense)             (None, 4096)              16781312  \n",
            "                                                                 \n",
            " dropout (Dropout)           (None, 4096)              0         \n",
            "                                                                 \n",
            " dense_2 (Dense)             (None, 10)                40970     \n",
            "                                                                 \n",
            "=================================================================\n",
            "Total params: 130,733,002\n",
            "Trainable params: 0\n",
            "Non-trainable params: 130,733,002\n",
            "_________________________________________________________________\n"
          ]
        }
      ],
      "source": [
        "outputs = [layer.output for layer in model.layers[1:18]]\n",
        "\n",
        "vis_model = Model(model.input, outputs)\n",
        "\n",
        "for layer in vis_model.layers:\n",
        "  layer.trainable = False\n",
        "\n",
        "vis_model.summary()"
      ]
    },
    {
      "cell_type": "code",
      "execution_count": 24,
      "metadata": {
        "id": "SBwGla4tm_oK",
        "colab": {
          "base_uri": "https://localhost:8080/"
        },
        "outputId": "b0f2667a-4b60-4dee-cb4a-2214b5290056"
      },
      "outputs": [
        {
          "output_type": "stream",
          "name": "stdout",
          "text": [
            "Layers going to be used for visualization: \n",
            "['conv2d', 'max_pooling2d', 'conv2d_1', 'max_pooling2d_1', 'conv2d_2', 'max_pooling2d_2', 'conv2d_3', 'max_pooling2d_3', 'conv2d_4', 'conv2d_5', 'max_pooling2d_4', 'flatten', 'dense', 'dense_1', 'dropout', 'dense_2']\n"
          ]
        }
      ],
      "source": [
        "# store the layer names we are interested in\n",
        "layer_names = []\n",
        "for layer in outputs:\n",
        "    layer_names.append(layer.name.split(\"/\")[0])\n",
        "\n",
        "    \n",
        "print(\"Layers going to be used for visualization: \")\n",
        "print(layer_names)"
      ]
    },
    {
      "cell_type": "code",
      "execution_count": 25,
      "metadata": {
        "id": "N71NRlVBrVkI",
        "colab": {
          "base_uri": "https://localhost:8080/"
        },
        "outputId": "7fbf3d1a-291b-43ef-b33e-f2e03107aa03"
      },
      "outputs": [
        {
          "output_type": "stream",
          "name": "stdout",
          "text": [
            "layer_names [before]: ['conv2d', 'max_pooling2d', 'conv2d_1', 'max_pooling2d_1', 'conv2d_2', 'max_pooling2d_2', 'conv2d_3', 'max_pooling2d_3', 'conv2d_4', 'conv2d_5', 'max_pooling2d_4', 'flatten', 'dense', 'dense_1', 'dropout', 'dense_2']\n",
            "=========================================\n",
            "layer_names [after]: ['conv2d', 'conv2d_1', 'conv2d_2', 'conv2d_3', 'conv2d_4', 'conv2d_5']\n"
          ]
        }
      ],
      "source": [
        "print( f'layer_names [before]: {layer_names}' )\n",
        "\n",
        "layer_names_temp = layer_names\n",
        "layer_names = list()\n",
        "for layer in layer_names_temp:\n",
        "\n",
        "  if 'conv' in layer:\n",
        "    # print(layer)\n",
        "    layer_names.append( layer )\n",
        "\n",
        "print( '=========================================' )\n",
        "print( f'layer_names [after]: {layer_names}' )"
      ]
    },
    {
      "cell_type": "code",
      "execution_count": 26,
      "metadata": {
        "id": "GTk3zuOem_oL"
      },
      "outputs": [],
      "source": [
        "def get_CAM(processed_image, predicted_label):\n",
        "    \"\"\"\n",
        "    This function is used to generate a heatmap for a sample image prediction.\n",
        "    \n",
        "    Args:\n",
        "        processed_image: any sample image that has been pre-processed using the \n",
        "                       `preprocess_input()`method of a keras model\n",
        "        predicted_label: label that has been predicted by the network for this image\n",
        "    \n",
        "    Returns:\n",
        "        heatmap: heatmap generated over the last convolution layer output \n",
        "    \"\"\"\n",
        "    # we want the activations for the predicted label\n",
        "    predicted_output = model.output[:, predicted_label]\n",
        "    \n",
        "    # choose the last conv layer in your model\n",
        "    # last_conv_layer = model.get_layer('block5_conv3')\n",
        "    last_conv_layer = model.get_layer(layer_names[-1])\n",
        "    \n",
        "    # get the gradients wrt to the last conv layer\n",
        "    grads = K.gradients(predicted_output, last_conv_layer.output)[0]\n",
        "    \n",
        "    # take mean gradient per feature map\n",
        "    grads = K.mean(grads, axis=(0,1,2)) # GAP - Global Average Pooling\n",
        "    \n",
        "    # Define a function that generates the values for the output and gradients\n",
        "    evaluation_function = K.function([model.input], [grads, last_conv_layer.output[0]])\n",
        "    \n",
        "    # get the values\n",
        "    grads_values, conv_ouput_values = evaluation_function([processed_image])\n",
        "    \n",
        "    # CAM - Class Activation Map\n",
        "    # iterate over each feature map in yout conv output and multiply\n",
        "    # the gradient values with the conv output values. This gives an \n",
        "    # indication of \"how important a feature is\"\n",
        "    # for i in range(512): # we have 512 features in our last conv layer\n",
        "    for i in range(conv_ouput_values.shape[2]): # daniel\n",
        "        conv_ouput_values[:,:,i] *= grads_values[i]\n",
        "    \n",
        "    # create a heatmap\n",
        "    heatmap = np.mean(conv_ouput_values, axis=-1)\n",
        "    \n",
        "    # remove negative values\n",
        "    heatmap = np.maximum(heatmap, 0)\n",
        "    \n",
        "    # normalize\n",
        "    heatmap /= heatmap.max()\n",
        "    \n",
        "    return heatmap"
      ]
    },
    {
      "cell_type": "code",
      "execution_count": 27,
      "metadata": {
        "id": "zeXWpNlapUFx"
      },
      "outputs": [],
      "source": [
        "idx = 0"
      ]
    },
    {
      "cell_type": "code",
      "execution_count": 28,
      "metadata": {
        "id": "tX1madjMm_oO",
        "colab": {
          "base_uri": "https://localhost:8080/",
          "height": 303
        },
        "outputId": "3b0aa7a1-2678-425c-d0da-76fb1dfeb59d"
      },
      "outputs": [
        {
          "output_type": "stream",
          "name": "stderr",
          "text": [
            "/usr/local/lib/python3.8/dist-packages/keras/engine/training_v1.py:2067: UserWarning: `Model.state_updates` will be removed in a future version. This property should not be used in TensorFlow 2.0, as `updates` are applied automatically.\n",
            "  updates=self.state_updates,\n"
          ]
        },
        {
          "output_type": "display_data",
          "data": {
            "text/plain": [
              "<Figure size 576x576 with 3 Axes>"
            ],
            "image/svg+xml": "<?xml version=\"1.0\" encoding=\"utf-8\" standalone=\"no\"?>\n<!DOCTYPE svg PUBLIC \"-//W3C//DTD SVG 1.1//EN\"\n  \"http://www.w3.org/Graphics/SVG/1.1/DTD/svg11.dtd\">\n<!-- Created with matplotlib (https://matplotlib.org/) -->\n<svg height=\"170.490368pt\" version=\"1.1\" viewBox=\"0 0 469.913097 170.490368\" width=\"469.913097pt\" xmlns=\"http://www.w3.org/2000/svg\" xmlns:xlink=\"http://www.w3.org/1999/xlink\">\n <defs>\n  <style type=\"text/css\">\n*{stroke-linecap:butt;stroke-linejoin:round;}\n  </style>\n </defs>\n <g id=\"figure_1\">\n  <g id=\"patch_1\">\n   <path d=\"M 0 170.490368 \nL 469.913097 170.490368 \nL 469.913097 0 \nL 0 0 \nz\n\" style=\"fill:none;\"/>\n  </g>\n  <g id=\"axes_1\">\n   <g clip-path=\"url(#p7fe34b72fc)\">\n    <image height=\"132\" id=\"image2b94ed185f\" transform=\"scale(1 -1)translate(0 -132)\" width=\"132\" x=\"7.2\" xlink:href=\"data:image/png;base64,\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\" y=\"-31.290368\"/>\n   </g>\n   <g id=\"text_1\">\n    <!-- True label: 7  -->\n    <defs>\n     <path d=\"M -0.296875 72.90625 \nL 61.375 72.90625 \nL 61.375 64.59375 \nL 35.5 64.59375 \nL 35.5 0 \nL 25.59375 0 \nL 25.59375 64.59375 \nL -0.296875 64.59375 \nz\n\" id=\"DejaVuSans-84\"/>\n     <path d=\"M 41.109375 46.296875 \nQ 39.59375 47.171875 37.8125 47.578125 \nQ 36.03125 48 33.890625 48 \nQ 26.265625 48 22.1875 43.046875 \nQ 18.109375 38.09375 18.109375 28.8125 \nL 18.109375 0 \nL 9.078125 0 \nL 9.078125 54.6875 \nL 18.109375 54.6875 \nL 18.109375 46.1875 \nQ 20.953125 51.171875 25.484375 53.578125 \nQ 30.03125 56 36.53125 56 \nQ 37.453125 56 38.578125 55.875 \nQ 39.703125 55.765625 41.0625 55.515625 \nz\n\" id=\"DejaVuSans-114\"/>\n     <path d=\"M 8.5 21.578125 \nL 8.5 54.6875 \nL 17.484375 54.6875 \nL 17.484375 21.921875 \nQ 17.484375 14.15625 20.5 10.265625 \nQ 23.53125 6.390625 29.59375 6.390625 \nQ 36.859375 6.390625 41.078125 11.03125 \nQ 45.3125 15.671875 45.3125 23.6875 \nL 45.3125 54.6875 \nL 54.296875 54.6875 \nL 54.296875 0 \nL 45.3125 0 \nL 45.3125 8.40625 \nQ 42.046875 3.421875 37.71875 1 \nQ 33.40625 -1.421875 27.6875 -1.421875 \nQ 18.265625 -1.421875 13.375 4.4375 \nQ 8.5 10.296875 8.5 21.578125 \nz\nM 31.109375 56 \nz\n\" id=\"DejaVuSans-117\"/>\n     <path d=\"M 56.203125 29.59375 \nL 56.203125 25.203125 \nL 14.890625 25.203125 \nQ 15.484375 15.921875 20.484375 11.0625 \nQ 25.484375 6.203125 34.421875 6.203125 \nQ 39.59375 6.203125 44.453125 7.46875 \nQ 49.3125 8.734375 54.109375 11.28125 \nL 54.109375 2.78125 \nQ 49.265625 0.734375 44.1875 -0.34375 \nQ 39.109375 -1.421875 33.890625 -1.421875 \nQ 20.796875 -1.421875 13.15625 6.1875 \nQ 5.515625 13.8125 5.515625 26.8125 \nQ 5.515625 40.234375 12.765625 48.109375 \nQ 20.015625 56 32.328125 56 \nQ 43.359375 56 49.78125 48.890625 \nQ 56.203125 41.796875 56.203125 29.59375 \nz\nM 47.21875 32.234375 \nQ 47.125 39.59375 43.09375 43.984375 \nQ 39.0625 48.390625 32.421875 48.390625 \nQ 24.90625 48.390625 20.390625 44.140625 \nQ 15.875 39.890625 15.1875 32.171875 \nz\n\" id=\"DejaVuSans-101\"/>\n     <path id=\"DejaVuSans-32\"/>\n     <path d=\"M 9.421875 75.984375 \nL 18.40625 75.984375 \nL 18.40625 0 \nL 9.421875 0 \nz\n\" id=\"DejaVuSans-108\"/>\n     <path d=\"M 34.28125 27.484375 \nQ 23.390625 27.484375 19.1875 25 \nQ 14.984375 22.515625 14.984375 16.5 \nQ 14.984375 11.71875 18.140625 8.90625 \nQ 21.296875 6.109375 26.703125 6.109375 \nQ 34.1875 6.109375 38.703125 11.40625 \nQ 43.21875 16.703125 43.21875 25.484375 \nL 43.21875 27.484375 \nz\nM 52.203125 31.203125 \nL 52.203125 0 \nL 43.21875 0 \nL 43.21875 8.296875 \nQ 40.140625 3.328125 35.546875 0.953125 \nQ 30.953125 -1.421875 24.3125 -1.421875 \nQ 15.921875 -1.421875 10.953125 3.296875 \nQ 6 8.015625 6 15.921875 \nQ 6 25.140625 12.171875 29.828125 \nQ 18.359375 34.515625 30.609375 34.515625 \nL 43.21875 34.515625 \nL 43.21875 35.40625 \nQ 43.21875 41.609375 39.140625 45 \nQ 35.0625 48.390625 27.6875 48.390625 \nQ 23 48.390625 18.546875 47.265625 \nQ 14.109375 46.140625 10.015625 43.890625 \nL 10.015625 52.203125 \nQ 14.9375 54.109375 19.578125 55.046875 \nQ 24.21875 56 28.609375 56 \nQ 40.484375 56 46.34375 49.84375 \nQ 52.203125 43.703125 52.203125 31.203125 \nz\n\" id=\"DejaVuSans-97\"/>\n     <path d=\"M 48.6875 27.296875 \nQ 48.6875 37.203125 44.609375 42.84375 \nQ 40.53125 48.484375 33.40625 48.484375 \nQ 26.265625 48.484375 22.1875 42.84375 \nQ 18.109375 37.203125 18.109375 27.296875 \nQ 18.109375 17.390625 22.1875 11.75 \nQ 26.265625 6.109375 33.40625 6.109375 \nQ 40.53125 6.109375 44.609375 11.75 \nQ 48.6875 17.390625 48.6875 27.296875 \nz\nM 18.109375 46.390625 \nQ 20.953125 51.265625 25.265625 53.625 \nQ 29.59375 56 35.59375 56 \nQ 45.5625 56 51.78125 48.09375 \nQ 58.015625 40.1875 58.015625 27.296875 \nQ 58.015625 14.40625 51.78125 6.484375 \nQ 45.5625 -1.421875 35.59375 -1.421875 \nQ 29.59375 -1.421875 25.265625 0.953125 \nQ 20.953125 3.328125 18.109375 8.203125 \nL 18.109375 0 \nL 9.078125 0 \nL 9.078125 75.984375 \nL 18.109375 75.984375 \nz\n\" id=\"DejaVuSans-98\"/>\n     <path d=\"M 11.71875 12.40625 \nL 22.015625 12.40625 \nL 22.015625 0 \nL 11.71875 0 \nz\nM 11.71875 51.703125 \nL 22.015625 51.703125 \nL 22.015625 39.3125 \nL 11.71875 39.3125 \nz\n\" id=\"DejaVuSans-58\"/>\n     <path d=\"M 8.203125 72.90625 \nL 55.078125 72.90625 \nL 55.078125 68.703125 \nL 28.609375 0 \nL 18.3125 0 \nL 43.21875 64.59375 \nL 8.203125 64.59375 \nz\n\" id=\"DejaVuSans-55\"/>\n    </defs>\n    <g transform=\"translate(40.50409 14.798437)scale(0.1 -0.1)\">\n     <use xlink:href=\"#DejaVuSans-84\"/>\n     <use x=\"46.333984\" xlink:href=\"#DejaVuSans-114\"/>\n     <use x=\"87.447266\" xlink:href=\"#DejaVuSans-117\"/>\n     <use x=\"150.826172\" xlink:href=\"#DejaVuSans-101\"/>\n     <use x=\"212.349609\" xlink:href=\"#DejaVuSans-32\"/>\n     <use x=\"244.136719\" xlink:href=\"#DejaVuSans-108\"/>\n     <use x=\"271.919922\" xlink:href=\"#DejaVuSans-97\"/>\n     <use x=\"333.199219\" xlink:href=\"#DejaVuSans-98\"/>\n     <use x=\"396.675781\" xlink:href=\"#DejaVuSans-101\"/>\n     <use x=\"458.199219\" xlink:href=\"#DejaVuSans-108\"/>\n     <use x=\"485.982422\" xlink:href=\"#DejaVuSans-58\"/>\n     <use x=\"519.673828\" xlink:href=\"#DejaVuSans-32\"/>\n     <use x=\"551.460938\" xlink:href=\"#DejaVuSans-55\"/>\n     <use x=\"615.083984\" xlink:href=\"#DejaVuSans-32\"/>\n    </g>\n    <!--  Predicted label: 0 -->\n    <defs>\n     <path d=\"M 19.671875 64.796875 \nL 19.671875 37.40625 \nL 32.078125 37.40625 \nQ 38.96875 37.40625 42.71875 40.96875 \nQ 46.484375 44.53125 46.484375 51.125 \nQ 46.484375 57.671875 42.71875 61.234375 \nQ 38.96875 64.796875 32.078125 64.796875 \nz\nM 9.8125 72.90625 \nL 32.078125 72.90625 \nQ 44.34375 72.90625 50.609375 67.359375 \nQ 56.890625 61.8125 56.890625 51.125 \nQ 56.890625 40.328125 50.609375 34.8125 \nQ 44.34375 29.296875 32.078125 29.296875 \nL 19.671875 29.296875 \nL 19.671875 0 \nL 9.8125 0 \nz\n\" id=\"DejaVuSans-80\"/>\n     <path d=\"M 45.40625 46.390625 \nL 45.40625 75.984375 \nL 54.390625 75.984375 \nL 54.390625 0 \nL 45.40625 0 \nL 45.40625 8.203125 \nQ 42.578125 3.328125 38.25 0.953125 \nQ 33.9375 -1.421875 27.875 -1.421875 \nQ 17.96875 -1.421875 11.734375 6.484375 \nQ 5.515625 14.40625 5.515625 27.296875 \nQ 5.515625 40.1875 11.734375 48.09375 \nQ 17.96875 56 27.875 56 \nQ 33.9375 56 38.25 53.625 \nQ 42.578125 51.265625 45.40625 46.390625 \nz\nM 14.796875 27.296875 \nQ 14.796875 17.390625 18.875 11.75 \nQ 22.953125 6.109375 30.078125 6.109375 \nQ 37.203125 6.109375 41.296875 11.75 \nQ 45.40625 17.390625 45.40625 27.296875 \nQ 45.40625 37.203125 41.296875 42.84375 \nQ 37.203125 48.484375 30.078125 48.484375 \nQ 22.953125 48.484375 18.875 42.84375 \nQ 14.796875 37.203125 14.796875 27.296875 \nz\n\" id=\"DejaVuSans-100\"/>\n     <path d=\"M 9.421875 54.6875 \nL 18.40625 54.6875 \nL 18.40625 0 \nL 9.421875 0 \nz\nM 9.421875 75.984375 \nL 18.40625 75.984375 \nL 18.40625 64.59375 \nL 9.421875 64.59375 \nz\n\" id=\"DejaVuSans-105\"/>\n     <path d=\"M 48.78125 52.59375 \nL 48.78125 44.1875 \nQ 44.96875 46.296875 41.140625 47.34375 \nQ 37.3125 48.390625 33.40625 48.390625 \nQ 24.65625 48.390625 19.8125 42.84375 \nQ 14.984375 37.3125 14.984375 27.296875 \nQ 14.984375 17.28125 19.8125 11.734375 \nQ 24.65625 6.203125 33.40625 6.203125 \nQ 37.3125 6.203125 41.140625 7.25 \nQ 44.96875 8.296875 48.78125 10.40625 \nL 48.78125 2.09375 \nQ 45.015625 0.34375 40.984375 -0.53125 \nQ 36.96875 -1.421875 32.421875 -1.421875 \nQ 20.0625 -1.421875 12.78125 6.34375 \nQ 5.515625 14.109375 5.515625 27.296875 \nQ 5.515625 40.671875 12.859375 48.328125 \nQ 20.21875 56 33.015625 56 \nQ 37.15625 56 41.109375 55.140625 \nQ 45.0625 54.296875 48.78125 52.59375 \nz\n\" id=\"DejaVuSans-99\"/>\n     <path d=\"M 18.3125 70.21875 \nL 18.3125 54.6875 \nL 36.8125 54.6875 \nL 36.8125 47.703125 \nL 18.3125 47.703125 \nL 18.3125 18.015625 \nQ 18.3125 11.328125 20.140625 9.421875 \nQ 21.96875 7.515625 27.59375 7.515625 \nL 36.8125 7.515625 \nL 36.8125 0 \nL 27.59375 0 \nQ 17.1875 0 13.234375 3.875 \nQ 9.28125 7.765625 9.28125 18.015625 \nL 9.28125 47.703125 \nL 2.6875 47.703125 \nL 2.6875 54.6875 \nL 9.28125 54.6875 \nL 9.28125 70.21875 \nz\n\" id=\"DejaVuSans-116\"/>\n     <path d=\"M 31.78125 66.40625 \nQ 24.171875 66.40625 20.328125 58.90625 \nQ 16.5 51.421875 16.5 36.375 \nQ 16.5 21.390625 20.328125 13.890625 \nQ 24.171875 6.390625 31.78125 6.390625 \nQ 39.453125 6.390625 43.28125 13.890625 \nQ 47.125 21.390625 47.125 36.375 \nQ 47.125 51.421875 43.28125 58.90625 \nQ 39.453125 66.40625 31.78125 66.40625 \nz\nM 31.78125 74.21875 \nQ 44.046875 74.21875 50.515625 64.515625 \nQ 56.984375 54.828125 56.984375 36.375 \nQ 56.984375 17.96875 50.515625 8.265625 \nQ 44.046875 -1.421875 31.78125 -1.421875 \nQ 19.53125 -1.421875 13.0625 8.265625 \nQ 6.59375 17.96875 6.59375 36.375 \nQ 6.59375 54.828125 13.0625 64.515625 \nQ 19.53125 74.21875 31.78125 74.21875 \nz\n\" id=\"DejaVuSans-48\"/>\n    </defs>\n    <g transform=\"translate(27.650965 25.99625)scale(0.1 -0.1)\">\n     <use xlink:href=\"#DejaVuSans-32\"/>\n     <use x=\"31.787109\" xlink:href=\"#DejaVuSans-80\"/>\n     <use x=\"90.339844\" xlink:href=\"#DejaVuSans-114\"/>\n     <use x=\"129.203125\" xlink:href=\"#DejaVuSans-101\"/>\n     <use x=\"190.726562\" xlink:href=\"#DejaVuSans-100\"/>\n     <use x=\"254.203125\" xlink:href=\"#DejaVuSans-105\"/>\n     <use x=\"281.986328\" xlink:href=\"#DejaVuSans-99\"/>\n     <use x=\"336.966797\" xlink:href=\"#DejaVuSans-116\"/>\n     <use x=\"376.175781\" xlink:href=\"#DejaVuSans-101\"/>\n     <use x=\"437.699219\" xlink:href=\"#DejaVuSans-100\"/>\n     <use x=\"501.175781\" xlink:href=\"#DejaVuSans-32\"/>\n     <use x=\"532.962891\" xlink:href=\"#DejaVuSans-108\"/>\n     <use x=\"560.746094\" xlink:href=\"#DejaVuSans-97\"/>\n     <use x=\"622.025391\" xlink:href=\"#DejaVuSans-98\"/>\n     <use x=\"685.501953\" xlink:href=\"#DejaVuSans-101\"/>\n     <use x=\"747.025391\" xlink:href=\"#DejaVuSans-108\"/>\n     <use x=\"774.808594\" xlink:href=\"#DejaVuSans-58\"/>\n     <use x=\"808.5\" xlink:href=\"#DejaVuSans-32\"/>\n     <use x=\"840.287109\" xlink:href=\"#DejaVuSans-48\"/>\n    </g>\n   </g>\n  </g>\n  <g id=\"axes_2\">\n   <g clip-path=\"url(#p249a1e8a90)\">\n    <image height=\"132\" id=\"image5024c2bfc0\" transform=\"scale(1 -1)translate(0 -132)\" width=\"132\" x=\"164.752941\" xlink:href=\"data:image/png;base64,\niVBORw0KGgoAAAANSUhEUgAAAIQAAACECAYAAABRRIOnAAAABHNCSVQICAgIfAhkiAAAB6tJREFUeJztnU9zHEcZh5+ZndUfl0xQ1lihjPMHEmKo4pADBw5wzrfgxo3vwLegihtHPkdCcaEqcCGBmAoxdkWSS5Jlrf7s7sw0h9lX02/vSPIhqt0xv6eqa0ZtaUqufvz2293vrDP4XcCxCcXH8KufwW8z3v/4Mb/Z+AO/fvlH7v9pn+r38Onf4NMAJWJV2QBGwPa8jaLrnSFk28AWkPufS74U/+9ICOGQEMJRwCDpGjRtAOSQU5NTQwgQOp4gXisK+EHStQnDe7ADjAJbwzF3OWGtmsIEZZI9IkStmrcZECrIZsAUyPzPFPBh8phNuPcGvJ1R7Mz4Xv6cUTjgzuQMziBMoFak6AU1jQQljQhT5v+maxieQzbgFYQYFPBwHd6FO6NzdrI9RuGAwbiCcfPE6tb/KuLboGZRism8FVPIzugQYvSm79kAfgS8E3hj65j77PNmOCQ7CXDWPLVC6URfsKmipIkQ1tZrGE4gWxAinTE2gB9C9nbgrcEub7HrhAjTxjqx2tQsRgi7XgAFTUfiAwUfJD3zCLG5c8H3s2/YYY+tyRheAmOoZxKiD8QyxPnDGs0CsqCRYVGIR0nPOvB+YPvuIQ+yZ+ywx8bZOdkxcNYkJMoh+oEJEU8ZExohLmim/ZsjxDoU75Q8HDzlAc+4H/ZZP5mCCVEpQvQFixKWUFqkKIBzrhLiJ0nPWmB79IJ3+Q8PeMaoPIDD0AgxhqqUEH0ijhImxHzPsXNhUHAv6VmDu2snbGdHfJcXbIVxo9N587Q6SIg+0LXkHNJMGTmtEIsRIh3dGgLZfMO6acBlBqLlZn+wyGDTxnTeb8lkRZcQaYZYZlR1TjUYtEKYUh0PEKuNyTCgiQ5GoFlxLAoxS3oyqMOAiqaFLGsnnYGE6BPpGUZOGyWge7VYLBxW5VCGASXFpRTktHFGRvQCk2GAP4+0w66a+eZUQuGUARchSgrqLGunjLkQcmL1sYHvOpy2RDMtfIDOHALqkDNjuBghcgWJPlHTDJ0NsUUGywBsWGMWhaiginKI2oSIaqskRD+waSOuibAT746Tb6BrygDqOvdJZaSTZOgPJkHNZYB3//67hRgmPcNAntUMqCgoyUJodznmOxnai+gXcSJ5E8XGo3PfkZV8sP4lH/JP3uMr7l08hz3gEBjDrFQ9xOtM8fPNv7qOITN+yj/4iM94VH7B5tNzsq+BXQhHMClZ2LoQy8OmAgv/cRm9RQZog/xNFL/kE9cxZMaP+Rcfhc/YOdgjfxzgCbAL1XFTNKU629XAlo1ZdJ++V2EzvX3fTVNHpxDv1V/x8PAJ+ecVfAk8gbALs/FlFZ2mjCVjy/9oR+By5WBSxFVTGa8WJYpfzP7iOvJQc+fglPyLmuxz4DHwNbAH4xmcogKZVSCPrtbi/QU7yUz3jcL8z68So/jO3499Tw3ZLo0I/26u4SnMDuE4NEIoh1guNshxRLCyuHjLKD7+hlaG66J7kX2S9NTAc+Ap8N+mVd/AYQlHKIdYJUwKk2EQNfDjZFvVXTUQMQVdQryA8BzCPkyP4XDWOHJEGyGUQyyXnMXpIhYjHp94mrjp6KEIf056AtTncH4BpyW8oKmeO6K5P0UVU6tAFl0tdzAZhrRC2KrCpOkqiokpTvZ9R6CpljuheVHrdH5/QjNd6PXO5WMri6hM5bINacRIIwT4w66rEsviZdJhQpzRllJe0EhQ4te1Yjl0RYdYhjXawbYIYaecJddPG8VJ0hFookAsg5Vw20GJWC62sogjRTxdxBHCRKiSn7uKhQgBzeBf0AoxxUcISbF8bGDT1UVBm0PUSb9NFdfmEOOkw6psJrRv+ti9CSFWh3QfIp4yKvybW69SulCcJh0mxBT/to8JoV3K1WHAYkJpU0Y9v4+rruM9iqvonDLMKBNgGvVpylg+8S5lRhsZ4mbFMeX86ziZvE6KhaQS2nCTXpVUrg7x4MZLT4sSFukH0ffExfNX0RkhYLHKpo76xHKxVUI80F05hL3Clx582TM638u4uLVfW9w28TIybumxeNp3HV3vaogVx6J0nOvZ50fZoNe0q8RZ9L0WFa48/r6dX1ncJnFuZyvCuPbBpvYL2i2DeNvguqMHCdFT4uVkWkdpK8FJ1Cw63FQgLSF6SLyk7MoLbAFw+bmUtPtKN60UJUQPiVeAcfi3yGD1KpZb2NVkuG61KCF6SPzZUdAOsJ1mphtT6fW6zUUJ0UPSUnpLMtMi2/jzIeJ7TRmvITbIVvSS025CWU4RTw/p/VVIiB5TJ9ebeJVdZgnxGvBtHifof9QRDgkhHBJCOCSEcEgI4ZAQwiEhhENCCIeEEA4JIRwSQjgkhHBICOGQEMIhIYRDQgiHhBAOCSEcEkI4JIRwSAjhkBDCISGEQ0IIh4QQDgkhHBJCOCSEcEgI4ZAQwiEhhENCCIeEEA4JIRwSQjgkhHBICOGQEMIhIYRDQgiHhBAOCSEcEkI4JIRwSAjhkBDCISGEQ0IIh4QQDgkhHBJCOCSEcEgI4ZAQwiEhhENCCIeEEA4JIRwSQjgkhHBICOGQEMIhIYRDQgiHhBAOCSEcEkI4JIRwSAjhkBDCISGEQ0IIh4QQDgkhHBJCOCSEcEgI4ZAQwiEhhON/tQ3CrsnZox8AAAAASUVORK5CYII=\" y=\"-31.290368\"/>\n   </g>\n   <g id=\"text_2\">\n    <!-- Class Activation Map -->\n    <defs>\n     <path d=\"M 64.40625 67.28125 \nL 64.40625 56.890625 \nQ 59.421875 61.53125 53.78125 63.8125 \nQ 48.140625 66.109375 41.796875 66.109375 \nQ 29.296875 66.109375 22.65625 58.46875 \nQ 16.015625 50.828125 16.015625 36.375 \nQ 16.015625 21.96875 22.65625 14.328125 \nQ 29.296875 6.6875 41.796875 6.6875 \nQ 48.140625 6.6875 53.78125 8.984375 \nQ 59.421875 11.28125 64.40625 15.921875 \nL 64.40625 5.609375 \nQ 59.234375 2.09375 53.4375 0.328125 \nQ 47.65625 -1.421875 41.21875 -1.421875 \nQ 24.65625 -1.421875 15.125 8.703125 \nQ 5.609375 18.84375 5.609375 36.375 \nQ 5.609375 53.953125 15.125 64.078125 \nQ 24.65625 74.21875 41.21875 74.21875 \nQ 47.75 74.21875 53.53125 72.484375 \nQ 59.328125 70.75 64.40625 67.28125 \nz\n\" id=\"DejaVuSans-67\"/>\n     <path d=\"M 44.28125 53.078125 \nL 44.28125 44.578125 \nQ 40.484375 46.53125 36.375 47.5 \nQ 32.28125 48.484375 27.875 48.484375 \nQ 21.1875 48.484375 17.84375 46.4375 \nQ 14.5 44.390625 14.5 40.28125 \nQ 14.5 37.15625 16.890625 35.375 \nQ 19.28125 33.59375 26.515625 31.984375 \nL 29.59375 31.296875 \nQ 39.15625 29.25 43.1875 25.515625 \nQ 47.21875 21.78125 47.21875 15.09375 \nQ 47.21875 7.46875 41.1875 3.015625 \nQ 35.15625 -1.421875 24.609375 -1.421875 \nQ 20.21875 -1.421875 15.453125 -0.5625 \nQ 10.6875 0.296875 5.421875 2 \nL 5.421875 11.28125 \nQ 10.40625 8.6875 15.234375 7.390625 \nQ 20.0625 6.109375 24.8125 6.109375 \nQ 31.15625 6.109375 34.5625 8.28125 \nQ 37.984375 10.453125 37.984375 14.40625 \nQ 37.984375 18.0625 35.515625 20.015625 \nQ 33.0625 21.96875 24.703125 23.78125 \nL 21.578125 24.515625 \nQ 13.234375 26.265625 9.515625 29.90625 \nQ 5.8125 33.546875 5.8125 39.890625 \nQ 5.8125 47.609375 11.28125 51.796875 \nQ 16.75 56 26.8125 56 \nQ 31.78125 56 36.171875 55.265625 \nQ 40.578125 54.546875 44.28125 53.078125 \nz\n\" id=\"DejaVuSans-115\"/>\n     <path d=\"M 34.1875 63.1875 \nL 20.796875 26.90625 \nL 47.609375 26.90625 \nz\nM 28.609375 72.90625 \nL 39.796875 72.90625 \nL 67.578125 0 \nL 57.328125 0 \nL 50.6875 18.703125 \nL 17.828125 18.703125 \nL 11.1875 0 \nL 0.78125 0 \nz\n\" id=\"DejaVuSans-65\"/>\n     <path d=\"M 2.984375 54.6875 \nL 12.5 54.6875 \nL 29.59375 8.796875 \nL 46.6875 54.6875 \nL 56.203125 54.6875 \nL 35.6875 0 \nL 23.484375 0 \nz\n\" id=\"DejaVuSans-118\"/>\n     <path d=\"M 30.609375 48.390625 \nQ 23.390625 48.390625 19.1875 42.75 \nQ 14.984375 37.109375 14.984375 27.296875 \nQ 14.984375 17.484375 19.15625 11.84375 \nQ 23.34375 6.203125 30.609375 6.203125 \nQ 37.796875 6.203125 41.984375 11.859375 \nQ 46.1875 17.53125 46.1875 27.296875 \nQ 46.1875 37.015625 41.984375 42.703125 \nQ 37.796875 48.390625 30.609375 48.390625 \nz\nM 30.609375 56 \nQ 42.328125 56 49.015625 48.375 \nQ 55.71875 40.765625 55.71875 27.296875 \nQ 55.71875 13.875 49.015625 6.21875 \nQ 42.328125 -1.421875 30.609375 -1.421875 \nQ 18.84375 -1.421875 12.171875 6.21875 \nQ 5.515625 13.875 5.515625 27.296875 \nQ 5.515625 40.765625 12.171875 48.375 \nQ 18.84375 56 30.609375 56 \nz\n\" id=\"DejaVuSans-111\"/>\n     <path d=\"M 54.890625 33.015625 \nL 54.890625 0 \nL 45.90625 0 \nL 45.90625 32.71875 \nQ 45.90625 40.484375 42.875 44.328125 \nQ 39.84375 48.1875 33.796875 48.1875 \nQ 26.515625 48.1875 22.3125 43.546875 \nQ 18.109375 38.921875 18.109375 30.90625 \nL 18.109375 0 \nL 9.078125 0 \nL 9.078125 54.6875 \nL 18.109375 54.6875 \nL 18.109375 46.1875 \nQ 21.34375 51.125 25.703125 53.5625 \nQ 30.078125 56 35.796875 56 \nQ 45.21875 56 50.046875 50.171875 \nQ 54.890625 44.34375 54.890625 33.015625 \nz\n\" id=\"DejaVuSans-110\"/>\n     <path d=\"M 9.8125 72.90625 \nL 24.515625 72.90625 \nL 43.109375 23.296875 \nL 61.8125 72.90625 \nL 76.515625 72.90625 \nL 76.515625 0 \nL 66.890625 0 \nL 66.890625 64.015625 \nL 48.09375 14.015625 \nL 38.1875 14.015625 \nL 19.390625 64.015625 \nL 19.390625 0 \nL 9.8125 0 \nz\n\" id=\"DejaVuSans-77\"/>\n     <path d=\"M 18.109375 8.203125 \nL 18.109375 -20.796875 \nL 9.078125 -20.796875 \nL 9.078125 54.6875 \nL 18.109375 54.6875 \nL 18.109375 46.390625 \nQ 20.953125 51.265625 25.265625 53.625 \nQ 29.59375 56 35.59375 56 \nQ 45.5625 56 51.78125 48.09375 \nQ 58.015625 40.1875 58.015625 27.296875 \nQ 58.015625 14.40625 51.78125 6.484375 \nQ 45.5625 -1.421875 35.59375 -1.421875 \nQ 29.59375 -1.421875 25.265625 0.953125 \nQ 20.953125 3.328125 18.109375 8.203125 \nz\nM 48.6875 27.296875 \nQ 48.6875 37.203125 44.609375 42.84375 \nQ 40.53125 48.484375 33.40625 48.484375 \nQ 26.265625 48.484375 22.1875 42.84375 \nQ 18.109375 37.203125 18.109375 27.296875 \nQ 18.109375 17.390625 22.1875 11.75 \nQ 26.265625 6.109375 33.40625 6.109375 \nQ 40.53125 6.109375 44.609375 11.75 \nQ 48.6875 17.390625 48.6875 27.296875 \nz\n\" id=\"DejaVuSans-112\"/>\n    </defs>\n    <g transform=\"translate(178.483594 25.99625)scale(0.1 -0.1)\">\n     <use xlink:href=\"#DejaVuSans-67\"/>\n     <use x=\"69.824219\" xlink:href=\"#DejaVuSans-108\"/>\n     <use x=\"97.607422\" xlink:href=\"#DejaVuSans-97\"/>\n     <use x=\"158.886719\" xlink:href=\"#DejaVuSans-115\"/>\n     <use x=\"210.986328\" xlink:href=\"#DejaVuSans-115\"/>\n     <use x=\"263.085938\" xlink:href=\"#DejaVuSans-32\"/>\n     <use x=\"294.873047\" xlink:href=\"#DejaVuSans-65\"/>\n     <use x=\"361.53125\" xlink:href=\"#DejaVuSans-99\"/>\n     <use x=\"416.511719\" xlink:href=\"#DejaVuSans-116\"/>\n     <use x=\"455.720703\" xlink:href=\"#DejaVuSans-105\"/>\n     <use x=\"483.503906\" xlink:href=\"#DejaVuSans-118\"/>\n     <use x=\"542.683594\" xlink:href=\"#DejaVuSans-97\"/>\n     <use x=\"603.962891\" xlink:href=\"#DejaVuSans-116\"/>\n     <use x=\"643.171875\" xlink:href=\"#DejaVuSans-105\"/>\n     <use x=\"670.955078\" xlink:href=\"#DejaVuSans-111\"/>\n     <use x=\"732.136719\" xlink:href=\"#DejaVuSans-110\"/>\n     <use x=\"795.515625\" xlink:href=\"#DejaVuSans-32\"/>\n     <use x=\"827.302734\" xlink:href=\"#DejaVuSans-77\"/>\n     <use x=\"913.582031\" xlink:href=\"#DejaVuSans-97\"/>\n     <use x=\"974.861328\" xlink:href=\"#DejaVuSans-112\"/>\n    </g>\n   </g>\n  </g>\n  <g id=\"axes_3\">\n   <g clip-path=\"url(#p82d4142ca9)\">\n    <image height=\"132\" id=\"imageff8e3f6469\" transform=\"scale(1 -1)translate(0 -132)\" width=\"132\" x=\"322.305882\" xlink:href=\"data:image/png;base64,\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\" y=\"-31.290368\"/>\n   </g>\n   <g id=\"text_3\">\n    <!-- Activation Map Superimposed -->\n    <defs>\n     <path d=\"M 53.515625 70.515625 \nL 53.515625 60.890625 \nQ 47.90625 63.578125 42.921875 64.890625 \nQ 37.9375 66.21875 33.296875 66.21875 \nQ 25.25 66.21875 20.875 63.09375 \nQ 16.5 59.96875 16.5 54.203125 \nQ 16.5 49.359375 19.40625 46.890625 \nQ 22.3125 44.4375 30.421875 42.921875 \nL 36.375 41.703125 \nQ 47.40625 39.59375 52.65625 34.296875 \nQ 57.90625 29 57.90625 20.125 \nQ 57.90625 9.515625 50.796875 4.046875 \nQ 43.703125 -1.421875 29.984375 -1.421875 \nQ 24.8125 -1.421875 18.96875 -0.25 \nQ 13.140625 0.921875 6.890625 3.21875 \nL 6.890625 13.375 \nQ 12.890625 10.015625 18.65625 8.296875 \nQ 24.421875 6.59375 29.984375 6.59375 \nQ 38.421875 6.59375 43.015625 9.90625 \nQ 47.609375 13.234375 47.609375 19.390625 \nQ 47.609375 24.75 44.3125 27.78125 \nQ 41.015625 30.8125 33.5 32.328125 \nL 27.484375 33.5 \nQ 16.453125 35.6875 11.515625 40.375 \nQ 6.59375 45.0625 6.59375 53.421875 \nQ 6.59375 63.09375 13.40625 68.65625 \nQ 20.21875 74.21875 32.171875 74.21875 \nQ 37.3125 74.21875 42.625 73.28125 \nQ 47.953125 72.359375 53.515625 70.515625 \nz\n\" id=\"DejaVuSans-83\"/>\n     <path d=\"M 52 44.1875 \nQ 55.375 50.25 60.0625 53.125 \nQ 64.75 56 71.09375 56 \nQ 79.640625 56 84.28125 50.015625 \nQ 88.921875 44.046875 88.921875 33.015625 \nL 88.921875 0 \nL 79.890625 0 \nL 79.890625 32.71875 \nQ 79.890625 40.578125 77.09375 44.375 \nQ 74.3125 48.1875 68.609375 48.1875 \nQ 61.625 48.1875 57.5625 43.546875 \nQ 53.515625 38.921875 53.515625 30.90625 \nL 53.515625 0 \nL 44.484375 0 \nL 44.484375 32.71875 \nQ 44.484375 40.625 41.703125 44.40625 \nQ 38.921875 48.1875 33.109375 48.1875 \nQ 26.21875 48.1875 22.15625 43.53125 \nQ 18.109375 38.875 18.109375 30.90625 \nL 18.109375 0 \nL 9.078125 0 \nL 9.078125 54.6875 \nL 18.109375 54.6875 \nL 18.109375 46.1875 \nQ 21.1875 51.21875 25.484375 53.609375 \nQ 29.78125 56 35.6875 56 \nQ 41.65625 56 45.828125 52.96875 \nQ 50 49.953125 52 44.1875 \nz\n\" id=\"DejaVuSans-109\"/>\n    </defs>\n    <g transform=\"translate(313.192785 25.99625)scale(0.1 -0.1)\">\n     <use xlink:href=\"#DejaVuSans-65\"/>\n     <use x=\"66.658203\" xlink:href=\"#DejaVuSans-99\"/>\n     <use x=\"121.638672\" xlink:href=\"#DejaVuSans-116\"/>\n     <use x=\"160.847656\" xlink:href=\"#DejaVuSans-105\"/>\n     <use x=\"188.630859\" xlink:href=\"#DejaVuSans-118\"/>\n     <use x=\"247.810547\" xlink:href=\"#DejaVuSans-97\"/>\n     <use x=\"309.089844\" xlink:href=\"#DejaVuSans-116\"/>\n     <use x=\"348.298828\" xlink:href=\"#DejaVuSans-105\"/>\n     <use x=\"376.082031\" xlink:href=\"#DejaVuSans-111\"/>\n     <use x=\"437.263672\" xlink:href=\"#DejaVuSans-110\"/>\n     <use x=\"500.642578\" xlink:href=\"#DejaVuSans-32\"/>\n     <use x=\"532.429688\" xlink:href=\"#DejaVuSans-77\"/>\n     <use x=\"618.708984\" xlink:href=\"#DejaVuSans-97\"/>\n     <use x=\"679.988281\" xlink:href=\"#DejaVuSans-112\"/>\n     <use x=\"743.464844\" xlink:href=\"#DejaVuSans-32\"/>\n     <use x=\"775.251953\" xlink:href=\"#DejaVuSans-83\"/>\n     <use x=\"838.728516\" xlink:href=\"#DejaVuSans-117\"/>\n     <use x=\"902.107422\" xlink:href=\"#DejaVuSans-112\"/>\n     <use x=\"965.583984\" xlink:href=\"#DejaVuSans-101\"/>\n     <use x=\"1027.107422\" xlink:href=\"#DejaVuSans-114\"/>\n     <use x=\"1068.220703\" xlink:href=\"#DejaVuSans-105\"/>\n     <use x=\"1096.003906\" xlink:href=\"#DejaVuSans-109\"/>\n     <use x=\"1193.416016\" xlink:href=\"#DejaVuSans-112\"/>\n     <use x=\"1256.892578\" xlink:href=\"#DejaVuSans-111\"/>\n     <use x=\"1318.074219\" xlink:href=\"#DejaVuSans-115\"/>\n     <use x=\"1370.173828\" xlink:href=\"#DejaVuSans-101\"/>\n     <use x=\"1431.697266\" xlink:href=\"#DejaVuSans-100\"/>\n    </g>\n   </g>\n  </g>\n </g>\n <defs>\n  <clipPath id=\"p7fe34b72fc\">\n   <rect height=\"131.294118\" width=\"131.294118\" x=\"7.2\" y=\"31.99625\"/>\n  </clipPath>\n  <clipPath id=\"p249a1e8a90\">\n   <rect height=\"131.294118\" width=\"131.294118\" x=\"164.752941\" y=\"31.99625\"/>\n  </clipPath>\n  <clipPath id=\"p82d4142ca9\">\n   <rect height=\"131.294118\" width=\"131.294118\" x=\"322.305882\" y=\"31.99625\"/>\n  </clipPath>\n </defs>\n</svg>\n"
          },
          "metadata": {
            "needs_background": "light"
          }
        }
      ],
      "source": [
        "# select the sample and read the corresponding image and label\n",
        "sample_image = cv2.imread(valid_df.iloc[idx]['image'])\n",
        "sample_image = cv2.cvtColor(sample_image, cv2.COLOR_BGR2RGB)\n",
        "sample_image = cv2.resize(sample_image, (img_rows, img_cols))\n",
        "sample_label = valid_df.iloc[idx][\"label\"]\n",
        "\n",
        "# pre-process the image\n",
        "sample_image_processed = np.expand_dims(sample_image, axis=0)\n",
        "sample_image_processed = preprocess_input(sample_image_processed)\n",
        "\n",
        "# get the label predicted by our original model\n",
        "pred_label = np.argmax(model.predict(sample_image_processed), axis=-1)[0]\n",
        "\n",
        "# get the heatmap for class activation map(CAM)\n",
        "heatmap = get_CAM(sample_image_processed, pred_label)\n",
        "heatmap = cv2.resize(heatmap, (sample_image.shape[0], sample_image.shape[1]))\n",
        "heatmap = heatmap *255\n",
        "heatmap = np.clip(heatmap, 0, 255).astype(np.uint8)\n",
        "heatmap = cv2.applyColorMap(heatmap, cv2.COLORMAP_JET)\n",
        "super_imposed_image = heatmap * 0.5 + sample_image\n",
        "super_imposed_image = np.clip(super_imposed_image, 0,255).astype(np.uint8)\n",
        "\n",
        "# Ploting\n",
        "fontsize = 10\n",
        "fig, axes = plt.subplots( 1, 3, figsize=( 8, 8 ) )\n",
        "axes[0].set_title( f'True label: {sample_label} \\n Predicted label: {pred_label}',\n",
        "                  fontsize = fontsize )\n",
        "axes[0].axis('off')\n",
        "axes[0].imshow( sample_image )\n",
        "\n",
        "axes[1].set_title( f'Class Activation Map',\n",
        "                  fontsize = fontsize )\n",
        "axes[1].axis('off')\n",
        "axes[1].imshow( heatmap )\n",
        "\n",
        "axes[2].set_title( f'Activation Map Superimposed',\n",
        "                  fontsize = fontsize )\n",
        "axes[2].axis('off')\n",
        "axes[2].imshow( super_imposed_image )\n",
        "plt.show()\n",
        "\n",
        "# # Plot just CAM of the layer\n",
        "# plt.figure( figsize=(2, 2) )\n",
        "# plt.title( f'Class Activation Map - Layer: {layer}' )\n",
        "# plt.imshow( heatmap )\n",
        "# plt.show()"
      ]
    },
    {
      "cell_type": "code",
      "source": [
        "import tensorflow as tf\n",
        "print(tf.__version__)"
      ],
      "metadata": {
        "id": "r1uvAYIa49oX",
        "outputId": "b727474f-81fd-41ff-db32-a178ec38aa46",
        "colab": {
          "base_uri": "https://localhost:8080/"
        }
      },
      "execution_count": 29,
      "outputs": [
        {
          "output_type": "stream",
          "name": "stdout",
          "text": [
            "2.9.2\n"
          ]
        }
      ]
    }
  ],
  "metadata": {
    "accelerator": "GPU",
    "colab": {
      "machine_shape": "hm",
      "provenance": []
    },
    "gpuClass": "premium",
    "kernelspec": {
      "display_name": "Python 3",
      "language": "python",
      "name": "python3"
    },
    "language_info": {
      "codemirror_mode": {
        "name": "ipython",
        "version": 3
      },
      "file_extension": ".py",
      "mimetype": "text/x-python",
      "name": "python",
      "nbconvert_exporter": "python",
      "pygments_lexer": "ipython3",
      "version": "3.6.6"
    }
  },
  "nbformat": 4,
  "nbformat_minor": 0
}