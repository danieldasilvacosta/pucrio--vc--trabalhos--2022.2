{
  "cells": [
    {
      "cell_type": "code",
      "execution_count": 1,
      "metadata": {
        "colab": {
          "base_uri": "https://localhost:8080/"
        },
        "id": "yukxIi6LniSQ",
        "outputId": "91150d10-a31c-4383-f323-5164c14652bb"
      },
      "outputs": [
        {
          "output_type": "stream",
          "name": "stdout",
          "text": [
            "Mounted at /content/drive\n"
          ]
        }
      ],
      "source": [
        "from google.colab import drive\n",
        "drive.mount('/content/drive', force_remount=True)"
      ]
    },
    {
      "cell_type": "code",
      "execution_count": 2,
      "metadata": {
        "colab": {
          "base_uri": "https://localhost:8080/"
        },
        "id": "995UeTpNnpqJ",
        "outputId": "0d0eccc3-aad7-4e11-a47f-cc8dbcd7f266"
      },
      "outputs": [
        {
          "output_type": "stream",
          "name": "stdout",
          "text": [
            "/content/drive/MyDrive/Doutorado/Disciplinas/[2022.2] [PUC-Rio] Visão Computacional - Professor: Marcelo Gattass/Trabalhos/Trabalho Final/Code/What does a CNN see?\n"
          ]
        }
      ],
      "source": [
        "cd \"drive/MyDrive/Doutorado/Disciplinas/[2022.2] [PUC-Rio] Visão Computacional - Professor: Marcelo Gattass/Trabalhos/Trabalho Final/Code/What does a CNN see?/\""
      ]
    },
    {
      "cell_type": "code",
      "execution_count": 3,
      "metadata": {
        "colab": {
          "base_uri": "https://localhost:8080/"
        },
        "id": "cg29tq9_nx3_",
        "outputId": "5ece27b1-4a1f-4c74-9067-967b6fc03928"
      },
      "outputs": [
        {
          "output_type": "stream",
          "name": "stdout",
          "text": [
            "/content/drive/MyDrive/Doutorado/Disciplinas/[2022.2] [PUC-Rio] Visão Computacional - Professor: Marcelo Gattass/Trabalhos/Trabalho Final/Code/What does a CNN see?\n"
          ]
        }
      ],
      "source": [
        "!pwd"
      ]
    },
    {
      "cell_type": "code",
      "execution_count": 4,
      "metadata": {
        "id": "Fmp5VkmDnzJ6"
      },
      "outputs": [],
      "source": [
        "data_folder = './data/'"
      ]
    },
    {
      "cell_type": "code",
      "execution_count": 5,
      "metadata": {
        "id": "r49vJQx6m_n5"
      },
      "outputs": [],
      "source": [
        "import os\n",
        "import cv2\n",
        "import glob\n",
        "import h5py\n",
        "import shutil\n",
        "import imgaug as aug\n",
        "import numpy as np # linear algebra\n",
        "import pandas as pd # data processing, CSV file I/O (e.g. pd.read_csv)\n",
        "import seaborn as sns\n",
        "import matplotlib.pyplot as plt\n",
        "import imgaug.augmenters as iaa\n",
        "from os import listdir, makedirs, getcwd, remove\n",
        "from os.path import isfile, join, abspath, exists, isdir, expanduser\n",
        "from pathlib import Path\n",
        "from skimage.io import imread\n",
        "from skimage.transform import resize\n",
        "from keras.models import Sequential, Model, load_model\n",
        "from keras.applications.vgg16 import VGG16, preprocess_input\n",
        "from keras.layers import Conv2D, MaxPooling2D, Dense, Dropout, InputLayer, Flatten\n",
        "from keras.optimizers import Adam, SGD, RMSprop\n",
        "from keras.callbacks import ModelCheckpoint, Callback, EarlyStopping\n",
        "from keras.utils import to_categorical\n",
        "from sklearn.model_selection import train_test_split\n",
        "from mlxtend.plotting import plot_confusion_matrix\n",
        "from sklearn.metrics import confusion_matrix\n",
        "from mlxtend.plotting import plot_confusion_matrix\n",
        "from keras import backend as K\n",
        "import tensorflow as tf\n",
        "tf.compat.v1.disable_eager_execution() # daniel\n",
        "\n",
        "\n",
        "color = sns.color_palette()\n",
        "%matplotlib inline\n",
        "%config InlineBackend.figure_format=\"svg\"\n",
        "\n",
        "# Daniel\n",
        "from tensorflow.keras import datasets, layers, models"
      ]
    },
    {
      "cell_type": "code",
      "execution_count": 6,
      "metadata": {
        "id": "O63jTZkRm_n8"
      },
      "outputs": [],
      "source": [
        "# Set the seed for hash based operations in python\n",
        "os.environ['PYTHONHASHSEED'] = '0'\n",
        "\n",
        "seed=1234\n",
        "\n",
        "# Set the numpy seed\n",
        "np.random.seed(seed)\n",
        "\n",
        "# Set the random seed in tensorflow at graph level\n",
        "# tf.set_random_seed(seed) # obsolete\n",
        "tf.random.set_seed(seed)\n",
        "\n",
        "# Make the augmentation sequence deterministic\n",
        "aug.seed(seed)"
      ]
    },
    {
      "cell_type": "code",
      "execution_count": 7,
      "metadata": {
        "id": "GDVCZ3Som_n-"
      },
      "outputs": [],
      "source": [
        "# As usual, define some paths first to make life simpler\n",
        "training_data = Path(data_folder + '/training/') \n",
        "validation_data = Path(data_folder + '/validation/') \n",
        "labels_path = Path(data_folder + '/monkey_labels.txt')"
      ]
    },
    {
      "cell_type": "code",
      "execution_count": 8,
      "metadata": {
        "colab": {
          "base_uri": "https://localhost:8080/",
          "height": 363
        },
        "id": "pFmq_UfRm_oA",
        "outputId": "0947792a-22fc-47aa-c92b-55c10171dca3"
      },
      "outputs": [
        {
          "output_type": "execute_result",
          "data": {
            "text/plain": [
              "  Label             Latin Name                Common Name  Train Images  \\\n",
              "0    n0      alouatta_palliata             mantled_howler           131   \n",
              "1    n1     erythrocebus_patas               patas_monkey           139   \n",
              "2    n2         cacajao_calvus                bald_uakari           137   \n",
              "3    n3         macaca_fuscata           japanese_macaque           152   \n",
              "4    n4        cebuella_pygmea             pygmy_marmoset           131   \n",
              "5    n5        cebus_capucinus      white_headed_capuchin           141   \n",
              "6    n6        mico_argentatus           silvery_marmoset           132   \n",
              "7    n7       saimiri_sciureus     common_squirrel_monkey           142   \n",
              "8    n8        aotus_nigriceps  black_headed_night_monkey           133   \n",
              "9    n9  trachypithecus_johnii             nilgiri_langur           132   \n",
              "\n",
              "   Validation Images  \n",
              "0                 26  \n",
              "1                 28  \n",
              "2                 27  \n",
              "3                 30  \n",
              "4                 26  \n",
              "5                 28  \n",
              "6                 26  \n",
              "7                 28  \n",
              "8                 27  \n",
              "9                 26  "
            ],
            "text/html": [
              "\n",
              "  <div id=\"df-d907e6ff-74c6-44ec-be9e-4a039bee0934\">\n",
              "    <div class=\"colab-df-container\">\n",
              "      <div>\n",
              "<style scoped>\n",
              "    .dataframe tbody tr th:only-of-type {\n",
              "        vertical-align: middle;\n",
              "    }\n",
              "\n",
              "    .dataframe tbody tr th {\n",
              "        vertical-align: top;\n",
              "    }\n",
              "\n",
              "    .dataframe thead th {\n",
              "        text-align: right;\n",
              "    }\n",
              "</style>\n",
              "<table border=\"1\" class=\"dataframe\">\n",
              "  <thead>\n",
              "    <tr style=\"text-align: right;\">\n",
              "      <th></th>\n",
              "      <th>Label</th>\n",
              "      <th>Latin Name</th>\n",
              "      <th>Common Name</th>\n",
              "      <th>Train Images</th>\n",
              "      <th>Validation Images</th>\n",
              "    </tr>\n",
              "  </thead>\n",
              "  <tbody>\n",
              "    <tr>\n",
              "      <th>0</th>\n",
              "      <td>n0</td>\n",
              "      <td>alouatta_palliata</td>\n",
              "      <td>mantled_howler</td>\n",
              "      <td>131</td>\n",
              "      <td>26</td>\n",
              "    </tr>\n",
              "    <tr>\n",
              "      <th>1</th>\n",
              "      <td>n1</td>\n",
              "      <td>erythrocebus_patas</td>\n",
              "      <td>patas_monkey</td>\n",
              "      <td>139</td>\n",
              "      <td>28</td>\n",
              "    </tr>\n",
              "    <tr>\n",
              "      <th>2</th>\n",
              "      <td>n2</td>\n",
              "      <td>cacajao_calvus</td>\n",
              "      <td>bald_uakari</td>\n",
              "      <td>137</td>\n",
              "      <td>27</td>\n",
              "    </tr>\n",
              "    <tr>\n",
              "      <th>3</th>\n",
              "      <td>n3</td>\n",
              "      <td>macaca_fuscata</td>\n",
              "      <td>japanese_macaque</td>\n",
              "      <td>152</td>\n",
              "      <td>30</td>\n",
              "    </tr>\n",
              "    <tr>\n",
              "      <th>4</th>\n",
              "      <td>n4</td>\n",
              "      <td>cebuella_pygmea</td>\n",
              "      <td>pygmy_marmoset</td>\n",
              "      <td>131</td>\n",
              "      <td>26</td>\n",
              "    </tr>\n",
              "    <tr>\n",
              "      <th>5</th>\n",
              "      <td>n5</td>\n",
              "      <td>cebus_capucinus</td>\n",
              "      <td>white_headed_capuchin</td>\n",
              "      <td>141</td>\n",
              "      <td>28</td>\n",
              "    </tr>\n",
              "    <tr>\n",
              "      <th>6</th>\n",
              "      <td>n6</td>\n",
              "      <td>mico_argentatus</td>\n",
              "      <td>silvery_marmoset</td>\n",
              "      <td>132</td>\n",
              "      <td>26</td>\n",
              "    </tr>\n",
              "    <tr>\n",
              "      <th>7</th>\n",
              "      <td>n7</td>\n",
              "      <td>saimiri_sciureus</td>\n",
              "      <td>common_squirrel_monkey</td>\n",
              "      <td>142</td>\n",
              "      <td>28</td>\n",
              "    </tr>\n",
              "    <tr>\n",
              "      <th>8</th>\n",
              "      <td>n8</td>\n",
              "      <td>aotus_nigriceps</td>\n",
              "      <td>black_headed_night_monkey</td>\n",
              "      <td>133</td>\n",
              "      <td>27</td>\n",
              "    </tr>\n",
              "    <tr>\n",
              "      <th>9</th>\n",
              "      <td>n9</td>\n",
              "      <td>trachypithecus_johnii</td>\n",
              "      <td>nilgiri_langur</td>\n",
              "      <td>132</td>\n",
              "      <td>26</td>\n",
              "    </tr>\n",
              "  </tbody>\n",
              "</table>\n",
              "</div>\n",
              "      <button class=\"colab-df-convert\" onclick=\"convertToInteractive('df-d907e6ff-74c6-44ec-be9e-4a039bee0934')\"\n",
              "              title=\"Convert this dataframe to an interactive table.\"\n",
              "              style=\"display:none;\">\n",
              "        \n",
              "  <svg xmlns=\"http://www.w3.org/2000/svg\" height=\"24px\"viewBox=\"0 0 24 24\"\n",
              "       width=\"24px\">\n",
              "    <path d=\"M0 0h24v24H0V0z\" fill=\"none\"/>\n",
              "    <path d=\"M18.56 5.44l.94 2.06.94-2.06 2.06-.94-2.06-.94-.94-2.06-.94 2.06-2.06.94zm-11 1L8.5 8.5l.94-2.06 2.06-.94-2.06-.94L8.5 2.5l-.94 2.06-2.06.94zm10 10l.94 2.06.94-2.06 2.06-.94-2.06-.94-.94-2.06-.94 2.06-2.06.94z\"/><path d=\"M17.41 7.96l-1.37-1.37c-.4-.4-.92-.59-1.43-.59-.52 0-1.04.2-1.43.59L10.3 9.45l-7.72 7.72c-.78.78-.78 2.05 0 2.83L4 21.41c.39.39.9.59 1.41.59.51 0 1.02-.2 1.41-.59l7.78-7.78 2.81-2.81c.8-.78.8-2.07 0-2.86zM5.41 20L4 18.59l7.72-7.72 1.47 1.35L5.41 20z\"/>\n",
              "  </svg>\n",
              "      </button>\n",
              "      \n",
              "  <style>\n",
              "    .colab-df-container {\n",
              "      display:flex;\n",
              "      flex-wrap:wrap;\n",
              "      gap: 12px;\n",
              "    }\n",
              "\n",
              "    .colab-df-convert {\n",
              "      background-color: #E8F0FE;\n",
              "      border: none;\n",
              "      border-radius: 50%;\n",
              "      cursor: pointer;\n",
              "      display: none;\n",
              "      fill: #1967D2;\n",
              "      height: 32px;\n",
              "      padding: 0 0 0 0;\n",
              "      width: 32px;\n",
              "    }\n",
              "\n",
              "    .colab-df-convert:hover {\n",
              "      background-color: #E2EBFA;\n",
              "      box-shadow: 0px 1px 2px rgba(60, 64, 67, 0.3), 0px 1px 3px 1px rgba(60, 64, 67, 0.15);\n",
              "      fill: #174EA6;\n",
              "    }\n",
              "\n",
              "    [theme=dark] .colab-df-convert {\n",
              "      background-color: #3B4455;\n",
              "      fill: #D2E3FC;\n",
              "    }\n",
              "\n",
              "    [theme=dark] .colab-df-convert:hover {\n",
              "      background-color: #434B5C;\n",
              "      box-shadow: 0px 1px 3px 1px rgba(0, 0, 0, 0.15);\n",
              "      filter: drop-shadow(0px 1px 2px rgba(0, 0, 0, 0.3));\n",
              "      fill: #FFFFFF;\n",
              "    }\n",
              "  </style>\n",
              "\n",
              "      <script>\n",
              "        const buttonEl =\n",
              "          document.querySelector('#df-d907e6ff-74c6-44ec-be9e-4a039bee0934 button.colab-df-convert');\n",
              "        buttonEl.style.display =\n",
              "          google.colab.kernel.accessAllowed ? 'block' : 'none';\n",
              "\n",
              "        async function convertToInteractive(key) {\n",
              "          const element = document.querySelector('#df-d907e6ff-74c6-44ec-be9e-4a039bee0934');\n",
              "          const dataTable =\n",
              "            await google.colab.kernel.invokeFunction('convertToInteractive',\n",
              "                                                     [key], {});\n",
              "          if (!dataTable) return;\n",
              "\n",
              "          const docLinkHtml = 'Like what you see? Visit the ' +\n",
              "            '<a target=\"_blank\" href=https://colab.research.google.com/notebooks/data_table.ipynb>data table notebook</a>'\n",
              "            + ' to learn more about interactive tables.';\n",
              "          element.innerHTML = '';\n",
              "          dataTable['output_type'] = 'display_data';\n",
              "          await google.colab.output.renderOutput(dataTable, element);\n",
              "          const docLink = document.createElement('div');\n",
              "          docLink.innerHTML = docLinkHtml;\n",
              "          element.appendChild(docLink);\n",
              "        }\n",
              "      </script>\n",
              "    </div>\n",
              "  </div>\n",
              "  "
            ]
          },
          "metadata": {},
          "execution_count": 8
        }
      ],
      "source": [
        "labels_info = []\n",
        "\n",
        "# Read the file\n",
        "lines = labels_path.read_text().strip().splitlines()[1:]\n",
        "for line in lines:\n",
        "    line = line.split(',')\n",
        "    line = [x.strip(' \\n\\t\\r') for x in line]\n",
        "    line[3], line[4] = int(line[3]), int(line[4])\n",
        "    line = tuple(line)\n",
        "    labels_info.append(line)\n",
        "    \n",
        "# Convert the data into a pandas dataframe\n",
        "labels_info = pd.DataFrame(labels_info, columns=['Label', 'Latin Name', 'Common Name', \n",
        "                                                 'Train Images', 'Validation Images'], index=None)\n",
        "# Sneak peek \n",
        "labels_info.head(10)"
      ]
    },
    {
      "cell_type": "code",
      "execution_count": 9,
      "metadata": {
        "colab": {
          "base_uri": "https://localhost:8080/"
        },
        "id": "wHuT1Hz8m_oB",
        "outputId": "6f4a9a6b-1fbf-4739-efb7-3fa311a43384"
      },
      "outputs": [
        {
          "output_type": "stream",
          "name": "stdout",
          "text": [
            "{0: 'mantled_howler', 1: 'patas_monkey', 2: 'bald_uakari', 3: 'japanese_macaque', 4: 'pygmy_marmoset', 5: 'white_headed_capuchin', 6: 'silvery_marmoset', 7: 'common_squirrel_monkey', 8: 'black_headed_night_monkey', 9: 'nilgiri_langur'}\n"
          ]
        }
      ],
      "source": [
        "# Create a dictionary to map the labels to integers\n",
        "labels_dict= {'n0':0, 'n1':1, 'n2':2, 'n3':3, 'n4':4, 'n5':5, 'n6':6, 'n7':7, 'n8':8, 'n9':9}\n",
        "\n",
        "# map labels to common names\n",
        "names_dict = dict(zip(labels_dict.values(), labels_info[\"Common Name\"]))\n",
        "print(names_dict)"
      ]
    },
    {
      "cell_type": "code",
      "execution_count": 10,
      "metadata": {
        "colab": {
          "base_uri": "https://localhost:8080/"
        },
        "id": "a_MLw2_dm_oC",
        "outputId": "b8e9f29a-fdac-4ca2-946e-60b57cdb2928"
      },
      "outputs": [
        {
          "output_type": "stream",
          "name": "stdout",
          "text": [
            "Number of traininng samples:  1096\n",
            "Number of validation samples:  272\n",
            "\n",
            "                         image  label\n",
            "0  data/training/n2/n2117.jpg      2\n",
            "1  data/training/n7/n7028.jpg      7\n",
            "2  data/training/n0/n0155.jpg      0\n",
            "3  data/training/n7/n7064.jpg      7\n",
            "4  data/training/n2/n2133.jpg      2 \n",
            "\n",
            "=================================================================\n",
            "\n",
            "\n",
            "                           image  label\n",
            "0   data/validation/n7/n718.jpg      7\n",
            "1  data/validation/n6/n6013.jpg      6\n",
            "2  data/validation/n7/n7012.jpg      7\n",
            "3   data/validation/n5/n512.jpg      5\n",
            "4   data/validation/n5/n509.jpg      5\n"
          ]
        }
      ],
      "source": [
        "# Creating a dataframe for the training dataset\n",
        "train_df = []\n",
        "for folder in os.listdir(training_data):\n",
        "    # Define the path to the images\n",
        "    imgs_path = training_data / folder\n",
        "    \n",
        "    # Get the list of all the images stored in that directory\n",
        "    imgs = sorted(imgs_path.glob('*.jpg'))\n",
        "    \n",
        "    # Store each image path and corresponding label \n",
        "    for img_name in imgs:\n",
        "        train_df.append((str(img_name), labels_dict[folder]))\n",
        "\n",
        "\n",
        "train_df = pd.DataFrame(train_df, columns=['image', 'label'], index=None)\n",
        "# shuffle the dataset \n",
        "train_df = train_df.sample(frac=1.).reset_index(drop=True)\n",
        "\n",
        "####################################################################################################\n",
        "\n",
        "# Creating dataframe for validation data in a similar fashion\n",
        "valid_df = []\n",
        "for folder in os.listdir(validation_data):\n",
        "    imgs_path = validation_data / folder\n",
        "    imgs = sorted(imgs_path.glob('*.jpg'))\n",
        "    for img_name in imgs:\n",
        "        valid_df.append((str(img_name), labels_dict[folder]))\n",
        "\n",
        "        \n",
        "valid_df = pd.DataFrame(valid_df, columns=['image', 'label'], index=None)\n",
        "# shuffle the dataset \n",
        "valid_df = valid_df.sample(frac=1.).reset_index(drop=True)\n",
        "\n",
        "####################################################################################################\n",
        "\n",
        "# How many samples do we have in our training and validation data?\n",
        "print(\"Number of traininng samples: \", len(train_df))\n",
        "print(\"Number of validation samples: \", len(valid_df))\n",
        "\n",
        "# sneak peek of the training and validation dataframes\n",
        "print(\"\\n\",train_df.head(), \"\\n\")\n",
        "print(\"=================================================================\\n\")\n",
        "print(\"\\n\", valid_df.head())"
      ]
    },
    {
      "cell_type": "code",
      "execution_count": 11,
      "metadata": {
        "id": "4zcekSk9m_oD"
      },
      "outputs": [],
      "source": [
        "# some constants(not truly though!) \n",
        "\n",
        "# dimensions to consider for the images\n",
        "img_rows, img_cols, img_channels = 224,224,3\n",
        "\n",
        "# batch size for training  \n",
        "batch_size=8\n",
        "\n",
        "# total number of classes in the dataset\n",
        "nb_classes=10"
      ]
    },
    {
      "cell_type": "code",
      "execution_count": 12,
      "metadata": {
        "id": "XSt-OHwym_oD"
      },
      "outputs": [],
      "source": [
        "# Augmentation sequence \n",
        "seq = iaa.OneOf([\n",
        "    iaa.Fliplr(), # horizontal flips\n",
        "    iaa.Affine(rotate=20), # roatation\n",
        "    iaa.Multiply((1.2, 1.5))]) #random brightness"
      ]
    },
    {
      "cell_type": "code",
      "execution_count": 13,
      "metadata": {
        "id": "4hASMeAOm_oE"
      },
      "outputs": [],
      "source": [
        "def data_generator(data, batch_size, is_validation_data=False):\n",
        "    # Get total number of samples in the data\n",
        "    n = len(data)\n",
        "    nb_batches = int(np.ceil(n/batch_size))\n",
        "\n",
        "    # Get a numpy array of all the indices of the input data\n",
        "    indices = np.arange(n)\n",
        "    \n",
        "    # Define two numpy arrays for containing batch data and labels\n",
        "    batch_data = np.zeros((batch_size, img_rows, img_cols, img_channels), dtype=np.float32)\n",
        "    batch_labels = np.zeros((batch_size, nb_classes), dtype=np.float32)\n",
        "    \n",
        "    while True:\n",
        "        if not is_validation_data:\n",
        "            # shuffle indices for the training data\n",
        "            np.random.shuffle(indices)\n",
        "            \n",
        "        for i in range(nb_batches):\n",
        "            # get the next batch \n",
        "            next_batch_indices = indices[i*batch_size:(i+1)*batch_size]\n",
        "            \n",
        "            # process the next batch\n",
        "            for j, idx in enumerate(next_batch_indices):\n",
        "                img = cv2.imread(data.iloc[idx][\"image\"])\n",
        "                img = cv2.cvtColor(img, cv2.COLOR_BGR2RGB)\n",
        "                label = data.iloc[idx][\"label\"]\n",
        "                \n",
        "                if not is_validation_data:\n",
        "                    img = seq.augment_image(img)\n",
        "                \n",
        "                img = cv2.resize(img, (img_rows, img_cols)).astype(np.float32)\n",
        "                batch_data[j] = img\n",
        "                batch_labels[j] = to_categorical(label,num_classes=nb_classes)\n",
        "            \n",
        "            batch_data = preprocess_input(batch_data)\n",
        "            yield batch_data, batch_labels"
      ]
    },
    {
      "cell_type": "code",
      "execution_count": 14,
      "metadata": {
        "id": "gJ8LEwAJm_oF"
      },
      "outputs": [],
      "source": [
        "#training data generator \n",
        "train_data_gen = data_generator(train_df, batch_size)\n",
        "\n",
        "# validation data generator \n",
        "valid_data_gen = data_generator(valid_df, batch_size, is_validation_data=True)"
      ]
    },
    {
      "cell_type": "code",
      "execution_count": 15,
      "metadata": {
        "colab": {
          "base_uri": "https://localhost:8080/"
        },
        "id": "GwBknUFEbd5U",
        "outputId": "e9bfcba0-4cae-42d8-c601-d882e14f1081"
      },
      "outputs": [
        {
          "output_type": "stream",
          "name": "stdout",
          "text": [
            "Model: \"model\"\n",
            "_________________________________________________________________\n",
            " Layer (type)                Output Shape              Param #   \n",
            "=================================================================\n",
            " input_1 (InputLayer)        [(None, 224, 224, 3)]     0         \n",
            "                                                                 \n",
            " conv2d (Conv2D)             (None, 224, 224, 64)      23296     \n",
            "                                                                 \n",
            " max_pooling2d (MaxPooling2D  (None, 112, 112, 64)     0         \n",
            " )                                                               \n",
            "                                                                 \n",
            " conv2d_1 (Conv2D)           (None, 112, 112, 128)     991360    \n",
            "                                                                 \n",
            " max_pooling2d_1 (MaxPooling  (None, 56, 56, 128)      0         \n",
            " 2D)                                                             \n",
            "                                                                 \n",
            " conv2d_2 (Conv2D)           (None, 56, 56, 256)       3965184   \n",
            "                                                                 \n",
            " max_pooling2d_2 (MaxPooling  (None, 28, 28, 256)      0         \n",
            " 2D)                                                             \n",
            "                                                                 \n",
            " conv2d_3 (Conv2D)           (None, 28, 28, 512)       15860224  \n",
            "                                                                 \n",
            " max_pooling2d_3 (MaxPooling  (None, 14, 14, 512)      0         \n",
            " 2D)                                                             \n",
            "                                                                 \n",
            " conv2d_4 (Conv2D)           (None, 14, 14, 512)       31719936  \n",
            "                                                                 \n",
            " conv2d_5 (Conv2D)           (None, 14, 14, 512)       31719936  \n",
            "                                                                 \n",
            " max_pooling2d_4 (MaxPooling  (None, 7, 7, 512)        0         \n",
            " 2D)                                                             \n",
            "                                                                 \n",
            " flatten (Flatten)           (None, 25088)             0         \n",
            "                                                                 \n",
            " dense (Dense)               (None, 4096)              102764544 \n",
            "                                                                 \n",
            " dense_1 (Dense)             (None, 4096)              16781312  \n",
            "                                                                 \n",
            " dropout (Dropout)           (None, 4096)              0         \n",
            "                                                                 \n",
            " dense_2 (Dense)             (None, 10)                40970     \n",
            "                                                                 \n",
            "=================================================================\n",
            "Total params: 203,866,762\n",
            "Trainable params: 203,866,762\n",
            "Non-trainable params: 0\n",
            "_________________________________________________________________\n"
          ]
        }
      ],
      "source": [
        "# https://www.tensorflow.org/api_docs/python/tf/keras/layers/Conv2D\n",
        "# tf.keras.layers.Conv2D( filters, kernel_size, ...)\n",
        "\n",
        "model = models.Sequential([\n",
        "    layers.InputLayer( input_shape=(224, 224, 3) )\n",
        "])\n",
        "\n",
        "model.add( layers.Conv2D(64, (11, 11), \n",
        "                        padding='same',\n",
        "                        activation='relu') )\n",
        "model.add( layers.MaxPooling2D((2, 2)) )\n",
        "\n",
        "model.add( layers.Conv2D(128, (11, 11), \n",
        "                        padding='same',\n",
        "                        activation='relu') )\n",
        "model.add( layers.MaxPooling2D((2, 2)) )\n",
        "\n",
        "model.add( layers.Conv2D(256, (11, 11), \n",
        "                        padding='same',\n",
        "                        activation='relu') )\n",
        "model.add( layers.MaxPooling2D((2, 2)) )\n",
        "\n",
        "model.add( layers.Conv2D(512, (11, 11), \n",
        "                        padding='same',\n",
        "                        activation='relu') )\n",
        "model.add( layers.MaxPooling2D((2, 2)) )\n",
        "\n",
        "model.add( layers.Conv2D(512, (11, 11), \n",
        "                        padding='same',\n",
        "                        activation='relu') )\n",
        "model.add( layers.Conv2D(512, (11, 11), \n",
        "                        padding='same',\n",
        "                        activation='relu') )\n",
        "model.add( layers.MaxPooling2D((2, 2)) )\n",
        "\n",
        "model.add( layers.Flatten() )\n",
        "model.add( layers.Dense(4096, activation='relu') )\n",
        "model.add( layers.Dense(4096, activation='relu') )\n",
        "model.add( layers.Dropout(0.2) )\n",
        "model.add( layers.Dense(10, activation='softmax') )\n",
        "\n",
        "# To correct some bug on input\n",
        "model = Model(model.input, model.output)\n",
        "\n",
        "optimizer = RMSprop(0.001)\n",
        "model.compile(optimizer = optimizer, \n",
        "              loss = 'categorical_crossentropy',\n",
        "              metrics = ['accuracy'])\n",
        "\n",
        "model.summary()"
      ]
    },
    {
      "cell_type": "code",
      "execution_count": 16,
      "metadata": {
        "id": "AxTpbjyjm_oI"
      },
      "outputs": [],
      "source": [
        "early_stopping = EarlyStopping(patience=20, restore_best_weights=True)\n",
        "\n",
        "model_checkpoint = ModelCheckpoint(filepath=\"model1\", save_best_only=True)\n",
        "\n",
        "num_train_steps = int(np.ceil(len(train_df)/batch_size))\n",
        "num_valid_steps = int(np.ceil(len(valid_df)/batch_size))"
      ]
    },
    {
      "cell_type": "code",
      "execution_count": 17,
      "metadata": {
        "id": "mYCzLnpI8ZaC"
      },
      "outputs": [],
      "source": [
        "epochs=100\n",
        "# epochs=5 # daniel"
      ]
    },
    {
      "cell_type": "code",
      "execution_count": 18,
      "metadata": {
        "colab": {
          "base_uri": "https://localhost:8080/"
        },
        "id": "G5c29rBSm_oI",
        "outputId": "4e189a5c-2df7-4758-fa68-ae970a998e52"
      },
      "outputs": [
        {
          "output_type": "stream",
          "name": "stdout",
          "text": [
            "Epoch 1/100\n",
            "137/137 [==============================] - ETA: 0s - batch: 68.0000 - size: 8.0000 - loss: 267011271.3737 - accuracy: 0.1058"
          ]
        },
        {
          "output_type": "stream",
          "name": "stderr",
          "text": [
            "/usr/local/lib/python3.8/dist-packages/keras/engine/training_v1.py:2045: UserWarning: `Model.state_updates` will be removed in a future version. This property should not be used in TensorFlow 2.0, as `updates` are applied automatically.\n",
            "  updates = self.state_updates\n",
            "WARNING:absl:Found untraced functions such as _jit_compiled_convolution_op, _jit_compiled_convolution_op, _jit_compiled_convolution_op, _jit_compiled_convolution_op, _jit_compiled_convolution_op while saving (showing 5 of 6). These functions will not be directly callable after loading.\n"
          ]
        },
        {
          "output_type": "stream",
          "name": "stdout",
          "text": [
            "\b\b\b\b\b\b\b\b\b\b\b\b\b\b\b\b\b\b\b\b\b\b\b\b\b\b\b\b\b\b\b\b\b\b\b\b\b\b\b\b\b\b\b\b\b\b\b\b\b\b\b\b\b\b\b\b\b\b\b\b\b\b\b\b\b\b\b\b\b\b\b\b\b\b\b\b\b\b\b\b\b\b\b\b\b\b\b\b\b\b\b\b\b\b\b\b\b\b\b\b\b\b\b\b\b\b\b\b\b\b\b\b\b\b\b\b\b\b\b\b\b\b\b\b\r137/137 [==============================] - 50s 322ms/step - batch: 68.0000 - size: 8.0000 - loss: 267011271.3737 - accuracy: 0.1058 - val_loss: 5.6905 - val_accuracy: 0.1176\n",
            "Epoch 2/100\n",
            "137/137 [==============================] - ETA: 0s - batch: 68.0000 - size: 8.0000 - loss: 11.4132 - accuracy: 0.1405"
          ]
        },
        {
          "output_type": "stream",
          "name": "stderr",
          "text": [
            "WARNING:absl:Found untraced functions such as _jit_compiled_convolution_op, _jit_compiled_convolution_op, _jit_compiled_convolution_op, _jit_compiled_convolution_op, _jit_compiled_convolution_op while saving (showing 5 of 6). These functions will not be directly callable after loading.\n"
          ]
        },
        {
          "output_type": "stream",
          "name": "stdout",
          "text": [
            "\b\b\b\b\b\b\b\b\b\b\b\b\b\b\b\b\b\b\b\b\b\b\b\b\b\b\b\b\b\b\b\b\b\b\b\b\b\b\b\b\b\b\b\b\b\b\b\b\b\b\b\b\b\b\b\b\b\b\b\b\b\b\b\b\b\b\b\b\b\b\b\b\b\b\b\b\b\b\b\b\b\b\b\b\b\b\b\b\b\b\b\b\b\b\b\b\b\b\b\b\b\b\b\b\b\b\b\b\b\b\b\b\b\b\b\b\b\r137/137 [==============================] - 46s 339ms/step - batch: 68.0000 - size: 8.0000 - loss: 11.4132 - accuracy: 0.1405 - val_loss: 2.3013 - val_accuracy: 0.1544\n",
            "Epoch 3/100\n",
            "137/137 [==============================] - 38s 281ms/step - batch: 68.0000 - size: 8.0000 - loss: 94.7082 - accuracy: 0.1049 - val_loss: 2.3021 - val_accuracy: 0.0993\n",
            "Epoch 4/100\n",
            "137/137 [==============================] - 37s 271ms/step - batch: 68.0000 - size: 8.0000 - loss: 157.7117 - accuracy: 0.1122 - val_loss: 2.3019 - val_accuracy: 0.1029\n",
            "Epoch 5/100\n",
            "137/137 [==============================] - 38s 279ms/step - batch: 68.0000 - size: 8.0000 - loss: 935.8163 - accuracy: 0.1058 - val_loss: 2.3016 - val_accuracy: 0.1213\n",
            "Epoch 6/100\n",
            "137/137 [==============================] - 39s 285ms/step - batch: 68.0000 - size: 8.0000 - loss: 304.4731 - accuracy: 0.1004 - val_loss: 2.6552 - val_accuracy: 0.1176\n",
            "Epoch 7/100\n",
            "137/137 [==============================] - ETA: 0s - batch: 68.0000 - size: 8.0000 - loss: 8.2983 - accuracy: 0.1086"
          ]
        },
        {
          "output_type": "stream",
          "name": "stderr",
          "text": [
            "WARNING:absl:Found untraced functions such as _jit_compiled_convolution_op, _jit_compiled_convolution_op, _jit_compiled_convolution_op, _jit_compiled_convolution_op, _jit_compiled_convolution_op while saving (showing 5 of 6). These functions will not be directly callable after loading.\n"
          ]
        },
        {
          "output_type": "stream",
          "name": "stdout",
          "text": [
            "\b\b\b\b\b\b\b\b\b\b\b\b\b\b\b\b\b\b\b\b\b\b\b\b\b\b\b\b\b\b\b\b\b\b\b\b\b\b\b\b\b\b\b\b\b\b\b\b\b\b\b\b\b\b\b\b\b\b\b\b\b\b\b\b\b\b\b\b\b\b\b\b\b\b\b\b\b\b\b\b\b\b\b\b\b\b\b\b\b\b\b\b\b\b\b\b\b\b\b\b\b\b\b\b\b\b\b\b\b\b\b\b\b\b\b\b\r137/137 [==============================] - 46s 341ms/step - batch: 68.0000 - size: 8.0000 - loss: 8.2983 - accuracy: 0.1086 - val_loss: 2.2996 - val_accuracy: 0.1066\n",
            "Epoch 8/100\n",
            "137/137 [==============================] - 41s 302ms/step - batch: 68.0000 - size: 8.0000 - loss: 427.2030 - accuracy: 0.1259 - val_loss: 2.3145 - val_accuracy: 0.1397\n",
            "Epoch 9/100\n",
            "137/137 [==============================] - 41s 299ms/step - batch: 68.0000 - size: 8.0000 - loss: 2.6490 - accuracy: 0.1223 - val_loss: 2.3021 - val_accuracy: 0.1103\n",
            "Epoch 10/100\n",
            "137/137 [==============================] - 40s 293ms/step - batch: 68.0000 - size: 8.0000 - loss: 46.8082 - accuracy: 0.1150 - val_loss: 2.3049 - val_accuracy: 0.0993\n",
            "Epoch 11/100\n",
            "137/137 [==============================] - 39s 286ms/step - batch: 68.0000 - size: 8.0000 - loss: 9.5431 - accuracy: 0.1223 - val_loss: 3.0572 - val_accuracy: 0.0993\n",
            "Epoch 12/100\n",
            "137/137 [==============================] - 40s 291ms/step - batch: 68.0000 - size: 8.0000 - loss: 8.2210 - accuracy: 0.1204 - val_loss: 2.4151 - val_accuracy: 0.1103\n",
            "Epoch 13/100\n",
            "137/137 [==============================] - 40s 297ms/step - batch: 68.0000 - size: 8.0000 - loss: 2.9207 - accuracy: 0.1104 - val_loss: 2.3021 - val_accuracy: 0.0993\n",
            "Epoch 14/100\n",
            "137/137 [==============================] - 41s 300ms/step - batch: 68.0000 - size: 8.0000 - loss: 2.4597 - accuracy: 0.1204 - val_loss: 2.3022 - val_accuracy: 0.1103\n",
            "Epoch 15/100\n",
            "137/137 [==============================] - 40s 294ms/step - batch: 68.0000 - size: 8.0000 - loss: 3.8948 - accuracy: 0.1095 - val_loss: 2.3018 - val_accuracy: 0.0993\n",
            "Epoch 16/100\n",
            "137/137 [==============================] - 42s 306ms/step - batch: 68.0000 - size: 8.0000 - loss: 3.9869 - accuracy: 0.1077 - val_loss: 2.3019 - val_accuracy: 0.1103\n",
            "Epoch 17/100\n",
            "137/137 [==============================] - 42s 308ms/step - batch: 68.0000 - size: 8.0000 - loss: 2.6695 - accuracy: 0.0985 - val_loss: 2.3019 - val_accuracy: 0.1103\n",
            "Epoch 18/100\n",
            "137/137 [==============================] - 40s 291ms/step - batch: 68.0000 - size: 8.0000 - loss: 2.5984 - accuracy: 0.1150 - val_loss: 2.3018 - val_accuracy: 0.1103\n",
            "Epoch 19/100\n",
            "137/137 [==============================] - 39s 284ms/step - batch: 68.0000 - size: 8.0000 - loss: 3.0841 - accuracy: 0.1259 - val_loss: 2.3020 - val_accuracy: 0.1324\n",
            "Epoch 20/100\n",
            "137/137 [==============================] - 42s 307ms/step - batch: 68.0000 - size: 8.0000 - loss: 2.4976 - accuracy: 0.1141 - val_loss: 2.3016 - val_accuracy: 0.1103\n",
            "Epoch 21/100\n",
            "137/137 [==============================] - 41s 301ms/step - batch: 68.0000 - size: 8.0000 - loss: 3.1994 - accuracy: 0.1168 - val_loss: 2.7457 - val_accuracy: 0.0919\n",
            "Epoch 22/100\n",
            "137/137 [==============================] - 38s 280ms/step - batch: 68.0000 - size: 8.0000 - loss: 5.4086 - accuracy: 0.1040 - val_loss: 2.3021 - val_accuracy: 0.1103\n",
            "Epoch 23/100\n",
            "137/137 [==============================] - 39s 289ms/step - batch: 68.0000 - size: 8.0000 - loss: 2.3243 - accuracy: 0.1122 - val_loss: 2.3019 - val_accuracy: 0.1103\n",
            "Epoch 24/100\n",
            "137/137 [==============================] - 41s 302ms/step - batch: 68.0000 - size: 8.0000 - loss: 2.4102 - accuracy: 0.1022 - val_loss: 2.3011 - val_accuracy: 0.1103\n",
            "Epoch 25/100\n",
            "137/137 [==============================] - ETA: 0s - batch: 68.0000 - size: 8.0000 - loss: 2.5384 - accuracy: 0.1113"
          ]
        },
        {
          "output_type": "stream",
          "name": "stderr",
          "text": [
            "WARNING:absl:Found untraced functions such as _jit_compiled_convolution_op, _jit_compiled_convolution_op, _jit_compiled_convolution_op, _jit_compiled_convolution_op, _jit_compiled_convolution_op while saving (showing 5 of 6). These functions will not be directly callable after loading.\n"
          ]
        },
        {
          "output_type": "stream",
          "name": "stdout",
          "text": [
            "\b\b\b\b\b\b\b\b\b\b\b\b\b\b\b\b\b\b\b\b\b\b\b\b\b\b\b\b\b\b\b\b\b\b\b\b\b\b\b\b\b\b\b\b\b\b\b\b\b\b\b\b\b\b\b\b\b\b\b\b\b\b\b\b\b\b\b\b\b\b\b\b\b\b\b\b\b\b\b\b\b\b\b\b\b\b\b\b\b\b\b\b\b\b\b\b\b\b\b\b\b\b\b\b\b\b\b\b\b\b\b\b\b\b\b\b\r137/137 [==============================] - 48s 356ms/step - batch: 68.0000 - size: 8.0000 - loss: 2.5384 - accuracy: 0.1113 - val_loss: 2.2861 - val_accuracy: 0.1029\n",
            "Epoch 26/100\n",
            "137/137 [==============================] - 42s 311ms/step - batch: 68.0000 - size: 8.0000 - loss: 33.8057 - accuracy: 0.1369 - val_loss: 2.3177 - val_accuracy: 0.1250\n",
            "Epoch 27/100\n",
            "137/137 [==============================] - 41s 304ms/step - batch: 68.0000 - size: 8.0000 - loss: 2.6132 - accuracy: 0.1350 - val_loss: 2.3080 - val_accuracy: 0.0956\n",
            "Epoch 28/100\n",
            "137/137 [==============================] - 42s 308ms/step - batch: 68.0000 - size: 8.0000 - loss: 10.2055 - accuracy: 0.1031 - val_loss: 2.3131 - val_accuracy: 0.1103\n",
            "Epoch 29/100\n",
            "137/137 [==============================] - 42s 305ms/step - batch: 68.0000 - size: 8.0000 - loss: 2.3912 - accuracy: 0.1277 - val_loss: 2.3021 - val_accuracy: 0.1103\n",
            "Epoch 30/100\n",
            "137/137 [==============================] - 42s 308ms/step - batch: 68.0000 - size: 8.0000 - loss: 10.9194 - accuracy: 0.1104 - val_loss: 2.9149 - val_accuracy: 0.0919\n",
            "Epoch 31/100\n",
            "137/137 [==============================] - 41s 301ms/step - batch: 68.0000 - size: 8.0000 - loss: 4.2698 - accuracy: 0.1451 - val_loss: 2.3031 - val_accuracy: 0.1103\n",
            "Epoch 32/100\n",
            "137/137 [==============================] - 41s 300ms/step - batch: 68.0000 - size: 8.0000 - loss: 2.6176 - accuracy: 0.1141 - val_loss: 2.3010 - val_accuracy: 0.1066\n",
            "Epoch 33/100\n",
            "137/137 [==============================] - 42s 308ms/step - batch: 68.0000 - size: 8.0000 - loss: 2.6881 - accuracy: 0.1177 - val_loss: 2.3008 - val_accuracy: 0.1434\n",
            "Epoch 34/100\n",
            "137/137 [==============================] - 42s 310ms/step - batch: 68.0000 - size: 8.0000 - loss: 3.1837 - accuracy: 0.1214 - val_loss: 2.3002 - val_accuracy: 0.1176\n",
            "Epoch 35/100\n",
            "137/137 [==============================] - 42s 312ms/step - batch: 68.0000 - size: 8.0000 - loss: 2.3539 - accuracy: 0.1232 - val_loss: 2.3020 - val_accuracy: 0.1103\n",
            "Epoch 36/100\n",
            "137/137 [==============================] - 42s 307ms/step - batch: 68.0000 - size: 8.0000 - loss: 2.3579 - accuracy: 0.1259 - val_loss: 2.3007 - val_accuracy: 0.1029\n",
            "Epoch 37/100\n",
            "137/137 [==============================] - 42s 308ms/step - batch: 68.0000 - size: 8.0000 - loss: 2.7229 - accuracy: 0.1177 - val_loss: 2.2986 - val_accuracy: 0.1066\n",
            "Epoch 38/100\n",
            "137/137 [==============================] - 42s 312ms/step - batch: 68.0000 - size: 8.0000 - loss: 2.3193 - accuracy: 0.1095 - val_loss: 2.3005 - val_accuracy: 0.1103\n",
            "Epoch 39/100\n",
            "137/137 [==============================] - 41s 301ms/step - batch: 68.0000 - size: 8.0000 - loss: 2.3828 - accuracy: 0.1068 - val_loss: 2.3020 - val_accuracy: 0.1103\n",
            "Epoch 40/100\n",
            "137/137 [==============================] - 43s 313ms/step - batch: 68.0000 - size: 8.0000 - loss: 2.3573 - accuracy: 0.1040 - val_loss: 2.2984 - val_accuracy: 0.1029\n",
            "Epoch 41/100\n",
            "137/137 [==============================] - 42s 306ms/step - batch: 68.0000 - size: 8.0000 - loss: 2.3132 - accuracy: 0.1104 - val_loss: 2.3019 - val_accuracy: 0.1029\n",
            "Epoch 42/100\n",
            "137/137 [==============================] - 42s 306ms/step - batch: 68.0000 - size: 8.0000 - loss: 2.3344 - accuracy: 0.1186 - val_loss: 2.3016 - val_accuracy: 0.1029\n",
            "Epoch 43/100\n",
            "137/137 [==============================] - 43s 313ms/step - batch: 68.0000 - size: 8.0000 - loss: 2.3043 - accuracy: 0.1122 - val_loss: 2.3010 - val_accuracy: 0.1140\n",
            "Epoch 44/100\n",
            "137/137 [==============================] - 42s 305ms/step - batch: 68.0000 - size: 8.0000 - loss: 2.3320 - accuracy: 0.1186 - val_loss: 2.3015 - val_accuracy: 0.1103\n",
            "Epoch 45/100\n",
            "137/137 [==============================] - 42s 305ms/step - batch: 68.0000 - size: 8.0000 - loss: 2.5671 - accuracy: 0.1104 - val_loss: 2.3018 - val_accuracy: 0.1140\n",
            "CPU times: user 46min 22s, sys: 9min 39s, total: 56min 2s\n",
            "Wall time: 31min 6s\n"
          ]
        }
      ],
      "source": [
        "%%time\n",
        "\n",
        "# train the model \n",
        "history1 = model.fit(train_data_gen, \n",
        "                              epochs = epochs, \n",
        "                              steps_per_epoch = num_train_steps, \n",
        "                              validation_data = valid_data_gen, \n",
        "                              validation_steps = num_valid_steps,\n",
        "                              callbacks = [early_stopping, model_checkpoint])"
      ]
    },
    {
      "cell_type": "code",
      "execution_count": 19,
      "metadata": {
        "id": "Qhkb7xSA6m5s",
        "outputId": "3d49cce5-d5e7-499c-c509-ec45b9c588db",
        "colab": {
          "base_uri": "https://localhost:8080/"
        }
      },
      "outputs": [
        {
          "output_type": "execute_result",
          "data": {
            "text/plain": [
              "dict_keys(['loss', 'accuracy', 'val_loss', 'val_accuracy'])"
            ]
          },
          "metadata": {},
          "execution_count": 19
        }
      ],
      "source": [
        "history1.history.keys()"
      ]
    },
    {
      "cell_type": "code",
      "execution_count": 20,
      "metadata": {
        "id": "5-IB0o62m_oJ",
        "colab": {
          "base_uri": "https://localhost:8080/",
          "height": 463
        },
        "outputId": "27a39a57-121a-4ffa-e388-87f42dd63cb6"
      },
      "outputs": [
        {
          "output_type": "display_data",
          "data": {
            "text/plain": [
              "<Figure size 720x360 with 2 Axes>"
            ],
            "image/svg+xml": "<?xml version=\"1.0\" encoding=\"utf-8\" standalone=\"no\"?>\n<!DOCTYPE svg PUBLIC \"-//W3C//DTD SVG 1.1//EN\"\n  \"http://www.w3.org/Graphics/SVG/1.1/DTD/svg11.dtd\">\n<!-- Created with matplotlib (https://matplotlib.org/) -->\n<svg height=\"331.674375pt\" version=\"1.1\" viewBox=\"0 0 608.98125 331.674375\" width=\"608.98125pt\" xmlns=\"http://www.w3.org/2000/svg\" xmlns:xlink=\"http://www.w3.org/1999/xlink\">\n <defs>\n  <style type=\"text/css\">\n*{stroke-linecap:butt;stroke-linejoin:round;}\n  </style>\n </defs>\n <g id=\"figure_1\">\n  <g id=\"patch_1\">\n   <path d=\"M 0 331.674375 \nL 608.98125 331.674375 \nL 608.98125 0 \nL 0 0 \nz\n\" style=\"fill:none;\"/>\n  </g>\n  <g id=\"axes_1\">\n   <g id=\"patch_2\">\n    <path d=\"M 43.78125 294.118125 \nL 297.417614 294.118125 \nL 297.417614 22.318125 \nL 43.78125 22.318125 \nz\n\" style=\"fill:#ffffff;\"/>\n   </g>\n   <g id=\"matplotlib.axis_1\">\n    <g id=\"xtick_1\">\n     <g id=\"line2d_1\">\n      <defs>\n       <path d=\"M 0 0 \nL 0 3.5 \n\" id=\"m46e9206ebf\" style=\"stroke:#000000;stroke-width:0.8;\"/>\n      </defs>\n      <g>\n       <use style=\"stroke:#000000;stroke-width:0.8;\" x=\"55.310176\" xlink:href=\"#m46e9206ebf\" y=\"294.118125\"/>\n      </g>\n     </g>\n     <g id=\"text_1\">\n      <!-- 0 -->\n      <defs>\n       <path d=\"M 31.78125 66.40625 \nQ 24.171875 66.40625 20.328125 58.90625 \nQ 16.5 51.421875 16.5 36.375 \nQ 16.5 21.390625 20.328125 13.890625 \nQ 24.171875 6.390625 31.78125 6.390625 \nQ 39.453125 6.390625 43.28125 13.890625 \nQ 47.125 21.390625 47.125 36.375 \nQ 47.125 51.421875 43.28125 58.90625 \nQ 39.453125 66.40625 31.78125 66.40625 \nz\nM 31.78125 74.21875 \nQ 44.046875 74.21875 50.515625 64.515625 \nQ 56.984375 54.828125 56.984375 36.375 \nQ 56.984375 17.96875 50.515625 8.265625 \nQ 44.046875 -1.421875 31.78125 -1.421875 \nQ 19.53125 -1.421875 13.0625 8.265625 \nQ 6.59375 17.96875 6.59375 36.375 \nQ 6.59375 54.828125 13.0625 64.515625 \nQ 19.53125 74.21875 31.78125 74.21875 \nz\n\" id=\"DejaVuSans-48\"/>\n      </defs>\n      <g transform=\"translate(52.128926 308.716563)scale(0.1 -0.1)\">\n       <use xlink:href=\"#DejaVuSans-48\"/>\n      </g>\n     </g>\n    </g>\n    <g id=\"xtick_2\">\n     <g id=\"line2d_2\">\n      <g>\n       <use style=\"stroke:#000000;stroke-width:0.8;\" x=\"107.714383\" xlink:href=\"#m46e9206ebf\" y=\"294.118125\"/>\n      </g>\n     </g>\n     <g id=\"text_2\">\n      <!-- 10 -->\n      <defs>\n       <path d=\"M 12.40625 8.296875 \nL 28.515625 8.296875 \nL 28.515625 63.921875 \nL 10.984375 60.40625 \nL 10.984375 69.390625 \nL 28.421875 72.90625 \nL 38.28125 72.90625 \nL 38.28125 8.296875 \nL 54.390625 8.296875 \nL 54.390625 0 \nL 12.40625 0 \nz\n\" id=\"DejaVuSans-49\"/>\n      </defs>\n      <g transform=\"translate(101.351883 308.716563)scale(0.1 -0.1)\">\n       <use xlink:href=\"#DejaVuSans-49\"/>\n       <use x=\"63.623047\" xlink:href=\"#DejaVuSans-48\"/>\n      </g>\n     </g>\n    </g>\n    <g id=\"xtick_3\">\n     <g id=\"line2d_3\">\n      <g>\n       <use style=\"stroke:#000000;stroke-width:0.8;\" x=\"160.11859\" xlink:href=\"#m46e9206ebf\" y=\"294.118125\"/>\n      </g>\n     </g>\n     <g id=\"text_3\">\n      <!-- 20 -->\n      <defs>\n       <path d=\"M 19.1875 8.296875 \nL 53.609375 8.296875 \nL 53.609375 0 \nL 7.328125 0 \nL 7.328125 8.296875 \nQ 12.9375 14.109375 22.625 23.890625 \nQ 32.328125 33.6875 34.8125 36.53125 \nQ 39.546875 41.84375 41.421875 45.53125 \nQ 43.3125 49.21875 43.3125 52.78125 \nQ 43.3125 58.59375 39.234375 62.25 \nQ 35.15625 65.921875 28.609375 65.921875 \nQ 23.96875 65.921875 18.8125 64.3125 \nQ 13.671875 62.703125 7.8125 59.421875 \nL 7.8125 69.390625 \nQ 13.765625 71.78125 18.9375 73 \nQ 24.125 74.21875 28.421875 74.21875 \nQ 39.75 74.21875 46.484375 68.546875 \nQ 53.21875 62.890625 53.21875 53.421875 \nQ 53.21875 48.921875 51.53125 44.890625 \nQ 49.859375 40.875 45.40625 35.40625 \nQ 44.1875 33.984375 37.640625 27.21875 \nQ 31.109375 20.453125 19.1875 8.296875 \nz\n\" id=\"DejaVuSans-50\"/>\n      </defs>\n      <g transform=\"translate(153.75609 308.716563)scale(0.1 -0.1)\">\n       <use xlink:href=\"#DejaVuSans-50\"/>\n       <use x=\"63.623047\" xlink:href=\"#DejaVuSans-48\"/>\n      </g>\n     </g>\n    </g>\n    <g id=\"xtick_4\">\n     <g id=\"line2d_4\">\n      <g>\n       <use style=\"stroke:#000000;stroke-width:0.8;\" x=\"212.522798\" xlink:href=\"#m46e9206ebf\" y=\"294.118125\"/>\n      </g>\n     </g>\n     <g id=\"text_4\">\n      <!-- 30 -->\n      <defs>\n       <path d=\"M 40.578125 39.3125 \nQ 47.65625 37.796875 51.625 33 \nQ 55.609375 28.21875 55.609375 21.1875 \nQ 55.609375 10.40625 48.1875 4.484375 \nQ 40.765625 -1.421875 27.09375 -1.421875 \nQ 22.515625 -1.421875 17.65625 -0.515625 \nQ 12.796875 0.390625 7.625 2.203125 \nL 7.625 11.71875 \nQ 11.71875 9.328125 16.59375 8.109375 \nQ 21.484375 6.890625 26.8125 6.890625 \nQ 36.078125 6.890625 40.9375 10.546875 \nQ 45.796875 14.203125 45.796875 21.1875 \nQ 45.796875 27.640625 41.28125 31.265625 \nQ 36.765625 34.90625 28.71875 34.90625 \nL 20.21875 34.90625 \nL 20.21875 43.015625 \nL 29.109375 43.015625 \nQ 36.375 43.015625 40.234375 45.921875 \nQ 44.09375 48.828125 44.09375 54.296875 \nQ 44.09375 59.90625 40.109375 62.90625 \nQ 36.140625 65.921875 28.71875 65.921875 \nQ 24.65625 65.921875 20.015625 65.03125 \nQ 15.375 64.15625 9.8125 62.3125 \nL 9.8125 71.09375 \nQ 15.4375 72.65625 20.34375 73.4375 \nQ 25.25 74.21875 29.59375 74.21875 \nQ 40.828125 74.21875 47.359375 69.109375 \nQ 53.90625 64.015625 53.90625 55.328125 \nQ 53.90625 49.265625 50.4375 45.09375 \nQ 46.96875 40.921875 40.578125 39.3125 \nz\n\" id=\"DejaVuSans-51\"/>\n      </defs>\n      <g transform=\"translate(206.160298 308.716563)scale(0.1 -0.1)\">\n       <use xlink:href=\"#DejaVuSans-51\"/>\n       <use x=\"63.623047\" xlink:href=\"#DejaVuSans-48\"/>\n      </g>\n     </g>\n    </g>\n    <g id=\"xtick_5\">\n     <g id=\"line2d_5\">\n      <g>\n       <use style=\"stroke:#000000;stroke-width:0.8;\" x=\"264.927005\" xlink:href=\"#m46e9206ebf\" y=\"294.118125\"/>\n      </g>\n     </g>\n     <g id=\"text_5\">\n      <!-- 40 -->\n      <defs>\n       <path d=\"M 37.796875 64.3125 \nL 12.890625 25.390625 \nL 37.796875 25.390625 \nz\nM 35.203125 72.90625 \nL 47.609375 72.90625 \nL 47.609375 25.390625 \nL 58.015625 25.390625 \nL 58.015625 17.1875 \nL 47.609375 17.1875 \nL 47.609375 0 \nL 37.796875 0 \nL 37.796875 17.1875 \nL 4.890625 17.1875 \nL 4.890625 26.703125 \nz\n\" id=\"DejaVuSans-52\"/>\n      </defs>\n      <g transform=\"translate(258.564505 308.716563)scale(0.1 -0.1)\">\n       <use xlink:href=\"#DejaVuSans-52\"/>\n       <use x=\"63.623047\" xlink:href=\"#DejaVuSans-48\"/>\n      </g>\n     </g>\n    </g>\n    <g id=\"text_6\">\n     <!-- Epoch -->\n     <defs>\n      <path d=\"M 9.8125 72.90625 \nL 55.90625 72.90625 \nL 55.90625 64.59375 \nL 19.671875 64.59375 \nL 19.671875 43.015625 \nL 54.390625 43.015625 \nL 54.390625 34.71875 \nL 19.671875 34.71875 \nL 19.671875 8.296875 \nL 56.78125 8.296875 \nL 56.78125 0 \nL 9.8125 0 \nz\n\" id=\"DejaVuSans-69\"/>\n      <path d=\"M 18.109375 8.203125 \nL 18.109375 -20.796875 \nL 9.078125 -20.796875 \nL 9.078125 54.6875 \nL 18.109375 54.6875 \nL 18.109375 46.390625 \nQ 20.953125 51.265625 25.265625 53.625 \nQ 29.59375 56 35.59375 56 \nQ 45.5625 56 51.78125 48.09375 \nQ 58.015625 40.1875 58.015625 27.296875 \nQ 58.015625 14.40625 51.78125 6.484375 \nQ 45.5625 -1.421875 35.59375 -1.421875 \nQ 29.59375 -1.421875 25.265625 0.953125 \nQ 20.953125 3.328125 18.109375 8.203125 \nz\nM 48.6875 27.296875 \nQ 48.6875 37.203125 44.609375 42.84375 \nQ 40.53125 48.484375 33.40625 48.484375 \nQ 26.265625 48.484375 22.1875 42.84375 \nQ 18.109375 37.203125 18.109375 27.296875 \nQ 18.109375 17.390625 22.1875 11.75 \nQ 26.265625 6.109375 33.40625 6.109375 \nQ 40.53125 6.109375 44.609375 11.75 \nQ 48.6875 17.390625 48.6875 27.296875 \nz\n\" id=\"DejaVuSans-112\"/>\n      <path d=\"M 30.609375 48.390625 \nQ 23.390625 48.390625 19.1875 42.75 \nQ 14.984375 37.109375 14.984375 27.296875 \nQ 14.984375 17.484375 19.15625 11.84375 \nQ 23.34375 6.203125 30.609375 6.203125 \nQ 37.796875 6.203125 41.984375 11.859375 \nQ 46.1875 17.53125 46.1875 27.296875 \nQ 46.1875 37.015625 41.984375 42.703125 \nQ 37.796875 48.390625 30.609375 48.390625 \nz\nM 30.609375 56 \nQ 42.328125 56 49.015625 48.375 \nQ 55.71875 40.765625 55.71875 27.296875 \nQ 55.71875 13.875 49.015625 6.21875 \nQ 42.328125 -1.421875 30.609375 -1.421875 \nQ 18.84375 -1.421875 12.171875 6.21875 \nQ 5.515625 13.875 5.515625 27.296875 \nQ 5.515625 40.765625 12.171875 48.375 \nQ 18.84375 56 30.609375 56 \nz\n\" id=\"DejaVuSans-111\"/>\n      <path d=\"M 48.78125 52.59375 \nL 48.78125 44.1875 \nQ 44.96875 46.296875 41.140625 47.34375 \nQ 37.3125 48.390625 33.40625 48.390625 \nQ 24.65625 48.390625 19.8125 42.84375 \nQ 14.984375 37.3125 14.984375 27.296875 \nQ 14.984375 17.28125 19.8125 11.734375 \nQ 24.65625 6.203125 33.40625 6.203125 \nQ 37.3125 6.203125 41.140625 7.25 \nQ 44.96875 8.296875 48.78125 10.40625 \nL 48.78125 2.09375 \nQ 45.015625 0.34375 40.984375 -0.53125 \nQ 36.96875 -1.421875 32.421875 -1.421875 \nQ 20.0625 -1.421875 12.78125 6.34375 \nQ 5.515625 14.109375 5.515625 27.296875 \nQ 5.515625 40.671875 12.859375 48.328125 \nQ 20.21875 56 33.015625 56 \nQ 37.15625 56 41.109375 55.140625 \nQ 45.0625 54.296875 48.78125 52.59375 \nz\n\" id=\"DejaVuSans-99\"/>\n      <path d=\"M 54.890625 33.015625 \nL 54.890625 0 \nL 45.90625 0 \nL 45.90625 32.71875 \nQ 45.90625 40.484375 42.875 44.328125 \nQ 39.84375 48.1875 33.796875 48.1875 \nQ 26.515625 48.1875 22.3125 43.546875 \nQ 18.109375 38.921875 18.109375 30.90625 \nL 18.109375 0 \nL 9.078125 0 \nL 9.078125 75.984375 \nL 18.109375 75.984375 \nL 18.109375 46.1875 \nQ 21.34375 51.125 25.703125 53.5625 \nQ 30.078125 56 35.796875 56 \nQ 45.21875 56 50.046875 50.171875 \nQ 54.890625 44.34375 54.890625 33.015625 \nz\n\" id=\"DejaVuSans-104\"/>\n     </defs>\n     <g transform=\"translate(155.288494 322.394687)scale(0.1 -0.1)\">\n      <use xlink:href=\"#DejaVuSans-69\"/>\n      <use x=\"63.183594\" xlink:href=\"#DejaVuSans-112\"/>\n      <use x=\"126.660156\" xlink:href=\"#DejaVuSans-111\"/>\n      <use x=\"187.841797\" xlink:href=\"#DejaVuSans-99\"/>\n      <use x=\"242.822266\" xlink:href=\"#DejaVuSans-104\"/>\n     </g>\n    </g>\n   </g>\n   <g id=\"matplotlib.axis_2\">\n    <g id=\"ytick_1\">\n     <g id=\"line2d_6\">\n      <defs>\n       <path d=\"M 0 0 \nL -3.5 0 \n\" id=\"m21bd1ee934\" style=\"stroke:#000000;stroke-width:0.8;\"/>\n      </defs>\n      <g>\n       <use style=\"stroke:#000000;stroke-width:0.8;\" x=\"43.78125\" xlink:href=\"#m21bd1ee934\" y=\"281.763582\"/>\n      </g>\n     </g>\n     <g id=\"text_7\">\n      <!-- 0.0 -->\n      <defs>\n       <path d=\"M 10.6875 12.40625 \nL 21 12.40625 \nL 21 0 \nL 10.6875 0 \nz\n\" id=\"DejaVuSans-46\"/>\n      </defs>\n      <g transform=\"translate(20.878125 285.5628)scale(0.1 -0.1)\">\n       <use xlink:href=\"#DejaVuSans-48\"/>\n       <use x=\"63.623047\" xlink:href=\"#DejaVuSans-46\"/>\n       <use x=\"95.410156\" xlink:href=\"#DejaVuSans-48\"/>\n      </g>\n     </g>\n    </g>\n    <g id=\"ytick_2\">\n     <g id=\"line2d_7\">\n      <g>\n       <use style=\"stroke:#000000;stroke-width:0.8;\" x=\"43.78125\" xlink:href=\"#m21bd1ee934\" y=\"235.493829\"/>\n      </g>\n     </g>\n     <g id=\"text_8\">\n      <!-- 0.5 -->\n      <defs>\n       <path d=\"M 10.796875 72.90625 \nL 49.515625 72.90625 \nL 49.515625 64.59375 \nL 19.828125 64.59375 \nL 19.828125 46.734375 \nQ 21.96875 47.46875 24.109375 47.828125 \nQ 26.265625 48.1875 28.421875 48.1875 \nQ 40.625 48.1875 47.75 41.5 \nQ 54.890625 34.8125 54.890625 23.390625 \nQ 54.890625 11.625 47.5625 5.09375 \nQ 40.234375 -1.421875 26.90625 -1.421875 \nQ 22.3125 -1.421875 17.546875 -0.640625 \nQ 12.796875 0.140625 7.71875 1.703125 \nL 7.71875 11.625 \nQ 12.109375 9.234375 16.796875 8.0625 \nQ 21.484375 6.890625 26.703125 6.890625 \nQ 35.15625 6.890625 40.078125 11.328125 \nQ 45.015625 15.765625 45.015625 23.390625 \nQ 45.015625 31 40.078125 35.4375 \nQ 35.15625 39.890625 26.703125 39.890625 \nQ 22.75 39.890625 18.8125 39.015625 \nQ 14.890625 38.140625 10.796875 36.28125 \nz\n\" id=\"DejaVuSans-53\"/>\n      </defs>\n      <g transform=\"translate(20.878125 239.293047)scale(0.1 -0.1)\">\n       <use xlink:href=\"#DejaVuSans-48\"/>\n       <use x=\"63.623047\" xlink:href=\"#DejaVuSans-46\"/>\n       <use x=\"95.410156\" xlink:href=\"#DejaVuSans-53\"/>\n      </g>\n     </g>\n    </g>\n    <g id=\"ytick_3\">\n     <g id=\"line2d_8\">\n      <g>\n       <use style=\"stroke:#000000;stroke-width:0.8;\" x=\"43.78125\" xlink:href=\"#m21bd1ee934\" y=\"189.224076\"/>\n      </g>\n     </g>\n     <g id=\"text_9\">\n      <!-- 1.0 -->\n      <g transform=\"translate(20.878125 193.023295)scale(0.1 -0.1)\">\n       <use xlink:href=\"#DejaVuSans-49\"/>\n       <use x=\"63.623047\" xlink:href=\"#DejaVuSans-46\"/>\n       <use x=\"95.410156\" xlink:href=\"#DejaVuSans-48\"/>\n      </g>\n     </g>\n    </g>\n    <g id=\"ytick_4\">\n     <g id=\"line2d_9\">\n      <g>\n       <use style=\"stroke:#000000;stroke-width:0.8;\" x=\"43.78125\" xlink:href=\"#m21bd1ee934\" y=\"142.954323\"/>\n      </g>\n     </g>\n     <g id=\"text_10\">\n      <!-- 1.5 -->\n      <g transform=\"translate(20.878125 146.753542)scale(0.1 -0.1)\">\n       <use xlink:href=\"#DejaVuSans-49\"/>\n       <use x=\"63.623047\" xlink:href=\"#DejaVuSans-46\"/>\n       <use x=\"95.410156\" xlink:href=\"#DejaVuSans-53\"/>\n      </g>\n     </g>\n    </g>\n    <g id=\"ytick_5\">\n     <g id=\"line2d_10\">\n      <g>\n       <use style=\"stroke:#000000;stroke-width:0.8;\" x=\"43.78125\" xlink:href=\"#m21bd1ee934\" y=\"96.68457\"/>\n      </g>\n     </g>\n     <g id=\"text_11\">\n      <!-- 2.0 -->\n      <g transform=\"translate(20.878125 100.483789)scale(0.1 -0.1)\">\n       <use xlink:href=\"#DejaVuSans-50\"/>\n       <use x=\"63.623047\" xlink:href=\"#DejaVuSans-46\"/>\n       <use x=\"95.410156\" xlink:href=\"#DejaVuSans-48\"/>\n      </g>\n     </g>\n    </g>\n    <g id=\"ytick_6\">\n     <g id=\"line2d_11\">\n      <g>\n       <use style=\"stroke:#000000;stroke-width:0.8;\" x=\"43.78125\" xlink:href=\"#m21bd1ee934\" y=\"50.414817\"/>\n      </g>\n     </g>\n     <g id=\"text_12\">\n      <!-- 2.5 -->\n      <g transform=\"translate(20.878125 54.214036)scale(0.1 -0.1)\">\n       <use xlink:href=\"#DejaVuSans-50\"/>\n       <use x=\"63.623047\" xlink:href=\"#DejaVuSans-46\"/>\n       <use x=\"95.410156\" xlink:href=\"#DejaVuSans-53\"/>\n      </g>\n     </g>\n    </g>\n    <g id=\"text_13\">\n     <!-- loss -->\n     <defs>\n      <path d=\"M 9.421875 75.984375 \nL 18.40625 75.984375 \nL 18.40625 0 \nL 9.421875 0 \nz\n\" id=\"DejaVuSans-108\"/>\n      <path d=\"M 44.28125 53.078125 \nL 44.28125 44.578125 \nQ 40.484375 46.53125 36.375 47.5 \nQ 32.28125 48.484375 27.875 48.484375 \nQ 21.1875 48.484375 17.84375 46.4375 \nQ 14.5 44.390625 14.5 40.28125 \nQ 14.5 37.15625 16.890625 35.375 \nQ 19.28125 33.59375 26.515625 31.984375 \nL 29.59375 31.296875 \nQ 39.15625 29.25 43.1875 25.515625 \nQ 47.21875 21.78125 47.21875 15.09375 \nQ 47.21875 7.46875 41.1875 3.015625 \nQ 35.15625 -1.421875 24.609375 -1.421875 \nQ 20.21875 -1.421875 15.453125 -0.5625 \nQ 10.6875 0.296875 5.421875 2 \nL 5.421875 11.28125 \nQ 10.40625 8.6875 15.234375 7.390625 \nQ 20.0625 6.109375 24.8125 6.109375 \nQ 31.15625 6.109375 34.5625 8.28125 \nQ 37.984375 10.453125 37.984375 14.40625 \nQ 37.984375 18.0625 35.515625 20.015625 \nQ 33.0625 21.96875 24.703125 23.78125 \nL 21.578125 24.515625 \nQ 13.234375 26.265625 9.515625 29.90625 \nQ 5.8125 33.546875 5.8125 39.890625 \nQ 5.8125 47.609375 11.28125 51.796875 \nQ 16.75 56 26.8125 56 \nQ 31.78125 56 36.171875 55.265625 \nQ 40.578125 54.546875 44.28125 53.078125 \nz\n\" id=\"DejaVuSans-115\"/>\n     </defs>\n     <g transform=\"translate(14.798438 167.875938)rotate(-90)scale(0.1 -0.1)\">\n      <use xlink:href=\"#DejaVuSans-108\"/>\n      <use x=\"27.783203\" xlink:href=\"#DejaVuSans-111\"/>\n      <use x=\"88.964844\" xlink:href=\"#DejaVuSans-115\"/>\n      <use x=\"141.064453\" xlink:href=\"#DejaVuSans-115\"/>\n     </g>\n    </g>\n    <g id=\"text_14\">\n     <!-- 1e8 -->\n     <defs>\n      <path d=\"M 56.203125 29.59375 \nL 56.203125 25.203125 \nL 14.890625 25.203125 \nQ 15.484375 15.921875 20.484375 11.0625 \nQ 25.484375 6.203125 34.421875 6.203125 \nQ 39.59375 6.203125 44.453125 7.46875 \nQ 49.3125 8.734375 54.109375 11.28125 \nL 54.109375 2.78125 \nQ 49.265625 0.734375 44.1875 -0.34375 \nQ 39.109375 -1.421875 33.890625 -1.421875 \nQ 20.796875 -1.421875 13.15625 6.1875 \nQ 5.515625 13.8125 5.515625 26.8125 \nQ 5.515625 40.234375 12.765625 48.109375 \nQ 20.015625 56 32.328125 56 \nQ 43.359375 56 49.78125 48.890625 \nQ 56.203125 41.796875 56.203125 29.59375 \nz\nM 47.21875 32.234375 \nQ 47.125 39.59375 43.09375 43.984375 \nQ 39.0625 48.390625 32.421875 48.390625 \nQ 24.90625 48.390625 20.390625 44.140625 \nQ 15.875 39.890625 15.1875 32.171875 \nz\n\" id=\"DejaVuSans-101\"/>\n      <path d=\"M 31.78125 34.625 \nQ 24.75 34.625 20.71875 30.859375 \nQ 16.703125 27.09375 16.703125 20.515625 \nQ 16.703125 13.921875 20.71875 10.15625 \nQ 24.75 6.390625 31.78125 6.390625 \nQ 38.8125 6.390625 42.859375 10.171875 \nQ 46.921875 13.96875 46.921875 20.515625 \nQ 46.921875 27.09375 42.890625 30.859375 \nQ 38.875 34.625 31.78125 34.625 \nz\nM 21.921875 38.8125 \nQ 15.578125 40.375 12.03125 44.71875 \nQ 8.5 49.078125 8.5 55.328125 \nQ 8.5 64.0625 14.71875 69.140625 \nQ 20.953125 74.21875 31.78125 74.21875 \nQ 42.671875 74.21875 48.875 69.140625 \nQ 55.078125 64.0625 55.078125 55.328125 \nQ 55.078125 49.078125 51.53125 44.71875 \nQ 48 40.375 41.703125 38.8125 \nQ 48.828125 37.15625 52.796875 32.3125 \nQ 56.78125 27.484375 56.78125 20.515625 \nQ 56.78125 9.90625 50.3125 4.234375 \nQ 43.84375 -1.421875 31.78125 -1.421875 \nQ 19.734375 -1.421875 13.25 4.234375 \nQ 6.78125 9.90625 6.78125 20.515625 \nQ 6.78125 27.484375 10.78125 32.3125 \nQ 14.796875 37.15625 21.921875 38.8125 \nz\nM 18.3125 54.390625 \nQ 18.3125 48.734375 21.84375 45.5625 \nQ 25.390625 42.390625 31.78125 42.390625 \nQ 38.140625 42.390625 41.71875 45.5625 \nQ 45.3125 48.734375 45.3125 54.390625 \nQ 45.3125 60.0625 41.71875 63.234375 \nQ 38.140625 66.40625 31.78125 66.40625 \nQ 25.390625 66.40625 21.84375 63.234375 \nQ 18.3125 60.0625 18.3125 54.390625 \nz\n\" id=\"DejaVuSans-56\"/>\n     </defs>\n     <g transform=\"translate(43.78125 19.318125)scale(0.1 -0.1)\">\n      <use xlink:href=\"#DejaVuSans-49\"/>\n      <use x=\"63.623047\" xlink:href=\"#DejaVuSans-101\"/>\n      <use x=\"125.146484\" xlink:href=\"#DejaVuSans-56\"/>\n     </g>\n    </g>\n   </g>\n   <g id=\"line2d_12\">\n    <path clip-path=\"url(#p38e17423f8)\" d=\"M 55.310176 34.67267 \nL 60.550596 281.763571 \nL 65.791017 281.763494 \nL 71.031438 281.763436 \nL 76.271859 281.762716 \nL 81.512279 281.7633 \nL 86.7527 281.763574 \nL 91.993121 281.763186 \nL 97.233542 281.763579 \nL 102.473962 281.763538 \nL 107.714383 281.763573 \nL 112.954804 281.763574 \nL 118.195224 281.763579 \nL 123.435645 281.763579 \nL 128.676066 281.763578 \nL 133.916487 281.763578 \nL 139.156907 281.763579 \nL 144.397328 281.763579 \nL 149.637749 281.763579 \nL 154.87817 281.763579 \nL 160.11859 281.763579 \nL 165.359011 281.763577 \nL 170.599432 281.76358 \nL 175.839853 281.763579 \nL 181.080273 281.763579 \nL 186.320694 281.76355 \nL 191.561115 281.763579 \nL 196.801535 281.763572 \nL 202.041956 281.763579 \nL 207.282377 281.763572 \nL 212.522798 281.763578 \nL 217.763218 281.763579 \nL 223.003639 281.763579 \nL 228.24406 281.763579 \nL 233.484481 281.763579 \nL 238.724901 281.763579 \nL 243.965322 281.763579 \nL 249.205743 281.76358 \nL 254.446164 281.763579 \nL 259.686584 281.763579 \nL 264.927005 281.76358 \nL 270.167426 281.76358 \nL 275.407847 281.76358 \nL 280.648267 281.76358 \nL 285.888688 281.763579 \n\" style=\"fill:none;stroke:#1f77b4;stroke-linecap:square;stroke-width:1.5;\"/>\n   </g>\n   <g id=\"line2d_13\">\n    <path clip-path=\"url(#p38e17423f8)\" d=\"M 55.310176 281.763576 \nL 60.550596 281.76358 \nL 65.791017 281.76358 \nL 71.031438 281.76358 \nL 76.271859 281.76358 \nL 81.512279 281.763579 \nL 86.7527 281.76358 \nL 91.993121 281.76358 \nL 97.233542 281.76358 \nL 102.473962 281.76358 \nL 107.714383 281.763579 \nL 112.954804 281.763579 \nL 118.195224 281.76358 \nL 123.435645 281.76358 \nL 128.676066 281.76358 \nL 133.916487 281.76358 \nL 139.156907 281.76358 \nL 144.397328 281.76358 \nL 149.637749 281.76358 \nL 154.87817 281.76358 \nL 160.11859 281.763579 \nL 165.359011 281.76358 \nL 170.599432 281.76358 \nL 175.839853 281.76358 \nL 181.080273 281.76358 \nL 186.320694 281.76358 \nL 191.561115 281.76358 \nL 196.801535 281.76358 \nL 202.041956 281.76358 \nL 207.282377 281.763579 \nL 212.522798 281.76358 \nL 217.763218 281.76358 \nL 223.003639 281.76358 \nL 228.24406 281.76358 \nL 233.484481 281.76358 \nL 238.724901 281.76358 \nL 243.965322 281.76358 \nL 249.205743 281.76358 \nL 254.446164 281.76358 \nL 259.686584 281.76358 \nL 264.927005 281.76358 \nL 270.167426 281.76358 \nL 275.407847 281.76358 \nL 280.648267 281.76358 \nL 285.888688 281.76358 \n\" style=\"fill:none;stroke:#ff7f0e;stroke-linecap:square;stroke-width:1.5;\"/>\n   </g>\n   <g id=\"patch_3\">\n    <path d=\"M 43.78125 294.118125 \nL 43.78125 22.318125 \n\" style=\"fill:none;stroke:#000000;stroke-linecap:square;stroke-linejoin:miter;stroke-width:0.8;\"/>\n   </g>\n   <g id=\"patch_4\">\n    <path d=\"M 297.417614 294.118125 \nL 297.417614 22.318125 \n\" style=\"fill:none;stroke:#000000;stroke-linecap:square;stroke-linejoin:miter;stroke-width:0.8;\"/>\n   </g>\n   <g id=\"patch_5\">\n    <path d=\"M 43.78125 294.118125 \nL 297.417614 294.118125 \n\" style=\"fill:none;stroke:#000000;stroke-linecap:square;stroke-linejoin:miter;stroke-width:0.8;\"/>\n   </g>\n   <g id=\"patch_6\">\n    <path d=\"M 43.78125 22.318125 \nL 297.417614 22.318125 \n\" style=\"fill:none;stroke:#000000;stroke-linecap:square;stroke-linejoin:miter;stroke-width:0.8;\"/>\n   </g>\n   <g id=\"text_15\">\n    <!-- Loss curve -->\n    <defs>\n     <path d=\"M 9.8125 72.90625 \nL 19.671875 72.90625 \nL 19.671875 8.296875 \nL 55.171875 8.296875 \nL 55.171875 0 \nL 9.8125 0 \nz\n\" id=\"DejaVuSans-76\"/>\n     <path id=\"DejaVuSans-32\"/>\n     <path d=\"M 8.5 21.578125 \nL 8.5 54.6875 \nL 17.484375 54.6875 \nL 17.484375 21.921875 \nQ 17.484375 14.15625 20.5 10.265625 \nQ 23.53125 6.390625 29.59375 6.390625 \nQ 36.859375 6.390625 41.078125 11.03125 \nQ 45.3125 15.671875 45.3125 23.6875 \nL 45.3125 54.6875 \nL 54.296875 54.6875 \nL 54.296875 0 \nL 45.3125 0 \nL 45.3125 8.40625 \nQ 42.046875 3.421875 37.71875 1 \nQ 33.40625 -1.421875 27.6875 -1.421875 \nQ 18.265625 -1.421875 13.375 4.4375 \nQ 8.5 10.296875 8.5 21.578125 \nz\nM 31.109375 56 \nz\n\" id=\"DejaVuSans-117\"/>\n     <path d=\"M 41.109375 46.296875 \nQ 39.59375 47.171875 37.8125 47.578125 \nQ 36.03125 48 33.890625 48 \nQ 26.265625 48 22.1875 43.046875 \nQ 18.109375 38.09375 18.109375 28.8125 \nL 18.109375 0 \nL 9.078125 0 \nL 9.078125 54.6875 \nL 18.109375 54.6875 \nL 18.109375 46.1875 \nQ 20.953125 51.171875 25.484375 53.578125 \nQ 30.03125 56 36.53125 56 \nQ 37.453125 56 38.578125 55.875 \nQ 39.703125 55.765625 41.0625 55.515625 \nz\n\" id=\"DejaVuSans-114\"/>\n     <path d=\"M 2.984375 54.6875 \nL 12.5 54.6875 \nL 29.59375 8.796875 \nL 46.6875 54.6875 \nL 56.203125 54.6875 \nL 35.6875 0 \nL 23.484375 0 \nz\n\" id=\"DejaVuSans-118\"/>\n    </defs>\n    <g transform=\"translate(138.720682 16.318125)scale(0.12 -0.12)\">\n     <use xlink:href=\"#DejaVuSans-76\"/>\n     <use x=\"53.962891\" xlink:href=\"#DejaVuSans-111\"/>\n     <use x=\"115.144531\" xlink:href=\"#DejaVuSans-115\"/>\n     <use x=\"167.244141\" xlink:href=\"#DejaVuSans-115\"/>\n     <use x=\"219.34375\" xlink:href=\"#DejaVuSans-32\"/>\n     <use x=\"251.130859\" xlink:href=\"#DejaVuSans-99\"/>\n     <use x=\"306.111328\" xlink:href=\"#DejaVuSans-117\"/>\n     <use x=\"369.490234\" xlink:href=\"#DejaVuSans-114\"/>\n     <use x=\"410.603516\" xlink:href=\"#DejaVuSans-118\"/>\n     <use x=\"469.783203\" xlink:href=\"#DejaVuSans-101\"/>\n    </g>\n   </g>\n   <g id=\"legend_1\">\n    <g id=\"patch_7\">\n     <path d=\"M 209.183239 59.674375 \nL 290.417614 59.674375 \nQ 292.417614 59.674375 292.417614 57.674375 \nL 292.417614 29.318125 \nQ 292.417614 27.318125 290.417614 27.318125 \nL 209.183239 27.318125 \nQ 207.183239 27.318125 207.183239 29.318125 \nL 207.183239 57.674375 \nQ 207.183239 59.674375 209.183239 59.674375 \nz\n\" style=\"fill:#ffffff;opacity:0.8;stroke:#cccccc;stroke-linejoin:miter;\"/>\n    </g>\n    <g id=\"line2d_14\">\n     <path d=\"M 211.183239 35.416562 \nL 231.183239 35.416562 \n\" style=\"fill:none;stroke:#1f77b4;stroke-linecap:square;stroke-width:1.5;\"/>\n    </g>\n    <g id=\"line2d_15\"/>\n    <g id=\"text_16\">\n     <!-- train -->\n     <defs>\n      <path d=\"M 18.3125 70.21875 \nL 18.3125 54.6875 \nL 36.8125 54.6875 \nL 36.8125 47.703125 \nL 18.3125 47.703125 \nL 18.3125 18.015625 \nQ 18.3125 11.328125 20.140625 9.421875 \nQ 21.96875 7.515625 27.59375 7.515625 \nL 36.8125 7.515625 \nL 36.8125 0 \nL 27.59375 0 \nQ 17.1875 0 13.234375 3.875 \nQ 9.28125 7.765625 9.28125 18.015625 \nL 9.28125 47.703125 \nL 2.6875 47.703125 \nL 2.6875 54.6875 \nL 9.28125 54.6875 \nL 9.28125 70.21875 \nz\n\" id=\"DejaVuSans-116\"/>\n      <path d=\"M 34.28125 27.484375 \nQ 23.390625 27.484375 19.1875 25 \nQ 14.984375 22.515625 14.984375 16.5 \nQ 14.984375 11.71875 18.140625 8.90625 \nQ 21.296875 6.109375 26.703125 6.109375 \nQ 34.1875 6.109375 38.703125 11.40625 \nQ 43.21875 16.703125 43.21875 25.484375 \nL 43.21875 27.484375 \nz\nM 52.203125 31.203125 \nL 52.203125 0 \nL 43.21875 0 \nL 43.21875 8.296875 \nQ 40.140625 3.328125 35.546875 0.953125 \nQ 30.953125 -1.421875 24.3125 -1.421875 \nQ 15.921875 -1.421875 10.953125 3.296875 \nQ 6 8.015625 6 15.921875 \nQ 6 25.140625 12.171875 29.828125 \nQ 18.359375 34.515625 30.609375 34.515625 \nL 43.21875 34.515625 \nL 43.21875 35.40625 \nQ 43.21875 41.609375 39.140625 45 \nQ 35.0625 48.390625 27.6875 48.390625 \nQ 23 48.390625 18.546875 47.265625 \nQ 14.109375 46.140625 10.015625 43.890625 \nL 10.015625 52.203125 \nQ 14.9375 54.109375 19.578125 55.046875 \nQ 24.21875 56 28.609375 56 \nQ 40.484375 56 46.34375 49.84375 \nQ 52.203125 43.703125 52.203125 31.203125 \nz\n\" id=\"DejaVuSans-97\"/>\n      <path d=\"M 9.421875 54.6875 \nL 18.40625 54.6875 \nL 18.40625 0 \nL 9.421875 0 \nz\nM 9.421875 75.984375 \nL 18.40625 75.984375 \nL 18.40625 64.59375 \nL 9.421875 64.59375 \nz\n\" id=\"DejaVuSans-105\"/>\n      <path d=\"M 54.890625 33.015625 \nL 54.890625 0 \nL 45.90625 0 \nL 45.90625 32.71875 \nQ 45.90625 40.484375 42.875 44.328125 \nQ 39.84375 48.1875 33.796875 48.1875 \nQ 26.515625 48.1875 22.3125 43.546875 \nQ 18.109375 38.921875 18.109375 30.90625 \nL 18.109375 0 \nL 9.078125 0 \nL 9.078125 54.6875 \nL 18.109375 54.6875 \nL 18.109375 46.1875 \nQ 21.34375 51.125 25.703125 53.5625 \nQ 30.078125 56 35.796875 56 \nQ 45.21875 56 50.046875 50.171875 \nQ 54.890625 44.34375 54.890625 33.015625 \nz\n\" id=\"DejaVuSans-110\"/>\n     </defs>\n     <g transform=\"translate(239.183239 38.916562)scale(0.1 -0.1)\">\n      <use xlink:href=\"#DejaVuSans-116\"/>\n      <use x=\"39.208984\" xlink:href=\"#DejaVuSans-114\"/>\n      <use x=\"80.322266\" xlink:href=\"#DejaVuSans-97\"/>\n      <use x=\"141.601562\" xlink:href=\"#DejaVuSans-105\"/>\n      <use x=\"169.384766\" xlink:href=\"#DejaVuSans-110\"/>\n     </g>\n    </g>\n    <g id=\"line2d_16\">\n     <path d=\"M 211.183239 50.094688 \nL 231.183239 50.094688 \n\" style=\"fill:none;stroke:#ff7f0e;stroke-linecap:square;stroke-width:1.5;\"/>\n    </g>\n    <g id=\"line2d_17\"/>\n    <g id=\"text_17\">\n     <!-- validation -->\n     <defs>\n      <path d=\"M 45.40625 46.390625 \nL 45.40625 75.984375 \nL 54.390625 75.984375 \nL 54.390625 0 \nL 45.40625 0 \nL 45.40625 8.203125 \nQ 42.578125 3.328125 38.25 0.953125 \nQ 33.9375 -1.421875 27.875 -1.421875 \nQ 17.96875 -1.421875 11.734375 6.484375 \nQ 5.515625 14.40625 5.515625 27.296875 \nQ 5.515625 40.1875 11.734375 48.09375 \nQ 17.96875 56 27.875 56 \nQ 33.9375 56 38.25 53.625 \nQ 42.578125 51.265625 45.40625 46.390625 \nz\nM 14.796875 27.296875 \nQ 14.796875 17.390625 18.875 11.75 \nQ 22.953125 6.109375 30.078125 6.109375 \nQ 37.203125 6.109375 41.296875 11.75 \nQ 45.40625 17.390625 45.40625 27.296875 \nQ 45.40625 37.203125 41.296875 42.84375 \nQ 37.203125 48.484375 30.078125 48.484375 \nQ 22.953125 48.484375 18.875 42.84375 \nQ 14.796875 37.203125 14.796875 27.296875 \nz\n\" id=\"DejaVuSans-100\"/>\n     </defs>\n     <g transform=\"translate(239.183239 53.594688)scale(0.1 -0.1)\">\n      <use xlink:href=\"#DejaVuSans-118\"/>\n      <use x=\"59.179688\" xlink:href=\"#DejaVuSans-97\"/>\n      <use x=\"120.458984\" xlink:href=\"#DejaVuSans-108\"/>\n      <use x=\"148.242188\" xlink:href=\"#DejaVuSans-105\"/>\n      <use x=\"176.025391\" xlink:href=\"#DejaVuSans-100\"/>\n      <use x=\"239.501953\" xlink:href=\"#DejaVuSans-97\"/>\n      <use x=\"300.78125\" xlink:href=\"#DejaVuSans-116\"/>\n      <use x=\"339.990234\" xlink:href=\"#DejaVuSans-105\"/>\n      <use x=\"367.773438\" xlink:href=\"#DejaVuSans-111\"/>\n      <use x=\"428.955078\" xlink:href=\"#DejaVuSans-110\"/>\n     </g>\n    </g>\n   </g>\n  </g>\n  <g id=\"axes_2\">\n   <g id=\"patch_8\">\n    <path d=\"M 348.144886 294.118125 \nL 601.78125 294.118125 \nL 601.78125 22.318125 \nL 348.144886 22.318125 \nz\n\" style=\"fill:#ffffff;\"/>\n   </g>\n   <g id=\"matplotlib.axis_3\">\n    <g id=\"xtick_6\">\n     <g id=\"line2d_18\">\n      <g>\n       <use style=\"stroke:#000000;stroke-width:0.8;\" x=\"359.673812\" xlink:href=\"#m46e9206ebf\" y=\"294.118125\"/>\n      </g>\n     </g>\n     <g id=\"text_18\">\n      <!-- 0 -->\n      <g transform=\"translate(356.492562 308.716563)scale(0.1 -0.1)\">\n       <use xlink:href=\"#DejaVuSans-48\"/>\n      </g>\n     </g>\n    </g>\n    <g id=\"xtick_7\">\n     <g id=\"line2d_19\">\n      <g>\n       <use style=\"stroke:#000000;stroke-width:0.8;\" x=\"412.078019\" xlink:href=\"#m46e9206ebf\" y=\"294.118125\"/>\n      </g>\n     </g>\n     <g id=\"text_19\">\n      <!-- 10 -->\n      <g transform=\"translate(405.715519 308.716563)scale(0.1 -0.1)\">\n       <use xlink:href=\"#DejaVuSans-49\"/>\n       <use x=\"63.623047\" xlink:href=\"#DejaVuSans-48\"/>\n      </g>\n     </g>\n    </g>\n    <g id=\"xtick_8\">\n     <g id=\"line2d_20\">\n      <g>\n       <use style=\"stroke:#000000;stroke-width:0.8;\" x=\"464.482227\" xlink:href=\"#m46e9206ebf\" y=\"294.118125\"/>\n      </g>\n     </g>\n     <g id=\"text_20\">\n      <!-- 20 -->\n      <g transform=\"translate(458.119727 308.716563)scale(0.1 -0.1)\">\n       <use xlink:href=\"#DejaVuSans-50\"/>\n       <use x=\"63.623047\" xlink:href=\"#DejaVuSans-48\"/>\n      </g>\n     </g>\n    </g>\n    <g id=\"xtick_9\">\n     <g id=\"line2d_21\">\n      <g>\n       <use style=\"stroke:#000000;stroke-width:0.8;\" x=\"516.886434\" xlink:href=\"#m46e9206ebf\" y=\"294.118125\"/>\n      </g>\n     </g>\n     <g id=\"text_21\">\n      <!-- 30 -->\n      <g transform=\"translate(510.523934 308.716563)scale(0.1 -0.1)\">\n       <use xlink:href=\"#DejaVuSans-51\"/>\n       <use x=\"63.623047\" xlink:href=\"#DejaVuSans-48\"/>\n      </g>\n     </g>\n    </g>\n    <g id=\"xtick_10\">\n     <g id=\"line2d_22\">\n      <g>\n       <use style=\"stroke:#000000;stroke-width:0.8;\" x=\"569.290641\" xlink:href=\"#m46e9206ebf\" y=\"294.118125\"/>\n      </g>\n     </g>\n     <g id=\"text_22\">\n      <!-- 40 -->\n      <g transform=\"translate(562.928141 308.716563)scale(0.1 -0.1)\">\n       <use xlink:href=\"#DejaVuSans-52\"/>\n       <use x=\"63.623047\" xlink:href=\"#DejaVuSans-48\"/>\n      </g>\n     </g>\n    </g>\n    <g id=\"text_23\">\n     <!-- Epoch -->\n     <g transform=\"translate(459.652131 322.394687)scale(0.1 -0.1)\">\n      <use xlink:href=\"#DejaVuSans-69\"/>\n      <use x=\"63.183594\" xlink:href=\"#DejaVuSans-112\"/>\n      <use x=\"126.660156\" xlink:href=\"#DejaVuSans-111\"/>\n      <use x=\"187.841797\" xlink:href=\"#DejaVuSans-99\"/>\n      <use x=\"242.822266\" xlink:href=\"#DejaVuSans-104\"/>\n     </g>\n    </g>\n   </g>\n   <g id=\"matplotlib.axis_4\">\n    <g id=\"ytick_7\">\n     <g id=\"line2d_23\">\n      <g>\n       <use style=\"stroke:#000000;stroke-width:0.8;\" x=\"348.144886\" xlink:href=\"#m21bd1ee934\" y=\"289.321647\"/>\n      </g>\n     </g>\n     <g id=\"text_24\">\n      <!-- 0.09 -->\n      <defs>\n       <path d=\"M 10.984375 1.515625 \nL 10.984375 10.5 \nQ 14.703125 8.734375 18.5 7.8125 \nQ 22.3125 6.890625 25.984375 6.890625 \nQ 35.75 6.890625 40.890625 13.453125 \nQ 46.046875 20.015625 46.78125 33.40625 \nQ 43.953125 29.203125 39.59375 26.953125 \nQ 35.25 24.703125 29.984375 24.703125 \nQ 19.046875 24.703125 12.671875 31.3125 \nQ 6.296875 37.9375 6.296875 49.421875 \nQ 6.296875 60.640625 12.9375 67.421875 \nQ 19.578125 74.21875 30.609375 74.21875 \nQ 43.265625 74.21875 49.921875 64.515625 \nQ 56.59375 54.828125 56.59375 36.375 \nQ 56.59375 19.140625 48.40625 8.859375 \nQ 40.234375 -1.421875 26.421875 -1.421875 \nQ 22.703125 -1.421875 18.890625 -0.6875 \nQ 15.09375 0.046875 10.984375 1.515625 \nz\nM 30.609375 32.421875 \nQ 37.25 32.421875 41.125 36.953125 \nQ 45.015625 41.5 45.015625 49.421875 \nQ 45.015625 57.28125 41.125 61.84375 \nQ 37.25 66.40625 30.609375 66.40625 \nQ 23.96875 66.40625 20.09375 61.84375 \nQ 16.21875 57.28125 16.21875 49.421875 \nQ 16.21875 41.5 20.09375 36.953125 \nQ 23.96875 32.421875 30.609375 32.421875 \nz\n\" id=\"DejaVuSans-57\"/>\n      </defs>\n      <g transform=\"translate(318.879261 293.120866)scale(0.1 -0.1)\">\n       <use xlink:href=\"#DejaVuSans-48\"/>\n       <use x=\"63.623047\" xlink:href=\"#DejaVuSans-46\"/>\n       <use x=\"95.410156\" xlink:href=\"#DejaVuSans-48\"/>\n       <use x=\"159.033203\" xlink:href=\"#DejaVuSans-57\"/>\n      </g>\n     </g>\n    </g>\n    <g id=\"ytick_8\">\n     <g id=\"line2d_24\">\n      <g>\n       <use style=\"stroke:#000000;stroke-width:0.8;\" x=\"348.144886\" xlink:href=\"#m21bd1ee934\" y=\"249.787102\"/>\n      </g>\n     </g>\n     <g id=\"text_25\">\n      <!-- 0.10 -->\n      <g transform=\"translate(318.879261 253.586321)scale(0.1 -0.1)\">\n       <use xlink:href=\"#DejaVuSans-48\"/>\n       <use x=\"63.623047\" xlink:href=\"#DejaVuSans-46\"/>\n       <use x=\"95.410156\" xlink:href=\"#DejaVuSans-49\"/>\n       <use x=\"159.033203\" xlink:href=\"#DejaVuSans-48\"/>\n      </g>\n     </g>\n    </g>\n    <g id=\"ytick_9\">\n     <g id=\"line2d_25\">\n      <g>\n       <use style=\"stroke:#000000;stroke-width:0.8;\" x=\"348.144886\" xlink:href=\"#m21bd1ee934\" y=\"210.252557\"/>\n      </g>\n     </g>\n     <g id=\"text_26\">\n      <!-- 0.11 -->\n      <g transform=\"translate(318.879261 214.051775)scale(0.1 -0.1)\">\n       <use xlink:href=\"#DejaVuSans-48\"/>\n       <use x=\"63.623047\" xlink:href=\"#DejaVuSans-46\"/>\n       <use x=\"95.410156\" xlink:href=\"#DejaVuSans-49\"/>\n       <use x=\"159.033203\" xlink:href=\"#DejaVuSans-49\"/>\n      </g>\n     </g>\n    </g>\n    <g id=\"ytick_10\">\n     <g id=\"line2d_26\">\n      <g>\n       <use style=\"stroke:#000000;stroke-width:0.8;\" x=\"348.144886\" xlink:href=\"#m21bd1ee934\" y=\"170.718011\"/>\n      </g>\n     </g>\n     <g id=\"text_27\">\n      <!-- 0.12 -->\n      <g transform=\"translate(318.879261 174.51723)scale(0.1 -0.1)\">\n       <use xlink:href=\"#DejaVuSans-48\"/>\n       <use x=\"63.623047\" xlink:href=\"#DejaVuSans-46\"/>\n       <use x=\"95.410156\" xlink:href=\"#DejaVuSans-49\"/>\n       <use x=\"159.033203\" xlink:href=\"#DejaVuSans-50\"/>\n      </g>\n     </g>\n    </g>\n    <g id=\"ytick_11\">\n     <g id=\"line2d_27\">\n      <g>\n       <use style=\"stroke:#000000;stroke-width:0.8;\" x=\"348.144886\" xlink:href=\"#m21bd1ee934\" y=\"131.183466\"/>\n      </g>\n     </g>\n     <g id=\"text_28\">\n      <!-- 0.13 -->\n      <g transform=\"translate(318.879261 134.982684)scale(0.1 -0.1)\">\n       <use xlink:href=\"#DejaVuSans-48\"/>\n       <use x=\"63.623047\" xlink:href=\"#DejaVuSans-46\"/>\n       <use x=\"95.410156\" xlink:href=\"#DejaVuSans-49\"/>\n       <use x=\"159.033203\" xlink:href=\"#DejaVuSans-51\"/>\n      </g>\n     </g>\n    </g>\n    <g id=\"ytick_12\">\n     <g id=\"line2d_28\">\n      <g>\n       <use style=\"stroke:#000000;stroke-width:0.8;\" x=\"348.144886\" xlink:href=\"#m21bd1ee934\" y=\"91.64892\"/>\n      </g>\n     </g>\n     <g id=\"text_29\">\n      <!-- 0.14 -->\n      <g transform=\"translate(318.879261 95.448139)scale(0.1 -0.1)\">\n       <use xlink:href=\"#DejaVuSans-48\"/>\n       <use x=\"63.623047\" xlink:href=\"#DejaVuSans-46\"/>\n       <use x=\"95.410156\" xlink:href=\"#DejaVuSans-49\"/>\n       <use x=\"159.033203\" xlink:href=\"#DejaVuSans-52\"/>\n      </g>\n     </g>\n    </g>\n    <g id=\"ytick_13\">\n     <g id=\"line2d_29\">\n      <g>\n       <use style=\"stroke:#000000;stroke-width:0.8;\" x=\"348.144886\" xlink:href=\"#m21bd1ee934\" y=\"52.114375\"/>\n      </g>\n     </g>\n     <g id=\"text_30\">\n      <!-- 0.15 -->\n      <g transform=\"translate(318.879261 55.913594)scale(0.1 -0.1)\">\n       <use xlink:href=\"#DejaVuSans-48\"/>\n       <use x=\"63.623047\" xlink:href=\"#DejaVuSans-46\"/>\n       <use x=\"95.410156\" xlink:href=\"#DejaVuSans-49\"/>\n       <use x=\"159.033203\" xlink:href=\"#DejaVuSans-53\"/>\n      </g>\n     </g>\n    </g>\n    <g id=\"text_31\">\n     <!-- accuracy -->\n     <defs>\n      <path d=\"M 32.171875 -5.078125 \nQ 28.375 -14.84375 24.75 -17.8125 \nQ 21.140625 -20.796875 15.09375 -20.796875 \nL 7.90625 -20.796875 \nL 7.90625 -13.28125 \nL 13.1875 -13.28125 \nQ 16.890625 -13.28125 18.9375 -11.515625 \nQ 21 -9.765625 23.484375 -3.21875 \nL 25.09375 0.875 \nL 2.984375 54.6875 \nL 12.5 54.6875 \nL 29.59375 11.921875 \nL 46.6875 54.6875 \nL 56.203125 54.6875 \nz\n\" id=\"DejaVuSans-121\"/>\n     </defs>\n     <g transform=\"translate(312.799574 180.7775)rotate(-90)scale(0.1 -0.1)\">\n      <use xlink:href=\"#DejaVuSans-97\"/>\n      <use x=\"61.279297\" xlink:href=\"#DejaVuSans-99\"/>\n      <use x=\"116.259766\" xlink:href=\"#DejaVuSans-99\"/>\n      <use x=\"171.240234\" xlink:href=\"#DejaVuSans-117\"/>\n      <use x=\"234.619141\" xlink:href=\"#DejaVuSans-114\"/>\n      <use x=\"275.732422\" xlink:href=\"#DejaVuSans-97\"/>\n      <use x=\"337.011719\" xlink:href=\"#DejaVuSans-99\"/>\n      <use x=\"391.992188\" xlink:href=\"#DejaVuSans-121\"/>\n     </g>\n    </g>\n   </g>\n   <g id=\"line2d_30\">\n    <path clip-path=\"url(#pe1cbc70baa)\" d=\"M 359.673812 226.701235 \nL 364.914233 89.628916 \nL 370.154653 230.308389 \nL 375.395074 201.451069 \nL 380.635495 226.701235 \nL 385.875916 248.344246 \nL 391.116336 215.879744 \nL 396.356757 147.343555 \nL 401.597178 161.772229 \nL 406.837599 190.629578 \nL 412.078019 161.772229 \nL 417.31844 168.986567 \nL 422.558861 208.665407 \nL 427.799282 168.986567 \nL 433.039702 212.27256 \nL 438.280123 219.486898 \nL 443.520544 255.558554 \nL 448.760965 190.629578 \nL 454.001385 147.343555 \nL 459.241806 194.236732 \nL 464.482227 183.415241 \nL 469.722647 233.915572 \nL 474.963068 201.451069 \nL 480.203489 241.129909 \nL 485.44391 205.058223 \nL 490.68433 104.057591 \nL 495.924751 111.271899 \nL 501.165172 237.522726 \nL 506.405593 140.129247 \nL 511.646013 208.665407 \nL 516.886434 71.593059 \nL 522.126855 194.236732 \nL 527.367276 179.808058 \nL 532.607696 165.379413 \nL 537.848117 158.165076 \nL 543.088538 147.343555 \nL 548.328958 179.808058 \nL 553.569379 212.27256 \nL 558.8098 223.094081 \nL 564.050221 233.915572 \nL 569.290641 208.665407 \nL 574.531062 176.200904 \nL 579.771483 201.451069 \nL 585.011904 176.200904 \nL 590.252324 208.665407 \n\" style=\"fill:none;stroke:#1f77b4;stroke-linecap:square;stroke-width:1.5;\"/>\n   </g>\n   <g id=\"line2d_31\">\n    <path clip-path=\"url(#pe1cbc70baa)\" d=\"M 359.673812 180.020255 \nL 364.914233 34.67267 \nL 370.154653 252.694063 \nL 375.395074 238.159289 \nL 380.635495 165.485512 \nL 385.875916 180.020255 \nL 391.116336 223.624546 \nL 396.356757 92.811704 \nL 401.597178 209.089772 \nL 406.837599 252.694063 \nL 412.078019 252.694063 \nL 417.31844 209.089772 \nL 422.558861 252.694063 \nL 427.799282 209.089772 \nL 433.039702 252.694063 \nL 438.280123 209.089772 \nL 443.520544 209.089772 \nL 448.760965 209.089772 \nL 454.001385 121.881192 \nL 459.241806 209.089772 \nL 464.482227 281.76358 \nL 469.722647 209.089772 \nL 474.963068 209.089772 \nL 480.203489 209.089772 \nL 485.44391 238.159289 \nL 490.68433 150.950738 \nL 495.924751 267.228806 \nL 501.165172 209.089772 \nL 506.405593 209.089772 \nL 511.646013 281.76358 \nL 516.886434 209.089772 \nL 522.126855 223.624546 \nL 527.367276 78.276931 \nL 532.607696 180.020255 \nL 537.848117 209.089772 \nL 543.088538 238.159289 \nL 548.328958 223.624546 \nL 553.569379 209.089772 \nL 558.8098 209.089772 \nL 564.050221 238.159289 \nL 569.290641 238.159289 \nL 574.531062 238.159289 \nL 579.771483 194.555029 \nL 585.011904 209.089772 \nL 590.252324 194.555029 \n\" style=\"fill:none;stroke:#ff7f0e;stroke-linecap:square;stroke-width:1.5;\"/>\n   </g>\n   <g id=\"patch_9\">\n    <path d=\"M 348.144886 294.118125 \nL 348.144886 22.318125 \n\" style=\"fill:none;stroke:#000000;stroke-linecap:square;stroke-linejoin:miter;stroke-width:0.8;\"/>\n   </g>\n   <g id=\"patch_10\">\n    <path d=\"M 601.78125 294.118125 \nL 601.78125 22.318125 \n\" style=\"fill:none;stroke:#000000;stroke-linecap:square;stroke-linejoin:miter;stroke-width:0.8;\"/>\n   </g>\n   <g id=\"patch_11\">\n    <path d=\"M 348.144886 294.118125 \nL 601.78125 294.118125 \n\" style=\"fill:none;stroke:#000000;stroke-linecap:square;stroke-linejoin:miter;stroke-width:0.8;\"/>\n   </g>\n   <g id=\"patch_12\">\n    <path d=\"M 348.144886 22.318125 \nL 601.78125 22.318125 \n\" style=\"fill:none;stroke:#000000;stroke-linecap:square;stroke-linejoin:miter;stroke-width:0.8;\"/>\n   </g>\n   <g id=\"text_32\">\n    <!-- Accuracy -->\n    <defs>\n     <path d=\"M 34.1875 63.1875 \nL 20.796875 26.90625 \nL 47.609375 26.90625 \nz\nM 28.609375 72.90625 \nL 39.796875 72.90625 \nL 67.578125 0 \nL 57.328125 0 \nL 50.6875 18.703125 \nL 17.828125 18.703125 \nL 11.1875 0 \nL 0.78125 0 \nz\n\" id=\"DejaVuSans-65\"/>\n    </defs>\n    <g transform=\"translate(447.569318 16.318125)scale(0.12 -0.12)\">\n     <use xlink:href=\"#DejaVuSans-65\"/>\n     <use x=\"66.658203\" xlink:href=\"#DejaVuSans-99\"/>\n     <use x=\"121.638672\" xlink:href=\"#DejaVuSans-99\"/>\n     <use x=\"176.619141\" xlink:href=\"#DejaVuSans-117\"/>\n     <use x=\"239.998047\" xlink:href=\"#DejaVuSans-114\"/>\n     <use x=\"281.111328\" xlink:href=\"#DejaVuSans-97\"/>\n     <use x=\"342.390625\" xlink:href=\"#DejaVuSans-99\"/>\n     <use x=\"397.371094\" xlink:href=\"#DejaVuSans-121\"/>\n    </g>\n   </g>\n   <g id=\"legend_2\">\n    <g id=\"patch_13\">\n     <path d=\"M 513.546875 59.674375 \nL 594.78125 59.674375 \nQ 596.78125 59.674375 596.78125 57.674375 \nL 596.78125 29.318125 \nQ 596.78125 27.318125 594.78125 27.318125 \nL 513.546875 27.318125 \nQ 511.546875 27.318125 511.546875 29.318125 \nL 511.546875 57.674375 \nQ 511.546875 59.674375 513.546875 59.674375 \nz\n\" style=\"fill:#ffffff;opacity:0.8;stroke:#cccccc;stroke-linejoin:miter;\"/>\n    </g>\n    <g id=\"line2d_32\">\n     <path d=\"M 515.546875 35.416562 \nL 535.546875 35.416562 \n\" style=\"fill:none;stroke:#1f77b4;stroke-linecap:square;stroke-width:1.5;\"/>\n    </g>\n    <g id=\"line2d_33\"/>\n    <g id=\"text_33\">\n     <!-- train -->\n     <g transform=\"translate(543.546875 38.916562)scale(0.1 -0.1)\">\n      <use xlink:href=\"#DejaVuSans-116\"/>\n      <use x=\"39.208984\" xlink:href=\"#DejaVuSans-114\"/>\n      <use x=\"80.322266\" xlink:href=\"#DejaVuSans-97\"/>\n      <use x=\"141.601562\" xlink:href=\"#DejaVuSans-105\"/>\n      <use x=\"169.384766\" xlink:href=\"#DejaVuSans-110\"/>\n     </g>\n    </g>\n    <g id=\"line2d_34\">\n     <path d=\"M 515.546875 50.094688 \nL 535.546875 50.094688 \n\" style=\"fill:none;stroke:#ff7f0e;stroke-linecap:square;stroke-width:1.5;\"/>\n    </g>\n    <g id=\"line2d_35\"/>\n    <g id=\"text_34\">\n     <!-- validation -->\n     <g transform=\"translate(543.546875 53.594688)scale(0.1 -0.1)\">\n      <use xlink:href=\"#DejaVuSans-118\"/>\n      <use x=\"59.179688\" xlink:href=\"#DejaVuSans-97\"/>\n      <use x=\"120.458984\" xlink:href=\"#DejaVuSans-108\"/>\n      <use x=\"148.242188\" xlink:href=\"#DejaVuSans-105\"/>\n      <use x=\"176.025391\" xlink:href=\"#DejaVuSans-100\"/>\n      <use x=\"239.501953\" xlink:href=\"#DejaVuSans-97\"/>\n      <use x=\"300.78125\" xlink:href=\"#DejaVuSans-116\"/>\n      <use x=\"339.990234\" xlink:href=\"#DejaVuSans-105\"/>\n      <use x=\"367.773438\" xlink:href=\"#DejaVuSans-111\"/>\n      <use x=\"428.955078\" xlink:href=\"#DejaVuSans-110\"/>\n     </g>\n    </g>\n   </g>\n  </g>\n </g>\n <defs>\n  <clipPath id=\"p38e17423f8\">\n   <rect height=\"271.8\" width=\"253.636364\" x=\"43.78125\" y=\"22.318125\"/>\n  </clipPath>\n  <clipPath id=\"pe1cbc70baa\">\n   <rect height=\"271.8\" width=\"253.636364\" x=\"348.144886\" y=\"22.318125\"/>\n  </clipPath>\n </defs>\n</svg>\n"
          },
          "metadata": {
            "needs_background": "light"
          }
        }
      ],
      "source": [
        "# let's plot the loss and accuracy \n",
        "\n",
        "# get the training and validation accuracy from the history object\n",
        "train_acc = history1.history['accuracy']\n",
        "valid_acc = history1.history['val_accuracy']\n",
        "\n",
        "# get the loss\n",
        "train_loss = history1.history['loss']\n",
        "valid_loss = history1.history['val_loss']\n",
        "\n",
        "# get the number of entries\n",
        "xvalues = np.arange(len(train_acc))\n",
        "\n",
        "# visualize\n",
        "f,ax = plt.subplots(1,2, figsize=(10,5))\n",
        "ax[0].plot(xvalues, train_loss)\n",
        "ax[0].plot(xvalues, valid_loss)\n",
        "ax[0].set_title(\"Loss curve\")\n",
        "ax[0].set_xlabel(\"Epoch\")\n",
        "ax[0].set_ylabel(\"loss\")\n",
        "ax[0].legend(['train', 'validation'])\n",
        "\n",
        "ax[1].plot(xvalues, train_acc)\n",
        "ax[1].plot(xvalues, valid_acc)\n",
        "ax[1].set_title(\"Accuracy\")\n",
        "ax[1].set_xlabel(\"Epoch\")\n",
        "ax[1].set_ylabel(\"accuracy\")\n",
        "ax[1].legend(['train', 'validation'])\n",
        "\n",
        "plt.show()"
      ]
    },
    {
      "cell_type": "code",
      "execution_count": 21,
      "metadata": {
        "id": "QbyCEgjOm_oJ",
        "colab": {
          "base_uri": "https://localhost:8080/"
        },
        "outputId": "46360bdd-f94a-4723-db07-1915eb569e9c"
      },
      "outputs": [
        {
          "output_type": "stream",
          "name": "stderr",
          "text": [
            "<ipython-input-21-e428c4fc796b>:2: UserWarning: `Model.evaluate_generator` is deprecated and will be removed in a future version. Please use `Model.evaluate`, which supports generators.\n",
            "  valid_loss, valid_acc = model.evaluate_generator(valid_data_gen, steps=num_valid_steps)\n"
          ]
        },
        {
          "output_type": "stream",
          "name": "stdout",
          "text": [
            "Final validation accuracy: 10.29%\n"
          ]
        }
      ],
      "source": [
        "# What is the final loss and accuracy on our validation data?\n",
        "valid_loss, valid_acc = model.evaluate_generator(valid_data_gen, steps=num_valid_steps)\n",
        "print(f\"Final validation accuracy: {valid_acc*100:.2f}%\")"
      ]
    },
    {
      "cell_type": "code",
      "execution_count": 22,
      "metadata": {
        "id": "xtftPiu_m_oK",
        "colab": {
          "base_uri": "https://localhost:8080/"
        },
        "outputId": "a3b2313f-ff5d-451f-f5a9-40f9c532e3c1"
      },
      "outputs": [
        {
          "output_type": "stream",
          "name": "stdout",
          "text": [
            "Model: \"model_1\"\n",
            "_________________________________________________________________\n",
            " Layer (type)                Output Shape              Param #   \n",
            "=================================================================\n",
            " input_1 (InputLayer)        [(None, 224, 224, 3)]     0         \n",
            "                                                                 \n",
            " conv2d (Conv2D)             (None, 224, 224, 64)      23296     \n",
            "                                                                 \n",
            " max_pooling2d (MaxPooling2D  (None, 112, 112, 64)     0         \n",
            " )                                                               \n",
            "                                                                 \n",
            " conv2d_1 (Conv2D)           (None, 112, 112, 128)     991360    \n",
            "                                                                 \n",
            " max_pooling2d_1 (MaxPooling  (None, 56, 56, 128)      0         \n",
            " 2D)                                                             \n",
            "                                                                 \n",
            " conv2d_2 (Conv2D)           (None, 56, 56, 256)       3965184   \n",
            "                                                                 \n",
            " max_pooling2d_2 (MaxPooling  (None, 28, 28, 256)      0         \n",
            " 2D)                                                             \n",
            "                                                                 \n",
            " conv2d_3 (Conv2D)           (None, 28, 28, 512)       15860224  \n",
            "                                                                 \n",
            " max_pooling2d_3 (MaxPooling  (None, 14, 14, 512)      0         \n",
            " 2D)                                                             \n",
            "                                                                 \n",
            " conv2d_4 (Conv2D)           (None, 14, 14, 512)       31719936  \n",
            "                                                                 \n",
            " conv2d_5 (Conv2D)           (None, 14, 14, 512)       31719936  \n",
            "                                                                 \n",
            " max_pooling2d_4 (MaxPooling  (None, 7, 7, 512)        0         \n",
            " 2D)                                                             \n",
            "                                                                 \n",
            " flatten (Flatten)           (None, 25088)             0         \n",
            "                                                                 \n",
            " dense (Dense)               (None, 4096)              102764544 \n",
            "                                                                 \n",
            " dense_1 (Dense)             (None, 4096)              16781312  \n",
            "                                                                 \n",
            " dropout (Dropout)           (None, 4096)              0         \n",
            "                                                                 \n",
            " dense_2 (Dense)             (None, 10)                40970     \n",
            "                                                                 \n",
            "=================================================================\n",
            "Total params: 203,866,762\n",
            "Trainable params: 0\n",
            "Non-trainable params: 203,866,762\n",
            "_________________________________________________________________\n"
          ]
        }
      ],
      "source": [
        "outputs = [layer.output for layer in model.layers[1:18]]\n",
        "\n",
        "vis_model = Model(model.input, outputs)\n",
        "\n",
        "for layer in vis_model.layers:\n",
        "  layer.trainable = False\n",
        "\n",
        "vis_model.summary()"
      ]
    },
    {
      "cell_type": "code",
      "execution_count": 23,
      "metadata": {
        "id": "SBwGla4tm_oK",
        "colab": {
          "base_uri": "https://localhost:8080/"
        },
        "outputId": "e4802b82-831d-4471-f7fb-35763a832861"
      },
      "outputs": [
        {
          "output_type": "stream",
          "name": "stdout",
          "text": [
            "Layers going to be used for visualization: \n",
            "['conv2d', 'max_pooling2d', 'conv2d_1', 'max_pooling2d_1', 'conv2d_2', 'max_pooling2d_2', 'conv2d_3', 'max_pooling2d_3', 'conv2d_4', 'conv2d_5', 'max_pooling2d_4', 'flatten', 'dense', 'dense_1', 'dropout', 'dense_2']\n"
          ]
        }
      ],
      "source": [
        "# store the layer names we are interested in\n",
        "layer_names = []\n",
        "for layer in outputs:\n",
        "    layer_names.append(layer.name.split(\"/\")[0])\n",
        "\n",
        "    \n",
        "print(\"Layers going to be used for visualization: \")\n",
        "print(layer_names)"
      ]
    },
    {
      "cell_type": "code",
      "execution_count": 24,
      "metadata": {
        "id": "N71NRlVBrVkI",
        "colab": {
          "base_uri": "https://localhost:8080/"
        },
        "outputId": "20a6ed05-fc23-464b-b348-73f680cf771f"
      },
      "outputs": [
        {
          "output_type": "stream",
          "name": "stdout",
          "text": [
            "layer_names [before]: ['conv2d', 'max_pooling2d', 'conv2d_1', 'max_pooling2d_1', 'conv2d_2', 'max_pooling2d_2', 'conv2d_3', 'max_pooling2d_3', 'conv2d_4', 'conv2d_5', 'max_pooling2d_4', 'flatten', 'dense', 'dense_1', 'dropout', 'dense_2']\n",
            "=========================================\n",
            "layer_names [after]: ['conv2d', 'conv2d_1', 'conv2d_2', 'conv2d_3', 'conv2d_4', 'conv2d_5']\n"
          ]
        }
      ],
      "source": [
        "print( f'layer_names [before]: {layer_names}' )\n",
        "\n",
        "layer_names_temp = layer_names\n",
        "layer_names = list()\n",
        "for layer in layer_names_temp:\n",
        "\n",
        "  if 'conv' in layer:\n",
        "    # print(layer)\n",
        "    layer_names.append( layer )\n",
        "\n",
        "print( '=========================================' )\n",
        "print( f'layer_names [after]: {layer_names}' )"
      ]
    },
    {
      "cell_type": "code",
      "execution_count": 25,
      "metadata": {
        "id": "GTk3zuOem_oL"
      },
      "outputs": [],
      "source": [
        "def get_CAM(processed_image, predicted_label):\n",
        "    \"\"\"\n",
        "    This function is used to generate a heatmap for a sample image prediction.\n",
        "    \n",
        "    Args:\n",
        "        processed_image: any sample image that has been pre-processed using the \n",
        "                       `preprocess_input()`method of a keras model\n",
        "        predicted_label: label that has been predicted by the network for this image\n",
        "    \n",
        "    Returns:\n",
        "        heatmap: heatmap generated over the last convolution layer output \n",
        "    \"\"\"\n",
        "    # we want the activations for the predicted label\n",
        "    predicted_output = model.output[:, predicted_label]\n",
        "    \n",
        "    # choose the last conv layer in your model\n",
        "    # last_conv_layer = model.get_layer('block5_conv3')\n",
        "    last_conv_layer = model.get_layer(layer_names[-1])\n",
        "    \n",
        "    # get the gradients wrt to the last conv layer\n",
        "    grads = K.gradients(predicted_output, last_conv_layer.output)[0]\n",
        "    \n",
        "    # take mean gradient per feature map\n",
        "    grads = K.mean(grads, axis=(0,1,2)) # GAP - Global Average Pooling\n",
        "    \n",
        "    # Define a function that generates the values for the output and gradients\n",
        "    evaluation_function = K.function([model.input], [grads, last_conv_layer.output[0]])\n",
        "    \n",
        "    # get the values\n",
        "    grads_values, conv_ouput_values = evaluation_function([processed_image])\n",
        "    \n",
        "    # CAM - Class Activation Map\n",
        "    # iterate over each feature map in yout conv output and multiply\n",
        "    # the gradient values with the conv output values. This gives an \n",
        "    # indication of \"how important a feature is\"\n",
        "    # for i in range(512): # we have 512 features in our last conv layer\n",
        "    for i in range(conv_ouput_values.shape[2]): # daniel\n",
        "        conv_ouput_values[:,:,i] *= grads_values[i]\n",
        "    \n",
        "    # create a heatmap\n",
        "    heatmap = np.mean(conv_ouput_values, axis=-1)\n",
        "    \n",
        "    # remove negative values\n",
        "    heatmap = np.maximum(heatmap, 0)\n",
        "    \n",
        "    # normalize\n",
        "    heatmap /= heatmap.max()\n",
        "    \n",
        "    return heatmap"
      ]
    },
    {
      "cell_type": "code",
      "execution_count": 26,
      "metadata": {
        "id": "zeXWpNlapUFx"
      },
      "outputs": [],
      "source": [
        "idx = 0"
      ]
    },
    {
      "cell_type": "code",
      "execution_count": 27,
      "metadata": {
        "id": "tX1madjMm_oO",
        "colab": {
          "base_uri": "https://localhost:8080/",
          "height": 303
        },
        "outputId": "8eb6c593-88c4-4e2d-87c4-f7ded6f3777a"
      },
      "outputs": [
        {
          "output_type": "stream",
          "name": "stderr",
          "text": [
            "/usr/local/lib/python3.8/dist-packages/keras/engine/training_v1.py:2067: UserWarning: `Model.state_updates` will be removed in a future version. This property should not be used in TensorFlow 2.0, as `updates` are applied automatically.\n",
            "  updates=self.state_updates,\n"
          ]
        },
        {
          "output_type": "display_data",
          "data": {
            "text/plain": [
              "<Figure size 576x576 with 3 Axes>"
            ],
            "image/svg+xml": "<?xml version=\"1.0\" encoding=\"utf-8\" standalone=\"no\"?>\n<!DOCTYPE svg PUBLIC \"-//W3C//DTD SVG 1.1//EN\"\n  \"http://www.w3.org/Graphics/SVG/1.1/DTD/svg11.dtd\">\n<!-- Created with matplotlib (https://matplotlib.org/) -->\n<svg height=\"170.490368pt\" version=\"1.1\" viewBox=\"0 0 469.913097 170.490368\" width=\"469.913097pt\" xmlns=\"http://www.w3.org/2000/svg\" xmlns:xlink=\"http://www.w3.org/1999/xlink\">\n <defs>\n  <style type=\"text/css\">\n*{stroke-linecap:butt;stroke-linejoin:round;}\n  </style>\n </defs>\n <g id=\"figure_1\">\n  <g id=\"patch_1\">\n   <path d=\"M 0 170.490368 \nL 469.913097 170.490368 \nL 469.913097 0 \nL 0 0 \nz\n\" style=\"fill:none;\"/>\n  </g>\n  <g id=\"axes_1\">\n   <g clip-path=\"url(#p90ad27998c)\">\n    <image height=\"132\" id=\"image528e94f3f6\" transform=\"scale(1 -1)translate(0 -132)\" width=\"132\" x=\"7.2\" xlink:href=\"data:image/png;base64,\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\" y=\"-31.290368\"/>\n   </g>\n   <g id=\"text_1\">\n    <!-- True label: 7  -->\n    <defs>\n     <path d=\"M -0.296875 72.90625 \nL 61.375 72.90625 \nL 61.375 64.59375 \nL 35.5 64.59375 \nL 35.5 0 \nL 25.59375 0 \nL 25.59375 64.59375 \nL -0.296875 64.59375 \nz\n\" id=\"DejaVuSans-84\"/>\n     <path d=\"M 41.109375 46.296875 \nQ 39.59375 47.171875 37.8125 47.578125 \nQ 36.03125 48 33.890625 48 \nQ 26.265625 48 22.1875 43.046875 \nQ 18.109375 38.09375 18.109375 28.8125 \nL 18.109375 0 \nL 9.078125 0 \nL 9.078125 54.6875 \nL 18.109375 54.6875 \nL 18.109375 46.1875 \nQ 20.953125 51.171875 25.484375 53.578125 \nQ 30.03125 56 36.53125 56 \nQ 37.453125 56 38.578125 55.875 \nQ 39.703125 55.765625 41.0625 55.515625 \nz\n\" id=\"DejaVuSans-114\"/>\n     <path d=\"M 8.5 21.578125 \nL 8.5 54.6875 \nL 17.484375 54.6875 \nL 17.484375 21.921875 \nQ 17.484375 14.15625 20.5 10.265625 \nQ 23.53125 6.390625 29.59375 6.390625 \nQ 36.859375 6.390625 41.078125 11.03125 \nQ 45.3125 15.671875 45.3125 23.6875 \nL 45.3125 54.6875 \nL 54.296875 54.6875 \nL 54.296875 0 \nL 45.3125 0 \nL 45.3125 8.40625 \nQ 42.046875 3.421875 37.71875 1 \nQ 33.40625 -1.421875 27.6875 -1.421875 \nQ 18.265625 -1.421875 13.375 4.4375 \nQ 8.5 10.296875 8.5 21.578125 \nz\nM 31.109375 56 \nz\n\" id=\"DejaVuSans-117\"/>\n     <path d=\"M 56.203125 29.59375 \nL 56.203125 25.203125 \nL 14.890625 25.203125 \nQ 15.484375 15.921875 20.484375 11.0625 \nQ 25.484375 6.203125 34.421875 6.203125 \nQ 39.59375 6.203125 44.453125 7.46875 \nQ 49.3125 8.734375 54.109375 11.28125 \nL 54.109375 2.78125 \nQ 49.265625 0.734375 44.1875 -0.34375 \nQ 39.109375 -1.421875 33.890625 -1.421875 \nQ 20.796875 -1.421875 13.15625 6.1875 \nQ 5.515625 13.8125 5.515625 26.8125 \nQ 5.515625 40.234375 12.765625 48.109375 \nQ 20.015625 56 32.328125 56 \nQ 43.359375 56 49.78125 48.890625 \nQ 56.203125 41.796875 56.203125 29.59375 \nz\nM 47.21875 32.234375 \nQ 47.125 39.59375 43.09375 43.984375 \nQ 39.0625 48.390625 32.421875 48.390625 \nQ 24.90625 48.390625 20.390625 44.140625 \nQ 15.875 39.890625 15.1875 32.171875 \nz\n\" id=\"DejaVuSans-101\"/>\n     <path id=\"DejaVuSans-32\"/>\n     <path d=\"M 9.421875 75.984375 \nL 18.40625 75.984375 \nL 18.40625 0 \nL 9.421875 0 \nz\n\" id=\"DejaVuSans-108\"/>\n     <path d=\"M 34.28125 27.484375 \nQ 23.390625 27.484375 19.1875 25 \nQ 14.984375 22.515625 14.984375 16.5 \nQ 14.984375 11.71875 18.140625 8.90625 \nQ 21.296875 6.109375 26.703125 6.109375 \nQ 34.1875 6.109375 38.703125 11.40625 \nQ 43.21875 16.703125 43.21875 25.484375 \nL 43.21875 27.484375 \nz\nM 52.203125 31.203125 \nL 52.203125 0 \nL 43.21875 0 \nL 43.21875 8.296875 \nQ 40.140625 3.328125 35.546875 0.953125 \nQ 30.953125 -1.421875 24.3125 -1.421875 \nQ 15.921875 -1.421875 10.953125 3.296875 \nQ 6 8.015625 6 15.921875 \nQ 6 25.140625 12.171875 29.828125 \nQ 18.359375 34.515625 30.609375 34.515625 \nL 43.21875 34.515625 \nL 43.21875 35.40625 \nQ 43.21875 41.609375 39.140625 45 \nQ 35.0625 48.390625 27.6875 48.390625 \nQ 23 48.390625 18.546875 47.265625 \nQ 14.109375 46.140625 10.015625 43.890625 \nL 10.015625 52.203125 \nQ 14.9375 54.109375 19.578125 55.046875 \nQ 24.21875 56 28.609375 56 \nQ 40.484375 56 46.34375 49.84375 \nQ 52.203125 43.703125 52.203125 31.203125 \nz\n\" id=\"DejaVuSans-97\"/>\n     <path d=\"M 48.6875 27.296875 \nQ 48.6875 37.203125 44.609375 42.84375 \nQ 40.53125 48.484375 33.40625 48.484375 \nQ 26.265625 48.484375 22.1875 42.84375 \nQ 18.109375 37.203125 18.109375 27.296875 \nQ 18.109375 17.390625 22.1875 11.75 \nQ 26.265625 6.109375 33.40625 6.109375 \nQ 40.53125 6.109375 44.609375 11.75 \nQ 48.6875 17.390625 48.6875 27.296875 \nz\nM 18.109375 46.390625 \nQ 20.953125 51.265625 25.265625 53.625 \nQ 29.59375 56 35.59375 56 \nQ 45.5625 56 51.78125 48.09375 \nQ 58.015625 40.1875 58.015625 27.296875 \nQ 58.015625 14.40625 51.78125 6.484375 \nQ 45.5625 -1.421875 35.59375 -1.421875 \nQ 29.59375 -1.421875 25.265625 0.953125 \nQ 20.953125 3.328125 18.109375 8.203125 \nL 18.109375 0 \nL 9.078125 0 \nL 9.078125 75.984375 \nL 18.109375 75.984375 \nz\n\" id=\"DejaVuSans-98\"/>\n     <path d=\"M 11.71875 12.40625 \nL 22.015625 12.40625 \nL 22.015625 0 \nL 11.71875 0 \nz\nM 11.71875 51.703125 \nL 22.015625 51.703125 \nL 22.015625 39.3125 \nL 11.71875 39.3125 \nz\n\" id=\"DejaVuSans-58\"/>\n     <path d=\"M 8.203125 72.90625 \nL 55.078125 72.90625 \nL 55.078125 68.703125 \nL 28.609375 0 \nL 18.3125 0 \nL 43.21875 64.59375 \nL 8.203125 64.59375 \nz\n\" id=\"DejaVuSans-55\"/>\n    </defs>\n    <g transform=\"translate(40.50409 14.798437)scale(0.1 -0.1)\">\n     <use xlink:href=\"#DejaVuSans-84\"/>\n     <use x=\"46.333984\" xlink:href=\"#DejaVuSans-114\"/>\n     <use x=\"87.447266\" xlink:href=\"#DejaVuSans-117\"/>\n     <use x=\"150.826172\" xlink:href=\"#DejaVuSans-101\"/>\n     <use x=\"212.349609\" xlink:href=\"#DejaVuSans-32\"/>\n     <use x=\"244.136719\" xlink:href=\"#DejaVuSans-108\"/>\n     <use x=\"271.919922\" xlink:href=\"#DejaVuSans-97\"/>\n     <use x=\"333.199219\" xlink:href=\"#DejaVuSans-98\"/>\n     <use x=\"396.675781\" xlink:href=\"#DejaVuSans-101\"/>\n     <use x=\"458.199219\" xlink:href=\"#DejaVuSans-108\"/>\n     <use x=\"485.982422\" xlink:href=\"#DejaVuSans-58\"/>\n     <use x=\"519.673828\" xlink:href=\"#DejaVuSans-32\"/>\n     <use x=\"551.460938\" xlink:href=\"#DejaVuSans-55\"/>\n     <use x=\"615.083984\" xlink:href=\"#DejaVuSans-32\"/>\n    </g>\n    <!--  Predicted label: 3 -->\n    <defs>\n     <path d=\"M 19.671875 64.796875 \nL 19.671875 37.40625 \nL 32.078125 37.40625 \nQ 38.96875 37.40625 42.71875 40.96875 \nQ 46.484375 44.53125 46.484375 51.125 \nQ 46.484375 57.671875 42.71875 61.234375 \nQ 38.96875 64.796875 32.078125 64.796875 \nz\nM 9.8125 72.90625 \nL 32.078125 72.90625 \nQ 44.34375 72.90625 50.609375 67.359375 \nQ 56.890625 61.8125 56.890625 51.125 \nQ 56.890625 40.328125 50.609375 34.8125 \nQ 44.34375 29.296875 32.078125 29.296875 \nL 19.671875 29.296875 \nL 19.671875 0 \nL 9.8125 0 \nz\n\" id=\"DejaVuSans-80\"/>\n     <path d=\"M 45.40625 46.390625 \nL 45.40625 75.984375 \nL 54.390625 75.984375 \nL 54.390625 0 \nL 45.40625 0 \nL 45.40625 8.203125 \nQ 42.578125 3.328125 38.25 0.953125 \nQ 33.9375 -1.421875 27.875 -1.421875 \nQ 17.96875 -1.421875 11.734375 6.484375 \nQ 5.515625 14.40625 5.515625 27.296875 \nQ 5.515625 40.1875 11.734375 48.09375 \nQ 17.96875 56 27.875 56 \nQ 33.9375 56 38.25 53.625 \nQ 42.578125 51.265625 45.40625 46.390625 \nz\nM 14.796875 27.296875 \nQ 14.796875 17.390625 18.875 11.75 \nQ 22.953125 6.109375 30.078125 6.109375 \nQ 37.203125 6.109375 41.296875 11.75 \nQ 45.40625 17.390625 45.40625 27.296875 \nQ 45.40625 37.203125 41.296875 42.84375 \nQ 37.203125 48.484375 30.078125 48.484375 \nQ 22.953125 48.484375 18.875 42.84375 \nQ 14.796875 37.203125 14.796875 27.296875 \nz\n\" id=\"DejaVuSans-100\"/>\n     <path d=\"M 9.421875 54.6875 \nL 18.40625 54.6875 \nL 18.40625 0 \nL 9.421875 0 \nz\nM 9.421875 75.984375 \nL 18.40625 75.984375 \nL 18.40625 64.59375 \nL 9.421875 64.59375 \nz\n\" id=\"DejaVuSans-105\"/>\n     <path d=\"M 48.78125 52.59375 \nL 48.78125 44.1875 \nQ 44.96875 46.296875 41.140625 47.34375 \nQ 37.3125 48.390625 33.40625 48.390625 \nQ 24.65625 48.390625 19.8125 42.84375 \nQ 14.984375 37.3125 14.984375 27.296875 \nQ 14.984375 17.28125 19.8125 11.734375 \nQ 24.65625 6.203125 33.40625 6.203125 \nQ 37.3125 6.203125 41.140625 7.25 \nQ 44.96875 8.296875 48.78125 10.40625 \nL 48.78125 2.09375 \nQ 45.015625 0.34375 40.984375 -0.53125 \nQ 36.96875 -1.421875 32.421875 -1.421875 \nQ 20.0625 -1.421875 12.78125 6.34375 \nQ 5.515625 14.109375 5.515625 27.296875 \nQ 5.515625 40.671875 12.859375 48.328125 \nQ 20.21875 56 33.015625 56 \nQ 37.15625 56 41.109375 55.140625 \nQ 45.0625 54.296875 48.78125 52.59375 \nz\n\" id=\"DejaVuSans-99\"/>\n     <path d=\"M 18.3125 70.21875 \nL 18.3125 54.6875 \nL 36.8125 54.6875 \nL 36.8125 47.703125 \nL 18.3125 47.703125 \nL 18.3125 18.015625 \nQ 18.3125 11.328125 20.140625 9.421875 \nQ 21.96875 7.515625 27.59375 7.515625 \nL 36.8125 7.515625 \nL 36.8125 0 \nL 27.59375 0 \nQ 17.1875 0 13.234375 3.875 \nQ 9.28125 7.765625 9.28125 18.015625 \nL 9.28125 47.703125 \nL 2.6875 47.703125 \nL 2.6875 54.6875 \nL 9.28125 54.6875 \nL 9.28125 70.21875 \nz\n\" id=\"DejaVuSans-116\"/>\n     <path d=\"M 40.578125 39.3125 \nQ 47.65625 37.796875 51.625 33 \nQ 55.609375 28.21875 55.609375 21.1875 \nQ 55.609375 10.40625 48.1875 4.484375 \nQ 40.765625 -1.421875 27.09375 -1.421875 \nQ 22.515625 -1.421875 17.65625 -0.515625 \nQ 12.796875 0.390625 7.625 2.203125 \nL 7.625 11.71875 \nQ 11.71875 9.328125 16.59375 8.109375 \nQ 21.484375 6.890625 26.8125 6.890625 \nQ 36.078125 6.890625 40.9375 10.546875 \nQ 45.796875 14.203125 45.796875 21.1875 \nQ 45.796875 27.640625 41.28125 31.265625 \nQ 36.765625 34.90625 28.71875 34.90625 \nL 20.21875 34.90625 \nL 20.21875 43.015625 \nL 29.109375 43.015625 \nQ 36.375 43.015625 40.234375 45.921875 \nQ 44.09375 48.828125 44.09375 54.296875 \nQ 44.09375 59.90625 40.109375 62.90625 \nQ 36.140625 65.921875 28.71875 65.921875 \nQ 24.65625 65.921875 20.015625 65.03125 \nQ 15.375 64.15625 9.8125 62.3125 \nL 9.8125 71.09375 \nQ 15.4375 72.65625 20.34375 73.4375 \nQ 25.25 74.21875 29.59375 74.21875 \nQ 40.828125 74.21875 47.359375 69.109375 \nQ 53.90625 64.015625 53.90625 55.328125 \nQ 53.90625 49.265625 50.4375 45.09375 \nQ 46.96875 40.921875 40.578125 39.3125 \nz\n\" id=\"DejaVuSans-51\"/>\n    </defs>\n    <g transform=\"translate(27.650965 25.99625)scale(0.1 -0.1)\">\n     <use xlink:href=\"#DejaVuSans-32\"/>\n     <use x=\"31.787109\" xlink:href=\"#DejaVuSans-80\"/>\n     <use x=\"90.339844\" xlink:href=\"#DejaVuSans-114\"/>\n     <use x=\"129.203125\" xlink:href=\"#DejaVuSans-101\"/>\n     <use x=\"190.726562\" xlink:href=\"#DejaVuSans-100\"/>\n     <use x=\"254.203125\" xlink:href=\"#DejaVuSans-105\"/>\n     <use x=\"281.986328\" xlink:href=\"#DejaVuSans-99\"/>\n     <use x=\"336.966797\" xlink:href=\"#DejaVuSans-116\"/>\n     <use x=\"376.175781\" xlink:href=\"#DejaVuSans-101\"/>\n     <use x=\"437.699219\" xlink:href=\"#DejaVuSans-100\"/>\n     <use x=\"501.175781\" xlink:href=\"#DejaVuSans-32\"/>\n     <use x=\"532.962891\" xlink:href=\"#DejaVuSans-108\"/>\n     <use x=\"560.746094\" xlink:href=\"#DejaVuSans-97\"/>\n     <use x=\"622.025391\" xlink:href=\"#DejaVuSans-98\"/>\n     <use x=\"685.501953\" xlink:href=\"#DejaVuSans-101\"/>\n     <use x=\"747.025391\" xlink:href=\"#DejaVuSans-108\"/>\n     <use x=\"774.808594\" xlink:href=\"#DejaVuSans-58\"/>\n     <use x=\"808.5\" xlink:href=\"#DejaVuSans-32\"/>\n     <use x=\"840.287109\" xlink:href=\"#DejaVuSans-51\"/>\n    </g>\n   </g>\n  </g>\n  <g id=\"axes_2\">\n   <g clip-path=\"url(#pdb1580ae21)\">\n    <image height=\"132\" id=\"imagefd9e66c206\" transform=\"scale(1 -1)translate(0 -132)\" width=\"132\" x=\"164.752941\" xlink:href=\"data:image/png;base64,\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\" y=\"-31.290368\"/>\n   </g>\n   <g id=\"text_2\">\n    <!-- Class Activation Map -->\n    <defs>\n     <path d=\"M 64.40625 67.28125 \nL 64.40625 56.890625 \nQ 59.421875 61.53125 53.78125 63.8125 \nQ 48.140625 66.109375 41.796875 66.109375 \nQ 29.296875 66.109375 22.65625 58.46875 \nQ 16.015625 50.828125 16.015625 36.375 \nQ 16.015625 21.96875 22.65625 14.328125 \nQ 29.296875 6.6875 41.796875 6.6875 \nQ 48.140625 6.6875 53.78125 8.984375 \nQ 59.421875 11.28125 64.40625 15.921875 \nL 64.40625 5.609375 \nQ 59.234375 2.09375 53.4375 0.328125 \nQ 47.65625 -1.421875 41.21875 -1.421875 \nQ 24.65625 -1.421875 15.125 8.703125 \nQ 5.609375 18.84375 5.609375 36.375 \nQ 5.609375 53.953125 15.125 64.078125 \nQ 24.65625 74.21875 41.21875 74.21875 \nQ 47.75 74.21875 53.53125 72.484375 \nQ 59.328125 70.75 64.40625 67.28125 \nz\n\" id=\"DejaVuSans-67\"/>\n     <path d=\"M 44.28125 53.078125 \nL 44.28125 44.578125 \nQ 40.484375 46.53125 36.375 47.5 \nQ 32.28125 48.484375 27.875 48.484375 \nQ 21.1875 48.484375 17.84375 46.4375 \nQ 14.5 44.390625 14.5 40.28125 \nQ 14.5 37.15625 16.890625 35.375 \nQ 19.28125 33.59375 26.515625 31.984375 \nL 29.59375 31.296875 \nQ 39.15625 29.25 43.1875 25.515625 \nQ 47.21875 21.78125 47.21875 15.09375 \nQ 47.21875 7.46875 41.1875 3.015625 \nQ 35.15625 -1.421875 24.609375 -1.421875 \nQ 20.21875 -1.421875 15.453125 -0.5625 \nQ 10.6875 0.296875 5.421875 2 \nL 5.421875 11.28125 \nQ 10.40625 8.6875 15.234375 7.390625 \nQ 20.0625 6.109375 24.8125 6.109375 \nQ 31.15625 6.109375 34.5625 8.28125 \nQ 37.984375 10.453125 37.984375 14.40625 \nQ 37.984375 18.0625 35.515625 20.015625 \nQ 33.0625 21.96875 24.703125 23.78125 \nL 21.578125 24.515625 \nQ 13.234375 26.265625 9.515625 29.90625 \nQ 5.8125 33.546875 5.8125 39.890625 \nQ 5.8125 47.609375 11.28125 51.796875 \nQ 16.75 56 26.8125 56 \nQ 31.78125 56 36.171875 55.265625 \nQ 40.578125 54.546875 44.28125 53.078125 \nz\n\" id=\"DejaVuSans-115\"/>\n     <path d=\"M 34.1875 63.1875 \nL 20.796875 26.90625 \nL 47.609375 26.90625 \nz\nM 28.609375 72.90625 \nL 39.796875 72.90625 \nL 67.578125 0 \nL 57.328125 0 \nL 50.6875 18.703125 \nL 17.828125 18.703125 \nL 11.1875 0 \nL 0.78125 0 \nz\n\" id=\"DejaVuSans-65\"/>\n     <path d=\"M 2.984375 54.6875 \nL 12.5 54.6875 \nL 29.59375 8.796875 \nL 46.6875 54.6875 \nL 56.203125 54.6875 \nL 35.6875 0 \nL 23.484375 0 \nz\n\" id=\"DejaVuSans-118\"/>\n     <path d=\"M 30.609375 48.390625 \nQ 23.390625 48.390625 19.1875 42.75 \nQ 14.984375 37.109375 14.984375 27.296875 \nQ 14.984375 17.484375 19.15625 11.84375 \nQ 23.34375 6.203125 30.609375 6.203125 \nQ 37.796875 6.203125 41.984375 11.859375 \nQ 46.1875 17.53125 46.1875 27.296875 \nQ 46.1875 37.015625 41.984375 42.703125 \nQ 37.796875 48.390625 30.609375 48.390625 \nz\nM 30.609375 56 \nQ 42.328125 56 49.015625 48.375 \nQ 55.71875 40.765625 55.71875 27.296875 \nQ 55.71875 13.875 49.015625 6.21875 \nQ 42.328125 -1.421875 30.609375 -1.421875 \nQ 18.84375 -1.421875 12.171875 6.21875 \nQ 5.515625 13.875 5.515625 27.296875 \nQ 5.515625 40.765625 12.171875 48.375 \nQ 18.84375 56 30.609375 56 \nz\n\" id=\"DejaVuSans-111\"/>\n     <path d=\"M 54.890625 33.015625 \nL 54.890625 0 \nL 45.90625 0 \nL 45.90625 32.71875 \nQ 45.90625 40.484375 42.875 44.328125 \nQ 39.84375 48.1875 33.796875 48.1875 \nQ 26.515625 48.1875 22.3125 43.546875 \nQ 18.109375 38.921875 18.109375 30.90625 \nL 18.109375 0 \nL 9.078125 0 \nL 9.078125 54.6875 \nL 18.109375 54.6875 \nL 18.109375 46.1875 \nQ 21.34375 51.125 25.703125 53.5625 \nQ 30.078125 56 35.796875 56 \nQ 45.21875 56 50.046875 50.171875 \nQ 54.890625 44.34375 54.890625 33.015625 \nz\n\" id=\"DejaVuSans-110\"/>\n     <path d=\"M 9.8125 72.90625 \nL 24.515625 72.90625 \nL 43.109375 23.296875 \nL 61.8125 72.90625 \nL 76.515625 72.90625 \nL 76.515625 0 \nL 66.890625 0 \nL 66.890625 64.015625 \nL 48.09375 14.015625 \nL 38.1875 14.015625 \nL 19.390625 64.015625 \nL 19.390625 0 \nL 9.8125 0 \nz\n\" id=\"DejaVuSans-77\"/>\n     <path d=\"M 18.109375 8.203125 \nL 18.109375 -20.796875 \nL 9.078125 -20.796875 \nL 9.078125 54.6875 \nL 18.109375 54.6875 \nL 18.109375 46.390625 \nQ 20.953125 51.265625 25.265625 53.625 \nQ 29.59375 56 35.59375 56 \nQ 45.5625 56 51.78125 48.09375 \nQ 58.015625 40.1875 58.015625 27.296875 \nQ 58.015625 14.40625 51.78125 6.484375 \nQ 45.5625 -1.421875 35.59375 -1.421875 \nQ 29.59375 -1.421875 25.265625 0.953125 \nQ 20.953125 3.328125 18.109375 8.203125 \nz\nM 48.6875 27.296875 \nQ 48.6875 37.203125 44.609375 42.84375 \nQ 40.53125 48.484375 33.40625 48.484375 \nQ 26.265625 48.484375 22.1875 42.84375 \nQ 18.109375 37.203125 18.109375 27.296875 \nQ 18.109375 17.390625 22.1875 11.75 \nQ 26.265625 6.109375 33.40625 6.109375 \nQ 40.53125 6.109375 44.609375 11.75 \nQ 48.6875 17.390625 48.6875 27.296875 \nz\n\" id=\"DejaVuSans-112\"/>\n    </defs>\n    <g transform=\"translate(178.483594 25.99625)scale(0.1 -0.1)\">\n     <use xlink:href=\"#DejaVuSans-67\"/>\n     <use x=\"69.824219\" xlink:href=\"#DejaVuSans-108\"/>\n     <use x=\"97.607422\" xlink:href=\"#DejaVuSans-97\"/>\n     <use x=\"158.886719\" xlink:href=\"#DejaVuSans-115\"/>\n     <use x=\"210.986328\" xlink:href=\"#DejaVuSans-115\"/>\n     <use x=\"263.085938\" xlink:href=\"#DejaVuSans-32\"/>\n     <use x=\"294.873047\" xlink:href=\"#DejaVuSans-65\"/>\n     <use x=\"361.53125\" xlink:href=\"#DejaVuSans-99\"/>\n     <use x=\"416.511719\" xlink:href=\"#DejaVuSans-116\"/>\n     <use x=\"455.720703\" xlink:href=\"#DejaVuSans-105\"/>\n     <use x=\"483.503906\" xlink:href=\"#DejaVuSans-118\"/>\n     <use x=\"542.683594\" xlink:href=\"#DejaVuSans-97\"/>\n     <use x=\"603.962891\" xlink:href=\"#DejaVuSans-116\"/>\n     <use x=\"643.171875\" xlink:href=\"#DejaVuSans-105\"/>\n     <use x=\"670.955078\" xlink:href=\"#DejaVuSans-111\"/>\n     <use x=\"732.136719\" xlink:href=\"#DejaVuSans-110\"/>\n     <use x=\"795.515625\" xlink:href=\"#DejaVuSans-32\"/>\n     <use x=\"827.302734\" xlink:href=\"#DejaVuSans-77\"/>\n     <use x=\"913.582031\" xlink:href=\"#DejaVuSans-97\"/>\n     <use x=\"974.861328\" xlink:href=\"#DejaVuSans-112\"/>\n    </g>\n   </g>\n  </g>\n  <g id=\"axes_3\">\n   <g clip-path=\"url(#p9a305e76c6)\">\n    <image height=\"132\" id=\"image514ce46363\" transform=\"scale(1 -1)translate(0 -132)\" width=\"132\" x=\"322.305882\" xlink:href=\"data:image/png;base64,\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\" y=\"-31.290368\"/>\n   </g>\n   <g id=\"text_3\">\n    <!-- Activation Map Superimposed -->\n    <defs>\n     <path d=\"M 53.515625 70.515625 \nL 53.515625 60.890625 \nQ 47.90625 63.578125 42.921875 64.890625 \nQ 37.9375 66.21875 33.296875 66.21875 \nQ 25.25 66.21875 20.875 63.09375 \nQ 16.5 59.96875 16.5 54.203125 \nQ 16.5 49.359375 19.40625 46.890625 \nQ 22.3125 44.4375 30.421875 42.921875 \nL 36.375 41.703125 \nQ 47.40625 39.59375 52.65625 34.296875 \nQ 57.90625 29 57.90625 20.125 \nQ 57.90625 9.515625 50.796875 4.046875 \nQ 43.703125 -1.421875 29.984375 -1.421875 \nQ 24.8125 -1.421875 18.96875 -0.25 \nQ 13.140625 0.921875 6.890625 3.21875 \nL 6.890625 13.375 \nQ 12.890625 10.015625 18.65625 8.296875 \nQ 24.421875 6.59375 29.984375 6.59375 \nQ 38.421875 6.59375 43.015625 9.90625 \nQ 47.609375 13.234375 47.609375 19.390625 \nQ 47.609375 24.75 44.3125 27.78125 \nQ 41.015625 30.8125 33.5 32.328125 \nL 27.484375 33.5 \nQ 16.453125 35.6875 11.515625 40.375 \nQ 6.59375 45.0625 6.59375 53.421875 \nQ 6.59375 63.09375 13.40625 68.65625 \nQ 20.21875 74.21875 32.171875 74.21875 \nQ 37.3125 74.21875 42.625 73.28125 \nQ 47.953125 72.359375 53.515625 70.515625 \nz\n\" id=\"DejaVuSans-83\"/>\n     <path d=\"M 52 44.1875 \nQ 55.375 50.25 60.0625 53.125 \nQ 64.75 56 71.09375 56 \nQ 79.640625 56 84.28125 50.015625 \nQ 88.921875 44.046875 88.921875 33.015625 \nL 88.921875 0 \nL 79.890625 0 \nL 79.890625 32.71875 \nQ 79.890625 40.578125 77.09375 44.375 \nQ 74.3125 48.1875 68.609375 48.1875 \nQ 61.625 48.1875 57.5625 43.546875 \nQ 53.515625 38.921875 53.515625 30.90625 \nL 53.515625 0 \nL 44.484375 0 \nL 44.484375 32.71875 \nQ 44.484375 40.625 41.703125 44.40625 \nQ 38.921875 48.1875 33.109375 48.1875 \nQ 26.21875 48.1875 22.15625 43.53125 \nQ 18.109375 38.875 18.109375 30.90625 \nL 18.109375 0 \nL 9.078125 0 \nL 9.078125 54.6875 \nL 18.109375 54.6875 \nL 18.109375 46.1875 \nQ 21.1875 51.21875 25.484375 53.609375 \nQ 29.78125 56 35.6875 56 \nQ 41.65625 56 45.828125 52.96875 \nQ 50 49.953125 52 44.1875 \nz\n\" id=\"DejaVuSans-109\"/>\n    </defs>\n    <g transform=\"translate(313.192785 25.99625)scale(0.1 -0.1)\">\n     <use xlink:href=\"#DejaVuSans-65\"/>\n     <use x=\"66.658203\" xlink:href=\"#DejaVuSans-99\"/>\n     <use x=\"121.638672\" xlink:href=\"#DejaVuSans-116\"/>\n     <use x=\"160.847656\" xlink:href=\"#DejaVuSans-105\"/>\n     <use x=\"188.630859\" xlink:href=\"#DejaVuSans-118\"/>\n     <use x=\"247.810547\" xlink:href=\"#DejaVuSans-97\"/>\n     <use x=\"309.089844\" xlink:href=\"#DejaVuSans-116\"/>\n     <use x=\"348.298828\" xlink:href=\"#DejaVuSans-105\"/>\n     <use x=\"376.082031\" xlink:href=\"#DejaVuSans-111\"/>\n     <use x=\"437.263672\" xlink:href=\"#DejaVuSans-110\"/>\n     <use x=\"500.642578\" xlink:href=\"#DejaVuSans-32\"/>\n     <use x=\"532.429688\" xlink:href=\"#DejaVuSans-77\"/>\n     <use x=\"618.708984\" xlink:href=\"#DejaVuSans-97\"/>\n     <use x=\"679.988281\" xlink:href=\"#DejaVuSans-112\"/>\n     <use x=\"743.464844\" xlink:href=\"#DejaVuSans-32\"/>\n     <use x=\"775.251953\" xlink:href=\"#DejaVuSans-83\"/>\n     <use x=\"838.728516\" xlink:href=\"#DejaVuSans-117\"/>\n     <use x=\"902.107422\" xlink:href=\"#DejaVuSans-112\"/>\n     <use x=\"965.583984\" xlink:href=\"#DejaVuSans-101\"/>\n     <use x=\"1027.107422\" xlink:href=\"#DejaVuSans-114\"/>\n     <use x=\"1068.220703\" xlink:href=\"#DejaVuSans-105\"/>\n     <use x=\"1096.003906\" xlink:href=\"#DejaVuSans-109\"/>\n     <use x=\"1193.416016\" xlink:href=\"#DejaVuSans-112\"/>\n     <use x=\"1256.892578\" xlink:href=\"#DejaVuSans-111\"/>\n     <use x=\"1318.074219\" xlink:href=\"#DejaVuSans-115\"/>\n     <use x=\"1370.173828\" xlink:href=\"#DejaVuSans-101\"/>\n     <use x=\"1431.697266\" xlink:href=\"#DejaVuSans-100\"/>\n    </g>\n   </g>\n  </g>\n </g>\n <defs>\n  <clipPath id=\"p90ad27998c\">\n   <rect height=\"131.294118\" width=\"131.294118\" x=\"7.2\" y=\"31.99625\"/>\n  </clipPath>\n  <clipPath id=\"pdb1580ae21\">\n   <rect height=\"131.294118\" width=\"131.294118\" x=\"164.752941\" y=\"31.99625\"/>\n  </clipPath>\n  <clipPath id=\"p9a305e76c6\">\n   <rect height=\"131.294118\" width=\"131.294118\" x=\"322.305882\" y=\"31.99625\"/>\n  </clipPath>\n </defs>\n</svg>\n"
          },
          "metadata": {
            "needs_background": "light"
          }
        }
      ],
      "source": [
        "# select the sample and read the corresponding image and label\n",
        "sample_image = cv2.imread(valid_df.iloc[idx]['image'])\n",
        "sample_image = cv2.cvtColor(sample_image, cv2.COLOR_BGR2RGB)\n",
        "sample_image = cv2.resize(sample_image, (img_rows, img_cols))\n",
        "sample_label = valid_df.iloc[idx][\"label\"]\n",
        "\n",
        "# pre-process the image\n",
        "sample_image_processed = np.expand_dims(sample_image, axis=0)\n",
        "sample_image_processed = preprocess_input(sample_image_processed)\n",
        "\n",
        "# get the label predicted by our original model\n",
        "pred_label = np.argmax(model.predict(sample_image_processed), axis=-1)[0]\n",
        "\n",
        "# get the heatmap for class activation map(CAM)\n",
        "heatmap = get_CAM(sample_image_processed, pred_label)\n",
        "heatmap = cv2.resize(heatmap, (sample_image.shape[0], sample_image.shape[1]))\n",
        "heatmap = heatmap *255\n",
        "heatmap = np.clip(heatmap, 0, 255).astype(np.uint8)\n",
        "heatmap = cv2.applyColorMap(heatmap, cv2.COLORMAP_JET)\n",
        "super_imposed_image = heatmap * 0.5 + sample_image\n",
        "super_imposed_image = np.clip(super_imposed_image, 0,255).astype(np.uint8)\n",
        "\n",
        "# Ploting\n",
        "fontsize = 10\n",
        "fig, axes = plt.subplots( 1, 3, figsize=( 8, 8 ) )\n",
        "axes[0].set_title( f'True label: {sample_label} \\n Predicted label: {pred_label}',\n",
        "                  fontsize = fontsize )\n",
        "axes[0].axis('off')\n",
        "axes[0].imshow( sample_image )\n",
        "\n",
        "axes[1].set_title( f'Class Activation Map',\n",
        "                  fontsize = fontsize )\n",
        "axes[1].axis('off')\n",
        "axes[1].imshow( heatmap )\n",
        "\n",
        "axes[2].set_title( f'Activation Map Superimposed',\n",
        "                  fontsize = fontsize )\n",
        "axes[2].axis('off')\n",
        "axes[2].imshow( super_imposed_image )\n",
        "plt.show()\n",
        "\n",
        "# # Plot just CAM of the layer\n",
        "# plt.figure( figsize=(2, 2) )\n",
        "# plt.title( f'Class Activation Map - Layer: {layer}' )\n",
        "# plt.imshow( heatmap )\n",
        "# plt.show()"
      ]
    },
    {
      "cell_type": "code",
      "source": [
        "import tensorflow as tf\n",
        "print(tf.__version__)"
      ],
      "metadata": {
        "id": "r1uvAYIa49oX",
        "outputId": "2910319d-289c-492a-8866-ff1fdb3e5110",
        "colab": {
          "base_uri": "https://localhost:8080/"
        }
      },
      "execution_count": 28,
      "outputs": [
        {
          "output_type": "stream",
          "name": "stdout",
          "text": [
            "2.9.2\n"
          ]
        }
      ]
    }
  ],
  "metadata": {
    "accelerator": "GPU",
    "colab": {
      "machine_shape": "hm",
      "provenance": []
    },
    "gpuClass": "premium",
    "kernelspec": {
      "display_name": "Python 3",
      "language": "python",
      "name": "python3"
    },
    "language_info": {
      "codemirror_mode": {
        "name": "ipython",
        "version": 3
      },
      "file_extension": ".py",
      "mimetype": "text/x-python",
      "name": "python",
      "nbconvert_exporter": "python",
      "pygments_lexer": "ipython3",
      "version": "3.6.6"
    }
  },
  "nbformat": 4,
  "nbformat_minor": 0
}