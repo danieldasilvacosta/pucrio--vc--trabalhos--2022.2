{
  "cells": [
    {
      "cell_type": "code",
      "execution_count": 1,
      "metadata": {
        "colab": {
          "base_uri": "https://localhost:8080/"
        },
        "id": "yukxIi6LniSQ",
        "outputId": "32de101b-8b59-43c9-e50f-e3b4655f343d"
      },
      "outputs": [
        {
          "output_type": "stream",
          "name": "stdout",
          "text": [
            "Mounted at /content/drive\n"
          ]
        }
      ],
      "source": [
        "from google.colab import drive\n",
        "drive.mount('/content/drive', force_remount=True)"
      ]
    },
    {
      "cell_type": "code",
      "execution_count": 2,
      "metadata": {
        "colab": {
          "base_uri": "https://localhost:8080/"
        },
        "id": "995UeTpNnpqJ",
        "outputId": "026f4573-5143-498f-9d4b-60dac33bac8a"
      },
      "outputs": [
        {
          "output_type": "stream",
          "name": "stdout",
          "text": [
            "/content/drive/MyDrive/Doutorado/Disciplinas/[2022.2] [PUC-Rio] Visão Computacional - Professor: Marcelo Gattass/Trabalhos/Trabalho Final/Code/What does a CNN see?\n"
          ]
        }
      ],
      "source": [
        "cd \"drive/MyDrive/Doutorado/Disciplinas/[2022.2] [PUC-Rio] Visão Computacional - Professor: Marcelo Gattass/Trabalhos/Trabalho Final/Code/What does a CNN see?/\""
      ]
    },
    {
      "cell_type": "code",
      "execution_count": 3,
      "metadata": {
        "colab": {
          "base_uri": "https://localhost:8080/"
        },
        "id": "cg29tq9_nx3_",
        "outputId": "fbc647de-f52a-40cc-b4c8-d000c2fdf0f4"
      },
      "outputs": [
        {
          "output_type": "stream",
          "name": "stdout",
          "text": [
            "/content/drive/MyDrive/Doutorado/Disciplinas/[2022.2] [PUC-Rio] Visão Computacional - Professor: Marcelo Gattass/Trabalhos/Trabalho Final/Code/What does a CNN see?\n"
          ]
        }
      ],
      "source": [
        "!pwd"
      ]
    },
    {
      "cell_type": "code",
      "execution_count": 4,
      "metadata": {
        "id": "Fmp5VkmDnzJ6"
      },
      "outputs": [],
      "source": [
        "data_folder = './data/'"
      ]
    },
    {
      "cell_type": "code",
      "execution_count": 5,
      "metadata": {
        "id": "r49vJQx6m_n5"
      },
      "outputs": [],
      "source": [
        "import os\n",
        "import cv2\n",
        "import glob\n",
        "import h5py\n",
        "import shutil\n",
        "import imgaug as aug\n",
        "import numpy as np # linear algebra\n",
        "import pandas as pd # data processing, CSV file I/O (e.g. pd.read_csv)\n",
        "import seaborn as sns\n",
        "import matplotlib.pyplot as plt\n",
        "import imgaug.augmenters as iaa\n",
        "from os import listdir, makedirs, getcwd, remove\n",
        "from os.path import isfile, join, abspath, exists, isdir, expanduser\n",
        "from pathlib import Path\n",
        "from skimage.io import imread\n",
        "from skimage.transform import resize\n",
        "from keras.models import Sequential, Model, load_model\n",
        "from keras.applications.vgg16 import VGG16, preprocess_input\n",
        "from keras.layers import Conv2D, MaxPooling2D, Dense, Dropout, InputLayer, Flatten\n",
        "from keras.optimizers import Adam, SGD, RMSprop\n",
        "from keras.callbacks import ModelCheckpoint, Callback, EarlyStopping\n",
        "from keras.utils import to_categorical\n",
        "from sklearn.model_selection import train_test_split\n",
        "from mlxtend.plotting import plot_confusion_matrix\n",
        "from sklearn.metrics import confusion_matrix\n",
        "from mlxtend.plotting import plot_confusion_matrix\n",
        "from keras import backend as K\n",
        "import tensorflow as tf\n",
        "tf.compat.v1.disable_eager_execution() # daniel\n",
        "\n",
        "\n",
        "color = sns.color_palette()\n",
        "%matplotlib inline\n",
        "%config InlineBackend.figure_format=\"svg\"\n",
        "\n",
        "# Daniel\n",
        "from tensorflow.keras import datasets, layers, models"
      ]
    },
    {
      "cell_type": "code",
      "execution_count": 6,
      "metadata": {
        "id": "O63jTZkRm_n8"
      },
      "outputs": [],
      "source": [
        "# Set the seed for hash based operations in python\n",
        "os.environ['PYTHONHASHSEED'] = '0'\n",
        "\n",
        "seed=1234\n",
        "\n",
        "# Set the numpy seed\n",
        "np.random.seed(seed)\n",
        "\n",
        "# Set the random seed in tensorflow at graph level\n",
        "# tf.set_random_seed(seed) # obsolete\n",
        "tf.random.set_seed(seed)\n",
        "\n",
        "# Make the augmentation sequence deterministic\n",
        "aug.seed(seed)"
      ]
    },
    {
      "cell_type": "code",
      "execution_count": 7,
      "metadata": {
        "id": "GDVCZ3Som_n-"
      },
      "outputs": [],
      "source": [
        "# As usual, define some paths first to make life simpler\n",
        "training_data = Path(data_folder + '/training/') \n",
        "validation_data = Path(data_folder + '/validation/') \n",
        "labels_path = Path(data_folder + '/monkey_labels.txt')"
      ]
    },
    {
      "cell_type": "code",
      "execution_count": 8,
      "metadata": {
        "colab": {
          "base_uri": "https://localhost:8080/",
          "height": 363
        },
        "id": "pFmq_UfRm_oA",
        "outputId": "fc7198d4-778d-461a-f8b8-0e733fbabdb9"
      },
      "outputs": [
        {
          "output_type": "execute_result",
          "data": {
            "text/plain": [
              "  Label             Latin Name                Common Name  Train Images  \\\n",
              "0    n0      alouatta_palliata             mantled_howler           131   \n",
              "1    n1     erythrocebus_patas               patas_monkey           139   \n",
              "2    n2         cacajao_calvus                bald_uakari           137   \n",
              "3    n3         macaca_fuscata           japanese_macaque           152   \n",
              "4    n4        cebuella_pygmea             pygmy_marmoset           131   \n",
              "5    n5        cebus_capucinus      white_headed_capuchin           141   \n",
              "6    n6        mico_argentatus           silvery_marmoset           132   \n",
              "7    n7       saimiri_sciureus     common_squirrel_monkey           142   \n",
              "8    n8        aotus_nigriceps  black_headed_night_monkey           133   \n",
              "9    n9  trachypithecus_johnii             nilgiri_langur           132   \n",
              "\n",
              "   Validation Images  \n",
              "0                 26  \n",
              "1                 28  \n",
              "2                 27  \n",
              "3                 30  \n",
              "4                 26  \n",
              "5                 28  \n",
              "6                 26  \n",
              "7                 28  \n",
              "8                 27  \n",
              "9                 26  "
            ],
            "text/html": [
              "\n",
              "  <div id=\"df-b321f6af-d976-4511-ab3a-24351f313209\">\n",
              "    <div class=\"colab-df-container\">\n",
              "      <div>\n",
              "<style scoped>\n",
              "    .dataframe tbody tr th:only-of-type {\n",
              "        vertical-align: middle;\n",
              "    }\n",
              "\n",
              "    .dataframe tbody tr th {\n",
              "        vertical-align: top;\n",
              "    }\n",
              "\n",
              "    .dataframe thead th {\n",
              "        text-align: right;\n",
              "    }\n",
              "</style>\n",
              "<table border=\"1\" class=\"dataframe\">\n",
              "  <thead>\n",
              "    <tr style=\"text-align: right;\">\n",
              "      <th></th>\n",
              "      <th>Label</th>\n",
              "      <th>Latin Name</th>\n",
              "      <th>Common Name</th>\n",
              "      <th>Train Images</th>\n",
              "      <th>Validation Images</th>\n",
              "    </tr>\n",
              "  </thead>\n",
              "  <tbody>\n",
              "    <tr>\n",
              "      <th>0</th>\n",
              "      <td>n0</td>\n",
              "      <td>alouatta_palliata</td>\n",
              "      <td>mantled_howler</td>\n",
              "      <td>131</td>\n",
              "      <td>26</td>\n",
              "    </tr>\n",
              "    <tr>\n",
              "      <th>1</th>\n",
              "      <td>n1</td>\n",
              "      <td>erythrocebus_patas</td>\n",
              "      <td>patas_monkey</td>\n",
              "      <td>139</td>\n",
              "      <td>28</td>\n",
              "    </tr>\n",
              "    <tr>\n",
              "      <th>2</th>\n",
              "      <td>n2</td>\n",
              "      <td>cacajao_calvus</td>\n",
              "      <td>bald_uakari</td>\n",
              "      <td>137</td>\n",
              "      <td>27</td>\n",
              "    </tr>\n",
              "    <tr>\n",
              "      <th>3</th>\n",
              "      <td>n3</td>\n",
              "      <td>macaca_fuscata</td>\n",
              "      <td>japanese_macaque</td>\n",
              "      <td>152</td>\n",
              "      <td>30</td>\n",
              "    </tr>\n",
              "    <tr>\n",
              "      <th>4</th>\n",
              "      <td>n4</td>\n",
              "      <td>cebuella_pygmea</td>\n",
              "      <td>pygmy_marmoset</td>\n",
              "      <td>131</td>\n",
              "      <td>26</td>\n",
              "    </tr>\n",
              "    <tr>\n",
              "      <th>5</th>\n",
              "      <td>n5</td>\n",
              "      <td>cebus_capucinus</td>\n",
              "      <td>white_headed_capuchin</td>\n",
              "      <td>141</td>\n",
              "      <td>28</td>\n",
              "    </tr>\n",
              "    <tr>\n",
              "      <th>6</th>\n",
              "      <td>n6</td>\n",
              "      <td>mico_argentatus</td>\n",
              "      <td>silvery_marmoset</td>\n",
              "      <td>132</td>\n",
              "      <td>26</td>\n",
              "    </tr>\n",
              "    <tr>\n",
              "      <th>7</th>\n",
              "      <td>n7</td>\n",
              "      <td>saimiri_sciureus</td>\n",
              "      <td>common_squirrel_monkey</td>\n",
              "      <td>142</td>\n",
              "      <td>28</td>\n",
              "    </tr>\n",
              "    <tr>\n",
              "      <th>8</th>\n",
              "      <td>n8</td>\n",
              "      <td>aotus_nigriceps</td>\n",
              "      <td>black_headed_night_monkey</td>\n",
              "      <td>133</td>\n",
              "      <td>27</td>\n",
              "    </tr>\n",
              "    <tr>\n",
              "      <th>9</th>\n",
              "      <td>n9</td>\n",
              "      <td>trachypithecus_johnii</td>\n",
              "      <td>nilgiri_langur</td>\n",
              "      <td>132</td>\n",
              "      <td>26</td>\n",
              "    </tr>\n",
              "  </tbody>\n",
              "</table>\n",
              "</div>\n",
              "      <button class=\"colab-df-convert\" onclick=\"convertToInteractive('df-b321f6af-d976-4511-ab3a-24351f313209')\"\n",
              "              title=\"Convert this dataframe to an interactive table.\"\n",
              "              style=\"display:none;\">\n",
              "        \n",
              "  <svg xmlns=\"http://www.w3.org/2000/svg\" height=\"24px\"viewBox=\"0 0 24 24\"\n",
              "       width=\"24px\">\n",
              "    <path d=\"M0 0h24v24H0V0z\" fill=\"none\"/>\n",
              "    <path d=\"M18.56 5.44l.94 2.06.94-2.06 2.06-.94-2.06-.94-.94-2.06-.94 2.06-2.06.94zm-11 1L8.5 8.5l.94-2.06 2.06-.94-2.06-.94L8.5 2.5l-.94 2.06-2.06.94zm10 10l.94 2.06.94-2.06 2.06-.94-2.06-.94-.94-2.06-.94 2.06-2.06.94z\"/><path d=\"M17.41 7.96l-1.37-1.37c-.4-.4-.92-.59-1.43-.59-.52 0-1.04.2-1.43.59L10.3 9.45l-7.72 7.72c-.78.78-.78 2.05 0 2.83L4 21.41c.39.39.9.59 1.41.59.51 0 1.02-.2 1.41-.59l7.78-7.78 2.81-2.81c.8-.78.8-2.07 0-2.86zM5.41 20L4 18.59l7.72-7.72 1.47 1.35L5.41 20z\"/>\n",
              "  </svg>\n",
              "      </button>\n",
              "      \n",
              "  <style>\n",
              "    .colab-df-container {\n",
              "      display:flex;\n",
              "      flex-wrap:wrap;\n",
              "      gap: 12px;\n",
              "    }\n",
              "\n",
              "    .colab-df-convert {\n",
              "      background-color: #E8F0FE;\n",
              "      border: none;\n",
              "      border-radius: 50%;\n",
              "      cursor: pointer;\n",
              "      display: none;\n",
              "      fill: #1967D2;\n",
              "      height: 32px;\n",
              "      padding: 0 0 0 0;\n",
              "      width: 32px;\n",
              "    }\n",
              "\n",
              "    .colab-df-convert:hover {\n",
              "      background-color: #E2EBFA;\n",
              "      box-shadow: 0px 1px 2px rgba(60, 64, 67, 0.3), 0px 1px 3px 1px rgba(60, 64, 67, 0.15);\n",
              "      fill: #174EA6;\n",
              "    }\n",
              "\n",
              "    [theme=dark] .colab-df-convert {\n",
              "      background-color: #3B4455;\n",
              "      fill: #D2E3FC;\n",
              "    }\n",
              "\n",
              "    [theme=dark] .colab-df-convert:hover {\n",
              "      background-color: #434B5C;\n",
              "      box-shadow: 0px 1px 3px 1px rgba(0, 0, 0, 0.15);\n",
              "      filter: drop-shadow(0px 1px 2px rgba(0, 0, 0, 0.3));\n",
              "      fill: #FFFFFF;\n",
              "    }\n",
              "  </style>\n",
              "\n",
              "      <script>\n",
              "        const buttonEl =\n",
              "          document.querySelector('#df-b321f6af-d976-4511-ab3a-24351f313209 button.colab-df-convert');\n",
              "        buttonEl.style.display =\n",
              "          google.colab.kernel.accessAllowed ? 'block' : 'none';\n",
              "\n",
              "        async function convertToInteractive(key) {\n",
              "          const element = document.querySelector('#df-b321f6af-d976-4511-ab3a-24351f313209');\n",
              "          const dataTable =\n",
              "            await google.colab.kernel.invokeFunction('convertToInteractive',\n",
              "                                                     [key], {});\n",
              "          if (!dataTable) return;\n",
              "\n",
              "          const docLinkHtml = 'Like what you see? Visit the ' +\n",
              "            '<a target=\"_blank\" href=https://colab.research.google.com/notebooks/data_table.ipynb>data table notebook</a>'\n",
              "            + ' to learn more about interactive tables.';\n",
              "          element.innerHTML = '';\n",
              "          dataTable['output_type'] = 'display_data';\n",
              "          await google.colab.output.renderOutput(dataTable, element);\n",
              "          const docLink = document.createElement('div');\n",
              "          docLink.innerHTML = docLinkHtml;\n",
              "          element.appendChild(docLink);\n",
              "        }\n",
              "      </script>\n",
              "    </div>\n",
              "  </div>\n",
              "  "
            ]
          },
          "metadata": {},
          "execution_count": 8
        }
      ],
      "source": [
        "labels_info = []\n",
        "\n",
        "# Read the file\n",
        "lines = labels_path.read_text().strip().splitlines()[1:]\n",
        "for line in lines:\n",
        "    line = line.split(',')\n",
        "    line = [x.strip(' \\n\\t\\r') for x in line]\n",
        "    line[3], line[4] = int(line[3]), int(line[4])\n",
        "    line = tuple(line)\n",
        "    labels_info.append(line)\n",
        "    \n",
        "# Convert the data into a pandas dataframe\n",
        "labels_info = pd.DataFrame(labels_info, columns=['Label', 'Latin Name', 'Common Name', \n",
        "                                                 'Train Images', 'Validation Images'], index=None)\n",
        "# Sneak peek \n",
        "labels_info.head(10)"
      ]
    },
    {
      "cell_type": "code",
      "execution_count": 9,
      "metadata": {
        "colab": {
          "base_uri": "https://localhost:8080/"
        },
        "id": "wHuT1Hz8m_oB",
        "outputId": "8d16cd1a-2b5a-4283-8e04-018048a6d1fe"
      },
      "outputs": [
        {
          "output_type": "stream",
          "name": "stdout",
          "text": [
            "{0: 'mantled_howler', 1: 'patas_monkey', 2: 'bald_uakari', 3: 'japanese_macaque', 4: 'pygmy_marmoset', 5: 'white_headed_capuchin', 6: 'silvery_marmoset', 7: 'common_squirrel_monkey', 8: 'black_headed_night_monkey', 9: 'nilgiri_langur'}\n"
          ]
        }
      ],
      "source": [
        "# Create a dictionary to map the labels to integers\n",
        "labels_dict= {'n0':0, 'n1':1, 'n2':2, 'n3':3, 'n4':4, 'n5':5, 'n6':6, 'n7':7, 'n8':8, 'n9':9}\n",
        "\n",
        "# map labels to common names\n",
        "names_dict = dict(zip(labels_dict.values(), labels_info[\"Common Name\"]))\n",
        "print(names_dict)"
      ]
    },
    {
      "cell_type": "code",
      "execution_count": 10,
      "metadata": {
        "colab": {
          "base_uri": "https://localhost:8080/"
        },
        "id": "a_MLw2_dm_oC",
        "outputId": "19932d17-a0e9-4d9a-82cc-b0b27feebafe"
      },
      "outputs": [
        {
          "output_type": "stream",
          "name": "stdout",
          "text": [
            "Number of traininng samples:  1096\n",
            "Number of validation samples:  272\n",
            "\n",
            "                         image  label\n",
            "0  data/training/n2/n2117.jpg      2\n",
            "1  data/training/n7/n7028.jpg      7\n",
            "2  data/training/n0/n0155.jpg      0\n",
            "3  data/training/n7/n7064.jpg      7\n",
            "4  data/training/n2/n2133.jpg      2 \n",
            "\n",
            "=================================================================\n",
            "\n",
            "\n",
            "                           image  label\n",
            "0   data/validation/n7/n718.jpg      7\n",
            "1  data/validation/n6/n6013.jpg      6\n",
            "2  data/validation/n7/n7012.jpg      7\n",
            "3   data/validation/n5/n512.jpg      5\n",
            "4   data/validation/n5/n509.jpg      5\n"
          ]
        }
      ],
      "source": [
        "# Creating a dataframe for the training dataset\n",
        "train_df = []\n",
        "for folder in os.listdir(training_data):\n",
        "    # Define the path to the images\n",
        "    imgs_path = training_data / folder\n",
        "    \n",
        "    # Get the list of all the images stored in that directory\n",
        "    imgs = sorted(imgs_path.glob('*.jpg'))\n",
        "    \n",
        "    # Store each image path and corresponding label \n",
        "    for img_name in imgs:\n",
        "        train_df.append((str(img_name), labels_dict[folder]))\n",
        "\n",
        "\n",
        "train_df = pd.DataFrame(train_df, columns=['image', 'label'], index=None)\n",
        "# shuffle the dataset \n",
        "train_df = train_df.sample(frac=1.).reset_index(drop=True)\n",
        "\n",
        "####################################################################################################\n",
        "\n",
        "# Creating dataframe for validation data in a similar fashion\n",
        "valid_df = []\n",
        "for folder in os.listdir(validation_data):\n",
        "    imgs_path = validation_data / folder\n",
        "    imgs = sorted(imgs_path.glob('*.jpg'))\n",
        "    for img_name in imgs:\n",
        "        valid_df.append((str(img_name), labels_dict[folder]))\n",
        "\n",
        "        \n",
        "valid_df = pd.DataFrame(valid_df, columns=['image', 'label'], index=None)\n",
        "# shuffle the dataset \n",
        "valid_df = valid_df.sample(frac=1.).reset_index(drop=True)\n",
        "\n",
        "####################################################################################################\n",
        "\n",
        "# How many samples do we have in our training and validation data?\n",
        "print(\"Number of traininng samples: \", len(train_df))\n",
        "print(\"Number of validation samples: \", len(valid_df))\n",
        "\n",
        "# sneak peek of the training and validation dataframes\n",
        "print(\"\\n\",train_df.head(), \"\\n\")\n",
        "print(\"=================================================================\\n\")\n",
        "print(\"\\n\", valid_df.head())"
      ]
    },
    {
      "cell_type": "code",
      "execution_count": 11,
      "metadata": {
        "id": "4zcekSk9m_oD"
      },
      "outputs": [],
      "source": [
        "# some constants(not truly though!) \n",
        "\n",
        "# dimensions to consider for the images\n",
        "img_rows, img_cols, img_channels = 224,224,3\n",
        "\n",
        "# batch size for training  \n",
        "batch_size=8\n",
        "\n",
        "# total number of classes in the dataset\n",
        "nb_classes=10"
      ]
    },
    {
      "cell_type": "code",
      "execution_count": 12,
      "metadata": {
        "id": "XSt-OHwym_oD"
      },
      "outputs": [],
      "source": [
        "# Augmentation sequence \n",
        "seq = iaa.OneOf([\n",
        "    iaa.Fliplr(), # horizontal flips\n",
        "    iaa.Affine(rotate=20), # roatation\n",
        "    iaa.Multiply((1.2, 1.5))]) #random brightness"
      ]
    },
    {
      "cell_type": "code",
      "execution_count": 13,
      "metadata": {
        "id": "4hASMeAOm_oE"
      },
      "outputs": [],
      "source": [
        "def data_generator(data, batch_size, is_validation_data=False):\n",
        "    # Get total number of samples in the data\n",
        "    n = len(data)\n",
        "    nb_batches = int(np.ceil(n/batch_size))\n",
        "\n",
        "    # Get a numpy array of all the indices of the input data\n",
        "    indices = np.arange(n)\n",
        "    \n",
        "    # Define two numpy arrays for containing batch data and labels\n",
        "    batch_data = np.zeros((batch_size, img_rows, img_cols, img_channels), dtype=np.float32)\n",
        "    batch_labels = np.zeros((batch_size, nb_classes), dtype=np.float32)\n",
        "    \n",
        "    while True:\n",
        "        if not is_validation_data:\n",
        "            # shuffle indices for the training data\n",
        "            np.random.shuffle(indices)\n",
        "            \n",
        "        for i in range(nb_batches):\n",
        "            # get the next batch \n",
        "            next_batch_indices = indices[i*batch_size:(i+1)*batch_size]\n",
        "            \n",
        "            # process the next batch\n",
        "            for j, idx in enumerate(next_batch_indices):\n",
        "                img = cv2.imread(data.iloc[idx][\"image\"])\n",
        "                img = cv2.cvtColor(img, cv2.COLOR_BGR2RGB)\n",
        "                label = data.iloc[idx][\"label\"]\n",
        "                \n",
        "                if not is_validation_data:\n",
        "                    img = seq.augment_image(img)\n",
        "                \n",
        "                img = cv2.resize(img, (img_rows, img_cols)).astype(np.float32)\n",
        "                batch_data[j] = img\n",
        "                batch_labels[j] = to_categorical(label,num_classes=nb_classes)\n",
        "            \n",
        "            batch_data = preprocess_input(batch_data)\n",
        "            yield batch_data, batch_labels"
      ]
    },
    {
      "cell_type": "code",
      "execution_count": 14,
      "metadata": {
        "id": "gJ8LEwAJm_oF"
      },
      "outputs": [],
      "source": [
        "#training data generator \n",
        "train_data_gen = data_generator(train_df, batch_size)\n",
        "\n",
        "# validation data generator \n",
        "valid_data_gen = data_generator(valid_df, batch_size, is_validation_data=True)"
      ]
    },
    {
      "cell_type": "code",
      "source": [
        "# https://www.tensorflow.org/api_docs/python/tf/keras/layers/Conv2D\n",
        "# tf.keras.layers.Conv2D( filters, kernel_size, ...)\n",
        "\n",
        "model = models.Sequential([\n",
        "    layers.InputLayer( input_shape=(224, 224, 3) )\n",
        "])\n",
        "\n",
        "model.add( layers.Conv2D(64, (4, 4), \n",
        "                        padding='same',\n",
        "                        activation='relu') )\n",
        "model.add( layers.MaxPooling2D((2, 2)) )\n",
        "\n",
        "model.add( layers.Conv2D(128, (4, 4), \n",
        "                        padding='same',\n",
        "                        activation='relu') )\n",
        "model.add( layers.MaxPooling2D((2, 2)) )\n",
        "\n",
        "model.add( layers.Conv2D(256, (4, 4), \n",
        "                        padding='same',\n",
        "                        activation='relu') )\n",
        "model.add( layers.MaxPooling2D((2, 2)) )\n",
        "\n",
        "model.add( layers.Conv2D(512, (4, 4), \n",
        "                        padding='same',\n",
        "                        activation='relu') )\n",
        "model.add( layers.MaxPooling2D((2, 2)) )\n",
        "\n",
        "model.add( layers.Conv2D(512, (4, 4), \n",
        "                        padding='same',\n",
        "                        activation='relu') )\n",
        "model.add( layers.Conv2D(512, (4, 4), \n",
        "                        padding='same',\n",
        "                        activation='relu') )\n",
        "model.add( layers.MaxPooling2D((2, 2)) )\n",
        "\n",
        "model.add( layers.Flatten() )\n",
        "model.add( layers.Dense(4096, activation='relu') )\n",
        "model.add( layers.Dense(4096, activation='relu') )\n",
        "model.add( layers.Dropout(0.2) )\n",
        "model.add( layers.Dense(10, activation='softmax') )\n",
        "\n",
        "# To correct some bug on input\n",
        "model = Model(model.input, model.output)\n",
        "\n",
        "optimizer = RMSprop(0.001)\n",
        "model.compile(optimizer = optimizer, \n",
        "              loss = 'categorical_crossentropy',\n",
        "              metrics = ['accuracy'])\n",
        "\n",
        "model.summary()"
      ],
      "metadata": {
        "colab": {
          "base_uri": "https://localhost:8080/"
        },
        "id": "GwBknUFEbd5U",
        "outputId": "6900d55d-7dee-48f0-e724-234e763b981a"
      },
      "execution_count": 16,
      "outputs": [
        {
          "output_type": "stream",
          "name": "stdout",
          "text": [
            "Model: \"model\"\n",
            "_________________________________________________________________\n",
            " Layer (type)                Output Shape              Param #   \n",
            "=================================================================\n",
            " input_1 (InputLayer)        [(None, 224, 224, 3)]     0         \n",
            "                                                                 \n",
            " conv2d (Conv2D)             (None, 224, 224, 64)      3136      \n",
            "                                                                 \n",
            " max_pooling2d (MaxPooling2D  (None, 112, 112, 64)     0         \n",
            " )                                                               \n",
            "                                                                 \n",
            " conv2d_1 (Conv2D)           (None, 112, 112, 128)     131200    \n",
            "                                                                 \n",
            " max_pooling2d_1 (MaxPooling  (None, 56, 56, 128)      0         \n",
            " 2D)                                                             \n",
            "                                                                 \n",
            " conv2d_2 (Conv2D)           (None, 56, 56, 256)       524544    \n",
            "                                                                 \n",
            " max_pooling2d_2 (MaxPooling  (None, 28, 28, 256)      0         \n",
            " 2D)                                                             \n",
            "                                                                 \n",
            " conv2d_3 (Conv2D)           (None, 28, 28, 512)       2097664   \n",
            "                                                                 \n",
            " max_pooling2d_3 (MaxPooling  (None, 14, 14, 512)      0         \n",
            " 2D)                                                             \n",
            "                                                                 \n",
            " conv2d_4 (Conv2D)           (None, 14, 14, 512)       4194816   \n",
            "                                                                 \n",
            " conv2d_5 (Conv2D)           (None, 14, 14, 512)       4194816   \n",
            "                                                                 \n",
            " max_pooling2d_4 (MaxPooling  (None, 7, 7, 512)        0         \n",
            " 2D)                                                             \n",
            "                                                                 \n",
            " flatten (Flatten)           (None, 25088)             0         \n",
            "                                                                 \n",
            " dense (Dense)               (None, 4096)              102764544 \n",
            "                                                                 \n",
            " dense_1 (Dense)             (None, 4096)              16781312  \n",
            "                                                                 \n",
            " dropout (Dropout)           (None, 4096)              0         \n",
            "                                                                 \n",
            " dense_2 (Dense)             (None, 10)                40970     \n",
            "                                                                 \n",
            "=================================================================\n",
            "Total params: 130,733,002\n",
            "Trainable params: 130,733,002\n",
            "Non-trainable params: 0\n",
            "_________________________________________________________________\n"
          ]
        }
      ]
    },
    {
      "cell_type": "code",
      "execution_count": 17,
      "metadata": {
        "id": "AxTpbjyjm_oI"
      },
      "outputs": [],
      "source": [
        "early_stopping = EarlyStopping(patience=20, restore_best_weights=True)\n",
        "\n",
        "model_checkpoint = ModelCheckpoint(filepath=\"model1\", save_best_only=True)\n",
        "\n",
        "num_train_steps = int(np.ceil(len(train_df)/batch_size))\n",
        "num_valid_steps = int(np.ceil(len(valid_df)/batch_size))"
      ]
    },
    {
      "cell_type": "code",
      "execution_count": 18,
      "metadata": {
        "id": "mYCzLnpI8ZaC"
      },
      "outputs": [],
      "source": [
        "epochs=100\n",
        "# epochs=5 # daniel"
      ]
    },
    {
      "cell_type": "code",
      "execution_count": 19,
      "metadata": {
        "colab": {
          "base_uri": "https://localhost:8080/"
        },
        "id": "G5c29rBSm_oI",
        "outputId": "d2e2edfc-76ab-4bad-9326-8f01118e69ea"
      },
      "outputs": [
        {
          "output_type": "stream",
          "name": "stdout",
          "text": [
            "Epoch 1/100\n",
            "137/137 [==============================] - ETA: 0s - batch: 68.0000 - size: 8.0000 - loss: 16058.9422 - accuracy: 0.1268"
          ]
        },
        {
          "output_type": "stream",
          "name": "stderr",
          "text": [
            "/usr/local/lib/python3.8/dist-packages/keras/engine/training_v1.py:2045: UserWarning: `Model.state_updates` will be removed in a future version. This property should not be used in TensorFlow 2.0, as `updates` are applied automatically.\n",
            "  updates = self.state_updates\n",
            "WARNING:absl:Found untraced functions such as _jit_compiled_convolution_op, _jit_compiled_convolution_op, _jit_compiled_convolution_op, _jit_compiled_convolution_op, _jit_compiled_convolution_op while saving (showing 5 of 6). These functions will not be directly callable after loading.\n"
          ]
        },
        {
          "output_type": "stream",
          "name": "stdout",
          "text": [
            "\b\b\b\b\b\b\b\b\b\b\b\b\b\b\b\b\b\b\b\b\b\b\b\b\b\b\b\b\b\b\b\b\b\b\b\b\b\b\b\b\b\b\b\b\b\b\b\b\b\b\b\b\b\b\b\b\b\b\b\b\b\b\b\b\b\b\b\b\b\b\b\b\b\b\b\b\b\b\b\b\b\b\b\b\b\b\b\b\b\b\b\b\b\b\b\b\b\b\b\b\b\b\b\b\b\b\b\b\b\b\b\b\b\b\b\b\b\b\b\b\r137/137 [==============================] - 224s 2s/step - batch: 68.0000 - size: 8.0000 - loss: 16058.9422 - accuracy: 0.1268 - val_loss: 2.3007 - val_accuracy: 0.1140\n",
            "Epoch 2/100\n",
            "137/137 [==============================] - 127s 924ms/step - batch: 68.0000 - size: 8.0000 - loss: 3.4575 - accuracy: 0.1414 - val_loss: 2.3035 - val_accuracy: 0.1103\n",
            "Epoch 3/100\n",
            "137/137 [==============================] - 127s 924ms/step - batch: 68.0000 - size: 8.0000 - loss: 3.1291 - accuracy: 0.1277 - val_loss: 2.3262 - val_accuracy: 0.0956\n",
            "Epoch 4/100\n",
            "137/137 [==============================] - 127s 925ms/step - batch: 68.0000 - size: 8.0000 - loss: 3.1670 - accuracy: 0.1314 - val_loss: 2.4793 - val_accuracy: 0.0809\n",
            "Epoch 5/100\n",
            "137/137 [==============================] - 127s 925ms/step - batch: 68.0000 - size: 8.0000 - loss: 2.9263 - accuracy: 0.1332 - val_loss: 2.3102 - val_accuracy: 0.1324\n",
            "Epoch 6/100\n",
            "137/137 [==============================] - ETA: 0s - batch: 68.0000 - size: 8.0000 - loss: 2.6255 - accuracy: 0.1496"
          ]
        },
        {
          "output_type": "stream",
          "name": "stderr",
          "text": [
            "WARNING:absl:Found untraced functions such as _jit_compiled_convolution_op, _jit_compiled_convolution_op, _jit_compiled_convolution_op, _jit_compiled_convolution_op, _jit_compiled_convolution_op while saving (showing 5 of 6). These functions will not be directly callable after loading.\n"
          ]
        },
        {
          "output_type": "stream",
          "name": "stdout",
          "text": [
            "\b\b\b\b\b\b\b\b\b\b\b\b\b\b\b\b\b\b\b\b\b\b\b\b\b\b\b\b\b\b\b\b\b\b\b\b\b\b\b\b\b\b\b\b\b\b\b\b\b\b\b\b\b\b\b\b\b\b\b\b\b\b\b\b\b\b\b\b\b\b\b\b\b\b\b\b\b\b\b\b\b\b\b\b\b\b\b\b\b\b\b\b\b\b\b\b\b\b\b\b\b\b\b\b\b\b\b\b\b\b\b\b\b\b\b\b\r137/137 [==============================] - 132s 965ms/step - batch: 68.0000 - size: 8.0000 - loss: 2.6255 - accuracy: 0.1496 - val_loss: 2.3006 - val_accuracy: 0.1324\n",
            "Epoch 7/100\n",
            "137/137 [==============================] - 127s 927ms/step - batch: 68.0000 - size: 8.0000 - loss: 2.6224 - accuracy: 0.1378 - val_loss: 2.3795 - val_accuracy: 0.1066\n",
            "Epoch 8/100\n",
            "137/137 [==============================] - 127s 927ms/step - batch: 68.0000 - size: 8.0000 - loss: 2.5522 - accuracy: 0.1250 - val_loss: 2.3065 - val_accuracy: 0.1029\n",
            "Epoch 9/100\n",
            "137/137 [==============================] - 128s 932ms/step - batch: 68.0000 - size: 8.0000 - loss: 2.5821 - accuracy: 0.1296 - val_loss: 2.3016 - val_accuracy: 0.1397\n",
            "Epoch 10/100\n",
            "137/137 [==============================] - 128s 932ms/step - batch: 68.0000 - size: 8.0000 - loss: 2.6670 - accuracy: 0.1387 - val_loss: 2.3020 - val_accuracy: 0.1103\n",
            "Epoch 11/100\n",
            "137/137 [==============================] - 129s 941ms/step - batch: 68.0000 - size: 8.0000 - loss: 3.3253 - accuracy: 0.1560 - val_loss: 2.5314 - val_accuracy: 0.0993\n",
            "Epoch 12/100\n",
            "137/137 [==============================] - 128s 934ms/step - batch: 68.0000 - size: 8.0000 - loss: 2.4398 - accuracy: 0.1697 - val_loss: 2.3018 - val_accuracy: 0.1103\n",
            "Epoch 13/100\n",
            "137/137 [==============================] - 127s 925ms/step - batch: 68.0000 - size: 8.0000 - loss: 2.5779 - accuracy: 0.1578 - val_loss: 2.3016 - val_accuracy: 0.0846\n",
            "Epoch 14/100\n",
            "137/137 [==============================] - 127s 925ms/step - batch: 68.0000 - size: 8.0000 - loss: 2.5838 - accuracy: 0.1524 - val_loss: 2.3325 - val_accuracy: 0.1287\n",
            "Epoch 15/100\n",
            "137/137 [==============================] - ETA: 0s - batch: 68.0000 - size: 8.0000 - loss: 2.4772 - accuracy: 0.1305"
          ]
        },
        {
          "output_type": "stream",
          "name": "stderr",
          "text": [
            "WARNING:absl:Found untraced functions such as _jit_compiled_convolution_op, _jit_compiled_convolution_op, _jit_compiled_convolution_op, _jit_compiled_convolution_op, _jit_compiled_convolution_op while saving (showing 5 of 6). These functions will not be directly callable after loading.\n"
          ]
        },
        {
          "output_type": "stream",
          "name": "stdout",
          "text": [
            "\b\b\b\b\b\b\b\b\b\b\b\b\b\b\b\b\b\b\b\b\b\b\b\b\b\b\b\b\b\b\b\b\b\b\b\b\b\b\b\b\b\b\b\b\b\b\b\b\b\b\b\b\b\b\b\b\b\b\b\b\b\b\b\b\b\b\b\b\b\b\b\b\b\b\b\b\b\b\b\b\b\b\b\b\b\b\b\b\b\b\b\b\b\b\b\b\b\b\b\b\b\b\b\b\b\b\b\b\b\b\b\b\b\b\b\b\r137/137 [==============================] - 132s 965ms/step - batch: 68.0000 - size: 8.0000 - loss: 2.4772 - accuracy: 0.1305 - val_loss: 2.2967 - val_accuracy: 0.1287\n",
            "Epoch 16/100\n",
            "137/137 [==============================] - ETA: 0s - batch: 68.0000 - size: 8.0000 - loss: 2.5987 - accuracy: 0.1396"
          ]
        },
        {
          "output_type": "stream",
          "name": "stderr",
          "text": [
            "WARNING:absl:Found untraced functions such as _jit_compiled_convolution_op, _jit_compiled_convolution_op, _jit_compiled_convolution_op, _jit_compiled_convolution_op, _jit_compiled_convolution_op while saving (showing 5 of 6). These functions will not be directly callable after loading.\n"
          ]
        },
        {
          "output_type": "stream",
          "name": "stdout",
          "text": [
            "\b\b\b\b\b\b\b\b\b\b\b\b\b\b\b\b\b\b\b\b\b\b\b\b\b\b\b\b\b\b\b\b\b\b\b\b\b\b\b\b\b\b\b\b\b\b\b\b\b\b\b\b\b\b\b\b\b\b\b\b\b\b\b\b\b\b\b\b\b\b\b\b\b\b\b\b\b\b\b\b\b\b\b\b\b\b\b\b\b\b\b\b\b\b\b\b\b\b\b\b\b\b\b\b\b\b\b\b\b\b\b\b\b\b\b\b\r137/137 [==============================] - 131s 957ms/step - batch: 68.0000 - size: 8.0000 - loss: 2.5987 - accuracy: 0.1396 - val_loss: 2.2844 - val_accuracy: 0.1654\n",
            "Epoch 17/100\n",
            "137/137 [==============================] - 127s 927ms/step - batch: 68.0000 - size: 8.0000 - loss: 2.3825 - accuracy: 0.1496 - val_loss: 2.2950 - val_accuracy: 0.2059\n",
            "Epoch 18/100\n",
            "137/137 [==============================] - ETA: 0s - batch: 68.0000 - size: 8.0000 - loss: 2.7408 - accuracy: 0.1569"
          ]
        },
        {
          "output_type": "stream",
          "name": "stderr",
          "text": [
            "WARNING:absl:Found untraced functions such as _jit_compiled_convolution_op, _jit_compiled_convolution_op, _jit_compiled_convolution_op, _jit_compiled_convolution_op, _jit_compiled_convolution_op while saving (showing 5 of 6). These functions will not be directly callable after loading.\n"
          ]
        },
        {
          "output_type": "stream",
          "name": "stdout",
          "text": [
            "\b\b\b\b\b\b\b\b\b\b\b\b\b\b\b\b\b\b\b\b\b\b\b\b\b\b\b\b\b\b\b\b\b\b\b\b\b\b\b\b\b\b\b\b\b\b\b\b\b\b\b\b\b\b\b\b\b\b\b\b\b\b\b\b\b\b\b\b\b\b\b\b\b\b\b\b\b\b\b\b\b\b\b\b\b\b\b\b\b\b\b\b\b\b\b\b\b\b\b\b\b\b\b\b\b\b\b\b\b\b\b\b\b\b\b\b\r137/137 [==============================] - 132s 965ms/step - batch: 68.0000 - size: 8.0000 - loss: 2.7408 - accuracy: 0.1569 - val_loss: 2.2594 - val_accuracy: 0.1875\n",
            "Epoch 19/100\n",
            "137/137 [==============================] - 126s 918ms/step - batch: 68.0000 - size: 8.0000 - loss: 2.5376 - accuracy: 0.1715 - val_loss: 2.2875 - val_accuracy: 0.1765\n",
            "Epoch 20/100\n",
            "137/137 [==============================] - 126s 918ms/step - batch: 68.0000 - size: 8.0000 - loss: 2.6881 - accuracy: 0.1624 - val_loss: 2.2862 - val_accuracy: 0.1434\n",
            "Epoch 21/100\n",
            "137/137 [==============================] - 126s 918ms/step - batch: 68.0000 - size: 8.0000 - loss: 2.4675 - accuracy: 0.1606 - val_loss: 2.4632 - val_accuracy: 0.1691\n",
            "Epoch 22/100\n",
            "137/137 [==============================] - 126s 917ms/step - batch: 68.0000 - size: 8.0000 - loss: 2.4745 - accuracy: 0.1369 - val_loss: 2.2790 - val_accuracy: 0.1949\n",
            "Epoch 23/100\n",
            "137/137 [==============================] - 126s 918ms/step - batch: 68.0000 - size: 8.0000 - loss: 2.5226 - accuracy: 0.1578 - val_loss: 2.5404 - val_accuracy: 0.1103\n",
            "Epoch 24/100\n",
            "137/137 [==============================] - 126s 917ms/step - batch: 68.0000 - size: 8.0000 - loss: 2.4615 - accuracy: 0.1834 - val_loss: 2.3620 - val_accuracy: 0.1176\n",
            "Epoch 25/100\n",
            "137/137 [==============================] - 125s 916ms/step - batch: 68.0000 - size: 8.0000 - loss: 2.3822 - accuracy: 0.1962 - val_loss: 2.2963 - val_accuracy: 0.1765\n",
            "Epoch 26/100\n",
            "137/137 [==============================] - 126s 919ms/step - batch: 68.0000 - size: 8.0000 - loss: 2.5872 - accuracy: 0.1825 - val_loss: 2.3395 - val_accuracy: 0.1287\n",
            "Epoch 27/100\n",
            "137/137 [==============================] - 126s 920ms/step - batch: 68.0000 - size: 8.0000 - loss: 2.5346 - accuracy: 0.1743 - val_loss: 2.2626 - val_accuracy: 0.1801\n",
            "Epoch 28/100\n",
            "137/137 [==============================] - 126s 917ms/step - batch: 68.0000 - size: 8.0000 - loss: 2.5449 - accuracy: 0.1852 - val_loss: 2.2877 - val_accuracy: 0.1654\n",
            "Epoch 29/100\n",
            "137/137 [==============================] - 126s 919ms/step - batch: 68.0000 - size: 8.0000 - loss: 2.4016 - accuracy: 0.2126 - val_loss: 2.2906 - val_accuracy: 0.1654\n",
            "Epoch 30/100\n",
            "137/137 [==============================] - 126s 923ms/step - batch: 68.0000 - size: 8.0000 - loss: 2.3830 - accuracy: 0.1743 - val_loss: 2.2988 - val_accuracy: 0.1654\n",
            "Epoch 31/100\n",
            "137/137 [==============================] - 126s 922ms/step - batch: 68.0000 - size: 8.0000 - loss: 2.4033 - accuracy: 0.1715 - val_loss: 2.3300 - val_accuracy: 0.1250\n",
            "Epoch 32/100\n",
            "137/137 [==============================] - 126s 921ms/step - batch: 68.0000 - size: 8.0000 - loss: 2.5341 - accuracy: 0.1405 - val_loss: 2.4630 - val_accuracy: 0.0993\n",
            "Epoch 33/100\n",
            "137/137 [==============================] - 126s 922ms/step - batch: 68.0000 - size: 8.0000 - loss: 2.4425 - accuracy: 0.1934 - val_loss: 2.2942 - val_accuracy: 0.1434\n",
            "Epoch 34/100\n",
            "137/137 [==============================] - 126s 922ms/step - batch: 68.0000 - size: 8.0000 - loss: 2.4179 - accuracy: 0.1980 - val_loss: 2.3806 - val_accuracy: 0.2132\n",
            "Epoch 35/100\n",
            "137/137 [==============================] - ETA: 0s - batch: 68.0000 - size: 8.0000 - loss: 2.7750 - accuracy: 0.1861"
          ]
        },
        {
          "output_type": "stream",
          "name": "stderr",
          "text": [
            "WARNING:absl:Found untraced functions such as _jit_compiled_convolution_op, _jit_compiled_convolution_op, _jit_compiled_convolution_op, _jit_compiled_convolution_op, _jit_compiled_convolution_op while saving (showing 5 of 6). These functions will not be directly callable after loading.\n"
          ]
        },
        {
          "output_type": "stream",
          "name": "stdout",
          "text": [
            "\b\b\b\b\b\b\b\b\b\b\b\b\b\b\b\b\b\b\b\b\b\b\b\b\b\b\b\b\b\b\b\b\b\b\b\b\b\b\b\b\b\b\b\b\b\b\b\b\b\b\b\b\b\b\b\b\b\b\b\b\b\b\b\b\b\b\b\b\b\b\b\b\b\b\b\b\b\b\b\b\b\b\b\b\b\b\b\b\b\b\b\b\b\b\b\b\b\b\b\b\b\b\b\b\b\b\b\b\b\b\b\b\b\b\b\b\r137/137 [==============================] - 131s 960ms/step - batch: 68.0000 - size: 8.0000 - loss: 2.7750 - accuracy: 0.1861 - val_loss: 2.2536 - val_accuracy: 0.2426\n",
            "Epoch 36/100\n",
            "137/137 [==============================] - ETA: 0s - batch: 68.0000 - size: 8.0000 - loss: 2.5900 - accuracy: 0.1916"
          ]
        },
        {
          "output_type": "stream",
          "name": "stderr",
          "text": [
            "WARNING:absl:Found untraced functions such as _jit_compiled_convolution_op, _jit_compiled_convolution_op, _jit_compiled_convolution_op, _jit_compiled_convolution_op, _jit_compiled_convolution_op while saving (showing 5 of 6). These functions will not be directly callable after loading.\n"
          ]
        },
        {
          "output_type": "stream",
          "name": "stdout",
          "text": [
            "\b\b\b\b\b\b\b\b\b\b\b\b\b\b\b\b\b\b\b\b\b\b\b\b\b\b\b\b\b\b\b\b\b\b\b\b\b\b\b\b\b\b\b\b\b\b\b\b\b\b\b\b\b\b\b\b\b\b\b\b\b\b\b\b\b\b\b\b\b\b\b\b\b\b\b\b\b\b\b\b\b\b\b\b\b\b\b\b\b\b\b\b\b\b\b\b\b\b\b\b\b\b\b\b\b\b\b\b\b\b\b\b\b\b\b\b\r137/137 [==============================] - 135s 983ms/step - batch: 68.0000 - size: 8.0000 - loss: 2.5900 - accuracy: 0.1916 - val_loss: 2.2490 - val_accuracy: 0.2463\n",
            "Epoch 37/100\n",
            "137/137 [==============================] - 126s 921ms/step - batch: 68.0000 - size: 8.0000 - loss: 2.3609 - accuracy: 0.1734 - val_loss: 2.2781 - val_accuracy: 0.1507\n",
            "Epoch 38/100\n",
            "137/137 [==============================] - 126s 920ms/step - batch: 68.0000 - size: 8.0000 - loss: 2.3535 - accuracy: 0.1852 - val_loss: 2.2714 - val_accuracy: 0.1618\n",
            "Epoch 39/100\n",
            "137/137 [==============================] - 127s 925ms/step - batch: 68.0000 - size: 8.0000 - loss: 2.3820 - accuracy: 0.1943 - val_loss: 3.6365 - val_accuracy: 0.1066\n",
            "Epoch 40/100\n",
            "137/137 [==============================] - 126s 922ms/step - batch: 68.0000 - size: 8.0000 - loss: 2.4021 - accuracy: 0.2026 - val_loss: 2.2895 - val_accuracy: 0.2316\n",
            "Epoch 41/100\n",
            "137/137 [==============================] - 126s 921ms/step - batch: 68.0000 - size: 8.0000 - loss: 2.3112 - accuracy: 0.2418 - val_loss: 2.2686 - val_accuracy: 0.1985\n",
            "Epoch 42/100\n",
            "137/137 [==============================] - 126s 923ms/step - batch: 68.0000 - size: 8.0000 - loss: 2.4294 - accuracy: 0.1788 - val_loss: 2.3128 - val_accuracy: 0.1176\n",
            "Epoch 43/100\n",
            "137/137 [==============================] - 126s 920ms/step - batch: 68.0000 - size: 8.0000 - loss: 2.4252 - accuracy: 0.1807 - val_loss: 2.2960 - val_accuracy: 0.1434\n",
            "Epoch 44/100\n",
            "137/137 [==============================] - 126s 921ms/step - batch: 68.0000 - size: 8.0000 - loss: 2.4937 - accuracy: 0.1880 - val_loss: 2.3088 - val_accuracy: 0.1250\n",
            "Epoch 45/100\n",
            "137/137 [==============================] - 126s 918ms/step - batch: 68.0000 - size: 8.0000 - loss: 2.4308 - accuracy: 0.1715 - val_loss: 2.3138 - val_accuracy: 0.1287\n",
            "Epoch 46/100\n",
            "137/137 [==============================] - 126s 921ms/step - batch: 68.0000 - size: 8.0000 - loss: 2.3717 - accuracy: 0.1807 - val_loss: 2.3256 - val_accuracy: 0.1875\n",
            "Epoch 47/100\n",
            "137/137 [==============================] - 126s 923ms/step - batch: 68.0000 - size: 8.0000 - loss: 2.4755 - accuracy: 0.1606 - val_loss: 2.4414 - val_accuracy: 0.0993\n",
            "Epoch 48/100\n",
            "137/137 [==============================] - 126s 922ms/step - batch: 68.0000 - size: 8.0000 - loss: 2.3279 - accuracy: 0.1724 - val_loss: 2.3135 - val_accuracy: 0.1250\n",
            "Epoch 49/100\n",
            "137/137 [==============================] - 126s 921ms/step - batch: 68.0000 - size: 8.0000 - loss: 2.4338 - accuracy: 0.2044 - val_loss: 3.1036 - val_accuracy: 0.1838\n",
            "Epoch 50/100\n",
            "137/137 [==============================] - 126s 921ms/step - batch: 68.0000 - size: 8.0000 - loss: 2.4461 - accuracy: 0.2226 - val_loss: 2.2700 - val_accuracy: 0.1765\n",
            "Epoch 51/100\n",
            "137/137 [==============================] - 126s 921ms/step - batch: 68.0000 - size: 8.0000 - loss: 2.3878 - accuracy: 0.2007 - val_loss: 2.2497 - val_accuracy: 0.1691\n",
            "Epoch 52/100\n",
            "137/137 [==============================] - 126s 921ms/step - batch: 68.0000 - size: 8.0000 - loss: 3.2651 - accuracy: 0.2089 - val_loss: 2.3921 - val_accuracy: 0.2132\n",
            "Epoch 53/100\n",
            "137/137 [==============================] - 126s 919ms/step - batch: 68.0000 - size: 8.0000 - loss: 2.3935 - accuracy: 0.2135 - val_loss: 2.2502 - val_accuracy: 0.2463\n",
            "Epoch 54/100\n",
            "137/137 [==============================] - 126s 920ms/step - batch: 68.0000 - size: 8.0000 - loss: 2.3551 - accuracy: 0.2144 - val_loss: 2.3020 - val_accuracy: 0.2132\n",
            "Epoch 55/100\n",
            "137/137 [==============================] - 126s 921ms/step - batch: 68.0000 - size: 8.0000 - loss: 2.3068 - accuracy: 0.2117 - val_loss: 2.2726 - val_accuracy: 0.2206\n",
            "Epoch 56/100\n",
            "137/137 [==============================] - 126s 922ms/step - batch: 68.0000 - size: 8.0000 - loss: 2.4601 - accuracy: 0.1870 - val_loss: 2.3100 - val_accuracy: 0.1140\n",
            "CPU times: user 1d 22h 23min 10s, sys: 1h 28min 16s, total: 1d 23h 51min 27s\n",
            "Wall time: 2h 7s\n"
          ]
        }
      ],
      "source": [
        "%%time\n",
        "\n",
        "# train the model \n",
        "history1 = model.fit(train_data_gen, \n",
        "                              epochs = epochs, \n",
        "                              steps_per_epoch = num_train_steps, \n",
        "                              validation_data = valid_data_gen, \n",
        "                              validation_steps = num_valid_steps,\n",
        "                              callbacks = [early_stopping, model_checkpoint])"
      ]
    },
    {
      "cell_type": "code",
      "execution_count": 20,
      "metadata": {
        "id": "Qhkb7xSA6m5s",
        "colab": {
          "base_uri": "https://localhost:8080/"
        },
        "outputId": "78be06a7-e8a2-4bcc-f3cc-c3820576afaf"
      },
      "outputs": [
        {
          "output_type": "execute_result",
          "data": {
            "text/plain": [
              "dict_keys(['loss', 'accuracy', 'val_loss', 'val_accuracy'])"
            ]
          },
          "metadata": {},
          "execution_count": 20
        }
      ],
      "source": [
        "history1.history.keys()"
      ]
    },
    {
      "cell_type": "code",
      "execution_count": 21,
      "metadata": {
        "id": "5-IB0o62m_oJ",
        "colab": {
          "base_uri": "https://localhost:8080/",
          "height": 463
        },
        "outputId": "00695c64-3486-4cfc-f0ca-b1f3c32066e0"
      },
      "outputs": [
        {
          "output_type": "display_data",
          "data": {
            "text/plain": [
              "<Figure size 720x360 with 2 Axes>"
            ],
            "image/svg+xml": "<?xml version=\"1.0\" encoding=\"utf-8\" standalone=\"no\"?>\n<!DOCTYPE svg PUBLIC \"-//W3C//DTD SVG 1.1//EN\"\n  \"http://www.w3.org/Graphics/SVG/1.1/DTD/svg11.dtd\">\n<!-- Created with matplotlib (https://matplotlib.org/) -->\n<svg height=\"331.674375pt\" version=\"1.1\" viewBox=\"0 0 624.890625 331.674375\" width=\"624.890625pt\" xmlns=\"http://www.w3.org/2000/svg\" xmlns:xlink=\"http://www.w3.org/1999/xlink\">\n <defs>\n  <style type=\"text/css\">\n*{stroke-linecap:butt;stroke-linejoin:round;}\n  </style>\n </defs>\n <g id=\"figure_1\">\n  <g id=\"patch_1\">\n   <path d=\"M 0 331.674375 \nL 624.890625 331.674375 \nL 624.890625 0 \nL 0 0 \nz\n\" style=\"fill:none;\"/>\n  </g>\n  <g id=\"axes_1\">\n   <g id=\"patch_2\">\n    <path d=\"M 59.690625 294.118125 \nL 313.326989 294.118125 \nL 313.326989 22.318125 \nL 59.690625 22.318125 \nz\n\" style=\"fill:#ffffff;\"/>\n   </g>\n   <g id=\"matplotlib.axis_1\">\n    <g id=\"xtick_1\">\n     <g id=\"line2d_1\">\n      <defs>\n       <path d=\"M 0 0 \nL 0 3.5 \n\" id=\"m6eae846774\" style=\"stroke:#000000;stroke-width:0.8;\"/>\n      </defs>\n      <g>\n       <use style=\"stroke:#000000;stroke-width:0.8;\" x=\"71.219551\" xlink:href=\"#m6eae846774\" y=\"294.118125\"/>\n      </g>\n     </g>\n     <g id=\"text_1\">\n      <!-- 0 -->\n      <defs>\n       <path d=\"M 31.78125 66.40625 \nQ 24.171875 66.40625 20.328125 58.90625 \nQ 16.5 51.421875 16.5 36.375 \nQ 16.5 21.390625 20.328125 13.890625 \nQ 24.171875 6.390625 31.78125 6.390625 \nQ 39.453125 6.390625 43.28125 13.890625 \nQ 47.125 21.390625 47.125 36.375 \nQ 47.125 51.421875 43.28125 58.90625 \nQ 39.453125 66.40625 31.78125 66.40625 \nz\nM 31.78125 74.21875 \nQ 44.046875 74.21875 50.515625 64.515625 \nQ 56.984375 54.828125 56.984375 36.375 \nQ 56.984375 17.96875 50.515625 8.265625 \nQ 44.046875 -1.421875 31.78125 -1.421875 \nQ 19.53125 -1.421875 13.0625 8.265625 \nQ 6.59375 17.96875 6.59375 36.375 \nQ 6.59375 54.828125 13.0625 64.515625 \nQ 19.53125 74.21875 31.78125 74.21875 \nz\n\" id=\"DejaVuSans-48\"/>\n      </defs>\n      <g transform=\"translate(68.038301 308.716563)scale(0.1 -0.1)\">\n       <use xlink:href=\"#DejaVuSans-48\"/>\n      </g>\n     </g>\n    </g>\n    <g id=\"xtick_2\">\n     <g id=\"line2d_2\">\n      <g>\n       <use style=\"stroke:#000000;stroke-width:0.8;\" x=\"113.142917\" xlink:href=\"#m6eae846774\" y=\"294.118125\"/>\n      </g>\n     </g>\n     <g id=\"text_2\">\n      <!-- 10 -->\n      <defs>\n       <path d=\"M 12.40625 8.296875 \nL 28.515625 8.296875 \nL 28.515625 63.921875 \nL 10.984375 60.40625 \nL 10.984375 69.390625 \nL 28.421875 72.90625 \nL 38.28125 72.90625 \nL 38.28125 8.296875 \nL 54.390625 8.296875 \nL 54.390625 0 \nL 12.40625 0 \nz\n\" id=\"DejaVuSans-49\"/>\n      </defs>\n      <g transform=\"translate(106.780417 308.716563)scale(0.1 -0.1)\">\n       <use xlink:href=\"#DejaVuSans-49\"/>\n       <use x=\"63.623047\" xlink:href=\"#DejaVuSans-48\"/>\n      </g>\n     </g>\n    </g>\n    <g id=\"xtick_3\">\n     <g id=\"line2d_3\">\n      <g>\n       <use style=\"stroke:#000000;stroke-width:0.8;\" x=\"155.066282\" xlink:href=\"#m6eae846774\" y=\"294.118125\"/>\n      </g>\n     </g>\n     <g id=\"text_3\">\n      <!-- 20 -->\n      <defs>\n       <path d=\"M 19.1875 8.296875 \nL 53.609375 8.296875 \nL 53.609375 0 \nL 7.328125 0 \nL 7.328125 8.296875 \nQ 12.9375 14.109375 22.625 23.890625 \nQ 32.328125 33.6875 34.8125 36.53125 \nQ 39.546875 41.84375 41.421875 45.53125 \nQ 43.3125 49.21875 43.3125 52.78125 \nQ 43.3125 58.59375 39.234375 62.25 \nQ 35.15625 65.921875 28.609375 65.921875 \nQ 23.96875 65.921875 18.8125 64.3125 \nQ 13.671875 62.703125 7.8125 59.421875 \nL 7.8125 69.390625 \nQ 13.765625 71.78125 18.9375 73 \nQ 24.125 74.21875 28.421875 74.21875 \nQ 39.75 74.21875 46.484375 68.546875 \nQ 53.21875 62.890625 53.21875 53.421875 \nQ 53.21875 48.921875 51.53125 44.890625 \nQ 49.859375 40.875 45.40625 35.40625 \nQ 44.1875 33.984375 37.640625 27.21875 \nQ 31.109375 20.453125 19.1875 8.296875 \nz\n\" id=\"DejaVuSans-50\"/>\n      </defs>\n      <g transform=\"translate(148.703782 308.716563)scale(0.1 -0.1)\">\n       <use xlink:href=\"#DejaVuSans-50\"/>\n       <use x=\"63.623047\" xlink:href=\"#DejaVuSans-48\"/>\n      </g>\n     </g>\n    </g>\n    <g id=\"xtick_4\">\n     <g id=\"line2d_4\">\n      <g>\n       <use style=\"stroke:#000000;stroke-width:0.8;\" x=\"196.989648\" xlink:href=\"#m6eae846774\" y=\"294.118125\"/>\n      </g>\n     </g>\n     <g id=\"text_4\">\n      <!-- 30 -->\n      <defs>\n       <path d=\"M 40.578125 39.3125 \nQ 47.65625 37.796875 51.625 33 \nQ 55.609375 28.21875 55.609375 21.1875 \nQ 55.609375 10.40625 48.1875 4.484375 \nQ 40.765625 -1.421875 27.09375 -1.421875 \nQ 22.515625 -1.421875 17.65625 -0.515625 \nQ 12.796875 0.390625 7.625 2.203125 \nL 7.625 11.71875 \nQ 11.71875 9.328125 16.59375 8.109375 \nQ 21.484375 6.890625 26.8125 6.890625 \nQ 36.078125 6.890625 40.9375 10.546875 \nQ 45.796875 14.203125 45.796875 21.1875 \nQ 45.796875 27.640625 41.28125 31.265625 \nQ 36.765625 34.90625 28.71875 34.90625 \nL 20.21875 34.90625 \nL 20.21875 43.015625 \nL 29.109375 43.015625 \nQ 36.375 43.015625 40.234375 45.921875 \nQ 44.09375 48.828125 44.09375 54.296875 \nQ 44.09375 59.90625 40.109375 62.90625 \nQ 36.140625 65.921875 28.71875 65.921875 \nQ 24.65625 65.921875 20.015625 65.03125 \nQ 15.375 64.15625 9.8125 62.3125 \nL 9.8125 71.09375 \nQ 15.4375 72.65625 20.34375 73.4375 \nQ 25.25 74.21875 29.59375 74.21875 \nQ 40.828125 74.21875 47.359375 69.109375 \nQ 53.90625 64.015625 53.90625 55.328125 \nQ 53.90625 49.265625 50.4375 45.09375 \nQ 46.96875 40.921875 40.578125 39.3125 \nz\n\" id=\"DejaVuSans-51\"/>\n      </defs>\n      <g transform=\"translate(190.627148 308.716563)scale(0.1 -0.1)\">\n       <use xlink:href=\"#DejaVuSans-51\"/>\n       <use x=\"63.623047\" xlink:href=\"#DejaVuSans-48\"/>\n      </g>\n     </g>\n    </g>\n    <g id=\"xtick_5\">\n     <g id=\"line2d_5\">\n      <g>\n       <use style=\"stroke:#000000;stroke-width:0.8;\" x=\"238.913014\" xlink:href=\"#m6eae846774\" y=\"294.118125\"/>\n      </g>\n     </g>\n     <g id=\"text_5\">\n      <!-- 40 -->\n      <defs>\n       <path d=\"M 37.796875 64.3125 \nL 12.890625 25.390625 \nL 37.796875 25.390625 \nz\nM 35.203125 72.90625 \nL 47.609375 72.90625 \nL 47.609375 25.390625 \nL 58.015625 25.390625 \nL 58.015625 17.1875 \nL 47.609375 17.1875 \nL 47.609375 0 \nL 37.796875 0 \nL 37.796875 17.1875 \nL 4.890625 17.1875 \nL 4.890625 26.703125 \nz\n\" id=\"DejaVuSans-52\"/>\n      </defs>\n      <g transform=\"translate(232.550514 308.716563)scale(0.1 -0.1)\">\n       <use xlink:href=\"#DejaVuSans-52\"/>\n       <use x=\"63.623047\" xlink:href=\"#DejaVuSans-48\"/>\n      </g>\n     </g>\n    </g>\n    <g id=\"xtick_6\">\n     <g id=\"line2d_6\">\n      <g>\n       <use style=\"stroke:#000000;stroke-width:0.8;\" x=\"280.83638\" xlink:href=\"#m6eae846774\" y=\"294.118125\"/>\n      </g>\n     </g>\n     <g id=\"text_6\">\n      <!-- 50 -->\n      <defs>\n       <path d=\"M 10.796875 72.90625 \nL 49.515625 72.90625 \nL 49.515625 64.59375 \nL 19.828125 64.59375 \nL 19.828125 46.734375 \nQ 21.96875 47.46875 24.109375 47.828125 \nQ 26.265625 48.1875 28.421875 48.1875 \nQ 40.625 48.1875 47.75 41.5 \nQ 54.890625 34.8125 54.890625 23.390625 \nQ 54.890625 11.625 47.5625 5.09375 \nQ 40.234375 -1.421875 26.90625 -1.421875 \nQ 22.3125 -1.421875 17.546875 -0.640625 \nQ 12.796875 0.140625 7.71875 1.703125 \nL 7.71875 11.625 \nQ 12.109375 9.234375 16.796875 8.0625 \nQ 21.484375 6.890625 26.703125 6.890625 \nQ 35.15625 6.890625 40.078125 11.328125 \nQ 45.015625 15.765625 45.015625 23.390625 \nQ 45.015625 31 40.078125 35.4375 \nQ 35.15625 39.890625 26.703125 39.890625 \nQ 22.75 39.890625 18.8125 39.015625 \nQ 14.890625 38.140625 10.796875 36.28125 \nz\n\" id=\"DejaVuSans-53\"/>\n      </defs>\n      <g transform=\"translate(274.47388 308.716563)scale(0.1 -0.1)\">\n       <use xlink:href=\"#DejaVuSans-53\"/>\n       <use x=\"63.623047\" xlink:href=\"#DejaVuSans-48\"/>\n      </g>\n     </g>\n    </g>\n    <g id=\"text_7\">\n     <!-- Epoch -->\n     <defs>\n      <path d=\"M 9.8125 72.90625 \nL 55.90625 72.90625 \nL 55.90625 64.59375 \nL 19.671875 64.59375 \nL 19.671875 43.015625 \nL 54.390625 43.015625 \nL 54.390625 34.71875 \nL 19.671875 34.71875 \nL 19.671875 8.296875 \nL 56.78125 8.296875 \nL 56.78125 0 \nL 9.8125 0 \nz\n\" id=\"DejaVuSans-69\"/>\n      <path d=\"M 18.109375 8.203125 \nL 18.109375 -20.796875 \nL 9.078125 -20.796875 \nL 9.078125 54.6875 \nL 18.109375 54.6875 \nL 18.109375 46.390625 \nQ 20.953125 51.265625 25.265625 53.625 \nQ 29.59375 56 35.59375 56 \nQ 45.5625 56 51.78125 48.09375 \nQ 58.015625 40.1875 58.015625 27.296875 \nQ 58.015625 14.40625 51.78125 6.484375 \nQ 45.5625 -1.421875 35.59375 -1.421875 \nQ 29.59375 -1.421875 25.265625 0.953125 \nQ 20.953125 3.328125 18.109375 8.203125 \nz\nM 48.6875 27.296875 \nQ 48.6875 37.203125 44.609375 42.84375 \nQ 40.53125 48.484375 33.40625 48.484375 \nQ 26.265625 48.484375 22.1875 42.84375 \nQ 18.109375 37.203125 18.109375 27.296875 \nQ 18.109375 17.390625 22.1875 11.75 \nQ 26.265625 6.109375 33.40625 6.109375 \nQ 40.53125 6.109375 44.609375 11.75 \nQ 48.6875 17.390625 48.6875 27.296875 \nz\n\" id=\"DejaVuSans-112\"/>\n      <path d=\"M 30.609375 48.390625 \nQ 23.390625 48.390625 19.1875 42.75 \nQ 14.984375 37.109375 14.984375 27.296875 \nQ 14.984375 17.484375 19.15625 11.84375 \nQ 23.34375 6.203125 30.609375 6.203125 \nQ 37.796875 6.203125 41.984375 11.859375 \nQ 46.1875 17.53125 46.1875 27.296875 \nQ 46.1875 37.015625 41.984375 42.703125 \nQ 37.796875 48.390625 30.609375 48.390625 \nz\nM 30.609375 56 \nQ 42.328125 56 49.015625 48.375 \nQ 55.71875 40.765625 55.71875 27.296875 \nQ 55.71875 13.875 49.015625 6.21875 \nQ 42.328125 -1.421875 30.609375 -1.421875 \nQ 18.84375 -1.421875 12.171875 6.21875 \nQ 5.515625 13.875 5.515625 27.296875 \nQ 5.515625 40.765625 12.171875 48.375 \nQ 18.84375 56 30.609375 56 \nz\n\" id=\"DejaVuSans-111\"/>\n      <path d=\"M 48.78125 52.59375 \nL 48.78125 44.1875 \nQ 44.96875 46.296875 41.140625 47.34375 \nQ 37.3125 48.390625 33.40625 48.390625 \nQ 24.65625 48.390625 19.8125 42.84375 \nQ 14.984375 37.3125 14.984375 27.296875 \nQ 14.984375 17.28125 19.8125 11.734375 \nQ 24.65625 6.203125 33.40625 6.203125 \nQ 37.3125 6.203125 41.140625 7.25 \nQ 44.96875 8.296875 48.78125 10.40625 \nL 48.78125 2.09375 \nQ 45.015625 0.34375 40.984375 -0.53125 \nQ 36.96875 -1.421875 32.421875 -1.421875 \nQ 20.0625 -1.421875 12.78125 6.34375 \nQ 5.515625 14.109375 5.515625 27.296875 \nQ 5.515625 40.671875 12.859375 48.328125 \nQ 20.21875 56 33.015625 56 \nQ 37.15625 56 41.109375 55.140625 \nQ 45.0625 54.296875 48.78125 52.59375 \nz\n\" id=\"DejaVuSans-99\"/>\n      <path d=\"M 54.890625 33.015625 \nL 54.890625 0 \nL 45.90625 0 \nL 45.90625 32.71875 \nQ 45.90625 40.484375 42.875 44.328125 \nQ 39.84375 48.1875 33.796875 48.1875 \nQ 26.515625 48.1875 22.3125 43.546875 \nQ 18.109375 38.921875 18.109375 30.90625 \nL 18.109375 0 \nL 9.078125 0 \nL 9.078125 75.984375 \nL 18.109375 75.984375 \nL 18.109375 46.1875 \nQ 21.34375 51.125 25.703125 53.5625 \nQ 30.078125 56 35.796875 56 \nQ 45.21875 56 50.046875 50.171875 \nQ 54.890625 44.34375 54.890625 33.015625 \nz\n\" id=\"DejaVuSans-104\"/>\n     </defs>\n     <g transform=\"translate(171.197869 322.394687)scale(0.1 -0.1)\">\n      <use xlink:href=\"#DejaVuSans-69\"/>\n      <use x=\"63.183594\" xlink:href=\"#DejaVuSans-112\"/>\n      <use x=\"126.660156\" xlink:href=\"#DejaVuSans-111\"/>\n      <use x=\"187.841797\" xlink:href=\"#DejaVuSans-99\"/>\n      <use x=\"242.822266\" xlink:href=\"#DejaVuSans-104\"/>\n     </g>\n    </g>\n   </g>\n   <g id=\"matplotlib.axis_2\">\n    <g id=\"ytick_1\">\n     <g id=\"line2d_7\">\n      <defs>\n       <path d=\"M 0 0 \nL -3.5 0 \n\" id=\"m732d38757d\" style=\"stroke:#000000;stroke-width:0.8;\"/>\n      </defs>\n      <g>\n       <use style=\"stroke:#000000;stroke-width:0.8;\" x=\"59.690625\" xlink:href=\"#m732d38757d\" y=\"281.798189\"/>\n      </g>\n     </g>\n     <g id=\"text_8\">\n      <!-- 0 -->\n      <g transform=\"translate(46.328125 285.597407)scale(0.1 -0.1)\">\n       <use xlink:href=\"#DejaVuSans-48\"/>\n      </g>\n     </g>\n    </g>\n    <g id=\"ytick_2\">\n     <g id=\"line2d_8\">\n      <g>\n       <use style=\"stroke:#000000;stroke-width:0.8;\" x=\"59.690625\" xlink:href=\"#m732d38757d\" y=\"251.020879\"/>\n      </g>\n     </g>\n     <g id=\"text_9\">\n      <!-- 2000 -->\n      <g transform=\"translate(27.240625 254.820098)scale(0.1 -0.1)\">\n       <use xlink:href=\"#DejaVuSans-50\"/>\n       <use x=\"63.623047\" xlink:href=\"#DejaVuSans-48\"/>\n       <use x=\"127.246094\" xlink:href=\"#DejaVuSans-48\"/>\n       <use x=\"190.869141\" xlink:href=\"#DejaVuSans-48\"/>\n      </g>\n     </g>\n    </g>\n    <g id=\"ytick_3\">\n     <g id=\"line2d_9\">\n      <g>\n       <use style=\"stroke:#000000;stroke-width:0.8;\" x=\"59.690625\" xlink:href=\"#m732d38757d\" y=\"220.243569\"/>\n      </g>\n     </g>\n     <g id=\"text_10\">\n      <!-- 4000 -->\n      <g transform=\"translate(27.240625 224.042788)scale(0.1 -0.1)\">\n       <use xlink:href=\"#DejaVuSans-52\"/>\n       <use x=\"63.623047\" xlink:href=\"#DejaVuSans-48\"/>\n       <use x=\"127.246094\" xlink:href=\"#DejaVuSans-48\"/>\n       <use x=\"190.869141\" xlink:href=\"#DejaVuSans-48\"/>\n      </g>\n     </g>\n    </g>\n    <g id=\"ytick_4\">\n     <g id=\"line2d_10\">\n      <g>\n       <use style=\"stroke:#000000;stroke-width:0.8;\" x=\"59.690625\" xlink:href=\"#m732d38757d\" y=\"189.46626\"/>\n      </g>\n     </g>\n     <g id=\"text_11\">\n      <!-- 6000 -->\n      <defs>\n       <path d=\"M 33.015625 40.375 \nQ 26.375 40.375 22.484375 35.828125 \nQ 18.609375 31.296875 18.609375 23.390625 \nQ 18.609375 15.53125 22.484375 10.953125 \nQ 26.375 6.390625 33.015625 6.390625 \nQ 39.65625 6.390625 43.53125 10.953125 \nQ 47.40625 15.53125 47.40625 23.390625 \nQ 47.40625 31.296875 43.53125 35.828125 \nQ 39.65625 40.375 33.015625 40.375 \nz\nM 52.59375 71.296875 \nL 52.59375 62.3125 \nQ 48.875 64.0625 45.09375 64.984375 \nQ 41.3125 65.921875 37.59375 65.921875 \nQ 27.828125 65.921875 22.671875 59.328125 \nQ 17.53125 52.734375 16.796875 39.40625 \nQ 19.671875 43.65625 24.015625 45.921875 \nQ 28.375 48.1875 33.59375 48.1875 \nQ 44.578125 48.1875 50.953125 41.515625 \nQ 57.328125 34.859375 57.328125 23.390625 \nQ 57.328125 12.15625 50.6875 5.359375 \nQ 44.046875 -1.421875 33.015625 -1.421875 \nQ 20.359375 -1.421875 13.671875 8.265625 \nQ 6.984375 17.96875 6.984375 36.375 \nQ 6.984375 53.65625 15.1875 63.9375 \nQ 23.390625 74.21875 37.203125 74.21875 \nQ 40.921875 74.21875 44.703125 73.484375 \nQ 48.484375 72.75 52.59375 71.296875 \nz\n\" id=\"DejaVuSans-54\"/>\n      </defs>\n      <g transform=\"translate(27.240625 193.265478)scale(0.1 -0.1)\">\n       <use xlink:href=\"#DejaVuSans-54\"/>\n       <use x=\"63.623047\" xlink:href=\"#DejaVuSans-48\"/>\n       <use x=\"127.246094\" xlink:href=\"#DejaVuSans-48\"/>\n       <use x=\"190.869141\" xlink:href=\"#DejaVuSans-48\"/>\n      </g>\n     </g>\n    </g>\n    <g id=\"ytick_5\">\n     <g id=\"line2d_11\">\n      <g>\n       <use style=\"stroke:#000000;stroke-width:0.8;\" x=\"59.690625\" xlink:href=\"#m732d38757d\" y=\"158.68895\"/>\n      </g>\n     </g>\n     <g id=\"text_12\">\n      <!-- 8000 -->\n      <defs>\n       <path d=\"M 31.78125 34.625 \nQ 24.75 34.625 20.71875 30.859375 \nQ 16.703125 27.09375 16.703125 20.515625 \nQ 16.703125 13.921875 20.71875 10.15625 \nQ 24.75 6.390625 31.78125 6.390625 \nQ 38.8125 6.390625 42.859375 10.171875 \nQ 46.921875 13.96875 46.921875 20.515625 \nQ 46.921875 27.09375 42.890625 30.859375 \nQ 38.875 34.625 31.78125 34.625 \nz\nM 21.921875 38.8125 \nQ 15.578125 40.375 12.03125 44.71875 \nQ 8.5 49.078125 8.5 55.328125 \nQ 8.5 64.0625 14.71875 69.140625 \nQ 20.953125 74.21875 31.78125 74.21875 \nQ 42.671875 74.21875 48.875 69.140625 \nQ 55.078125 64.0625 55.078125 55.328125 \nQ 55.078125 49.078125 51.53125 44.71875 \nQ 48 40.375 41.703125 38.8125 \nQ 48.828125 37.15625 52.796875 32.3125 \nQ 56.78125 27.484375 56.78125 20.515625 \nQ 56.78125 9.90625 50.3125 4.234375 \nQ 43.84375 -1.421875 31.78125 -1.421875 \nQ 19.734375 -1.421875 13.25 4.234375 \nQ 6.78125 9.90625 6.78125 20.515625 \nQ 6.78125 27.484375 10.78125 32.3125 \nQ 14.796875 37.15625 21.921875 38.8125 \nz\nM 18.3125 54.390625 \nQ 18.3125 48.734375 21.84375 45.5625 \nQ 25.390625 42.390625 31.78125 42.390625 \nQ 38.140625 42.390625 41.71875 45.5625 \nQ 45.3125 48.734375 45.3125 54.390625 \nQ 45.3125 60.0625 41.71875 63.234375 \nQ 38.140625 66.40625 31.78125 66.40625 \nQ 25.390625 66.40625 21.84375 63.234375 \nQ 18.3125 60.0625 18.3125 54.390625 \nz\n\" id=\"DejaVuSans-56\"/>\n      </defs>\n      <g transform=\"translate(27.240625 162.488169)scale(0.1 -0.1)\">\n       <use xlink:href=\"#DejaVuSans-56\"/>\n       <use x=\"63.623047\" xlink:href=\"#DejaVuSans-48\"/>\n       <use x=\"127.246094\" xlink:href=\"#DejaVuSans-48\"/>\n       <use x=\"190.869141\" xlink:href=\"#DejaVuSans-48\"/>\n      </g>\n     </g>\n    </g>\n    <g id=\"ytick_6\">\n     <g id=\"line2d_12\">\n      <g>\n       <use style=\"stroke:#000000;stroke-width:0.8;\" x=\"59.690625\" xlink:href=\"#m732d38757d\" y=\"127.91164\"/>\n      </g>\n     </g>\n     <g id=\"text_13\">\n      <!-- 10000 -->\n      <g transform=\"translate(20.878125 131.710859)scale(0.1 -0.1)\">\n       <use xlink:href=\"#DejaVuSans-49\"/>\n       <use x=\"63.623047\" xlink:href=\"#DejaVuSans-48\"/>\n       <use x=\"127.246094\" xlink:href=\"#DejaVuSans-48\"/>\n       <use x=\"190.869141\" xlink:href=\"#DejaVuSans-48\"/>\n       <use x=\"254.492188\" xlink:href=\"#DejaVuSans-48\"/>\n      </g>\n     </g>\n    </g>\n    <g id=\"ytick_7\">\n     <g id=\"line2d_13\">\n      <g>\n       <use style=\"stroke:#000000;stroke-width:0.8;\" x=\"59.690625\" xlink:href=\"#m732d38757d\" y=\"97.134331\"/>\n      </g>\n     </g>\n     <g id=\"text_14\">\n      <!-- 12000 -->\n      <g transform=\"translate(20.878125 100.933549)scale(0.1 -0.1)\">\n       <use xlink:href=\"#DejaVuSans-49\"/>\n       <use x=\"63.623047\" xlink:href=\"#DejaVuSans-50\"/>\n       <use x=\"127.246094\" xlink:href=\"#DejaVuSans-48\"/>\n       <use x=\"190.869141\" xlink:href=\"#DejaVuSans-48\"/>\n       <use x=\"254.492188\" xlink:href=\"#DejaVuSans-48\"/>\n      </g>\n     </g>\n    </g>\n    <g id=\"ytick_8\">\n     <g id=\"line2d_14\">\n      <g>\n       <use style=\"stroke:#000000;stroke-width:0.8;\" x=\"59.690625\" xlink:href=\"#m732d38757d\" y=\"66.357021\"/>\n      </g>\n     </g>\n     <g id=\"text_15\">\n      <!-- 14000 -->\n      <g transform=\"translate(20.878125 70.15624)scale(0.1 -0.1)\">\n       <use xlink:href=\"#DejaVuSans-49\"/>\n       <use x=\"63.623047\" xlink:href=\"#DejaVuSans-52\"/>\n       <use x=\"127.246094\" xlink:href=\"#DejaVuSans-48\"/>\n       <use x=\"190.869141\" xlink:href=\"#DejaVuSans-48\"/>\n       <use x=\"254.492188\" xlink:href=\"#DejaVuSans-48\"/>\n      </g>\n     </g>\n    </g>\n    <g id=\"ytick_9\">\n     <g id=\"line2d_15\">\n      <g>\n       <use style=\"stroke:#000000;stroke-width:0.8;\" x=\"59.690625\" xlink:href=\"#m732d38757d\" y=\"35.579711\"/>\n      </g>\n     </g>\n     <g id=\"text_16\">\n      <!-- 16000 -->\n      <g transform=\"translate(20.878125 39.37893)scale(0.1 -0.1)\">\n       <use xlink:href=\"#DejaVuSans-49\"/>\n       <use x=\"63.623047\" xlink:href=\"#DejaVuSans-54\"/>\n       <use x=\"127.246094\" xlink:href=\"#DejaVuSans-48\"/>\n       <use x=\"190.869141\" xlink:href=\"#DejaVuSans-48\"/>\n       <use x=\"254.492188\" xlink:href=\"#DejaVuSans-48\"/>\n      </g>\n     </g>\n    </g>\n    <g id=\"text_17\">\n     <!-- loss -->\n     <defs>\n      <path d=\"M 9.421875 75.984375 \nL 18.40625 75.984375 \nL 18.40625 0 \nL 9.421875 0 \nz\n\" id=\"DejaVuSans-108\"/>\n      <path d=\"M 44.28125 53.078125 \nL 44.28125 44.578125 \nQ 40.484375 46.53125 36.375 47.5 \nQ 32.28125 48.484375 27.875 48.484375 \nQ 21.1875 48.484375 17.84375 46.4375 \nQ 14.5 44.390625 14.5 40.28125 \nQ 14.5 37.15625 16.890625 35.375 \nQ 19.28125 33.59375 26.515625 31.984375 \nL 29.59375 31.296875 \nQ 39.15625 29.25 43.1875 25.515625 \nQ 47.21875 21.78125 47.21875 15.09375 \nQ 47.21875 7.46875 41.1875 3.015625 \nQ 35.15625 -1.421875 24.609375 -1.421875 \nQ 20.21875 -1.421875 15.453125 -0.5625 \nQ 10.6875 0.296875 5.421875 2 \nL 5.421875 11.28125 \nQ 10.40625 8.6875 15.234375 7.390625 \nQ 20.0625 6.109375 24.8125 6.109375 \nQ 31.15625 6.109375 34.5625 8.28125 \nQ 37.984375 10.453125 37.984375 14.40625 \nQ 37.984375 18.0625 35.515625 20.015625 \nQ 33.0625 21.96875 24.703125 23.78125 \nL 21.578125 24.515625 \nQ 13.234375 26.265625 9.515625 29.90625 \nQ 5.8125 33.546875 5.8125 39.890625 \nQ 5.8125 47.609375 11.28125 51.796875 \nQ 16.75 56 26.8125 56 \nQ 31.78125 56 36.171875 55.265625 \nQ 40.578125 54.546875 44.28125 53.078125 \nz\n\" id=\"DejaVuSans-115\"/>\n     </defs>\n     <g transform=\"translate(14.798438 167.875938)rotate(-90)scale(0.1 -0.1)\">\n      <use xlink:href=\"#DejaVuSans-108\"/>\n      <use x=\"27.783203\" xlink:href=\"#DejaVuSans-111\"/>\n      <use x=\"88.964844\" xlink:href=\"#DejaVuSans-115\"/>\n      <use x=\"141.064453\" xlink:href=\"#DejaVuSans-115\"/>\n     </g>\n    </g>\n   </g>\n   <g id=\"line2d_16\">\n    <path clip-path=\"url(#peddc2678c0)\" d=\"M 71.219551 34.67267 \nL 75.411887 281.744983 \nL 79.604224 281.750035 \nL 83.79656 281.749454 \nL 87.988897 281.753157 \nL 92.181234 281.757787 \nL 96.37357 281.757833 \nL 100.565907 281.758914 \nL 104.758243 281.758453 \nL 108.95058 281.757148 \nL 113.142917 281.747016 \nL 117.335253 281.760644 \nL 121.52759 281.758518 \nL 125.719926 281.758428 \nL 129.912263 281.760069 \nL 134.104599 281.758198 \nL 138.296936 281.761525 \nL 142.489273 281.756011 \nL 146.681609 281.759138 \nL 150.873946 281.756822 \nL 155.066282 281.760218 \nL 159.258619 281.760109 \nL 163.450956 281.75937 \nL 167.643292 281.760309 \nL 171.835629 281.76153 \nL 176.027965 281.758375 \nL 180.220302 281.759185 \nL 184.412639 281.759025 \nL 188.604975 281.761232 \nL 192.797312 281.761518 \nL 196.989648 281.761205 \nL 201.181985 281.759193 \nL 205.374321 281.760602 \nL 209.566658 281.76098 \nL 213.758995 281.755485 \nL 217.951331 281.758332 \nL 222.143668 281.761858 \nL 226.336004 281.761972 \nL 230.528341 281.761533 \nL 234.720678 281.761223 \nL 238.913014 281.762622 \nL 243.105351 281.760803 \nL 247.297687 281.760868 \nL 251.490024 281.759814 \nL 255.682361 281.760781 \nL 259.874697 281.761691 \nL 264.067034 281.760094 \nL 268.25937 281.762366 \nL 272.451707 281.760736 \nL 276.644043 281.760547 \nL 280.83638 281.761443 \nL 285.028717 281.747943 \nL 289.221053 281.761355 \nL 293.41339 281.761947 \nL 297.605726 281.76269 \nL 301.798063 281.760332 \n\" style=\"fill:none;stroke:#1f77b4;stroke-linecap:square;stroke-width:1.5;\"/>\n   </g>\n   <g id=\"line2d_17\">\n    <path clip-path=\"url(#peddc2678c0)\" d=\"M 71.219551 281.762784 \nL 75.411887 281.76274 \nL 79.604224 281.762392 \nL 83.79656 281.760035 \nL 87.988897 281.762637 \nL 92.181234 281.762786 \nL 96.37357 281.761572 \nL 100.565907 281.762695 \nL 104.758243 281.76277 \nL 108.95058 281.762764 \nL 113.142917 281.759234 \nL 117.335253 281.762768 \nL 121.52759 281.762771 \nL 125.719926 281.762295 \nL 129.912263 281.762846 \nL 134.104599 281.763034 \nL 138.296936 281.762872 \nL 142.489273 281.763419 \nL 146.681609 281.762988 \nL 150.873946 281.763007 \nL 155.066282 281.760283 \nL 159.258619 281.763118 \nL 163.450956 281.759095 \nL 167.643292 281.761841 \nL 171.835629 281.762852 \nL 176.027965 281.762187 \nL 180.220302 281.76337 \nL 184.412639 281.762984 \nL 188.604975 281.76294 \nL 192.797312 281.762813 \nL 196.989648 281.762333 \nL 201.181985 281.760287 \nL 205.374321 281.762884 \nL 209.566658 281.761554 \nL 213.758995 281.763509 \nL 217.951331 281.76358 \nL 222.143668 281.763132 \nL 226.336004 281.763234 \nL 230.528341 281.742228 \nL 234.720678 281.762957 \nL 238.913014 281.763278 \nL 243.105351 281.762598 \nL 247.297687 281.762857 \nL 251.490024 281.76266 \nL 255.682361 281.762583 \nL 259.874697 281.762401 \nL 264.067034 281.760618 \nL 268.25937 281.762587 \nL 272.451707 281.750429 \nL 276.644043 281.763257 \nL 280.83638 281.763568 \nL 285.028717 281.761377 \nL 289.221053 281.763561 \nL 293.41339 281.762764 \nL 297.605726 281.763217 \nL 301.798063 281.762641 \n\" style=\"fill:none;stroke:#ff7f0e;stroke-linecap:square;stroke-width:1.5;\"/>\n   </g>\n   <g id=\"patch_3\">\n    <path d=\"M 59.690625 294.118125 \nL 59.690625 22.318125 \n\" style=\"fill:none;stroke:#000000;stroke-linecap:square;stroke-linejoin:miter;stroke-width:0.8;\"/>\n   </g>\n   <g id=\"patch_4\">\n    <path d=\"M 313.326989 294.118125 \nL 313.326989 22.318125 \n\" style=\"fill:none;stroke:#000000;stroke-linecap:square;stroke-linejoin:miter;stroke-width:0.8;\"/>\n   </g>\n   <g id=\"patch_5\">\n    <path d=\"M 59.690625 294.118125 \nL 313.326989 294.118125 \n\" style=\"fill:none;stroke:#000000;stroke-linecap:square;stroke-linejoin:miter;stroke-width:0.8;\"/>\n   </g>\n   <g id=\"patch_6\">\n    <path d=\"M 59.690625 22.318125 \nL 313.326989 22.318125 \n\" style=\"fill:none;stroke:#000000;stroke-linecap:square;stroke-linejoin:miter;stroke-width:0.8;\"/>\n   </g>\n   <g id=\"text_18\">\n    <!-- Loss curve -->\n    <defs>\n     <path d=\"M 9.8125 72.90625 \nL 19.671875 72.90625 \nL 19.671875 8.296875 \nL 55.171875 8.296875 \nL 55.171875 0 \nL 9.8125 0 \nz\n\" id=\"DejaVuSans-76\"/>\n     <path id=\"DejaVuSans-32\"/>\n     <path d=\"M 8.5 21.578125 \nL 8.5 54.6875 \nL 17.484375 54.6875 \nL 17.484375 21.921875 \nQ 17.484375 14.15625 20.5 10.265625 \nQ 23.53125 6.390625 29.59375 6.390625 \nQ 36.859375 6.390625 41.078125 11.03125 \nQ 45.3125 15.671875 45.3125 23.6875 \nL 45.3125 54.6875 \nL 54.296875 54.6875 \nL 54.296875 0 \nL 45.3125 0 \nL 45.3125 8.40625 \nQ 42.046875 3.421875 37.71875 1 \nQ 33.40625 -1.421875 27.6875 -1.421875 \nQ 18.265625 -1.421875 13.375 4.4375 \nQ 8.5 10.296875 8.5 21.578125 \nz\nM 31.109375 56 \nz\n\" id=\"DejaVuSans-117\"/>\n     <path d=\"M 41.109375 46.296875 \nQ 39.59375 47.171875 37.8125 47.578125 \nQ 36.03125 48 33.890625 48 \nQ 26.265625 48 22.1875 43.046875 \nQ 18.109375 38.09375 18.109375 28.8125 \nL 18.109375 0 \nL 9.078125 0 \nL 9.078125 54.6875 \nL 18.109375 54.6875 \nL 18.109375 46.1875 \nQ 20.953125 51.171875 25.484375 53.578125 \nQ 30.03125 56 36.53125 56 \nQ 37.453125 56 38.578125 55.875 \nQ 39.703125 55.765625 41.0625 55.515625 \nz\n\" id=\"DejaVuSans-114\"/>\n     <path d=\"M 2.984375 54.6875 \nL 12.5 54.6875 \nL 29.59375 8.796875 \nL 46.6875 54.6875 \nL 56.203125 54.6875 \nL 35.6875 0 \nL 23.484375 0 \nz\n\" id=\"DejaVuSans-118\"/>\n     <path d=\"M 56.203125 29.59375 \nL 56.203125 25.203125 \nL 14.890625 25.203125 \nQ 15.484375 15.921875 20.484375 11.0625 \nQ 25.484375 6.203125 34.421875 6.203125 \nQ 39.59375 6.203125 44.453125 7.46875 \nQ 49.3125 8.734375 54.109375 11.28125 \nL 54.109375 2.78125 \nQ 49.265625 0.734375 44.1875 -0.34375 \nQ 39.109375 -1.421875 33.890625 -1.421875 \nQ 20.796875 -1.421875 13.15625 6.1875 \nQ 5.515625 13.8125 5.515625 26.8125 \nQ 5.515625 40.234375 12.765625 48.109375 \nQ 20.015625 56 32.328125 56 \nQ 43.359375 56 49.78125 48.890625 \nQ 56.203125 41.796875 56.203125 29.59375 \nz\nM 47.21875 32.234375 \nQ 47.125 39.59375 43.09375 43.984375 \nQ 39.0625 48.390625 32.421875 48.390625 \nQ 24.90625 48.390625 20.390625 44.140625 \nQ 15.875 39.890625 15.1875 32.171875 \nz\n\" id=\"DejaVuSans-101\"/>\n    </defs>\n    <g transform=\"translate(154.630057 16.318125)scale(0.12 -0.12)\">\n     <use xlink:href=\"#DejaVuSans-76\"/>\n     <use x=\"53.962891\" xlink:href=\"#DejaVuSans-111\"/>\n     <use x=\"115.144531\" xlink:href=\"#DejaVuSans-115\"/>\n     <use x=\"167.244141\" xlink:href=\"#DejaVuSans-115\"/>\n     <use x=\"219.34375\" xlink:href=\"#DejaVuSans-32\"/>\n     <use x=\"251.130859\" xlink:href=\"#DejaVuSans-99\"/>\n     <use x=\"306.111328\" xlink:href=\"#DejaVuSans-117\"/>\n     <use x=\"369.490234\" xlink:href=\"#DejaVuSans-114\"/>\n     <use x=\"410.603516\" xlink:href=\"#DejaVuSans-118\"/>\n     <use x=\"469.783203\" xlink:href=\"#DejaVuSans-101\"/>\n    </g>\n   </g>\n   <g id=\"legend_1\">\n    <g id=\"patch_7\">\n     <path d=\"M 225.092614 59.674375 \nL 306.326989 59.674375 \nQ 308.326989 59.674375 308.326989 57.674375 \nL 308.326989 29.318125 \nQ 308.326989 27.318125 306.326989 27.318125 \nL 225.092614 27.318125 \nQ 223.092614 27.318125 223.092614 29.318125 \nL 223.092614 57.674375 \nQ 223.092614 59.674375 225.092614 59.674375 \nz\n\" style=\"fill:#ffffff;opacity:0.8;stroke:#cccccc;stroke-linejoin:miter;\"/>\n    </g>\n    <g id=\"line2d_18\">\n     <path d=\"M 227.092614 35.416562 \nL 247.092614 35.416562 \n\" style=\"fill:none;stroke:#1f77b4;stroke-linecap:square;stroke-width:1.5;\"/>\n    </g>\n    <g id=\"line2d_19\"/>\n    <g id=\"text_19\">\n     <!-- train -->\n     <defs>\n      <path d=\"M 18.3125 70.21875 \nL 18.3125 54.6875 \nL 36.8125 54.6875 \nL 36.8125 47.703125 \nL 18.3125 47.703125 \nL 18.3125 18.015625 \nQ 18.3125 11.328125 20.140625 9.421875 \nQ 21.96875 7.515625 27.59375 7.515625 \nL 36.8125 7.515625 \nL 36.8125 0 \nL 27.59375 0 \nQ 17.1875 0 13.234375 3.875 \nQ 9.28125 7.765625 9.28125 18.015625 \nL 9.28125 47.703125 \nL 2.6875 47.703125 \nL 2.6875 54.6875 \nL 9.28125 54.6875 \nL 9.28125 70.21875 \nz\n\" id=\"DejaVuSans-116\"/>\n      <path d=\"M 34.28125 27.484375 \nQ 23.390625 27.484375 19.1875 25 \nQ 14.984375 22.515625 14.984375 16.5 \nQ 14.984375 11.71875 18.140625 8.90625 \nQ 21.296875 6.109375 26.703125 6.109375 \nQ 34.1875 6.109375 38.703125 11.40625 \nQ 43.21875 16.703125 43.21875 25.484375 \nL 43.21875 27.484375 \nz\nM 52.203125 31.203125 \nL 52.203125 0 \nL 43.21875 0 \nL 43.21875 8.296875 \nQ 40.140625 3.328125 35.546875 0.953125 \nQ 30.953125 -1.421875 24.3125 -1.421875 \nQ 15.921875 -1.421875 10.953125 3.296875 \nQ 6 8.015625 6 15.921875 \nQ 6 25.140625 12.171875 29.828125 \nQ 18.359375 34.515625 30.609375 34.515625 \nL 43.21875 34.515625 \nL 43.21875 35.40625 \nQ 43.21875 41.609375 39.140625 45 \nQ 35.0625 48.390625 27.6875 48.390625 \nQ 23 48.390625 18.546875 47.265625 \nQ 14.109375 46.140625 10.015625 43.890625 \nL 10.015625 52.203125 \nQ 14.9375 54.109375 19.578125 55.046875 \nQ 24.21875 56 28.609375 56 \nQ 40.484375 56 46.34375 49.84375 \nQ 52.203125 43.703125 52.203125 31.203125 \nz\n\" id=\"DejaVuSans-97\"/>\n      <path d=\"M 9.421875 54.6875 \nL 18.40625 54.6875 \nL 18.40625 0 \nL 9.421875 0 \nz\nM 9.421875 75.984375 \nL 18.40625 75.984375 \nL 18.40625 64.59375 \nL 9.421875 64.59375 \nz\n\" id=\"DejaVuSans-105\"/>\n      <path d=\"M 54.890625 33.015625 \nL 54.890625 0 \nL 45.90625 0 \nL 45.90625 32.71875 \nQ 45.90625 40.484375 42.875 44.328125 \nQ 39.84375 48.1875 33.796875 48.1875 \nQ 26.515625 48.1875 22.3125 43.546875 \nQ 18.109375 38.921875 18.109375 30.90625 \nL 18.109375 0 \nL 9.078125 0 \nL 9.078125 54.6875 \nL 18.109375 54.6875 \nL 18.109375 46.1875 \nQ 21.34375 51.125 25.703125 53.5625 \nQ 30.078125 56 35.796875 56 \nQ 45.21875 56 50.046875 50.171875 \nQ 54.890625 44.34375 54.890625 33.015625 \nz\n\" id=\"DejaVuSans-110\"/>\n     </defs>\n     <g transform=\"translate(255.092614 38.916562)scale(0.1 -0.1)\">\n      <use xlink:href=\"#DejaVuSans-116\"/>\n      <use x=\"39.208984\" xlink:href=\"#DejaVuSans-114\"/>\n      <use x=\"80.322266\" xlink:href=\"#DejaVuSans-97\"/>\n      <use x=\"141.601562\" xlink:href=\"#DejaVuSans-105\"/>\n      <use x=\"169.384766\" xlink:href=\"#DejaVuSans-110\"/>\n     </g>\n    </g>\n    <g id=\"line2d_20\">\n     <path d=\"M 227.092614 50.094688 \nL 247.092614 50.094688 \n\" style=\"fill:none;stroke:#ff7f0e;stroke-linecap:square;stroke-width:1.5;\"/>\n    </g>\n    <g id=\"line2d_21\"/>\n    <g id=\"text_20\">\n     <!-- validation -->\n     <defs>\n      <path d=\"M 45.40625 46.390625 \nL 45.40625 75.984375 \nL 54.390625 75.984375 \nL 54.390625 0 \nL 45.40625 0 \nL 45.40625 8.203125 \nQ 42.578125 3.328125 38.25 0.953125 \nQ 33.9375 -1.421875 27.875 -1.421875 \nQ 17.96875 -1.421875 11.734375 6.484375 \nQ 5.515625 14.40625 5.515625 27.296875 \nQ 5.515625 40.1875 11.734375 48.09375 \nQ 17.96875 56 27.875 56 \nQ 33.9375 56 38.25 53.625 \nQ 42.578125 51.265625 45.40625 46.390625 \nz\nM 14.796875 27.296875 \nQ 14.796875 17.390625 18.875 11.75 \nQ 22.953125 6.109375 30.078125 6.109375 \nQ 37.203125 6.109375 41.296875 11.75 \nQ 45.40625 17.390625 45.40625 27.296875 \nQ 45.40625 37.203125 41.296875 42.84375 \nQ 37.203125 48.484375 30.078125 48.484375 \nQ 22.953125 48.484375 18.875 42.84375 \nQ 14.796875 37.203125 14.796875 27.296875 \nz\n\" id=\"DejaVuSans-100\"/>\n     </defs>\n     <g transform=\"translate(255.092614 53.594688)scale(0.1 -0.1)\">\n      <use xlink:href=\"#DejaVuSans-118\"/>\n      <use x=\"59.179688\" xlink:href=\"#DejaVuSans-97\"/>\n      <use x=\"120.458984\" xlink:href=\"#DejaVuSans-108\"/>\n      <use x=\"148.242188\" xlink:href=\"#DejaVuSans-105\"/>\n      <use x=\"176.025391\" xlink:href=\"#DejaVuSans-100\"/>\n      <use x=\"239.501953\" xlink:href=\"#DejaVuSans-97\"/>\n      <use x=\"300.78125\" xlink:href=\"#DejaVuSans-116\"/>\n      <use x=\"339.990234\" xlink:href=\"#DejaVuSans-105\"/>\n      <use x=\"367.773438\" xlink:href=\"#DejaVuSans-111\"/>\n      <use x=\"428.955078\" xlink:href=\"#DejaVuSans-110\"/>\n     </g>\n    </g>\n   </g>\n  </g>\n  <g id=\"axes_2\">\n   <g id=\"patch_8\">\n    <path d=\"M 364.054261 294.118125 \nL 617.690625 294.118125 \nL 617.690625 22.318125 \nL 364.054261 22.318125 \nz\n\" style=\"fill:#ffffff;\"/>\n   </g>\n   <g id=\"matplotlib.axis_3\">\n    <g id=\"xtick_7\">\n     <g id=\"line2d_22\">\n      <g>\n       <use style=\"stroke:#000000;stroke-width:0.8;\" x=\"375.583187\" xlink:href=\"#m6eae846774\" y=\"294.118125\"/>\n      </g>\n     </g>\n     <g id=\"text_21\">\n      <!-- 0 -->\n      <g transform=\"translate(372.401937 308.716563)scale(0.1 -0.1)\">\n       <use xlink:href=\"#DejaVuSans-48\"/>\n      </g>\n     </g>\n    </g>\n    <g id=\"xtick_8\">\n     <g id=\"line2d_23\">\n      <g>\n       <use style=\"stroke:#000000;stroke-width:0.8;\" x=\"417.506553\" xlink:href=\"#m6eae846774\" y=\"294.118125\"/>\n      </g>\n     </g>\n     <g id=\"text_22\">\n      <!-- 10 -->\n      <g transform=\"translate(411.144053 308.716563)scale(0.1 -0.1)\">\n       <use xlink:href=\"#DejaVuSans-49\"/>\n       <use x=\"63.623047\" xlink:href=\"#DejaVuSans-48\"/>\n      </g>\n     </g>\n    </g>\n    <g id=\"xtick_9\">\n     <g id=\"line2d_24\">\n      <g>\n       <use style=\"stroke:#000000;stroke-width:0.8;\" x=\"459.429919\" xlink:href=\"#m6eae846774\" y=\"294.118125\"/>\n      </g>\n     </g>\n     <g id=\"text_23\">\n      <!-- 20 -->\n      <g transform=\"translate(453.067419 308.716563)scale(0.1 -0.1)\">\n       <use xlink:href=\"#DejaVuSans-50\"/>\n       <use x=\"63.623047\" xlink:href=\"#DejaVuSans-48\"/>\n      </g>\n     </g>\n    </g>\n    <g id=\"xtick_10\">\n     <g id=\"line2d_25\">\n      <g>\n       <use style=\"stroke:#000000;stroke-width:0.8;\" x=\"501.353285\" xlink:href=\"#m6eae846774\" y=\"294.118125\"/>\n      </g>\n     </g>\n     <g id=\"text_24\">\n      <!-- 30 -->\n      <g transform=\"translate(494.990785 308.716563)scale(0.1 -0.1)\">\n       <use xlink:href=\"#DejaVuSans-51\"/>\n       <use x=\"63.623047\" xlink:href=\"#DejaVuSans-48\"/>\n      </g>\n     </g>\n    </g>\n    <g id=\"xtick_11\">\n     <g id=\"line2d_26\">\n      <g>\n       <use style=\"stroke:#000000;stroke-width:0.8;\" x=\"543.276651\" xlink:href=\"#m6eae846774\" y=\"294.118125\"/>\n      </g>\n     </g>\n     <g id=\"text_25\">\n      <!-- 40 -->\n      <g transform=\"translate(536.914151 308.716563)scale(0.1 -0.1)\">\n       <use xlink:href=\"#DejaVuSans-52\"/>\n       <use x=\"63.623047\" xlink:href=\"#DejaVuSans-48\"/>\n      </g>\n     </g>\n    </g>\n    <g id=\"xtick_12\">\n     <g id=\"line2d_27\">\n      <g>\n       <use style=\"stroke:#000000;stroke-width:0.8;\" x=\"585.200016\" xlink:href=\"#m6eae846774\" y=\"294.118125\"/>\n      </g>\n     </g>\n     <g id=\"text_26\">\n      <!-- 50 -->\n      <g transform=\"translate(578.837516 308.716563)scale(0.1 -0.1)\">\n       <use xlink:href=\"#DejaVuSans-53\"/>\n       <use x=\"63.623047\" xlink:href=\"#DejaVuSans-48\"/>\n      </g>\n     </g>\n    </g>\n    <g id=\"text_27\">\n     <!-- Epoch -->\n     <g transform=\"translate(475.561506 322.394687)scale(0.1 -0.1)\">\n      <use xlink:href=\"#DejaVuSans-69\"/>\n      <use x=\"63.183594\" xlink:href=\"#DejaVuSans-112\"/>\n      <use x=\"126.660156\" xlink:href=\"#DejaVuSans-111\"/>\n      <use x=\"187.841797\" xlink:href=\"#DejaVuSans-99\"/>\n      <use x=\"242.822266\" xlink:href=\"#DejaVuSans-104\"/>\n     </g>\n    </g>\n   </g>\n   <g id=\"matplotlib.axis_4\">\n    <g id=\"ytick_10\">\n     <g id=\"line2d_28\">\n      <g>\n       <use style=\"stroke:#000000;stroke-width:0.8;\" x=\"364.054261\" xlink:href=\"#m732d38757d\" y=\"290.549038\"/>\n      </g>\n     </g>\n     <g id=\"text_28\">\n      <!-- 0.075 -->\n      <defs>\n       <path d=\"M 10.6875 12.40625 \nL 21 12.40625 \nL 21 0 \nL 10.6875 0 \nz\n\" id=\"DejaVuSans-46\"/>\n       <path d=\"M 8.203125 72.90625 \nL 55.078125 72.90625 \nL 55.078125 68.703125 \nL 28.609375 0 \nL 18.3125 0 \nL 43.21875 64.59375 \nL 8.203125 64.59375 \nz\n\" id=\"DejaVuSans-55\"/>\n      </defs>\n      <g transform=\"translate(328.426136 294.348257)scale(0.1 -0.1)\">\n       <use xlink:href=\"#DejaVuSans-48\"/>\n       <use x=\"63.623047\" xlink:href=\"#DejaVuSans-46\"/>\n       <use x=\"95.410156\" xlink:href=\"#DejaVuSans-48\"/>\n       <use x=\"159.033203\" xlink:href=\"#DejaVuSans-55\"/>\n       <use x=\"222.65625\" xlink:href=\"#DejaVuSans-53\"/>\n      </g>\n     </g>\n    </g>\n    <g id=\"ytick_11\">\n     <g id=\"line2d_29\">\n      <g>\n       <use style=\"stroke:#000000;stroke-width:0.8;\" x=\"364.054261\" xlink:href=\"#m732d38757d\" y=\"253.210855\"/>\n      </g>\n     </g>\n     <g id=\"text_29\">\n      <!-- 0.100 -->\n      <g transform=\"translate(328.426136 257.010074)scale(0.1 -0.1)\">\n       <use xlink:href=\"#DejaVuSans-48\"/>\n       <use x=\"63.623047\" xlink:href=\"#DejaVuSans-46\"/>\n       <use x=\"95.410156\" xlink:href=\"#DejaVuSans-49\"/>\n       <use x=\"159.033203\" xlink:href=\"#DejaVuSans-48\"/>\n       <use x=\"222.65625\" xlink:href=\"#DejaVuSans-48\"/>\n      </g>\n     </g>\n    </g>\n    <g id=\"ytick_12\">\n     <g id=\"line2d_30\">\n      <g>\n       <use style=\"stroke:#000000;stroke-width:0.8;\" x=\"364.054261\" xlink:href=\"#m732d38757d\" y=\"215.872672\"/>\n      </g>\n     </g>\n     <g id=\"text_30\">\n      <!-- 0.125 -->\n      <g transform=\"translate(328.426136 219.671891)scale(0.1 -0.1)\">\n       <use xlink:href=\"#DejaVuSans-48\"/>\n       <use x=\"63.623047\" xlink:href=\"#DejaVuSans-46\"/>\n       <use x=\"95.410156\" xlink:href=\"#DejaVuSans-49\"/>\n       <use x=\"159.033203\" xlink:href=\"#DejaVuSans-50\"/>\n       <use x=\"222.65625\" xlink:href=\"#DejaVuSans-53\"/>\n      </g>\n     </g>\n    </g>\n    <g id=\"ytick_13\">\n     <g id=\"line2d_31\">\n      <g>\n       <use style=\"stroke:#000000;stroke-width:0.8;\" x=\"364.054261\" xlink:href=\"#m732d38757d\" y=\"178.534489\"/>\n      </g>\n     </g>\n     <g id=\"text_31\">\n      <!-- 0.150 -->\n      <g transform=\"translate(328.426136 182.333707)scale(0.1 -0.1)\">\n       <use xlink:href=\"#DejaVuSans-48\"/>\n       <use x=\"63.623047\" xlink:href=\"#DejaVuSans-46\"/>\n       <use x=\"95.410156\" xlink:href=\"#DejaVuSans-49\"/>\n       <use x=\"159.033203\" xlink:href=\"#DejaVuSans-53\"/>\n       <use x=\"222.65625\" xlink:href=\"#DejaVuSans-48\"/>\n      </g>\n     </g>\n    </g>\n    <g id=\"ytick_14\">\n     <g id=\"line2d_32\">\n      <g>\n       <use style=\"stroke:#000000;stroke-width:0.8;\" x=\"364.054261\" xlink:href=\"#m732d38757d\" y=\"141.196306\"/>\n      </g>\n     </g>\n     <g id=\"text_32\">\n      <!-- 0.175 -->\n      <g transform=\"translate(328.426136 144.995524)scale(0.1 -0.1)\">\n       <use xlink:href=\"#DejaVuSans-48\"/>\n       <use x=\"63.623047\" xlink:href=\"#DejaVuSans-46\"/>\n       <use x=\"95.410156\" xlink:href=\"#DejaVuSans-49\"/>\n       <use x=\"159.033203\" xlink:href=\"#DejaVuSans-55\"/>\n       <use x=\"222.65625\" xlink:href=\"#DejaVuSans-53\"/>\n      </g>\n     </g>\n    </g>\n    <g id=\"ytick_15\">\n     <g id=\"line2d_33\">\n      <g>\n       <use style=\"stroke:#000000;stroke-width:0.8;\" x=\"364.054261\" xlink:href=\"#m732d38757d\" y=\"103.858122\"/>\n      </g>\n     </g>\n     <g id=\"text_33\">\n      <!-- 0.200 -->\n      <g transform=\"translate(328.426136 107.657341)scale(0.1 -0.1)\">\n       <use xlink:href=\"#DejaVuSans-48\"/>\n       <use x=\"63.623047\" xlink:href=\"#DejaVuSans-46\"/>\n       <use x=\"95.410156\" xlink:href=\"#DejaVuSans-50\"/>\n       <use x=\"159.033203\" xlink:href=\"#DejaVuSans-48\"/>\n       <use x=\"222.65625\" xlink:href=\"#DejaVuSans-48\"/>\n      </g>\n     </g>\n    </g>\n    <g id=\"ytick_16\">\n     <g id=\"line2d_34\">\n      <g>\n       <use style=\"stroke:#000000;stroke-width:0.8;\" x=\"364.054261\" xlink:href=\"#m732d38757d\" y=\"66.519939\"/>\n      </g>\n     </g>\n     <g id=\"text_34\">\n      <!-- 0.225 -->\n      <g transform=\"translate(328.426136 70.319158)scale(0.1 -0.1)\">\n       <use xlink:href=\"#DejaVuSans-48\"/>\n       <use x=\"63.623047\" xlink:href=\"#DejaVuSans-46\"/>\n       <use x=\"95.410156\" xlink:href=\"#DejaVuSans-50\"/>\n       <use x=\"159.033203\" xlink:href=\"#DejaVuSans-50\"/>\n       <use x=\"222.65625\" xlink:href=\"#DejaVuSans-53\"/>\n      </g>\n     </g>\n    </g>\n    <g id=\"ytick_17\">\n     <g id=\"line2d_35\">\n      <g>\n       <use style=\"stroke:#000000;stroke-width:0.8;\" x=\"364.054261\" xlink:href=\"#m732d38757d\" y=\"29.181756\"/>\n      </g>\n     </g>\n     <g id=\"text_35\">\n      <!-- 0.250 -->\n      <g transform=\"translate(328.426136 32.980975)scale(0.1 -0.1)\">\n       <use xlink:href=\"#DejaVuSans-48\"/>\n       <use x=\"63.623047\" xlink:href=\"#DejaVuSans-46\"/>\n       <use x=\"95.410156\" xlink:href=\"#DejaVuSans-50\"/>\n       <use x=\"159.033203\" xlink:href=\"#DejaVuSans-53\"/>\n       <use x=\"222.65625\" xlink:href=\"#DejaVuSans-48\"/>\n      </g>\n     </g>\n    </g>\n    <g id=\"text_36\">\n     <!-- accuracy -->\n     <defs>\n      <path d=\"M 32.171875 -5.078125 \nQ 28.375 -14.84375 24.75 -17.8125 \nQ 21.140625 -20.796875 15.09375 -20.796875 \nL 7.90625 -20.796875 \nL 7.90625 -13.28125 \nL 13.1875 -13.28125 \nQ 16.890625 -13.28125 18.9375 -11.515625 \nQ 21 -9.765625 23.484375 -3.21875 \nL 25.09375 0.875 \nL 2.984375 54.6875 \nL 12.5 54.6875 \nL 29.59375 11.921875 \nL 46.6875 54.6875 \nL 56.203125 54.6875 \nz\n\" id=\"DejaVuSans-121\"/>\n     </defs>\n     <g transform=\"translate(322.346449 180.7775)rotate(-90)scale(0.1 -0.1)\">\n      <use xlink:href=\"#DejaVuSans-97\"/>\n      <use x=\"61.279297\" xlink:href=\"#DejaVuSans-99\"/>\n      <use x=\"116.259766\" xlink:href=\"#DejaVuSans-99\"/>\n      <use x=\"171.240234\" xlink:href=\"#DejaVuSans-117\"/>\n      <use x=\"234.619141\" xlink:href=\"#DejaVuSans-114\"/>\n      <use x=\"275.732422\" xlink:href=\"#DejaVuSans-97\"/>\n      <use x=\"337.011719\" xlink:href=\"#DejaVuSans-99\"/>\n      <use x=\"391.992188\" xlink:href=\"#DejaVuSans-121\"/>\n     </g>\n    </g>\n   </g>\n   <g id=\"line2d_36\">\n    <path clip-path=\"url(#pcc2abbb0cb)\" d=\"M 375.583187 213.147267 \nL 379.775524 191.343936 \nL 383.96786 211.784553 \nL 388.160197 206.33372 \nL 392.352533 203.608315 \nL 396.54487 179.079579 \nL 400.737207 196.794768 \nL 404.929543 215.872672 \nL 409.12188 209.059125 \nL 413.314216 195.432055 \nL 417.506553 169.540627 \nL 421.698889 149.10001 \nL 425.891226 166.815199 \nL 430.083563 174.99146 \nL 434.275899 207.696434 \nL 438.468236 194.069363 \nL 442.660572 179.079579 \nL 446.852909 168.177913 \nL 451.045246 146.374604 \nL 455.237582 160.001675 \nL 459.429919 162.72708 \nL 463.622255 198.157482 \nL 467.814592 166.815199 \nL 472.006929 128.659392 \nL 476.199265 109.581489 \nL 480.391602 130.022106 \nL 484.583938 142.286463 \nL 488.776275 125.933987 \nL 492.968611 85.052753 \nL 497.160948 142.286463 \nL 501.353285 146.374604 \nL 505.545621 192.706649 \nL 509.737958 113.669608 \nL 513.930294 106.856084 \nL 518.122631 124.571273 \nL 522.314968 116.395035 \nL 526.507304 143.649177 \nL 530.699641 125.933987 \nL 534.891977 112.306916 \nL 539.084314 100.042537 \nL 543.276651 41.446113 \nL 547.468987 135.472939 \nL 551.661324 132.747511 \nL 555.85366 121.845868 \nL 560.045997 146.374604 \nL 564.238333 132.747511 \nL 568.43067 162.72708 \nL 572.623007 145.011891 \nL 576.815343 97.317132 \nL 581.00768 70.062968 \nL 585.200016 102.767965 \nL 589.392353 90.503585 \nL 593.58469 83.690061 \nL 597.777026 82.327347 \nL 601.969363 86.415466 \nL 606.161699 123.20856 \n\" style=\"fill:none;stroke:#1f77b4;stroke-linecap:square;stroke-width:1.5;\"/>\n   </g>\n   <g id=\"line2d_37\">\n    <path clip-path=\"url(#pcc2abbb0cb)\" d=\"M 375.583187 232.345404 \nL 379.775524 237.836308 \nL 383.96786 259.799944 \nL 388.160197 281.76358 \nL 392.352533 204.890843 \nL 396.54487 204.890843 \nL 400.737207 243.327222 \nL 404.929543 248.818126 \nL 409.12188 193.909036 \nL 413.314216 237.836308 \nL 417.506553 254.30904 \nL 421.698889 237.836308 \nL 425.891226 276.272676 \nL 430.083563 210.381757 \nL 434.275899 210.381757 \nL 438.468236 155.472679 \nL 442.660572 95.072664 \nL 446.852909 122.527214 \nL 451.045246 138.999935 \nL 455.237582 188.418122 \nL 459.429919 149.981764 \nL 463.622255 111.545385 \nL 467.814592 237.836308 \nL 472.006929 226.85449 \nL 476.199265 138.999935 \nL 480.391602 210.381757 \nL 484.583938 133.509043 \nL 488.776275 155.472679 \nL 492.968611 155.472679 \nL 497.160948 155.472679 \nL 501.353285 215.872672 \nL 505.545621 254.30904 \nL 509.737958 188.418122 \nL 513.930294 84.090857 \nL 518.122631 40.163585 \nL 522.314968 34.67267 \nL 526.507304 177.436315 \nL 530.699641 160.963571 \nL 534.891977 243.327222 \nL 539.084314 56.636306 \nL 543.276651 106.054493 \nL 547.468987 226.85449 \nL 551.661324 188.418122 \nL 555.85366 215.872672 \nL 560.045997 210.381757 \nL 564.238333 122.527214 \nL 568.43067 254.30904 \nL 572.623007 215.872672 \nL 576.815343 128.018128 \nL 581.00768 138.999935 \nL 585.200016 149.981764 \nL 589.392353 84.090857 \nL 593.58469 34.67267 \nL 597.777026 84.090857 \nL 601.969363 73.109028 \nL 606.161699 232.345404 \n\" style=\"fill:none;stroke:#ff7f0e;stroke-linecap:square;stroke-width:1.5;\"/>\n   </g>\n   <g id=\"patch_9\">\n    <path d=\"M 364.054261 294.118125 \nL 364.054261 22.318125 \n\" style=\"fill:none;stroke:#000000;stroke-linecap:square;stroke-linejoin:miter;stroke-width:0.8;\"/>\n   </g>\n   <g id=\"patch_10\">\n    <path d=\"M 617.690625 294.118125 \nL 617.690625 22.318125 \n\" style=\"fill:none;stroke:#000000;stroke-linecap:square;stroke-linejoin:miter;stroke-width:0.8;\"/>\n   </g>\n   <g id=\"patch_11\">\n    <path d=\"M 364.054261 294.118125 \nL 617.690625 294.118125 \n\" style=\"fill:none;stroke:#000000;stroke-linecap:square;stroke-linejoin:miter;stroke-width:0.8;\"/>\n   </g>\n   <g id=\"patch_12\">\n    <path d=\"M 364.054261 22.318125 \nL 617.690625 22.318125 \n\" style=\"fill:none;stroke:#000000;stroke-linecap:square;stroke-linejoin:miter;stroke-width:0.8;\"/>\n   </g>\n   <g id=\"text_37\">\n    <!-- Accuracy -->\n    <defs>\n     <path d=\"M 34.1875 63.1875 \nL 20.796875 26.90625 \nL 47.609375 26.90625 \nz\nM 28.609375 72.90625 \nL 39.796875 72.90625 \nL 67.578125 0 \nL 57.328125 0 \nL 50.6875 18.703125 \nL 17.828125 18.703125 \nL 11.1875 0 \nL 0.78125 0 \nz\n\" id=\"DejaVuSans-65\"/>\n    </defs>\n    <g transform=\"translate(463.478693 16.318125)scale(0.12 -0.12)\">\n     <use xlink:href=\"#DejaVuSans-65\"/>\n     <use x=\"66.658203\" xlink:href=\"#DejaVuSans-99\"/>\n     <use x=\"121.638672\" xlink:href=\"#DejaVuSans-99\"/>\n     <use x=\"176.619141\" xlink:href=\"#DejaVuSans-117\"/>\n     <use x=\"239.998047\" xlink:href=\"#DejaVuSans-114\"/>\n     <use x=\"281.111328\" xlink:href=\"#DejaVuSans-97\"/>\n     <use x=\"342.390625\" xlink:href=\"#DejaVuSans-99\"/>\n     <use x=\"397.371094\" xlink:href=\"#DejaVuSans-121\"/>\n    </g>\n   </g>\n   <g id=\"legend_2\">\n    <g id=\"patch_13\">\n     <path d=\"M 371.054261 59.674375 \nL 452.288636 59.674375 \nQ 454.288636 59.674375 454.288636 57.674375 \nL 454.288636 29.318125 \nQ 454.288636 27.318125 452.288636 27.318125 \nL 371.054261 27.318125 \nQ 369.054261 27.318125 369.054261 29.318125 \nL 369.054261 57.674375 \nQ 369.054261 59.674375 371.054261 59.674375 \nz\n\" style=\"fill:#ffffff;opacity:0.8;stroke:#cccccc;stroke-linejoin:miter;\"/>\n    </g>\n    <g id=\"line2d_38\">\n     <path d=\"M 373.054261 35.416562 \nL 393.054261 35.416562 \n\" style=\"fill:none;stroke:#1f77b4;stroke-linecap:square;stroke-width:1.5;\"/>\n    </g>\n    <g id=\"line2d_39\"/>\n    <g id=\"text_38\">\n     <!-- train -->\n     <g transform=\"translate(401.054261 38.916562)scale(0.1 -0.1)\">\n      <use xlink:href=\"#DejaVuSans-116\"/>\n      <use x=\"39.208984\" xlink:href=\"#DejaVuSans-114\"/>\n      <use x=\"80.322266\" xlink:href=\"#DejaVuSans-97\"/>\n      <use x=\"141.601562\" xlink:href=\"#DejaVuSans-105\"/>\n      <use x=\"169.384766\" xlink:href=\"#DejaVuSans-110\"/>\n     </g>\n    </g>\n    <g id=\"line2d_40\">\n     <path d=\"M 373.054261 50.094688 \nL 393.054261 50.094688 \n\" style=\"fill:none;stroke:#ff7f0e;stroke-linecap:square;stroke-width:1.5;\"/>\n    </g>\n    <g id=\"line2d_41\"/>\n    <g id=\"text_39\">\n     <!-- validation -->\n     <g transform=\"translate(401.054261 53.594688)scale(0.1 -0.1)\">\n      <use xlink:href=\"#DejaVuSans-118\"/>\n      <use x=\"59.179688\" xlink:href=\"#DejaVuSans-97\"/>\n      <use x=\"120.458984\" xlink:href=\"#DejaVuSans-108\"/>\n      <use x=\"148.242188\" xlink:href=\"#DejaVuSans-105\"/>\n      <use x=\"176.025391\" xlink:href=\"#DejaVuSans-100\"/>\n      <use x=\"239.501953\" xlink:href=\"#DejaVuSans-97\"/>\n      <use x=\"300.78125\" xlink:href=\"#DejaVuSans-116\"/>\n      <use x=\"339.990234\" xlink:href=\"#DejaVuSans-105\"/>\n      <use x=\"367.773438\" xlink:href=\"#DejaVuSans-111\"/>\n      <use x=\"428.955078\" xlink:href=\"#DejaVuSans-110\"/>\n     </g>\n    </g>\n   </g>\n  </g>\n </g>\n <defs>\n  <clipPath id=\"peddc2678c0\">\n   <rect height=\"271.8\" width=\"253.636364\" x=\"59.690625\" y=\"22.318125\"/>\n  </clipPath>\n  <clipPath id=\"pcc2abbb0cb\">\n   <rect height=\"271.8\" width=\"253.636364\" x=\"364.054261\" y=\"22.318125\"/>\n  </clipPath>\n </defs>\n</svg>\n"
          },
          "metadata": {
            "needs_background": "light"
          }
        }
      ],
      "source": [
        "# let's plot the loss and accuracy \n",
        "\n",
        "# get the training and validation accuracy from the history object\n",
        "train_acc = history1.history['accuracy']\n",
        "valid_acc = history1.history['val_accuracy']\n",
        "\n",
        "# get the loss\n",
        "train_loss = history1.history['loss']\n",
        "valid_loss = history1.history['val_loss']\n",
        "\n",
        "# get the number of entries\n",
        "xvalues = np.arange(len(train_acc))\n",
        "\n",
        "# visualize\n",
        "f,ax = plt.subplots(1,2, figsize=(10,5))\n",
        "ax[0].plot(xvalues, train_loss)\n",
        "ax[0].plot(xvalues, valid_loss)\n",
        "ax[0].set_title(\"Loss curve\")\n",
        "ax[0].set_xlabel(\"Epoch\")\n",
        "ax[0].set_ylabel(\"loss\")\n",
        "ax[0].legend(['train', 'validation'])\n",
        "\n",
        "ax[1].plot(xvalues, train_acc)\n",
        "ax[1].plot(xvalues, valid_acc)\n",
        "ax[1].set_title(\"Accuracy\")\n",
        "ax[1].set_xlabel(\"Epoch\")\n",
        "ax[1].set_ylabel(\"accuracy\")\n",
        "ax[1].legend(['train', 'validation'])\n",
        "\n",
        "plt.show()"
      ]
    },
    {
      "cell_type": "code",
      "execution_count": 23,
      "metadata": {
        "id": "QbyCEgjOm_oJ",
        "colab": {
          "base_uri": "https://localhost:8080/"
        },
        "outputId": "d325be22-928e-44b7-c136-913d0ce48913"
      },
      "outputs": [
        {
          "output_type": "stream",
          "name": "stderr",
          "text": [
            "<ipython-input-23-e428c4fc796b>:2: UserWarning: `Model.evaluate_generator` is deprecated and will be removed in a future version. Please use `Model.evaluate`, which supports generators.\n",
            "  valid_loss, valid_acc = model.evaluate_generator(valid_data_gen, steps=num_valid_steps)\n"
          ]
        },
        {
          "output_type": "stream",
          "name": "stdout",
          "text": [
            "Final validation accuracy: 24.63%\n"
          ]
        }
      ],
      "source": [
        "# What is the final loss and accuracy on our validation data?\n",
        "valid_loss, valid_acc = model.evaluate_generator(valid_data_gen, steps=num_valid_steps)\n",
        "print(f\"Final validation accuracy: {valid_acc*100:.2f}%\")"
      ]
    },
    {
      "cell_type": "code",
      "execution_count": 24,
      "metadata": {
        "id": "xtftPiu_m_oK",
        "colab": {
          "base_uri": "https://localhost:8080/"
        },
        "outputId": "150e9e20-cf58-4d66-daee-2ccfea1c914d"
      },
      "outputs": [
        {
          "output_type": "stream",
          "name": "stdout",
          "text": [
            "Model: \"model_1\"\n",
            "_________________________________________________________________\n",
            " Layer (type)                Output Shape              Param #   \n",
            "=================================================================\n",
            " input_1 (InputLayer)        [(None, 224, 224, 3)]     0         \n",
            "                                                                 \n",
            " conv2d (Conv2D)             (None, 224, 224, 64)      3136      \n",
            "                                                                 \n",
            " max_pooling2d (MaxPooling2D  (None, 112, 112, 64)     0         \n",
            " )                                                               \n",
            "                                                                 \n",
            " conv2d_1 (Conv2D)           (None, 112, 112, 128)     131200    \n",
            "                                                                 \n",
            " max_pooling2d_1 (MaxPooling  (None, 56, 56, 128)      0         \n",
            " 2D)                                                             \n",
            "                                                                 \n",
            " conv2d_2 (Conv2D)           (None, 56, 56, 256)       524544    \n",
            "                                                                 \n",
            " max_pooling2d_2 (MaxPooling  (None, 28, 28, 256)      0         \n",
            " 2D)                                                             \n",
            "                                                                 \n",
            " conv2d_3 (Conv2D)           (None, 28, 28, 512)       2097664   \n",
            "                                                                 \n",
            " max_pooling2d_3 (MaxPooling  (None, 14, 14, 512)      0         \n",
            " 2D)                                                             \n",
            "                                                                 \n",
            " conv2d_4 (Conv2D)           (None, 14, 14, 512)       4194816   \n",
            "                                                                 \n",
            " conv2d_5 (Conv2D)           (None, 14, 14, 512)       4194816   \n",
            "                                                                 \n",
            " max_pooling2d_4 (MaxPooling  (None, 7, 7, 512)        0         \n",
            " 2D)                                                             \n",
            "                                                                 \n",
            " flatten (Flatten)           (None, 25088)             0         \n",
            "                                                                 \n",
            " dense (Dense)               (None, 4096)              102764544 \n",
            "                                                                 \n",
            " dense_1 (Dense)             (None, 4096)              16781312  \n",
            "                                                                 \n",
            " dropout (Dropout)           (None, 4096)              0         \n",
            "                                                                 \n",
            " dense_2 (Dense)             (None, 10)                40970     \n",
            "                                                                 \n",
            "=================================================================\n",
            "Total params: 130,733,002\n",
            "Trainable params: 0\n",
            "Non-trainable params: 130,733,002\n",
            "_________________________________________________________________\n"
          ]
        }
      ],
      "source": [
        "outputs = [layer.output for layer in model.layers[1:18]]\n",
        "\n",
        "vis_model = Model(model.input, outputs)\n",
        "\n",
        "for layer in vis_model.layers:\n",
        "  layer.trainable = False\n",
        "\n",
        "vis_model.summary()"
      ]
    },
    {
      "cell_type": "code",
      "execution_count": 25,
      "metadata": {
        "id": "SBwGla4tm_oK",
        "colab": {
          "base_uri": "https://localhost:8080/"
        },
        "outputId": "21ede87b-44a2-4eb4-e411-3cd00f0cb5ec"
      },
      "outputs": [
        {
          "output_type": "stream",
          "name": "stdout",
          "text": [
            "Layers going to be used for visualization: \n",
            "['conv2d', 'max_pooling2d', 'conv2d_1', 'max_pooling2d_1', 'conv2d_2', 'max_pooling2d_2', 'conv2d_3', 'max_pooling2d_3', 'conv2d_4', 'conv2d_5', 'max_pooling2d_4', 'flatten', 'dense', 'dense_1', 'dropout', 'dense_2']\n"
          ]
        }
      ],
      "source": [
        "# store the layer names we are interested in\n",
        "layer_names = []\n",
        "for layer in outputs:\n",
        "    layer_names.append(layer.name.split(\"/\")[0])\n",
        "\n",
        "    \n",
        "print(\"Layers going to be used for visualization: \")\n",
        "print(layer_names)"
      ]
    },
    {
      "cell_type": "code",
      "source": [
        "print( f'layer_names [before]: {layer_names}' )\n",
        "\n",
        "layer_names_temp = layer_names\n",
        "layer_names = list()\n",
        "for layer in layer_names_temp:\n",
        "\n",
        "  if 'conv' in layer:\n",
        "    # print(layer)\n",
        "    layer_names.append( layer )\n",
        "\n",
        "print( '=========================================' )\n",
        "print( f'layer_names [after]: {layer_names}' )"
      ],
      "metadata": {
        "colab": {
          "base_uri": "https://localhost:8080/"
        },
        "id": "N71NRlVBrVkI",
        "outputId": "d15f513e-9792-4f8f-e1d5-192f95ed26df"
      },
      "execution_count": 26,
      "outputs": [
        {
          "output_type": "stream",
          "name": "stdout",
          "text": [
            "layer_names [before]: ['conv2d', 'max_pooling2d', 'conv2d_1', 'max_pooling2d_1', 'conv2d_2', 'max_pooling2d_2', 'conv2d_3', 'max_pooling2d_3', 'conv2d_4', 'conv2d_5', 'max_pooling2d_4', 'flatten', 'dense', 'dense_1', 'dropout', 'dense_2']\n",
            "=========================================\n",
            "layer_names [after]: ['conv2d', 'conv2d_1', 'conv2d_2', 'conv2d_3', 'conv2d_4', 'conv2d_5']\n"
          ]
        }
      ]
    },
    {
      "cell_type": "code",
      "execution_count": 27,
      "metadata": {
        "id": "GTk3zuOem_oL"
      },
      "outputs": [],
      "source": [
        "def get_CAM(processed_image, predicted_label):\n",
        "    \"\"\"\n",
        "    This function is used to generate a heatmap for a sample image prediction.\n",
        "    \n",
        "    Args:\n",
        "        processed_image: any sample image that has been pre-processed using the \n",
        "                       `preprocess_input()`method of a keras model\n",
        "        predicted_label: label that has been predicted by the network for this image\n",
        "    \n",
        "    Returns:\n",
        "        heatmap: heatmap generated over the last convolution layer output \n",
        "    \"\"\"\n",
        "    # we want the activations for the predicted label\n",
        "    predicted_output = model.output[:, predicted_label]\n",
        "    \n",
        "    # choose the last conv layer in your model\n",
        "    # last_conv_layer = model.get_layer('block5_conv3')\n",
        "    last_conv_layer = model.get_layer(layer_names[-1])\n",
        "    \n",
        "    # get the gradients wrt to the last conv layer\n",
        "    grads = K.gradients(predicted_output, last_conv_layer.output)[0]\n",
        "    \n",
        "    # take mean gradient per feature map\n",
        "    grads = K.mean(grads, axis=(0,1,2)) # GAP - Global Average Pooling\n",
        "    \n",
        "    # Define a function that generates the values for the output and gradients\n",
        "    evaluation_function = K.function([model.input], [grads, last_conv_layer.output[0]])\n",
        "    \n",
        "    # get the values\n",
        "    grads_values, conv_ouput_values = evaluation_function([processed_image])\n",
        "    \n",
        "    # CAM - Class Activation Map\n",
        "    # iterate over each feature map in yout conv output and multiply\n",
        "    # the gradient values with the conv output values. This gives an \n",
        "    # indication of \"how important a feature is\"\n",
        "    # for i in range(512): # we have 512 features in our last conv layer\n",
        "    for i in range(conv_ouput_values.shape[2]): # daniel\n",
        "        conv_ouput_values[:,:,i] *= grads_values[i]\n",
        "    \n",
        "    # create a heatmap\n",
        "    heatmap = np.mean(conv_ouput_values, axis=-1)\n",
        "    \n",
        "    # remove negative values\n",
        "    heatmap = np.maximum(heatmap, 0)\n",
        "    \n",
        "    # normalize\n",
        "    heatmap /= heatmap.max()\n",
        "    \n",
        "    return heatmap"
      ]
    },
    {
      "cell_type": "code",
      "source": [
        "idx = 0"
      ],
      "metadata": {
        "id": "zeXWpNlapUFx"
      },
      "execution_count": 28,
      "outputs": []
    },
    {
      "cell_type": "code",
      "execution_count": 29,
      "metadata": {
        "id": "tX1madjMm_oO",
        "colab": {
          "base_uri": "https://localhost:8080/",
          "height": 303
        },
        "outputId": "e6249b9a-59c3-469e-b63e-b0eefa42e803"
      },
      "outputs": [
        {
          "output_type": "stream",
          "name": "stderr",
          "text": [
            "/usr/local/lib/python3.8/dist-packages/keras/engine/training_v1.py:2067: UserWarning: `Model.state_updates` will be removed in a future version. This property should not be used in TensorFlow 2.0, as `updates` are applied automatically.\n",
            "  updates=self.state_updates,\n"
          ]
        },
        {
          "output_type": "display_data",
          "data": {
            "text/plain": [
              "<Figure size 576x576 with 3 Axes>"
            ],
            "image/svg+xml": "<?xml version=\"1.0\" encoding=\"utf-8\" standalone=\"no\"?>\n<!DOCTYPE svg PUBLIC \"-//W3C//DTD SVG 1.1//EN\"\n  \"http://www.w3.org/Graphics/SVG/1.1/DTD/svg11.dtd\">\n<!-- Created with matplotlib (https://matplotlib.org/) -->\n<svg height=\"170.490368pt\" version=\"1.1\" viewBox=\"0 0 469.913097 170.490368\" width=\"469.913097pt\" xmlns=\"http://www.w3.org/2000/svg\" xmlns:xlink=\"http://www.w3.org/1999/xlink\">\n <defs>\n  <style type=\"text/css\">\n*{stroke-linecap:butt;stroke-linejoin:round;}\n  </style>\n </defs>\n <g id=\"figure_1\">\n  <g id=\"patch_1\">\n   <path d=\"M 0 170.490368 \nL 469.913097 170.490368 \nL 469.913097 0 \nL 0 0 \nz\n\" style=\"fill:none;\"/>\n  </g>\n  <g id=\"axes_1\">\n   <g clip-path=\"url(#pcce86f5fd8)\">\n    <image height=\"132\" id=\"image77b9d26d6d\" transform=\"scale(1 -1)translate(0 -132)\" width=\"132\" x=\"7.2\" xlink:href=\"data:image/png;base64,\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\" y=\"-31.290368\"/>\n   </g>\n   <g id=\"text_1\">\n    <!-- True label: 7  -->\n    <defs>\n     <path d=\"M -0.296875 72.90625 \nL 61.375 72.90625 \nL 61.375 64.59375 \nL 35.5 64.59375 \nL 35.5 0 \nL 25.59375 0 \nL 25.59375 64.59375 \nL -0.296875 64.59375 \nz\n\" id=\"DejaVuSans-84\"/>\n     <path d=\"M 41.109375 46.296875 \nQ 39.59375 47.171875 37.8125 47.578125 \nQ 36.03125 48 33.890625 48 \nQ 26.265625 48 22.1875 43.046875 \nQ 18.109375 38.09375 18.109375 28.8125 \nL 18.109375 0 \nL 9.078125 0 \nL 9.078125 54.6875 \nL 18.109375 54.6875 \nL 18.109375 46.1875 \nQ 20.953125 51.171875 25.484375 53.578125 \nQ 30.03125 56 36.53125 56 \nQ 37.453125 56 38.578125 55.875 \nQ 39.703125 55.765625 41.0625 55.515625 \nz\n\" id=\"DejaVuSans-114\"/>\n     <path d=\"M 8.5 21.578125 \nL 8.5 54.6875 \nL 17.484375 54.6875 \nL 17.484375 21.921875 \nQ 17.484375 14.15625 20.5 10.265625 \nQ 23.53125 6.390625 29.59375 6.390625 \nQ 36.859375 6.390625 41.078125 11.03125 \nQ 45.3125 15.671875 45.3125 23.6875 \nL 45.3125 54.6875 \nL 54.296875 54.6875 \nL 54.296875 0 \nL 45.3125 0 \nL 45.3125 8.40625 \nQ 42.046875 3.421875 37.71875 1 \nQ 33.40625 -1.421875 27.6875 -1.421875 \nQ 18.265625 -1.421875 13.375 4.4375 \nQ 8.5 10.296875 8.5 21.578125 \nz\nM 31.109375 56 \nz\n\" id=\"DejaVuSans-117\"/>\n     <path d=\"M 56.203125 29.59375 \nL 56.203125 25.203125 \nL 14.890625 25.203125 \nQ 15.484375 15.921875 20.484375 11.0625 \nQ 25.484375 6.203125 34.421875 6.203125 \nQ 39.59375 6.203125 44.453125 7.46875 \nQ 49.3125 8.734375 54.109375 11.28125 \nL 54.109375 2.78125 \nQ 49.265625 0.734375 44.1875 -0.34375 \nQ 39.109375 -1.421875 33.890625 -1.421875 \nQ 20.796875 -1.421875 13.15625 6.1875 \nQ 5.515625 13.8125 5.515625 26.8125 \nQ 5.515625 40.234375 12.765625 48.109375 \nQ 20.015625 56 32.328125 56 \nQ 43.359375 56 49.78125 48.890625 \nQ 56.203125 41.796875 56.203125 29.59375 \nz\nM 47.21875 32.234375 \nQ 47.125 39.59375 43.09375 43.984375 \nQ 39.0625 48.390625 32.421875 48.390625 \nQ 24.90625 48.390625 20.390625 44.140625 \nQ 15.875 39.890625 15.1875 32.171875 \nz\n\" id=\"DejaVuSans-101\"/>\n     <path id=\"DejaVuSans-32\"/>\n     <path d=\"M 9.421875 75.984375 \nL 18.40625 75.984375 \nL 18.40625 0 \nL 9.421875 0 \nz\n\" id=\"DejaVuSans-108\"/>\n     <path d=\"M 34.28125 27.484375 \nQ 23.390625 27.484375 19.1875 25 \nQ 14.984375 22.515625 14.984375 16.5 \nQ 14.984375 11.71875 18.140625 8.90625 \nQ 21.296875 6.109375 26.703125 6.109375 \nQ 34.1875 6.109375 38.703125 11.40625 \nQ 43.21875 16.703125 43.21875 25.484375 \nL 43.21875 27.484375 \nz\nM 52.203125 31.203125 \nL 52.203125 0 \nL 43.21875 0 \nL 43.21875 8.296875 \nQ 40.140625 3.328125 35.546875 0.953125 \nQ 30.953125 -1.421875 24.3125 -1.421875 \nQ 15.921875 -1.421875 10.953125 3.296875 \nQ 6 8.015625 6 15.921875 \nQ 6 25.140625 12.171875 29.828125 \nQ 18.359375 34.515625 30.609375 34.515625 \nL 43.21875 34.515625 \nL 43.21875 35.40625 \nQ 43.21875 41.609375 39.140625 45 \nQ 35.0625 48.390625 27.6875 48.390625 \nQ 23 48.390625 18.546875 47.265625 \nQ 14.109375 46.140625 10.015625 43.890625 \nL 10.015625 52.203125 \nQ 14.9375 54.109375 19.578125 55.046875 \nQ 24.21875 56 28.609375 56 \nQ 40.484375 56 46.34375 49.84375 \nQ 52.203125 43.703125 52.203125 31.203125 \nz\n\" id=\"DejaVuSans-97\"/>\n     <path d=\"M 48.6875 27.296875 \nQ 48.6875 37.203125 44.609375 42.84375 \nQ 40.53125 48.484375 33.40625 48.484375 \nQ 26.265625 48.484375 22.1875 42.84375 \nQ 18.109375 37.203125 18.109375 27.296875 \nQ 18.109375 17.390625 22.1875 11.75 \nQ 26.265625 6.109375 33.40625 6.109375 \nQ 40.53125 6.109375 44.609375 11.75 \nQ 48.6875 17.390625 48.6875 27.296875 \nz\nM 18.109375 46.390625 \nQ 20.953125 51.265625 25.265625 53.625 \nQ 29.59375 56 35.59375 56 \nQ 45.5625 56 51.78125 48.09375 \nQ 58.015625 40.1875 58.015625 27.296875 \nQ 58.015625 14.40625 51.78125 6.484375 \nQ 45.5625 -1.421875 35.59375 -1.421875 \nQ 29.59375 -1.421875 25.265625 0.953125 \nQ 20.953125 3.328125 18.109375 8.203125 \nL 18.109375 0 \nL 9.078125 0 \nL 9.078125 75.984375 \nL 18.109375 75.984375 \nz\n\" id=\"DejaVuSans-98\"/>\n     <path d=\"M 11.71875 12.40625 \nL 22.015625 12.40625 \nL 22.015625 0 \nL 11.71875 0 \nz\nM 11.71875 51.703125 \nL 22.015625 51.703125 \nL 22.015625 39.3125 \nL 11.71875 39.3125 \nz\n\" id=\"DejaVuSans-58\"/>\n     <path d=\"M 8.203125 72.90625 \nL 55.078125 72.90625 \nL 55.078125 68.703125 \nL 28.609375 0 \nL 18.3125 0 \nL 43.21875 64.59375 \nL 8.203125 64.59375 \nz\n\" id=\"DejaVuSans-55\"/>\n    </defs>\n    <g transform=\"translate(40.50409 14.798437)scale(0.1 -0.1)\">\n     <use xlink:href=\"#DejaVuSans-84\"/>\n     <use x=\"46.333984\" xlink:href=\"#DejaVuSans-114\"/>\n     <use x=\"87.447266\" xlink:href=\"#DejaVuSans-117\"/>\n     <use x=\"150.826172\" xlink:href=\"#DejaVuSans-101\"/>\n     <use x=\"212.349609\" xlink:href=\"#DejaVuSans-32\"/>\n     <use x=\"244.136719\" xlink:href=\"#DejaVuSans-108\"/>\n     <use x=\"271.919922\" xlink:href=\"#DejaVuSans-97\"/>\n     <use x=\"333.199219\" xlink:href=\"#DejaVuSans-98\"/>\n     <use x=\"396.675781\" xlink:href=\"#DejaVuSans-101\"/>\n     <use x=\"458.199219\" xlink:href=\"#DejaVuSans-108\"/>\n     <use x=\"485.982422\" xlink:href=\"#DejaVuSans-58\"/>\n     <use x=\"519.673828\" xlink:href=\"#DejaVuSans-32\"/>\n     <use x=\"551.460938\" xlink:href=\"#DejaVuSans-55\"/>\n     <use x=\"615.083984\" xlink:href=\"#DejaVuSans-32\"/>\n    </g>\n    <!--  Predicted label: 0 -->\n    <defs>\n     <path d=\"M 19.671875 64.796875 \nL 19.671875 37.40625 \nL 32.078125 37.40625 \nQ 38.96875 37.40625 42.71875 40.96875 \nQ 46.484375 44.53125 46.484375 51.125 \nQ 46.484375 57.671875 42.71875 61.234375 \nQ 38.96875 64.796875 32.078125 64.796875 \nz\nM 9.8125 72.90625 \nL 32.078125 72.90625 \nQ 44.34375 72.90625 50.609375 67.359375 \nQ 56.890625 61.8125 56.890625 51.125 \nQ 56.890625 40.328125 50.609375 34.8125 \nQ 44.34375 29.296875 32.078125 29.296875 \nL 19.671875 29.296875 \nL 19.671875 0 \nL 9.8125 0 \nz\n\" id=\"DejaVuSans-80\"/>\n     <path d=\"M 45.40625 46.390625 \nL 45.40625 75.984375 \nL 54.390625 75.984375 \nL 54.390625 0 \nL 45.40625 0 \nL 45.40625 8.203125 \nQ 42.578125 3.328125 38.25 0.953125 \nQ 33.9375 -1.421875 27.875 -1.421875 \nQ 17.96875 -1.421875 11.734375 6.484375 \nQ 5.515625 14.40625 5.515625 27.296875 \nQ 5.515625 40.1875 11.734375 48.09375 \nQ 17.96875 56 27.875 56 \nQ 33.9375 56 38.25 53.625 \nQ 42.578125 51.265625 45.40625 46.390625 \nz\nM 14.796875 27.296875 \nQ 14.796875 17.390625 18.875 11.75 \nQ 22.953125 6.109375 30.078125 6.109375 \nQ 37.203125 6.109375 41.296875 11.75 \nQ 45.40625 17.390625 45.40625 27.296875 \nQ 45.40625 37.203125 41.296875 42.84375 \nQ 37.203125 48.484375 30.078125 48.484375 \nQ 22.953125 48.484375 18.875 42.84375 \nQ 14.796875 37.203125 14.796875 27.296875 \nz\n\" id=\"DejaVuSans-100\"/>\n     <path d=\"M 9.421875 54.6875 \nL 18.40625 54.6875 \nL 18.40625 0 \nL 9.421875 0 \nz\nM 9.421875 75.984375 \nL 18.40625 75.984375 \nL 18.40625 64.59375 \nL 9.421875 64.59375 \nz\n\" id=\"DejaVuSans-105\"/>\n     <path d=\"M 48.78125 52.59375 \nL 48.78125 44.1875 \nQ 44.96875 46.296875 41.140625 47.34375 \nQ 37.3125 48.390625 33.40625 48.390625 \nQ 24.65625 48.390625 19.8125 42.84375 \nQ 14.984375 37.3125 14.984375 27.296875 \nQ 14.984375 17.28125 19.8125 11.734375 \nQ 24.65625 6.203125 33.40625 6.203125 \nQ 37.3125 6.203125 41.140625 7.25 \nQ 44.96875 8.296875 48.78125 10.40625 \nL 48.78125 2.09375 \nQ 45.015625 0.34375 40.984375 -0.53125 \nQ 36.96875 -1.421875 32.421875 -1.421875 \nQ 20.0625 -1.421875 12.78125 6.34375 \nQ 5.515625 14.109375 5.515625 27.296875 \nQ 5.515625 40.671875 12.859375 48.328125 \nQ 20.21875 56 33.015625 56 \nQ 37.15625 56 41.109375 55.140625 \nQ 45.0625 54.296875 48.78125 52.59375 \nz\n\" id=\"DejaVuSans-99\"/>\n     <path d=\"M 18.3125 70.21875 \nL 18.3125 54.6875 \nL 36.8125 54.6875 \nL 36.8125 47.703125 \nL 18.3125 47.703125 \nL 18.3125 18.015625 \nQ 18.3125 11.328125 20.140625 9.421875 \nQ 21.96875 7.515625 27.59375 7.515625 \nL 36.8125 7.515625 \nL 36.8125 0 \nL 27.59375 0 \nQ 17.1875 0 13.234375 3.875 \nQ 9.28125 7.765625 9.28125 18.015625 \nL 9.28125 47.703125 \nL 2.6875 47.703125 \nL 2.6875 54.6875 \nL 9.28125 54.6875 \nL 9.28125 70.21875 \nz\n\" id=\"DejaVuSans-116\"/>\n     <path d=\"M 31.78125 66.40625 \nQ 24.171875 66.40625 20.328125 58.90625 \nQ 16.5 51.421875 16.5 36.375 \nQ 16.5 21.390625 20.328125 13.890625 \nQ 24.171875 6.390625 31.78125 6.390625 \nQ 39.453125 6.390625 43.28125 13.890625 \nQ 47.125 21.390625 47.125 36.375 \nQ 47.125 51.421875 43.28125 58.90625 \nQ 39.453125 66.40625 31.78125 66.40625 \nz\nM 31.78125 74.21875 \nQ 44.046875 74.21875 50.515625 64.515625 \nQ 56.984375 54.828125 56.984375 36.375 \nQ 56.984375 17.96875 50.515625 8.265625 \nQ 44.046875 -1.421875 31.78125 -1.421875 \nQ 19.53125 -1.421875 13.0625 8.265625 \nQ 6.59375 17.96875 6.59375 36.375 \nQ 6.59375 54.828125 13.0625 64.515625 \nQ 19.53125 74.21875 31.78125 74.21875 \nz\n\" id=\"DejaVuSans-48\"/>\n    </defs>\n    <g transform=\"translate(27.650965 25.99625)scale(0.1 -0.1)\">\n     <use xlink:href=\"#DejaVuSans-32\"/>\n     <use x=\"31.787109\" xlink:href=\"#DejaVuSans-80\"/>\n     <use x=\"90.339844\" xlink:href=\"#DejaVuSans-114\"/>\n     <use x=\"129.203125\" xlink:href=\"#DejaVuSans-101\"/>\n     <use x=\"190.726562\" xlink:href=\"#DejaVuSans-100\"/>\n     <use x=\"254.203125\" xlink:href=\"#DejaVuSans-105\"/>\n     <use x=\"281.986328\" xlink:href=\"#DejaVuSans-99\"/>\n     <use x=\"336.966797\" xlink:href=\"#DejaVuSans-116\"/>\n     <use x=\"376.175781\" xlink:href=\"#DejaVuSans-101\"/>\n     <use x=\"437.699219\" xlink:href=\"#DejaVuSans-100\"/>\n     <use x=\"501.175781\" xlink:href=\"#DejaVuSans-32\"/>\n     <use x=\"532.962891\" xlink:href=\"#DejaVuSans-108\"/>\n     <use x=\"560.746094\" xlink:href=\"#DejaVuSans-97\"/>\n     <use x=\"622.025391\" xlink:href=\"#DejaVuSans-98\"/>\n     <use x=\"685.501953\" xlink:href=\"#DejaVuSans-101\"/>\n     <use x=\"747.025391\" xlink:href=\"#DejaVuSans-108\"/>\n     <use x=\"774.808594\" xlink:href=\"#DejaVuSans-58\"/>\n     <use x=\"808.5\" xlink:href=\"#DejaVuSans-32\"/>\n     <use x=\"840.287109\" xlink:href=\"#DejaVuSans-48\"/>\n    </g>\n   </g>\n  </g>\n  <g id=\"axes_2\">\n   <g clip-path=\"url(#p343442f2ef)\">\n    <image height=\"132\" id=\"imagead175557bd\" transform=\"scale(1 -1)translate(0 -132)\" width=\"132\" x=\"164.752941\" xlink:href=\"data:image/png;base64,\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\" y=\"-31.290368\"/>\n   </g>\n   <g id=\"text_2\">\n    <!-- Class Activation Map -->\n    <defs>\n     <path d=\"M 64.40625 67.28125 \nL 64.40625 56.890625 \nQ 59.421875 61.53125 53.78125 63.8125 \nQ 48.140625 66.109375 41.796875 66.109375 \nQ 29.296875 66.109375 22.65625 58.46875 \nQ 16.015625 50.828125 16.015625 36.375 \nQ 16.015625 21.96875 22.65625 14.328125 \nQ 29.296875 6.6875 41.796875 6.6875 \nQ 48.140625 6.6875 53.78125 8.984375 \nQ 59.421875 11.28125 64.40625 15.921875 \nL 64.40625 5.609375 \nQ 59.234375 2.09375 53.4375 0.328125 \nQ 47.65625 -1.421875 41.21875 -1.421875 \nQ 24.65625 -1.421875 15.125 8.703125 \nQ 5.609375 18.84375 5.609375 36.375 \nQ 5.609375 53.953125 15.125 64.078125 \nQ 24.65625 74.21875 41.21875 74.21875 \nQ 47.75 74.21875 53.53125 72.484375 \nQ 59.328125 70.75 64.40625 67.28125 \nz\n\" id=\"DejaVuSans-67\"/>\n     <path d=\"M 44.28125 53.078125 \nL 44.28125 44.578125 \nQ 40.484375 46.53125 36.375 47.5 \nQ 32.28125 48.484375 27.875 48.484375 \nQ 21.1875 48.484375 17.84375 46.4375 \nQ 14.5 44.390625 14.5 40.28125 \nQ 14.5 37.15625 16.890625 35.375 \nQ 19.28125 33.59375 26.515625 31.984375 \nL 29.59375 31.296875 \nQ 39.15625 29.25 43.1875 25.515625 \nQ 47.21875 21.78125 47.21875 15.09375 \nQ 47.21875 7.46875 41.1875 3.015625 \nQ 35.15625 -1.421875 24.609375 -1.421875 \nQ 20.21875 -1.421875 15.453125 -0.5625 \nQ 10.6875 0.296875 5.421875 2 \nL 5.421875 11.28125 \nQ 10.40625 8.6875 15.234375 7.390625 \nQ 20.0625 6.109375 24.8125 6.109375 \nQ 31.15625 6.109375 34.5625 8.28125 \nQ 37.984375 10.453125 37.984375 14.40625 \nQ 37.984375 18.0625 35.515625 20.015625 \nQ 33.0625 21.96875 24.703125 23.78125 \nL 21.578125 24.515625 \nQ 13.234375 26.265625 9.515625 29.90625 \nQ 5.8125 33.546875 5.8125 39.890625 \nQ 5.8125 47.609375 11.28125 51.796875 \nQ 16.75 56 26.8125 56 \nQ 31.78125 56 36.171875 55.265625 \nQ 40.578125 54.546875 44.28125 53.078125 \nz\n\" id=\"DejaVuSans-115\"/>\n     <path d=\"M 34.1875 63.1875 \nL 20.796875 26.90625 \nL 47.609375 26.90625 \nz\nM 28.609375 72.90625 \nL 39.796875 72.90625 \nL 67.578125 0 \nL 57.328125 0 \nL 50.6875 18.703125 \nL 17.828125 18.703125 \nL 11.1875 0 \nL 0.78125 0 \nz\n\" id=\"DejaVuSans-65\"/>\n     <path d=\"M 2.984375 54.6875 \nL 12.5 54.6875 \nL 29.59375 8.796875 \nL 46.6875 54.6875 \nL 56.203125 54.6875 \nL 35.6875 0 \nL 23.484375 0 \nz\n\" id=\"DejaVuSans-118\"/>\n     <path d=\"M 30.609375 48.390625 \nQ 23.390625 48.390625 19.1875 42.75 \nQ 14.984375 37.109375 14.984375 27.296875 \nQ 14.984375 17.484375 19.15625 11.84375 \nQ 23.34375 6.203125 30.609375 6.203125 \nQ 37.796875 6.203125 41.984375 11.859375 \nQ 46.1875 17.53125 46.1875 27.296875 \nQ 46.1875 37.015625 41.984375 42.703125 \nQ 37.796875 48.390625 30.609375 48.390625 \nz\nM 30.609375 56 \nQ 42.328125 56 49.015625 48.375 \nQ 55.71875 40.765625 55.71875 27.296875 \nQ 55.71875 13.875 49.015625 6.21875 \nQ 42.328125 -1.421875 30.609375 -1.421875 \nQ 18.84375 -1.421875 12.171875 6.21875 \nQ 5.515625 13.875 5.515625 27.296875 \nQ 5.515625 40.765625 12.171875 48.375 \nQ 18.84375 56 30.609375 56 \nz\n\" id=\"DejaVuSans-111\"/>\n     <path d=\"M 54.890625 33.015625 \nL 54.890625 0 \nL 45.90625 0 \nL 45.90625 32.71875 \nQ 45.90625 40.484375 42.875 44.328125 \nQ 39.84375 48.1875 33.796875 48.1875 \nQ 26.515625 48.1875 22.3125 43.546875 \nQ 18.109375 38.921875 18.109375 30.90625 \nL 18.109375 0 \nL 9.078125 0 \nL 9.078125 54.6875 \nL 18.109375 54.6875 \nL 18.109375 46.1875 \nQ 21.34375 51.125 25.703125 53.5625 \nQ 30.078125 56 35.796875 56 \nQ 45.21875 56 50.046875 50.171875 \nQ 54.890625 44.34375 54.890625 33.015625 \nz\n\" id=\"DejaVuSans-110\"/>\n     <path d=\"M 9.8125 72.90625 \nL 24.515625 72.90625 \nL 43.109375 23.296875 \nL 61.8125 72.90625 \nL 76.515625 72.90625 \nL 76.515625 0 \nL 66.890625 0 \nL 66.890625 64.015625 \nL 48.09375 14.015625 \nL 38.1875 14.015625 \nL 19.390625 64.015625 \nL 19.390625 0 \nL 9.8125 0 \nz\n\" id=\"DejaVuSans-77\"/>\n     <path d=\"M 18.109375 8.203125 \nL 18.109375 -20.796875 \nL 9.078125 -20.796875 \nL 9.078125 54.6875 \nL 18.109375 54.6875 \nL 18.109375 46.390625 \nQ 20.953125 51.265625 25.265625 53.625 \nQ 29.59375 56 35.59375 56 \nQ 45.5625 56 51.78125 48.09375 \nQ 58.015625 40.1875 58.015625 27.296875 \nQ 58.015625 14.40625 51.78125 6.484375 \nQ 45.5625 -1.421875 35.59375 -1.421875 \nQ 29.59375 -1.421875 25.265625 0.953125 \nQ 20.953125 3.328125 18.109375 8.203125 \nz\nM 48.6875 27.296875 \nQ 48.6875 37.203125 44.609375 42.84375 \nQ 40.53125 48.484375 33.40625 48.484375 \nQ 26.265625 48.484375 22.1875 42.84375 \nQ 18.109375 37.203125 18.109375 27.296875 \nQ 18.109375 17.390625 22.1875 11.75 \nQ 26.265625 6.109375 33.40625 6.109375 \nQ 40.53125 6.109375 44.609375 11.75 \nQ 48.6875 17.390625 48.6875 27.296875 \nz\n\" id=\"DejaVuSans-112\"/>\n    </defs>\n    <g transform=\"translate(178.483594 25.99625)scale(0.1 -0.1)\">\n     <use xlink:href=\"#DejaVuSans-67\"/>\n     <use x=\"69.824219\" xlink:href=\"#DejaVuSans-108\"/>\n     <use x=\"97.607422\" xlink:href=\"#DejaVuSans-97\"/>\n     <use x=\"158.886719\" xlink:href=\"#DejaVuSans-115\"/>\n     <use x=\"210.986328\" xlink:href=\"#DejaVuSans-115\"/>\n     <use x=\"263.085938\" xlink:href=\"#DejaVuSans-32\"/>\n     <use x=\"294.873047\" xlink:href=\"#DejaVuSans-65\"/>\n     <use x=\"361.53125\" xlink:href=\"#DejaVuSans-99\"/>\n     <use x=\"416.511719\" xlink:href=\"#DejaVuSans-116\"/>\n     <use x=\"455.720703\" xlink:href=\"#DejaVuSans-105\"/>\n     <use x=\"483.503906\" xlink:href=\"#DejaVuSans-118\"/>\n     <use x=\"542.683594\" xlink:href=\"#DejaVuSans-97\"/>\n     <use x=\"603.962891\" xlink:href=\"#DejaVuSans-116\"/>\n     <use x=\"643.171875\" xlink:href=\"#DejaVuSans-105\"/>\n     <use x=\"670.955078\" xlink:href=\"#DejaVuSans-111\"/>\n     <use x=\"732.136719\" xlink:href=\"#DejaVuSans-110\"/>\n     <use x=\"795.515625\" xlink:href=\"#DejaVuSans-32\"/>\n     <use x=\"827.302734\" xlink:href=\"#DejaVuSans-77\"/>\n     <use x=\"913.582031\" xlink:href=\"#DejaVuSans-97\"/>\n     <use x=\"974.861328\" xlink:href=\"#DejaVuSans-112\"/>\n    </g>\n   </g>\n  </g>\n  <g id=\"axes_3\">\n   <g clip-path=\"url(#pc6a3cb898e)\">\n    <image height=\"132\" id=\"image0c647c7c74\" transform=\"scale(1 -1)translate(0 -132)\" width=\"132\" x=\"322.305882\" xlink:href=\"data:image/png;base64,\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\" y=\"-31.290368\"/>\n   </g>\n   <g id=\"text_3\">\n    <!-- Activation Map Superimposed -->\n    <defs>\n     <path d=\"M 53.515625 70.515625 \nL 53.515625 60.890625 \nQ 47.90625 63.578125 42.921875 64.890625 \nQ 37.9375 66.21875 33.296875 66.21875 \nQ 25.25 66.21875 20.875 63.09375 \nQ 16.5 59.96875 16.5 54.203125 \nQ 16.5 49.359375 19.40625 46.890625 \nQ 22.3125 44.4375 30.421875 42.921875 \nL 36.375 41.703125 \nQ 47.40625 39.59375 52.65625 34.296875 \nQ 57.90625 29 57.90625 20.125 \nQ 57.90625 9.515625 50.796875 4.046875 \nQ 43.703125 -1.421875 29.984375 -1.421875 \nQ 24.8125 -1.421875 18.96875 -0.25 \nQ 13.140625 0.921875 6.890625 3.21875 \nL 6.890625 13.375 \nQ 12.890625 10.015625 18.65625 8.296875 \nQ 24.421875 6.59375 29.984375 6.59375 \nQ 38.421875 6.59375 43.015625 9.90625 \nQ 47.609375 13.234375 47.609375 19.390625 \nQ 47.609375 24.75 44.3125 27.78125 \nQ 41.015625 30.8125 33.5 32.328125 \nL 27.484375 33.5 \nQ 16.453125 35.6875 11.515625 40.375 \nQ 6.59375 45.0625 6.59375 53.421875 \nQ 6.59375 63.09375 13.40625 68.65625 \nQ 20.21875 74.21875 32.171875 74.21875 \nQ 37.3125 74.21875 42.625 73.28125 \nQ 47.953125 72.359375 53.515625 70.515625 \nz\n\" id=\"DejaVuSans-83\"/>\n     <path d=\"M 52 44.1875 \nQ 55.375 50.25 60.0625 53.125 \nQ 64.75 56 71.09375 56 \nQ 79.640625 56 84.28125 50.015625 \nQ 88.921875 44.046875 88.921875 33.015625 \nL 88.921875 0 \nL 79.890625 0 \nL 79.890625 32.71875 \nQ 79.890625 40.578125 77.09375 44.375 \nQ 74.3125 48.1875 68.609375 48.1875 \nQ 61.625 48.1875 57.5625 43.546875 \nQ 53.515625 38.921875 53.515625 30.90625 \nL 53.515625 0 \nL 44.484375 0 \nL 44.484375 32.71875 \nQ 44.484375 40.625 41.703125 44.40625 \nQ 38.921875 48.1875 33.109375 48.1875 \nQ 26.21875 48.1875 22.15625 43.53125 \nQ 18.109375 38.875 18.109375 30.90625 \nL 18.109375 0 \nL 9.078125 0 \nL 9.078125 54.6875 \nL 18.109375 54.6875 \nL 18.109375 46.1875 \nQ 21.1875 51.21875 25.484375 53.609375 \nQ 29.78125 56 35.6875 56 \nQ 41.65625 56 45.828125 52.96875 \nQ 50 49.953125 52 44.1875 \nz\n\" id=\"DejaVuSans-109\"/>\n    </defs>\n    <g transform=\"translate(313.192785 25.99625)scale(0.1 -0.1)\">\n     <use xlink:href=\"#DejaVuSans-65\"/>\n     <use x=\"66.658203\" xlink:href=\"#DejaVuSans-99\"/>\n     <use x=\"121.638672\" xlink:href=\"#DejaVuSans-116\"/>\n     <use x=\"160.847656\" xlink:href=\"#DejaVuSans-105\"/>\n     <use x=\"188.630859\" xlink:href=\"#DejaVuSans-118\"/>\n     <use x=\"247.810547\" xlink:href=\"#DejaVuSans-97\"/>\n     <use x=\"309.089844\" xlink:href=\"#DejaVuSans-116\"/>\n     <use x=\"348.298828\" xlink:href=\"#DejaVuSans-105\"/>\n     <use x=\"376.082031\" xlink:href=\"#DejaVuSans-111\"/>\n     <use x=\"437.263672\" xlink:href=\"#DejaVuSans-110\"/>\n     <use x=\"500.642578\" xlink:href=\"#DejaVuSans-32\"/>\n     <use x=\"532.429688\" xlink:href=\"#DejaVuSans-77\"/>\n     <use x=\"618.708984\" xlink:href=\"#DejaVuSans-97\"/>\n     <use x=\"679.988281\" xlink:href=\"#DejaVuSans-112\"/>\n     <use x=\"743.464844\" xlink:href=\"#DejaVuSans-32\"/>\n     <use x=\"775.251953\" xlink:href=\"#DejaVuSans-83\"/>\n     <use x=\"838.728516\" xlink:href=\"#DejaVuSans-117\"/>\n     <use x=\"902.107422\" xlink:href=\"#DejaVuSans-112\"/>\n     <use x=\"965.583984\" xlink:href=\"#DejaVuSans-101\"/>\n     <use x=\"1027.107422\" xlink:href=\"#DejaVuSans-114\"/>\n     <use x=\"1068.220703\" xlink:href=\"#DejaVuSans-105\"/>\n     <use x=\"1096.003906\" xlink:href=\"#DejaVuSans-109\"/>\n     <use x=\"1193.416016\" xlink:href=\"#DejaVuSans-112\"/>\n     <use x=\"1256.892578\" xlink:href=\"#DejaVuSans-111\"/>\n     <use x=\"1318.074219\" xlink:href=\"#DejaVuSans-115\"/>\n     <use x=\"1370.173828\" xlink:href=\"#DejaVuSans-101\"/>\n     <use x=\"1431.697266\" xlink:href=\"#DejaVuSans-100\"/>\n    </g>\n   </g>\n  </g>\n </g>\n <defs>\n  <clipPath id=\"pcce86f5fd8\">\n   <rect height=\"131.294118\" width=\"131.294118\" x=\"7.2\" y=\"31.99625\"/>\n  </clipPath>\n  <clipPath id=\"p343442f2ef\">\n   <rect height=\"131.294118\" width=\"131.294118\" x=\"164.752941\" y=\"31.99625\"/>\n  </clipPath>\n  <clipPath id=\"pc6a3cb898e\">\n   <rect height=\"131.294118\" width=\"131.294118\" x=\"322.305882\" y=\"31.99625\"/>\n  </clipPath>\n </defs>\n</svg>\n"
          },
          "metadata": {
            "needs_background": "light"
          }
        }
      ],
      "source": [
        "# select the sample and read the corresponding image and label\n",
        "sample_image = cv2.imread(valid_df.iloc[idx]['image'])\n",
        "sample_image = cv2.cvtColor(sample_image, cv2.COLOR_BGR2RGB)\n",
        "sample_image = cv2.resize(sample_image, (img_rows, img_cols))\n",
        "sample_label = valid_df.iloc[idx][\"label\"]\n",
        "\n",
        "# pre-process the image\n",
        "sample_image_processed = np.expand_dims(sample_image, axis=0)\n",
        "sample_image_processed = preprocess_input(sample_image_processed)\n",
        "\n",
        "# get the label predicted by our original model\n",
        "pred_label = np.argmax(model.predict(sample_image_processed), axis=-1)[0]\n",
        "\n",
        "# get the heatmap for class activation map(CAM)\n",
        "heatmap = get_CAM(sample_image_processed, pred_label)\n",
        "heatmap = cv2.resize(heatmap, (sample_image.shape[0], sample_image.shape[1]))\n",
        "heatmap = heatmap *255\n",
        "heatmap = np.clip(heatmap, 0, 255).astype(np.uint8)\n",
        "heatmap = cv2.applyColorMap(heatmap, cv2.COLORMAP_JET)\n",
        "super_imposed_image = heatmap * 0.5 + sample_image\n",
        "super_imposed_image = np.clip(super_imposed_image, 0,255).astype(np.uint8)\n",
        "\n",
        "# Ploting\n",
        "fontsize = 10\n",
        "fig, axes = plt.subplots( 1, 3, figsize=( 8, 8 ) )\n",
        "axes[0].set_title( f'True label: {sample_label} \\n Predicted label: {pred_label}',\n",
        "                  fontsize = fontsize )\n",
        "axes[0].axis('off')\n",
        "axes[0].imshow( sample_image )\n",
        "\n",
        "axes[1].set_title( f'Class Activation Map',\n",
        "                  fontsize = fontsize )\n",
        "axes[1].axis('off')\n",
        "axes[1].imshow( heatmap )\n",
        "\n",
        "axes[2].set_title( f'Activation Map Superimposed',\n",
        "                  fontsize = fontsize )\n",
        "axes[2].axis('off')\n",
        "axes[2].imshow( super_imposed_image )\n",
        "plt.show()\n",
        "\n",
        "# # Plot just CAM of the layer\n",
        "# plt.figure( figsize=(2, 2) )\n",
        "# plt.title( f'Class Activation Map - Layer: {layer}' )\n",
        "# plt.imshow( heatmap )\n",
        "# plt.show()"
      ]
    }
  ],
  "metadata": {
    "accelerator": "TPU",
    "colab": {
      "provenance": [],
      "machine_shape": "hm"
    },
    "gpuClass": "premium",
    "kernelspec": {
      "display_name": "Python 3",
      "language": "python",
      "name": "python3"
    },
    "language_info": {
      "codemirror_mode": {
        "name": "ipython",
        "version": 3
      },
      "file_extension": ".py",
      "mimetype": "text/x-python",
      "name": "python",
      "nbconvert_exporter": "python",
      "pygments_lexer": "ipython3",
      "version": "3.6.6"
    }
  },
  "nbformat": 4,
  "nbformat_minor": 0
}