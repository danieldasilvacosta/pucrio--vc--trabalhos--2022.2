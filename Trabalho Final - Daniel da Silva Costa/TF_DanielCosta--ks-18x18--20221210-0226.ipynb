{
  "cells": [
    {
      "cell_type": "code",
      "execution_count": 1,
      "metadata": {
        "colab": {
          "base_uri": "https://localhost:8080/"
        },
        "id": "yukxIi6LniSQ",
        "outputId": "c3d8e011-236a-48bd-883c-2efa68b021bd"
      },
      "outputs": [
        {
          "output_type": "stream",
          "name": "stdout",
          "text": [
            "Mounted at /content/drive\n"
          ]
        }
      ],
      "source": [
        "from google.colab import drive\n",
        "drive.mount('/content/drive', force_remount=True)"
      ]
    },
    {
      "cell_type": "code",
      "execution_count": 2,
      "metadata": {
        "colab": {
          "base_uri": "https://localhost:8080/"
        },
        "id": "995UeTpNnpqJ",
        "outputId": "896ee154-4090-489c-b419-d9192278b575"
      },
      "outputs": [
        {
          "output_type": "stream",
          "name": "stdout",
          "text": [
            "/content/drive/MyDrive/Doutorado/Disciplinas/[2022.2] [PUC-Rio] Visão Computacional - Professor: Marcelo Gattass/Trabalhos/Trabalho Final/Code/What does a CNN see?\n"
          ]
        }
      ],
      "source": [
        "cd \"drive/MyDrive/Doutorado/Disciplinas/[2022.2] [PUC-Rio] Visão Computacional - Professor: Marcelo Gattass/Trabalhos/Trabalho Final/Code/What does a CNN see?/\""
      ]
    },
    {
      "cell_type": "code",
      "execution_count": 3,
      "metadata": {
        "colab": {
          "base_uri": "https://localhost:8080/"
        },
        "id": "cg29tq9_nx3_",
        "outputId": "8b7c2d73-93a3-476d-81e7-0a6deaad52fb"
      },
      "outputs": [
        {
          "output_type": "stream",
          "name": "stdout",
          "text": [
            "/content/drive/MyDrive/Doutorado/Disciplinas/[2022.2] [PUC-Rio] Visão Computacional - Professor: Marcelo Gattass/Trabalhos/Trabalho Final/Code/What does a CNN see?\n"
          ]
        }
      ],
      "source": [
        "!pwd"
      ]
    },
    {
      "cell_type": "code",
      "execution_count": 4,
      "metadata": {
        "id": "Fmp5VkmDnzJ6"
      },
      "outputs": [],
      "source": [
        "data_folder = './data/'"
      ]
    },
    {
      "cell_type": "code",
      "execution_count": 5,
      "metadata": {
        "id": "r49vJQx6m_n5"
      },
      "outputs": [],
      "source": [
        "import os\n",
        "import cv2\n",
        "import glob\n",
        "import h5py\n",
        "import shutil\n",
        "import imgaug as aug\n",
        "import numpy as np # linear algebra\n",
        "import pandas as pd # data processing, CSV file I/O (e.g. pd.read_csv)\n",
        "import seaborn as sns\n",
        "import matplotlib.pyplot as plt\n",
        "import imgaug.augmenters as iaa\n",
        "from os import listdir, makedirs, getcwd, remove\n",
        "from os.path import isfile, join, abspath, exists, isdir, expanduser\n",
        "from pathlib import Path\n",
        "from skimage.io import imread\n",
        "from skimage.transform import resize\n",
        "from keras.models import Sequential, Model, load_model\n",
        "from keras.applications.vgg16 import VGG16, preprocess_input\n",
        "from keras.layers import Conv2D, MaxPooling2D, Dense, Dropout, InputLayer, Flatten\n",
        "from keras.optimizers import Adam, SGD, RMSprop\n",
        "from keras.callbacks import ModelCheckpoint, Callback, EarlyStopping\n",
        "from keras.utils import to_categorical\n",
        "from sklearn.model_selection import train_test_split\n",
        "from mlxtend.plotting import plot_confusion_matrix\n",
        "from sklearn.metrics import confusion_matrix\n",
        "from mlxtend.plotting import plot_confusion_matrix\n",
        "from keras import backend as K\n",
        "import tensorflow as tf\n",
        "tf.compat.v1.disable_eager_execution() # daniel\n",
        "\n",
        "\n",
        "color = sns.color_palette()\n",
        "%matplotlib inline\n",
        "%config InlineBackend.figure_format=\"svg\"\n",
        "\n",
        "# Daniel\n",
        "from tensorflow.keras import datasets, layers, models"
      ]
    },
    {
      "cell_type": "code",
      "execution_count": 6,
      "metadata": {
        "id": "O63jTZkRm_n8"
      },
      "outputs": [],
      "source": [
        "# Set the seed for hash based operations in python\n",
        "os.environ['PYTHONHASHSEED'] = '0'\n",
        "\n",
        "seed=1234\n",
        "\n",
        "# Set the numpy seed\n",
        "np.random.seed(seed)\n",
        "\n",
        "# Set the random seed in tensorflow at graph level\n",
        "# tf.set_random_seed(seed) # obsolete\n",
        "tf.random.set_seed(seed)\n",
        "\n",
        "# Make the augmentation sequence deterministic\n",
        "aug.seed(seed)"
      ]
    },
    {
      "cell_type": "code",
      "execution_count": 7,
      "metadata": {
        "id": "GDVCZ3Som_n-"
      },
      "outputs": [],
      "source": [
        "# As usual, define some paths first to make life simpler\n",
        "training_data = Path(data_folder + '/training/') \n",
        "validation_data = Path(data_folder + '/validation/') \n",
        "labels_path = Path(data_folder + '/monkey_labels.txt')"
      ]
    },
    {
      "cell_type": "code",
      "execution_count": 8,
      "metadata": {
        "colab": {
          "base_uri": "https://localhost:8080/",
          "height": 363
        },
        "id": "pFmq_UfRm_oA",
        "outputId": "ced74225-2017-4b86-bd7a-5979ba75eb84"
      },
      "outputs": [
        {
          "output_type": "execute_result",
          "data": {
            "text/plain": [
              "  Label             Latin Name                Common Name  Train Images  \\\n",
              "0    n0      alouatta_palliata             mantled_howler           131   \n",
              "1    n1     erythrocebus_patas               patas_monkey           139   \n",
              "2    n2         cacajao_calvus                bald_uakari           137   \n",
              "3    n3         macaca_fuscata           japanese_macaque           152   \n",
              "4    n4        cebuella_pygmea             pygmy_marmoset           131   \n",
              "5    n5        cebus_capucinus      white_headed_capuchin           141   \n",
              "6    n6        mico_argentatus           silvery_marmoset           132   \n",
              "7    n7       saimiri_sciureus     common_squirrel_monkey           142   \n",
              "8    n8        aotus_nigriceps  black_headed_night_monkey           133   \n",
              "9    n9  trachypithecus_johnii             nilgiri_langur           132   \n",
              "\n",
              "   Validation Images  \n",
              "0                 26  \n",
              "1                 28  \n",
              "2                 27  \n",
              "3                 30  \n",
              "4                 26  \n",
              "5                 28  \n",
              "6                 26  \n",
              "7                 28  \n",
              "8                 27  \n",
              "9                 26  "
            ],
            "text/html": [
              "\n",
              "  <div id=\"df-ac5e53fd-c6fe-45c9-ab37-730df5506b01\">\n",
              "    <div class=\"colab-df-container\">\n",
              "      <div>\n",
              "<style scoped>\n",
              "    .dataframe tbody tr th:only-of-type {\n",
              "        vertical-align: middle;\n",
              "    }\n",
              "\n",
              "    .dataframe tbody tr th {\n",
              "        vertical-align: top;\n",
              "    }\n",
              "\n",
              "    .dataframe thead th {\n",
              "        text-align: right;\n",
              "    }\n",
              "</style>\n",
              "<table border=\"1\" class=\"dataframe\">\n",
              "  <thead>\n",
              "    <tr style=\"text-align: right;\">\n",
              "      <th></th>\n",
              "      <th>Label</th>\n",
              "      <th>Latin Name</th>\n",
              "      <th>Common Name</th>\n",
              "      <th>Train Images</th>\n",
              "      <th>Validation Images</th>\n",
              "    </tr>\n",
              "  </thead>\n",
              "  <tbody>\n",
              "    <tr>\n",
              "      <th>0</th>\n",
              "      <td>n0</td>\n",
              "      <td>alouatta_palliata</td>\n",
              "      <td>mantled_howler</td>\n",
              "      <td>131</td>\n",
              "      <td>26</td>\n",
              "    </tr>\n",
              "    <tr>\n",
              "      <th>1</th>\n",
              "      <td>n1</td>\n",
              "      <td>erythrocebus_patas</td>\n",
              "      <td>patas_monkey</td>\n",
              "      <td>139</td>\n",
              "      <td>28</td>\n",
              "    </tr>\n",
              "    <tr>\n",
              "      <th>2</th>\n",
              "      <td>n2</td>\n",
              "      <td>cacajao_calvus</td>\n",
              "      <td>bald_uakari</td>\n",
              "      <td>137</td>\n",
              "      <td>27</td>\n",
              "    </tr>\n",
              "    <tr>\n",
              "      <th>3</th>\n",
              "      <td>n3</td>\n",
              "      <td>macaca_fuscata</td>\n",
              "      <td>japanese_macaque</td>\n",
              "      <td>152</td>\n",
              "      <td>30</td>\n",
              "    </tr>\n",
              "    <tr>\n",
              "      <th>4</th>\n",
              "      <td>n4</td>\n",
              "      <td>cebuella_pygmea</td>\n",
              "      <td>pygmy_marmoset</td>\n",
              "      <td>131</td>\n",
              "      <td>26</td>\n",
              "    </tr>\n",
              "    <tr>\n",
              "      <th>5</th>\n",
              "      <td>n5</td>\n",
              "      <td>cebus_capucinus</td>\n",
              "      <td>white_headed_capuchin</td>\n",
              "      <td>141</td>\n",
              "      <td>28</td>\n",
              "    </tr>\n",
              "    <tr>\n",
              "      <th>6</th>\n",
              "      <td>n6</td>\n",
              "      <td>mico_argentatus</td>\n",
              "      <td>silvery_marmoset</td>\n",
              "      <td>132</td>\n",
              "      <td>26</td>\n",
              "    </tr>\n",
              "    <tr>\n",
              "      <th>7</th>\n",
              "      <td>n7</td>\n",
              "      <td>saimiri_sciureus</td>\n",
              "      <td>common_squirrel_monkey</td>\n",
              "      <td>142</td>\n",
              "      <td>28</td>\n",
              "    </tr>\n",
              "    <tr>\n",
              "      <th>8</th>\n",
              "      <td>n8</td>\n",
              "      <td>aotus_nigriceps</td>\n",
              "      <td>black_headed_night_monkey</td>\n",
              "      <td>133</td>\n",
              "      <td>27</td>\n",
              "    </tr>\n",
              "    <tr>\n",
              "      <th>9</th>\n",
              "      <td>n9</td>\n",
              "      <td>trachypithecus_johnii</td>\n",
              "      <td>nilgiri_langur</td>\n",
              "      <td>132</td>\n",
              "      <td>26</td>\n",
              "    </tr>\n",
              "  </tbody>\n",
              "</table>\n",
              "</div>\n",
              "      <button class=\"colab-df-convert\" onclick=\"convertToInteractive('df-ac5e53fd-c6fe-45c9-ab37-730df5506b01')\"\n",
              "              title=\"Convert this dataframe to an interactive table.\"\n",
              "              style=\"display:none;\">\n",
              "        \n",
              "  <svg xmlns=\"http://www.w3.org/2000/svg\" height=\"24px\"viewBox=\"0 0 24 24\"\n",
              "       width=\"24px\">\n",
              "    <path d=\"M0 0h24v24H0V0z\" fill=\"none\"/>\n",
              "    <path d=\"M18.56 5.44l.94 2.06.94-2.06 2.06-.94-2.06-.94-.94-2.06-.94 2.06-2.06.94zm-11 1L8.5 8.5l.94-2.06 2.06-.94-2.06-.94L8.5 2.5l-.94 2.06-2.06.94zm10 10l.94 2.06.94-2.06 2.06-.94-2.06-.94-.94-2.06-.94 2.06-2.06.94z\"/><path d=\"M17.41 7.96l-1.37-1.37c-.4-.4-.92-.59-1.43-.59-.52 0-1.04.2-1.43.59L10.3 9.45l-7.72 7.72c-.78.78-.78 2.05 0 2.83L4 21.41c.39.39.9.59 1.41.59.51 0 1.02-.2 1.41-.59l7.78-7.78 2.81-2.81c.8-.78.8-2.07 0-2.86zM5.41 20L4 18.59l7.72-7.72 1.47 1.35L5.41 20z\"/>\n",
              "  </svg>\n",
              "      </button>\n",
              "      \n",
              "  <style>\n",
              "    .colab-df-container {\n",
              "      display:flex;\n",
              "      flex-wrap:wrap;\n",
              "      gap: 12px;\n",
              "    }\n",
              "\n",
              "    .colab-df-convert {\n",
              "      background-color: #E8F0FE;\n",
              "      border: none;\n",
              "      border-radius: 50%;\n",
              "      cursor: pointer;\n",
              "      display: none;\n",
              "      fill: #1967D2;\n",
              "      height: 32px;\n",
              "      padding: 0 0 0 0;\n",
              "      width: 32px;\n",
              "    }\n",
              "\n",
              "    .colab-df-convert:hover {\n",
              "      background-color: #E2EBFA;\n",
              "      box-shadow: 0px 1px 2px rgba(60, 64, 67, 0.3), 0px 1px 3px 1px rgba(60, 64, 67, 0.15);\n",
              "      fill: #174EA6;\n",
              "    }\n",
              "\n",
              "    [theme=dark] .colab-df-convert {\n",
              "      background-color: #3B4455;\n",
              "      fill: #D2E3FC;\n",
              "    }\n",
              "\n",
              "    [theme=dark] .colab-df-convert:hover {\n",
              "      background-color: #434B5C;\n",
              "      box-shadow: 0px 1px 3px 1px rgba(0, 0, 0, 0.15);\n",
              "      filter: drop-shadow(0px 1px 2px rgba(0, 0, 0, 0.3));\n",
              "      fill: #FFFFFF;\n",
              "    }\n",
              "  </style>\n",
              "\n",
              "      <script>\n",
              "        const buttonEl =\n",
              "          document.querySelector('#df-ac5e53fd-c6fe-45c9-ab37-730df5506b01 button.colab-df-convert');\n",
              "        buttonEl.style.display =\n",
              "          google.colab.kernel.accessAllowed ? 'block' : 'none';\n",
              "\n",
              "        async function convertToInteractive(key) {\n",
              "          const element = document.querySelector('#df-ac5e53fd-c6fe-45c9-ab37-730df5506b01');\n",
              "          const dataTable =\n",
              "            await google.colab.kernel.invokeFunction('convertToInteractive',\n",
              "                                                     [key], {});\n",
              "          if (!dataTable) return;\n",
              "\n",
              "          const docLinkHtml = 'Like what you see? Visit the ' +\n",
              "            '<a target=\"_blank\" href=https://colab.research.google.com/notebooks/data_table.ipynb>data table notebook</a>'\n",
              "            + ' to learn more about interactive tables.';\n",
              "          element.innerHTML = '';\n",
              "          dataTable['output_type'] = 'display_data';\n",
              "          await google.colab.output.renderOutput(dataTable, element);\n",
              "          const docLink = document.createElement('div');\n",
              "          docLink.innerHTML = docLinkHtml;\n",
              "          element.appendChild(docLink);\n",
              "        }\n",
              "      </script>\n",
              "    </div>\n",
              "  </div>\n",
              "  "
            ]
          },
          "metadata": {},
          "execution_count": 8
        }
      ],
      "source": [
        "labels_info = []\n",
        "\n",
        "# Read the file\n",
        "lines = labels_path.read_text().strip().splitlines()[1:]\n",
        "for line in lines:\n",
        "    line = line.split(',')\n",
        "    line = [x.strip(' \\n\\t\\r') for x in line]\n",
        "    line[3], line[4] = int(line[3]), int(line[4])\n",
        "    line = tuple(line)\n",
        "    labels_info.append(line)\n",
        "    \n",
        "# Convert the data into a pandas dataframe\n",
        "labels_info = pd.DataFrame(labels_info, columns=['Label', 'Latin Name', 'Common Name', \n",
        "                                                 'Train Images', 'Validation Images'], index=None)\n",
        "# Sneak peek \n",
        "labels_info.head(10)"
      ]
    },
    {
      "cell_type": "code",
      "execution_count": 9,
      "metadata": {
        "colab": {
          "base_uri": "https://localhost:8080/"
        },
        "id": "wHuT1Hz8m_oB",
        "outputId": "7060066a-58c3-4a81-9ade-27c4a993d8d9"
      },
      "outputs": [
        {
          "output_type": "stream",
          "name": "stdout",
          "text": [
            "{0: 'mantled_howler', 1: 'patas_monkey', 2: 'bald_uakari', 3: 'japanese_macaque', 4: 'pygmy_marmoset', 5: 'white_headed_capuchin', 6: 'silvery_marmoset', 7: 'common_squirrel_monkey', 8: 'black_headed_night_monkey', 9: 'nilgiri_langur'}\n"
          ]
        }
      ],
      "source": [
        "# Create a dictionary to map the labels to integers\n",
        "labels_dict= {'n0':0, 'n1':1, 'n2':2, 'n3':3, 'n4':4, 'n5':5, 'n6':6, 'n7':7, 'n8':8, 'n9':9}\n",
        "\n",
        "# map labels to common names\n",
        "names_dict = dict(zip(labels_dict.values(), labels_info[\"Common Name\"]))\n",
        "print(names_dict)"
      ]
    },
    {
      "cell_type": "code",
      "execution_count": 10,
      "metadata": {
        "colab": {
          "base_uri": "https://localhost:8080/"
        },
        "id": "a_MLw2_dm_oC",
        "outputId": "acf73b6c-f6fa-4ec3-d37f-b39d4fba4843"
      },
      "outputs": [
        {
          "output_type": "stream",
          "name": "stdout",
          "text": [
            "Number of traininng samples:  1096\n",
            "Number of validation samples:  272\n",
            "\n",
            "                         image  label\n",
            "0  data/training/n2/n2117.jpg      2\n",
            "1  data/training/n7/n7028.jpg      7\n",
            "2  data/training/n0/n0155.jpg      0\n",
            "3  data/training/n7/n7064.jpg      7\n",
            "4  data/training/n2/n2133.jpg      2 \n",
            "\n",
            "=================================================================\n",
            "\n",
            "\n",
            "                           image  label\n",
            "0   data/validation/n7/n718.jpg      7\n",
            "1  data/validation/n6/n6013.jpg      6\n",
            "2  data/validation/n7/n7012.jpg      7\n",
            "3   data/validation/n5/n512.jpg      5\n",
            "4   data/validation/n5/n509.jpg      5\n"
          ]
        }
      ],
      "source": [
        "# Creating a dataframe for the training dataset\n",
        "train_df = []\n",
        "for folder in os.listdir(training_data):\n",
        "    # Define the path to the images\n",
        "    imgs_path = training_data / folder\n",
        "    \n",
        "    # Get the list of all the images stored in that directory\n",
        "    imgs = sorted(imgs_path.glob('*.jpg'))\n",
        "    \n",
        "    # Store each image path and corresponding label \n",
        "    for img_name in imgs:\n",
        "        train_df.append((str(img_name), labels_dict[folder]))\n",
        "\n",
        "\n",
        "train_df = pd.DataFrame(train_df, columns=['image', 'label'], index=None)\n",
        "# shuffle the dataset \n",
        "train_df = train_df.sample(frac=1.).reset_index(drop=True)\n",
        "\n",
        "####################################################################################################\n",
        "\n",
        "# Creating dataframe for validation data in a similar fashion\n",
        "valid_df = []\n",
        "for folder in os.listdir(validation_data):\n",
        "    imgs_path = validation_data / folder\n",
        "    imgs = sorted(imgs_path.glob('*.jpg'))\n",
        "    for img_name in imgs:\n",
        "        valid_df.append((str(img_name), labels_dict[folder]))\n",
        "\n",
        "        \n",
        "valid_df = pd.DataFrame(valid_df, columns=['image', 'label'], index=None)\n",
        "# shuffle the dataset \n",
        "valid_df = valid_df.sample(frac=1.).reset_index(drop=True)\n",
        "\n",
        "####################################################################################################\n",
        "\n",
        "# How many samples do we have in our training and validation data?\n",
        "print(\"Number of traininng samples: \", len(train_df))\n",
        "print(\"Number of validation samples: \", len(valid_df))\n",
        "\n",
        "# sneak peek of the training and validation dataframes\n",
        "print(\"\\n\",train_df.head(), \"\\n\")\n",
        "print(\"=================================================================\\n\")\n",
        "print(\"\\n\", valid_df.head())"
      ]
    },
    {
      "cell_type": "code",
      "execution_count": 11,
      "metadata": {
        "id": "4zcekSk9m_oD"
      },
      "outputs": [],
      "source": [
        "# some constants(not truly though!) \n",
        "\n",
        "# dimensions to consider for the images\n",
        "img_rows, img_cols, img_channels = 224,224,3\n",
        "\n",
        "# batch size for training  \n",
        "batch_size=8\n",
        "\n",
        "# total number of classes in the dataset\n",
        "nb_classes=10"
      ]
    },
    {
      "cell_type": "code",
      "execution_count": 12,
      "metadata": {
        "id": "XSt-OHwym_oD"
      },
      "outputs": [],
      "source": [
        "# Augmentation sequence \n",
        "seq = iaa.OneOf([\n",
        "    iaa.Fliplr(), # horizontal flips\n",
        "    iaa.Affine(rotate=20), # roatation\n",
        "    iaa.Multiply((1.2, 1.5))]) #random brightness"
      ]
    },
    {
      "cell_type": "code",
      "execution_count": 13,
      "metadata": {
        "id": "4hASMeAOm_oE"
      },
      "outputs": [],
      "source": [
        "def data_generator(data, batch_size, is_validation_data=False):\n",
        "    # Get total number of samples in the data\n",
        "    n = len(data)\n",
        "    nb_batches = int(np.ceil(n/batch_size))\n",
        "\n",
        "    # Get a numpy array of all the indices of the input data\n",
        "    indices = np.arange(n)\n",
        "    \n",
        "    # Define two numpy arrays for containing batch data and labels\n",
        "    batch_data = np.zeros((batch_size, img_rows, img_cols, img_channels), dtype=np.float32)\n",
        "    batch_labels = np.zeros((batch_size, nb_classes), dtype=np.float32)\n",
        "    \n",
        "    while True:\n",
        "        if not is_validation_data:\n",
        "            # shuffle indices for the training data\n",
        "            np.random.shuffle(indices)\n",
        "            \n",
        "        for i in range(nb_batches):\n",
        "            # get the next batch \n",
        "            next_batch_indices = indices[i*batch_size:(i+1)*batch_size]\n",
        "            \n",
        "            # process the next batch\n",
        "            for j, idx in enumerate(next_batch_indices):\n",
        "                img = cv2.imread(data.iloc[idx][\"image\"])\n",
        "                img = cv2.cvtColor(img, cv2.COLOR_BGR2RGB)\n",
        "                label = data.iloc[idx][\"label\"]\n",
        "                \n",
        "                if not is_validation_data:\n",
        "                    img = seq.augment_image(img)\n",
        "                \n",
        "                img = cv2.resize(img, (img_rows, img_cols)).astype(np.float32)\n",
        "                batch_data[j] = img\n",
        "                batch_labels[j] = to_categorical(label,num_classes=nb_classes)\n",
        "            \n",
        "            batch_data = preprocess_input(batch_data)\n",
        "            yield batch_data, batch_labels"
      ]
    },
    {
      "cell_type": "code",
      "execution_count": 14,
      "metadata": {
        "id": "gJ8LEwAJm_oF"
      },
      "outputs": [],
      "source": [
        "#training data generator \n",
        "train_data_gen = data_generator(train_df, batch_size)\n",
        "\n",
        "# validation data generator \n",
        "valid_data_gen = data_generator(valid_df, batch_size, is_validation_data=True)"
      ]
    },
    {
      "cell_type": "code",
      "execution_count": 15,
      "metadata": {
        "colab": {
          "base_uri": "https://localhost:8080/"
        },
        "id": "GwBknUFEbd5U",
        "outputId": "9ad242a2-637d-48f8-9fb1-a9c78cf09d43"
      },
      "outputs": [
        {
          "output_type": "stream",
          "name": "stdout",
          "text": [
            "Model: \"model\"\n",
            "_________________________________________________________________\n",
            " Layer (type)                Output Shape              Param #   \n",
            "=================================================================\n",
            " input_1 (InputLayer)        [(None, 224, 224, 3)]     0         \n",
            "                                                                 \n",
            " conv2d (Conv2D)             (None, 224, 224, 64)      62272     \n",
            "                                                                 \n",
            " max_pooling2d (MaxPooling2D  (None, 112, 112, 64)     0         \n",
            " )                                                               \n",
            "                                                                 \n",
            " conv2d_1 (Conv2D)           (None, 112, 112, 128)     2654336   \n",
            "                                                                 \n",
            " max_pooling2d_1 (MaxPooling  (None, 56, 56, 128)      0         \n",
            " 2D)                                                             \n",
            "                                                                 \n",
            " conv2d_2 (Conv2D)           (None, 56, 56, 256)       10617088  \n",
            "                                                                 \n",
            " max_pooling2d_2 (MaxPooling  (None, 28, 28, 256)      0         \n",
            " 2D)                                                             \n",
            "                                                                 \n",
            " conv2d_3 (Conv2D)           (None, 28, 28, 512)       42467840  \n",
            "                                                                 \n",
            " max_pooling2d_3 (MaxPooling  (None, 14, 14, 512)      0         \n",
            " 2D)                                                             \n",
            "                                                                 \n",
            " conv2d_4 (Conv2D)           (None, 14, 14, 512)       84935168  \n",
            "                                                                 \n",
            " conv2d_5 (Conv2D)           (None, 14, 14, 512)       84935168  \n",
            "                                                                 \n",
            " max_pooling2d_4 (MaxPooling  (None, 7, 7, 512)        0         \n",
            " 2D)                                                             \n",
            "                                                                 \n",
            " flatten (Flatten)           (None, 25088)             0         \n",
            "                                                                 \n",
            " dense (Dense)               (None, 4096)              102764544 \n",
            "                                                                 \n",
            " dense_1 (Dense)             (None, 4096)              16781312  \n",
            "                                                                 \n",
            " dropout (Dropout)           (None, 4096)              0         \n",
            "                                                                 \n",
            " dense_2 (Dense)             (None, 10)                40970     \n",
            "                                                                 \n",
            "=================================================================\n",
            "Total params: 345,258,698\n",
            "Trainable params: 345,258,698\n",
            "Non-trainable params: 0\n",
            "_________________________________________________________________\n"
          ]
        }
      ],
      "source": [
        "# https://www.tensorflow.org/api_docs/python/tf/keras/layers/Conv2D\n",
        "# tf.keras.layers.Conv2D( filters, kernel_size, ...)\n",
        "\n",
        "model = models.Sequential([\n",
        "    layers.InputLayer( input_shape=(224, 224, 3) )\n",
        "])\n",
        "\n",
        "model.add( layers.Conv2D(64, (18, 18), \n",
        "                        padding='same',\n",
        "                        activation='relu') )\n",
        "model.add( layers.MaxPooling2D((2, 2)) )\n",
        "\n",
        "model.add( layers.Conv2D(128, (18, 18), \n",
        "                        padding='same',\n",
        "                        activation='relu') )\n",
        "model.add( layers.MaxPooling2D((2, 2)) )\n",
        "\n",
        "model.add( layers.Conv2D(256, (18, 18), \n",
        "                        padding='same',\n",
        "                        activation='relu') )\n",
        "model.add( layers.MaxPooling2D((2, 2)) )\n",
        "\n",
        "model.add( layers.Conv2D(512, (18, 18), \n",
        "                        padding='same',\n",
        "                        activation='relu') )\n",
        "model.add( layers.MaxPooling2D((2, 2)) )\n",
        "\n",
        "model.add( layers.Conv2D(512, (18, 18), \n",
        "                        padding='same',\n",
        "                        activation='relu') )\n",
        "model.add( layers.Conv2D(512, (18, 18), \n",
        "                        padding='same',\n",
        "                        activation='relu') )\n",
        "model.add( layers.MaxPooling2D((2, 2)) )\n",
        "\n",
        "model.add( layers.Flatten() )\n",
        "model.add( layers.Dense(4096, activation='relu') )\n",
        "model.add( layers.Dense(4096, activation='relu') )\n",
        "model.add( layers.Dropout(0.2) )\n",
        "model.add( layers.Dense(10, activation='softmax') )\n",
        "\n",
        "# To correct some bug on input\n",
        "model = Model(model.input, model.output)\n",
        "\n",
        "optimizer = RMSprop(0.001)\n",
        "model.compile(optimizer = optimizer, \n",
        "              loss = 'categorical_crossentropy',\n",
        "              metrics = ['accuracy'])\n",
        "\n",
        "model.summary()"
      ]
    },
    {
      "cell_type": "code",
      "execution_count": 16,
      "metadata": {
        "id": "AxTpbjyjm_oI"
      },
      "outputs": [],
      "source": [
        "early_stopping = EarlyStopping(patience=20, restore_best_weights=True)\n",
        "\n",
        "model_checkpoint = ModelCheckpoint(filepath=\"model1\", save_best_only=True)\n",
        "\n",
        "num_train_steps = int(np.ceil(len(train_df)/batch_size))\n",
        "num_valid_steps = int(np.ceil(len(valid_df)/batch_size))"
      ]
    },
    {
      "cell_type": "code",
      "execution_count": 17,
      "metadata": {
        "id": "mYCzLnpI8ZaC"
      },
      "outputs": [],
      "source": [
        "epochs=100\n",
        "# epochs=5 # daniel"
      ]
    },
    {
      "cell_type": "code",
      "execution_count": 18,
      "metadata": {
        "colab": {
          "base_uri": "https://localhost:8080/"
        },
        "id": "G5c29rBSm_oI",
        "outputId": "7da056f8-411f-485d-9be4-f85803daee24"
      },
      "outputs": [
        {
          "output_type": "stream",
          "name": "stdout",
          "text": [
            "Epoch 1/100\n",
            "137/137 [==============================] - ETA: 0s - batch: 68.0000 - size: 8.0000 - loss: 18786292033.6751 - accuracy: 0.1113"
          ]
        },
        {
          "output_type": "stream",
          "name": "stderr",
          "text": [
            "/usr/local/lib/python3.8/dist-packages/keras/engine/training_v1.py:2045: UserWarning: `Model.state_updates` will be removed in a future version. This property should not be used in TensorFlow 2.0, as `updates` are applied automatically.\n",
            "  updates = self.state_updates\n",
            "WARNING:absl:Found untraced functions such as _jit_compiled_convolution_op, _jit_compiled_convolution_op, _jit_compiled_convolution_op, _jit_compiled_convolution_op, _jit_compiled_convolution_op while saving (showing 5 of 6). These functions will not be directly callable after loading.\n"
          ]
        },
        {
          "output_type": "stream",
          "name": "stdout",
          "text": [
            "\b\b\b\b\b\b\b\b\b\b\b\b\b\b\b\b\b\b\b\b\b\b\b\b\b\b\b\b\b\b\b\b\b\b\b\b\b\b\b\b\b\b\b\b\b\b\b\b\b\b\b\b\b\b\b\b\b\b\b\b\b\b\b\b\b\b\b\b\b\b\b\b\b\b\b\b\b\b\b\b\b\b\b\b\b\b\b\b\b\b\b\b\b\b\b\b\b\b\b\b\b\b\b\b\b\b\b\b\b\b\b\b\b\b\b\b\b\b\b\b\b\b\b\b\b\b\r137/137 [==============================] - 458s 3s/step - batch: 68.0000 - size: 8.0000 - loss: 18786292033.6751 - accuracy: 0.1113 - val_loss: 2.5143 - val_accuracy: 0.1728\n",
            "Epoch 2/100\n",
            "137/137 [==============================] - ETA: 0s - batch: 68.0000 - size: 8.0000 - loss: 234.9802 - accuracy: 0.1095"
          ]
        },
        {
          "output_type": "stream",
          "name": "stderr",
          "text": [
            "WARNING:absl:Found untraced functions such as _jit_compiled_convolution_op, _jit_compiled_convolution_op, _jit_compiled_convolution_op, _jit_compiled_convolution_op, _jit_compiled_convolution_op while saving (showing 5 of 6). These functions will not be directly callable after loading.\n"
          ]
        },
        {
          "output_type": "stream",
          "name": "stdout",
          "text": [
            "\b\b\b\b\b\b\b\b\b\b\b\b\b\b\b\b\b\b\b\b\b\b\b\b\b\b\b\b\b\b\b\b\b\b\b\b\b\b\b\b\b\b\b\b\b\b\b\b\b\b\b\b\b\b\b\b\b\b\b\b\b\b\b\b\b\b\b\b\b\b\b\b\b\b\b\b\b\b\b\b\b\b\b\b\b\b\b\b\b\b\b\b\b\b\b\b\b\b\b\b\b\b\b\b\b\b\b\b\b\b\b\b\b\b\b\b\b\b\r137/137 [==============================] - 49s 362ms/step - batch: 68.0000 - size: 8.0000 - loss: 234.9802 - accuracy: 0.1095 - val_loss: 2.3092 - val_accuracy: 0.1029\n",
            "Epoch 3/100\n",
            "137/137 [==============================] - ETA: 0s - batch: 68.0000 - size: 8.0000 - loss: 2.3285 - accuracy: 0.1040"
          ]
        },
        {
          "output_type": "stream",
          "name": "stderr",
          "text": [
            "WARNING:absl:Found untraced functions such as _jit_compiled_convolution_op, _jit_compiled_convolution_op, _jit_compiled_convolution_op, _jit_compiled_convolution_op, _jit_compiled_convolution_op while saving (showing 5 of 6). These functions will not be directly callable after loading.\n"
          ]
        },
        {
          "output_type": "stream",
          "name": "stdout",
          "text": [
            "\b\b\b\b\b\b\b\b\b\b\b\b\b\b\b\b\b\b\b\b\b\b\b\b\b\b\b\b\b\b\b\b\b\b\b\b\b\b\b\b\b\b\b\b\b\b\b\b\b\b\b\b\b\b\b\b\b\b\b\b\b\b\b\b\b\b\b\b\b\b\b\b\b\b\b\b\b\b\b\b\b\b\b\b\b\b\b\b\b\b\b\b\b\b\b\b\b\b\b\b\b\b\b\b\b\b\b\b\b\b\b\b\b\b\b\b\r137/137 [==============================] - 47s 341ms/step - batch: 68.0000 - size: 8.0000 - loss: 2.3285 - accuracy: 0.1040 - val_loss: 2.3020 - val_accuracy: 0.1029\n",
            "Epoch 4/100\n",
            "137/137 [==============================] - 38s 280ms/step - batch: 68.0000 - size: 8.0000 - loss: 19209.2106 - accuracy: 0.1077 - val_loss: 2.4688 - val_accuracy: 0.1176\n",
            "Epoch 5/100\n",
            "137/137 [==============================] - 39s 286ms/step - batch: 68.0000 - size: 8.0000 - loss: 5240.1942 - accuracy: 0.1141 - val_loss: 2.3542 - val_accuracy: 0.1140\n",
            "Epoch 6/100\n",
            "137/137 [==============================] - 38s 278ms/step - batch: 68.0000 - size: 8.0000 - loss: 246.4312 - accuracy: 0.1131 - val_loss: 5.9935 - val_accuracy: 0.0919\n",
            "Epoch 7/100\n",
            "137/137 [==============================] - 38s 279ms/step - batch: 68.0000 - size: 8.0000 - loss: 6.0469 - accuracy: 0.1141 - val_loss: 2.3023 - val_accuracy: 0.0993\n",
            "Epoch 8/100\n",
            "137/137 [==============================] - 38s 276ms/step - batch: 68.0000 - size: 8.0000 - loss: 97.7599 - accuracy: 0.1077 - val_loss: 2.3057 - val_accuracy: 0.1029\n",
            "Epoch 9/100\n",
            "137/137 [==============================] - ETA: 0s - batch: 68.0000 - size: 8.0000 - loss: 9.8591 - accuracy: 0.1077"
          ]
        },
        {
          "output_type": "stream",
          "name": "stderr",
          "text": [
            "WARNING:absl:Found untraced functions such as _jit_compiled_convolution_op, _jit_compiled_convolution_op, _jit_compiled_convolution_op, _jit_compiled_convolution_op, _jit_compiled_convolution_op while saving (showing 5 of 6). These functions will not be directly callable after loading.\n"
          ]
        },
        {
          "output_type": "stream",
          "name": "stdout",
          "text": [
            "\b\b\b\b\b\b\b\b\b\b\b\b\b\b\b\b\b\b\b\b\b\b\b\b\b\b\b\b\b\b\b\b\b\b\b\b\b\b\b\b\b\b\b\b\b\b\b\b\b\b\b\b\b\b\b\b\b\b\b\b\b\b\b\b\b\b\b\b\b\b\b\b\b\b\b\b\b\b\b\b\b\b\b\b\b\b\b\b\b\b\b\b\b\b\b\b\b\b\b\b\b\b\b\b\b\b\b\b\b\b\b\b\b\b\b\b\r137/137 [==============================] - 48s 355ms/step - batch: 68.0000 - size: 8.0000 - loss: 9.8591 - accuracy: 0.1077 - val_loss: 2.3018 - val_accuracy: 0.1103\n",
            "Epoch 10/100\n",
            "137/137 [==============================] - 40s 292ms/step - batch: 68.0000 - size: 8.0000 - loss: 2.7828 - accuracy: 0.1150 - val_loss: 2.3037 - val_accuracy: 0.1103\n",
            "Epoch 11/100\n",
            "137/137 [==============================] - 38s 277ms/step - batch: 68.0000 - size: 8.0000 - loss: 3.9201 - accuracy: 0.1296 - val_loss: 2.3019 - val_accuracy: 0.1103\n",
            "Epoch 12/100\n",
            "137/137 [==============================] - 38s 275ms/step - batch: 68.0000 - size: 8.0000 - loss: 13.5373 - accuracy: 0.1040 - val_loss: 2.3020 - val_accuracy: 0.1103\n",
            "Epoch 13/100\n",
            "137/137 [==============================] - 37s 271ms/step - batch: 68.0000 - size: 8.0000 - loss: 4.0357 - accuracy: 0.1159 - val_loss: 2.3019 - val_accuracy: 0.1103\n",
            "Epoch 14/100\n",
            "137/137 [==============================] - 37s 274ms/step - batch: 68.0000 - size: 8.0000 - loss: 2.3143 - accuracy: 0.1223 - val_loss: 2.3020 - val_accuracy: 0.1103\n",
            "Epoch 15/100\n",
            "137/137 [==============================] - 36s 266ms/step - batch: 68.0000 - size: 8.0000 - loss: 3.2946 - accuracy: 0.1159 - val_loss: 2.3250 - val_accuracy: 0.1140\n",
            "Epoch 16/100\n",
            "137/137 [==============================] - ETA: 0s - batch: 68.0000 - size: 8.0000 - loss: 21.9405 - accuracy: 0.1004"
          ]
        },
        {
          "output_type": "stream",
          "name": "stderr",
          "text": [
            "WARNING:absl:Found untraced functions such as _jit_compiled_convolution_op, _jit_compiled_convolution_op, _jit_compiled_convolution_op, _jit_compiled_convolution_op, _jit_compiled_convolution_op while saving (showing 5 of 6). These functions will not be directly callable after loading.\n"
          ]
        },
        {
          "output_type": "stream",
          "name": "stdout",
          "text": [
            "\b\b\b\b\b\b\b\b\b\b\b\b\b\b\b\b\b\b\b\b\b\b\b\b\b\b\b\b\b\b\b\b\b\b\b\b\b\b\b\b\b\b\b\b\b\b\b\b\b\b\b\b\b\b\b\b\b\b\b\b\b\b\b\b\b\b\b\b\b\b\b\b\b\b\b\b\b\b\b\b\b\b\b\b\b\b\b\b\b\b\b\b\b\b\b\b\b\b\b\b\b\b\b\b\b\b\b\b\b\b\b\b\b\b\b\b\b\r137/137 [==============================] - 46s 340ms/step - batch: 68.0000 - size: 8.0000 - loss: 21.9405 - accuracy: 0.1004 - val_loss: 2.3016 - val_accuracy: 0.1103\n",
            "Epoch 17/100\n",
            "137/137 [==============================] - 40s 296ms/step - batch: 68.0000 - size: 8.0000 - loss: 3.6220 - accuracy: 0.1122 - val_loss: 2.3030 - val_accuracy: 0.1103\n",
            "Epoch 18/100\n",
            "137/137 [==============================] - 38s 279ms/step - batch: 68.0000 - size: 8.0000 - loss: 31.0257 - accuracy: 0.1013 - val_loss: 2.3531 - val_accuracy: 0.1103\n",
            "Epoch 19/100\n",
            "137/137 [==============================] - 36s 264ms/step - batch: 68.0000 - size: 8.0000 - loss: 3.0764 - accuracy: 0.1004 - val_loss: 2.3091 - val_accuracy: 0.1103\n",
            "Epoch 20/100\n",
            "137/137 [==============================] - 38s 276ms/step - batch: 68.0000 - size: 8.0000 - loss: 2.4942 - accuracy: 0.1077 - val_loss: 2.3018 - val_accuracy: 0.1103\n",
            "Epoch 21/100\n",
            "137/137 [==============================] - 37s 270ms/step - batch: 68.0000 - size: 8.0000 - loss: 3.3268 - accuracy: 0.1122 - val_loss: 2.3018 - val_accuracy: 0.1103\n",
            "Epoch 22/100\n",
            "137/137 [==============================] - 36s 261ms/step - batch: 68.0000 - size: 8.0000 - loss: 5.2754 - accuracy: 0.1159 - val_loss: 2.3050 - val_accuracy: 0.1103\n",
            "Epoch 23/100\n",
            "137/137 [==============================] - 37s 273ms/step - batch: 68.0000 - size: 8.0000 - loss: 2.3797 - accuracy: 0.1122 - val_loss: 2.3781 - val_accuracy: 0.1103\n",
            "Epoch 24/100\n",
            "137/137 [==============================] - 37s 270ms/step - batch: 68.0000 - size: 8.0000 - loss: 2.3577 - accuracy: 0.1150 - val_loss: 2.3017 - val_accuracy: 0.1103\n",
            "Epoch 25/100\n",
            "137/137 [==============================] - 36s 262ms/step - batch: 68.0000 - size: 8.0000 - loss: 2.3057 - accuracy: 0.1177 - val_loss: 2.3018 - val_accuracy: 0.1103\n",
            "Epoch 26/100\n",
            "137/137 [==============================] - 37s 270ms/step - batch: 68.0000 - size: 8.0000 - loss: 2.3351 - accuracy: 0.1104 - val_loss: 2.3094 - val_accuracy: 0.1103\n",
            "Epoch 27/100\n",
            "137/137 [==============================] - 37s 268ms/step - batch: 68.0000 - size: 8.0000 - loss: 2.3871 - accuracy: 0.1204 - val_loss: 2.3036 - val_accuracy: 0.1103\n",
            "Epoch 28/100\n",
            "137/137 [==============================] - 37s 273ms/step - batch: 68.0000 - size: 8.0000 - loss: 2.3014 - accuracy: 0.1177 - val_loss: 2.3016 - val_accuracy: 0.1103\n",
            "Epoch 29/100\n",
            "137/137 [==============================] - 37s 271ms/step - batch: 68.0000 - size: 8.0000 - loss: 2.8365 - accuracy: 0.1232 - val_loss: 2.3018 - val_accuracy: 0.1103\n",
            "Epoch 30/100\n",
            "137/137 [==============================] - 37s 273ms/step - batch: 68.0000 - size: 8.0000 - loss: 2.3161 - accuracy: 0.1204 - val_loss: 2.3016 - val_accuracy: 0.1103\n",
            "Epoch 31/100\n",
            "137/137 [==============================] - 36s 267ms/step - batch: 68.0000 - size: 8.0000 - loss: 2.3229 - accuracy: 0.1259 - val_loss: 2.3016 - val_accuracy: 0.1103\n",
            "Epoch 32/100\n",
            "137/137 [==============================] - 36s 266ms/step - batch: 68.0000 - size: 8.0000 - loss: 2.3087 - accuracy: 0.1058 - val_loss: 2.3016 - val_accuracy: 0.1103\n",
            "Epoch 33/100\n",
            "137/137 [==============================] - 37s 273ms/step - batch: 68.0000 - size: 8.0000 - loss: 2.3014 - accuracy: 0.1150 - val_loss: 2.3017 - val_accuracy: 0.1103\n",
            "Epoch 34/100\n",
            "137/137 [==============================] - 37s 274ms/step - batch: 68.0000 - size: 8.0000 - loss: 2.3016 - accuracy: 0.1150 - val_loss: 2.3018 - val_accuracy: 0.1103\n",
            "Epoch 35/100\n",
            "137/137 [==============================] - 38s 276ms/step - batch: 68.0000 - size: 8.0000 - loss: 2.3025 - accuracy: 0.1131 - val_loss: 2.3018 - val_accuracy: 0.1103\n",
            "Epoch 36/100\n",
            "137/137 [==============================] - 37s 274ms/step - batch: 68.0000 - size: 8.0000 - loss: 2.3038 - accuracy: 0.1031 - val_loss: 2.3017 - val_accuracy: 0.1103\n",
            "CPU times: user 40min 30s, sys: 6min 32s, total: 47min 2s\n",
            "Wall time: 30min 10s\n"
          ]
        }
      ],
      "source": [
        "%%time\n",
        "\n",
        "# train the model \n",
        "history1 = model.fit(train_data_gen, \n",
        "                              epochs = epochs, \n",
        "                              steps_per_epoch = num_train_steps, \n",
        "                              validation_data = valid_data_gen, \n",
        "                              validation_steps = num_valid_steps,\n",
        "                              callbacks = [early_stopping, model_checkpoint])"
      ]
    },
    {
      "cell_type": "code",
      "execution_count": 19,
      "metadata": {
        "id": "Qhkb7xSA6m5s",
        "outputId": "b1a23ab2-788c-4b1b-93d8-509f7dc797bf",
        "colab": {
          "base_uri": "https://localhost:8080/"
        }
      },
      "outputs": [
        {
          "output_type": "execute_result",
          "data": {
            "text/plain": [
              "dict_keys(['loss', 'accuracy', 'val_loss', 'val_accuracy'])"
            ]
          },
          "metadata": {},
          "execution_count": 19
        }
      ],
      "source": [
        "history1.history.keys()"
      ]
    },
    {
      "cell_type": "code",
      "execution_count": 20,
      "metadata": {
        "id": "5-IB0o62m_oJ",
        "colab": {
          "base_uri": "https://localhost:8080/",
          "height": 463
        },
        "outputId": "af570489-d954-45dc-c2bd-7cd334f1bbb3"
      },
      "outputs": [
        {
          "output_type": "display_data",
          "data": {
            "text/plain": [
              "<Figure size 720x360 with 2 Axes>"
            ],
            "image/svg+xml": "<?xml version=\"1.0\" encoding=\"utf-8\" standalone=\"no\"?>\n<!DOCTYPE svg PUBLIC \"-//W3C//DTD SVG 1.1//EN\"\n  \"http://www.w3.org/Graphics/SVG/1.1/DTD/svg11.dtd\">\n<!-- Created with matplotlib (https://matplotlib.org/) -->\n<svg height=\"331.674375pt\" version=\"1.1\" viewBox=\"0 0 615.34375 331.674375\" width=\"615.34375pt\" xmlns=\"http://www.w3.org/2000/svg\" xmlns:xlink=\"http://www.w3.org/1999/xlink\">\n <defs>\n  <style type=\"text/css\">\n*{stroke-linecap:butt;stroke-linejoin:round;}\n  </style>\n </defs>\n <g id=\"figure_1\">\n  <g id=\"patch_1\">\n   <path d=\"M 0 331.674375 \nL 615.34375 331.674375 \nL 615.34375 0 \nL 0 0 \nz\n\" style=\"fill:none;\"/>\n  </g>\n  <g id=\"axes_1\">\n   <g id=\"patch_2\">\n    <path d=\"M 50.14375 294.118125 \nL 303.780114 294.118125 \nL 303.780114 22.318125 \nL 50.14375 22.318125 \nz\n\" style=\"fill:#ffffff;\"/>\n   </g>\n   <g id=\"matplotlib.axis_1\">\n    <g id=\"xtick_1\">\n     <g id=\"line2d_1\">\n      <defs>\n       <path d=\"M 0 0 \nL 0 3.5 \n\" id=\"m643603c124\" style=\"stroke:#000000;stroke-width:0.8;\"/>\n      </defs>\n      <g>\n       <use style=\"stroke:#000000;stroke-width:0.8;\" x=\"61.672676\" xlink:href=\"#m643603c124\" y=\"294.118125\"/>\n      </g>\n     </g>\n     <g id=\"text_1\">\n      <!-- 0 -->\n      <defs>\n       <path d=\"M 31.78125 66.40625 \nQ 24.171875 66.40625 20.328125 58.90625 \nQ 16.5 51.421875 16.5 36.375 \nQ 16.5 21.390625 20.328125 13.890625 \nQ 24.171875 6.390625 31.78125 6.390625 \nQ 39.453125 6.390625 43.28125 13.890625 \nQ 47.125 21.390625 47.125 36.375 \nQ 47.125 51.421875 43.28125 58.90625 \nQ 39.453125 66.40625 31.78125 66.40625 \nz\nM 31.78125 74.21875 \nQ 44.046875 74.21875 50.515625 64.515625 \nQ 56.984375 54.828125 56.984375 36.375 \nQ 56.984375 17.96875 50.515625 8.265625 \nQ 44.046875 -1.421875 31.78125 -1.421875 \nQ 19.53125 -1.421875 13.0625 8.265625 \nQ 6.59375 17.96875 6.59375 36.375 \nQ 6.59375 54.828125 13.0625 64.515625 \nQ 19.53125 74.21875 31.78125 74.21875 \nz\n\" id=\"DejaVuSans-48\"/>\n      </defs>\n      <g transform=\"translate(58.491426 308.716563)scale(0.1 -0.1)\">\n       <use xlink:href=\"#DejaVuSans-48\"/>\n      </g>\n     </g>\n    </g>\n    <g id=\"xtick_2\">\n     <g id=\"line2d_2\">\n      <g>\n       <use style=\"stroke:#000000;stroke-width:0.8;\" x=\"94.612463\" xlink:href=\"#m643603c124\" y=\"294.118125\"/>\n      </g>\n     </g>\n     <g id=\"text_2\">\n      <!-- 5 -->\n      <defs>\n       <path d=\"M 10.796875 72.90625 \nL 49.515625 72.90625 \nL 49.515625 64.59375 \nL 19.828125 64.59375 \nL 19.828125 46.734375 \nQ 21.96875 47.46875 24.109375 47.828125 \nQ 26.265625 48.1875 28.421875 48.1875 \nQ 40.625 48.1875 47.75 41.5 \nQ 54.890625 34.8125 54.890625 23.390625 \nQ 54.890625 11.625 47.5625 5.09375 \nQ 40.234375 -1.421875 26.90625 -1.421875 \nQ 22.3125 -1.421875 17.546875 -0.640625 \nQ 12.796875 0.140625 7.71875 1.703125 \nL 7.71875 11.625 \nQ 12.109375 9.234375 16.796875 8.0625 \nQ 21.484375 6.890625 26.703125 6.890625 \nQ 35.15625 6.890625 40.078125 11.328125 \nQ 45.015625 15.765625 45.015625 23.390625 \nQ 45.015625 31 40.078125 35.4375 \nQ 35.15625 39.890625 26.703125 39.890625 \nQ 22.75 39.890625 18.8125 39.015625 \nQ 14.890625 38.140625 10.796875 36.28125 \nz\n\" id=\"DejaVuSans-53\"/>\n      </defs>\n      <g transform=\"translate(91.431213 308.716563)scale(0.1 -0.1)\">\n       <use xlink:href=\"#DejaVuSans-53\"/>\n      </g>\n     </g>\n    </g>\n    <g id=\"xtick_3\">\n     <g id=\"line2d_3\">\n      <g>\n       <use style=\"stroke:#000000;stroke-width:0.8;\" x=\"127.552251\" xlink:href=\"#m643603c124\" y=\"294.118125\"/>\n      </g>\n     </g>\n     <g id=\"text_3\">\n      <!-- 10 -->\n      <defs>\n       <path d=\"M 12.40625 8.296875 \nL 28.515625 8.296875 \nL 28.515625 63.921875 \nL 10.984375 60.40625 \nL 10.984375 69.390625 \nL 28.421875 72.90625 \nL 38.28125 72.90625 \nL 38.28125 8.296875 \nL 54.390625 8.296875 \nL 54.390625 0 \nL 12.40625 0 \nz\n\" id=\"DejaVuSans-49\"/>\n      </defs>\n      <g transform=\"translate(121.189751 308.716563)scale(0.1 -0.1)\">\n       <use xlink:href=\"#DejaVuSans-49\"/>\n       <use x=\"63.623047\" xlink:href=\"#DejaVuSans-48\"/>\n      </g>\n     </g>\n    </g>\n    <g id=\"xtick_4\">\n     <g id=\"line2d_4\">\n      <g>\n       <use style=\"stroke:#000000;stroke-width:0.8;\" x=\"160.492038\" xlink:href=\"#m643603c124\" y=\"294.118125\"/>\n      </g>\n     </g>\n     <g id=\"text_4\">\n      <!-- 15 -->\n      <g transform=\"translate(154.129538 308.716563)scale(0.1 -0.1)\">\n       <use xlink:href=\"#DejaVuSans-49\"/>\n       <use x=\"63.623047\" xlink:href=\"#DejaVuSans-53\"/>\n      </g>\n     </g>\n    </g>\n    <g id=\"xtick_5\">\n     <g id=\"line2d_5\">\n      <g>\n       <use style=\"stroke:#000000;stroke-width:0.8;\" x=\"193.431826\" xlink:href=\"#m643603c124\" y=\"294.118125\"/>\n      </g>\n     </g>\n     <g id=\"text_5\">\n      <!-- 20 -->\n      <defs>\n       <path d=\"M 19.1875 8.296875 \nL 53.609375 8.296875 \nL 53.609375 0 \nL 7.328125 0 \nL 7.328125 8.296875 \nQ 12.9375 14.109375 22.625 23.890625 \nQ 32.328125 33.6875 34.8125 36.53125 \nQ 39.546875 41.84375 41.421875 45.53125 \nQ 43.3125 49.21875 43.3125 52.78125 \nQ 43.3125 58.59375 39.234375 62.25 \nQ 35.15625 65.921875 28.609375 65.921875 \nQ 23.96875 65.921875 18.8125 64.3125 \nQ 13.671875 62.703125 7.8125 59.421875 \nL 7.8125 69.390625 \nQ 13.765625 71.78125 18.9375 73 \nQ 24.125 74.21875 28.421875 74.21875 \nQ 39.75 74.21875 46.484375 68.546875 \nQ 53.21875 62.890625 53.21875 53.421875 \nQ 53.21875 48.921875 51.53125 44.890625 \nQ 49.859375 40.875 45.40625 35.40625 \nQ 44.1875 33.984375 37.640625 27.21875 \nQ 31.109375 20.453125 19.1875 8.296875 \nz\n\" id=\"DejaVuSans-50\"/>\n      </defs>\n      <g transform=\"translate(187.069326 308.716563)scale(0.1 -0.1)\">\n       <use xlink:href=\"#DejaVuSans-50\"/>\n       <use x=\"63.623047\" xlink:href=\"#DejaVuSans-48\"/>\n      </g>\n     </g>\n    </g>\n    <g id=\"xtick_6\">\n     <g id=\"line2d_6\">\n      <g>\n       <use style=\"stroke:#000000;stroke-width:0.8;\" x=\"226.371613\" xlink:href=\"#m643603c124\" y=\"294.118125\"/>\n      </g>\n     </g>\n     <g id=\"text_6\">\n      <!-- 25 -->\n      <g transform=\"translate(220.009113 308.716563)scale(0.1 -0.1)\">\n       <use xlink:href=\"#DejaVuSans-50\"/>\n       <use x=\"63.623047\" xlink:href=\"#DejaVuSans-53\"/>\n      </g>\n     </g>\n    </g>\n    <g id=\"xtick_7\">\n     <g id=\"line2d_7\">\n      <g>\n       <use style=\"stroke:#000000;stroke-width:0.8;\" x=\"259.311401\" xlink:href=\"#m643603c124\" y=\"294.118125\"/>\n      </g>\n     </g>\n     <g id=\"text_7\">\n      <!-- 30 -->\n      <defs>\n       <path d=\"M 40.578125 39.3125 \nQ 47.65625 37.796875 51.625 33 \nQ 55.609375 28.21875 55.609375 21.1875 \nQ 55.609375 10.40625 48.1875 4.484375 \nQ 40.765625 -1.421875 27.09375 -1.421875 \nQ 22.515625 -1.421875 17.65625 -0.515625 \nQ 12.796875 0.390625 7.625 2.203125 \nL 7.625 11.71875 \nQ 11.71875 9.328125 16.59375 8.109375 \nQ 21.484375 6.890625 26.8125 6.890625 \nQ 36.078125 6.890625 40.9375 10.546875 \nQ 45.796875 14.203125 45.796875 21.1875 \nQ 45.796875 27.640625 41.28125 31.265625 \nQ 36.765625 34.90625 28.71875 34.90625 \nL 20.21875 34.90625 \nL 20.21875 43.015625 \nL 29.109375 43.015625 \nQ 36.375 43.015625 40.234375 45.921875 \nQ 44.09375 48.828125 44.09375 54.296875 \nQ 44.09375 59.90625 40.109375 62.90625 \nQ 36.140625 65.921875 28.71875 65.921875 \nQ 24.65625 65.921875 20.015625 65.03125 \nQ 15.375 64.15625 9.8125 62.3125 \nL 9.8125 71.09375 \nQ 15.4375 72.65625 20.34375 73.4375 \nQ 25.25 74.21875 29.59375 74.21875 \nQ 40.828125 74.21875 47.359375 69.109375 \nQ 53.90625 64.015625 53.90625 55.328125 \nQ 53.90625 49.265625 50.4375 45.09375 \nQ 46.96875 40.921875 40.578125 39.3125 \nz\n\" id=\"DejaVuSans-51\"/>\n      </defs>\n      <g transform=\"translate(252.948901 308.716563)scale(0.1 -0.1)\">\n       <use xlink:href=\"#DejaVuSans-51\"/>\n       <use x=\"63.623047\" xlink:href=\"#DejaVuSans-48\"/>\n      </g>\n     </g>\n    </g>\n    <g id=\"xtick_8\">\n     <g id=\"line2d_8\">\n      <g>\n       <use style=\"stroke:#000000;stroke-width:0.8;\" x=\"292.251188\" xlink:href=\"#m643603c124\" y=\"294.118125\"/>\n      </g>\n     </g>\n     <g id=\"text_8\">\n      <!-- 35 -->\n      <g transform=\"translate(285.888688 308.716563)scale(0.1 -0.1)\">\n       <use xlink:href=\"#DejaVuSans-51\"/>\n       <use x=\"63.623047\" xlink:href=\"#DejaVuSans-53\"/>\n      </g>\n     </g>\n    </g>\n    <g id=\"text_9\">\n     <!-- Epoch -->\n     <defs>\n      <path d=\"M 9.8125 72.90625 \nL 55.90625 72.90625 \nL 55.90625 64.59375 \nL 19.671875 64.59375 \nL 19.671875 43.015625 \nL 54.390625 43.015625 \nL 54.390625 34.71875 \nL 19.671875 34.71875 \nL 19.671875 8.296875 \nL 56.78125 8.296875 \nL 56.78125 0 \nL 9.8125 0 \nz\n\" id=\"DejaVuSans-69\"/>\n      <path d=\"M 18.109375 8.203125 \nL 18.109375 -20.796875 \nL 9.078125 -20.796875 \nL 9.078125 54.6875 \nL 18.109375 54.6875 \nL 18.109375 46.390625 \nQ 20.953125 51.265625 25.265625 53.625 \nQ 29.59375 56 35.59375 56 \nQ 45.5625 56 51.78125 48.09375 \nQ 58.015625 40.1875 58.015625 27.296875 \nQ 58.015625 14.40625 51.78125 6.484375 \nQ 45.5625 -1.421875 35.59375 -1.421875 \nQ 29.59375 -1.421875 25.265625 0.953125 \nQ 20.953125 3.328125 18.109375 8.203125 \nz\nM 48.6875 27.296875 \nQ 48.6875 37.203125 44.609375 42.84375 \nQ 40.53125 48.484375 33.40625 48.484375 \nQ 26.265625 48.484375 22.1875 42.84375 \nQ 18.109375 37.203125 18.109375 27.296875 \nQ 18.109375 17.390625 22.1875 11.75 \nQ 26.265625 6.109375 33.40625 6.109375 \nQ 40.53125 6.109375 44.609375 11.75 \nQ 48.6875 17.390625 48.6875 27.296875 \nz\n\" id=\"DejaVuSans-112\"/>\n      <path d=\"M 30.609375 48.390625 \nQ 23.390625 48.390625 19.1875 42.75 \nQ 14.984375 37.109375 14.984375 27.296875 \nQ 14.984375 17.484375 19.15625 11.84375 \nQ 23.34375 6.203125 30.609375 6.203125 \nQ 37.796875 6.203125 41.984375 11.859375 \nQ 46.1875 17.53125 46.1875 27.296875 \nQ 46.1875 37.015625 41.984375 42.703125 \nQ 37.796875 48.390625 30.609375 48.390625 \nz\nM 30.609375 56 \nQ 42.328125 56 49.015625 48.375 \nQ 55.71875 40.765625 55.71875 27.296875 \nQ 55.71875 13.875 49.015625 6.21875 \nQ 42.328125 -1.421875 30.609375 -1.421875 \nQ 18.84375 -1.421875 12.171875 6.21875 \nQ 5.515625 13.875 5.515625 27.296875 \nQ 5.515625 40.765625 12.171875 48.375 \nQ 18.84375 56 30.609375 56 \nz\n\" id=\"DejaVuSans-111\"/>\n      <path d=\"M 48.78125 52.59375 \nL 48.78125 44.1875 \nQ 44.96875 46.296875 41.140625 47.34375 \nQ 37.3125 48.390625 33.40625 48.390625 \nQ 24.65625 48.390625 19.8125 42.84375 \nQ 14.984375 37.3125 14.984375 27.296875 \nQ 14.984375 17.28125 19.8125 11.734375 \nQ 24.65625 6.203125 33.40625 6.203125 \nQ 37.3125 6.203125 41.140625 7.25 \nQ 44.96875 8.296875 48.78125 10.40625 \nL 48.78125 2.09375 \nQ 45.015625 0.34375 40.984375 -0.53125 \nQ 36.96875 -1.421875 32.421875 -1.421875 \nQ 20.0625 -1.421875 12.78125 6.34375 \nQ 5.515625 14.109375 5.515625 27.296875 \nQ 5.515625 40.671875 12.859375 48.328125 \nQ 20.21875 56 33.015625 56 \nQ 37.15625 56 41.109375 55.140625 \nQ 45.0625 54.296875 48.78125 52.59375 \nz\n\" id=\"DejaVuSans-99\"/>\n      <path d=\"M 54.890625 33.015625 \nL 54.890625 0 \nL 45.90625 0 \nL 45.90625 32.71875 \nQ 45.90625 40.484375 42.875 44.328125 \nQ 39.84375 48.1875 33.796875 48.1875 \nQ 26.515625 48.1875 22.3125 43.546875 \nQ 18.109375 38.921875 18.109375 30.90625 \nL 18.109375 0 \nL 9.078125 0 \nL 9.078125 75.984375 \nL 18.109375 75.984375 \nL 18.109375 46.1875 \nQ 21.34375 51.125 25.703125 53.5625 \nQ 30.078125 56 35.796875 56 \nQ 45.21875 56 50.046875 50.171875 \nQ 54.890625 44.34375 54.890625 33.015625 \nz\n\" id=\"DejaVuSans-104\"/>\n     </defs>\n     <g transform=\"translate(161.650994 322.394687)scale(0.1 -0.1)\">\n      <use xlink:href=\"#DejaVuSans-69\"/>\n      <use x=\"63.183594\" xlink:href=\"#DejaVuSans-112\"/>\n      <use x=\"126.660156\" xlink:href=\"#DejaVuSans-111\"/>\n      <use x=\"187.841797\" xlink:href=\"#DejaVuSans-99\"/>\n      <use x=\"242.822266\" xlink:href=\"#DejaVuSans-104\"/>\n     </g>\n    </g>\n   </g>\n   <g id=\"matplotlib.axis_2\">\n    <g id=\"ytick_1\">\n     <g id=\"line2d_9\">\n      <defs>\n       <path d=\"M 0 0 \nL -3.5 0 \n\" id=\"ma4f661128d\" style=\"stroke:#000000;stroke-width:0.8;\"/>\n      </defs>\n      <g>\n       <use style=\"stroke:#000000;stroke-width:0.8;\" x=\"50.14375\" xlink:href=\"#ma4f661128d\" y=\"281.76358\"/>\n      </g>\n     </g>\n     <g id=\"text_10\">\n      <!-- 0.00 -->\n      <defs>\n       <path d=\"M 10.6875 12.40625 \nL 21 12.40625 \nL 21 0 \nL 10.6875 0 \nz\n\" id=\"DejaVuSans-46\"/>\n      </defs>\n      <g transform=\"translate(20.878125 285.562798)scale(0.1 -0.1)\">\n       <use xlink:href=\"#DejaVuSans-48\"/>\n       <use x=\"63.623047\" xlink:href=\"#DejaVuSans-46\"/>\n       <use x=\"95.410156\" xlink:href=\"#DejaVuSans-48\"/>\n       <use x=\"159.033203\" xlink:href=\"#DejaVuSans-48\"/>\n      </g>\n     </g>\n    </g>\n    <g id=\"ytick_2\">\n     <g id=\"line2d_10\">\n      <g>\n       <use style=\"stroke:#000000;stroke-width:0.8;\" x=\"50.14375\" xlink:href=\"#ma4f661128d\" y=\"248.88177\"/>\n      </g>\n     </g>\n     <g id=\"text_11\">\n      <!-- 0.25 -->\n      <g transform=\"translate(20.878125 252.680989)scale(0.1 -0.1)\">\n       <use xlink:href=\"#DejaVuSans-48\"/>\n       <use x=\"63.623047\" xlink:href=\"#DejaVuSans-46\"/>\n       <use x=\"95.410156\" xlink:href=\"#DejaVuSans-50\"/>\n       <use x=\"159.033203\" xlink:href=\"#DejaVuSans-53\"/>\n      </g>\n     </g>\n    </g>\n    <g id=\"ytick_3\">\n     <g id=\"line2d_11\">\n      <g>\n       <use style=\"stroke:#000000;stroke-width:0.8;\" x=\"50.14375\" xlink:href=\"#ma4f661128d\" y=\"215.999961\"/>\n      </g>\n     </g>\n     <g id=\"text_12\">\n      <!-- 0.50 -->\n      <g transform=\"translate(20.878125 219.79918)scale(0.1 -0.1)\">\n       <use xlink:href=\"#DejaVuSans-48\"/>\n       <use x=\"63.623047\" xlink:href=\"#DejaVuSans-46\"/>\n       <use x=\"95.410156\" xlink:href=\"#DejaVuSans-53\"/>\n       <use x=\"159.033203\" xlink:href=\"#DejaVuSans-48\"/>\n      </g>\n     </g>\n    </g>\n    <g id=\"ytick_4\">\n     <g id=\"line2d_12\">\n      <g>\n       <use style=\"stroke:#000000;stroke-width:0.8;\" x=\"50.14375\" xlink:href=\"#ma4f661128d\" y=\"183.118152\"/>\n      </g>\n     </g>\n     <g id=\"text_13\">\n      <!-- 0.75 -->\n      <defs>\n       <path d=\"M 8.203125 72.90625 \nL 55.078125 72.90625 \nL 55.078125 68.703125 \nL 28.609375 0 \nL 18.3125 0 \nL 43.21875 64.59375 \nL 8.203125 64.59375 \nz\n\" id=\"DejaVuSans-55\"/>\n      </defs>\n      <g transform=\"translate(20.878125 186.91737)scale(0.1 -0.1)\">\n       <use xlink:href=\"#DejaVuSans-48\"/>\n       <use x=\"63.623047\" xlink:href=\"#DejaVuSans-46\"/>\n       <use x=\"95.410156\" xlink:href=\"#DejaVuSans-55\"/>\n       <use x=\"159.033203\" xlink:href=\"#DejaVuSans-53\"/>\n      </g>\n     </g>\n    </g>\n    <g id=\"ytick_5\">\n     <g id=\"line2d_13\">\n      <g>\n       <use style=\"stroke:#000000;stroke-width:0.8;\" x=\"50.14375\" xlink:href=\"#ma4f661128d\" y=\"150.236342\"/>\n      </g>\n     </g>\n     <g id=\"text_14\">\n      <!-- 1.00 -->\n      <g transform=\"translate(20.878125 154.035561)scale(0.1 -0.1)\">\n       <use xlink:href=\"#DejaVuSans-49\"/>\n       <use x=\"63.623047\" xlink:href=\"#DejaVuSans-46\"/>\n       <use x=\"95.410156\" xlink:href=\"#DejaVuSans-48\"/>\n       <use x=\"159.033203\" xlink:href=\"#DejaVuSans-48\"/>\n      </g>\n     </g>\n    </g>\n    <g id=\"ytick_6\">\n     <g id=\"line2d_14\">\n      <g>\n       <use style=\"stroke:#000000;stroke-width:0.8;\" x=\"50.14375\" xlink:href=\"#ma4f661128d\" y=\"117.354533\"/>\n      </g>\n     </g>\n     <g id=\"text_15\">\n      <!-- 1.25 -->\n      <g transform=\"translate(20.878125 121.153752)scale(0.1 -0.1)\">\n       <use xlink:href=\"#DejaVuSans-49\"/>\n       <use x=\"63.623047\" xlink:href=\"#DejaVuSans-46\"/>\n       <use x=\"95.410156\" xlink:href=\"#DejaVuSans-50\"/>\n       <use x=\"159.033203\" xlink:href=\"#DejaVuSans-53\"/>\n      </g>\n     </g>\n    </g>\n    <g id=\"ytick_7\">\n     <g id=\"line2d_15\">\n      <g>\n       <use style=\"stroke:#000000;stroke-width:0.8;\" x=\"50.14375\" xlink:href=\"#ma4f661128d\" y=\"84.472724\"/>\n      </g>\n     </g>\n     <g id=\"text_16\">\n      <!-- 1.50 -->\n      <g transform=\"translate(20.878125 88.271942)scale(0.1 -0.1)\">\n       <use xlink:href=\"#DejaVuSans-49\"/>\n       <use x=\"63.623047\" xlink:href=\"#DejaVuSans-46\"/>\n       <use x=\"95.410156\" xlink:href=\"#DejaVuSans-53\"/>\n       <use x=\"159.033203\" xlink:href=\"#DejaVuSans-48\"/>\n      </g>\n     </g>\n    </g>\n    <g id=\"ytick_8\">\n     <g id=\"line2d_16\">\n      <g>\n       <use style=\"stroke:#000000;stroke-width:0.8;\" x=\"50.14375\" xlink:href=\"#ma4f661128d\" y=\"51.590914\"/>\n      </g>\n     </g>\n     <g id=\"text_17\">\n      <!-- 1.75 -->\n      <g transform=\"translate(20.878125 55.390133)scale(0.1 -0.1)\">\n       <use xlink:href=\"#DejaVuSans-49\"/>\n       <use x=\"63.623047\" xlink:href=\"#DejaVuSans-46\"/>\n       <use x=\"95.410156\" xlink:href=\"#DejaVuSans-55\"/>\n       <use x=\"159.033203\" xlink:href=\"#DejaVuSans-53\"/>\n      </g>\n     </g>\n    </g>\n    <g id=\"text_18\">\n     <!-- loss -->\n     <defs>\n      <path d=\"M 9.421875 75.984375 \nL 18.40625 75.984375 \nL 18.40625 0 \nL 9.421875 0 \nz\n\" id=\"DejaVuSans-108\"/>\n      <path d=\"M 44.28125 53.078125 \nL 44.28125 44.578125 \nQ 40.484375 46.53125 36.375 47.5 \nQ 32.28125 48.484375 27.875 48.484375 \nQ 21.1875 48.484375 17.84375 46.4375 \nQ 14.5 44.390625 14.5 40.28125 \nQ 14.5 37.15625 16.890625 35.375 \nQ 19.28125 33.59375 26.515625 31.984375 \nL 29.59375 31.296875 \nQ 39.15625 29.25 43.1875 25.515625 \nQ 47.21875 21.78125 47.21875 15.09375 \nQ 47.21875 7.46875 41.1875 3.015625 \nQ 35.15625 -1.421875 24.609375 -1.421875 \nQ 20.21875 -1.421875 15.453125 -0.5625 \nQ 10.6875 0.296875 5.421875 2 \nL 5.421875 11.28125 \nQ 10.40625 8.6875 15.234375 7.390625 \nQ 20.0625 6.109375 24.8125 6.109375 \nQ 31.15625 6.109375 34.5625 8.28125 \nQ 37.984375 10.453125 37.984375 14.40625 \nQ 37.984375 18.0625 35.515625 20.015625 \nQ 33.0625 21.96875 24.703125 23.78125 \nL 21.578125 24.515625 \nQ 13.234375 26.265625 9.515625 29.90625 \nQ 5.8125 33.546875 5.8125 39.890625 \nQ 5.8125 47.609375 11.28125 51.796875 \nQ 16.75 56 26.8125 56 \nQ 31.78125 56 36.171875 55.265625 \nQ 40.578125 54.546875 44.28125 53.078125 \nz\n\" id=\"DejaVuSans-115\"/>\n     </defs>\n     <g transform=\"translate(14.798437 167.875938)rotate(-90)scale(0.1 -0.1)\">\n      <use xlink:href=\"#DejaVuSans-108\"/>\n      <use x=\"27.783203\" xlink:href=\"#DejaVuSans-111\"/>\n      <use x=\"88.964844\" xlink:href=\"#DejaVuSans-115\"/>\n      <use x=\"141.064453\" xlink:href=\"#DejaVuSans-115\"/>\n     </g>\n    </g>\n    <g id=\"text_19\">\n     <!-- 1e10 -->\n     <defs>\n      <path d=\"M 56.203125 29.59375 \nL 56.203125 25.203125 \nL 14.890625 25.203125 \nQ 15.484375 15.921875 20.484375 11.0625 \nQ 25.484375 6.203125 34.421875 6.203125 \nQ 39.59375 6.203125 44.453125 7.46875 \nQ 49.3125 8.734375 54.109375 11.28125 \nL 54.109375 2.78125 \nQ 49.265625 0.734375 44.1875 -0.34375 \nQ 39.109375 -1.421875 33.890625 -1.421875 \nQ 20.796875 -1.421875 13.15625 6.1875 \nQ 5.515625 13.8125 5.515625 26.8125 \nQ 5.515625 40.234375 12.765625 48.109375 \nQ 20.015625 56 32.328125 56 \nQ 43.359375 56 49.78125 48.890625 \nQ 56.203125 41.796875 56.203125 29.59375 \nz\nM 47.21875 32.234375 \nQ 47.125 39.59375 43.09375 43.984375 \nQ 39.0625 48.390625 32.421875 48.390625 \nQ 24.90625 48.390625 20.390625 44.140625 \nQ 15.875 39.890625 15.1875 32.171875 \nz\n\" id=\"DejaVuSans-101\"/>\n     </defs>\n     <g transform=\"translate(50.14375 19.318125)scale(0.1 -0.1)\">\n      <use xlink:href=\"#DejaVuSans-49\"/>\n      <use x=\"63.623047\" xlink:href=\"#DejaVuSans-101\"/>\n      <use x=\"125.146484\" xlink:href=\"#DejaVuSans-49\"/>\n      <use x=\"188.769531\" xlink:href=\"#DejaVuSans-48\"/>\n     </g>\n    </g>\n   </g>\n   <g id=\"line2d_17\">\n    <path clip-path=\"url(#p6149d6655c)\" d=\"M 61.672676 34.67267 \nL 68.260633 281.763576 \nL 74.848591 281.76358 \nL 81.436548 281.763327 \nL 88.024506 281.763511 \nL 94.612463 281.763576 \nL 101.200421 281.763579 \nL 107.788378 281.763578 \nL 114.376336 281.763579 \nL 120.964293 281.76358 \nL 127.552251 281.76358 \nL 134.140208 281.763579 \nL 140.728166 281.76358 \nL 147.316123 281.76358 \nL 153.904081 281.76358 \nL 160.492038 281.763579 \nL 167.079996 281.76358 \nL 173.667953 281.763579 \nL 180.255911 281.76358 \nL 186.843868 281.76358 \nL 193.431826 281.76358 \nL 200.019783 281.76358 \nL 206.607741 281.76358 \nL 213.195698 281.76358 \nL 219.783656 281.76358 \nL 226.371613 281.76358 \nL 232.959571 281.76358 \nL 239.547528 281.76358 \nL 246.135486 281.76358 \nL 252.723443 281.76358 \nL 259.311401 281.76358 \nL 265.899358 281.76358 \nL 272.487316 281.76358 \nL 279.075273 281.76358 \nL 285.663231 281.76358 \nL 292.251188 281.76358 \n\" style=\"fill:none;stroke:#1f77b4;stroke-linecap:square;stroke-width:1.5;\"/>\n   </g>\n   <g id=\"line2d_18\">\n    <path clip-path=\"url(#p6149d6655c)\" d=\"M 61.672676 281.76358 \nL 68.260633 281.76358 \nL 74.848591 281.76358 \nL 81.436548 281.76358 \nL 88.024506 281.76358 \nL 94.612463 281.763579 \nL 101.200421 281.76358 \nL 107.788378 281.76358 \nL 114.376336 281.76358 \nL 120.964293 281.76358 \nL 127.552251 281.76358 \nL 134.140208 281.76358 \nL 140.728166 281.76358 \nL 147.316123 281.76358 \nL 153.904081 281.76358 \nL 160.492038 281.76358 \nL 167.079996 281.76358 \nL 173.667953 281.76358 \nL 180.255911 281.76358 \nL 186.843868 281.76358 \nL 193.431826 281.76358 \nL 200.019783 281.76358 \nL 206.607741 281.76358 \nL 213.195698 281.76358 \nL 219.783656 281.76358 \nL 226.371613 281.76358 \nL 232.959571 281.76358 \nL 239.547528 281.76358 \nL 246.135486 281.76358 \nL 252.723443 281.76358 \nL 259.311401 281.76358 \nL 265.899358 281.76358 \nL 272.487316 281.76358 \nL 279.075273 281.76358 \nL 285.663231 281.76358 \nL 292.251188 281.76358 \n\" style=\"fill:none;stroke:#ff7f0e;stroke-linecap:square;stroke-width:1.5;\"/>\n   </g>\n   <g id=\"patch_3\">\n    <path d=\"M 50.14375 294.118125 \nL 50.14375 22.318125 \n\" style=\"fill:none;stroke:#000000;stroke-linecap:square;stroke-linejoin:miter;stroke-width:0.8;\"/>\n   </g>\n   <g id=\"patch_4\">\n    <path d=\"M 303.780114 294.118125 \nL 303.780114 22.318125 \n\" style=\"fill:none;stroke:#000000;stroke-linecap:square;stroke-linejoin:miter;stroke-width:0.8;\"/>\n   </g>\n   <g id=\"patch_5\">\n    <path d=\"M 50.14375 294.118125 \nL 303.780114 294.118125 \n\" style=\"fill:none;stroke:#000000;stroke-linecap:square;stroke-linejoin:miter;stroke-width:0.8;\"/>\n   </g>\n   <g id=\"patch_6\">\n    <path d=\"M 50.14375 22.318125 \nL 303.780114 22.318125 \n\" style=\"fill:none;stroke:#000000;stroke-linecap:square;stroke-linejoin:miter;stroke-width:0.8;\"/>\n   </g>\n   <g id=\"text_20\">\n    <!-- Loss curve -->\n    <defs>\n     <path d=\"M 9.8125 72.90625 \nL 19.671875 72.90625 \nL 19.671875 8.296875 \nL 55.171875 8.296875 \nL 55.171875 0 \nL 9.8125 0 \nz\n\" id=\"DejaVuSans-76\"/>\n     <path id=\"DejaVuSans-32\"/>\n     <path d=\"M 8.5 21.578125 \nL 8.5 54.6875 \nL 17.484375 54.6875 \nL 17.484375 21.921875 \nQ 17.484375 14.15625 20.5 10.265625 \nQ 23.53125 6.390625 29.59375 6.390625 \nQ 36.859375 6.390625 41.078125 11.03125 \nQ 45.3125 15.671875 45.3125 23.6875 \nL 45.3125 54.6875 \nL 54.296875 54.6875 \nL 54.296875 0 \nL 45.3125 0 \nL 45.3125 8.40625 \nQ 42.046875 3.421875 37.71875 1 \nQ 33.40625 -1.421875 27.6875 -1.421875 \nQ 18.265625 -1.421875 13.375 4.4375 \nQ 8.5 10.296875 8.5 21.578125 \nz\nM 31.109375 56 \nz\n\" id=\"DejaVuSans-117\"/>\n     <path d=\"M 41.109375 46.296875 \nQ 39.59375 47.171875 37.8125 47.578125 \nQ 36.03125 48 33.890625 48 \nQ 26.265625 48 22.1875 43.046875 \nQ 18.109375 38.09375 18.109375 28.8125 \nL 18.109375 0 \nL 9.078125 0 \nL 9.078125 54.6875 \nL 18.109375 54.6875 \nL 18.109375 46.1875 \nQ 20.953125 51.171875 25.484375 53.578125 \nQ 30.03125 56 36.53125 56 \nQ 37.453125 56 38.578125 55.875 \nQ 39.703125 55.765625 41.0625 55.515625 \nz\n\" id=\"DejaVuSans-114\"/>\n     <path d=\"M 2.984375 54.6875 \nL 12.5 54.6875 \nL 29.59375 8.796875 \nL 46.6875 54.6875 \nL 56.203125 54.6875 \nL 35.6875 0 \nL 23.484375 0 \nz\n\" id=\"DejaVuSans-118\"/>\n    </defs>\n    <g transform=\"translate(145.083182 16.318125)scale(0.12 -0.12)\">\n     <use xlink:href=\"#DejaVuSans-76\"/>\n     <use x=\"53.962891\" xlink:href=\"#DejaVuSans-111\"/>\n     <use x=\"115.144531\" xlink:href=\"#DejaVuSans-115\"/>\n     <use x=\"167.244141\" xlink:href=\"#DejaVuSans-115\"/>\n     <use x=\"219.34375\" xlink:href=\"#DejaVuSans-32\"/>\n     <use x=\"251.130859\" xlink:href=\"#DejaVuSans-99\"/>\n     <use x=\"306.111328\" xlink:href=\"#DejaVuSans-117\"/>\n     <use x=\"369.490234\" xlink:href=\"#DejaVuSans-114\"/>\n     <use x=\"410.603516\" xlink:href=\"#DejaVuSans-118\"/>\n     <use x=\"469.783203\" xlink:href=\"#DejaVuSans-101\"/>\n    </g>\n   </g>\n   <g id=\"legend_1\">\n    <g id=\"patch_7\">\n     <path d=\"M 215.545739 59.674375 \nL 296.780114 59.674375 \nQ 298.780114 59.674375 298.780114 57.674375 \nL 298.780114 29.318125 \nQ 298.780114 27.318125 296.780114 27.318125 \nL 215.545739 27.318125 \nQ 213.545739 27.318125 213.545739 29.318125 \nL 213.545739 57.674375 \nQ 213.545739 59.674375 215.545739 59.674375 \nz\n\" style=\"fill:#ffffff;opacity:0.8;stroke:#cccccc;stroke-linejoin:miter;\"/>\n    </g>\n    <g id=\"line2d_19\">\n     <path d=\"M 217.545739 35.416562 \nL 237.545739 35.416562 \n\" style=\"fill:none;stroke:#1f77b4;stroke-linecap:square;stroke-width:1.5;\"/>\n    </g>\n    <g id=\"line2d_20\"/>\n    <g id=\"text_21\">\n     <!-- train -->\n     <defs>\n      <path d=\"M 18.3125 70.21875 \nL 18.3125 54.6875 \nL 36.8125 54.6875 \nL 36.8125 47.703125 \nL 18.3125 47.703125 \nL 18.3125 18.015625 \nQ 18.3125 11.328125 20.140625 9.421875 \nQ 21.96875 7.515625 27.59375 7.515625 \nL 36.8125 7.515625 \nL 36.8125 0 \nL 27.59375 0 \nQ 17.1875 0 13.234375 3.875 \nQ 9.28125 7.765625 9.28125 18.015625 \nL 9.28125 47.703125 \nL 2.6875 47.703125 \nL 2.6875 54.6875 \nL 9.28125 54.6875 \nL 9.28125 70.21875 \nz\n\" id=\"DejaVuSans-116\"/>\n      <path d=\"M 34.28125 27.484375 \nQ 23.390625 27.484375 19.1875 25 \nQ 14.984375 22.515625 14.984375 16.5 \nQ 14.984375 11.71875 18.140625 8.90625 \nQ 21.296875 6.109375 26.703125 6.109375 \nQ 34.1875 6.109375 38.703125 11.40625 \nQ 43.21875 16.703125 43.21875 25.484375 \nL 43.21875 27.484375 \nz\nM 52.203125 31.203125 \nL 52.203125 0 \nL 43.21875 0 \nL 43.21875 8.296875 \nQ 40.140625 3.328125 35.546875 0.953125 \nQ 30.953125 -1.421875 24.3125 -1.421875 \nQ 15.921875 -1.421875 10.953125 3.296875 \nQ 6 8.015625 6 15.921875 \nQ 6 25.140625 12.171875 29.828125 \nQ 18.359375 34.515625 30.609375 34.515625 \nL 43.21875 34.515625 \nL 43.21875 35.40625 \nQ 43.21875 41.609375 39.140625 45 \nQ 35.0625 48.390625 27.6875 48.390625 \nQ 23 48.390625 18.546875 47.265625 \nQ 14.109375 46.140625 10.015625 43.890625 \nL 10.015625 52.203125 \nQ 14.9375 54.109375 19.578125 55.046875 \nQ 24.21875 56 28.609375 56 \nQ 40.484375 56 46.34375 49.84375 \nQ 52.203125 43.703125 52.203125 31.203125 \nz\n\" id=\"DejaVuSans-97\"/>\n      <path d=\"M 9.421875 54.6875 \nL 18.40625 54.6875 \nL 18.40625 0 \nL 9.421875 0 \nz\nM 9.421875 75.984375 \nL 18.40625 75.984375 \nL 18.40625 64.59375 \nL 9.421875 64.59375 \nz\n\" id=\"DejaVuSans-105\"/>\n      <path d=\"M 54.890625 33.015625 \nL 54.890625 0 \nL 45.90625 0 \nL 45.90625 32.71875 \nQ 45.90625 40.484375 42.875 44.328125 \nQ 39.84375 48.1875 33.796875 48.1875 \nQ 26.515625 48.1875 22.3125 43.546875 \nQ 18.109375 38.921875 18.109375 30.90625 \nL 18.109375 0 \nL 9.078125 0 \nL 9.078125 54.6875 \nL 18.109375 54.6875 \nL 18.109375 46.1875 \nQ 21.34375 51.125 25.703125 53.5625 \nQ 30.078125 56 35.796875 56 \nQ 45.21875 56 50.046875 50.171875 \nQ 54.890625 44.34375 54.890625 33.015625 \nz\n\" id=\"DejaVuSans-110\"/>\n     </defs>\n     <g transform=\"translate(245.545739 38.916562)scale(0.1 -0.1)\">\n      <use xlink:href=\"#DejaVuSans-116\"/>\n      <use x=\"39.208984\" xlink:href=\"#DejaVuSans-114\"/>\n      <use x=\"80.322266\" xlink:href=\"#DejaVuSans-97\"/>\n      <use x=\"141.601562\" xlink:href=\"#DejaVuSans-105\"/>\n      <use x=\"169.384766\" xlink:href=\"#DejaVuSans-110\"/>\n     </g>\n    </g>\n    <g id=\"line2d_21\">\n     <path d=\"M 217.545739 50.094688 \nL 237.545739 50.094688 \n\" style=\"fill:none;stroke:#ff7f0e;stroke-linecap:square;stroke-width:1.5;\"/>\n    </g>\n    <g id=\"line2d_22\"/>\n    <g id=\"text_22\">\n     <!-- validation -->\n     <defs>\n      <path d=\"M 45.40625 46.390625 \nL 45.40625 75.984375 \nL 54.390625 75.984375 \nL 54.390625 0 \nL 45.40625 0 \nL 45.40625 8.203125 \nQ 42.578125 3.328125 38.25 0.953125 \nQ 33.9375 -1.421875 27.875 -1.421875 \nQ 17.96875 -1.421875 11.734375 6.484375 \nQ 5.515625 14.40625 5.515625 27.296875 \nQ 5.515625 40.1875 11.734375 48.09375 \nQ 17.96875 56 27.875 56 \nQ 33.9375 56 38.25 53.625 \nQ 42.578125 51.265625 45.40625 46.390625 \nz\nM 14.796875 27.296875 \nQ 14.796875 17.390625 18.875 11.75 \nQ 22.953125 6.109375 30.078125 6.109375 \nQ 37.203125 6.109375 41.296875 11.75 \nQ 45.40625 17.390625 45.40625 27.296875 \nQ 45.40625 37.203125 41.296875 42.84375 \nQ 37.203125 48.484375 30.078125 48.484375 \nQ 22.953125 48.484375 18.875 42.84375 \nQ 14.796875 37.203125 14.796875 27.296875 \nz\n\" id=\"DejaVuSans-100\"/>\n     </defs>\n     <g transform=\"translate(245.545739 53.594688)scale(0.1 -0.1)\">\n      <use xlink:href=\"#DejaVuSans-118\"/>\n      <use x=\"59.179688\" xlink:href=\"#DejaVuSans-97\"/>\n      <use x=\"120.458984\" xlink:href=\"#DejaVuSans-108\"/>\n      <use x=\"148.242188\" xlink:href=\"#DejaVuSans-105\"/>\n      <use x=\"176.025391\" xlink:href=\"#DejaVuSans-100\"/>\n      <use x=\"239.501953\" xlink:href=\"#DejaVuSans-97\"/>\n      <use x=\"300.78125\" xlink:href=\"#DejaVuSans-116\"/>\n      <use x=\"339.990234\" xlink:href=\"#DejaVuSans-105\"/>\n      <use x=\"367.773438\" xlink:href=\"#DejaVuSans-111\"/>\n      <use x=\"428.955078\" xlink:href=\"#DejaVuSans-110\"/>\n     </g>\n    </g>\n   </g>\n  </g>\n  <g id=\"axes_2\">\n   <g id=\"patch_8\">\n    <path d=\"M 354.507386 294.118125 \nL 608.14375 294.118125 \nL 608.14375 22.318125 \nL 354.507386 22.318125 \nz\n\" style=\"fill:#ffffff;\"/>\n   </g>\n   <g id=\"matplotlib.axis_3\">\n    <g id=\"xtick_9\">\n     <g id=\"line2d_23\">\n      <g>\n       <use style=\"stroke:#000000;stroke-width:0.8;\" x=\"366.036312\" xlink:href=\"#m643603c124\" y=\"294.118125\"/>\n      </g>\n     </g>\n     <g id=\"text_23\">\n      <!-- 0 -->\n      <g transform=\"translate(362.855062 308.716563)scale(0.1 -0.1)\">\n       <use xlink:href=\"#DejaVuSans-48\"/>\n      </g>\n     </g>\n    </g>\n    <g id=\"xtick_10\">\n     <g id=\"line2d_24\">\n      <g>\n       <use style=\"stroke:#000000;stroke-width:0.8;\" x=\"398.976099\" xlink:href=\"#m643603c124\" y=\"294.118125\"/>\n      </g>\n     </g>\n     <g id=\"text_24\">\n      <!-- 5 -->\n      <g transform=\"translate(395.794849 308.716563)scale(0.1 -0.1)\">\n       <use xlink:href=\"#DejaVuSans-53\"/>\n      </g>\n     </g>\n    </g>\n    <g id=\"xtick_11\">\n     <g id=\"line2d_25\">\n      <g>\n       <use style=\"stroke:#000000;stroke-width:0.8;\" x=\"431.915887\" xlink:href=\"#m643603c124\" y=\"294.118125\"/>\n      </g>\n     </g>\n     <g id=\"text_25\">\n      <!-- 10 -->\n      <g transform=\"translate(425.553387 308.716563)scale(0.1 -0.1)\">\n       <use xlink:href=\"#DejaVuSans-49\"/>\n       <use x=\"63.623047\" xlink:href=\"#DejaVuSans-48\"/>\n      </g>\n     </g>\n    </g>\n    <g id=\"xtick_12\">\n     <g id=\"line2d_26\">\n      <g>\n       <use style=\"stroke:#000000;stroke-width:0.8;\" x=\"464.855674\" xlink:href=\"#m643603c124\" y=\"294.118125\"/>\n      </g>\n     </g>\n     <g id=\"text_26\">\n      <!-- 15 -->\n      <g transform=\"translate(458.493174 308.716563)scale(0.1 -0.1)\">\n       <use xlink:href=\"#DejaVuSans-49\"/>\n       <use x=\"63.623047\" xlink:href=\"#DejaVuSans-53\"/>\n      </g>\n     </g>\n    </g>\n    <g id=\"xtick_13\">\n     <g id=\"line2d_27\">\n      <g>\n       <use style=\"stroke:#000000;stroke-width:0.8;\" x=\"497.795462\" xlink:href=\"#m643603c124\" y=\"294.118125\"/>\n      </g>\n     </g>\n     <g id=\"text_27\">\n      <!-- 20 -->\n      <g transform=\"translate(491.432962 308.716563)scale(0.1 -0.1)\">\n       <use xlink:href=\"#DejaVuSans-50\"/>\n       <use x=\"63.623047\" xlink:href=\"#DejaVuSans-48\"/>\n      </g>\n     </g>\n    </g>\n    <g id=\"xtick_14\">\n     <g id=\"line2d_28\">\n      <g>\n       <use style=\"stroke:#000000;stroke-width:0.8;\" x=\"530.735249\" xlink:href=\"#m643603c124\" y=\"294.118125\"/>\n      </g>\n     </g>\n     <g id=\"text_28\">\n      <!-- 25 -->\n      <g transform=\"translate(524.372749 308.716563)scale(0.1 -0.1)\">\n       <use xlink:href=\"#DejaVuSans-50\"/>\n       <use x=\"63.623047\" xlink:href=\"#DejaVuSans-53\"/>\n      </g>\n     </g>\n    </g>\n    <g id=\"xtick_15\">\n     <g id=\"line2d_29\">\n      <g>\n       <use style=\"stroke:#000000;stroke-width:0.8;\" x=\"563.675037\" xlink:href=\"#m643603c124\" y=\"294.118125\"/>\n      </g>\n     </g>\n     <g id=\"text_29\">\n      <!-- 30 -->\n      <g transform=\"translate(557.312537 308.716563)scale(0.1 -0.1)\">\n       <use xlink:href=\"#DejaVuSans-51\"/>\n       <use x=\"63.623047\" xlink:href=\"#DejaVuSans-48\"/>\n      </g>\n     </g>\n    </g>\n    <g id=\"xtick_16\">\n     <g id=\"line2d_30\">\n      <g>\n       <use style=\"stroke:#000000;stroke-width:0.8;\" x=\"596.614824\" xlink:href=\"#m643603c124\" y=\"294.118125\"/>\n      </g>\n     </g>\n     <g id=\"text_30\">\n      <!-- 35 -->\n      <g transform=\"translate(590.252324 308.716563)scale(0.1 -0.1)\">\n       <use xlink:href=\"#DejaVuSans-51\"/>\n       <use x=\"63.623047\" xlink:href=\"#DejaVuSans-53\"/>\n      </g>\n     </g>\n    </g>\n    <g id=\"text_31\">\n     <!-- Epoch -->\n     <g transform=\"translate(466.014631 322.394687)scale(0.1 -0.1)\">\n      <use xlink:href=\"#DejaVuSans-69\"/>\n      <use x=\"63.183594\" xlink:href=\"#DejaVuSans-112\"/>\n      <use x=\"126.660156\" xlink:href=\"#DejaVuSans-111\"/>\n      <use x=\"187.841797\" xlink:href=\"#DejaVuSans-99\"/>\n      <use x=\"242.822266\" xlink:href=\"#DejaVuSans-104\"/>\n     </g>\n    </g>\n   </g>\n   <g id=\"matplotlib.axis_4\">\n    <g id=\"ytick_9\">\n     <g id=\"line2d_31\">\n      <g>\n       <use style=\"stroke:#000000;stroke-width:0.8;\" x=\"354.507386\" xlink:href=\"#ma4f661128d\" y=\"287.603905\"/>\n      </g>\n     </g>\n     <g id=\"text_32\">\n      <!-- 0.09 -->\n      <defs>\n       <path d=\"M 10.984375 1.515625 \nL 10.984375 10.5 \nQ 14.703125 8.734375 18.5 7.8125 \nQ 22.3125 6.890625 25.984375 6.890625 \nQ 35.75 6.890625 40.890625 13.453125 \nQ 46.046875 20.015625 46.78125 33.40625 \nQ 43.953125 29.203125 39.59375 26.953125 \nQ 35.25 24.703125 29.984375 24.703125 \nQ 19.046875 24.703125 12.671875 31.3125 \nQ 6.296875 37.9375 6.296875 49.421875 \nQ 6.296875 60.640625 12.9375 67.421875 \nQ 19.578125 74.21875 30.609375 74.21875 \nQ 43.265625 74.21875 49.921875 64.515625 \nQ 56.59375 54.828125 56.59375 36.375 \nQ 56.59375 19.140625 48.40625 8.859375 \nQ 40.234375 -1.421875 26.421875 -1.421875 \nQ 22.703125 -1.421875 18.890625 -0.6875 \nQ 15.09375 0.046875 10.984375 1.515625 \nz\nM 30.609375 32.421875 \nQ 37.25 32.421875 41.125 36.953125 \nQ 45.015625 41.5 45.015625 49.421875 \nQ 45.015625 57.28125 41.125 61.84375 \nQ 37.25 66.40625 30.609375 66.40625 \nQ 23.96875 66.40625 20.09375 61.84375 \nQ 16.21875 57.28125 16.21875 49.421875 \nQ 16.21875 41.5 20.09375 36.953125 \nQ 23.96875 32.421875 30.609375 32.421875 \nz\n\" id=\"DejaVuSans-57\"/>\n      </defs>\n      <g transform=\"translate(325.241761 291.403123)scale(0.1 -0.1)\">\n       <use xlink:href=\"#DejaVuSans-48\"/>\n       <use x=\"63.623047\" xlink:href=\"#DejaVuSans-46\"/>\n       <use x=\"95.410156\" xlink:href=\"#DejaVuSans-48\"/>\n       <use x=\"159.033203\" xlink:href=\"#DejaVuSans-57\"/>\n      </g>\n     </g>\n    </g>\n    <g id=\"ytick_10\">\n     <g id=\"line2d_32\">\n      <g>\n       <use style=\"stroke:#000000;stroke-width:0.8;\" x=\"354.507386\" xlink:href=\"#ma4f661128d\" y=\"257.054484\"/>\n      </g>\n     </g>\n     <g id=\"text_33\">\n      <!-- 0.10 -->\n      <g transform=\"translate(325.241761 260.853703)scale(0.1 -0.1)\">\n       <use xlink:href=\"#DejaVuSans-48\"/>\n       <use x=\"63.623047\" xlink:href=\"#DejaVuSans-46\"/>\n       <use x=\"95.410156\" xlink:href=\"#DejaVuSans-49\"/>\n       <use x=\"159.033203\" xlink:href=\"#DejaVuSans-48\"/>\n      </g>\n     </g>\n    </g>\n    <g id=\"ytick_11\">\n     <g id=\"line2d_33\">\n      <g>\n       <use style=\"stroke:#000000;stroke-width:0.8;\" x=\"354.507386\" xlink:href=\"#ma4f661128d\" y=\"226.505064\"/>\n      </g>\n     </g>\n     <g id=\"text_34\">\n      <!-- 0.11 -->\n      <g transform=\"translate(325.241761 230.304282)scale(0.1 -0.1)\">\n       <use xlink:href=\"#DejaVuSans-48\"/>\n       <use x=\"63.623047\" xlink:href=\"#DejaVuSans-46\"/>\n       <use x=\"95.410156\" xlink:href=\"#DejaVuSans-49\"/>\n       <use x=\"159.033203\" xlink:href=\"#DejaVuSans-49\"/>\n      </g>\n     </g>\n    </g>\n    <g id=\"ytick_12\">\n     <g id=\"line2d_34\">\n      <g>\n       <use style=\"stroke:#000000;stroke-width:0.8;\" x=\"354.507386\" xlink:href=\"#ma4f661128d\" y=\"195.955643\"/>\n      </g>\n     </g>\n     <g id=\"text_35\">\n      <!-- 0.12 -->\n      <g transform=\"translate(325.241761 199.754862)scale(0.1 -0.1)\">\n       <use xlink:href=\"#DejaVuSans-48\"/>\n       <use x=\"63.623047\" xlink:href=\"#DejaVuSans-46\"/>\n       <use x=\"95.410156\" xlink:href=\"#DejaVuSans-49\"/>\n       <use x=\"159.033203\" xlink:href=\"#DejaVuSans-50\"/>\n      </g>\n     </g>\n    </g>\n    <g id=\"ytick_13\">\n     <g id=\"line2d_35\">\n      <g>\n       <use style=\"stroke:#000000;stroke-width:0.8;\" x=\"354.507386\" xlink:href=\"#ma4f661128d\" y=\"165.406223\"/>\n      </g>\n     </g>\n     <g id=\"text_36\">\n      <!-- 0.13 -->\n      <g transform=\"translate(325.241761 169.205441)scale(0.1 -0.1)\">\n       <use xlink:href=\"#DejaVuSans-48\"/>\n       <use x=\"63.623047\" xlink:href=\"#DejaVuSans-46\"/>\n       <use x=\"95.410156\" xlink:href=\"#DejaVuSans-49\"/>\n       <use x=\"159.033203\" xlink:href=\"#DejaVuSans-51\"/>\n      </g>\n     </g>\n    </g>\n    <g id=\"ytick_14\">\n     <g id=\"line2d_36\">\n      <g>\n       <use style=\"stroke:#000000;stroke-width:0.8;\" x=\"354.507386\" xlink:href=\"#ma4f661128d\" y=\"134.856802\"/>\n      </g>\n     </g>\n     <g id=\"text_37\">\n      <!-- 0.14 -->\n      <defs>\n       <path d=\"M 37.796875 64.3125 \nL 12.890625 25.390625 \nL 37.796875 25.390625 \nz\nM 35.203125 72.90625 \nL 47.609375 72.90625 \nL 47.609375 25.390625 \nL 58.015625 25.390625 \nL 58.015625 17.1875 \nL 47.609375 17.1875 \nL 47.609375 0 \nL 37.796875 0 \nL 37.796875 17.1875 \nL 4.890625 17.1875 \nL 4.890625 26.703125 \nz\n\" id=\"DejaVuSans-52\"/>\n      </defs>\n      <g transform=\"translate(325.241761 138.656021)scale(0.1 -0.1)\">\n       <use xlink:href=\"#DejaVuSans-48\"/>\n       <use x=\"63.623047\" xlink:href=\"#DejaVuSans-46\"/>\n       <use x=\"95.410156\" xlink:href=\"#DejaVuSans-49\"/>\n       <use x=\"159.033203\" xlink:href=\"#DejaVuSans-52\"/>\n      </g>\n     </g>\n    </g>\n    <g id=\"ytick_15\">\n     <g id=\"line2d_37\">\n      <g>\n       <use style=\"stroke:#000000;stroke-width:0.8;\" x=\"354.507386\" xlink:href=\"#ma4f661128d\" y=\"104.307382\"/>\n      </g>\n     </g>\n     <g id=\"text_38\">\n      <!-- 0.15 -->\n      <g transform=\"translate(325.241761 108.1066)scale(0.1 -0.1)\">\n       <use xlink:href=\"#DejaVuSans-48\"/>\n       <use x=\"63.623047\" xlink:href=\"#DejaVuSans-46\"/>\n       <use x=\"95.410156\" xlink:href=\"#DejaVuSans-49\"/>\n       <use x=\"159.033203\" xlink:href=\"#DejaVuSans-53\"/>\n      </g>\n     </g>\n    </g>\n    <g id=\"ytick_16\">\n     <g id=\"line2d_38\">\n      <g>\n       <use style=\"stroke:#000000;stroke-width:0.8;\" x=\"354.507386\" xlink:href=\"#ma4f661128d\" y=\"73.757961\"/>\n      </g>\n     </g>\n     <g id=\"text_39\">\n      <!-- 0.16 -->\n      <defs>\n       <path d=\"M 33.015625 40.375 \nQ 26.375 40.375 22.484375 35.828125 \nQ 18.609375 31.296875 18.609375 23.390625 \nQ 18.609375 15.53125 22.484375 10.953125 \nQ 26.375 6.390625 33.015625 6.390625 \nQ 39.65625 6.390625 43.53125 10.953125 \nQ 47.40625 15.53125 47.40625 23.390625 \nQ 47.40625 31.296875 43.53125 35.828125 \nQ 39.65625 40.375 33.015625 40.375 \nz\nM 52.59375 71.296875 \nL 52.59375 62.3125 \nQ 48.875 64.0625 45.09375 64.984375 \nQ 41.3125 65.921875 37.59375 65.921875 \nQ 27.828125 65.921875 22.671875 59.328125 \nQ 17.53125 52.734375 16.796875 39.40625 \nQ 19.671875 43.65625 24.015625 45.921875 \nQ 28.375 48.1875 33.59375 48.1875 \nQ 44.578125 48.1875 50.953125 41.515625 \nQ 57.328125 34.859375 57.328125 23.390625 \nQ 57.328125 12.15625 50.6875 5.359375 \nQ 44.046875 -1.421875 33.015625 -1.421875 \nQ 20.359375 -1.421875 13.671875 8.265625 \nQ 6.984375 17.96875 6.984375 36.375 \nQ 6.984375 53.65625 15.1875 63.9375 \nQ 23.390625 74.21875 37.203125 74.21875 \nQ 40.921875 74.21875 44.703125 73.484375 \nQ 48.484375 72.75 52.59375 71.296875 \nz\n\" id=\"DejaVuSans-54\"/>\n      </defs>\n      <g transform=\"translate(325.241761 77.55718)scale(0.1 -0.1)\">\n       <use xlink:href=\"#DejaVuSans-48\"/>\n       <use x=\"63.623047\" xlink:href=\"#DejaVuSans-46\"/>\n       <use x=\"95.410156\" xlink:href=\"#DejaVuSans-49\"/>\n       <use x=\"159.033203\" xlink:href=\"#DejaVuSans-54\"/>\n      </g>\n     </g>\n    </g>\n    <g id=\"ytick_17\">\n     <g id=\"line2d_39\">\n      <g>\n       <use style=\"stroke:#000000;stroke-width:0.8;\" x=\"354.507386\" xlink:href=\"#ma4f661128d\" y=\"43.208541\"/>\n      </g>\n     </g>\n     <g id=\"text_40\">\n      <!-- 0.17 -->\n      <g transform=\"translate(325.241761 47.007759)scale(0.1 -0.1)\">\n       <use xlink:href=\"#DejaVuSans-48\"/>\n       <use x=\"63.623047\" xlink:href=\"#DejaVuSans-46\"/>\n       <use x=\"95.410156\" xlink:href=\"#DejaVuSans-49\"/>\n       <use x=\"159.033203\" xlink:href=\"#DejaVuSans-55\"/>\n      </g>\n     </g>\n    </g>\n    <g id=\"text_41\">\n     <!-- accuracy -->\n     <defs>\n      <path d=\"M 32.171875 -5.078125 \nQ 28.375 -14.84375 24.75 -17.8125 \nQ 21.140625 -20.796875 15.09375 -20.796875 \nL 7.90625 -20.796875 \nL 7.90625 -13.28125 \nL 13.1875 -13.28125 \nQ 16.890625 -13.28125 18.9375 -11.515625 \nQ 21 -9.765625 23.484375 -3.21875 \nL 25.09375 0.875 \nL 2.984375 54.6875 \nL 12.5 54.6875 \nL 29.59375 11.921875 \nL 46.6875 54.6875 \nL 56.203125 54.6875 \nz\n\" id=\"DejaVuSans-121\"/>\n     </defs>\n     <g transform=\"translate(319.162074 180.7775)rotate(-90)scale(0.1 -0.1)\">\n      <use xlink:href=\"#DejaVuSans-97\"/>\n      <use x=\"61.279297\" xlink:href=\"#DejaVuSans-99\"/>\n      <use x=\"116.259766\" xlink:href=\"#DejaVuSans-99\"/>\n      <use x=\"171.240234\" xlink:href=\"#DejaVuSans-117\"/>\n      <use x=\"234.619141\" xlink:href=\"#DejaVuSans-114\"/>\n      <use x=\"275.732422\" xlink:href=\"#DejaVuSans-97\"/>\n      <use x=\"337.011719\" xlink:href=\"#DejaVuSans-99\"/>\n      <use x=\"391.992188\" xlink:href=\"#DejaVuSans-121\"/>\n     </g>\n    </g>\n   </g>\n   <g id=\"line2d_40\">\n    <path clip-path=\"url(#p17f2eec15e)\" d=\"M 366.036312 222.491261 \nL 372.624269 228.065976 \nL 379.212227 244.79012 \nL 385.800184 233.640691 \nL 392.388142 214.1292 \nL 398.976099 216.916568 \nL 405.564057 214.1292 \nL 412.152014 233.640691 \nL 418.739972 233.640691 \nL 425.327929 211.341854 \nL 431.915887 166.744134 \nL 438.503844 244.79012 \nL 445.091802 208.554485 \nL 451.679759 189.042994 \nL 458.267717 208.554485 \nL 464.855674 255.93955 \nL 471.443632 219.703915 \nL 478.031589 253.152181 \nL 484.619547 255.93955 \nL 491.207504 233.640691 \nL 497.795462 219.703915 \nL 504.383419 208.554485 \nL 510.971377 219.703915 \nL 517.559334 211.341854 \nL 524.147292 202.97977 \nL 530.735249 225.278629 \nL 537.323207 194.617709 \nL 543.911164 202.97977 \nL 550.499122 186.255648 \nL 557.087079 194.617709 \nL 563.675037 177.893564 \nL 570.262994 239.215405 \nL 576.850952 211.341854 \nL 583.438909 211.341854 \nL 590.026867 216.916568 \nL 596.614824 247.577466 \n\" style=\"fill:none;stroke:#1f77b4;stroke-linecap:square;stroke-width:1.5;\"/>\n   </g>\n   <g id=\"line2d_41\">\n    <path clip-path=\"url(#p17f2eec15e)\" d=\"M 366.036312 34.67267 \nL 372.624269 248.069356 \nL 379.212227 248.069356 \nL 385.800184 203.143741 \nL 392.388142 214.375156 \nL 398.976099 281.76358 \nL 405.564057 259.300772 \nL 412.152014 248.069356 \nL 418.739972 225.606549 \nL 425.327929 225.606549 \nL 431.915887 225.606549 \nL 438.503844 225.606549 \nL 445.091802 225.606549 \nL 451.679759 225.606549 \nL 458.267717 214.375156 \nL 464.855674 225.606549 \nL 471.443632 225.606549 \nL 478.031589 225.606549 \nL 484.619547 225.606549 \nL 491.207504 225.606549 \nL 497.795462 225.606549 \nL 504.383419 225.606549 \nL 510.971377 225.606549 \nL 517.559334 225.606549 \nL 524.147292 225.606549 \nL 530.735249 225.606549 \nL 537.323207 225.606549 \nL 543.911164 225.606549 \nL 550.499122 225.606549 \nL 557.087079 225.606549 \nL 563.675037 225.606549 \nL 570.262994 225.606549 \nL 576.850952 225.606549 \nL 583.438909 225.606549 \nL 590.026867 225.606549 \nL 596.614824 225.606549 \n\" style=\"fill:none;stroke:#ff7f0e;stroke-linecap:square;stroke-width:1.5;\"/>\n   </g>\n   <g id=\"patch_9\">\n    <path d=\"M 354.507386 294.118125 \nL 354.507386 22.318125 \n\" style=\"fill:none;stroke:#000000;stroke-linecap:square;stroke-linejoin:miter;stroke-width:0.8;\"/>\n   </g>\n   <g id=\"patch_10\">\n    <path d=\"M 608.14375 294.118125 \nL 608.14375 22.318125 \n\" style=\"fill:none;stroke:#000000;stroke-linecap:square;stroke-linejoin:miter;stroke-width:0.8;\"/>\n   </g>\n   <g id=\"patch_11\">\n    <path d=\"M 354.507386 294.118125 \nL 608.14375 294.118125 \n\" style=\"fill:none;stroke:#000000;stroke-linecap:square;stroke-linejoin:miter;stroke-width:0.8;\"/>\n   </g>\n   <g id=\"patch_12\">\n    <path d=\"M 354.507386 22.318125 \nL 608.14375 22.318125 \n\" style=\"fill:none;stroke:#000000;stroke-linecap:square;stroke-linejoin:miter;stroke-width:0.8;\"/>\n   </g>\n   <g id=\"text_42\">\n    <!-- Accuracy -->\n    <defs>\n     <path d=\"M 34.1875 63.1875 \nL 20.796875 26.90625 \nL 47.609375 26.90625 \nz\nM 28.609375 72.90625 \nL 39.796875 72.90625 \nL 67.578125 0 \nL 57.328125 0 \nL 50.6875 18.703125 \nL 17.828125 18.703125 \nL 11.1875 0 \nL 0.78125 0 \nz\n\" id=\"DejaVuSans-65\"/>\n    </defs>\n    <g transform=\"translate(453.931818 16.318125)scale(0.12 -0.12)\">\n     <use xlink:href=\"#DejaVuSans-65\"/>\n     <use x=\"66.658203\" xlink:href=\"#DejaVuSans-99\"/>\n     <use x=\"121.638672\" xlink:href=\"#DejaVuSans-99\"/>\n     <use x=\"176.619141\" xlink:href=\"#DejaVuSans-117\"/>\n     <use x=\"239.998047\" xlink:href=\"#DejaVuSans-114\"/>\n     <use x=\"281.111328\" xlink:href=\"#DejaVuSans-97\"/>\n     <use x=\"342.390625\" xlink:href=\"#DejaVuSans-99\"/>\n     <use x=\"397.371094\" xlink:href=\"#DejaVuSans-121\"/>\n    </g>\n   </g>\n   <g id=\"legend_2\">\n    <g id=\"patch_13\">\n     <path d=\"M 519.909375 59.674375 \nL 601.14375 59.674375 \nQ 603.14375 59.674375 603.14375 57.674375 \nL 603.14375 29.318125 \nQ 603.14375 27.318125 601.14375 27.318125 \nL 519.909375 27.318125 \nQ 517.909375 27.318125 517.909375 29.318125 \nL 517.909375 57.674375 \nQ 517.909375 59.674375 519.909375 59.674375 \nz\n\" style=\"fill:#ffffff;opacity:0.8;stroke:#cccccc;stroke-linejoin:miter;\"/>\n    </g>\n    <g id=\"line2d_42\">\n     <path d=\"M 521.909375 35.416562 \nL 541.909375 35.416562 \n\" style=\"fill:none;stroke:#1f77b4;stroke-linecap:square;stroke-width:1.5;\"/>\n    </g>\n    <g id=\"line2d_43\"/>\n    <g id=\"text_43\">\n     <!-- train -->\n     <g transform=\"translate(549.909375 38.916562)scale(0.1 -0.1)\">\n      <use xlink:href=\"#DejaVuSans-116\"/>\n      <use x=\"39.208984\" xlink:href=\"#DejaVuSans-114\"/>\n      <use x=\"80.322266\" xlink:href=\"#DejaVuSans-97\"/>\n      <use x=\"141.601562\" xlink:href=\"#DejaVuSans-105\"/>\n      <use x=\"169.384766\" xlink:href=\"#DejaVuSans-110\"/>\n     </g>\n    </g>\n    <g id=\"line2d_44\">\n     <path d=\"M 521.909375 50.094688 \nL 541.909375 50.094688 \n\" style=\"fill:none;stroke:#ff7f0e;stroke-linecap:square;stroke-width:1.5;\"/>\n    </g>\n    <g id=\"line2d_45\"/>\n    <g id=\"text_44\">\n     <!-- validation -->\n     <g transform=\"translate(549.909375 53.594688)scale(0.1 -0.1)\">\n      <use xlink:href=\"#DejaVuSans-118\"/>\n      <use x=\"59.179688\" xlink:href=\"#DejaVuSans-97\"/>\n      <use x=\"120.458984\" xlink:href=\"#DejaVuSans-108\"/>\n      <use x=\"148.242188\" xlink:href=\"#DejaVuSans-105\"/>\n      <use x=\"176.025391\" xlink:href=\"#DejaVuSans-100\"/>\n      <use x=\"239.501953\" xlink:href=\"#DejaVuSans-97\"/>\n      <use x=\"300.78125\" xlink:href=\"#DejaVuSans-116\"/>\n      <use x=\"339.990234\" xlink:href=\"#DejaVuSans-105\"/>\n      <use x=\"367.773438\" xlink:href=\"#DejaVuSans-111\"/>\n      <use x=\"428.955078\" xlink:href=\"#DejaVuSans-110\"/>\n     </g>\n    </g>\n   </g>\n  </g>\n </g>\n <defs>\n  <clipPath id=\"p6149d6655c\">\n   <rect height=\"271.8\" width=\"253.636364\" x=\"50.14375\" y=\"22.318125\"/>\n  </clipPath>\n  <clipPath id=\"p17f2eec15e\">\n   <rect height=\"271.8\" width=\"253.636364\" x=\"354.507386\" y=\"22.318125\"/>\n  </clipPath>\n </defs>\n</svg>\n"
          },
          "metadata": {
            "needs_background": "light"
          }
        }
      ],
      "source": [
        "# let's plot the loss and accuracy \n",
        "\n",
        "# get the training and validation accuracy from the history object\n",
        "train_acc = history1.history['accuracy']\n",
        "valid_acc = history1.history['val_accuracy']\n",
        "\n",
        "# get the loss\n",
        "train_loss = history1.history['loss']\n",
        "valid_loss = history1.history['val_loss']\n",
        "\n",
        "# get the number of entries\n",
        "xvalues = np.arange(len(train_acc))\n",
        "\n",
        "# visualize\n",
        "f,ax = plt.subplots(1,2, figsize=(10,5))\n",
        "ax[0].plot(xvalues, train_loss)\n",
        "ax[0].plot(xvalues, valid_loss)\n",
        "ax[0].set_title(\"Loss curve\")\n",
        "ax[0].set_xlabel(\"Epoch\")\n",
        "ax[0].set_ylabel(\"loss\")\n",
        "ax[0].legend(['train', 'validation'])\n",
        "\n",
        "ax[1].plot(xvalues, train_acc)\n",
        "ax[1].plot(xvalues, valid_acc)\n",
        "ax[1].set_title(\"Accuracy\")\n",
        "ax[1].set_xlabel(\"Epoch\")\n",
        "ax[1].set_ylabel(\"accuracy\")\n",
        "ax[1].legend(['train', 'validation'])\n",
        "\n",
        "plt.show()"
      ]
    },
    {
      "cell_type": "code",
      "execution_count": 21,
      "metadata": {
        "id": "QbyCEgjOm_oJ",
        "colab": {
          "base_uri": "https://localhost:8080/"
        },
        "outputId": "e35b8a9f-1c94-47ca-f498-5d9381d1f736"
      },
      "outputs": [
        {
          "output_type": "stream",
          "name": "stderr",
          "text": [
            "<ipython-input-21-e428c4fc796b>:2: UserWarning: `Model.evaluate_generator` is deprecated and will be removed in a future version. Please use `Model.evaluate`, which supports generators.\n",
            "  valid_loss, valid_acc = model.evaluate_generator(valid_data_gen, steps=num_valid_steps)\n"
          ]
        },
        {
          "output_type": "stream",
          "name": "stdout",
          "text": [
            "Final validation accuracy: 11.03%\n"
          ]
        }
      ],
      "source": [
        "# What is the final loss and accuracy on our validation data?\n",
        "valid_loss, valid_acc = model.evaluate_generator(valid_data_gen, steps=num_valid_steps)\n",
        "print(f\"Final validation accuracy: {valid_acc*100:.2f}%\")"
      ]
    },
    {
      "cell_type": "code",
      "execution_count": 22,
      "metadata": {
        "id": "xtftPiu_m_oK",
        "colab": {
          "base_uri": "https://localhost:8080/"
        },
        "outputId": "41e4f631-d00d-4151-81e9-17660b7635f8"
      },
      "outputs": [
        {
          "output_type": "stream",
          "name": "stdout",
          "text": [
            "Model: \"model_1\"\n",
            "_________________________________________________________________\n",
            " Layer (type)                Output Shape              Param #   \n",
            "=================================================================\n",
            " input_1 (InputLayer)        [(None, 224, 224, 3)]     0         \n",
            "                                                                 \n",
            " conv2d (Conv2D)             (None, 224, 224, 64)      62272     \n",
            "                                                                 \n",
            " max_pooling2d (MaxPooling2D  (None, 112, 112, 64)     0         \n",
            " )                                                               \n",
            "                                                                 \n",
            " conv2d_1 (Conv2D)           (None, 112, 112, 128)     2654336   \n",
            "                                                                 \n",
            " max_pooling2d_1 (MaxPooling  (None, 56, 56, 128)      0         \n",
            " 2D)                                                             \n",
            "                                                                 \n",
            " conv2d_2 (Conv2D)           (None, 56, 56, 256)       10617088  \n",
            "                                                                 \n",
            " max_pooling2d_2 (MaxPooling  (None, 28, 28, 256)      0         \n",
            " 2D)                                                             \n",
            "                                                                 \n",
            " conv2d_3 (Conv2D)           (None, 28, 28, 512)       42467840  \n",
            "                                                                 \n",
            " max_pooling2d_3 (MaxPooling  (None, 14, 14, 512)      0         \n",
            " 2D)                                                             \n",
            "                                                                 \n",
            " conv2d_4 (Conv2D)           (None, 14, 14, 512)       84935168  \n",
            "                                                                 \n",
            " conv2d_5 (Conv2D)           (None, 14, 14, 512)       84935168  \n",
            "                                                                 \n",
            " max_pooling2d_4 (MaxPooling  (None, 7, 7, 512)        0         \n",
            " 2D)                                                             \n",
            "                                                                 \n",
            " flatten (Flatten)           (None, 25088)             0         \n",
            "                                                                 \n",
            " dense (Dense)               (None, 4096)              102764544 \n",
            "                                                                 \n",
            " dense_1 (Dense)             (None, 4096)              16781312  \n",
            "                                                                 \n",
            " dropout (Dropout)           (None, 4096)              0         \n",
            "                                                                 \n",
            " dense_2 (Dense)             (None, 10)                40970     \n",
            "                                                                 \n",
            "=================================================================\n",
            "Total params: 345,258,698\n",
            "Trainable params: 0\n",
            "Non-trainable params: 345,258,698\n",
            "_________________________________________________________________\n"
          ]
        }
      ],
      "source": [
        "outputs = [layer.output for layer in model.layers[1:18]]\n",
        "\n",
        "vis_model = Model(model.input, outputs)\n",
        "\n",
        "for layer in vis_model.layers:\n",
        "  layer.trainable = False\n",
        "\n",
        "vis_model.summary()"
      ]
    },
    {
      "cell_type": "code",
      "execution_count": 23,
      "metadata": {
        "id": "SBwGla4tm_oK",
        "colab": {
          "base_uri": "https://localhost:8080/"
        },
        "outputId": "0533248b-cdb4-4ba8-9a54-f9044d03fd0a"
      },
      "outputs": [
        {
          "output_type": "stream",
          "name": "stdout",
          "text": [
            "Layers going to be used for visualization: \n",
            "['conv2d', 'max_pooling2d', 'conv2d_1', 'max_pooling2d_1', 'conv2d_2', 'max_pooling2d_2', 'conv2d_3', 'max_pooling2d_3', 'conv2d_4', 'conv2d_5', 'max_pooling2d_4', 'flatten', 'dense', 'dense_1', 'dropout', 'dense_2']\n"
          ]
        }
      ],
      "source": [
        "# store the layer names we are interested in\n",
        "layer_names = []\n",
        "for layer in outputs:\n",
        "    layer_names.append(layer.name.split(\"/\")[0])\n",
        "\n",
        "    \n",
        "print(\"Layers going to be used for visualization: \")\n",
        "print(layer_names)"
      ]
    },
    {
      "cell_type": "code",
      "execution_count": 24,
      "metadata": {
        "id": "N71NRlVBrVkI",
        "colab": {
          "base_uri": "https://localhost:8080/"
        },
        "outputId": "aa24729b-83ac-4b16-ee33-fbad12f7a6b8"
      },
      "outputs": [
        {
          "output_type": "stream",
          "name": "stdout",
          "text": [
            "layer_names [before]: ['conv2d', 'max_pooling2d', 'conv2d_1', 'max_pooling2d_1', 'conv2d_2', 'max_pooling2d_2', 'conv2d_3', 'max_pooling2d_3', 'conv2d_4', 'conv2d_5', 'max_pooling2d_4', 'flatten', 'dense', 'dense_1', 'dropout', 'dense_2']\n",
            "=========================================\n",
            "layer_names [after]: ['conv2d', 'conv2d_1', 'conv2d_2', 'conv2d_3', 'conv2d_4', 'conv2d_5']\n"
          ]
        }
      ],
      "source": [
        "print( f'layer_names [before]: {layer_names}' )\n",
        "\n",
        "layer_names_temp = layer_names\n",
        "layer_names = list()\n",
        "for layer in layer_names_temp:\n",
        "\n",
        "  if 'conv' in layer:\n",
        "    # print(layer)\n",
        "    layer_names.append( layer )\n",
        "\n",
        "print( '=========================================' )\n",
        "print( f'layer_names [after]: {layer_names}' )"
      ]
    },
    {
      "cell_type": "code",
      "execution_count": 25,
      "metadata": {
        "id": "GTk3zuOem_oL"
      },
      "outputs": [],
      "source": [
        "def get_CAM(processed_image, predicted_label):\n",
        "    \"\"\"\n",
        "    This function is used to generate a heatmap for a sample image prediction.\n",
        "    \n",
        "    Args:\n",
        "        processed_image: any sample image that has been pre-processed using the \n",
        "                       `preprocess_input()`method of a keras model\n",
        "        predicted_label: label that has been predicted by the network for this image\n",
        "    \n",
        "    Returns:\n",
        "        heatmap: heatmap generated over the last convolution layer output \n",
        "    \"\"\"\n",
        "    # we want the activations for the predicted label\n",
        "    predicted_output = model.output[:, predicted_label]\n",
        "    \n",
        "    # choose the last conv layer in your model\n",
        "    # last_conv_layer = model.get_layer('block5_conv3')\n",
        "    last_conv_layer = model.get_layer(layer_names[-1])\n",
        "    \n",
        "    # get the gradients wrt to the last conv layer\n",
        "    grads = K.gradients(predicted_output, last_conv_layer.output)[0]\n",
        "    \n",
        "    # take mean gradient per feature map\n",
        "    grads = K.mean(grads, axis=(0,1,2)) # GAP - Global Average Pooling\n",
        "    \n",
        "    # Define a function that generates the values for the output and gradients\n",
        "    evaluation_function = K.function([model.input], [grads, last_conv_layer.output[0]])\n",
        "    \n",
        "    # get the values\n",
        "    grads_values, conv_ouput_values = evaluation_function([processed_image])\n",
        "    \n",
        "    # CAM - Class Activation Map\n",
        "    # iterate over each feature map in yout conv output and multiply\n",
        "    # the gradient values with the conv output values. This gives an \n",
        "    # indication of \"how important a feature is\"\n",
        "    # for i in range(512): # we have 512 features in our last conv layer\n",
        "    for i in range(conv_ouput_values.shape[2]): # daniel\n",
        "        conv_ouput_values[:,:,i] *= grads_values[i]\n",
        "    \n",
        "    # create a heatmap\n",
        "    heatmap = np.mean(conv_ouput_values, axis=-1)\n",
        "    \n",
        "    # remove negative values\n",
        "    heatmap = np.maximum(heatmap, 0)\n",
        "    \n",
        "    # normalize\n",
        "    heatmap /= heatmap.max()\n",
        "    \n",
        "    return heatmap"
      ]
    },
    {
      "cell_type": "code",
      "execution_count": 26,
      "metadata": {
        "id": "zeXWpNlapUFx"
      },
      "outputs": [],
      "source": [
        "idx = 0"
      ]
    },
    {
      "cell_type": "code",
      "execution_count": 27,
      "metadata": {
        "id": "tX1madjMm_oO",
        "colab": {
          "base_uri": "https://localhost:8080/",
          "height": 303
        },
        "outputId": "98883241-b2d8-45b8-c78a-ef23f989cf47"
      },
      "outputs": [
        {
          "output_type": "stream",
          "name": "stderr",
          "text": [
            "/usr/local/lib/python3.8/dist-packages/keras/engine/training_v1.py:2067: UserWarning: `Model.state_updates` will be removed in a future version. This property should not be used in TensorFlow 2.0, as `updates` are applied automatically.\n",
            "  updates=self.state_updates,\n"
          ]
        },
        {
          "output_type": "display_data",
          "data": {
            "text/plain": [
              "<Figure size 576x576 with 3 Axes>"
            ],
            "image/svg+xml": "<?xml version=\"1.0\" encoding=\"utf-8\" standalone=\"no\"?>\n<!DOCTYPE svg PUBLIC \"-//W3C//DTD SVG 1.1//EN\"\n  \"http://www.w3.org/Graphics/SVG/1.1/DTD/svg11.dtd\">\n<!-- Created with matplotlib (https://matplotlib.org/) -->\n<svg height=\"170.490368pt\" version=\"1.1\" viewBox=\"0 0 469.913097 170.490368\" width=\"469.913097pt\" xmlns=\"http://www.w3.org/2000/svg\" xmlns:xlink=\"http://www.w3.org/1999/xlink\">\n <defs>\n  <style type=\"text/css\">\n*{stroke-linecap:butt;stroke-linejoin:round;}\n  </style>\n </defs>\n <g id=\"figure_1\">\n  <g id=\"patch_1\">\n   <path d=\"M 0 170.490368 \nL 469.913097 170.490368 \nL 469.913097 0 \nL 0 0 \nz\n\" style=\"fill:none;\"/>\n  </g>\n  <g id=\"axes_1\">\n   <g clip-path=\"url(#p26976c9d76)\">\n    <image height=\"132\" id=\"imagee5a218edfd\" transform=\"scale(1 -1)translate(0 -132)\" width=\"132\" x=\"7.2\" xlink:href=\"data:image/png;base64,\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\" y=\"-31.290368\"/>\n   </g>\n   <g id=\"text_1\">\n    <!-- True label: 7  -->\n    <defs>\n     <path d=\"M -0.296875 72.90625 \nL 61.375 72.90625 \nL 61.375 64.59375 \nL 35.5 64.59375 \nL 35.5 0 \nL 25.59375 0 \nL 25.59375 64.59375 \nL -0.296875 64.59375 \nz\n\" id=\"DejaVuSans-84\"/>\n     <path d=\"M 41.109375 46.296875 \nQ 39.59375 47.171875 37.8125 47.578125 \nQ 36.03125 48 33.890625 48 \nQ 26.265625 48 22.1875 43.046875 \nQ 18.109375 38.09375 18.109375 28.8125 \nL 18.109375 0 \nL 9.078125 0 \nL 9.078125 54.6875 \nL 18.109375 54.6875 \nL 18.109375 46.1875 \nQ 20.953125 51.171875 25.484375 53.578125 \nQ 30.03125 56 36.53125 56 \nQ 37.453125 56 38.578125 55.875 \nQ 39.703125 55.765625 41.0625 55.515625 \nz\n\" id=\"DejaVuSans-114\"/>\n     <path d=\"M 8.5 21.578125 \nL 8.5 54.6875 \nL 17.484375 54.6875 \nL 17.484375 21.921875 \nQ 17.484375 14.15625 20.5 10.265625 \nQ 23.53125 6.390625 29.59375 6.390625 \nQ 36.859375 6.390625 41.078125 11.03125 \nQ 45.3125 15.671875 45.3125 23.6875 \nL 45.3125 54.6875 \nL 54.296875 54.6875 \nL 54.296875 0 \nL 45.3125 0 \nL 45.3125 8.40625 \nQ 42.046875 3.421875 37.71875 1 \nQ 33.40625 -1.421875 27.6875 -1.421875 \nQ 18.265625 -1.421875 13.375 4.4375 \nQ 8.5 10.296875 8.5 21.578125 \nz\nM 31.109375 56 \nz\n\" id=\"DejaVuSans-117\"/>\n     <path d=\"M 56.203125 29.59375 \nL 56.203125 25.203125 \nL 14.890625 25.203125 \nQ 15.484375 15.921875 20.484375 11.0625 \nQ 25.484375 6.203125 34.421875 6.203125 \nQ 39.59375 6.203125 44.453125 7.46875 \nQ 49.3125 8.734375 54.109375 11.28125 \nL 54.109375 2.78125 \nQ 49.265625 0.734375 44.1875 -0.34375 \nQ 39.109375 -1.421875 33.890625 -1.421875 \nQ 20.796875 -1.421875 13.15625 6.1875 \nQ 5.515625 13.8125 5.515625 26.8125 \nQ 5.515625 40.234375 12.765625 48.109375 \nQ 20.015625 56 32.328125 56 \nQ 43.359375 56 49.78125 48.890625 \nQ 56.203125 41.796875 56.203125 29.59375 \nz\nM 47.21875 32.234375 \nQ 47.125 39.59375 43.09375 43.984375 \nQ 39.0625 48.390625 32.421875 48.390625 \nQ 24.90625 48.390625 20.390625 44.140625 \nQ 15.875 39.890625 15.1875 32.171875 \nz\n\" id=\"DejaVuSans-101\"/>\n     <path id=\"DejaVuSans-32\"/>\n     <path d=\"M 9.421875 75.984375 \nL 18.40625 75.984375 \nL 18.40625 0 \nL 9.421875 0 \nz\n\" id=\"DejaVuSans-108\"/>\n     <path d=\"M 34.28125 27.484375 \nQ 23.390625 27.484375 19.1875 25 \nQ 14.984375 22.515625 14.984375 16.5 \nQ 14.984375 11.71875 18.140625 8.90625 \nQ 21.296875 6.109375 26.703125 6.109375 \nQ 34.1875 6.109375 38.703125 11.40625 \nQ 43.21875 16.703125 43.21875 25.484375 \nL 43.21875 27.484375 \nz\nM 52.203125 31.203125 \nL 52.203125 0 \nL 43.21875 0 \nL 43.21875 8.296875 \nQ 40.140625 3.328125 35.546875 0.953125 \nQ 30.953125 -1.421875 24.3125 -1.421875 \nQ 15.921875 -1.421875 10.953125 3.296875 \nQ 6 8.015625 6 15.921875 \nQ 6 25.140625 12.171875 29.828125 \nQ 18.359375 34.515625 30.609375 34.515625 \nL 43.21875 34.515625 \nL 43.21875 35.40625 \nQ 43.21875 41.609375 39.140625 45 \nQ 35.0625 48.390625 27.6875 48.390625 \nQ 23 48.390625 18.546875 47.265625 \nQ 14.109375 46.140625 10.015625 43.890625 \nL 10.015625 52.203125 \nQ 14.9375 54.109375 19.578125 55.046875 \nQ 24.21875 56 28.609375 56 \nQ 40.484375 56 46.34375 49.84375 \nQ 52.203125 43.703125 52.203125 31.203125 \nz\n\" id=\"DejaVuSans-97\"/>\n     <path d=\"M 48.6875 27.296875 \nQ 48.6875 37.203125 44.609375 42.84375 \nQ 40.53125 48.484375 33.40625 48.484375 \nQ 26.265625 48.484375 22.1875 42.84375 \nQ 18.109375 37.203125 18.109375 27.296875 \nQ 18.109375 17.390625 22.1875 11.75 \nQ 26.265625 6.109375 33.40625 6.109375 \nQ 40.53125 6.109375 44.609375 11.75 \nQ 48.6875 17.390625 48.6875 27.296875 \nz\nM 18.109375 46.390625 \nQ 20.953125 51.265625 25.265625 53.625 \nQ 29.59375 56 35.59375 56 \nQ 45.5625 56 51.78125 48.09375 \nQ 58.015625 40.1875 58.015625 27.296875 \nQ 58.015625 14.40625 51.78125 6.484375 \nQ 45.5625 -1.421875 35.59375 -1.421875 \nQ 29.59375 -1.421875 25.265625 0.953125 \nQ 20.953125 3.328125 18.109375 8.203125 \nL 18.109375 0 \nL 9.078125 0 \nL 9.078125 75.984375 \nL 18.109375 75.984375 \nz\n\" id=\"DejaVuSans-98\"/>\n     <path d=\"M 11.71875 12.40625 \nL 22.015625 12.40625 \nL 22.015625 0 \nL 11.71875 0 \nz\nM 11.71875 51.703125 \nL 22.015625 51.703125 \nL 22.015625 39.3125 \nL 11.71875 39.3125 \nz\n\" id=\"DejaVuSans-58\"/>\n     <path d=\"M 8.203125 72.90625 \nL 55.078125 72.90625 \nL 55.078125 68.703125 \nL 28.609375 0 \nL 18.3125 0 \nL 43.21875 64.59375 \nL 8.203125 64.59375 \nz\n\" id=\"DejaVuSans-55\"/>\n    </defs>\n    <g transform=\"translate(40.50409 14.798437)scale(0.1 -0.1)\">\n     <use xlink:href=\"#DejaVuSans-84\"/>\n     <use x=\"46.333984\" xlink:href=\"#DejaVuSans-114\"/>\n     <use x=\"87.447266\" xlink:href=\"#DejaVuSans-117\"/>\n     <use x=\"150.826172\" xlink:href=\"#DejaVuSans-101\"/>\n     <use x=\"212.349609\" xlink:href=\"#DejaVuSans-32\"/>\n     <use x=\"244.136719\" xlink:href=\"#DejaVuSans-108\"/>\n     <use x=\"271.919922\" xlink:href=\"#DejaVuSans-97\"/>\n     <use x=\"333.199219\" xlink:href=\"#DejaVuSans-98\"/>\n     <use x=\"396.675781\" xlink:href=\"#DejaVuSans-101\"/>\n     <use x=\"458.199219\" xlink:href=\"#DejaVuSans-108\"/>\n     <use x=\"485.982422\" xlink:href=\"#DejaVuSans-58\"/>\n     <use x=\"519.673828\" xlink:href=\"#DejaVuSans-32\"/>\n     <use x=\"551.460938\" xlink:href=\"#DejaVuSans-55\"/>\n     <use x=\"615.083984\" xlink:href=\"#DejaVuSans-32\"/>\n    </g>\n    <!--  Predicted label: 3 -->\n    <defs>\n     <path d=\"M 19.671875 64.796875 \nL 19.671875 37.40625 \nL 32.078125 37.40625 \nQ 38.96875 37.40625 42.71875 40.96875 \nQ 46.484375 44.53125 46.484375 51.125 \nQ 46.484375 57.671875 42.71875 61.234375 \nQ 38.96875 64.796875 32.078125 64.796875 \nz\nM 9.8125 72.90625 \nL 32.078125 72.90625 \nQ 44.34375 72.90625 50.609375 67.359375 \nQ 56.890625 61.8125 56.890625 51.125 \nQ 56.890625 40.328125 50.609375 34.8125 \nQ 44.34375 29.296875 32.078125 29.296875 \nL 19.671875 29.296875 \nL 19.671875 0 \nL 9.8125 0 \nz\n\" id=\"DejaVuSans-80\"/>\n     <path d=\"M 45.40625 46.390625 \nL 45.40625 75.984375 \nL 54.390625 75.984375 \nL 54.390625 0 \nL 45.40625 0 \nL 45.40625 8.203125 \nQ 42.578125 3.328125 38.25 0.953125 \nQ 33.9375 -1.421875 27.875 -1.421875 \nQ 17.96875 -1.421875 11.734375 6.484375 \nQ 5.515625 14.40625 5.515625 27.296875 \nQ 5.515625 40.1875 11.734375 48.09375 \nQ 17.96875 56 27.875 56 \nQ 33.9375 56 38.25 53.625 \nQ 42.578125 51.265625 45.40625 46.390625 \nz\nM 14.796875 27.296875 \nQ 14.796875 17.390625 18.875 11.75 \nQ 22.953125 6.109375 30.078125 6.109375 \nQ 37.203125 6.109375 41.296875 11.75 \nQ 45.40625 17.390625 45.40625 27.296875 \nQ 45.40625 37.203125 41.296875 42.84375 \nQ 37.203125 48.484375 30.078125 48.484375 \nQ 22.953125 48.484375 18.875 42.84375 \nQ 14.796875 37.203125 14.796875 27.296875 \nz\n\" id=\"DejaVuSans-100\"/>\n     <path d=\"M 9.421875 54.6875 \nL 18.40625 54.6875 \nL 18.40625 0 \nL 9.421875 0 \nz\nM 9.421875 75.984375 \nL 18.40625 75.984375 \nL 18.40625 64.59375 \nL 9.421875 64.59375 \nz\n\" id=\"DejaVuSans-105\"/>\n     <path d=\"M 48.78125 52.59375 \nL 48.78125 44.1875 \nQ 44.96875 46.296875 41.140625 47.34375 \nQ 37.3125 48.390625 33.40625 48.390625 \nQ 24.65625 48.390625 19.8125 42.84375 \nQ 14.984375 37.3125 14.984375 27.296875 \nQ 14.984375 17.28125 19.8125 11.734375 \nQ 24.65625 6.203125 33.40625 6.203125 \nQ 37.3125 6.203125 41.140625 7.25 \nQ 44.96875 8.296875 48.78125 10.40625 \nL 48.78125 2.09375 \nQ 45.015625 0.34375 40.984375 -0.53125 \nQ 36.96875 -1.421875 32.421875 -1.421875 \nQ 20.0625 -1.421875 12.78125 6.34375 \nQ 5.515625 14.109375 5.515625 27.296875 \nQ 5.515625 40.671875 12.859375 48.328125 \nQ 20.21875 56 33.015625 56 \nQ 37.15625 56 41.109375 55.140625 \nQ 45.0625 54.296875 48.78125 52.59375 \nz\n\" id=\"DejaVuSans-99\"/>\n     <path d=\"M 18.3125 70.21875 \nL 18.3125 54.6875 \nL 36.8125 54.6875 \nL 36.8125 47.703125 \nL 18.3125 47.703125 \nL 18.3125 18.015625 \nQ 18.3125 11.328125 20.140625 9.421875 \nQ 21.96875 7.515625 27.59375 7.515625 \nL 36.8125 7.515625 \nL 36.8125 0 \nL 27.59375 0 \nQ 17.1875 0 13.234375 3.875 \nQ 9.28125 7.765625 9.28125 18.015625 \nL 9.28125 47.703125 \nL 2.6875 47.703125 \nL 2.6875 54.6875 \nL 9.28125 54.6875 \nL 9.28125 70.21875 \nz\n\" id=\"DejaVuSans-116\"/>\n     <path d=\"M 40.578125 39.3125 \nQ 47.65625 37.796875 51.625 33 \nQ 55.609375 28.21875 55.609375 21.1875 \nQ 55.609375 10.40625 48.1875 4.484375 \nQ 40.765625 -1.421875 27.09375 -1.421875 \nQ 22.515625 -1.421875 17.65625 -0.515625 \nQ 12.796875 0.390625 7.625 2.203125 \nL 7.625 11.71875 \nQ 11.71875 9.328125 16.59375 8.109375 \nQ 21.484375 6.890625 26.8125 6.890625 \nQ 36.078125 6.890625 40.9375 10.546875 \nQ 45.796875 14.203125 45.796875 21.1875 \nQ 45.796875 27.640625 41.28125 31.265625 \nQ 36.765625 34.90625 28.71875 34.90625 \nL 20.21875 34.90625 \nL 20.21875 43.015625 \nL 29.109375 43.015625 \nQ 36.375 43.015625 40.234375 45.921875 \nQ 44.09375 48.828125 44.09375 54.296875 \nQ 44.09375 59.90625 40.109375 62.90625 \nQ 36.140625 65.921875 28.71875 65.921875 \nQ 24.65625 65.921875 20.015625 65.03125 \nQ 15.375 64.15625 9.8125 62.3125 \nL 9.8125 71.09375 \nQ 15.4375 72.65625 20.34375 73.4375 \nQ 25.25 74.21875 29.59375 74.21875 \nQ 40.828125 74.21875 47.359375 69.109375 \nQ 53.90625 64.015625 53.90625 55.328125 \nQ 53.90625 49.265625 50.4375 45.09375 \nQ 46.96875 40.921875 40.578125 39.3125 \nz\n\" id=\"DejaVuSans-51\"/>\n    </defs>\n    <g transform=\"translate(27.650965 25.99625)scale(0.1 -0.1)\">\n     <use xlink:href=\"#DejaVuSans-32\"/>\n     <use x=\"31.787109\" xlink:href=\"#DejaVuSans-80\"/>\n     <use x=\"90.339844\" xlink:href=\"#DejaVuSans-114\"/>\n     <use x=\"129.203125\" xlink:href=\"#DejaVuSans-101\"/>\n     <use x=\"190.726562\" xlink:href=\"#DejaVuSans-100\"/>\n     <use x=\"254.203125\" xlink:href=\"#DejaVuSans-105\"/>\n     <use x=\"281.986328\" xlink:href=\"#DejaVuSans-99\"/>\n     <use x=\"336.966797\" xlink:href=\"#DejaVuSans-116\"/>\n     <use x=\"376.175781\" xlink:href=\"#DejaVuSans-101\"/>\n     <use x=\"437.699219\" xlink:href=\"#DejaVuSans-100\"/>\n     <use x=\"501.175781\" xlink:href=\"#DejaVuSans-32\"/>\n     <use x=\"532.962891\" xlink:href=\"#DejaVuSans-108\"/>\n     <use x=\"560.746094\" xlink:href=\"#DejaVuSans-97\"/>\n     <use x=\"622.025391\" xlink:href=\"#DejaVuSans-98\"/>\n     <use x=\"685.501953\" xlink:href=\"#DejaVuSans-101\"/>\n     <use x=\"747.025391\" xlink:href=\"#DejaVuSans-108\"/>\n     <use x=\"774.808594\" xlink:href=\"#DejaVuSans-58\"/>\n     <use x=\"808.5\" xlink:href=\"#DejaVuSans-32\"/>\n     <use x=\"840.287109\" xlink:href=\"#DejaVuSans-51\"/>\n    </g>\n   </g>\n  </g>\n  <g id=\"axes_2\">\n   <g clip-path=\"url(#p707bb6f0e7)\">\n    <image height=\"132\" id=\"image13a88b05fb\" transform=\"scale(1 -1)translate(0 -132)\" width=\"132\" x=\"164.752941\" xlink:href=\"data:image/png;base64,\niVBORw0KGgoAAAANSUhEUgAAAIQAAACECAYAAABRRIOnAAAABHNCSVQICAgIfAhkiAAABXJJREFUeJzt2FlPG1cchvHnzGKwsdkJYPYtdEm6qLlpP12/Wi+aqlWqVMpSNaGQkrA4gYBjgomXmV6cceM/TSAlVK2U9ycdnbHHAsvz6HiO3beQIpIJ/us3IP8vCkIMBSGGghBDQYihIMRQEGIoCDEUhBgKQgwFIYaCEENBiKEgxFAQYigIMRSEGApCDAUhhoIQQ0GIoSDEUBBiKAgxFIQYCkIMBSGGghBDQYihIMRQEGIoCDEUhBgKQgwFIYaCEENBiKEgxFAQYigIMRSEGApCDAUhhoIQQ0GIoSDEUBBiKAgxFIQYCkIMBSGGghBDQYihIMRQEGIoCDEUhBgKQgwFIYaCEENBiKEgxFAQYigIMRSEGApCDAUhhoIQQ0GIoSDEUBBiKAgxFIQYCkIMBSGGghBDQYihIMRQEGIoCDEUhBgKQgwFIYaCEENBiKEgxFAQYigIMRSEGApCDAUhhoIQQ0GIoSDEUBBiKAgxFIQYCkIMBSGGghBDQYihIMRQEGIoCDEUhBgKQgwFIYaCEENBiKEgxFAQYigIMRSEGApCDAUhhoIQI7rsP+jOeHzWuY70nOdOn3/T6+XiLhyEwy8v4TkjAuLstXHX6D7vHCQpJEALP7ez0TluZXPz1Oica2azvJ93DsJ1zQ5/MXuy0dt13Hncea4A9AF5Bz0x5GKIYwh6wRX8IIT0FfAKOIG0Aa0WtNpdcxtOEngJ1PDz0an5GB+IXNy5QXRWgs4x+Bhi/MUu4i9491zKzhVC6MlDVAI3CG4YGMrGSDYPZu+i+0rXIH5pn0trkBxCuwr1E6i2YR94jp9TfE8K4v2cG0TA61Uh6Jo7QfTjr2n3yOcgKuIv+Di4caDsj5mAdALScUdyJeC4v0DbReQbx8RHLdxhgqumuCpwmI0DcM8h3IVgG+Id6KtAoe7fRxu/OrzpnkT+mTODCPl7CJ3jGMjjV4NhYBQYDiEeADeKXwHGgRlgHtIZYA5aUxG14RI7PWUeuxk2maXlIkbSfcauPGM03WMk2adYr1E4rhNVm/AUXAXYBLcBbEBYhKE//MpRx3cT4VcJubi3BtF9z9CJIOR1FN0rxAgwHEE8Aq4MTOJXhDKwBOkKtBYi9oZHeRQv8NCt8ICrPOAq6+0FWmnEaLhP2W0z4XYpB9tMlnaYLO4wPlZhdG6PUvUF8UbTf+0UwcUQtmFgA4ZOYBftoS/DmUG8LYYQyOFvHPuBgQDiIXDT+BVhNhtzkH4ERwtFNgqL3HHXucen3Emv82vrY3b2JzjeKMAriCba5MfqDPUfMBVuMR08YcY9ZsY9ZrZnk/mxRywXH1Lqq+Fy+O1HHeIXMLDl47z0PfQH6MzPsDuK7hg628UCMAD05rP7hGlgHlj0I12Bw7lB7uWuccvd4Ge+4nbyBesHS9Tv98LPDm6ncAKt+YjaUpHaQpEni9PcHbvGleJTltzvzLtHrLrfqOVLfL7yCwNpFdf5nqhA4RkUGv59yft5axDdEZz+zSHCrxB5oM9lu4dxYAofxDKkq/Biqp87uc/4wX3NzfQbbjVvsLs+TvJjADcd/NSGtT1oNmFkGGZ7YSUgueqorZY4Wulje36StdIyW8EUJ66XIJfw5cJt+g6PcBVwm9CzriAuyztvO09/hUT43xmiGFwJv73ohFGG9kTEbm6SNbfMfT7hLtfY3Z4guRXA98B3wFoFkptAHbZXobICW4NQcbAH6WFA/ajAxuo8jdEcQxww6XYoF7ZYnDyCMf9/wwLE1X/j4/nwXPg+zHWNN32npIGj7ULahDSJaRKTNvjrxydOgKSB3yNkTyRNf74zGn6kLUeDHA1yNIlpE5GG7vWNjdOW87LoxlwMBSGGghDjT//rQicUsaWZAAAAAElFTkSuQmCC\" y=\"-31.290368\"/>\n   </g>\n   <g id=\"text_2\">\n    <!-- Class Activation Map -->\n    <defs>\n     <path d=\"M 64.40625 67.28125 \nL 64.40625 56.890625 \nQ 59.421875 61.53125 53.78125 63.8125 \nQ 48.140625 66.109375 41.796875 66.109375 \nQ 29.296875 66.109375 22.65625 58.46875 \nQ 16.015625 50.828125 16.015625 36.375 \nQ 16.015625 21.96875 22.65625 14.328125 \nQ 29.296875 6.6875 41.796875 6.6875 \nQ 48.140625 6.6875 53.78125 8.984375 \nQ 59.421875 11.28125 64.40625 15.921875 \nL 64.40625 5.609375 \nQ 59.234375 2.09375 53.4375 0.328125 \nQ 47.65625 -1.421875 41.21875 -1.421875 \nQ 24.65625 -1.421875 15.125 8.703125 \nQ 5.609375 18.84375 5.609375 36.375 \nQ 5.609375 53.953125 15.125 64.078125 \nQ 24.65625 74.21875 41.21875 74.21875 \nQ 47.75 74.21875 53.53125 72.484375 \nQ 59.328125 70.75 64.40625 67.28125 \nz\n\" id=\"DejaVuSans-67\"/>\n     <path d=\"M 44.28125 53.078125 \nL 44.28125 44.578125 \nQ 40.484375 46.53125 36.375 47.5 \nQ 32.28125 48.484375 27.875 48.484375 \nQ 21.1875 48.484375 17.84375 46.4375 \nQ 14.5 44.390625 14.5 40.28125 \nQ 14.5 37.15625 16.890625 35.375 \nQ 19.28125 33.59375 26.515625 31.984375 \nL 29.59375 31.296875 \nQ 39.15625 29.25 43.1875 25.515625 \nQ 47.21875 21.78125 47.21875 15.09375 \nQ 47.21875 7.46875 41.1875 3.015625 \nQ 35.15625 -1.421875 24.609375 -1.421875 \nQ 20.21875 -1.421875 15.453125 -0.5625 \nQ 10.6875 0.296875 5.421875 2 \nL 5.421875 11.28125 \nQ 10.40625 8.6875 15.234375 7.390625 \nQ 20.0625 6.109375 24.8125 6.109375 \nQ 31.15625 6.109375 34.5625 8.28125 \nQ 37.984375 10.453125 37.984375 14.40625 \nQ 37.984375 18.0625 35.515625 20.015625 \nQ 33.0625 21.96875 24.703125 23.78125 \nL 21.578125 24.515625 \nQ 13.234375 26.265625 9.515625 29.90625 \nQ 5.8125 33.546875 5.8125 39.890625 \nQ 5.8125 47.609375 11.28125 51.796875 \nQ 16.75 56 26.8125 56 \nQ 31.78125 56 36.171875 55.265625 \nQ 40.578125 54.546875 44.28125 53.078125 \nz\n\" id=\"DejaVuSans-115\"/>\n     <path d=\"M 34.1875 63.1875 \nL 20.796875 26.90625 \nL 47.609375 26.90625 \nz\nM 28.609375 72.90625 \nL 39.796875 72.90625 \nL 67.578125 0 \nL 57.328125 0 \nL 50.6875 18.703125 \nL 17.828125 18.703125 \nL 11.1875 0 \nL 0.78125 0 \nz\n\" id=\"DejaVuSans-65\"/>\n     <path d=\"M 2.984375 54.6875 \nL 12.5 54.6875 \nL 29.59375 8.796875 \nL 46.6875 54.6875 \nL 56.203125 54.6875 \nL 35.6875 0 \nL 23.484375 0 \nz\n\" id=\"DejaVuSans-118\"/>\n     <path d=\"M 30.609375 48.390625 \nQ 23.390625 48.390625 19.1875 42.75 \nQ 14.984375 37.109375 14.984375 27.296875 \nQ 14.984375 17.484375 19.15625 11.84375 \nQ 23.34375 6.203125 30.609375 6.203125 \nQ 37.796875 6.203125 41.984375 11.859375 \nQ 46.1875 17.53125 46.1875 27.296875 \nQ 46.1875 37.015625 41.984375 42.703125 \nQ 37.796875 48.390625 30.609375 48.390625 \nz\nM 30.609375 56 \nQ 42.328125 56 49.015625 48.375 \nQ 55.71875 40.765625 55.71875 27.296875 \nQ 55.71875 13.875 49.015625 6.21875 \nQ 42.328125 -1.421875 30.609375 -1.421875 \nQ 18.84375 -1.421875 12.171875 6.21875 \nQ 5.515625 13.875 5.515625 27.296875 \nQ 5.515625 40.765625 12.171875 48.375 \nQ 18.84375 56 30.609375 56 \nz\n\" id=\"DejaVuSans-111\"/>\n     <path d=\"M 54.890625 33.015625 \nL 54.890625 0 \nL 45.90625 0 \nL 45.90625 32.71875 \nQ 45.90625 40.484375 42.875 44.328125 \nQ 39.84375 48.1875 33.796875 48.1875 \nQ 26.515625 48.1875 22.3125 43.546875 \nQ 18.109375 38.921875 18.109375 30.90625 \nL 18.109375 0 \nL 9.078125 0 \nL 9.078125 54.6875 \nL 18.109375 54.6875 \nL 18.109375 46.1875 \nQ 21.34375 51.125 25.703125 53.5625 \nQ 30.078125 56 35.796875 56 \nQ 45.21875 56 50.046875 50.171875 \nQ 54.890625 44.34375 54.890625 33.015625 \nz\n\" id=\"DejaVuSans-110\"/>\n     <path d=\"M 9.8125 72.90625 \nL 24.515625 72.90625 \nL 43.109375 23.296875 \nL 61.8125 72.90625 \nL 76.515625 72.90625 \nL 76.515625 0 \nL 66.890625 0 \nL 66.890625 64.015625 \nL 48.09375 14.015625 \nL 38.1875 14.015625 \nL 19.390625 64.015625 \nL 19.390625 0 \nL 9.8125 0 \nz\n\" id=\"DejaVuSans-77\"/>\n     <path d=\"M 18.109375 8.203125 \nL 18.109375 -20.796875 \nL 9.078125 -20.796875 \nL 9.078125 54.6875 \nL 18.109375 54.6875 \nL 18.109375 46.390625 \nQ 20.953125 51.265625 25.265625 53.625 \nQ 29.59375 56 35.59375 56 \nQ 45.5625 56 51.78125 48.09375 \nQ 58.015625 40.1875 58.015625 27.296875 \nQ 58.015625 14.40625 51.78125 6.484375 \nQ 45.5625 -1.421875 35.59375 -1.421875 \nQ 29.59375 -1.421875 25.265625 0.953125 \nQ 20.953125 3.328125 18.109375 8.203125 \nz\nM 48.6875 27.296875 \nQ 48.6875 37.203125 44.609375 42.84375 \nQ 40.53125 48.484375 33.40625 48.484375 \nQ 26.265625 48.484375 22.1875 42.84375 \nQ 18.109375 37.203125 18.109375 27.296875 \nQ 18.109375 17.390625 22.1875 11.75 \nQ 26.265625 6.109375 33.40625 6.109375 \nQ 40.53125 6.109375 44.609375 11.75 \nQ 48.6875 17.390625 48.6875 27.296875 \nz\n\" id=\"DejaVuSans-112\"/>\n    </defs>\n    <g transform=\"translate(178.483594 25.99625)scale(0.1 -0.1)\">\n     <use xlink:href=\"#DejaVuSans-67\"/>\n     <use x=\"69.824219\" xlink:href=\"#DejaVuSans-108\"/>\n     <use x=\"97.607422\" xlink:href=\"#DejaVuSans-97\"/>\n     <use x=\"158.886719\" xlink:href=\"#DejaVuSans-115\"/>\n     <use x=\"210.986328\" xlink:href=\"#DejaVuSans-115\"/>\n     <use x=\"263.085938\" xlink:href=\"#DejaVuSans-32\"/>\n     <use x=\"294.873047\" xlink:href=\"#DejaVuSans-65\"/>\n     <use x=\"361.53125\" xlink:href=\"#DejaVuSans-99\"/>\n     <use x=\"416.511719\" xlink:href=\"#DejaVuSans-116\"/>\n     <use x=\"455.720703\" xlink:href=\"#DejaVuSans-105\"/>\n     <use x=\"483.503906\" xlink:href=\"#DejaVuSans-118\"/>\n     <use x=\"542.683594\" xlink:href=\"#DejaVuSans-97\"/>\n     <use x=\"603.962891\" xlink:href=\"#DejaVuSans-116\"/>\n     <use x=\"643.171875\" xlink:href=\"#DejaVuSans-105\"/>\n     <use x=\"670.955078\" xlink:href=\"#DejaVuSans-111\"/>\n     <use x=\"732.136719\" xlink:href=\"#DejaVuSans-110\"/>\n     <use x=\"795.515625\" xlink:href=\"#DejaVuSans-32\"/>\n     <use x=\"827.302734\" xlink:href=\"#DejaVuSans-77\"/>\n     <use x=\"913.582031\" xlink:href=\"#DejaVuSans-97\"/>\n     <use x=\"974.861328\" xlink:href=\"#DejaVuSans-112\"/>\n    </g>\n   </g>\n  </g>\n  <g id=\"axes_3\">\n   <g clip-path=\"url(#p2fe2de5980)\">\n    <image height=\"132\" id=\"image95ba7b60f3\" transform=\"scale(1 -1)translate(0 -132)\" width=\"132\" x=\"322.305882\" xlink:href=\"data:image/png;base64,\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\" y=\"-31.290368\"/>\n   </g>\n   <g id=\"text_3\">\n    <!-- Activation Map Superimposed -->\n    <defs>\n     <path d=\"M 53.515625 70.515625 \nL 53.515625 60.890625 \nQ 47.90625 63.578125 42.921875 64.890625 \nQ 37.9375 66.21875 33.296875 66.21875 \nQ 25.25 66.21875 20.875 63.09375 \nQ 16.5 59.96875 16.5 54.203125 \nQ 16.5 49.359375 19.40625 46.890625 \nQ 22.3125 44.4375 30.421875 42.921875 \nL 36.375 41.703125 \nQ 47.40625 39.59375 52.65625 34.296875 \nQ 57.90625 29 57.90625 20.125 \nQ 57.90625 9.515625 50.796875 4.046875 \nQ 43.703125 -1.421875 29.984375 -1.421875 \nQ 24.8125 -1.421875 18.96875 -0.25 \nQ 13.140625 0.921875 6.890625 3.21875 \nL 6.890625 13.375 \nQ 12.890625 10.015625 18.65625 8.296875 \nQ 24.421875 6.59375 29.984375 6.59375 \nQ 38.421875 6.59375 43.015625 9.90625 \nQ 47.609375 13.234375 47.609375 19.390625 \nQ 47.609375 24.75 44.3125 27.78125 \nQ 41.015625 30.8125 33.5 32.328125 \nL 27.484375 33.5 \nQ 16.453125 35.6875 11.515625 40.375 \nQ 6.59375 45.0625 6.59375 53.421875 \nQ 6.59375 63.09375 13.40625 68.65625 \nQ 20.21875 74.21875 32.171875 74.21875 \nQ 37.3125 74.21875 42.625 73.28125 \nQ 47.953125 72.359375 53.515625 70.515625 \nz\n\" id=\"DejaVuSans-83\"/>\n     <path d=\"M 52 44.1875 \nQ 55.375 50.25 60.0625 53.125 \nQ 64.75 56 71.09375 56 \nQ 79.640625 56 84.28125 50.015625 \nQ 88.921875 44.046875 88.921875 33.015625 \nL 88.921875 0 \nL 79.890625 0 \nL 79.890625 32.71875 \nQ 79.890625 40.578125 77.09375 44.375 \nQ 74.3125 48.1875 68.609375 48.1875 \nQ 61.625 48.1875 57.5625 43.546875 \nQ 53.515625 38.921875 53.515625 30.90625 \nL 53.515625 0 \nL 44.484375 0 \nL 44.484375 32.71875 \nQ 44.484375 40.625 41.703125 44.40625 \nQ 38.921875 48.1875 33.109375 48.1875 \nQ 26.21875 48.1875 22.15625 43.53125 \nQ 18.109375 38.875 18.109375 30.90625 \nL 18.109375 0 \nL 9.078125 0 \nL 9.078125 54.6875 \nL 18.109375 54.6875 \nL 18.109375 46.1875 \nQ 21.1875 51.21875 25.484375 53.609375 \nQ 29.78125 56 35.6875 56 \nQ 41.65625 56 45.828125 52.96875 \nQ 50 49.953125 52 44.1875 \nz\n\" id=\"DejaVuSans-109\"/>\n    </defs>\n    <g transform=\"translate(313.192785 25.99625)scale(0.1 -0.1)\">\n     <use xlink:href=\"#DejaVuSans-65\"/>\n     <use x=\"66.658203\" xlink:href=\"#DejaVuSans-99\"/>\n     <use x=\"121.638672\" xlink:href=\"#DejaVuSans-116\"/>\n     <use x=\"160.847656\" xlink:href=\"#DejaVuSans-105\"/>\n     <use x=\"188.630859\" xlink:href=\"#DejaVuSans-118\"/>\n     <use x=\"247.810547\" xlink:href=\"#DejaVuSans-97\"/>\n     <use x=\"309.089844\" xlink:href=\"#DejaVuSans-116\"/>\n     <use x=\"348.298828\" xlink:href=\"#DejaVuSans-105\"/>\n     <use x=\"376.082031\" xlink:href=\"#DejaVuSans-111\"/>\n     <use x=\"437.263672\" xlink:href=\"#DejaVuSans-110\"/>\n     <use x=\"500.642578\" xlink:href=\"#DejaVuSans-32\"/>\n     <use x=\"532.429688\" xlink:href=\"#DejaVuSans-77\"/>\n     <use x=\"618.708984\" xlink:href=\"#DejaVuSans-97\"/>\n     <use x=\"679.988281\" xlink:href=\"#DejaVuSans-112\"/>\n     <use x=\"743.464844\" xlink:href=\"#DejaVuSans-32\"/>\n     <use x=\"775.251953\" xlink:href=\"#DejaVuSans-83\"/>\n     <use x=\"838.728516\" xlink:href=\"#DejaVuSans-117\"/>\n     <use x=\"902.107422\" xlink:href=\"#DejaVuSans-112\"/>\n     <use x=\"965.583984\" xlink:href=\"#DejaVuSans-101\"/>\n     <use x=\"1027.107422\" xlink:href=\"#DejaVuSans-114\"/>\n     <use x=\"1068.220703\" xlink:href=\"#DejaVuSans-105\"/>\n     <use x=\"1096.003906\" xlink:href=\"#DejaVuSans-109\"/>\n     <use x=\"1193.416016\" xlink:href=\"#DejaVuSans-112\"/>\n     <use x=\"1256.892578\" xlink:href=\"#DejaVuSans-111\"/>\n     <use x=\"1318.074219\" xlink:href=\"#DejaVuSans-115\"/>\n     <use x=\"1370.173828\" xlink:href=\"#DejaVuSans-101\"/>\n     <use x=\"1431.697266\" xlink:href=\"#DejaVuSans-100\"/>\n    </g>\n   </g>\n  </g>\n </g>\n <defs>\n  <clipPath id=\"p26976c9d76\">\n   <rect height=\"131.294118\" width=\"131.294118\" x=\"7.2\" y=\"31.99625\"/>\n  </clipPath>\n  <clipPath id=\"p707bb6f0e7\">\n   <rect height=\"131.294118\" width=\"131.294118\" x=\"164.752941\" y=\"31.99625\"/>\n  </clipPath>\n  <clipPath id=\"p2fe2de5980\">\n   <rect height=\"131.294118\" width=\"131.294118\" x=\"322.305882\" y=\"31.99625\"/>\n  </clipPath>\n </defs>\n</svg>\n"
          },
          "metadata": {
            "needs_background": "light"
          }
        }
      ],
      "source": [
        "# select the sample and read the corresponding image and label\n",
        "sample_image = cv2.imread(valid_df.iloc[idx]['image'])\n",
        "sample_image = cv2.cvtColor(sample_image, cv2.COLOR_BGR2RGB)\n",
        "sample_image = cv2.resize(sample_image, (img_rows, img_cols))\n",
        "sample_label = valid_df.iloc[idx][\"label\"]\n",
        "\n",
        "# pre-process the image\n",
        "sample_image_processed = np.expand_dims(sample_image, axis=0)\n",
        "sample_image_processed = preprocess_input(sample_image_processed)\n",
        "\n",
        "# get the label predicted by our original model\n",
        "pred_label = np.argmax(model.predict(sample_image_processed), axis=-1)[0]\n",
        "\n",
        "# get the heatmap for class activation map(CAM)\n",
        "heatmap = get_CAM(sample_image_processed, pred_label)\n",
        "heatmap = cv2.resize(heatmap, (sample_image.shape[0], sample_image.shape[1]))\n",
        "heatmap = heatmap *255\n",
        "heatmap = np.clip(heatmap, 0, 255).astype(np.uint8)\n",
        "heatmap = cv2.applyColorMap(heatmap, cv2.COLORMAP_JET)\n",
        "super_imposed_image = heatmap * 0.5 + sample_image\n",
        "super_imposed_image = np.clip(super_imposed_image, 0,255).astype(np.uint8)\n",
        "\n",
        "# Ploting\n",
        "fontsize = 10\n",
        "fig, axes = plt.subplots( 1, 3, figsize=( 8, 8 ) )\n",
        "axes[0].set_title( f'True label: {sample_label} \\n Predicted label: {pred_label}',\n",
        "                  fontsize = fontsize )\n",
        "axes[0].axis('off')\n",
        "axes[0].imshow( sample_image )\n",
        "\n",
        "axes[1].set_title( f'Class Activation Map',\n",
        "                  fontsize = fontsize )\n",
        "axes[1].axis('off')\n",
        "axes[1].imshow( heatmap )\n",
        "\n",
        "axes[2].set_title( f'Activation Map Superimposed',\n",
        "                  fontsize = fontsize )\n",
        "axes[2].axis('off')\n",
        "axes[2].imshow( super_imposed_image )\n",
        "plt.show()\n",
        "\n",
        "# # Plot just CAM of the layer\n",
        "# plt.figure( figsize=(2, 2) )\n",
        "# plt.title( f'Class Activation Map - Layer: {layer}' )\n",
        "# plt.imshow( heatmap )\n",
        "# plt.show()"
      ]
    },
    {
      "cell_type": "code",
      "source": [
        "import tensorflow as tf\n",
        "print(tf.__version__)"
      ],
      "metadata": {
        "id": "r1uvAYIa49oX",
        "outputId": "11b5a25e-74de-40df-dd0b-29b8d44d8bd7",
        "colab": {
          "base_uri": "https://localhost:8080/"
        }
      },
      "execution_count": 28,
      "outputs": [
        {
          "output_type": "stream",
          "name": "stdout",
          "text": [
            "2.9.2\n"
          ]
        }
      ]
    }
  ],
  "metadata": {
    "accelerator": "GPU",
    "colab": {
      "machine_shape": "hm",
      "provenance": []
    },
    "gpuClass": "premium",
    "kernelspec": {
      "display_name": "Python 3",
      "language": "python",
      "name": "python3"
    },
    "language_info": {
      "codemirror_mode": {
        "name": "ipython",
        "version": 3
      },
      "file_extension": ".py",
      "mimetype": "text/x-python",
      "name": "python",
      "nbconvert_exporter": "python",
      "pygments_lexer": "ipython3",
      "version": "3.6.6"
    }
  },
  "nbformat": 4,
  "nbformat_minor": 0
}