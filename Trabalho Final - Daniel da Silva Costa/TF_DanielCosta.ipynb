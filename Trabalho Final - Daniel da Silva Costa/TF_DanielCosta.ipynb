{
  "cells": [
    {
      "cell_type": "code",
      "execution_count": 1,
      "metadata": {
        "colab": {
          "base_uri": "https://localhost:8080/"
        },
        "id": "yukxIi6LniSQ",
        "outputId": "9d9dfa7a-046a-4ddf-82f4-e03d2298ac58"
      },
      "outputs": [
        {
          "output_type": "stream",
          "name": "stdout",
          "text": [
            "Mounted at /content/drive\n"
          ]
        }
      ],
      "source": [
        "from google.colab import drive\n",
        "drive.mount('/content/drive', force_remount=True)"
      ]
    },
    {
      "cell_type": "code",
      "execution_count": 2,
      "metadata": {
        "colab": {
          "base_uri": "https://localhost:8080/"
        },
        "id": "995UeTpNnpqJ",
        "outputId": "e67c12ff-9617-4fdb-d5bb-289661f76ff5"
      },
      "outputs": [
        {
          "output_type": "stream",
          "name": "stdout",
          "text": [
            "/content/drive/MyDrive/Doutorado/Disciplinas/[2022.2] [PUC-Rio] Visão Computacional - Professor: Marcelo Gattass/Trabalhos/Trabalho Final/Code/What does a CNN see?\n"
          ]
        }
      ],
      "source": [
        "cd \"drive/MyDrive/Doutorado/Disciplinas/[2022.2] [PUC-Rio] Visão Computacional - Professor: Marcelo Gattass/Trabalhos/Trabalho Final/Code/What does a CNN see?/\""
      ]
    },
    {
      "cell_type": "code",
      "execution_count": 3,
      "metadata": {
        "colab": {
          "base_uri": "https://localhost:8080/"
        },
        "id": "cg29tq9_nx3_",
        "outputId": "cc476de4-0f7c-42d2-997b-23fbfacaff55"
      },
      "outputs": [
        {
          "output_type": "stream",
          "name": "stdout",
          "text": [
            "/content/drive/MyDrive/Doutorado/Disciplinas/[2022.2] [PUC-Rio] Visão Computacional - Professor: Marcelo Gattass/Trabalhos/Trabalho Final/Code/What does a CNN see?\n"
          ]
        }
      ],
      "source": [
        "!pwd"
      ]
    },
    {
      "cell_type": "code",
      "execution_count": 4,
      "metadata": {
        "id": "Fmp5VkmDnzJ6"
      },
      "outputs": [],
      "source": [
        "data_folder = './data/'"
      ]
    },
    {
      "cell_type": "code",
      "execution_count": 5,
      "metadata": {
        "id": "r49vJQx6m_n5"
      },
      "outputs": [],
      "source": [
        "import os\n",
        "import cv2\n",
        "import glob\n",
        "import h5py\n",
        "import shutil\n",
        "import imgaug as aug\n",
        "import numpy as np # linear algebra\n",
        "import pandas as pd # data processing, CSV file I/O (e.g. pd.read_csv)\n",
        "import seaborn as sns\n",
        "import matplotlib.pyplot as plt\n",
        "import imgaug.augmenters as iaa\n",
        "from os import listdir, makedirs, getcwd, remove\n",
        "from os.path import isfile, join, abspath, exists, isdir, expanduser\n",
        "from pathlib import Path\n",
        "from skimage.io import imread\n",
        "from skimage.transform import resize\n",
        "from keras.models import Sequential, Model, load_model\n",
        "from keras.applications.vgg16 import VGG16, preprocess_input\n",
        "from keras.layers import Conv2D, MaxPooling2D, Dense, Dropout, Input, Flatten\n",
        "from keras.optimizers import Adam, SGD, RMSprop\n",
        "from keras.callbacks import ModelCheckpoint, Callback, EarlyStopping\n",
        "from keras.utils import to_categorical\n",
        "from sklearn.model_selection import train_test_split\n",
        "from mlxtend.plotting import plot_confusion_matrix\n",
        "from sklearn.metrics import confusion_matrix\n",
        "from mlxtend.plotting import plot_confusion_matrix\n",
        "from keras import backend as K\n",
        "import tensorflow as tf\n",
        "tf.compat.v1.disable_eager_execution() # daniel\n",
        "\n",
        "\n",
        "color = sns.color_palette()\n",
        "%matplotlib inline\n",
        "%config InlineBackend.figure_format=\"svg\"\n",
        "\n",
        "# Daniel\n",
        "from tensorflow.keras import datasets, layers, models"
      ]
    },
    {
      "cell_type": "code",
      "execution_count": 6,
      "metadata": {
        "id": "O63jTZkRm_n8"
      },
      "outputs": [],
      "source": [
        "# Set the seed for hash based operations in python\n",
        "os.environ['PYTHONHASHSEED'] = '0'\n",
        "\n",
        "seed=1234\n",
        "\n",
        "# Set the numpy seed\n",
        "np.random.seed(seed)\n",
        "\n",
        "# Set the random seed in tensorflow at graph level\n",
        "# tf.set_random_seed(seed) # obsolete\n",
        "tf.random.set_seed(seed)\n",
        "\n",
        "# Make the augmentation sequence deterministic\n",
        "aug.seed(seed)"
      ]
    },
    {
      "cell_type": "code",
      "execution_count": 7,
      "metadata": {
        "id": "GDVCZ3Som_n-"
      },
      "outputs": [],
      "source": [
        "# As usual, define some paths first to make life simpler\n",
        "training_data = Path(data_folder + '/training/') \n",
        "validation_data = Path(data_folder + '/validation/') \n",
        "labels_path = Path(data_folder + '/monkey_labels.txt')"
      ]
    },
    {
      "cell_type": "code",
      "execution_count": 8,
      "metadata": {
        "colab": {
          "base_uri": "https://localhost:8080/",
          "height": 363
        },
        "id": "pFmq_UfRm_oA",
        "outputId": "84dfedbd-f979-40ef-ed58-1b23018ffcf7"
      },
      "outputs": [
        {
          "output_type": "execute_result",
          "data": {
            "text/plain": [
              "  Label             Latin Name                Common Name  Train Images  \\\n",
              "0    n0      alouatta_palliata             mantled_howler           131   \n",
              "1    n1     erythrocebus_patas               patas_monkey           139   \n",
              "2    n2         cacajao_calvus                bald_uakari           137   \n",
              "3    n3         macaca_fuscata           japanese_macaque           152   \n",
              "4    n4        cebuella_pygmea             pygmy_marmoset           131   \n",
              "5    n5        cebus_capucinus      white_headed_capuchin           141   \n",
              "6    n6        mico_argentatus           silvery_marmoset           132   \n",
              "7    n7       saimiri_sciureus     common_squirrel_monkey           142   \n",
              "8    n8        aotus_nigriceps  black_headed_night_monkey           133   \n",
              "9    n9  trachypithecus_johnii             nilgiri_langur           132   \n",
              "\n",
              "   Validation Images  \n",
              "0                 26  \n",
              "1                 28  \n",
              "2                 27  \n",
              "3                 30  \n",
              "4                 26  \n",
              "5                 28  \n",
              "6                 26  \n",
              "7                 28  \n",
              "8                 27  \n",
              "9                 26  "
            ],
            "text/html": [
              "\n",
              "  <div id=\"df-7ca9a6af-b140-4e1b-802a-2f3eeae357df\">\n",
              "    <div class=\"colab-df-container\">\n",
              "      <div>\n",
              "<style scoped>\n",
              "    .dataframe tbody tr th:only-of-type {\n",
              "        vertical-align: middle;\n",
              "    }\n",
              "\n",
              "    .dataframe tbody tr th {\n",
              "        vertical-align: top;\n",
              "    }\n",
              "\n",
              "    .dataframe thead th {\n",
              "        text-align: right;\n",
              "    }\n",
              "</style>\n",
              "<table border=\"1\" class=\"dataframe\">\n",
              "  <thead>\n",
              "    <tr style=\"text-align: right;\">\n",
              "      <th></th>\n",
              "      <th>Label</th>\n",
              "      <th>Latin Name</th>\n",
              "      <th>Common Name</th>\n",
              "      <th>Train Images</th>\n",
              "      <th>Validation Images</th>\n",
              "    </tr>\n",
              "  </thead>\n",
              "  <tbody>\n",
              "    <tr>\n",
              "      <th>0</th>\n",
              "      <td>n0</td>\n",
              "      <td>alouatta_palliata</td>\n",
              "      <td>mantled_howler</td>\n",
              "      <td>131</td>\n",
              "      <td>26</td>\n",
              "    </tr>\n",
              "    <tr>\n",
              "      <th>1</th>\n",
              "      <td>n1</td>\n",
              "      <td>erythrocebus_patas</td>\n",
              "      <td>patas_monkey</td>\n",
              "      <td>139</td>\n",
              "      <td>28</td>\n",
              "    </tr>\n",
              "    <tr>\n",
              "      <th>2</th>\n",
              "      <td>n2</td>\n",
              "      <td>cacajao_calvus</td>\n",
              "      <td>bald_uakari</td>\n",
              "      <td>137</td>\n",
              "      <td>27</td>\n",
              "    </tr>\n",
              "    <tr>\n",
              "      <th>3</th>\n",
              "      <td>n3</td>\n",
              "      <td>macaca_fuscata</td>\n",
              "      <td>japanese_macaque</td>\n",
              "      <td>152</td>\n",
              "      <td>30</td>\n",
              "    </tr>\n",
              "    <tr>\n",
              "      <th>4</th>\n",
              "      <td>n4</td>\n",
              "      <td>cebuella_pygmea</td>\n",
              "      <td>pygmy_marmoset</td>\n",
              "      <td>131</td>\n",
              "      <td>26</td>\n",
              "    </tr>\n",
              "    <tr>\n",
              "      <th>5</th>\n",
              "      <td>n5</td>\n",
              "      <td>cebus_capucinus</td>\n",
              "      <td>white_headed_capuchin</td>\n",
              "      <td>141</td>\n",
              "      <td>28</td>\n",
              "    </tr>\n",
              "    <tr>\n",
              "      <th>6</th>\n",
              "      <td>n6</td>\n",
              "      <td>mico_argentatus</td>\n",
              "      <td>silvery_marmoset</td>\n",
              "      <td>132</td>\n",
              "      <td>26</td>\n",
              "    </tr>\n",
              "    <tr>\n",
              "      <th>7</th>\n",
              "      <td>n7</td>\n",
              "      <td>saimiri_sciureus</td>\n",
              "      <td>common_squirrel_monkey</td>\n",
              "      <td>142</td>\n",
              "      <td>28</td>\n",
              "    </tr>\n",
              "    <tr>\n",
              "      <th>8</th>\n",
              "      <td>n8</td>\n",
              "      <td>aotus_nigriceps</td>\n",
              "      <td>black_headed_night_monkey</td>\n",
              "      <td>133</td>\n",
              "      <td>27</td>\n",
              "    </tr>\n",
              "    <tr>\n",
              "      <th>9</th>\n",
              "      <td>n9</td>\n",
              "      <td>trachypithecus_johnii</td>\n",
              "      <td>nilgiri_langur</td>\n",
              "      <td>132</td>\n",
              "      <td>26</td>\n",
              "    </tr>\n",
              "  </tbody>\n",
              "</table>\n",
              "</div>\n",
              "      <button class=\"colab-df-convert\" onclick=\"convertToInteractive('df-7ca9a6af-b140-4e1b-802a-2f3eeae357df')\"\n",
              "              title=\"Convert this dataframe to an interactive table.\"\n",
              "              style=\"display:none;\">\n",
              "        \n",
              "  <svg xmlns=\"http://www.w3.org/2000/svg\" height=\"24px\"viewBox=\"0 0 24 24\"\n",
              "       width=\"24px\">\n",
              "    <path d=\"M0 0h24v24H0V0z\" fill=\"none\"/>\n",
              "    <path d=\"M18.56 5.44l.94 2.06.94-2.06 2.06-.94-2.06-.94-.94-2.06-.94 2.06-2.06.94zm-11 1L8.5 8.5l.94-2.06 2.06-.94-2.06-.94L8.5 2.5l-.94 2.06-2.06.94zm10 10l.94 2.06.94-2.06 2.06-.94-2.06-.94-.94-2.06-.94 2.06-2.06.94z\"/><path d=\"M17.41 7.96l-1.37-1.37c-.4-.4-.92-.59-1.43-.59-.52 0-1.04.2-1.43.59L10.3 9.45l-7.72 7.72c-.78.78-.78 2.05 0 2.83L4 21.41c.39.39.9.59 1.41.59.51 0 1.02-.2 1.41-.59l7.78-7.78 2.81-2.81c.8-.78.8-2.07 0-2.86zM5.41 20L4 18.59l7.72-7.72 1.47 1.35L5.41 20z\"/>\n",
              "  </svg>\n",
              "      </button>\n",
              "      \n",
              "  <style>\n",
              "    .colab-df-container {\n",
              "      display:flex;\n",
              "      flex-wrap:wrap;\n",
              "      gap: 12px;\n",
              "    }\n",
              "\n",
              "    .colab-df-convert {\n",
              "      background-color: #E8F0FE;\n",
              "      border: none;\n",
              "      border-radius: 50%;\n",
              "      cursor: pointer;\n",
              "      display: none;\n",
              "      fill: #1967D2;\n",
              "      height: 32px;\n",
              "      padding: 0 0 0 0;\n",
              "      width: 32px;\n",
              "    }\n",
              "\n",
              "    .colab-df-convert:hover {\n",
              "      background-color: #E2EBFA;\n",
              "      box-shadow: 0px 1px 2px rgba(60, 64, 67, 0.3), 0px 1px 3px 1px rgba(60, 64, 67, 0.15);\n",
              "      fill: #174EA6;\n",
              "    }\n",
              "\n",
              "    [theme=dark] .colab-df-convert {\n",
              "      background-color: #3B4455;\n",
              "      fill: #D2E3FC;\n",
              "    }\n",
              "\n",
              "    [theme=dark] .colab-df-convert:hover {\n",
              "      background-color: #434B5C;\n",
              "      box-shadow: 0px 1px 3px 1px rgba(0, 0, 0, 0.15);\n",
              "      filter: drop-shadow(0px 1px 2px rgba(0, 0, 0, 0.3));\n",
              "      fill: #FFFFFF;\n",
              "    }\n",
              "  </style>\n",
              "\n",
              "      <script>\n",
              "        const buttonEl =\n",
              "          document.querySelector('#df-7ca9a6af-b140-4e1b-802a-2f3eeae357df button.colab-df-convert');\n",
              "        buttonEl.style.display =\n",
              "          google.colab.kernel.accessAllowed ? 'block' : 'none';\n",
              "\n",
              "        async function convertToInteractive(key) {\n",
              "          const element = document.querySelector('#df-7ca9a6af-b140-4e1b-802a-2f3eeae357df');\n",
              "          const dataTable =\n",
              "            await google.colab.kernel.invokeFunction('convertToInteractive',\n",
              "                                                     [key], {});\n",
              "          if (!dataTable) return;\n",
              "\n",
              "          const docLinkHtml = 'Like what you see? Visit the ' +\n",
              "            '<a target=\"_blank\" href=https://colab.research.google.com/notebooks/data_table.ipynb>data table notebook</a>'\n",
              "            + ' to learn more about interactive tables.';\n",
              "          element.innerHTML = '';\n",
              "          dataTable['output_type'] = 'display_data';\n",
              "          await google.colab.output.renderOutput(dataTable, element);\n",
              "          const docLink = document.createElement('div');\n",
              "          docLink.innerHTML = docLinkHtml;\n",
              "          element.appendChild(docLink);\n",
              "        }\n",
              "      </script>\n",
              "    </div>\n",
              "  </div>\n",
              "  "
            ]
          },
          "metadata": {},
          "execution_count": 8
        }
      ],
      "source": [
        "labels_info = []\n",
        "\n",
        "# Read the file\n",
        "lines = labels_path.read_text().strip().splitlines()[1:]\n",
        "for line in lines:\n",
        "    line = line.split(',')\n",
        "    line = [x.strip(' \\n\\t\\r') for x in line]\n",
        "    line[3], line[4] = int(line[3]), int(line[4])\n",
        "    line = tuple(line)\n",
        "    labels_info.append(line)\n",
        "    \n",
        "# Convert the data into a pandas dataframe\n",
        "labels_info = pd.DataFrame(labels_info, columns=['Label', 'Latin Name', 'Common Name', \n",
        "                                                 'Train Images', 'Validation Images'], index=None)\n",
        "# Sneak peek \n",
        "labels_info.head(10)"
      ]
    },
    {
      "cell_type": "code",
      "execution_count": 9,
      "metadata": {
        "colab": {
          "base_uri": "https://localhost:8080/"
        },
        "id": "wHuT1Hz8m_oB",
        "outputId": "db51a329-d36f-4f36-c27a-2d06b4dc8cfb"
      },
      "outputs": [
        {
          "output_type": "stream",
          "name": "stdout",
          "text": [
            "{0: 'mantled_howler', 1: 'patas_monkey', 2: 'bald_uakari', 3: 'japanese_macaque', 4: 'pygmy_marmoset', 5: 'white_headed_capuchin', 6: 'silvery_marmoset', 7: 'common_squirrel_monkey', 8: 'black_headed_night_monkey', 9: 'nilgiri_langur'}\n"
          ]
        }
      ],
      "source": [
        "# Create a dictionary to map the labels to integers\n",
        "labels_dict= {'n0':0, 'n1':1, 'n2':2, 'n3':3, 'n4':4, 'n5':5, 'n6':6, 'n7':7, 'n8':8, 'n9':9}\n",
        "\n",
        "# map labels to common names\n",
        "names_dict = dict(zip(labels_dict.values(), labels_info[\"Common Name\"]))\n",
        "print(names_dict)"
      ]
    },
    {
      "cell_type": "code",
      "execution_count": 10,
      "metadata": {
        "colab": {
          "base_uri": "https://localhost:8080/"
        },
        "id": "a_MLw2_dm_oC",
        "outputId": "75b64cdb-21d2-419b-c0d0-22b0686a1b8c"
      },
      "outputs": [
        {
          "output_type": "stream",
          "name": "stdout",
          "text": [
            "Number of traininng samples:  1096\n",
            "Number of validation samples:  272\n",
            "\n",
            "                         image  label\n",
            "0  data/training/n2/n2117.jpg      2\n",
            "1  data/training/n7/n7028.jpg      7\n",
            "2  data/training/n0/n0155.jpg      0\n",
            "3  data/training/n7/n7064.jpg      7\n",
            "4  data/training/n2/n2133.jpg      2 \n",
            "\n",
            "=================================================================\n",
            "\n",
            "\n",
            "                           image  label\n",
            "0   data/validation/n7/n718.jpg      7\n",
            "1  data/validation/n6/n6013.jpg      6\n",
            "2  data/validation/n7/n7012.jpg      7\n",
            "3   data/validation/n5/n512.jpg      5\n",
            "4   data/validation/n5/n509.jpg      5\n"
          ]
        }
      ],
      "source": [
        "# Creating a dataframe for the training dataset\n",
        "train_df = []\n",
        "for folder in os.listdir(training_data):\n",
        "    # Define the path to the images\n",
        "    imgs_path = training_data / folder\n",
        "    \n",
        "    # Get the list of all the images stored in that directory\n",
        "    imgs = sorted(imgs_path.glob('*.jpg'))\n",
        "    \n",
        "    # Store each image path and corresponding label \n",
        "    for img_name in imgs:\n",
        "        train_df.append((str(img_name), labels_dict[folder]))\n",
        "\n",
        "\n",
        "train_df = pd.DataFrame(train_df, columns=['image', 'label'], index=None)\n",
        "# shuffle the dataset \n",
        "train_df = train_df.sample(frac=1.).reset_index(drop=True)\n",
        "\n",
        "####################################################################################################\n",
        "\n",
        "# Creating dataframe for validation data in a similar fashion\n",
        "valid_df = []\n",
        "for folder in os.listdir(validation_data):\n",
        "    imgs_path = validation_data / folder\n",
        "    imgs = sorted(imgs_path.glob('*.jpg'))\n",
        "    for img_name in imgs:\n",
        "        valid_df.append((str(img_name), labels_dict[folder]))\n",
        "\n",
        "        \n",
        "valid_df = pd.DataFrame(valid_df, columns=['image', 'label'], index=None)\n",
        "# shuffle the dataset \n",
        "valid_df = valid_df.sample(frac=1.).reset_index(drop=True)\n",
        "\n",
        "####################################################################################################\n",
        "\n",
        "# How many samples do we have in our training and validation data?\n",
        "print(\"Number of traininng samples: \", len(train_df))\n",
        "print(\"Number of validation samples: \", len(valid_df))\n",
        "\n",
        "# sneak peek of the training and validation dataframes\n",
        "print(\"\\n\",train_df.head(), \"\\n\")\n",
        "print(\"=================================================================\\n\")\n",
        "print(\"\\n\", valid_df.head())"
      ]
    },
    {
      "cell_type": "code",
      "execution_count": 11,
      "metadata": {
        "id": "4zcekSk9m_oD"
      },
      "outputs": [],
      "source": [
        "# some constants(not truly though!) \n",
        "\n",
        "# dimensions to consider for the images\n",
        "img_rows, img_cols, img_channels = 224,224,3\n",
        "\n",
        "# batch size for training  \n",
        "batch_size=8\n",
        "\n",
        "# total number of classes in the dataset\n",
        "nb_classes=10"
      ]
    },
    {
      "cell_type": "code",
      "execution_count": 12,
      "metadata": {
        "id": "XSt-OHwym_oD"
      },
      "outputs": [],
      "source": [
        "# Augmentation sequence \n",
        "seq = iaa.OneOf([\n",
        "    iaa.Fliplr(), # horizontal flips\n",
        "    iaa.Affine(rotate=20), # roatation\n",
        "    iaa.Multiply((1.2, 1.5))]) #random brightness"
      ]
    },
    {
      "cell_type": "code",
      "execution_count": 13,
      "metadata": {
        "id": "4hASMeAOm_oE"
      },
      "outputs": [],
      "source": [
        "def data_generator(data, batch_size, is_validation_data=False):\n",
        "    # Get total number of samples in the data\n",
        "    n = len(data)\n",
        "    nb_batches = int(np.ceil(n/batch_size))\n",
        "\n",
        "    # Get a numpy array of all the indices of the input data\n",
        "    indices = np.arange(n)\n",
        "    \n",
        "    # Define two numpy arrays for containing batch data and labels\n",
        "    batch_data = np.zeros((batch_size, img_rows, img_cols, img_channels), dtype=np.float32)\n",
        "    batch_labels = np.zeros((batch_size, nb_classes), dtype=np.float32)\n",
        "    \n",
        "    while True:\n",
        "        if not is_validation_data:\n",
        "            # shuffle indices for the training data\n",
        "            np.random.shuffle(indices)\n",
        "            \n",
        "        for i in range(nb_batches):\n",
        "            # get the next batch \n",
        "            next_batch_indices = indices[i*batch_size:(i+1)*batch_size]\n",
        "            \n",
        "            # process the next batch\n",
        "            for j, idx in enumerate(next_batch_indices):\n",
        "                img = cv2.imread(data.iloc[idx][\"image\"])\n",
        "                img = cv2.cvtColor(img, cv2.COLOR_BGR2RGB)\n",
        "                label = data.iloc[idx][\"label\"]\n",
        "                \n",
        "                if not is_validation_data:\n",
        "                    img = seq.augment_image(img)\n",
        "                \n",
        "                img = cv2.resize(img, (img_rows, img_cols)).astype(np.float32)\n",
        "                batch_data[j] = img\n",
        "                batch_labels[j] = to_categorical(label,num_classes=nb_classes)\n",
        "            \n",
        "            batch_data = preprocess_input(batch_data)\n",
        "            yield batch_data, batch_labels"
      ]
    },
    {
      "cell_type": "code",
      "execution_count": 14,
      "metadata": {
        "id": "gJ8LEwAJm_oF"
      },
      "outputs": [],
      "source": [
        "#training data generator \n",
        "train_data_gen = data_generator(train_df, batch_size)\n",
        "\n",
        "# validation data generator \n",
        "valid_data_gen = data_generator(valid_df, batch_size, is_validation_data=True)"
      ]
    },
    {
      "cell_type": "code",
      "execution_count": 15,
      "metadata": {
        "id": "cpRZS2Wtm_oH"
      },
      "outputs": [],
      "source": [
        "# simple function that returns the base model\n",
        "def get_base_model():\n",
        "    base_model = VGG16(input_shape=(img_rows, img_cols, img_channels), weights='imagenet', include_top=True)\n",
        "    return base_model"
      ]
    },
    {
      "cell_type": "code",
      "execution_count": 16,
      "metadata": {
        "id": "gzeBkGABm_oH"
      },
      "outputs": [],
      "source": [
        "# # get the base model\n",
        "# base_model = get_base_model()\n",
        "\n",
        "# #  get the output of the second last dense layer \n",
        "# base_model_output = base_model.layers[-2].output\n",
        "\n",
        "# # add new layers \n",
        "# x = Dropout(0.7,name='drop2')(base_model_output)\n",
        "# output = Dense(10, activation='softmax', name='fc3')(x)\n",
        "\n",
        "# # define a new model \n",
        "# model = Model(base_model.input, output)\n",
        "\n",
        "# # Freeze all the base model layers \n",
        "# for layer in base_model.layers[:-1]:\n",
        "#     layer.trainable=False\n",
        "\n",
        "# # compile the model and check it \n",
        "# optimizer = RMSprop(0.001)\n",
        "# model.compile(loss='categorical_crossentropy', optimizer=optimizer, metrics=['accuracy'])\n",
        "# model.summary()"
      ]
    },
    {
      "cell_type": "code",
      "execution_count": 17,
      "metadata": {
        "id": "AxTpbjyjm_oI"
      },
      "outputs": [],
      "source": [
        "# always user earlystopping\n",
        "# the restore_best_weights parameter load the weights of the best iteration once the training finishes\n",
        "es = EarlyStopping(patience=10, restore_best_weights=True)\n",
        "\n",
        "# checkpoint to save model\n",
        "chkpt = ModelCheckpoint(filepath=\"model1\", save_best_only=True)\n",
        "\n",
        "# number of training and validation steps for training and validation\n",
        "nb_train_steps = int(np.ceil(len(train_df)/batch_size))\n",
        "nb_valid_steps = int(np.ceil(len(valid_df)/batch_size))"
      ]
    },
    {
      "cell_type": "markdown",
      "source": [
        "# Daniel's Model"
      ],
      "metadata": {
        "id": "4DYjWiHEbeLy"
      }
    },
    {
      "cell_type": "code",
      "source": [
        "# https://www.tensorflow.org/api_docs/python/tf/keras/layers/Conv2D\n",
        "# tf.keras.layers.Conv2D( filters, kernel_size, ...)\n",
        "\n",
        "model = models.Sequential()\n",
        "\n",
        "model.add( layers.Conv2D(32, (2, 2), \n",
        "                        padding='same',\n",
        "                        activation='relu',\n",
        "                        input_shape=(224, 224, 3) ) )\n",
        "model.add( layers.MaxPooling2D((2, 2)) )\n",
        "\n",
        "model.add( layers.Conv2D(64, (2, 2), \n",
        "                        padding='same',\n",
        "                        activation='relu') )\n",
        "model.add( layers.MaxPooling2D((2, 2)) )\n",
        "\n",
        "model.add( layers.Conv2D(128, (2, 2), \n",
        "                        padding='same',\n",
        "                        activation='relu') )\n",
        "model.add( layers.MaxPooling2D((2, 2)) )\n",
        "\n",
        "model.add( layers.Conv2D(256, (2, 2), \n",
        "                        padding='same',\n",
        "                        activation='relu') )\n",
        "model.add( layers.MaxPooling2D((2, 2)) )\n",
        "\n",
        "model.add( layers.Flatten() )\n",
        "model.add( layers.Dense(4096, activation='relu') )\n",
        "model.add( layers.Dense(10) )\n",
        "\n",
        "# To correct some bug on input\n",
        "model = Model(model.input, model.output)\n",
        "\n",
        "optimizer = RMSprop(0.001)\n",
        "model.compile(optimizer = optimizer, \n",
        "              loss = 'categorical_crossentropy',\n",
        "              metrics = ['accuracy'])\n",
        "\n",
        "model.summary()"
      ],
      "metadata": {
        "colab": {
          "base_uri": "https://localhost:8080/"
        },
        "id": "GwBknUFEbd5U",
        "outputId": "6b4a299d-81eb-40f5-9bb3-23bebf424d75"
      },
      "execution_count": 18,
      "outputs": [
        {
          "output_type": "stream",
          "name": "stdout",
          "text": [
            "Model: \"model\"\n",
            "_________________________________________________________________\n",
            " Layer (type)                Output Shape              Param #   \n",
            "=================================================================\n",
            " conv2d_input (InputLayer)   [(None, 224, 224, 3)]     0         \n",
            "                                                                 \n",
            " conv2d (Conv2D)             (None, 224, 224, 32)      416       \n",
            "                                                                 \n",
            " max_pooling2d (MaxPooling2D  (None, 112, 112, 32)     0         \n",
            " )                                                               \n",
            "                                                                 \n",
            " conv2d_1 (Conv2D)           (None, 112, 112, 64)      8256      \n",
            "                                                                 \n",
            " max_pooling2d_1 (MaxPooling  (None, 56, 56, 64)       0         \n",
            " 2D)                                                             \n",
            "                                                                 \n",
            " conv2d_2 (Conv2D)           (None, 56, 56, 128)       32896     \n",
            "                                                                 \n",
            " max_pooling2d_2 (MaxPooling  (None, 28, 28, 128)      0         \n",
            " 2D)                                                             \n",
            "                                                                 \n",
            " conv2d_3 (Conv2D)           (None, 28, 28, 256)       131328    \n",
            "                                                                 \n",
            " max_pooling2d_3 (MaxPooling  (None, 14, 14, 256)      0         \n",
            " 2D)                                                             \n",
            "                                                                 \n",
            " flatten (Flatten)           (None, 50176)             0         \n",
            "                                                                 \n",
            " dense (Dense)               (None, 4096)              205524992 \n",
            "                                                                 \n",
            " dense_1 (Dense)             (None, 10)                40970     \n",
            "                                                                 \n",
            "=================================================================\n",
            "Total params: 205,738,858\n",
            "Trainable params: 205,738,858\n",
            "Non-trainable params: 0\n",
            "_________________________________________________________________\n"
          ]
        }
      ]
    },
    {
      "cell_type": "code",
      "execution_count": 19,
      "metadata": {
        "id": "mYCzLnpI8ZaC"
      },
      "outputs": [],
      "source": [
        "nb_epochs=100\n",
        "# nb_epochs=1 # daniel"
      ]
    },
    {
      "cell_type": "code",
      "execution_count": 20,
      "metadata": {
        "colab": {
          "base_uri": "https://localhost:8080/"
        },
        "id": "G5c29rBSm_oI",
        "outputId": "dfa9982a-6632-4bb1-eba1-fd570ea9d51a"
      },
      "outputs": [
        {
          "output_type": "stream",
          "name": "stdout",
          "text": [
            "Epoch 1/100\n",
            "137/137 [==============================] - ETA: 0s - batch: 68.0000 - size: 8.0000 - loss: 9.3441 - accuracy: 0.1068"
          ]
        },
        {
          "output_type": "stream",
          "name": "stderr",
          "text": [
            "/usr/local/lib/python3.8/dist-packages/keras/engine/training_v1.py:2045: UserWarning: `Model.state_updates` will be removed in a future version. This property should not be used in TensorFlow 2.0, as `updates` are applied automatically.\n",
            "  updates = self.state_updates\n",
            "WARNING:absl:Found untraced functions such as _jit_compiled_convolution_op, _jit_compiled_convolution_op, _jit_compiled_convolution_op, _jit_compiled_convolution_op while saving (showing 4 of 4). These functions will not be directly callable after loading.\n"
          ]
        },
        {
          "output_type": "stream",
          "name": "stdout",
          "text": [
            "\b\b\b\b\b\b\b\b\b\b\b\b\b\b\b\b\b\b\b\b\b\b\b\b\b\b\b\b\b\b\b\b\b\b\b\b\b\b\b\b\b\b\b\b\b\b\b\b\b\b\b\b\b\b\b\b\b\b\b\b\b\b\b\b\b\b\b\b\b\b\b\b\b\b\b\b\b\b\b\b\b\b\b\b\b\b\b\b\b\b\b\b\b\b\b\b\b\b\b\b\b\b\b\b\b\b\b\b\b\b\b\b\b\b\b\b\r137/137 [==============================] - 48s 316ms/step - batch: 68.0000 - size: 8.0000 - loss: 9.3441 - accuracy: 0.1068 - val_loss: 9.4812 - val_accuracy: 0.0956\n",
            "Epoch 2/100\n",
            "137/137 [==============================] - 38s 280ms/step - batch: 68.0000 - size: 8.0000 - loss: 9.4414 - accuracy: 0.0976 - val_loss: 9.4812 - val_accuracy: 0.0956\n",
            "Epoch 3/100\n",
            "137/137 [==============================] - 38s 282ms/step - batch: 68.0000 - size: 8.0000 - loss: 9.4120 - accuracy: 0.0995 - val_loss: 9.4812 - val_accuracy: 0.0956\n",
            "Epoch 4/100\n",
            "137/137 [==============================] - 38s 280ms/step - batch: 68.0000 - size: 8.0000 - loss: 9.6473 - accuracy: 0.1049 - val_loss: 9.4812 - val_accuracy: 0.0956\n",
            "Epoch 5/100\n",
            "137/137 [==============================] - 38s 279ms/step - batch: 68.0000 - size: 8.0000 - loss: 9.4414 - accuracy: 0.0949 - val_loss: 9.4812 - val_accuracy: 0.0956\n",
            "Epoch 6/100\n",
            "137/137 [==============================] - 39s 284ms/step - batch: 68.0000 - size: 8.0000 - loss: 9.4856 - accuracy: 0.0940 - val_loss: 9.5405 - val_accuracy: 0.0993\n",
            "Epoch 7/100\n",
            "137/137 [==============================] - 38s 282ms/step - batch: 68.0000 - size: 8.0000 - loss: 9.3679 - accuracy: 0.0885 - val_loss: 9.4812 - val_accuracy: 0.0956\n",
            "Epoch 8/100\n",
            "137/137 [==============================] - 39s 284ms/step - batch: 68.0000 - size: 8.0000 - loss: 9.4267 - accuracy: 0.0903 - val_loss: 9.5405 - val_accuracy: 0.0993\n",
            "Epoch 9/100\n",
            "137/137 [==============================] - 38s 279ms/step - batch: 68.0000 - size: 8.0000 - loss: 9.4561 - accuracy: 0.1004 - val_loss: 9.4812 - val_accuracy: 0.0956\n",
            "Epoch 10/100\n",
            "137/137 [==============================] - 37s 274ms/step - batch: 68.0000 - size: 8.0000 - loss: 9.3385 - accuracy: 0.0922 - val_loss: 9.4812 - val_accuracy: 0.0956\n",
            "Epoch 11/100\n",
            "137/137 [==============================] - ETA: 0s - batch: 68.0000 - size: 8.0000 - loss: 9.3973 - accuracy: 0.1040"
          ]
        },
        {
          "output_type": "stream",
          "name": "stderr",
          "text": [
            "WARNING:absl:Found untraced functions such as _jit_compiled_convolution_op, _jit_compiled_convolution_op, _jit_compiled_convolution_op, _jit_compiled_convolution_op while saving (showing 4 of 4). These functions will not be directly callable after loading.\n"
          ]
        },
        {
          "output_type": "stream",
          "name": "stdout",
          "text": [
            "\b\b\b\b\b\b\b\b\b\b\b\b\b\b\b\b\b\b\b\b\b\b\b\b\b\b\b\b\b\b\b\b\b\b\b\b\b\b\b\b\b\b\b\b\b\b\b\b\b\b\b\b\b\b\b\b\b\b\b\b\b\b\b\b\b\b\b\b\b\b\b\b\b\b\b\b\b\b\b\b\b\b\b\b\b\b\b\b\b\b\b\b\b\b\b\b\b\b\b\b\b\b\b\b\b\b\b\b\b\b\b\b\b\b\b\b\r137/137 [==============================] - 43s 317ms/step - batch: 68.0000 - size: 8.0000 - loss: 9.3973 - accuracy: 0.1040 - val_loss: 9.4220 - val_accuracy: 0.0956\n",
            "Epoch 12/100\n",
            "137/137 [==============================] - 38s 276ms/step - batch: 68.0000 - size: 8.0000 - loss: 9.3532 - accuracy: 0.0903 - val_loss: 9.4812 - val_accuracy: 0.0956\n",
            "Epoch 13/100\n",
            "137/137 [==============================] - 37s 272ms/step - batch: 68.0000 - size: 8.0000 - loss: 9.5150 - accuracy: 0.1049 - val_loss: 9.4812 - val_accuracy: 0.0956\n",
            "Epoch 14/100\n",
            "137/137 [==============================] - 37s 274ms/step - batch: 68.0000 - size: 8.0000 - loss: 8.9855 - accuracy: 0.0903 - val_loss: 9.4812 - val_accuracy: 0.0956\n",
            "Epoch 15/100\n",
            "137/137 [==============================] - 36s 266ms/step - batch: 68.0000 - size: 8.0000 - loss: 9.3826 - accuracy: 0.0949 - val_loss: 9.4812 - val_accuracy: 0.0956\n",
            "Epoch 16/100\n",
            "137/137 [==============================] - 37s 276ms/step - batch: 68.0000 - size: 8.0000 - loss: 9.4561 - accuracy: 0.0849 - val_loss: 9.4812 - val_accuracy: 0.0956\n",
            "Epoch 17/100\n",
            "137/137 [==============================] - 38s 277ms/step - batch: 68.0000 - size: 8.0000 - loss: 9.4709 - accuracy: 0.0931 - val_loss: 9.4812 - val_accuracy: 0.0956\n",
            "Epoch 18/100\n",
            "137/137 [==============================] - 37s 270ms/step - batch: 68.0000 - size: 8.0000 - loss: 9.3826 - accuracy: 0.0894 - val_loss: 9.4812 - val_accuracy: 0.0956\n",
            "Epoch 19/100\n",
            "137/137 [==============================] - 36s 263ms/step - batch: 68.0000 - size: 8.0000 - loss: 9.6179 - accuracy: 0.0867 - val_loss: 9.4812 - val_accuracy: 0.0956\n",
            "Epoch 20/100\n",
            "137/137 [==============================] - 37s 274ms/step - batch: 68.0000 - size: 8.0000 - loss: 9.9120 - accuracy: 0.0976 - val_loss: 9.4812 - val_accuracy: 0.0956\n",
            "Epoch 21/100\n",
            "137/137 [==============================] - 37s 271ms/step - batch: 68.0000 - size: 8.0000 - loss: 9.3973 - accuracy: 0.0931 - val_loss: 9.4812 - val_accuracy: 0.0956\n",
            "CPU times: user 19min 49s, sys: 3min 46s, total: 23min 35s\n",
            "Wall time: 13min 26s\n"
          ]
        }
      ],
      "source": [
        "%%time\n",
        "\n",
        "# train the model \n",
        "history1 = model.fit(train_data_gen, \n",
        "                              epochs=nb_epochs, \n",
        "                              steps_per_epoch=nb_train_steps, \n",
        "                              validation_data=valid_data_gen, \n",
        "                              validation_steps=nb_valid_steps,\n",
        "                              callbacks=[es,chkpt])"
      ]
    },
    {
      "cell_type": "code",
      "execution_count": 21,
      "metadata": {
        "id": "Qhkb7xSA6m5s",
        "colab": {
          "base_uri": "https://localhost:8080/"
        },
        "outputId": "8e48ea71-8028-498e-e98a-e5e5933e7d4f"
      },
      "outputs": [
        {
          "output_type": "execute_result",
          "data": {
            "text/plain": [
              "dict_keys(['loss', 'accuracy', 'val_loss', 'val_accuracy'])"
            ]
          },
          "metadata": {},
          "execution_count": 21
        }
      ],
      "source": [
        "history1.history.keys()"
      ]
    },
    {
      "cell_type": "code",
      "execution_count": 22,
      "metadata": {
        "id": "5-IB0o62m_oJ",
        "colab": {
          "base_uri": "https://localhost:8080/",
          "height": 483
        },
        "outputId": "cc985581-cbfa-4b66-faad-da95740000fc"
      },
      "outputs": [
        {
          "output_type": "display_data",
          "data": {
            "text/plain": [
              "<Figure size 720x360 with 2 Axes>"
            ],
            "image/svg+xml": "<?xml version=\"1.0\" encoding=\"utf-8\" standalone=\"no\"?>\n<!DOCTYPE svg PUBLIC \"-//W3C//DTD SVG 1.1//EN\"\n  \"http://www.w3.org/Graphics/SVG/1.1/DTD/svg11.dtd\">\n<!-- Created with matplotlib (https://matplotlib.org/) -->\n<svg height=\"331.674375pt\" version=\"1.1\" viewBox=\"0 0 608.98125 331.674375\" width=\"608.98125pt\" xmlns=\"http://www.w3.org/2000/svg\" xmlns:xlink=\"http://www.w3.org/1999/xlink\">\n <defs>\n  <style type=\"text/css\">\n*{stroke-linecap:butt;stroke-linejoin:round;}\n  </style>\n </defs>\n <g id=\"figure_1\">\n  <g id=\"patch_1\">\n   <path d=\"M 0 331.674375 \nL 608.98125 331.674375 \nL 608.98125 0 \nL 0 0 \nz\n\" style=\"fill:none;\"/>\n  </g>\n  <g id=\"axes_1\">\n   <g id=\"patch_2\">\n    <path d=\"M 43.78125 294.118125 \nL 297.417614 294.118125 \nL 297.417614 22.318125 \nL 43.78125 22.318125 \nz\n\" style=\"fill:#ffffff;\"/>\n   </g>\n   <g id=\"matplotlib.axis_1\">\n    <g id=\"xtick_1\">\n     <g id=\"line2d_1\">\n      <defs>\n       <path d=\"M 0 0 \nL 0 3.5 \n\" id=\"m8876a499f1\" style=\"stroke:#000000;stroke-width:0.8;\"/>\n      </defs>\n      <g>\n       <use style=\"stroke:#000000;stroke-width:0.8;\" x=\"55.310176\" xlink:href=\"#m8876a499f1\" y=\"294.118125\"/>\n      </g>\n     </g>\n     <g id=\"text_1\">\n      <!-- 0 -->\n      <defs>\n       <path d=\"M 31.78125 66.40625 \nQ 24.171875 66.40625 20.328125 58.90625 \nQ 16.5 51.421875 16.5 36.375 \nQ 16.5 21.390625 20.328125 13.890625 \nQ 24.171875 6.390625 31.78125 6.390625 \nQ 39.453125 6.390625 43.28125 13.890625 \nQ 47.125 21.390625 47.125 36.375 \nQ 47.125 51.421875 43.28125 58.90625 \nQ 39.453125 66.40625 31.78125 66.40625 \nz\nM 31.78125 74.21875 \nQ 44.046875 74.21875 50.515625 64.515625 \nQ 56.984375 54.828125 56.984375 36.375 \nQ 56.984375 17.96875 50.515625 8.265625 \nQ 44.046875 -1.421875 31.78125 -1.421875 \nQ 19.53125 -1.421875 13.0625 8.265625 \nQ 6.59375 17.96875 6.59375 36.375 \nQ 6.59375 54.828125 13.0625 64.515625 \nQ 19.53125 74.21875 31.78125 74.21875 \nz\n\" id=\"DejaVuSans-48\"/>\n      </defs>\n      <g transform=\"translate(52.128926 308.716563)scale(0.1 -0.1)\">\n       <use xlink:href=\"#DejaVuSans-48\"/>\n      </g>\n     </g>\n    </g>\n    <g id=\"xtick_2\">\n     <g id=\"line2d_2\">\n      <g>\n       <use style=\"stroke:#000000;stroke-width:0.8;\" x=\"112.954804\" xlink:href=\"#m8876a499f1\" y=\"294.118125\"/>\n      </g>\n     </g>\n     <g id=\"text_2\">\n      <!-- 5 -->\n      <defs>\n       <path d=\"M 10.796875 72.90625 \nL 49.515625 72.90625 \nL 49.515625 64.59375 \nL 19.828125 64.59375 \nL 19.828125 46.734375 \nQ 21.96875 47.46875 24.109375 47.828125 \nQ 26.265625 48.1875 28.421875 48.1875 \nQ 40.625 48.1875 47.75 41.5 \nQ 54.890625 34.8125 54.890625 23.390625 \nQ 54.890625 11.625 47.5625 5.09375 \nQ 40.234375 -1.421875 26.90625 -1.421875 \nQ 22.3125 -1.421875 17.546875 -0.640625 \nQ 12.796875 0.140625 7.71875 1.703125 \nL 7.71875 11.625 \nQ 12.109375 9.234375 16.796875 8.0625 \nQ 21.484375 6.890625 26.703125 6.890625 \nQ 35.15625 6.890625 40.078125 11.328125 \nQ 45.015625 15.765625 45.015625 23.390625 \nQ 45.015625 31 40.078125 35.4375 \nQ 35.15625 39.890625 26.703125 39.890625 \nQ 22.75 39.890625 18.8125 39.015625 \nQ 14.890625 38.140625 10.796875 36.28125 \nz\n\" id=\"DejaVuSans-53\"/>\n      </defs>\n      <g transform=\"translate(109.773554 308.716563)scale(0.1 -0.1)\">\n       <use xlink:href=\"#DejaVuSans-53\"/>\n      </g>\n     </g>\n    </g>\n    <g id=\"xtick_3\">\n     <g id=\"line2d_3\">\n      <g>\n       <use style=\"stroke:#000000;stroke-width:0.8;\" x=\"170.599432\" xlink:href=\"#m8876a499f1\" y=\"294.118125\"/>\n      </g>\n     </g>\n     <g id=\"text_3\">\n      <!-- 10 -->\n      <defs>\n       <path d=\"M 12.40625 8.296875 \nL 28.515625 8.296875 \nL 28.515625 63.921875 \nL 10.984375 60.40625 \nL 10.984375 69.390625 \nL 28.421875 72.90625 \nL 38.28125 72.90625 \nL 38.28125 8.296875 \nL 54.390625 8.296875 \nL 54.390625 0 \nL 12.40625 0 \nz\n\" id=\"DejaVuSans-49\"/>\n      </defs>\n      <g transform=\"translate(164.236932 308.716563)scale(0.1 -0.1)\">\n       <use xlink:href=\"#DejaVuSans-49\"/>\n       <use x=\"63.623047\" xlink:href=\"#DejaVuSans-48\"/>\n      </g>\n     </g>\n    </g>\n    <g id=\"xtick_4\">\n     <g id=\"line2d_4\">\n      <g>\n       <use style=\"stroke:#000000;stroke-width:0.8;\" x=\"228.24406\" xlink:href=\"#m8876a499f1\" y=\"294.118125\"/>\n      </g>\n     </g>\n     <g id=\"text_4\">\n      <!-- 15 -->\n      <g transform=\"translate(221.88156 308.716563)scale(0.1 -0.1)\">\n       <use xlink:href=\"#DejaVuSans-49\"/>\n       <use x=\"63.623047\" xlink:href=\"#DejaVuSans-53\"/>\n      </g>\n     </g>\n    </g>\n    <g id=\"xtick_5\">\n     <g id=\"line2d_5\">\n      <g>\n       <use style=\"stroke:#000000;stroke-width:0.8;\" x=\"285.888688\" xlink:href=\"#m8876a499f1\" y=\"294.118125\"/>\n      </g>\n     </g>\n     <g id=\"text_5\">\n      <!-- 20 -->\n      <defs>\n       <path d=\"M 19.1875 8.296875 \nL 53.609375 8.296875 \nL 53.609375 0 \nL 7.328125 0 \nL 7.328125 8.296875 \nQ 12.9375 14.109375 22.625 23.890625 \nQ 32.328125 33.6875 34.8125 36.53125 \nQ 39.546875 41.84375 41.421875 45.53125 \nQ 43.3125 49.21875 43.3125 52.78125 \nQ 43.3125 58.59375 39.234375 62.25 \nQ 35.15625 65.921875 28.609375 65.921875 \nQ 23.96875 65.921875 18.8125 64.3125 \nQ 13.671875 62.703125 7.8125 59.421875 \nL 7.8125 69.390625 \nQ 13.765625 71.78125 18.9375 73 \nQ 24.125 74.21875 28.421875 74.21875 \nQ 39.75 74.21875 46.484375 68.546875 \nQ 53.21875 62.890625 53.21875 53.421875 \nQ 53.21875 48.921875 51.53125 44.890625 \nQ 49.859375 40.875 45.40625 35.40625 \nQ 44.1875 33.984375 37.640625 27.21875 \nQ 31.109375 20.453125 19.1875 8.296875 \nz\n\" id=\"DejaVuSans-50\"/>\n      </defs>\n      <g transform=\"translate(279.526188 308.716563)scale(0.1 -0.1)\">\n       <use xlink:href=\"#DejaVuSans-50\"/>\n       <use x=\"63.623047\" xlink:href=\"#DejaVuSans-48\"/>\n      </g>\n     </g>\n    </g>\n    <g id=\"text_6\">\n     <!-- Epoch -->\n     <defs>\n      <path d=\"M 9.8125 72.90625 \nL 55.90625 72.90625 \nL 55.90625 64.59375 \nL 19.671875 64.59375 \nL 19.671875 43.015625 \nL 54.390625 43.015625 \nL 54.390625 34.71875 \nL 19.671875 34.71875 \nL 19.671875 8.296875 \nL 56.78125 8.296875 \nL 56.78125 0 \nL 9.8125 0 \nz\n\" id=\"DejaVuSans-69\"/>\n      <path d=\"M 18.109375 8.203125 \nL 18.109375 -20.796875 \nL 9.078125 -20.796875 \nL 9.078125 54.6875 \nL 18.109375 54.6875 \nL 18.109375 46.390625 \nQ 20.953125 51.265625 25.265625 53.625 \nQ 29.59375 56 35.59375 56 \nQ 45.5625 56 51.78125 48.09375 \nQ 58.015625 40.1875 58.015625 27.296875 \nQ 58.015625 14.40625 51.78125 6.484375 \nQ 45.5625 -1.421875 35.59375 -1.421875 \nQ 29.59375 -1.421875 25.265625 0.953125 \nQ 20.953125 3.328125 18.109375 8.203125 \nz\nM 48.6875 27.296875 \nQ 48.6875 37.203125 44.609375 42.84375 \nQ 40.53125 48.484375 33.40625 48.484375 \nQ 26.265625 48.484375 22.1875 42.84375 \nQ 18.109375 37.203125 18.109375 27.296875 \nQ 18.109375 17.390625 22.1875 11.75 \nQ 26.265625 6.109375 33.40625 6.109375 \nQ 40.53125 6.109375 44.609375 11.75 \nQ 48.6875 17.390625 48.6875 27.296875 \nz\n\" id=\"DejaVuSans-112\"/>\n      <path d=\"M 30.609375 48.390625 \nQ 23.390625 48.390625 19.1875 42.75 \nQ 14.984375 37.109375 14.984375 27.296875 \nQ 14.984375 17.484375 19.15625 11.84375 \nQ 23.34375 6.203125 30.609375 6.203125 \nQ 37.796875 6.203125 41.984375 11.859375 \nQ 46.1875 17.53125 46.1875 27.296875 \nQ 46.1875 37.015625 41.984375 42.703125 \nQ 37.796875 48.390625 30.609375 48.390625 \nz\nM 30.609375 56 \nQ 42.328125 56 49.015625 48.375 \nQ 55.71875 40.765625 55.71875 27.296875 \nQ 55.71875 13.875 49.015625 6.21875 \nQ 42.328125 -1.421875 30.609375 -1.421875 \nQ 18.84375 -1.421875 12.171875 6.21875 \nQ 5.515625 13.875 5.515625 27.296875 \nQ 5.515625 40.765625 12.171875 48.375 \nQ 18.84375 56 30.609375 56 \nz\n\" id=\"DejaVuSans-111\"/>\n      <path d=\"M 48.78125 52.59375 \nL 48.78125 44.1875 \nQ 44.96875 46.296875 41.140625 47.34375 \nQ 37.3125 48.390625 33.40625 48.390625 \nQ 24.65625 48.390625 19.8125 42.84375 \nQ 14.984375 37.3125 14.984375 27.296875 \nQ 14.984375 17.28125 19.8125 11.734375 \nQ 24.65625 6.203125 33.40625 6.203125 \nQ 37.3125 6.203125 41.140625 7.25 \nQ 44.96875 8.296875 48.78125 10.40625 \nL 48.78125 2.09375 \nQ 45.015625 0.34375 40.984375 -0.53125 \nQ 36.96875 -1.421875 32.421875 -1.421875 \nQ 20.0625 -1.421875 12.78125 6.34375 \nQ 5.515625 14.109375 5.515625 27.296875 \nQ 5.515625 40.671875 12.859375 48.328125 \nQ 20.21875 56 33.015625 56 \nQ 37.15625 56 41.109375 55.140625 \nQ 45.0625 54.296875 48.78125 52.59375 \nz\n\" id=\"DejaVuSans-99\"/>\n      <path d=\"M 54.890625 33.015625 \nL 54.890625 0 \nL 45.90625 0 \nL 45.90625 32.71875 \nQ 45.90625 40.484375 42.875 44.328125 \nQ 39.84375 48.1875 33.796875 48.1875 \nQ 26.515625 48.1875 22.3125 43.546875 \nQ 18.109375 38.921875 18.109375 30.90625 \nL 18.109375 0 \nL 9.078125 0 \nL 9.078125 75.984375 \nL 18.109375 75.984375 \nL 18.109375 46.1875 \nQ 21.34375 51.125 25.703125 53.5625 \nQ 30.078125 56 35.796875 56 \nQ 45.21875 56 50.046875 50.171875 \nQ 54.890625 44.34375 54.890625 33.015625 \nz\n\" id=\"DejaVuSans-104\"/>\n     </defs>\n     <g transform=\"translate(155.288494 322.394687)scale(0.1 -0.1)\">\n      <use xlink:href=\"#DejaVuSans-69\"/>\n      <use x=\"63.183594\" xlink:href=\"#DejaVuSans-112\"/>\n      <use x=\"126.660156\" xlink:href=\"#DejaVuSans-111\"/>\n      <use x=\"187.841797\" xlink:href=\"#DejaVuSans-99\"/>\n      <use x=\"242.822266\" xlink:href=\"#DejaVuSans-104\"/>\n     </g>\n    </g>\n   </g>\n   <g id=\"matplotlib.axis_2\">\n    <g id=\"ytick_1\">\n     <g id=\"line2d_6\">\n      <defs>\n       <path d=\"M 0 0 \nL -3.5 0 \n\" id=\"m73e5cc71fb\" style=\"stroke:#000000;stroke-width:0.8;\"/>\n      </defs>\n      <g>\n       <use style=\"stroke:#000000;stroke-width:0.8;\" x=\"43.78125\" xlink:href=\"#m73e5cc71fb\" y=\"277.908268\"/>\n      </g>\n     </g>\n     <g id=\"text_7\">\n      <!-- 9.0 -->\n      <defs>\n       <path d=\"M 10.984375 1.515625 \nL 10.984375 10.5 \nQ 14.703125 8.734375 18.5 7.8125 \nQ 22.3125 6.890625 25.984375 6.890625 \nQ 35.75 6.890625 40.890625 13.453125 \nQ 46.046875 20.015625 46.78125 33.40625 \nQ 43.953125 29.203125 39.59375 26.953125 \nQ 35.25 24.703125 29.984375 24.703125 \nQ 19.046875 24.703125 12.671875 31.3125 \nQ 6.296875 37.9375 6.296875 49.421875 \nQ 6.296875 60.640625 12.9375 67.421875 \nQ 19.578125 74.21875 30.609375 74.21875 \nQ 43.265625 74.21875 49.921875 64.515625 \nQ 56.59375 54.828125 56.59375 36.375 \nQ 56.59375 19.140625 48.40625 8.859375 \nQ 40.234375 -1.421875 26.421875 -1.421875 \nQ 22.703125 -1.421875 18.890625 -0.6875 \nQ 15.09375 0.046875 10.984375 1.515625 \nz\nM 30.609375 32.421875 \nQ 37.25 32.421875 41.125 36.953125 \nQ 45.015625 41.5 45.015625 49.421875 \nQ 45.015625 57.28125 41.125 61.84375 \nQ 37.25 66.40625 30.609375 66.40625 \nQ 23.96875 66.40625 20.09375 61.84375 \nQ 16.21875 57.28125 16.21875 49.421875 \nQ 16.21875 41.5 20.09375 36.953125 \nQ 23.96875 32.421875 30.609375 32.421875 \nz\n\" id=\"DejaVuSans-57\"/>\n       <path d=\"M 10.6875 12.40625 \nL 21 12.40625 \nL 21 0 \nL 10.6875 0 \nz\n\" id=\"DejaVuSans-46\"/>\n      </defs>\n      <g transform=\"translate(20.878125 281.707487)scale(0.1 -0.1)\">\n       <use xlink:href=\"#DejaVuSans-57\"/>\n       <use x=\"63.623047\" xlink:href=\"#DejaVuSans-46\"/>\n       <use x=\"95.410156\" xlink:href=\"#DejaVuSans-48\"/>\n      </g>\n     </g>\n    </g>\n    <g id=\"ytick_2\">\n     <g id=\"line2d_7\">\n      <g>\n       <use style=\"stroke:#000000;stroke-width:0.8;\" x=\"43.78125\" xlink:href=\"#m73e5cc71fb\" y=\"224.569492\"/>\n      </g>\n     </g>\n     <g id=\"text_8\">\n      <!-- 9.2 -->\n      <g transform=\"translate(20.878125 228.368711)scale(0.1 -0.1)\">\n       <use xlink:href=\"#DejaVuSans-57\"/>\n       <use x=\"63.623047\" xlink:href=\"#DejaVuSans-46\"/>\n       <use x=\"95.410156\" xlink:href=\"#DejaVuSans-50\"/>\n      </g>\n     </g>\n    </g>\n    <g id=\"ytick_3\">\n     <g id=\"line2d_8\">\n      <g>\n       <use style=\"stroke:#000000;stroke-width:0.8;\" x=\"43.78125\" xlink:href=\"#m73e5cc71fb\" y=\"171.230716\"/>\n      </g>\n     </g>\n     <g id=\"text_9\">\n      <!-- 9.4 -->\n      <defs>\n       <path d=\"M 37.796875 64.3125 \nL 12.890625 25.390625 \nL 37.796875 25.390625 \nz\nM 35.203125 72.90625 \nL 47.609375 72.90625 \nL 47.609375 25.390625 \nL 58.015625 25.390625 \nL 58.015625 17.1875 \nL 47.609375 17.1875 \nL 47.609375 0 \nL 37.796875 0 \nL 37.796875 17.1875 \nL 4.890625 17.1875 \nL 4.890625 26.703125 \nz\n\" id=\"DejaVuSans-52\"/>\n      </defs>\n      <g transform=\"translate(20.878125 175.029935)scale(0.1 -0.1)\">\n       <use xlink:href=\"#DejaVuSans-57\"/>\n       <use x=\"63.623047\" xlink:href=\"#DejaVuSans-46\"/>\n       <use x=\"95.410156\" xlink:href=\"#DejaVuSans-52\"/>\n      </g>\n     </g>\n    </g>\n    <g id=\"ytick_4\">\n     <g id=\"line2d_9\">\n      <g>\n       <use style=\"stroke:#000000;stroke-width:0.8;\" x=\"43.78125\" xlink:href=\"#m73e5cc71fb\" y=\"117.89194\"/>\n      </g>\n     </g>\n     <g id=\"text_10\">\n      <!-- 9.6 -->\n      <defs>\n       <path d=\"M 33.015625 40.375 \nQ 26.375 40.375 22.484375 35.828125 \nQ 18.609375 31.296875 18.609375 23.390625 \nQ 18.609375 15.53125 22.484375 10.953125 \nQ 26.375 6.390625 33.015625 6.390625 \nQ 39.65625 6.390625 43.53125 10.953125 \nQ 47.40625 15.53125 47.40625 23.390625 \nQ 47.40625 31.296875 43.53125 35.828125 \nQ 39.65625 40.375 33.015625 40.375 \nz\nM 52.59375 71.296875 \nL 52.59375 62.3125 \nQ 48.875 64.0625 45.09375 64.984375 \nQ 41.3125 65.921875 37.59375 65.921875 \nQ 27.828125 65.921875 22.671875 59.328125 \nQ 17.53125 52.734375 16.796875 39.40625 \nQ 19.671875 43.65625 24.015625 45.921875 \nQ 28.375 48.1875 33.59375 48.1875 \nQ 44.578125 48.1875 50.953125 41.515625 \nQ 57.328125 34.859375 57.328125 23.390625 \nQ 57.328125 12.15625 50.6875 5.359375 \nQ 44.046875 -1.421875 33.015625 -1.421875 \nQ 20.359375 -1.421875 13.671875 8.265625 \nQ 6.984375 17.96875 6.984375 36.375 \nQ 6.984375 53.65625 15.1875 63.9375 \nQ 23.390625 74.21875 37.203125 74.21875 \nQ 40.921875 74.21875 44.703125 73.484375 \nQ 48.484375 72.75 52.59375 71.296875 \nz\n\" id=\"DejaVuSans-54\"/>\n      </defs>\n      <g transform=\"translate(20.878125 121.691159)scale(0.1 -0.1)\">\n       <use xlink:href=\"#DejaVuSans-57\"/>\n       <use x=\"63.623047\" xlink:href=\"#DejaVuSans-46\"/>\n       <use x=\"95.410156\" xlink:href=\"#DejaVuSans-54\"/>\n      </g>\n     </g>\n    </g>\n    <g id=\"ytick_5\">\n     <g id=\"line2d_10\">\n      <g>\n       <use style=\"stroke:#000000;stroke-width:0.8;\" x=\"43.78125\" xlink:href=\"#m73e5cc71fb\" y=\"64.553164\"/>\n      </g>\n     </g>\n     <g id=\"text_11\">\n      <!-- 9.8 -->\n      <defs>\n       <path d=\"M 31.78125 34.625 \nQ 24.75 34.625 20.71875 30.859375 \nQ 16.703125 27.09375 16.703125 20.515625 \nQ 16.703125 13.921875 20.71875 10.15625 \nQ 24.75 6.390625 31.78125 6.390625 \nQ 38.8125 6.390625 42.859375 10.171875 \nQ 46.921875 13.96875 46.921875 20.515625 \nQ 46.921875 27.09375 42.890625 30.859375 \nQ 38.875 34.625 31.78125 34.625 \nz\nM 21.921875 38.8125 \nQ 15.578125 40.375 12.03125 44.71875 \nQ 8.5 49.078125 8.5 55.328125 \nQ 8.5 64.0625 14.71875 69.140625 \nQ 20.953125 74.21875 31.78125 74.21875 \nQ 42.671875 74.21875 48.875 69.140625 \nQ 55.078125 64.0625 55.078125 55.328125 \nQ 55.078125 49.078125 51.53125 44.71875 \nQ 48 40.375 41.703125 38.8125 \nQ 48.828125 37.15625 52.796875 32.3125 \nQ 56.78125 27.484375 56.78125 20.515625 \nQ 56.78125 9.90625 50.3125 4.234375 \nQ 43.84375 -1.421875 31.78125 -1.421875 \nQ 19.734375 -1.421875 13.25 4.234375 \nQ 6.78125 9.90625 6.78125 20.515625 \nQ 6.78125 27.484375 10.78125 32.3125 \nQ 14.796875 37.15625 21.921875 38.8125 \nz\nM 18.3125 54.390625 \nQ 18.3125 48.734375 21.84375 45.5625 \nQ 25.390625 42.390625 31.78125 42.390625 \nQ 38.140625 42.390625 41.71875 45.5625 \nQ 45.3125 48.734375 45.3125 54.390625 \nQ 45.3125 60.0625 41.71875 63.234375 \nQ 38.140625 66.40625 31.78125 66.40625 \nQ 25.390625 66.40625 21.84375 63.234375 \nQ 18.3125 60.0625 18.3125 54.390625 \nz\n\" id=\"DejaVuSans-56\"/>\n      </defs>\n      <g transform=\"translate(20.878125 68.352383)scale(0.1 -0.1)\">\n       <use xlink:href=\"#DejaVuSans-57\"/>\n       <use x=\"63.623047\" xlink:href=\"#DejaVuSans-46\"/>\n       <use x=\"95.410156\" xlink:href=\"#DejaVuSans-56\"/>\n      </g>\n     </g>\n    </g>\n    <g id=\"text_12\">\n     <!-- loss -->\n     <defs>\n      <path d=\"M 9.421875 75.984375 \nL 18.40625 75.984375 \nL 18.40625 0 \nL 9.421875 0 \nz\n\" id=\"DejaVuSans-108\"/>\n      <path d=\"M 44.28125 53.078125 \nL 44.28125 44.578125 \nQ 40.484375 46.53125 36.375 47.5 \nQ 32.28125 48.484375 27.875 48.484375 \nQ 21.1875 48.484375 17.84375 46.4375 \nQ 14.5 44.390625 14.5 40.28125 \nQ 14.5 37.15625 16.890625 35.375 \nQ 19.28125 33.59375 26.515625 31.984375 \nL 29.59375 31.296875 \nQ 39.15625 29.25 43.1875 25.515625 \nQ 47.21875 21.78125 47.21875 15.09375 \nQ 47.21875 7.46875 41.1875 3.015625 \nQ 35.15625 -1.421875 24.609375 -1.421875 \nQ 20.21875 -1.421875 15.453125 -0.5625 \nQ 10.6875 0.296875 5.421875 2 \nL 5.421875 11.28125 \nQ 10.40625 8.6875 15.234375 7.390625 \nQ 20.0625 6.109375 24.8125 6.109375 \nQ 31.15625 6.109375 34.5625 8.28125 \nQ 37.984375 10.453125 37.984375 14.40625 \nQ 37.984375 18.0625 35.515625 20.015625 \nQ 33.0625 21.96875 24.703125 23.78125 \nL 21.578125 24.515625 \nQ 13.234375 26.265625 9.515625 29.90625 \nQ 5.8125 33.546875 5.8125 39.890625 \nQ 5.8125 47.609375 11.28125 51.796875 \nQ 16.75 56 26.8125 56 \nQ 31.78125 56 36.171875 55.265625 \nQ 40.578125 54.546875 44.28125 53.078125 \nz\n\" id=\"DejaVuSans-115\"/>\n     </defs>\n     <g transform=\"translate(14.798438 167.875938)rotate(-90)scale(0.1 -0.1)\">\n      <use xlink:href=\"#DejaVuSans-108\"/>\n      <use x=\"27.783203\" xlink:href=\"#DejaVuSans-111\"/>\n      <use x=\"88.964844\" xlink:href=\"#DejaVuSans-115\"/>\n      <use x=\"141.064453\" xlink:href=\"#DejaVuSans-115\"/>\n     </g>\n    </g>\n   </g>\n   <g id=\"line2d_11\">\n    <path clip-path=\"url(#p426c3aa3a4)\" d=\"M 55.310176 186.144231 \nL 66.839101 160.179164 \nL 78.368027 168.02332 \nL 89.896952 105.270073 \nL 101.425878 160.179164 \nL 112.954804 148.41293 \nL 124.483729 179.789554 \nL 136.012655 164.101242 \nL 147.541581 156.257086 \nL 159.070506 187.633709 \nL 170.599432 171.945397 \nL 182.128357 183.711631 \nL 193.657283 140.568774 \nL 205.186209 281.76358 \nL 216.715134 175.867476 \nL 228.24406 156.257086 \nL 239.772986 152.335008 \nL 251.301911 175.867476 \nL 262.830837 113.114229 \nL 274.359762 34.67267 \nL 285.888688 171.945398 \n\" style=\"fill:none;stroke:#1f77b4;stroke-linecap:square;stroke-width:1.5;\"/>\n   </g>\n   <g id=\"line2d_12\">\n    <path clip-path=\"url(#p426c3aa3a4)\" d=\"M 55.310176 149.566483 \nL 66.839101 149.566483 \nL 78.368027 149.566483 \nL 89.896952 149.566483 \nL 101.425878 149.566483 \nL 112.954804 133.762816 \nL 124.483729 149.566483 \nL 136.012655 133.762816 \nL 147.541581 149.566483 \nL 159.070506 149.566483 \nL 170.599432 165.370149 \nL 182.128357 149.566483 \nL 193.657283 149.566483 \nL 205.186209 149.566483 \nL 216.715134 149.566483 \nL 228.24406 149.566483 \nL 239.772986 149.566483 \nL 251.301911 149.566483 \nL 262.830837 149.566483 \nL 274.359762 149.566483 \nL 285.888688 149.566483 \n\" style=\"fill:none;stroke:#ff7f0e;stroke-linecap:square;stroke-width:1.5;\"/>\n   </g>\n   <g id=\"patch_3\">\n    <path d=\"M 43.78125 294.118125 \nL 43.78125 22.318125 \n\" style=\"fill:none;stroke:#000000;stroke-linecap:square;stroke-linejoin:miter;stroke-width:0.8;\"/>\n   </g>\n   <g id=\"patch_4\">\n    <path d=\"M 297.417614 294.118125 \nL 297.417614 22.318125 \n\" style=\"fill:none;stroke:#000000;stroke-linecap:square;stroke-linejoin:miter;stroke-width:0.8;\"/>\n   </g>\n   <g id=\"patch_5\">\n    <path d=\"M 43.78125 294.118125 \nL 297.417614 294.118125 \n\" style=\"fill:none;stroke:#000000;stroke-linecap:square;stroke-linejoin:miter;stroke-width:0.8;\"/>\n   </g>\n   <g id=\"patch_6\">\n    <path d=\"M 43.78125 22.318125 \nL 297.417614 22.318125 \n\" style=\"fill:none;stroke:#000000;stroke-linecap:square;stroke-linejoin:miter;stroke-width:0.8;\"/>\n   </g>\n   <g id=\"text_13\">\n    <!-- Loss curve -->\n    <defs>\n     <path d=\"M 9.8125 72.90625 \nL 19.671875 72.90625 \nL 19.671875 8.296875 \nL 55.171875 8.296875 \nL 55.171875 0 \nL 9.8125 0 \nz\n\" id=\"DejaVuSans-76\"/>\n     <path id=\"DejaVuSans-32\"/>\n     <path d=\"M 8.5 21.578125 \nL 8.5 54.6875 \nL 17.484375 54.6875 \nL 17.484375 21.921875 \nQ 17.484375 14.15625 20.5 10.265625 \nQ 23.53125 6.390625 29.59375 6.390625 \nQ 36.859375 6.390625 41.078125 11.03125 \nQ 45.3125 15.671875 45.3125 23.6875 \nL 45.3125 54.6875 \nL 54.296875 54.6875 \nL 54.296875 0 \nL 45.3125 0 \nL 45.3125 8.40625 \nQ 42.046875 3.421875 37.71875 1 \nQ 33.40625 -1.421875 27.6875 -1.421875 \nQ 18.265625 -1.421875 13.375 4.4375 \nQ 8.5 10.296875 8.5 21.578125 \nz\nM 31.109375 56 \nz\n\" id=\"DejaVuSans-117\"/>\n     <path d=\"M 41.109375 46.296875 \nQ 39.59375 47.171875 37.8125 47.578125 \nQ 36.03125 48 33.890625 48 \nQ 26.265625 48 22.1875 43.046875 \nQ 18.109375 38.09375 18.109375 28.8125 \nL 18.109375 0 \nL 9.078125 0 \nL 9.078125 54.6875 \nL 18.109375 54.6875 \nL 18.109375 46.1875 \nQ 20.953125 51.171875 25.484375 53.578125 \nQ 30.03125 56 36.53125 56 \nQ 37.453125 56 38.578125 55.875 \nQ 39.703125 55.765625 41.0625 55.515625 \nz\n\" id=\"DejaVuSans-114\"/>\n     <path d=\"M 2.984375 54.6875 \nL 12.5 54.6875 \nL 29.59375 8.796875 \nL 46.6875 54.6875 \nL 56.203125 54.6875 \nL 35.6875 0 \nL 23.484375 0 \nz\n\" id=\"DejaVuSans-118\"/>\n     <path d=\"M 56.203125 29.59375 \nL 56.203125 25.203125 \nL 14.890625 25.203125 \nQ 15.484375 15.921875 20.484375 11.0625 \nQ 25.484375 6.203125 34.421875 6.203125 \nQ 39.59375 6.203125 44.453125 7.46875 \nQ 49.3125 8.734375 54.109375 11.28125 \nL 54.109375 2.78125 \nQ 49.265625 0.734375 44.1875 -0.34375 \nQ 39.109375 -1.421875 33.890625 -1.421875 \nQ 20.796875 -1.421875 13.15625 6.1875 \nQ 5.515625 13.8125 5.515625 26.8125 \nQ 5.515625 40.234375 12.765625 48.109375 \nQ 20.015625 56 32.328125 56 \nQ 43.359375 56 49.78125 48.890625 \nQ 56.203125 41.796875 56.203125 29.59375 \nz\nM 47.21875 32.234375 \nQ 47.125 39.59375 43.09375 43.984375 \nQ 39.0625 48.390625 32.421875 48.390625 \nQ 24.90625 48.390625 20.390625 44.140625 \nQ 15.875 39.890625 15.1875 32.171875 \nz\n\" id=\"DejaVuSans-101\"/>\n    </defs>\n    <g transform=\"translate(138.720682 16.318125)scale(0.12 -0.12)\">\n     <use xlink:href=\"#DejaVuSans-76\"/>\n     <use x=\"53.962891\" xlink:href=\"#DejaVuSans-111\"/>\n     <use x=\"115.144531\" xlink:href=\"#DejaVuSans-115\"/>\n     <use x=\"167.244141\" xlink:href=\"#DejaVuSans-115\"/>\n     <use x=\"219.34375\" xlink:href=\"#DejaVuSans-32\"/>\n     <use x=\"251.130859\" xlink:href=\"#DejaVuSans-99\"/>\n     <use x=\"306.111328\" xlink:href=\"#DejaVuSans-117\"/>\n     <use x=\"369.490234\" xlink:href=\"#DejaVuSans-114\"/>\n     <use x=\"410.603516\" xlink:href=\"#DejaVuSans-118\"/>\n     <use x=\"469.783203\" xlink:href=\"#DejaVuSans-101\"/>\n    </g>\n   </g>\n   <g id=\"legend_1\">\n    <g id=\"patch_7\">\n     <path d=\"M 50.78125 59.674375 \nL 132.015625 59.674375 \nQ 134.015625 59.674375 134.015625 57.674375 \nL 134.015625 29.318125 \nQ 134.015625 27.318125 132.015625 27.318125 \nL 50.78125 27.318125 \nQ 48.78125 27.318125 48.78125 29.318125 \nL 48.78125 57.674375 \nQ 48.78125 59.674375 50.78125 59.674375 \nz\n\" style=\"fill:#ffffff;opacity:0.8;stroke:#cccccc;stroke-linejoin:miter;\"/>\n    </g>\n    <g id=\"line2d_13\">\n     <path d=\"M 52.78125 35.416562 \nL 72.78125 35.416562 \n\" style=\"fill:none;stroke:#1f77b4;stroke-linecap:square;stroke-width:1.5;\"/>\n    </g>\n    <g id=\"line2d_14\"/>\n    <g id=\"text_14\">\n     <!-- train -->\n     <defs>\n      <path d=\"M 18.3125 70.21875 \nL 18.3125 54.6875 \nL 36.8125 54.6875 \nL 36.8125 47.703125 \nL 18.3125 47.703125 \nL 18.3125 18.015625 \nQ 18.3125 11.328125 20.140625 9.421875 \nQ 21.96875 7.515625 27.59375 7.515625 \nL 36.8125 7.515625 \nL 36.8125 0 \nL 27.59375 0 \nQ 17.1875 0 13.234375 3.875 \nQ 9.28125 7.765625 9.28125 18.015625 \nL 9.28125 47.703125 \nL 2.6875 47.703125 \nL 2.6875 54.6875 \nL 9.28125 54.6875 \nL 9.28125 70.21875 \nz\n\" id=\"DejaVuSans-116\"/>\n      <path d=\"M 34.28125 27.484375 \nQ 23.390625 27.484375 19.1875 25 \nQ 14.984375 22.515625 14.984375 16.5 \nQ 14.984375 11.71875 18.140625 8.90625 \nQ 21.296875 6.109375 26.703125 6.109375 \nQ 34.1875 6.109375 38.703125 11.40625 \nQ 43.21875 16.703125 43.21875 25.484375 \nL 43.21875 27.484375 \nz\nM 52.203125 31.203125 \nL 52.203125 0 \nL 43.21875 0 \nL 43.21875 8.296875 \nQ 40.140625 3.328125 35.546875 0.953125 \nQ 30.953125 -1.421875 24.3125 -1.421875 \nQ 15.921875 -1.421875 10.953125 3.296875 \nQ 6 8.015625 6 15.921875 \nQ 6 25.140625 12.171875 29.828125 \nQ 18.359375 34.515625 30.609375 34.515625 \nL 43.21875 34.515625 \nL 43.21875 35.40625 \nQ 43.21875 41.609375 39.140625 45 \nQ 35.0625 48.390625 27.6875 48.390625 \nQ 23 48.390625 18.546875 47.265625 \nQ 14.109375 46.140625 10.015625 43.890625 \nL 10.015625 52.203125 \nQ 14.9375 54.109375 19.578125 55.046875 \nQ 24.21875 56 28.609375 56 \nQ 40.484375 56 46.34375 49.84375 \nQ 52.203125 43.703125 52.203125 31.203125 \nz\n\" id=\"DejaVuSans-97\"/>\n      <path d=\"M 9.421875 54.6875 \nL 18.40625 54.6875 \nL 18.40625 0 \nL 9.421875 0 \nz\nM 9.421875 75.984375 \nL 18.40625 75.984375 \nL 18.40625 64.59375 \nL 9.421875 64.59375 \nz\n\" id=\"DejaVuSans-105\"/>\n      <path d=\"M 54.890625 33.015625 \nL 54.890625 0 \nL 45.90625 0 \nL 45.90625 32.71875 \nQ 45.90625 40.484375 42.875 44.328125 \nQ 39.84375 48.1875 33.796875 48.1875 \nQ 26.515625 48.1875 22.3125 43.546875 \nQ 18.109375 38.921875 18.109375 30.90625 \nL 18.109375 0 \nL 9.078125 0 \nL 9.078125 54.6875 \nL 18.109375 54.6875 \nL 18.109375 46.1875 \nQ 21.34375 51.125 25.703125 53.5625 \nQ 30.078125 56 35.796875 56 \nQ 45.21875 56 50.046875 50.171875 \nQ 54.890625 44.34375 54.890625 33.015625 \nz\n\" id=\"DejaVuSans-110\"/>\n     </defs>\n     <g transform=\"translate(80.78125 38.916562)scale(0.1 -0.1)\">\n      <use xlink:href=\"#DejaVuSans-116\"/>\n      <use x=\"39.208984\" xlink:href=\"#DejaVuSans-114\"/>\n      <use x=\"80.322266\" xlink:href=\"#DejaVuSans-97\"/>\n      <use x=\"141.601562\" xlink:href=\"#DejaVuSans-105\"/>\n      <use x=\"169.384766\" xlink:href=\"#DejaVuSans-110\"/>\n     </g>\n    </g>\n    <g id=\"line2d_15\">\n     <path d=\"M 52.78125 50.094688 \nL 72.78125 50.094688 \n\" style=\"fill:none;stroke:#ff7f0e;stroke-linecap:square;stroke-width:1.5;\"/>\n    </g>\n    <g id=\"line2d_16\"/>\n    <g id=\"text_15\">\n     <!-- validation -->\n     <defs>\n      <path d=\"M 45.40625 46.390625 \nL 45.40625 75.984375 \nL 54.390625 75.984375 \nL 54.390625 0 \nL 45.40625 0 \nL 45.40625 8.203125 \nQ 42.578125 3.328125 38.25 0.953125 \nQ 33.9375 -1.421875 27.875 -1.421875 \nQ 17.96875 -1.421875 11.734375 6.484375 \nQ 5.515625 14.40625 5.515625 27.296875 \nQ 5.515625 40.1875 11.734375 48.09375 \nQ 17.96875 56 27.875 56 \nQ 33.9375 56 38.25 53.625 \nQ 42.578125 51.265625 45.40625 46.390625 \nz\nM 14.796875 27.296875 \nQ 14.796875 17.390625 18.875 11.75 \nQ 22.953125 6.109375 30.078125 6.109375 \nQ 37.203125 6.109375 41.296875 11.75 \nQ 45.40625 17.390625 45.40625 27.296875 \nQ 45.40625 37.203125 41.296875 42.84375 \nQ 37.203125 48.484375 30.078125 48.484375 \nQ 22.953125 48.484375 18.875 42.84375 \nQ 14.796875 37.203125 14.796875 27.296875 \nz\n\" id=\"DejaVuSans-100\"/>\n     </defs>\n     <g transform=\"translate(80.78125 53.594688)scale(0.1 -0.1)\">\n      <use xlink:href=\"#DejaVuSans-118\"/>\n      <use x=\"59.179688\" xlink:href=\"#DejaVuSans-97\"/>\n      <use x=\"120.458984\" xlink:href=\"#DejaVuSans-108\"/>\n      <use x=\"148.242188\" xlink:href=\"#DejaVuSans-105\"/>\n      <use x=\"176.025391\" xlink:href=\"#DejaVuSans-100\"/>\n      <use x=\"239.501953\" xlink:href=\"#DejaVuSans-97\"/>\n      <use x=\"300.78125\" xlink:href=\"#DejaVuSans-116\"/>\n      <use x=\"339.990234\" xlink:href=\"#DejaVuSans-105\"/>\n      <use x=\"367.773438\" xlink:href=\"#DejaVuSans-111\"/>\n      <use x=\"428.955078\" xlink:href=\"#DejaVuSans-110\"/>\n     </g>\n    </g>\n   </g>\n  </g>\n  <g id=\"axes_2\">\n   <g id=\"patch_8\">\n    <path d=\"M 348.144886 294.118125 \nL 601.78125 294.118125 \nL 601.78125 22.318125 \nL 348.144886 22.318125 \nz\n\" style=\"fill:#ffffff;\"/>\n   </g>\n   <g id=\"matplotlib.axis_3\">\n    <g id=\"xtick_6\">\n     <g id=\"line2d_17\">\n      <g>\n       <use style=\"stroke:#000000;stroke-width:0.8;\" x=\"359.673812\" xlink:href=\"#m8876a499f1\" y=\"294.118125\"/>\n      </g>\n     </g>\n     <g id=\"text_16\">\n      <!-- 0 -->\n      <g transform=\"translate(356.492562 308.716563)scale(0.1 -0.1)\">\n       <use xlink:href=\"#DejaVuSans-48\"/>\n      </g>\n     </g>\n    </g>\n    <g id=\"xtick_7\">\n     <g id=\"line2d_18\">\n      <g>\n       <use style=\"stroke:#000000;stroke-width:0.8;\" x=\"417.31844\" xlink:href=\"#m8876a499f1\" y=\"294.118125\"/>\n      </g>\n     </g>\n     <g id=\"text_17\">\n      <!-- 5 -->\n      <g transform=\"translate(414.13719 308.716563)scale(0.1 -0.1)\">\n       <use xlink:href=\"#DejaVuSans-53\"/>\n      </g>\n     </g>\n    </g>\n    <g id=\"xtick_8\">\n     <g id=\"line2d_19\">\n      <g>\n       <use style=\"stroke:#000000;stroke-width:0.8;\" x=\"474.963068\" xlink:href=\"#m8876a499f1\" y=\"294.118125\"/>\n      </g>\n     </g>\n     <g id=\"text_18\">\n      <!-- 10 -->\n      <g transform=\"translate(468.600568 308.716563)scale(0.1 -0.1)\">\n       <use xlink:href=\"#DejaVuSans-49\"/>\n       <use x=\"63.623047\" xlink:href=\"#DejaVuSans-48\"/>\n      </g>\n     </g>\n    </g>\n    <g id=\"xtick_9\">\n     <g id=\"line2d_20\">\n      <g>\n       <use style=\"stroke:#000000;stroke-width:0.8;\" x=\"532.607696\" xlink:href=\"#m8876a499f1\" y=\"294.118125\"/>\n      </g>\n     </g>\n     <g id=\"text_19\">\n      <!-- 15 -->\n      <g transform=\"translate(526.245196 308.716563)scale(0.1 -0.1)\">\n       <use xlink:href=\"#DejaVuSans-49\"/>\n       <use x=\"63.623047\" xlink:href=\"#DejaVuSans-53\"/>\n      </g>\n     </g>\n    </g>\n    <g id=\"xtick_10\">\n     <g id=\"line2d_21\">\n      <g>\n       <use style=\"stroke:#000000;stroke-width:0.8;\" x=\"590.252324\" xlink:href=\"#m8876a499f1\" y=\"294.118125\"/>\n      </g>\n     </g>\n     <g id=\"text_20\">\n      <!-- 20 -->\n      <g transform=\"translate(583.889824 308.716563)scale(0.1 -0.1)\">\n       <use xlink:href=\"#DejaVuSans-50\"/>\n       <use x=\"63.623047\" xlink:href=\"#DejaVuSans-48\"/>\n      </g>\n     </g>\n    </g>\n    <g id=\"text_21\">\n     <!-- Epoch -->\n     <g transform=\"translate(459.652131 322.394687)scale(0.1 -0.1)\">\n      <use xlink:href=\"#DejaVuSans-69\"/>\n      <use x=\"63.183594\" xlink:href=\"#DejaVuSans-112\"/>\n      <use x=\"126.660156\" xlink:href=\"#DejaVuSans-111\"/>\n      <use x=\"187.841797\" xlink:href=\"#DejaVuSans-99\"/>\n      <use x=\"242.822266\" xlink:href=\"#DejaVuSans-104\"/>\n     </g>\n    </g>\n   </g>\n   <g id=\"matplotlib.axis_4\">\n    <g id=\"ytick_6\">\n     <g id=\"line2d_22\">\n      <g>\n       <use style=\"stroke:#000000;stroke-width:0.8;\" x=\"348.144886\" xlink:href=\"#m73e5cc71fb\" y=\"280.116302\"/>\n      </g>\n     </g>\n     <g id=\"text_22\">\n      <!-- 0.085 -->\n      <g transform=\"translate(312.516761 283.915521)scale(0.1 -0.1)\">\n       <use xlink:href=\"#DejaVuSans-48\"/>\n       <use x=\"63.623047\" xlink:href=\"#DejaVuSans-46\"/>\n       <use x=\"95.410156\" xlink:href=\"#DejaVuSans-48\"/>\n       <use x=\"159.033203\" xlink:href=\"#DejaVuSans-56\"/>\n       <use x=\"222.65625\" xlink:href=\"#DejaVuSans-53\"/>\n      </g>\n     </g>\n    </g>\n    <g id=\"ytick_7\">\n     <g id=\"line2d_23\">\n      <g>\n       <use style=\"stroke:#000000;stroke-width:0.8;\" x=\"348.144886\" xlink:href=\"#m73e5cc71fb\" y=\"223.697205\"/>\n      </g>\n     </g>\n     <g id=\"text_23\">\n      <!-- 0.090 -->\n      <g transform=\"translate(312.516761 227.496424)scale(0.1 -0.1)\">\n       <use xlink:href=\"#DejaVuSans-48\"/>\n       <use x=\"63.623047\" xlink:href=\"#DejaVuSans-46\"/>\n       <use x=\"95.410156\" xlink:href=\"#DejaVuSans-48\"/>\n       <use x=\"159.033203\" xlink:href=\"#DejaVuSans-57\"/>\n       <use x=\"222.65625\" xlink:href=\"#DejaVuSans-48\"/>\n      </g>\n     </g>\n    </g>\n    <g id=\"ytick_8\">\n     <g id=\"line2d_24\">\n      <g>\n       <use style=\"stroke:#000000;stroke-width:0.8;\" x=\"348.144886\" xlink:href=\"#m73e5cc71fb\" y=\"167.278108\"/>\n      </g>\n     </g>\n     <g id=\"text_24\">\n      <!-- 0.095 -->\n      <g transform=\"translate(312.516761 171.077326)scale(0.1 -0.1)\">\n       <use xlink:href=\"#DejaVuSans-48\"/>\n       <use x=\"63.623047\" xlink:href=\"#DejaVuSans-46\"/>\n       <use x=\"95.410156\" xlink:href=\"#DejaVuSans-48\"/>\n       <use x=\"159.033203\" xlink:href=\"#DejaVuSans-57\"/>\n       <use x=\"222.65625\" xlink:href=\"#DejaVuSans-53\"/>\n      </g>\n     </g>\n    </g>\n    <g id=\"ytick_9\">\n     <g id=\"line2d_25\">\n      <g>\n       <use style=\"stroke:#000000;stroke-width:0.8;\" x=\"348.144886\" xlink:href=\"#m73e5cc71fb\" y=\"110.85901\"/>\n      </g>\n     </g>\n     <g id=\"text_25\">\n      <!-- 0.100 -->\n      <g transform=\"translate(312.516761 114.658229)scale(0.1 -0.1)\">\n       <use xlink:href=\"#DejaVuSans-48\"/>\n       <use x=\"63.623047\" xlink:href=\"#DejaVuSans-46\"/>\n       <use x=\"95.410156\" xlink:href=\"#DejaVuSans-49\"/>\n       <use x=\"159.033203\" xlink:href=\"#DejaVuSans-48\"/>\n       <use x=\"222.65625\" xlink:href=\"#DejaVuSans-48\"/>\n      </g>\n     </g>\n    </g>\n    <g id=\"ytick_10\">\n     <g id=\"line2d_26\">\n      <g>\n       <use style=\"stroke:#000000;stroke-width:0.8;\" x=\"348.144886\" xlink:href=\"#m73e5cc71fb\" y=\"54.439913\"/>\n      </g>\n     </g>\n     <g id=\"text_26\">\n      <!-- 0.105 -->\n      <g transform=\"translate(312.516761 58.239132)scale(0.1 -0.1)\">\n       <use xlink:href=\"#DejaVuSans-48\"/>\n       <use x=\"63.623047\" xlink:href=\"#DejaVuSans-46\"/>\n       <use x=\"95.410156\" xlink:href=\"#DejaVuSans-49\"/>\n       <use x=\"159.033203\" xlink:href=\"#DejaVuSans-48\"/>\n       <use x=\"222.65625\" xlink:href=\"#DejaVuSans-53\"/>\n      </g>\n     </g>\n    </g>\n    <g id=\"text_27\">\n     <!-- accuracy -->\n     <defs>\n      <path d=\"M 32.171875 -5.078125 \nQ 28.375 -14.84375 24.75 -17.8125 \nQ 21.140625 -20.796875 15.09375 -20.796875 \nL 7.90625 -20.796875 \nL 7.90625 -13.28125 \nL 13.1875 -13.28125 \nQ 16.890625 -13.28125 18.9375 -11.515625 \nQ 21 -9.765625 23.484375 -3.21875 \nL 25.09375 0.875 \nL 2.984375 54.6875 \nL 12.5 54.6875 \nL 29.59375 11.921875 \nL 46.6875 54.6875 \nL 56.203125 54.6875 \nz\n\" id=\"DejaVuSans-121\"/>\n     </defs>\n     <g transform=\"translate(306.437074 180.7775)rotate(-90)scale(0.1 -0.1)\">\n      <use xlink:href=\"#DejaVuSans-97\"/>\n      <use x=\"61.279297\" xlink:href=\"#DejaVuSans-99\"/>\n      <use x=\"116.259766\" xlink:href=\"#DejaVuSans-99\"/>\n      <use x=\"171.240234\" xlink:href=\"#DejaVuSans-117\"/>\n      <use x=\"234.619141\" xlink:href=\"#DejaVuSans-114\"/>\n      <use x=\"275.732422\" xlink:href=\"#DejaVuSans-97\"/>\n      <use x=\"337.011719\" xlink:href=\"#DejaVuSans-99\"/>\n      <use x=\"391.992188\" xlink:href=\"#DejaVuSans-121\"/>\n     </g>\n    </g>\n   </g>\n   <g id=\"line2d_27\">\n    <path clip-path=\"url(#p3607b092d2)\" d=\"M 359.673812 34.67267 \nL 371.202738 137.627202 \nL 382.731663 117.036279 \nL 394.260589 55.263509 \nL 405.789514 168.513545 \nL 417.31844 178.809048 \nL 428.847366 240.581733 \nL 440.376291 219.99081 \nL 451.905217 106.740859 \nL 463.434143 199.399971 \nL 474.963068 65.559013 \nL 486.491994 219.99081 \nL 498.020919 55.263509 \nL 509.549845 219.99081 \nL 521.078771 168.513545 \nL 532.607696 281.76358 \nL 544.136622 189.104468 \nL 555.665548 230.286314 \nL 567.194473 261.172656 \nL 578.723399 137.627202 \nL 590.252324 189.104468 \n\" style=\"fill:none;stroke:#1f77b4;stroke-linecap:square;stroke-width:1.5;\"/>\n   </g>\n   <g id=\"line2d_28\">\n    <path clip-path=\"url(#p3607b092d2)\" d=\"M 359.673812 160.640547 \nL 371.202738 160.640547 \nL 382.731663 160.640547 \nL 394.260589 160.640547 \nL 405.789514 160.640547 \nL 417.31844 119.155961 \nL 428.847366 160.640547 \nL 440.376291 119.155961 \nL 451.905217 160.640547 \nL 463.434143 160.640547 \nL 474.963068 160.640547 \nL 486.491994 160.640547 \nL 498.020919 160.640547 \nL 509.549845 160.640547 \nL 521.078771 160.640547 \nL 532.607696 160.640547 \nL 544.136622 160.640547 \nL 555.665548 160.640547 \nL 567.194473 160.640547 \nL 578.723399 160.640547 \nL 590.252324 160.640547 \n\" style=\"fill:none;stroke:#ff7f0e;stroke-linecap:square;stroke-width:1.5;\"/>\n   </g>\n   <g id=\"patch_9\">\n    <path d=\"M 348.144886 294.118125 \nL 348.144886 22.318125 \n\" style=\"fill:none;stroke:#000000;stroke-linecap:square;stroke-linejoin:miter;stroke-width:0.8;\"/>\n   </g>\n   <g id=\"patch_10\">\n    <path d=\"M 601.78125 294.118125 \nL 601.78125 22.318125 \n\" style=\"fill:none;stroke:#000000;stroke-linecap:square;stroke-linejoin:miter;stroke-width:0.8;\"/>\n   </g>\n   <g id=\"patch_11\">\n    <path d=\"M 348.144886 294.118125 \nL 601.78125 294.118125 \n\" style=\"fill:none;stroke:#000000;stroke-linecap:square;stroke-linejoin:miter;stroke-width:0.8;\"/>\n   </g>\n   <g id=\"patch_12\">\n    <path d=\"M 348.144886 22.318125 \nL 601.78125 22.318125 \n\" style=\"fill:none;stroke:#000000;stroke-linecap:square;stroke-linejoin:miter;stroke-width:0.8;\"/>\n   </g>\n   <g id=\"text_28\">\n    <!-- Accuracy -->\n    <defs>\n     <path d=\"M 34.1875 63.1875 \nL 20.796875 26.90625 \nL 47.609375 26.90625 \nz\nM 28.609375 72.90625 \nL 39.796875 72.90625 \nL 67.578125 0 \nL 57.328125 0 \nL 50.6875 18.703125 \nL 17.828125 18.703125 \nL 11.1875 0 \nL 0.78125 0 \nz\n\" id=\"DejaVuSans-65\"/>\n    </defs>\n    <g transform=\"translate(447.569318 16.318125)scale(0.12 -0.12)\">\n     <use xlink:href=\"#DejaVuSans-65\"/>\n     <use x=\"66.658203\" xlink:href=\"#DejaVuSans-99\"/>\n     <use x=\"121.638672\" xlink:href=\"#DejaVuSans-99\"/>\n     <use x=\"176.619141\" xlink:href=\"#DejaVuSans-117\"/>\n     <use x=\"239.998047\" xlink:href=\"#DejaVuSans-114\"/>\n     <use x=\"281.111328\" xlink:href=\"#DejaVuSans-97\"/>\n     <use x=\"342.390625\" xlink:href=\"#DejaVuSans-99\"/>\n     <use x=\"397.371094\" xlink:href=\"#DejaVuSans-121\"/>\n    </g>\n   </g>\n   <g id=\"legend_2\">\n    <g id=\"patch_13\">\n     <path d=\"M 513.546875 59.674375 \nL 594.78125 59.674375 \nQ 596.78125 59.674375 596.78125 57.674375 \nL 596.78125 29.318125 \nQ 596.78125 27.318125 594.78125 27.318125 \nL 513.546875 27.318125 \nQ 511.546875 27.318125 511.546875 29.318125 \nL 511.546875 57.674375 \nQ 511.546875 59.674375 513.546875 59.674375 \nz\n\" style=\"fill:#ffffff;opacity:0.8;stroke:#cccccc;stroke-linejoin:miter;\"/>\n    </g>\n    <g id=\"line2d_29\">\n     <path d=\"M 515.546875 35.416562 \nL 535.546875 35.416562 \n\" style=\"fill:none;stroke:#1f77b4;stroke-linecap:square;stroke-width:1.5;\"/>\n    </g>\n    <g id=\"line2d_30\"/>\n    <g id=\"text_29\">\n     <!-- train -->\n     <g transform=\"translate(543.546875 38.916562)scale(0.1 -0.1)\">\n      <use xlink:href=\"#DejaVuSans-116\"/>\n      <use x=\"39.208984\" xlink:href=\"#DejaVuSans-114\"/>\n      <use x=\"80.322266\" xlink:href=\"#DejaVuSans-97\"/>\n      <use x=\"141.601562\" xlink:href=\"#DejaVuSans-105\"/>\n      <use x=\"169.384766\" xlink:href=\"#DejaVuSans-110\"/>\n     </g>\n    </g>\n    <g id=\"line2d_31\">\n     <path d=\"M 515.546875 50.094688 \nL 535.546875 50.094688 \n\" style=\"fill:none;stroke:#ff7f0e;stroke-linecap:square;stroke-width:1.5;\"/>\n    </g>\n    <g id=\"line2d_32\"/>\n    <g id=\"text_30\">\n     <!-- validation -->\n     <g transform=\"translate(543.546875 53.594688)scale(0.1 -0.1)\">\n      <use xlink:href=\"#DejaVuSans-118\"/>\n      <use x=\"59.179688\" xlink:href=\"#DejaVuSans-97\"/>\n      <use x=\"120.458984\" xlink:href=\"#DejaVuSans-108\"/>\n      <use x=\"148.242188\" xlink:href=\"#DejaVuSans-105\"/>\n      <use x=\"176.025391\" xlink:href=\"#DejaVuSans-100\"/>\n      <use x=\"239.501953\" xlink:href=\"#DejaVuSans-97\"/>\n      <use x=\"300.78125\" xlink:href=\"#DejaVuSans-116\"/>\n      <use x=\"339.990234\" xlink:href=\"#DejaVuSans-105\"/>\n      <use x=\"367.773438\" xlink:href=\"#DejaVuSans-111\"/>\n      <use x=\"428.955078\" xlink:href=\"#DejaVuSans-110\"/>\n     </g>\n    </g>\n   </g>\n  </g>\n </g>\n <defs>\n  <clipPath id=\"p426c3aa3a4\">\n   <rect height=\"271.8\" width=\"253.636364\" x=\"43.78125\" y=\"22.318125\"/>\n  </clipPath>\n  <clipPath id=\"p3607b092d2\">\n   <rect height=\"271.8\" width=\"253.636364\" x=\"348.144886\" y=\"22.318125\"/>\n  </clipPath>\n </defs>\n</svg>\n"
          },
          "metadata": {
            "needs_background": "light"
          }
        }
      ],
      "source": [
        "# let's plot the loss and accuracy \n",
        "\n",
        "# get the training and validation accuracy from the history object\n",
        "train_acc = history1.history['accuracy']\n",
        "valid_acc = history1.history['val_accuracy']\n",
        "\n",
        "# get the loss\n",
        "train_loss = history1.history['loss']\n",
        "valid_loss = history1.history['val_loss']\n",
        "\n",
        "# get the number of entries\n",
        "xvalues = np.arange(len(train_acc))\n",
        "\n",
        "# visualize\n",
        "f,ax = plt.subplots(1,2, figsize=(10,5))\n",
        "ax[0].plot(xvalues, train_loss)\n",
        "ax[0].plot(xvalues, valid_loss)\n",
        "ax[0].set_title(\"Loss curve\")\n",
        "ax[0].set_xlabel(\"Epoch\")\n",
        "ax[0].set_ylabel(\"loss\")\n",
        "ax[0].legend(['train', 'validation'])\n",
        "\n",
        "ax[1].plot(xvalues, train_acc)\n",
        "ax[1].plot(xvalues, valid_acc)\n",
        "ax[1].set_title(\"Accuracy\")\n",
        "ax[1].set_xlabel(\"Epoch\")\n",
        "ax[1].set_ylabel(\"accuracy\")\n",
        "ax[1].legend(['train', 'validation'])\n",
        "\n",
        "plt.show()"
      ]
    },
    {
      "cell_type": "code",
      "execution_count": 23,
      "metadata": {
        "id": "QbyCEgjOm_oJ",
        "colab": {
          "base_uri": "https://localhost:8080/"
        },
        "outputId": "69d19206-9c7e-4237-8db5-3ca5c3c4675a"
      },
      "outputs": [
        {
          "output_type": "stream",
          "name": "stderr",
          "text": [
            "<ipython-input-23-23a660d06043>:2: UserWarning: `Model.evaluate_generator` is deprecated and will be removed in a future version. Please use `Model.evaluate`, which supports generators.\n",
            "  valid_loss, valid_acc = model.evaluate_generator(valid_data_gen, steps=nb_valid_steps)\n"
          ]
        },
        {
          "output_type": "stream",
          "name": "stdout",
          "text": [
            "Final validation accuracy: 9.56%\n"
          ]
        }
      ],
      "source": [
        "# What is the final loss and accuracy on our validation data?\n",
        "valid_loss, valid_acc = model.evaluate_generator(valid_data_gen, steps=nb_valid_steps)\n",
        "print(f\"Final validation accuracy: {valid_acc*100:.2f}%\")"
      ]
    },
    {
      "cell_type": "code",
      "execution_count": 24,
      "metadata": {
        "id": "xtftPiu_m_oK",
        "colab": {
          "base_uri": "https://localhost:8080/"
        },
        "outputId": "23160b5b-a819-4a63-e1ee-c56b41355fb4"
      },
      "outputs": [
        {
          "output_type": "stream",
          "name": "stdout",
          "text": [
            "Model: \"model_1\"\n",
            "_________________________________________________________________\n",
            " Layer (type)                Output Shape              Param #   \n",
            "=================================================================\n",
            " conv2d_input (InputLayer)   [(None, 224, 224, 3)]     0         \n",
            "                                                                 \n",
            " conv2d (Conv2D)             (None, 224, 224, 32)      416       \n",
            "                                                                 \n",
            " max_pooling2d (MaxPooling2D  (None, 112, 112, 32)     0         \n",
            " )                                                               \n",
            "                                                                 \n",
            " conv2d_1 (Conv2D)           (None, 112, 112, 64)      8256      \n",
            "                                                                 \n",
            " max_pooling2d_1 (MaxPooling  (None, 56, 56, 64)       0         \n",
            " 2D)                                                             \n",
            "                                                                 \n",
            " conv2d_2 (Conv2D)           (None, 56, 56, 128)       32896     \n",
            "                                                                 \n",
            " max_pooling2d_2 (MaxPooling  (None, 28, 28, 128)      0         \n",
            " 2D)                                                             \n",
            "                                                                 \n",
            " conv2d_3 (Conv2D)           (None, 28, 28, 256)       131328    \n",
            "                                                                 \n",
            " max_pooling2d_3 (MaxPooling  (None, 14, 14, 256)      0         \n",
            " 2D)                                                             \n",
            "                                                                 \n",
            " flatten (Flatten)           (None, 50176)             0         \n",
            "                                                                 \n",
            " dense (Dense)               (None, 4096)              205524992 \n",
            "                                                                 \n",
            " dense_1 (Dense)             (None, 10)                40970     \n",
            "                                                                 \n",
            "=================================================================\n",
            "Total params: 205,738,858\n",
            "Trainable params: 205,738,858\n",
            "Non-trainable params: 0\n",
            "_________________________________________________________________\n"
          ]
        }
      ],
      "source": [
        "# select all the layers for which you want to visualize the outputs and store it in a list\n",
        "outputs = [layer.output for layer in model.layers[1:18]]\n",
        "\n",
        "# Define a new model that generates the above output\n",
        "vis_model = Model(model.input, outputs)\n",
        "\n",
        "# check if we have all the layers we require for visualization \n",
        "vis_model.summary()"
      ]
    },
    {
      "cell_type": "code",
      "execution_count": 25,
      "metadata": {
        "id": "SBwGla4tm_oK",
        "colab": {
          "base_uri": "https://localhost:8080/"
        },
        "outputId": "ce0e4d91-f70f-477b-f713-a6b658efa6ca"
      },
      "outputs": [
        {
          "output_type": "stream",
          "name": "stdout",
          "text": [
            "Layers going to be used for visualization: \n",
            "['conv2d', 'max_pooling2d', 'conv2d_1', 'max_pooling2d_1', 'conv2d_2', 'max_pooling2d_2', 'conv2d_3', 'max_pooling2d_3', 'flatten', 'dense', 'dense_1']\n"
          ]
        }
      ],
      "source": [
        "# store the layer names we are interested in\n",
        "layer_names = []\n",
        "for layer in outputs:\n",
        "    layer_names.append(layer.name.split(\"/\")[0])\n",
        "\n",
        "    \n",
        "print(\"Layers going to be used for visualization: \")\n",
        "print(layer_names)"
      ]
    },
    {
      "cell_type": "code",
      "source": [
        "print( f'layer_names [before]: {layer_names}' )\n",
        "\n",
        "layer_names_temp = layer_names\n",
        "layer_names = list()\n",
        "for layer in layer_names_temp:\n",
        "\n",
        "  if 'conv' in layer:\n",
        "    # print(layer)\n",
        "    layer_names.append( layer )\n",
        "\n",
        "print( '=========================================' )\n",
        "print( f'layer_names [after]: {layer_names}' )"
      ],
      "metadata": {
        "colab": {
          "base_uri": "https://localhost:8080/"
        },
        "id": "N71NRlVBrVkI",
        "outputId": "6ccd8b71-1ba1-482e-b861-820242357b58"
      },
      "execution_count": 26,
      "outputs": [
        {
          "output_type": "stream",
          "name": "stdout",
          "text": [
            "layer_names [before]: ['conv2d', 'max_pooling2d', 'conv2d_1', 'max_pooling2d_1', 'conv2d_2', 'max_pooling2d_2', 'conv2d_3', 'max_pooling2d_3', 'flatten', 'dense', 'dense_1']\n",
            "=========================================\n",
            "layer_names [after]: ['conv2d', 'conv2d_1', 'conv2d_2', 'conv2d_3']\n"
          ]
        }
      ]
    },
    {
      "cell_type": "code",
      "execution_count": 27,
      "metadata": {
        "id": "GTk3zuOem_oL"
      },
      "outputs": [],
      "source": [
        "def get_CAM(processed_image, predicted_label):\n",
        "    \"\"\"\n",
        "    This function is used to generate a heatmap for a sample image prediction.\n",
        "    \n",
        "    Args:\n",
        "        processed_image: any sample image that has been pre-processed using the \n",
        "                       `preprocess_input()`method of a keras model\n",
        "        predicted_label: label that has been predicted by the network for this image\n",
        "    \n",
        "    Returns:\n",
        "        heatmap: heatmap generated over the last convolution layer output \n",
        "    \"\"\"\n",
        "    # we want the activations for the predicted label\n",
        "    predicted_output = model.output[:, predicted_label]\n",
        "    \n",
        "    # choose the last conv layer in your model\n",
        "    # last_conv_layer = model.get_layer('block5_conv3')\n",
        "    last_conv_layer = model.get_layer(layer_names[-1])\n",
        "    \n",
        "    # get the gradients wrt to the last conv layer\n",
        "    grads = K.gradients(predicted_output, last_conv_layer.output)[0]\n",
        "    \n",
        "    # take mean gradient per feature map\n",
        "    grads = K.mean(grads, axis=(0,1,2)) # GAP - Global Average Pooling\n",
        "    \n",
        "    # Define a function that generates the values for the output and gradients\n",
        "    evaluation_function = K.function([model.input], [grads, last_conv_layer.output[0]])\n",
        "    \n",
        "    # get the values\n",
        "    grads_values, conv_ouput_values = evaluation_function([processed_image])\n",
        "    \n",
        "    # CAM - Class Activation Map\n",
        "    # iterate over each feature map in yout conv output and multiply\n",
        "    # the gradient values with the conv output values. This gives an \n",
        "    # indication of \"how important a feature is\"\n",
        "    # for i in range(512): # we have 512 features in our last conv layer\n",
        "    for i in range(conv_ouput_values.shape[2]): # daniel\n",
        "        conv_ouput_values[:,:,i] *= grads_values[i]\n",
        "    \n",
        "    # create a heatmap\n",
        "    heatmap = np.mean(conv_ouput_values, axis=-1)\n",
        "    \n",
        "    # remove negative values\n",
        "    heatmap = np.maximum(heatmap, 0)\n",
        "    \n",
        "    # normalize\n",
        "    heatmap /= heatmap.max()\n",
        "    \n",
        "    return heatmap"
      ]
    },
    {
      "cell_type": "code",
      "source": [
        "idx = 0"
      ],
      "metadata": {
        "id": "zeXWpNlapUFx"
      },
      "execution_count": 28,
      "outputs": []
    },
    {
      "cell_type": "code",
      "execution_count": 29,
      "metadata": {
        "id": "tX1madjMm_oO",
        "colab": {
          "base_uri": "https://localhost:8080/",
          "height": 303
        },
        "outputId": "b3b02703-9d9b-4298-f854-6bf5b195c3cd"
      },
      "outputs": [
        {
          "output_type": "stream",
          "name": "stderr",
          "text": [
            "/usr/local/lib/python3.8/dist-packages/keras/engine/training_v1.py:2067: UserWarning: `Model.state_updates` will be removed in a future version. This property should not be used in TensorFlow 2.0, as `updates` are applied automatically.\n",
            "  updates=self.state_updates,\n"
          ]
        },
        {
          "output_type": "display_data",
          "data": {
            "text/plain": [
              "<Figure size 576x576 with 3 Axes>"
            ],
            "image/svg+xml": "<?xml version=\"1.0\" encoding=\"utf-8\" standalone=\"no\"?>\n<!DOCTYPE svg PUBLIC \"-//W3C//DTD SVG 1.1//EN\"\n  \"http://www.w3.org/Graphics/SVG/1.1/DTD/svg11.dtd\">\n<!-- Created with matplotlib (https://matplotlib.org/) -->\n<svg height=\"170.490368pt\" version=\"1.1\" viewBox=\"0 0 469.913097 170.490368\" width=\"469.913097pt\" xmlns=\"http://www.w3.org/2000/svg\" xmlns:xlink=\"http://www.w3.org/1999/xlink\">\n <defs>\n  <style type=\"text/css\">\n*{stroke-linecap:butt;stroke-linejoin:round;}\n  </style>\n </defs>\n <g id=\"figure_1\">\n  <g id=\"patch_1\">\n   <path d=\"M 0 170.490368 \nL 469.913097 170.490368 \nL 469.913097 0 \nL 0 0 \nz\n\" style=\"fill:none;\"/>\n  </g>\n  <g id=\"axes_1\">\n   <g clip-path=\"url(#p7ce17f2422)\">\n    <image height=\"132\" id=\"imageec60411e27\" transform=\"scale(1 -1)translate(0 -132)\" width=\"132\" x=\"7.2\" xlink:href=\"data:image/png;base64,\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\" y=\"-31.290368\"/>\n   </g>\n   <g id=\"text_1\">\n    <!-- True label: 7  -->\n    <defs>\n     <path d=\"M -0.296875 72.90625 \nL 61.375 72.90625 \nL 61.375 64.59375 \nL 35.5 64.59375 \nL 35.5 0 \nL 25.59375 0 \nL 25.59375 64.59375 \nL -0.296875 64.59375 \nz\n\" id=\"DejaVuSans-84\"/>\n     <path d=\"M 41.109375 46.296875 \nQ 39.59375 47.171875 37.8125 47.578125 \nQ 36.03125 48 33.890625 48 \nQ 26.265625 48 22.1875 43.046875 \nQ 18.109375 38.09375 18.109375 28.8125 \nL 18.109375 0 \nL 9.078125 0 \nL 9.078125 54.6875 \nL 18.109375 54.6875 \nL 18.109375 46.1875 \nQ 20.953125 51.171875 25.484375 53.578125 \nQ 30.03125 56 36.53125 56 \nQ 37.453125 56 38.578125 55.875 \nQ 39.703125 55.765625 41.0625 55.515625 \nz\n\" id=\"DejaVuSans-114\"/>\n     <path d=\"M 8.5 21.578125 \nL 8.5 54.6875 \nL 17.484375 54.6875 \nL 17.484375 21.921875 \nQ 17.484375 14.15625 20.5 10.265625 \nQ 23.53125 6.390625 29.59375 6.390625 \nQ 36.859375 6.390625 41.078125 11.03125 \nQ 45.3125 15.671875 45.3125 23.6875 \nL 45.3125 54.6875 \nL 54.296875 54.6875 \nL 54.296875 0 \nL 45.3125 0 \nL 45.3125 8.40625 \nQ 42.046875 3.421875 37.71875 1 \nQ 33.40625 -1.421875 27.6875 -1.421875 \nQ 18.265625 -1.421875 13.375 4.4375 \nQ 8.5 10.296875 8.5 21.578125 \nz\nM 31.109375 56 \nz\n\" id=\"DejaVuSans-117\"/>\n     <path d=\"M 56.203125 29.59375 \nL 56.203125 25.203125 \nL 14.890625 25.203125 \nQ 15.484375 15.921875 20.484375 11.0625 \nQ 25.484375 6.203125 34.421875 6.203125 \nQ 39.59375 6.203125 44.453125 7.46875 \nQ 49.3125 8.734375 54.109375 11.28125 \nL 54.109375 2.78125 \nQ 49.265625 0.734375 44.1875 -0.34375 \nQ 39.109375 -1.421875 33.890625 -1.421875 \nQ 20.796875 -1.421875 13.15625 6.1875 \nQ 5.515625 13.8125 5.515625 26.8125 \nQ 5.515625 40.234375 12.765625 48.109375 \nQ 20.015625 56 32.328125 56 \nQ 43.359375 56 49.78125 48.890625 \nQ 56.203125 41.796875 56.203125 29.59375 \nz\nM 47.21875 32.234375 \nQ 47.125 39.59375 43.09375 43.984375 \nQ 39.0625 48.390625 32.421875 48.390625 \nQ 24.90625 48.390625 20.390625 44.140625 \nQ 15.875 39.890625 15.1875 32.171875 \nz\n\" id=\"DejaVuSans-101\"/>\n     <path id=\"DejaVuSans-32\"/>\n     <path d=\"M 9.421875 75.984375 \nL 18.40625 75.984375 \nL 18.40625 0 \nL 9.421875 0 \nz\n\" id=\"DejaVuSans-108\"/>\n     <path d=\"M 34.28125 27.484375 \nQ 23.390625 27.484375 19.1875 25 \nQ 14.984375 22.515625 14.984375 16.5 \nQ 14.984375 11.71875 18.140625 8.90625 \nQ 21.296875 6.109375 26.703125 6.109375 \nQ 34.1875 6.109375 38.703125 11.40625 \nQ 43.21875 16.703125 43.21875 25.484375 \nL 43.21875 27.484375 \nz\nM 52.203125 31.203125 \nL 52.203125 0 \nL 43.21875 0 \nL 43.21875 8.296875 \nQ 40.140625 3.328125 35.546875 0.953125 \nQ 30.953125 -1.421875 24.3125 -1.421875 \nQ 15.921875 -1.421875 10.953125 3.296875 \nQ 6 8.015625 6 15.921875 \nQ 6 25.140625 12.171875 29.828125 \nQ 18.359375 34.515625 30.609375 34.515625 \nL 43.21875 34.515625 \nL 43.21875 35.40625 \nQ 43.21875 41.609375 39.140625 45 \nQ 35.0625 48.390625 27.6875 48.390625 \nQ 23 48.390625 18.546875 47.265625 \nQ 14.109375 46.140625 10.015625 43.890625 \nL 10.015625 52.203125 \nQ 14.9375 54.109375 19.578125 55.046875 \nQ 24.21875 56 28.609375 56 \nQ 40.484375 56 46.34375 49.84375 \nQ 52.203125 43.703125 52.203125 31.203125 \nz\n\" id=\"DejaVuSans-97\"/>\n     <path d=\"M 48.6875 27.296875 \nQ 48.6875 37.203125 44.609375 42.84375 \nQ 40.53125 48.484375 33.40625 48.484375 \nQ 26.265625 48.484375 22.1875 42.84375 \nQ 18.109375 37.203125 18.109375 27.296875 \nQ 18.109375 17.390625 22.1875 11.75 \nQ 26.265625 6.109375 33.40625 6.109375 \nQ 40.53125 6.109375 44.609375 11.75 \nQ 48.6875 17.390625 48.6875 27.296875 \nz\nM 18.109375 46.390625 \nQ 20.953125 51.265625 25.265625 53.625 \nQ 29.59375 56 35.59375 56 \nQ 45.5625 56 51.78125 48.09375 \nQ 58.015625 40.1875 58.015625 27.296875 \nQ 58.015625 14.40625 51.78125 6.484375 \nQ 45.5625 -1.421875 35.59375 -1.421875 \nQ 29.59375 -1.421875 25.265625 0.953125 \nQ 20.953125 3.328125 18.109375 8.203125 \nL 18.109375 0 \nL 9.078125 0 \nL 9.078125 75.984375 \nL 18.109375 75.984375 \nz\n\" id=\"DejaVuSans-98\"/>\n     <path d=\"M 11.71875 12.40625 \nL 22.015625 12.40625 \nL 22.015625 0 \nL 11.71875 0 \nz\nM 11.71875 51.703125 \nL 22.015625 51.703125 \nL 22.015625 39.3125 \nL 11.71875 39.3125 \nz\n\" id=\"DejaVuSans-58\"/>\n     <path d=\"M 8.203125 72.90625 \nL 55.078125 72.90625 \nL 55.078125 68.703125 \nL 28.609375 0 \nL 18.3125 0 \nL 43.21875 64.59375 \nL 8.203125 64.59375 \nz\n\" id=\"DejaVuSans-55\"/>\n    </defs>\n    <g transform=\"translate(40.50409 14.798437)scale(0.1 -0.1)\">\n     <use xlink:href=\"#DejaVuSans-84\"/>\n     <use x=\"46.333984\" xlink:href=\"#DejaVuSans-114\"/>\n     <use x=\"87.447266\" xlink:href=\"#DejaVuSans-117\"/>\n     <use x=\"150.826172\" xlink:href=\"#DejaVuSans-101\"/>\n     <use x=\"212.349609\" xlink:href=\"#DejaVuSans-32\"/>\n     <use x=\"244.136719\" xlink:href=\"#DejaVuSans-108\"/>\n     <use x=\"271.919922\" xlink:href=\"#DejaVuSans-97\"/>\n     <use x=\"333.199219\" xlink:href=\"#DejaVuSans-98\"/>\n     <use x=\"396.675781\" xlink:href=\"#DejaVuSans-101\"/>\n     <use x=\"458.199219\" xlink:href=\"#DejaVuSans-108\"/>\n     <use x=\"485.982422\" xlink:href=\"#DejaVuSans-58\"/>\n     <use x=\"519.673828\" xlink:href=\"#DejaVuSans-32\"/>\n     <use x=\"551.460938\" xlink:href=\"#DejaVuSans-55\"/>\n     <use x=\"615.083984\" xlink:href=\"#DejaVuSans-32\"/>\n    </g>\n    <!--  Predicted label: 9 -->\n    <defs>\n     <path d=\"M 19.671875 64.796875 \nL 19.671875 37.40625 \nL 32.078125 37.40625 \nQ 38.96875 37.40625 42.71875 40.96875 \nQ 46.484375 44.53125 46.484375 51.125 \nQ 46.484375 57.671875 42.71875 61.234375 \nQ 38.96875 64.796875 32.078125 64.796875 \nz\nM 9.8125 72.90625 \nL 32.078125 72.90625 \nQ 44.34375 72.90625 50.609375 67.359375 \nQ 56.890625 61.8125 56.890625 51.125 \nQ 56.890625 40.328125 50.609375 34.8125 \nQ 44.34375 29.296875 32.078125 29.296875 \nL 19.671875 29.296875 \nL 19.671875 0 \nL 9.8125 0 \nz\n\" id=\"DejaVuSans-80\"/>\n     <path d=\"M 45.40625 46.390625 \nL 45.40625 75.984375 \nL 54.390625 75.984375 \nL 54.390625 0 \nL 45.40625 0 \nL 45.40625 8.203125 \nQ 42.578125 3.328125 38.25 0.953125 \nQ 33.9375 -1.421875 27.875 -1.421875 \nQ 17.96875 -1.421875 11.734375 6.484375 \nQ 5.515625 14.40625 5.515625 27.296875 \nQ 5.515625 40.1875 11.734375 48.09375 \nQ 17.96875 56 27.875 56 \nQ 33.9375 56 38.25 53.625 \nQ 42.578125 51.265625 45.40625 46.390625 \nz\nM 14.796875 27.296875 \nQ 14.796875 17.390625 18.875 11.75 \nQ 22.953125 6.109375 30.078125 6.109375 \nQ 37.203125 6.109375 41.296875 11.75 \nQ 45.40625 17.390625 45.40625 27.296875 \nQ 45.40625 37.203125 41.296875 42.84375 \nQ 37.203125 48.484375 30.078125 48.484375 \nQ 22.953125 48.484375 18.875 42.84375 \nQ 14.796875 37.203125 14.796875 27.296875 \nz\n\" id=\"DejaVuSans-100\"/>\n     <path d=\"M 9.421875 54.6875 \nL 18.40625 54.6875 \nL 18.40625 0 \nL 9.421875 0 \nz\nM 9.421875 75.984375 \nL 18.40625 75.984375 \nL 18.40625 64.59375 \nL 9.421875 64.59375 \nz\n\" id=\"DejaVuSans-105\"/>\n     <path d=\"M 48.78125 52.59375 \nL 48.78125 44.1875 \nQ 44.96875 46.296875 41.140625 47.34375 \nQ 37.3125 48.390625 33.40625 48.390625 \nQ 24.65625 48.390625 19.8125 42.84375 \nQ 14.984375 37.3125 14.984375 27.296875 \nQ 14.984375 17.28125 19.8125 11.734375 \nQ 24.65625 6.203125 33.40625 6.203125 \nQ 37.3125 6.203125 41.140625 7.25 \nQ 44.96875 8.296875 48.78125 10.40625 \nL 48.78125 2.09375 \nQ 45.015625 0.34375 40.984375 -0.53125 \nQ 36.96875 -1.421875 32.421875 -1.421875 \nQ 20.0625 -1.421875 12.78125 6.34375 \nQ 5.515625 14.109375 5.515625 27.296875 \nQ 5.515625 40.671875 12.859375 48.328125 \nQ 20.21875 56 33.015625 56 \nQ 37.15625 56 41.109375 55.140625 \nQ 45.0625 54.296875 48.78125 52.59375 \nz\n\" id=\"DejaVuSans-99\"/>\n     <path d=\"M 18.3125 70.21875 \nL 18.3125 54.6875 \nL 36.8125 54.6875 \nL 36.8125 47.703125 \nL 18.3125 47.703125 \nL 18.3125 18.015625 \nQ 18.3125 11.328125 20.140625 9.421875 \nQ 21.96875 7.515625 27.59375 7.515625 \nL 36.8125 7.515625 \nL 36.8125 0 \nL 27.59375 0 \nQ 17.1875 0 13.234375 3.875 \nQ 9.28125 7.765625 9.28125 18.015625 \nL 9.28125 47.703125 \nL 2.6875 47.703125 \nL 2.6875 54.6875 \nL 9.28125 54.6875 \nL 9.28125 70.21875 \nz\n\" id=\"DejaVuSans-116\"/>\n     <path d=\"M 10.984375 1.515625 \nL 10.984375 10.5 \nQ 14.703125 8.734375 18.5 7.8125 \nQ 22.3125 6.890625 25.984375 6.890625 \nQ 35.75 6.890625 40.890625 13.453125 \nQ 46.046875 20.015625 46.78125 33.40625 \nQ 43.953125 29.203125 39.59375 26.953125 \nQ 35.25 24.703125 29.984375 24.703125 \nQ 19.046875 24.703125 12.671875 31.3125 \nQ 6.296875 37.9375 6.296875 49.421875 \nQ 6.296875 60.640625 12.9375 67.421875 \nQ 19.578125 74.21875 30.609375 74.21875 \nQ 43.265625 74.21875 49.921875 64.515625 \nQ 56.59375 54.828125 56.59375 36.375 \nQ 56.59375 19.140625 48.40625 8.859375 \nQ 40.234375 -1.421875 26.421875 -1.421875 \nQ 22.703125 -1.421875 18.890625 -0.6875 \nQ 15.09375 0.046875 10.984375 1.515625 \nz\nM 30.609375 32.421875 \nQ 37.25 32.421875 41.125 36.953125 \nQ 45.015625 41.5 45.015625 49.421875 \nQ 45.015625 57.28125 41.125 61.84375 \nQ 37.25 66.40625 30.609375 66.40625 \nQ 23.96875 66.40625 20.09375 61.84375 \nQ 16.21875 57.28125 16.21875 49.421875 \nQ 16.21875 41.5 20.09375 36.953125 \nQ 23.96875 32.421875 30.609375 32.421875 \nz\n\" id=\"DejaVuSans-57\"/>\n    </defs>\n    <g transform=\"translate(27.650965 25.99625)scale(0.1 -0.1)\">\n     <use xlink:href=\"#DejaVuSans-32\"/>\n     <use x=\"31.787109\" xlink:href=\"#DejaVuSans-80\"/>\n     <use x=\"90.339844\" xlink:href=\"#DejaVuSans-114\"/>\n     <use x=\"129.203125\" xlink:href=\"#DejaVuSans-101\"/>\n     <use x=\"190.726562\" xlink:href=\"#DejaVuSans-100\"/>\n     <use x=\"254.203125\" xlink:href=\"#DejaVuSans-105\"/>\n     <use x=\"281.986328\" xlink:href=\"#DejaVuSans-99\"/>\n     <use x=\"336.966797\" xlink:href=\"#DejaVuSans-116\"/>\n     <use x=\"376.175781\" xlink:href=\"#DejaVuSans-101\"/>\n     <use x=\"437.699219\" xlink:href=\"#DejaVuSans-100\"/>\n     <use x=\"501.175781\" xlink:href=\"#DejaVuSans-32\"/>\n     <use x=\"532.962891\" xlink:href=\"#DejaVuSans-108\"/>\n     <use x=\"560.746094\" xlink:href=\"#DejaVuSans-97\"/>\n     <use x=\"622.025391\" xlink:href=\"#DejaVuSans-98\"/>\n     <use x=\"685.501953\" xlink:href=\"#DejaVuSans-101\"/>\n     <use x=\"747.025391\" xlink:href=\"#DejaVuSans-108\"/>\n     <use x=\"774.808594\" xlink:href=\"#DejaVuSans-58\"/>\n     <use x=\"808.5\" xlink:href=\"#DejaVuSans-32\"/>\n     <use x=\"840.287109\" xlink:href=\"#DejaVuSans-57\"/>\n    </g>\n   </g>\n  </g>\n  <g id=\"axes_2\">\n   <g clip-path=\"url(#p736de80912)\">\n    <image height=\"132\" id=\"image9f226fa738\" transform=\"scale(1 -1)translate(0 -132)\" width=\"132\" x=\"164.752941\" xlink:href=\"data:image/png;base64,\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\" y=\"-31.290368\"/>\n   </g>\n   <g id=\"text_2\">\n    <!-- Class Activation Map -->\n    <defs>\n     <path d=\"M 64.40625 67.28125 \nL 64.40625 56.890625 \nQ 59.421875 61.53125 53.78125 63.8125 \nQ 48.140625 66.109375 41.796875 66.109375 \nQ 29.296875 66.109375 22.65625 58.46875 \nQ 16.015625 50.828125 16.015625 36.375 \nQ 16.015625 21.96875 22.65625 14.328125 \nQ 29.296875 6.6875 41.796875 6.6875 \nQ 48.140625 6.6875 53.78125 8.984375 \nQ 59.421875 11.28125 64.40625 15.921875 \nL 64.40625 5.609375 \nQ 59.234375 2.09375 53.4375 0.328125 \nQ 47.65625 -1.421875 41.21875 -1.421875 \nQ 24.65625 -1.421875 15.125 8.703125 \nQ 5.609375 18.84375 5.609375 36.375 \nQ 5.609375 53.953125 15.125 64.078125 \nQ 24.65625 74.21875 41.21875 74.21875 \nQ 47.75 74.21875 53.53125 72.484375 \nQ 59.328125 70.75 64.40625 67.28125 \nz\n\" id=\"DejaVuSans-67\"/>\n     <path d=\"M 44.28125 53.078125 \nL 44.28125 44.578125 \nQ 40.484375 46.53125 36.375 47.5 \nQ 32.28125 48.484375 27.875 48.484375 \nQ 21.1875 48.484375 17.84375 46.4375 \nQ 14.5 44.390625 14.5 40.28125 \nQ 14.5 37.15625 16.890625 35.375 \nQ 19.28125 33.59375 26.515625 31.984375 \nL 29.59375 31.296875 \nQ 39.15625 29.25 43.1875 25.515625 \nQ 47.21875 21.78125 47.21875 15.09375 \nQ 47.21875 7.46875 41.1875 3.015625 \nQ 35.15625 -1.421875 24.609375 -1.421875 \nQ 20.21875 -1.421875 15.453125 -0.5625 \nQ 10.6875 0.296875 5.421875 2 \nL 5.421875 11.28125 \nQ 10.40625 8.6875 15.234375 7.390625 \nQ 20.0625 6.109375 24.8125 6.109375 \nQ 31.15625 6.109375 34.5625 8.28125 \nQ 37.984375 10.453125 37.984375 14.40625 \nQ 37.984375 18.0625 35.515625 20.015625 \nQ 33.0625 21.96875 24.703125 23.78125 \nL 21.578125 24.515625 \nQ 13.234375 26.265625 9.515625 29.90625 \nQ 5.8125 33.546875 5.8125 39.890625 \nQ 5.8125 47.609375 11.28125 51.796875 \nQ 16.75 56 26.8125 56 \nQ 31.78125 56 36.171875 55.265625 \nQ 40.578125 54.546875 44.28125 53.078125 \nz\n\" id=\"DejaVuSans-115\"/>\n     <path d=\"M 34.1875 63.1875 \nL 20.796875 26.90625 \nL 47.609375 26.90625 \nz\nM 28.609375 72.90625 \nL 39.796875 72.90625 \nL 67.578125 0 \nL 57.328125 0 \nL 50.6875 18.703125 \nL 17.828125 18.703125 \nL 11.1875 0 \nL 0.78125 0 \nz\n\" id=\"DejaVuSans-65\"/>\n     <path d=\"M 2.984375 54.6875 \nL 12.5 54.6875 \nL 29.59375 8.796875 \nL 46.6875 54.6875 \nL 56.203125 54.6875 \nL 35.6875 0 \nL 23.484375 0 \nz\n\" id=\"DejaVuSans-118\"/>\n     <path d=\"M 30.609375 48.390625 \nQ 23.390625 48.390625 19.1875 42.75 \nQ 14.984375 37.109375 14.984375 27.296875 \nQ 14.984375 17.484375 19.15625 11.84375 \nQ 23.34375 6.203125 30.609375 6.203125 \nQ 37.796875 6.203125 41.984375 11.859375 \nQ 46.1875 17.53125 46.1875 27.296875 \nQ 46.1875 37.015625 41.984375 42.703125 \nQ 37.796875 48.390625 30.609375 48.390625 \nz\nM 30.609375 56 \nQ 42.328125 56 49.015625 48.375 \nQ 55.71875 40.765625 55.71875 27.296875 \nQ 55.71875 13.875 49.015625 6.21875 \nQ 42.328125 -1.421875 30.609375 -1.421875 \nQ 18.84375 -1.421875 12.171875 6.21875 \nQ 5.515625 13.875 5.515625 27.296875 \nQ 5.515625 40.765625 12.171875 48.375 \nQ 18.84375 56 30.609375 56 \nz\n\" id=\"DejaVuSans-111\"/>\n     <path d=\"M 54.890625 33.015625 \nL 54.890625 0 \nL 45.90625 0 \nL 45.90625 32.71875 \nQ 45.90625 40.484375 42.875 44.328125 \nQ 39.84375 48.1875 33.796875 48.1875 \nQ 26.515625 48.1875 22.3125 43.546875 \nQ 18.109375 38.921875 18.109375 30.90625 \nL 18.109375 0 \nL 9.078125 0 \nL 9.078125 54.6875 \nL 18.109375 54.6875 \nL 18.109375 46.1875 \nQ 21.34375 51.125 25.703125 53.5625 \nQ 30.078125 56 35.796875 56 \nQ 45.21875 56 50.046875 50.171875 \nQ 54.890625 44.34375 54.890625 33.015625 \nz\n\" id=\"DejaVuSans-110\"/>\n     <path d=\"M 9.8125 72.90625 \nL 24.515625 72.90625 \nL 43.109375 23.296875 \nL 61.8125 72.90625 \nL 76.515625 72.90625 \nL 76.515625 0 \nL 66.890625 0 \nL 66.890625 64.015625 \nL 48.09375 14.015625 \nL 38.1875 14.015625 \nL 19.390625 64.015625 \nL 19.390625 0 \nL 9.8125 0 \nz\n\" id=\"DejaVuSans-77\"/>\n     <path d=\"M 18.109375 8.203125 \nL 18.109375 -20.796875 \nL 9.078125 -20.796875 \nL 9.078125 54.6875 \nL 18.109375 54.6875 \nL 18.109375 46.390625 \nQ 20.953125 51.265625 25.265625 53.625 \nQ 29.59375 56 35.59375 56 \nQ 45.5625 56 51.78125 48.09375 \nQ 58.015625 40.1875 58.015625 27.296875 \nQ 58.015625 14.40625 51.78125 6.484375 \nQ 45.5625 -1.421875 35.59375 -1.421875 \nQ 29.59375 -1.421875 25.265625 0.953125 \nQ 20.953125 3.328125 18.109375 8.203125 \nz\nM 48.6875 27.296875 \nQ 48.6875 37.203125 44.609375 42.84375 \nQ 40.53125 48.484375 33.40625 48.484375 \nQ 26.265625 48.484375 22.1875 42.84375 \nQ 18.109375 37.203125 18.109375 27.296875 \nQ 18.109375 17.390625 22.1875 11.75 \nQ 26.265625 6.109375 33.40625 6.109375 \nQ 40.53125 6.109375 44.609375 11.75 \nQ 48.6875 17.390625 48.6875 27.296875 \nz\n\" id=\"DejaVuSans-112\"/>\n    </defs>\n    <g transform=\"translate(178.483594 25.99625)scale(0.1 -0.1)\">\n     <use xlink:href=\"#DejaVuSans-67\"/>\n     <use x=\"69.824219\" xlink:href=\"#DejaVuSans-108\"/>\n     <use x=\"97.607422\" xlink:href=\"#DejaVuSans-97\"/>\n     <use x=\"158.886719\" xlink:href=\"#DejaVuSans-115\"/>\n     <use x=\"210.986328\" xlink:href=\"#DejaVuSans-115\"/>\n     <use x=\"263.085938\" xlink:href=\"#DejaVuSans-32\"/>\n     <use x=\"294.873047\" xlink:href=\"#DejaVuSans-65\"/>\n     <use x=\"361.53125\" xlink:href=\"#DejaVuSans-99\"/>\n     <use x=\"416.511719\" xlink:href=\"#DejaVuSans-116\"/>\n     <use x=\"455.720703\" xlink:href=\"#DejaVuSans-105\"/>\n     <use x=\"483.503906\" xlink:href=\"#DejaVuSans-118\"/>\n     <use x=\"542.683594\" xlink:href=\"#DejaVuSans-97\"/>\n     <use x=\"603.962891\" xlink:href=\"#DejaVuSans-116\"/>\n     <use x=\"643.171875\" xlink:href=\"#DejaVuSans-105\"/>\n     <use x=\"670.955078\" xlink:href=\"#DejaVuSans-111\"/>\n     <use x=\"732.136719\" xlink:href=\"#DejaVuSans-110\"/>\n     <use x=\"795.515625\" xlink:href=\"#DejaVuSans-32\"/>\n     <use x=\"827.302734\" xlink:href=\"#DejaVuSans-77\"/>\n     <use x=\"913.582031\" xlink:href=\"#DejaVuSans-97\"/>\n     <use x=\"974.861328\" xlink:href=\"#DejaVuSans-112\"/>\n    </g>\n   </g>\n  </g>\n  <g id=\"axes_3\">\n   <g clip-path=\"url(#p88279ea9d2)\">\n    <image height=\"132\" id=\"image0199cb0bc5\" transform=\"scale(1 -1)translate(0 -132)\" width=\"132\" x=\"322.305882\" xlink:href=\"data:image/png;base64,\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\" y=\"-31.290368\"/>\n   </g>\n   <g id=\"text_3\">\n    <!-- Activation Map Superimposed -->\n    <defs>\n     <path d=\"M 53.515625 70.515625 \nL 53.515625 60.890625 \nQ 47.90625 63.578125 42.921875 64.890625 \nQ 37.9375 66.21875 33.296875 66.21875 \nQ 25.25 66.21875 20.875 63.09375 \nQ 16.5 59.96875 16.5 54.203125 \nQ 16.5 49.359375 19.40625 46.890625 \nQ 22.3125 44.4375 30.421875 42.921875 \nL 36.375 41.703125 \nQ 47.40625 39.59375 52.65625 34.296875 \nQ 57.90625 29 57.90625 20.125 \nQ 57.90625 9.515625 50.796875 4.046875 \nQ 43.703125 -1.421875 29.984375 -1.421875 \nQ 24.8125 -1.421875 18.96875 -0.25 \nQ 13.140625 0.921875 6.890625 3.21875 \nL 6.890625 13.375 \nQ 12.890625 10.015625 18.65625 8.296875 \nQ 24.421875 6.59375 29.984375 6.59375 \nQ 38.421875 6.59375 43.015625 9.90625 \nQ 47.609375 13.234375 47.609375 19.390625 \nQ 47.609375 24.75 44.3125 27.78125 \nQ 41.015625 30.8125 33.5 32.328125 \nL 27.484375 33.5 \nQ 16.453125 35.6875 11.515625 40.375 \nQ 6.59375 45.0625 6.59375 53.421875 \nQ 6.59375 63.09375 13.40625 68.65625 \nQ 20.21875 74.21875 32.171875 74.21875 \nQ 37.3125 74.21875 42.625 73.28125 \nQ 47.953125 72.359375 53.515625 70.515625 \nz\n\" id=\"DejaVuSans-83\"/>\n     <path d=\"M 52 44.1875 \nQ 55.375 50.25 60.0625 53.125 \nQ 64.75 56 71.09375 56 \nQ 79.640625 56 84.28125 50.015625 \nQ 88.921875 44.046875 88.921875 33.015625 \nL 88.921875 0 \nL 79.890625 0 \nL 79.890625 32.71875 \nQ 79.890625 40.578125 77.09375 44.375 \nQ 74.3125 48.1875 68.609375 48.1875 \nQ 61.625 48.1875 57.5625 43.546875 \nQ 53.515625 38.921875 53.515625 30.90625 \nL 53.515625 0 \nL 44.484375 0 \nL 44.484375 32.71875 \nQ 44.484375 40.625 41.703125 44.40625 \nQ 38.921875 48.1875 33.109375 48.1875 \nQ 26.21875 48.1875 22.15625 43.53125 \nQ 18.109375 38.875 18.109375 30.90625 \nL 18.109375 0 \nL 9.078125 0 \nL 9.078125 54.6875 \nL 18.109375 54.6875 \nL 18.109375 46.1875 \nQ 21.1875 51.21875 25.484375 53.609375 \nQ 29.78125 56 35.6875 56 \nQ 41.65625 56 45.828125 52.96875 \nQ 50 49.953125 52 44.1875 \nz\n\" id=\"DejaVuSans-109\"/>\n    </defs>\n    <g transform=\"translate(313.192785 25.99625)scale(0.1 -0.1)\">\n     <use xlink:href=\"#DejaVuSans-65\"/>\n     <use x=\"66.658203\" xlink:href=\"#DejaVuSans-99\"/>\n     <use x=\"121.638672\" xlink:href=\"#DejaVuSans-116\"/>\n     <use x=\"160.847656\" xlink:href=\"#DejaVuSans-105\"/>\n     <use x=\"188.630859\" xlink:href=\"#DejaVuSans-118\"/>\n     <use x=\"247.810547\" xlink:href=\"#DejaVuSans-97\"/>\n     <use x=\"309.089844\" xlink:href=\"#DejaVuSans-116\"/>\n     <use x=\"348.298828\" xlink:href=\"#DejaVuSans-105\"/>\n     <use x=\"376.082031\" xlink:href=\"#DejaVuSans-111\"/>\n     <use x=\"437.263672\" xlink:href=\"#DejaVuSans-110\"/>\n     <use x=\"500.642578\" xlink:href=\"#DejaVuSans-32\"/>\n     <use x=\"532.429688\" xlink:href=\"#DejaVuSans-77\"/>\n     <use x=\"618.708984\" xlink:href=\"#DejaVuSans-97\"/>\n     <use x=\"679.988281\" xlink:href=\"#DejaVuSans-112\"/>\n     <use x=\"743.464844\" xlink:href=\"#DejaVuSans-32\"/>\n     <use x=\"775.251953\" xlink:href=\"#DejaVuSans-83\"/>\n     <use x=\"838.728516\" xlink:href=\"#DejaVuSans-117\"/>\n     <use x=\"902.107422\" xlink:href=\"#DejaVuSans-112\"/>\n     <use x=\"965.583984\" xlink:href=\"#DejaVuSans-101\"/>\n     <use x=\"1027.107422\" xlink:href=\"#DejaVuSans-114\"/>\n     <use x=\"1068.220703\" xlink:href=\"#DejaVuSans-105\"/>\n     <use x=\"1096.003906\" xlink:href=\"#DejaVuSans-109\"/>\n     <use x=\"1193.416016\" xlink:href=\"#DejaVuSans-112\"/>\n     <use x=\"1256.892578\" xlink:href=\"#DejaVuSans-111\"/>\n     <use x=\"1318.074219\" xlink:href=\"#DejaVuSans-115\"/>\n     <use x=\"1370.173828\" xlink:href=\"#DejaVuSans-101\"/>\n     <use x=\"1431.697266\" xlink:href=\"#DejaVuSans-100\"/>\n    </g>\n   </g>\n  </g>\n </g>\n <defs>\n  <clipPath id=\"p7ce17f2422\">\n   <rect height=\"131.294118\" width=\"131.294118\" x=\"7.2\" y=\"31.99625\"/>\n  </clipPath>\n  <clipPath id=\"p736de80912\">\n   <rect height=\"131.294118\" width=\"131.294118\" x=\"164.752941\" y=\"31.99625\"/>\n  </clipPath>\n  <clipPath id=\"p88279ea9d2\">\n   <rect height=\"131.294118\" width=\"131.294118\" x=\"322.305882\" y=\"31.99625\"/>\n  </clipPath>\n </defs>\n</svg>\n"
          },
          "metadata": {
            "needs_background": "light"
          }
        }
      ],
      "source": [
        "# select the sample and read the corresponding image and label\n",
        "sample_image = cv2.imread(valid_df.iloc[idx]['image'])\n",
        "sample_image = cv2.cvtColor(sample_image, cv2.COLOR_BGR2RGB)\n",
        "sample_image = cv2.resize(sample_image, (img_rows, img_cols))\n",
        "sample_label = valid_df.iloc[idx][\"label\"]\n",
        "\n",
        "# pre-process the image\n",
        "sample_image_processed = np.expand_dims(sample_image, axis=0)\n",
        "sample_image_processed = preprocess_input(sample_image_processed)\n",
        "\n",
        "# get the label predicted by our original model\n",
        "pred_label = np.argmax(model.predict(sample_image_processed), axis=-1)[0]\n",
        "\n",
        "# get the heatmap for class activation map(CAM)\n",
        "heatmap = get_CAM(sample_image_processed, pred_label)\n",
        "heatmap = cv2.resize(heatmap, (sample_image.shape[0], sample_image.shape[1]))\n",
        "heatmap = heatmap *255\n",
        "heatmap = np.clip(heatmap, 0, 255).astype(np.uint8)\n",
        "heatmap = cv2.applyColorMap(heatmap, cv2.COLORMAP_JET)\n",
        "super_imposed_image = heatmap * 0.5 + sample_image\n",
        "super_imposed_image = np.clip(super_imposed_image, 0,255).astype(np.uint8)\n",
        "\n",
        "# Ploting\n",
        "fontsize = 10\n",
        "fig, axes = plt.subplots( 1, 3, figsize=( 8, 8 ) )\n",
        "axes[0].set_title( f'True label: {sample_label} \\n Predicted label: {pred_label}',\n",
        "                  fontsize = fontsize )\n",
        "axes[0].axis('off')\n",
        "axes[0].imshow( sample_image )\n",
        "\n",
        "axes[1].set_title( f'Class Activation Map',\n",
        "                  fontsize = fontsize )\n",
        "axes[1].axis('off')\n",
        "axes[1].imshow( heatmap )\n",
        "\n",
        "axes[2].set_title( f'Activation Map Superimposed',\n",
        "                  fontsize = fontsize )\n",
        "axes[2].axis('off')\n",
        "axes[2].imshow( super_imposed_image )\n",
        "plt.show()\n",
        "\n",
        "# # Plot just CAM of the layer\n",
        "# plt.figure( figsize=(2, 2) )\n",
        "# plt.title( f'Class Activation Map - Layer: {layer}' )\n",
        "# plt.imshow( heatmap )\n",
        "# plt.show()"
      ]
    }
  ],
  "metadata": {
    "accelerator": "GPU",
    "colab": {
      "provenance": [],
      "machine_shape": "hm"
    },
    "gpuClass": "premium",
    "kernelspec": {
      "display_name": "Python 3",
      "language": "python",
      "name": "python3"
    },
    "language_info": {
      "codemirror_mode": {
        "name": "ipython",
        "version": 3
      },
      "file_extension": ".py",
      "mimetype": "text/x-python",
      "name": "python",
      "nbconvert_exporter": "python",
      "pygments_lexer": "ipython3",
      "version": "3.6.6"
    }
  },
  "nbformat": 4,
  "nbformat_minor": 0
}