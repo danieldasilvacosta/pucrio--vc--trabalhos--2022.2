{
  "nbformat": 4,
  "nbformat_minor": 0,
  "metadata": {
    "colab": {
      "provenance": [],
      "collapsed_sections": [],
      "toc_visible": true
    },
    "kernelspec": {
      "name": "python3",
      "display_name": "Python 3"
    },
    "language_info": {
      "name": "python"
    }
  },
  "cells": [
    {
      "cell_type": "markdown",
      "source": [
        "# Trabalho 3\n",
        "Descrição do trabalho:\n",
        "\n",
        "http://webserver2.tecgraf.puc-rio.br/~mgattass/visao/trb/T3.html\n",
        "\n",
        "Aluno: Daniel da Silva Costa\n",
        "\n",
        "E-mail: danieldasilvacosta@gmail.com"
      ],
      "metadata": {
        "id": "yRPDSJgl5066"
      }
    },
    {
      "cell_type": "markdown",
      "source": [
        "### Imports"
      ],
      "metadata": {
        "id": "kXpKGbGz8FJ7"
      }
    },
    {
      "cell_type": "code",
      "source": [
        "import numpy as np\n",
        "import matplotlib.pyplot as plt\n",
        "from matplotlib import pyplot\n",
        "from mpl_toolkits.mplot3d import Axes3D\n",
        "import time\n",
        "from keras.datasets import mnist\n",
        "from keras.utils import np_utils\n",
        "from sklearn import metrics\n",
        "import pandas as pd"
      ],
      "metadata": {
        "id": "O9jx1Ztl8ID7"
      },
      "execution_count": 1,
      "outputs": []
    },
    {
      "cell_type": "markdown",
      "source": [
        "### Using the Numpy"
      ],
      "metadata": {
        "id": "8JHDwTgFsMeT"
      }
    },
    {
      "cell_type": "markdown",
      "source": [
        "#### Loss Functions"
      ],
      "metadata": {
        "id": "m71Mxp2ivWRp"
      }
    },
    {
      "cell_type": "code",
      "source": [
        "def mse(y_true, y_pred):\n",
        "    return np.mean(np.power(y_true - y_pred, 2))\n",
        "\n",
        "def mse_prime(y_true, y_pred):\n",
        "    return 2 * (y_pred - y_true) / np.size(y_true)\n",
        "\n",
        "def binary_cross_entropy(y_true, y_pred):\n",
        "    return np.mean(-y_true * np.log(y_pred) - (1 - y_true) * np.log(1 - y_pred))\n",
        "\n",
        "def binary_cross_entropy_prime(y_true, y_pred):\n",
        "    return ((1 - y_true) / (1 - y_pred) - y_true / y_pred) / np.size(y_true)"
      ],
      "metadata": {
        "id": "ZCJ9iEfmtGmV"
      },
      "execution_count": 15,
      "outputs": []
    },
    {
      "cell_type": "markdown",
      "source": [
        "#### Layer"
      ],
      "metadata": {
        "id": "_6sFXydFvYuF"
      }
    },
    {
      "cell_type": "code",
      "source": [
        "class Layer:\n",
        "    def __init__(self):\n",
        "        self.input = None\n",
        "        self.output = None\n",
        "\n",
        "    def forward(self, input):\n",
        "        # TODO: return output\n",
        "        pass\n",
        "\n",
        "    def backward(self, output_gradient, learning_rate):\n",
        "        # TODO: update parameters and return input gradient\n",
        "        pass"
      ],
      "metadata": {
        "id": "q9tc-xPLtCyd"
      },
      "execution_count": 16,
      "outputs": []
    },
    {
      "cell_type": "markdown",
      "source": [
        "#### Activation Functions"
      ],
      "metadata": {
        "id": "A1YmoLev8onL"
      }
    },
    {
      "cell_type": "code",
      "source": [
        "def tanh(x):\n",
        "  return np.tanh(x)\n",
        "\n",
        "def tanh_prime(x):\n",
        "  return 1 - np.tanh(x) ** 2"
      ],
      "metadata": {
        "id": "KRJwZb3LzaD0"
      },
      "execution_count": 17,
      "outputs": []
    },
    {
      "cell_type": "code",
      "source": [
        "def sigmoid(x):\n",
        "  return 1/(1+np.exp(-x))\n",
        "\n",
        "def sigmoid_prime(x):\n",
        "  s = 1/(1+np.exp(-x))\n",
        "  ds = s*(1-s)\n",
        "  return ds"
      ],
      "metadata": {
        "id": "LH-43l1N6SoO"
      },
      "execution_count": 18,
      "outputs": []
    },
    {
      "cell_type": "code",
      "source": [
        "def relu(x):\n",
        "  return np.maximum(0,x)\n",
        "\n",
        "def relu_prime(x):\n",
        "  return (x>0).astype(x.dtype)"
      ],
      "metadata": {
        "id": "Dg0ucoe06SoO"
      },
      "execution_count": 19,
      "outputs": []
    },
    {
      "cell_type": "markdown",
      "source": [
        "#### Activation(Layer)"
      ],
      "metadata": {
        "id": "j1apvwBWvcs5"
      }
    },
    {
      "cell_type": "code",
      "source": [
        "class Activation(Layer):\n",
        "    def __init__(self, activation, activation_prime):\n",
        "        self.activation = activation\n",
        "        self.activation_prime = activation_prime\n",
        "\n",
        "    def forward(self, input):\n",
        "        self.input = input\n",
        "        return self.activation(self.input)\n",
        "\n",
        "    def backward(self, output_gradient, learning_rate):\n",
        "        return np.multiply(output_gradient, self.activation_prime(self.input))"
      ],
      "metadata": {
        "id": "l1pBLTS1t-hV"
      },
      "execution_count": 20,
      "outputs": []
    },
    {
      "cell_type": "markdown",
      "source": [
        "#### Dense(Layer)"
      ],
      "metadata": {
        "id": "E7ekyuq5vhIb"
      }
    },
    {
      "cell_type": "code",
      "source": [
        "class Dense(Layer):\n",
        "    def __init__(self, input_size, output_size):\n",
        "        self.weights = np.random.randn(output_size, input_size)\n",
        "        self.bias = np.random.randn(output_size, 1)\n",
        "\n",
        "    def forward(self, input):\n",
        "        self.input = input\n",
        "        return np.dot(self.weights, self.input) + self.bias\n",
        "\n",
        "    def backward(self, output_gradient, learning_rate):\n",
        "        weights_gradient = np.dot(output_gradient, self.input.T)\n",
        "        input_gradient = np.dot(self.weights.T, output_gradient)\n",
        "        self.weights -= learning_rate * weights_gradient\n",
        "        self.bias -= learning_rate * output_gradient\n",
        "        return input_gradient "
      ],
      "metadata": {
        "id": "jnwqfgZ1sOug"
      },
      "execution_count": 22,
      "outputs": []
    },
    {
      "cell_type": "markdown",
      "source": [
        "#### predict(...)"
      ],
      "metadata": {
        "id": "d3u673AxvoRy"
      }
    },
    {
      "cell_type": "code",
      "source": [
        "def predict(network, input):\n",
        "    output = input\n",
        "    for layer in network:\n",
        "        output = layer.forward(output)\n",
        "    return output"
      ],
      "metadata": {
        "id": "FwUcSfQ8sO0S"
      },
      "execution_count": 23,
      "outputs": []
    },
    {
      "cell_type": "markdown",
      "source": [
        "#### train(...)"
      ],
      "metadata": {
        "id": "1ed25mo3vkfg"
      }
    },
    {
      "cell_type": "code",
      "source": [
        "def train(network, loss, loss_prime, x_train, y_train, epochs = 1000, learning_rate = 0.01, verbose = True):\n",
        "    for e in range(epochs):\n",
        "        error = 0\n",
        "        for x, y in zip(x_train, y_train):\n",
        "            # forward\n",
        "            output = predict(network, x)\n",
        "\n",
        "            # error\n",
        "            error += loss(y, output)\n",
        "\n",
        "            # backward\n",
        "            grad = loss_prime(y, output)\n",
        "            for layer in reversed(network):\n",
        "                grad = layer.backward(grad, learning_rate)\n",
        "\n",
        "        error /= len(x_train)\n",
        "        if verbose:\n",
        "            if e % 100 == 0:\n",
        "                print(f\"{e}/{epochs}, error={error:.3}\")"
      ],
      "metadata": {
        "id": "RSvHgQcAsOwb"
      },
      "execution_count": 24,
      "outputs": []
    },
    {
      "cell_type": "markdown",
      "source": [
        "#### Example: XOR"
      ],
      "metadata": {
        "id": "VBi2gzj2tqRp"
      }
    },
    {
      "cell_type": "code",
      "source": [
        "%%time\n",
        "\n",
        "X = np.reshape([[0, 0], [0, 1], [1, 0], [1, 1]], (4, 2, 1))\n",
        "Y = np.reshape([[0], [1], [1], [0]], (4, 1, 1))\n",
        "\n",
        "network = [\n",
        "    Dense(input_size = 2, \n",
        "          output_size = 3),\n",
        "    Activation(activation = tanh, \n",
        "               activation_prime = tanh_prime),\n",
        "    Dense(input_size = 3, \n",
        "          output_size = 1),\n",
        "    Activation(activation = tanh,\n",
        "               activation_prime = tanh_prime),\n",
        "]\n",
        "\n",
        "train(\n",
        "    network, \n",
        "    mse, \n",
        "    mse_prime, \n",
        "    X, \n",
        "    Y, \n",
        "    epochs=10000, \n",
        "    learning_rate=0.1)"
      ],
      "metadata": {
        "colab": {
          "base_uri": "https://localhost:8080/"
        },
        "id": "tBaIStgfsO8m",
        "outputId": "9dfd93e9-aadf-4792-8987-e6558e72cfe2"
      },
      "execution_count": 25,
      "outputs": [
        {
          "output_type": "stream",
          "name": "stdout",
          "text": [
            "0/10000, error=1.42\n",
            "100/10000, error=0.216\n",
            "200/10000, error=0.198\n",
            "300/10000, error=0.188\n",
            "400/10000, error=0.0481\n",
            "500/10000, error=0.00219\n",
            "600/10000, error=0.000994\n",
            "700/10000, error=0.000955\n",
            "800/10000, error=0.00101\n",
            "900/10000, error=0.00095\n",
            "1000/10000, error=0.000807\n",
            "1100/10000, error=0.000613\n",
            "1200/10000, error=0.000523\n",
            "1300/10000, error=0.000472\n",
            "1400/10000, error=0.000403\n",
            "1500/10000, error=0.00037\n",
            "1600/10000, error=0.000329\n",
            "1700/10000, error=0.000303\n",
            "1800/10000, error=0.000276\n",
            "1900/10000, error=0.000257\n",
            "2000/10000, error=0.000237\n",
            "2100/10000, error=0.000222\n",
            "2200/10000, error=0.000207\n",
            "2300/10000, error=0.000195\n",
            "2400/10000, error=0.000185\n",
            "2500/10000, error=0.000174\n",
            "2600/10000, error=0.000166\n",
            "2700/10000, error=0.000157\n",
            "2800/10000, error=0.00015\n",
            "2900/10000, error=0.000143\n",
            "3000/10000, error=0.000137\n",
            "3100/10000, error=0.000131\n",
            "3200/10000, error=0.000126\n",
            "3300/10000, error=0.000121\n",
            "3400/10000, error=0.000117\n",
            "3500/10000, error=0.000113\n",
            "3600/10000, error=0.000109\n",
            "3700/10000, error=0.000105\n",
            "3800/10000, error=0.000101\n",
            "3900/10000, error=9.83e-05\n",
            "4000/10000, error=9.52e-05\n",
            "4100/10000, error=9.23e-05\n",
            "4200/10000, error=8.97e-05\n",
            "4300/10000, error=8.71e-05\n",
            "4400/10000, error=8.46e-05\n",
            "4500/10000, error=8.24e-05\n",
            "4600/10000, error=8.02e-05\n",
            "4700/10000, error=7.81e-05\n",
            "4800/10000, error=7.61e-05\n",
            "4900/10000, error=7.43e-05\n",
            "5000/10000, error=7.25e-05\n",
            "5100/10000, error=7.08e-05\n",
            "5200/10000, error=6.92e-05\n",
            "5300/10000, error=6.76e-05\n",
            "5400/10000, error=6.61e-05\n",
            "5500/10000, error=6.47e-05\n",
            "5600/10000, error=6.33e-05\n",
            "5700/10000, error=6.2e-05\n",
            "5800/10000, error=6.07e-05\n",
            "5900/10000, error=5.95e-05\n",
            "6000/10000, error=5.83e-05\n",
            "6100/10000, error=5.72e-05\n",
            "6200/10000, error=5.61e-05\n",
            "6300/10000, error=5.51e-05\n",
            "6400/10000, error=5.41e-05\n",
            "6500/10000, error=5.31e-05\n",
            "6600/10000, error=5.22e-05\n",
            "6700/10000, error=5.13e-05\n",
            "6800/10000, error=5.04e-05\n",
            "6900/10000, error=4.95e-05\n",
            "7000/10000, error=4.87e-05\n",
            "7100/10000, error=4.79e-05\n",
            "7200/10000, error=4.71e-05\n",
            "7300/10000, error=4.64e-05\n",
            "7400/10000, error=4.56e-05\n",
            "7500/10000, error=4.49e-05\n",
            "7600/10000, error=4.43e-05\n",
            "7700/10000, error=4.36e-05\n",
            "7800/10000, error=4.3e-05\n",
            "7900/10000, error=4.23e-05\n",
            "8000/10000, error=4.17e-05\n",
            "8100/10000, error=4.11e-05\n",
            "8200/10000, error=4.05e-05\n",
            "8300/10000, error=4e-05\n",
            "8400/10000, error=3.94e-05\n",
            "8500/10000, error=3.89e-05\n",
            "8600/10000, error=3.84e-05\n",
            "8700/10000, error=3.79e-05\n",
            "8800/10000, error=3.74e-05\n",
            "8900/10000, error=3.69e-05\n",
            "9000/10000, error=3.64e-05\n",
            "9100/10000, error=3.6e-05\n",
            "9200/10000, error=3.55e-05\n",
            "9300/10000, error=3.51e-05\n",
            "9400/10000, error=3.47e-05\n",
            "9500/10000, error=3.43e-05\n",
            "9600/10000, error=3.39e-05\n",
            "9700/10000, error=3.35e-05\n",
            "9800/10000, error=3.31e-05\n",
            "9900/10000, error=3.27e-05\n"
          ]
        }
      ]
    },
    {
      "cell_type": "code",
      "source": [
        "# decision boundary plot\n",
        "points = []\n",
        "for x in np.linspace(0, 1, 20):\n",
        "    for y in np.linspace(0, 1, 20):\n",
        "        z = predict(network, [[x], [y]])\n",
        "        points.append([x, y, z[0,0]])\n",
        "\n",
        "points = np.array(points)\n",
        "\n",
        "fig = plt.figure()\n",
        "ax = fig.add_subplot(111, projection=\"3d\")\n",
        "ax.scatter(points[:, 0], points[:, 1], points[:, 2], c=points[:, 2], cmap=\"winter\")\n",
        "plt.show()"
      ],
      "metadata": {
        "colab": {
          "base_uri": "https://localhost:8080/",
          "height": 248
        },
        "id": "ENzQRzmRsO3M",
        "outputId": "69c953aa-ccfb-4387-a335-0de269d2407f"
      },
      "execution_count": 26,
      "outputs": [
        {
          "output_type": "display_data",
          "data": {
            "text/plain": [
              "<Figure size 432x288 with 1 Axes>"
            ],
            "image/png": "[encoded data removed]"
          },
          "metadata": {
            "needs_background": "light"
          }
        }
      ]
    },
    {
      "cell_type": "markdown",
      "source": [
        "#### Example: MNIST"
      ],
      "metadata": {
        "id": "_OSZUaHL9zUh"
      }
    },
    {
      "cell_type": "code",
      "source": [
        "def preprocess_data(x, y, limit):\n",
        "    # reshape and normalize input data\n",
        "    x = x.reshape(x.shape[0], 28 * 28, 1)\n",
        "    x = x.astype(\"float32\") / 255\n",
        "    # encode output which is a number in range [0,9] into a vector of size 10\n",
        "    # e.g. number 3 will become [0, 0, 0, 1, 0, 0, 0, 0, 0, 0]\n",
        "    y = np_utils.to_categorical(y)\n",
        "    y = y.reshape(y.shape[0], 10, 1)\n",
        "    return x[:limit], y[:limit]"
      ],
      "metadata": {
        "id": "oVQI0CQLsO5_"
      },
      "execution_count": 27,
      "outputs": []
    },
    {
      "cell_type": "code",
      "source": [
        "# load MNIST from server\n",
        "(x_train, y_train), (x_test, y_test) = mnist.load_data()"
      ],
      "metadata": {
        "id": "HMMN7BtI91TX"
      },
      "execution_count": 43,
      "outputs": []
    },
    {
      "cell_type": "code",
      "source": [
        "total_examples_train = 1000\n",
        "\n",
        "total_examples_test = total_examples_train * .1\n",
        "total_examples_test = int(total_examples_test)"
      ],
      "metadata": {
        "id": "P8zCarNEV-Wj"
      },
      "execution_count": 44,
      "outputs": []
    },
    {
      "cell_type": "code",
      "source": [
        "x_train[0]"
      ],
      "metadata": {
        "colab": {
          "base_uri": "https://localhost:8080/"
        },
        "id": "tjLOjGg9TENH",
        "outputId": "f3508e99-301b-427c-c813-6786313d1cfa"
      },
      "execution_count": 45,
      "outputs": [
        {
          "output_type": "execute_result",
          "data": {
            "text/plain": [
              "array([[  0,   0,   0,   0,   0,   0,   0,   0,   0,   0,   0,   0,   0,\n",
              "          0,   0,   0,   0,   0,   0,   0,   0,   0,   0,   0,   0,   0,\n",
              "          0,   0],\n",
              "       [  0,   0,   0,   0,   0,   0,   0,   0,   0,   0,   0,   0,   0,\n",
              "          0,   0,   0,   0,   0,   0,   0,   0,   0,   0,   0,   0,   0,\n",
              "          0,   0],\n",
              "       [  0,   0,   0,   0,   0,   0,   0,   0,   0,   0,   0,   0,   0,\n",
              "          0,   0,   0,   0,   0,   0,   0,   0,   0,   0,   0,   0,   0,\n",
              "          0,   0],\n",
              "       [  0,   0,   0,   0,   0,   0,   0,   0,   0,   0,   0,   0,   0,\n",
              "          0,   0,   0,   0,   0,   0,   0,   0,   0,   0,   0,   0,   0,\n",
              "          0,   0],\n",
              "       [  0,   0,   0,   0,   0,   0,   0,   0,   0,   0,   0,   0,   0,\n",
              "          0,   0,   0,   0,   0,   0,   0,   0,   0,   0,   0,   0,   0,\n",
              "          0,   0],\n",
              "       [  0,   0,   0,   0,   0,   0,   0,   0,   0,   0,   0,   0,   3,\n",
              "         18,  18,  18, 126, 136, 175,  26, 166, 255, 247, 127,   0,   0,\n",
              "          0,   0],\n",
              "       [  0,   0,   0,   0,   0,   0,   0,   0,  30,  36,  94, 154, 170,\n",
              "        253, 253, 253, 253, 253, 225, 172, 253, 242, 195,  64,   0,   0,\n",
              "          0,   0],\n",
              "       [  0,   0,   0,   0,   0,   0,   0,  49, 238, 253, 253, 253, 253,\n",
              "        253, 253, 253, 253, 251,  93,  82,  82,  56,  39,   0,   0,   0,\n",
              "          0,   0],\n",
              "       [  0,   0,   0,   0,   0,   0,   0,  18, 219, 253, 253, 253, 253,\n",
              "        253, 198, 182, 247, 241,   0,   0,   0,   0,   0,   0,   0,   0,\n",
              "          0,   0],\n",
              "       [  0,   0,   0,   0,   0,   0,   0,   0,  80, 156, 107, 253, 253,\n",
              "        205,  11,   0,  43, 154,   0,   0,   0,   0,   0,   0,   0,   0,\n",
              "          0,   0],\n",
              "       [  0,   0,   0,   0,   0,   0,   0,   0,   0,  14,   1, 154, 253,\n",
              "         90,   0,   0,   0,   0,   0,   0,   0,   0,   0,   0,   0,   0,\n",
              "          0,   0],\n",
              "       [  0,   0,   0,   0,   0,   0,   0,   0,   0,   0,   0, 139, 253,\n",
              "        190,   2,   0,   0,   0,   0,   0,   0,   0,   0,   0,   0,   0,\n",
              "          0,   0],\n",
              "       [  0,   0,   0,   0,   0,   0,   0,   0,   0,   0,   0,  11, 190,\n",
              "        253,  70,   0,   0,   0,   0,   0,   0,   0,   0,   0,   0,   0,\n",
              "          0,   0],\n",
              "       [  0,   0,   0,   0,   0,   0,   0,   0,   0,   0,   0,   0,  35,\n",
              "        241, 225, 160, 108,   1,   0,   0,   0,   0,   0,   0,   0,   0,\n",
              "          0,   0],\n",
              "       [  0,   0,   0,   0,   0,   0,   0,   0,   0,   0,   0,   0,   0,\n",
              "         81, 240, 253, 253, 119,  25,   0,   0,   0,   0,   0,   0,   0,\n",
              "          0,   0],\n",
              "       [  0,   0,   0,   0,   0,   0,   0,   0,   0,   0,   0,   0,   0,\n",
              "          0,  45, 186, 253, 253, 150,  27,   0,   0,   0,   0,   0,   0,\n",
              "          0,   0],\n",
              "       [  0,   0,   0,   0,   0,   0,   0,   0,   0,   0,   0,   0,   0,\n",
              "          0,   0,  16,  93, 252, 253, 187,   0,   0,   0,   0,   0,   0,\n",
              "          0,   0],\n",
              "       [  0,   0,   0,   0,   0,   0,   0,   0,   0,   0,   0,   0,   0,\n",
              "          0,   0,   0,   0, 249, 253, 249,  64,   0,   0,   0,   0,   0,\n",
              "          0,   0],\n",
              "       [  0,   0,   0,   0,   0,   0,   0,   0,   0,   0,   0,   0,   0,\n",
              "          0,  46, 130, 183, 253, 253, 207,   2,   0,   0,   0,   0,   0,\n",
              "          0,   0],\n",
              "       [  0,   0,   0,   0,   0,   0,   0,   0,   0,   0,   0,   0,  39,\n",
              "        148, 229, 253, 253, 253, 250, 182,   0,   0,   0,   0,   0,   0,\n",
              "          0,   0],\n",
              "       [  0,   0,   0,   0,   0,   0,   0,   0,   0,   0,  24, 114, 221,\n",
              "        253, 253, 253, 253, 201,  78,   0,   0,   0,   0,   0,   0,   0,\n",
              "          0,   0],\n",
              "       [  0,   0,   0,   0,   0,   0,   0,   0,  23,  66, 213, 253, 253,\n",
              "        253, 253, 198,  81,   2,   0,   0,   0,   0,   0,   0,   0,   0,\n",
              "          0,   0],\n",
              "       [  0,   0,   0,   0,   0,   0,  18, 171, 219, 253, 253, 253, 253,\n",
              "        195,  80,   9,   0,   0,   0,   0,   0,   0,   0,   0,   0,   0,\n",
              "          0,   0],\n",
              "       [  0,   0,   0,   0,  55, 172, 226, 253, 253, 253, 253, 244, 133,\n",
              "         11,   0,   0,   0,   0,   0,   0,   0,   0,   0,   0,   0,   0,\n",
              "          0,   0],\n",
              "       [  0,   0,   0,   0, 136, 253, 253, 253, 212, 135, 132,  16,   0,\n",
              "          0,   0,   0,   0,   0,   0,   0,   0,   0,   0,   0,   0,   0,\n",
              "          0,   0],\n",
              "       [  0,   0,   0,   0,   0,   0,   0,   0,   0,   0,   0,   0,   0,\n",
              "          0,   0,   0,   0,   0,   0,   0,   0,   0,   0,   0,   0,   0,\n",
              "          0,   0],\n",
              "       [  0,   0,   0,   0,   0,   0,   0,   0,   0,   0,   0,   0,   0,\n",
              "          0,   0,   0,   0,   0,   0,   0,   0,   0,   0,   0,   0,   0,\n",
              "          0,   0],\n",
              "       [  0,   0,   0,   0,   0,   0,   0,   0,   0,   0,   0,   0,   0,\n",
              "          0,   0,   0,   0,   0,   0,   0,   0,   0,   0,   0,   0,   0,\n",
              "          0,   0]], dtype=uint8)"
            ]
          },
          "metadata": {},
          "execution_count": 45
        }
      ]
    },
    {
      "cell_type": "code",
      "source": [
        "x_train[0].shape"
      ],
      "metadata": {
        "colab": {
          "base_uri": "https://localhost:8080/"
        },
        "id": "fwcWHKKgYBtK",
        "outputId": "8b51d8e2-ddda-4d07-c010-f087e58b5538"
      },
      "execution_count": 31,
      "outputs": [
        {
          "output_type": "execute_result",
          "data": {
            "text/plain": [
              "(28, 28)"
            ]
          },
          "metadata": {},
          "execution_count": 31
        }
      ]
    },
    {
      "cell_type": "markdown",
      "source": [
        "##### Depicting examples"
      ],
      "metadata": {
        "id": "JANAzxfJdJXo"
      }
    },
    {
      "cell_type": "code",
      "source": [
        "rows = 3\n",
        "columns = 7\n",
        "\n",
        "fig, axes = plt.subplots( rows, columns, figsize=( 15, 5 ) )\n",
        "\n",
        "for i in range(rows):\n",
        "  for j in range(columns):\n",
        "    random_number = int(np.random.rand() * total_examples_train)\n",
        "    axes[i][j].imshow( x_train[random_number], cmap='gray' )\n",
        "\n",
        "plt.show()"
      ],
      "metadata": {
        "colab": {
          "base_uri": "https://localhost:8080/",
          "height": 322
        },
        "id": "1iytJvAgX36C",
        "outputId": "162698b8-e27e-4d08-ce23-06c0ffa764ff"
      },
      "execution_count": 32,
      "outputs": [
        {
          "output_type": "display_data",
          "data": {
            "text/plain": [
              "<Figure size 1080x360 with 21 Axes>"
            ],
            "image/png": "[encoded data removed]"
          },
          "metadata": {
            "needs_background": "light"
          }
        }
      ]
    },
    {
      "cell_type": "markdown",
      "source": [
        "##### Preprocessing Data"
      ],
      "metadata": {
        "id": "Y-xQOhu3dAdE"
      }
    },
    {
      "cell_type": "code",
      "source": [
        "x_train, y_train = preprocess_data(x_train, y_train, total_examples_train)\n",
        "x_test, y_test = preprocess_data(x_test, y_test, total_examples_test)"
      ],
      "metadata": {
        "id": "DOrqrXJTZ_E5"
      },
      "execution_count": 33,
      "outputs": []
    },
    {
      "cell_type": "code",
      "source": [
        "# neural network\n",
        "network = [\n",
        "    Dense(input_size = 28 * 28, \n",
        "          output_size = 40),\n",
        "    Activation(activation = tanh, \n",
        "               activation_prime = tanh_prime),\n",
        "    Dense(input_size = 40, \n",
        "          output_size = 10),\n",
        "    Activation(activation = tanh,\n",
        "               activation_prime = tanh_prime),\n",
        "]"
      ],
      "metadata": {
        "id": "eZP9rM_991Wp"
      },
      "execution_count": 34,
      "outputs": []
    },
    {
      "cell_type": "markdown",
      "source": [
        "##### Training"
      ],
      "metadata": {
        "id": "hn7CSFqEDCks"
      }
    },
    {
      "cell_type": "code",
      "source": [
        "%%time\n",
        "\n",
        "train(network, \n",
        "      mse, \n",
        "      mse_prime, \n",
        "      x_train, \n",
        "      y_train, \n",
        "      epochs=1000, \n",
        "      learning_rate=0.1)"
      ],
      "metadata": {
        "colab": {
          "base_uri": "https://localhost:8080/"
        },
        "id": "dwrW39Iv91ZN",
        "outputId": "092ff568-64ab-45da-b03d-5c8d07777411"
      },
      "execution_count": 35,
      "outputs": [
        {
          "output_type": "stream",
          "name": "stdout",
          "text": [
            "0/1000, error=0.883\n",
            "100/1000, error=0.0696\n",
            "200/1000, error=0.0571\n",
            "300/1000, error=0.0519\n",
            "400/1000, error=0.0475\n",
            "500/1000, error=0.0446\n",
            "600/1000, error=0.0424\n",
            "700/1000, error=0.0409\n",
            "800/1000, error=0.04\n",
            "900/1000, error=0.0389\n",
            "CPU times: user 4min 25s, sys: 3min 34s, total: 8min\n",
            "Wall time: 4min 15s\n"
          ]
        }
      ]
    },
    {
      "cell_type": "code",
      "source": [
        "# test\n",
        "y_predicted = list()\n",
        "y_actual = list()\n",
        "\n",
        "for x, y in zip(x_test, y_test):\n",
        "    output = predict(network, x)\n",
        "\n",
        "    y_predicted.append( np.argmax(output) )\n",
        "    y_actual.append( np.argmax(y) )\n",
        "\n",
        "    print('pred:', np.argmax(output), '\\ttrue:', np.argmax(y))"
      ],
      "metadata": {
        "colab": {
          "base_uri": "https://localhost:8080/"
        },
        "id": "8Y3vA1od91cb",
        "outputId": "c44c5d56-b87b-4cb3-dfd4-5d390bc5c335"
      },
      "execution_count": 36,
      "outputs": [
        {
          "output_type": "stream",
          "name": "stdout",
          "text": [
            "pred: 7 \ttrue: 7\n",
            "pred: 6 \ttrue: 2\n",
            "pred: 1 \ttrue: 1\n",
            "pred: 6 \ttrue: 0\n",
            "pred: 4 \ttrue: 4\n",
            "pred: 1 \ttrue: 1\n",
            "pred: 6 \ttrue: 4\n",
            "pred: 6 \ttrue: 9\n",
            "pred: 6 \ttrue: 5\n",
            "pred: 6 \ttrue: 9\n",
            "pred: 3 \ttrue: 0\n",
            "pred: 8 \ttrue: 6\n",
            "pred: 6 \ttrue: 9\n",
            "pred: 6 \ttrue: 0\n",
            "pred: 1 \ttrue: 1\n",
            "pred: 9 \ttrue: 5\n",
            "pred: 6 \ttrue: 9\n",
            "pred: 7 \ttrue: 7\n",
            "pred: 6 \ttrue: 3\n",
            "pred: 4 \ttrue: 4\n",
            "pred: 6 \ttrue: 9\n",
            "pred: 6 \ttrue: 6\n",
            "pred: 4 \ttrue: 6\n",
            "pred: 3 \ttrue: 5\n",
            "pred: 4 \ttrue: 4\n",
            "pred: 0 \ttrue: 0\n",
            "pred: 7 \ttrue: 7\n",
            "pred: 4 \ttrue: 4\n",
            "pred: 6 \ttrue: 0\n",
            "pred: 1 \ttrue: 1\n",
            "pred: 3 \ttrue: 3\n",
            "pred: 1 \ttrue: 1\n",
            "pred: 3 \ttrue: 3\n",
            "pred: 6 \ttrue: 4\n",
            "pred: 7 \ttrue: 7\n",
            "pred: 2 \ttrue: 2\n",
            "pred: 7 \ttrue: 7\n",
            "pred: 1 \ttrue: 1\n",
            "pred: 2 \ttrue: 2\n",
            "pred: 1 \ttrue: 1\n",
            "pred: 1 \ttrue: 1\n",
            "pred: 7 \ttrue: 7\n",
            "pred: 6 \ttrue: 4\n",
            "pred: 2 \ttrue: 2\n",
            "pred: 3 \ttrue: 3\n",
            "pred: 3 \ttrue: 5\n",
            "pred: 6 \ttrue: 1\n",
            "pred: 2 \ttrue: 2\n",
            "pred: 6 \ttrue: 4\n",
            "pred: 4 \ttrue: 4\n",
            "pred: 6 \ttrue: 6\n",
            "pred: 3 \ttrue: 3\n",
            "pred: 4 \ttrue: 5\n",
            "pred: 3 \ttrue: 5\n",
            "pred: 6 \ttrue: 6\n",
            "pred: 6 \ttrue: 0\n",
            "pred: 4 \ttrue: 4\n",
            "pred: 1 \ttrue: 1\n",
            "pred: 6 \ttrue: 9\n",
            "pred: 6 \ttrue: 5\n",
            "pred: 7 \ttrue: 7\n",
            "pred: 8 \ttrue: 8\n",
            "pred: 6 \ttrue: 9\n",
            "pred: 6 \ttrue: 3\n",
            "pred: 7 \ttrue: 7\n",
            "pred: 4 \ttrue: 4\n",
            "pred: 6 \ttrue: 6\n",
            "pred: 4 \ttrue: 4\n",
            "pred: 3 \ttrue: 3\n",
            "pred: 0 \ttrue: 0\n",
            "pred: 7 \ttrue: 7\n",
            "pred: 0 \ttrue: 0\n",
            "pred: 6 \ttrue: 2\n",
            "pred: 7 \ttrue: 9\n",
            "pred: 1 \ttrue: 1\n",
            "pred: 7 \ttrue: 7\n",
            "pred: 3 \ttrue: 3\n",
            "pred: 7 \ttrue: 2\n",
            "pred: 8 \ttrue: 9\n",
            "pred: 7 \ttrue: 7\n",
            "pred: 6 \ttrue: 7\n",
            "pred: 6 \ttrue: 6\n",
            "pred: 2 \ttrue: 2\n",
            "pred: 7 \ttrue: 7\n",
            "pred: 6 \ttrue: 8\n",
            "pred: 6 \ttrue: 4\n",
            "pred: 7 \ttrue: 7\n",
            "pred: 3 \ttrue: 3\n",
            "pred: 6 \ttrue: 6\n",
            "pred: 1 \ttrue: 1\n",
            "pred: 3 \ttrue: 3\n",
            "pred: 6 \ttrue: 6\n",
            "pred: 6 \ttrue: 9\n",
            "pred: 3 \ttrue: 3\n",
            "pred: 1 \ttrue: 1\n",
            "pred: 6 \ttrue: 4\n",
            "pred: 8 \ttrue: 1\n",
            "pred: 7 \ttrue: 7\n",
            "pred: 6 \ttrue: 6\n",
            "pred: 6 \ttrue: 9\n"
          ]
        }
      ]
    },
    {
      "cell_type": "markdown",
      "source": [
        "##### Confusion Matrix"
      ],
      "metadata": {
        "id": "nyoSYVo-_psT"
      }
    },
    {
      "cell_type": "code",
      "source": [
        "confusion_matrix = metrics.confusion_matrix(y_actual, y_predicted)\n",
        "# print(confusion_matrix)"
      ],
      "metadata": {
        "id": "FY6ZVW4491ez"
      },
      "execution_count": 37,
      "outputs": []
    },
    {
      "cell_type": "code",
      "source": [
        "# based on https://www.statology.org/confusion-matrix-python/\n",
        "\n",
        "y_actual = pd.Series(y_actual, name='Actual')\n",
        "y_predicted = pd.Series(y_predicted, name='Predicted')\n",
        "\n",
        "#create confusion matrix\n",
        "print(pd.crosstab(y_actual, y_predicted))"
      ],
      "metadata": {
        "colab": {
          "base_uri": "https://localhost:8080/"
        },
        "id": "4aFbP0Ei91p3",
        "outputId": "7de27ed6-9017-470d-df53-232a8c53e21d"
      },
      "execution_count": 38,
      "outputs": [
        {
          "output_type": "stream",
          "name": "stdout",
          "text": [
            "Predicted  0   1  2  3  4  6   7  8  9\n",
            "Actual                                \n",
            "0          3   0  0  1  0  4   0  0  0\n",
            "1          0  12  0  0  0  1   0  1  0\n",
            "2          0   0  5  0  0  2   1  0  0\n",
            "3          0   0  0  9  0  2   0  0  0\n",
            "4          0   0  0  0  8  6   0  0  0\n",
            "5          0   0  0  3  1  2   0  0  1\n",
            "6          0   0  0  0  1  8   0  1  0\n",
            "7          0   0  0  0  0  1  14  0  0\n",
            "8          0   0  0  0  0  1   0  1  0\n",
            "9          0   0  0  0  0  9   1  1  0\n"
          ]
        }
      ]
    },
    {
      "cell_type": "code",
      "source": [
        "# based on https://www.w3schools.com/python/python_ml_confusion_matrix.asp\n",
        "\n",
        "cm_display = metrics.ConfusionMatrixDisplay(\n",
        "    confusion_matrix = confusion_matrix, \n",
        "    display_labels = [0, 1, 2, 3, 4, 5, 6, 7, 8, 9])\n",
        "cm_display.plot()\n",
        "plt.show()"
      ],
      "metadata": {
        "colab": {
          "base_uri": "https://localhost:8080/",
          "height": 283
        },
        "id": "M3KMCNp291is",
        "outputId": "2c6fd52f-6cfd-45ad-9f84-79e40dc53076"
      },
      "execution_count": 39,
      "outputs": [
        {
          "output_type": "display_data",
          "data": {
            "text/plain": [
              "<Figure size 432x288 with 2 Axes>"
            ],
            "image/png": "[encoded data removed]"
          },
          "metadata": {
            "needs_background": "light"
          }
        }
      ]
    },
    {
      "cell_type": "code",
      "source": [
        "y_err = y_predicted[ y_predicted != y_actual ]\n",
        "y_err[:20]"
      ],
      "metadata": {
        "colab": {
          "base_uri": "https://localhost:8080/"
        },
        "id": "G4dPZmYhVSNo",
        "outputId": "4bb5c582-fad6-4365-de98-600943513729"
      },
      "execution_count": 40,
      "outputs": [
        {
          "output_type": "execute_result",
          "data": {
            "text/plain": [
              "1     6\n",
              "3     6\n",
              "6     6\n",
              "7     6\n",
              "8     6\n",
              "9     6\n",
              "10    3\n",
              "11    8\n",
              "12    6\n",
              "13    6\n",
              "15    9\n",
              "16    6\n",
              "18    6\n",
              "20    6\n",
              "22    4\n",
              "23    3\n",
              "28    6\n",
              "33    6\n",
              "42    6\n",
              "45    3\n",
              "Name: Predicted, dtype: int64"
            ]
          },
          "metadata": {},
          "execution_count": 40
        }
      ]
    },
    {
      "cell_type": "markdown",
      "source": [
        "#### Valor da Taxa de Erro\n",
        "\n",
        "\"o valor da taxa de erro (calculada como o número de todas as previsões incorretas dividido pelo número total do conjunto de dados. A melhor taxa de erro é 0, enquanto a pior é 1.)\""
      ],
      "metadata": {
        "id": "cc8H-HcXYpuG"
      }
    },
    {
      "cell_type": "code",
      "source": [
        "error_rate = len(y_err) / total_examples_test\n",
        "print( f'error_rate: {error_rate:.3}' )"
      ],
      "metadata": {
        "colab": {
          "base_uri": "https://localhost:8080/"
        },
        "id": "znrDYWkRYugM",
        "outputId": "6dea1bf2-c7ed-49d7-9a2d-95733a92eb3c"
      },
      "execution_count": 41,
      "outputs": [
        {
          "output_type": "stream",
          "name": "stdout",
          "text": [
            "error_rate: 0.4\n"
          ]
        }
      ]
    },
    {
      "cell_type": "code",
      "source": [
        "error_rate_percentage = len(y_err) / total_examples_test * 100\n",
        "print( f'error_rate_percentage: {error_rate_percentage:.3}%' )"
      ],
      "metadata": {
        "colab": {
          "base_uri": "https://localhost:8080/"
        },
        "id": "4GdIEPBFVwVe",
        "outputId": "8304d7e9-8929-4578-90ea-b68e9768891a"
      },
      "execution_count": 42,
      "outputs": [
        {
          "output_type": "stream",
          "name": "stdout",
          "text": [
            "error_rate_percentage: 40.0%\n"
          ]
        }
      ]
    }
  ]
}