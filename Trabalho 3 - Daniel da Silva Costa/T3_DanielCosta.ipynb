{
  "cells": [
    {
      "cell_type": "markdown",
      "metadata": {
        "id": "yRPDSJgl5066"
      },
      "source": [
        "# Trabalho 3\n",
        "Descrição do trabalho:\n",
        "\n",
        "http://webserver2.tecgraf.puc-rio.br/~mgattass/visao/trb/T3.html\n",
        "\n",
        "Aluno: Daniel da Silva Costa\n",
        "\n",
        "E-mail: danieldasilvacosta@gmail.com"
      ]
    },
    {
      "cell_type": "markdown",
      "metadata": {
        "id": "kXpKGbGz8FJ7"
      },
      "source": [
        "### Imports"
      ]
    },
    {
      "cell_type": "code",
      "execution_count": 1,
      "metadata": {
        "id": "O9jx1Ztl8ID7"
      },
      "outputs": [],
      "source": [
        "import numpy as np\n",
        "import matplotlib.pyplot as plt\n",
        "from mpl_toolkits.mplot3d import Axes3D\n",
        "import time\n",
        "from keras.datasets import mnist\n",
        "from keras.utils import np_utils\n",
        "from sklearn import metrics\n",
        "import pandas as pd\n",
        "\n",
        "import torch\n",
        "import torch.nn as nn\n",
        "import torchvision\n",
        "import torchvision.transforms as transforms"
      ]
    },
    {
      "cell_type": "markdown",
      "source": [
        "### Using PyTorch\n",
        "\n",
        "Based on https://www.youtube.com/watch?v=oPhxf2fXHkQ&list=PLqnslRFeH2UrcDBWF5mfPGpqQDSta6VK4&index=13"
      ],
      "metadata": {
        "id": "BrvhmdIJNDDl"
      }
    },
    {
      "cell_type": "markdown",
      "source": [
        "#### Device configuration"
      ],
      "metadata": {
        "id": "JwhExFPdNrBu"
      }
    },
    {
      "cell_type": "code",
      "source": [
        "device = torch.device('cuda' if torch.cuda.is_available() else 'cpu')\n",
        "device"
      ],
      "metadata": {
        "colab": {
          "base_uri": "https://localhost:8080/"
        },
        "id": "uKxJtdt9Nn_z",
        "outputId": "0ba0dfc8-166e-4088-945a-f049c26fd216"
      },
      "execution_count": 2,
      "outputs": [
        {
          "output_type": "execute_result",
          "data": {
            "text/plain": [
              "device(type='cuda')"
            ]
          },
          "metadata": {},
          "execution_count": 2
        }
      ]
    },
    {
      "cell_type": "markdown",
      "source": [
        "#### Hyper-parameters "
      ],
      "metadata": {
        "id": "oEVIrygFNvOs"
      }
    },
    {
      "cell_type": "code",
      "source": [
        "input_size = 784 # 28x28\n",
        "hidden_size = 500 \n",
        "num_classes = 10\n",
        "num_epochs = 5\n",
        "batch_size = 256\n",
        "learning_rate = 0.001"
      ],
      "metadata": {
        "id": "INKH10FaNoCS"
      },
      "execution_count": 3,
      "outputs": []
    },
    {
      "cell_type": "markdown",
      "source": [
        "#### MNIST dataset "
      ],
      "metadata": {
        "id": "DVKVg2AdN4md"
      }
    },
    {
      "cell_type": "code",
      "source": [
        "train_dataset = torchvision.datasets.MNIST(root='./data', \n",
        "                                           train=True, \n",
        "                                           transform=transforms.ToTensor(),  \n",
        "                                           download=True)\n",
        "\n",
        "test_dataset = torchvision.datasets.MNIST(root='./data', \n",
        "                                          train=False, \n",
        "                                          transform=transforms.ToTensor())"
      ],
      "metadata": {
        "id": "hGFzrzw2NoEu"
      },
      "execution_count": 4,
      "outputs": []
    },
    {
      "cell_type": "markdown",
      "source": [
        "#### Data loader\n",
        "\n",
        "Creating the batches of the training set and test set."
      ],
      "metadata": {
        "id": "iTcrUT-vOD5I"
      }
    },
    {
      "cell_type": "code",
      "source": [
        "train_loader = torch.utils.data.DataLoader(dataset=train_dataset, \n",
        "                                           batch_size=batch_size, \n",
        "                                           shuffle=True)\n",
        "\n",
        "test_loader = torch.utils.data.DataLoader(dataset=test_dataset, \n",
        "                                          batch_size=batch_size, \n",
        "                                          shuffle=False)"
      ],
      "metadata": {
        "id": "dRurEs0yNoHJ"
      },
      "execution_count": 5,
      "outputs": []
    },
    {
      "cell_type": "code",
      "source": [
        "train_loader"
      ],
      "metadata": {
        "colab": {
          "base_uri": "https://localhost:8080/"
        },
        "id": "70Wk7rTYNoKF",
        "outputId": "384a9910-8277-49f4-8da6-e5e9d4f27474"
      },
      "execution_count": 6,
      "outputs": [
        {
          "output_type": "execute_result",
          "data": {
            "text/plain": [
              "<torch.utils.data.dataloader.DataLoader at 0x7efbd1abce10>"
            ]
          },
          "metadata": {},
          "execution_count": 6
        }
      ]
    },
    {
      "cell_type": "code",
      "source": [
        "list(enumerate(train_loader))[0]"
      ],
      "metadata": {
        "colab": {
          "base_uri": "https://localhost:8080/"
        },
        "id": "7mq1nzl9OgTK",
        "outputId": "680d6e8d-7334-4d60-a9bf-ea3b082cc4a4"
      },
      "execution_count": 7,
      "outputs": [
        {
          "output_type": "execute_result",
          "data": {
            "text/plain": [
              "(0, [tensor([[[[0., 0., 0.,  ..., 0., 0., 0.],\n",
              "            [0., 0., 0.,  ..., 0., 0., 0.],\n",
              "            [0., 0., 0.,  ..., 0., 0., 0.],\n",
              "            ...,\n",
              "            [0., 0., 0.,  ..., 0., 0., 0.],\n",
              "            [0., 0., 0.,  ..., 0., 0., 0.],\n",
              "            [0., 0., 0.,  ..., 0., 0., 0.]]],\n",
              "  \n",
              "  \n",
              "          [[[0., 0., 0.,  ..., 0., 0., 0.],\n",
              "            [0., 0., 0.,  ..., 0., 0., 0.],\n",
              "            [0., 0., 0.,  ..., 0., 0., 0.],\n",
              "            ...,\n",
              "            [0., 0., 0.,  ..., 0., 0., 0.],\n",
              "            [0., 0., 0.,  ..., 0., 0., 0.],\n",
              "            [0., 0., 0.,  ..., 0., 0., 0.]]],\n",
              "  \n",
              "  \n",
              "          [[[0., 0., 0.,  ..., 0., 0., 0.],\n",
              "            [0., 0., 0.,  ..., 0., 0., 0.],\n",
              "            [0., 0., 0.,  ..., 0., 0., 0.],\n",
              "            ...,\n",
              "            [0., 0., 0.,  ..., 0., 0., 0.],\n",
              "            [0., 0., 0.,  ..., 0., 0., 0.],\n",
              "            [0., 0., 0.,  ..., 0., 0., 0.]]],\n",
              "  \n",
              "  \n",
              "          ...,\n",
              "  \n",
              "  \n",
              "          [[[0., 0., 0.,  ..., 0., 0., 0.],\n",
              "            [0., 0., 0.,  ..., 0., 0., 0.],\n",
              "            [0., 0., 0.,  ..., 0., 0., 0.],\n",
              "            ...,\n",
              "            [0., 0., 0.,  ..., 0., 0., 0.],\n",
              "            [0., 0., 0.,  ..., 0., 0., 0.],\n",
              "            [0., 0., 0.,  ..., 0., 0., 0.]]],\n",
              "  \n",
              "  \n",
              "          [[[0., 0., 0.,  ..., 0., 0., 0.],\n",
              "            [0., 0., 0.,  ..., 0., 0., 0.],\n",
              "            [0., 0., 0.,  ..., 0., 0., 0.],\n",
              "            ...,\n",
              "            [0., 0., 0.,  ..., 0., 0., 0.],\n",
              "            [0., 0., 0.,  ..., 0., 0., 0.],\n",
              "            [0., 0., 0.,  ..., 0., 0., 0.]]],\n",
              "  \n",
              "  \n",
              "          [[[0., 0., 0.,  ..., 0., 0., 0.],\n",
              "            [0., 0., 0.,  ..., 0., 0., 0.],\n",
              "            [0., 0., 0.,  ..., 0., 0., 0.],\n",
              "            ...,\n",
              "            [0., 0., 0.,  ..., 0., 0., 0.],\n",
              "            [0., 0., 0.,  ..., 0., 0., 0.],\n",
              "            [0., 0., 0.,  ..., 0., 0., 0.]]]]),\n",
              "  tensor([7, 6, 5, 3, 5, 6, 7, 9, 6, 2, 6, 2, 3, 1, 7, 6, 4, 6, 3, 5, 3, 9, 3, 7,\n",
              "          0, 3, 6, 0, 5, 2, 7, 8, 7, 9, 6, 0, 6, 0, 0, 6, 4, 6, 2, 1, 1, 4, 2, 0,\n",
              "          0, 9, 6, 9, 9, 2, 4, 0, 4, 4, 9, 3, 9, 1, 0, 6, 2, 8, 1, 1, 9, 5, 8, 5,\n",
              "          4, 6, 9, 2, 0, 8, 8, 7, 4, 5, 4, 1, 6, 7, 4, 2, 7, 7, 6, 0, 5, 6, 1, 4,\n",
              "          4, 7, 1, 5, 6, 7, 4, 5, 5, 2, 7, 6, 8, 4, 1, 1, 8, 1, 3, 5, 3, 4, 4, 1,\n",
              "          7, 5, 9, 8, 7, 0, 0, 5, 5, 6, 6, 2, 4, 0, 3, 4, 1, 1, 4, 6, 1, 2, 8, 9,\n",
              "          1, 9, 8, 9, 4, 1, 4, 6, 9, 9, 7, 2, 2, 9, 5, 7, 9, 0, 1, 2, 1, 0, 7, 8,\n",
              "          1, 6, 1, 4, 8, 2, 3, 5, 7, 4, 7, 6, 6, 6, 2, 1, 9, 4, 0, 4, 8, 3, 8, 5,\n",
              "          2, 3, 9, 5, 3, 7, 2, 4, 1, 8, 0, 5, 2, 6, 0, 6, 7, 7, 3, 5, 5, 6, 4, 3,\n",
              "          7, 3, 4, 0, 7, 1, 4, 3, 9, 2, 0, 7, 8, 6, 8, 7, 7, 5, 6, 4, 4, 3, 0, 5,\n",
              "          2, 1, 8, 4, 4, 9, 1, 4, 3, 7, 6, 7, 4, 5, 1, 9])])"
            ]
          },
          "metadata": {},
          "execution_count": 7
        }
      ]
    },
    {
      "cell_type": "markdown",
      "source": [
        "#### Depicting examples\n",
        "\n",
        "From test set"
      ],
      "metadata": {
        "id": "tgJv_vWtPkCO"
      }
    },
    {
      "cell_type": "code",
      "source": [
        "examples = iter(test_loader)\n",
        "example_data, example_targets = examples.next()\n",
        "\n",
        "for i in range(6):\n",
        "    plt.subplot(2,3,i+1)\n",
        "    plt.imshow(example_data[i][0], cmap='gray')\n",
        "plt.show()"
      ],
      "metadata": {
        "colab": {
          "base_uri": "https://localhost:8080/",
          "height": 267
        },
        "id": "Fp0QhoO5OgYW",
        "outputId": "43306e15-6eea-4900-be54-be38edc19241"
      },
      "execution_count": 8,
      "outputs": [
        {
          "output_type": "display_data",
          "data": {
            "text/plain": [
              "<Figure size 432x288 with 6 Axes>"
            ],
            "image/png": "[encoded data removed]"
          },
          "metadata": {
            "needs_background": "light"
          }
        }
      ]
    },
    {
      "cell_type": "markdown",
      "source": [
        "#### Neural Network"
      ],
      "metadata": {
        "id": "qkbk4jzfRJQk"
      }
    },
    {
      "cell_type": "code",
      "source": [
        "# Fully connected neural network with one hidden layer\n",
        "class NeuralNet(nn.Module):\n",
        "    def __init__(self, input_size, hidden_size, num_classes):\n",
        "        super(NeuralNet, self).__init__()\n",
        "        self.input_size = input_size\n",
        "        self.l1 = nn.Linear(input_size, hidden_size) \n",
        "        self.relu = nn.ReLU()\n",
        "        self.l2 = nn.Linear(hidden_size, num_classes)  \n",
        "    \n",
        "    def forward(self, x):\n",
        "        out = self.l1(x)\n",
        "        out = self.relu(out)\n",
        "        out = self.l2(out)\n",
        "        # no activation and no softmax at the end\n",
        "        return out"
      ],
      "metadata": {
        "id": "GzGATPhlOgbH"
      },
      "execution_count": 9,
      "outputs": []
    },
    {
      "cell_type": "code",
      "source": [
        "model = NeuralNet(input_size, hidden_size, num_classes).to(device)"
      ],
      "metadata": {
        "id": "UZa49n9RRIye"
      },
      "execution_count": 10,
      "outputs": []
    },
    {
      "cell_type": "markdown",
      "source": [
        "#### Loss and optimizer"
      ],
      "metadata": {
        "id": "G00kLTk_RdAl"
      }
    },
    {
      "cell_type": "code",
      "source": [
        "criterion = nn.CrossEntropyLoss()\n",
        "optimizer = torch.optim.Adam(model.parameters(), lr=learning_rate)  "
      ],
      "metadata": {
        "id": "VziJW7zVRI1O"
      },
      "execution_count": 11,
      "outputs": []
    },
    {
      "cell_type": "markdown",
      "source": [
        "#### Training"
      ],
      "metadata": {
        "id": "lq_eXDcpRgK3"
      }
    },
    {
      "cell_type": "code",
      "source": [
        "%%time\n",
        "\n",
        "n_total_steps = len(train_loader)\n",
        "for epoch in range(num_epochs):\n",
        "    for i, (images, labels) in enumerate(train_loader):  \n",
        "        # origin shape: [100, 1, 28, 28]\n",
        "        # resized: [100, 784]\n",
        "        images = images.reshape(-1, 28*28).to(device)\n",
        "        labels = labels.to(device)\n",
        "        \n",
        "        # Forward pass\n",
        "        outputs = model(images)\n",
        "        loss = criterion(outputs, labels)\n",
        "        \n",
        "        # Backward and optimize\n",
        "        optimizer.zero_grad()\n",
        "        loss.backward()\n",
        "        optimizer.step()\n",
        "        \n",
        "        if (i+1) % 100 == 0:\n",
        "            print (f'Epoch [{epoch+1}/{num_epochs}], Step [{i+1}/{n_total_steps}], Loss: {loss.item():.4f}')"
      ],
      "metadata": {
        "colab": {
          "base_uri": "https://localhost:8080/"
        },
        "id": "xrxQrYyRRI3w",
        "outputId": "44e23f94-b256-4125-a62f-32e1d76b9906"
      },
      "execution_count": 12,
      "outputs": [
        {
          "output_type": "stream",
          "name": "stdout",
          "text": [
            "Epoch [1/5], Step [100/235], Loss: 0.3320\n",
            "Epoch [1/5], Step [200/235], Loss: 0.2650\n",
            "Epoch [2/5], Step [100/235], Loss: 0.1704\n",
            "Epoch [2/5], Step [200/235], Loss: 0.1696\n",
            "Epoch [3/5], Step [100/235], Loss: 0.1230\n",
            "Epoch [3/5], Step [200/235], Loss: 0.1038\n",
            "Epoch [4/5], Step [100/235], Loss: 0.0624\n",
            "Epoch [4/5], Step [200/235], Loss: 0.0943\n",
            "Epoch [5/5], Step [100/235], Loss: 0.0592\n",
            "Epoch [5/5], Step [200/235], Loss: 0.0861\n",
            "CPU times: user 23.7 s, sys: 359 ms, total: 24 s\n",
            "Wall time: 24 s\n"
          ]
        }
      ]
    },
    {
      "cell_type": "markdown",
      "source": [
        "#### Testing"
      ],
      "metadata": {
        "id": "aXmC0E-ORsDR"
      }
    },
    {
      "cell_type": "code",
      "source": [
        "with torch.no_grad():\n",
        "    n_correct = 0\n",
        "    n_samples = 0\n",
        "    for images, labels in test_loader:\n",
        "        images = images.reshape(-1, 28*28).to(device)\n",
        "        labels = labels.to(device)\n",
        "        outputs = model(images)\n",
        "        # max returns (value ,index)\n",
        "        _, predicted = torch.max(outputs.data, 1)\n",
        "        n_samples += labels.size(0)\n",
        "        n_correct += (predicted == labels).sum().item()\n",
        "\n",
        "    acc = 100.0 * n_correct / n_samples\n",
        "    print(f'Accuracy of the network on the 10000 test images: {acc} %')"
      ],
      "metadata": {
        "colab": {
          "base_uri": "https://localhost:8080/"
        },
        "id": "D1AiWK9ANDK8",
        "outputId": "6088ee7f-10de-4753-c3ec-a9a7ded6c94e"
      },
      "execution_count": 13,
      "outputs": [
        {
          "output_type": "stream",
          "name": "stdout",
          "text": [
            "Accuracy of the network on the 10000 test images: 97.57 %\n"
          ]
        }
      ]
    },
    {
      "cell_type": "markdown",
      "metadata": {
        "id": "8JHDwTgFsMeT"
      },
      "source": [
        "### Using the Numpy"
      ]
    },
    {
      "cell_type": "markdown",
      "metadata": {
        "id": "m71Mxp2ivWRp"
      },
      "source": [
        "#### Loss Functions"
      ]
    },
    {
      "cell_type": "code",
      "execution_count": 14,
      "metadata": {
        "id": "ZCJ9iEfmtGmV"
      },
      "outputs": [],
      "source": [
        "def mse(y_true, y_pred):\n",
        "    return np.mean(np.power(y_true - y_pred, 2))\n",
        "\n",
        "def mse_prime(y_true, y_pred):\n",
        "    return 2 * (y_pred - y_true) / np.size(y_true)\n",
        "\n",
        "def binary_cross_entropy(y_true, y_pred):\n",
        "    return np.mean(-y_true * np.log(y_pred) - (1 - y_true) * np.log(1 - y_pred))\n",
        "\n",
        "def binary_cross_entropy_prime(y_true, y_pred):\n",
        "    return ((1 - y_true) / (1 - y_pred) - y_true / y_pred) / np.size(y_true)"
      ]
    },
    {
      "cell_type": "markdown",
      "metadata": {
        "id": "A1YmoLev8onL"
      },
      "source": [
        "#### Activation Functions"
      ]
    },
    {
      "cell_type": "code",
      "execution_count": 15,
      "metadata": {
        "id": "KRJwZb3LzaD0"
      },
      "outputs": [],
      "source": [
        "def tanh(x):\n",
        "  return np.tanh(x)\n",
        "\n",
        "def tanh_prime(x):\n",
        "  return 1 - np.tanh(x) ** 2"
      ]
    },
    {
      "cell_type": "code",
      "execution_count": 16,
      "metadata": {
        "id": "LH-43l1N6SoO"
      },
      "outputs": [],
      "source": [
        "def sigmoid(x):\n",
        "  return 1/(1+np.exp(-x))\n",
        "\n",
        "def sigmoid_prime(x):\n",
        "  s = 1/(1+np.exp(-x))\n",
        "  ds = s*(1-s)\n",
        "  return ds"
      ]
    },
    {
      "cell_type": "code",
      "execution_count": 17,
      "metadata": {
        "id": "Dg0ucoe06SoO"
      },
      "outputs": [],
      "source": [
        "def relu(x):\n",
        "  return np.maximum(0,x)\n",
        "\n",
        "def relu_prime(x):\n",
        "  return (x>0).astype(x.dtype)"
      ]
    },
    {
      "cell_type": "markdown",
      "metadata": {
        "id": "_6sFXydFvYuF"
      },
      "source": [
        "#### class Layer"
      ]
    },
    {
      "cell_type": "code",
      "execution_count": 18,
      "metadata": {
        "id": "q9tc-xPLtCyd"
      },
      "outputs": [],
      "source": [
        "class Layer:\n",
        "    def __init__(self):\n",
        "        self.input = None\n",
        "        self.output = None\n",
        "\n",
        "    def forward(self, input):\n",
        "        # TODO: return output\n",
        "        pass\n",
        "\n",
        "    def backward(self, output_gradient, learning_rate):\n",
        "        # TODO: update parameters and return input gradient\n",
        "        pass"
      ]
    },
    {
      "cell_type": "markdown",
      "metadata": {
        "id": "j1apvwBWvcs5"
      },
      "source": [
        "#### class Activation(Layer)"
      ]
    },
    {
      "cell_type": "code",
      "execution_count": 19,
      "metadata": {
        "id": "l1pBLTS1t-hV"
      },
      "outputs": [],
      "source": [
        "class Activation(Layer):\n",
        "    def __init__(self, activation, activation_prime):\n",
        "        self.activation = activation\n",
        "        self.activation_prime = activation_prime\n",
        "\n",
        "    def forward(self, input):\n",
        "        self.input = input\n",
        "        return self.activation(self.input)\n",
        "\n",
        "    def backward(self, output_gradient, learning_rate):\n",
        "        return np.multiply(output_gradient, self.activation_prime(self.input))"
      ]
    },
    {
      "cell_type": "markdown",
      "metadata": {
        "id": "E7ekyuq5vhIb"
      },
      "source": [
        "#### class Dense(Layer)"
      ]
    },
    {
      "cell_type": "code",
      "execution_count": 20,
      "metadata": {
        "id": "jnwqfgZ1sOug"
      },
      "outputs": [],
      "source": [
        "class Dense(Layer):\n",
        "    def __init__(self, input_size, output_size):\n",
        "        self.weights = np.random.randn(output_size, input_size)\n",
        "        self.bias = np.random.randn(output_size, 1)\n",
        "\n",
        "    def forward(self, input):\n",
        "        self.input = input\n",
        "        self.output = np.dot(self.weights, self.input) + self.bias\n",
        "        return self.output\n",
        "\n",
        "    def backward(self, output_gradient, learning_rate):\n",
        "        input_gradient = np.dot(self.weights.T, output_gradient)\n",
        "        # print( f'output_gradient.shape: {output_gradient.shape}' )\n",
        "        weights_gradients = np.dot(output_gradient, self.input.T)\n",
        "        bias_gradients = np.sum(output_gradient, axis=0).reshape((1, -1))\n",
        "\n",
        "        # update parameters\n",
        "        # print( f'learning_rate: {learning_rate}' )\n",
        "        # print( f'weights_gradients.shape: {weights_gradients.shape}' )\n",
        "        self.weights -= learning_rate * weights_gradients\n",
        "        self.bias -= learning_rate * bias_gradients\n",
        "        return input_gradient "
      ]
    },
    {
      "cell_type": "markdown",
      "metadata": {
        "id": "d3u673AxvoRy"
      },
      "source": [
        "#### function predict()"
      ]
    },
    {
      "cell_type": "code",
      "execution_count": 21,
      "metadata": {
        "id": "FwUcSfQ8sO0S"
      },
      "outputs": [],
      "source": [
        "def predict(network, input):\n",
        "    output = input\n",
        "    for layer in network:\n",
        "        output = layer.forward(output)\n",
        "    return output"
      ]
    },
    {
      "cell_type": "markdown",
      "metadata": {
        "id": "1ed25mo3vkfg"
      },
      "source": [
        "#### function train()"
      ]
    },
    {
      "cell_type": "code",
      "execution_count": 22,
      "metadata": {
        "id": "sNFNobT_Mml0"
      },
      "outputs": [],
      "source": [
        "def train(network, loss, loss_prime, x_train, y_train, epochs = 1000, learning_rate = 0.01, batch_size = -1, verbose = True):\n",
        "\n",
        "    if batch_size > -1: # training using batches\n",
        "\n",
        "        n_samples = len(x_train)\n",
        "        n_batches = n_samples//batch_size\n",
        "\n",
        "        batch_list_x = list()\n",
        "        batch_list_y = list()\n",
        "        for k in range(n_batches):\n",
        "\n",
        "              ini = k * batch_size\n",
        "              end = (k + 1) * batch_size\n",
        "              batch_x = x_train[ini:end]\n",
        "              batch_y = y_train[ini:end]\n",
        "              batch_list_x.append( batch_x )\n",
        "              batch_list_y.append( batch_y )\n",
        "\n",
        "        if (n_batches * batch_size < len(x_train)):\n",
        "\n",
        "              batch_x = x_train[ n_batches * batch_size: ]\n",
        "              batch_y = y_train[ n_batches * batch_size: ]\n",
        "              batch_list_x.append( batch_x )\n",
        "              batch_list_y.append( batch_y )\n",
        "\n",
        "        inner_verbose = False\n",
        "        for e in range(epochs):\n",
        "\n",
        "            if(inner_verbose):\n",
        "                print( '========================================' )\n",
        "                print( f'epoch number: {e}' )\n",
        "\n",
        "            epoch_error = 0\n",
        "            if inner_verbose:\n",
        "                batch_index = 0\n",
        "            # for key, batch_x in enumerate(batch_list_x):\n",
        "            for batch_x, batch_y in zip(batch_list_x, batch_list_y):\n",
        "\n",
        "                if inner_verbose:\n",
        "                    print( '-------------------------------------' )\n",
        "                    print( f'batch index: {batch_index}' )\n",
        "\n",
        "                y_pred_list = list()\n",
        "                for key, x in enumerate(batch_x):\n",
        "\n",
        "                    # forward\n",
        "                    y_pred = predict(network, x)\n",
        "                    # print( f'y_pred: {y_pred}' )\n",
        "\n",
        "                    y_pred_list.append( y_pred )\n",
        "\n",
        "                batch_error = loss(batch_y, y_pred_list)\n",
        "                if inner_verbose:\n",
        "                    print( f'batch_error: {batch_error}' )\n",
        "\n",
        "                epoch_error += batch_error\n",
        "\n",
        "                # backward\n",
        "                grad = loss_prime(batch_y, y_pred_list) # b, n\n",
        "                # print( f'grad.shape: {grad.shape}' )\n",
        "                # print( f'grad[0]: {grad[0]}' )\n",
        "                # print( f'grad[0][0]: {grad[0][0]}' )\n",
        "                # print( f'grad[1][0]: {grad[1][0]}' )\n",
        "                # print( f'grad[2][0]: {grad[2][0]}' )\n",
        "\n",
        "                grad = np.sum(grad, axis=0)\n",
        "                # grad /= len(batch_y)\n",
        "                # print( f'grad.shape: {grad.shape}' )\n",
        "                # print( f'grad[0]: {grad[0]}' )\n",
        "\n",
        "                for layer in reversed(network):\n",
        "                    grad = layer.backward(grad, learning_rate)\n",
        "\n",
        "                if inner_verbose:\n",
        "                    batch_index += 1\n",
        "\n",
        "            epoch_error /= len(batch_list_x)\n",
        "            if inner_verbose:\n",
        "                # print( f'epoch_error /= len(batch_list_x): {epoch_error}' )\n",
        "                print()\n",
        "                print( f'epoch_error: {epoch_error}' )\n",
        "\n",
        "            if verbose:\n",
        "                if e % 100 == 0:\n",
        "                    print(f\"{e}/{epochs}, epoch_error={epoch_error:.15}\")\n",
        "\n",
        "    else: # training item by item (stochastic)\n",
        "\n",
        "        for e in range(epochs):\n",
        "            error = 0\n",
        "            for x, y in zip(x_train, y_train):\n",
        "                # forward\n",
        "                y_pred = predict(network, x)\n",
        "\n",
        "                # error\n",
        "                error += loss(y, y_pred)\n",
        "\n",
        "                # backward\n",
        "                grad = loss_prime(y, y_pred)\n",
        "                for layer in reversed(network):\n",
        "                    grad = layer.backward(grad, learning_rate)\n",
        "\n",
        "            error /= len(x_train)\n",
        "\n",
        "            if verbose:\n",
        "                if e % 100 == 0:\n",
        "                    print(f\"{e}/{epochs}, error={error:.3}\")"
      ]
    },
    {
      "cell_type": "markdown",
      "metadata": {
        "id": "VBi2gzj2tqRp"
      },
      "source": [
        "#### Example: XOR"
      ]
    },
    {
      "cell_type": "code",
      "execution_count": 23,
      "metadata": {
        "id": "tBaIStgfsO8m"
      },
      "outputs": [],
      "source": [
        "X = np.reshape([[0, 0], [0, 1], [1, 0], [1, 1]], (4, 2, 1))\n",
        "Y = np.reshape([[0], [1], [1], [0]], (4, 1, 1))"
      ]
    },
    {
      "cell_type": "markdown",
      "metadata": {
        "id": "kLSQOyZqmelh"
      },
      "source": [
        "##### Neural Network"
      ]
    },
    {
      "cell_type": "code",
      "execution_count": 24,
      "metadata": {
        "id": "8S2ye1Wsmf7n"
      },
      "outputs": [],
      "source": [
        "network = [\n",
        "    Dense(input_size = 2, \n",
        "          output_size = 3),\n",
        "    Activation(activation = tanh, \n",
        "               activation_prime = tanh_prime),\n",
        "    Dense(input_size = 3, \n",
        "          output_size = 1),\n",
        "    Activation(activation = tanh,\n",
        "               activation_prime = tanh_prime)\n",
        "]"
      ]
    },
    {
      "cell_type": "markdown",
      "metadata": {
        "id": "8cKQ8Fhbhq1H"
      },
      "source": [
        "##### Training"
      ]
    },
    {
      "cell_type": "code",
      "execution_count": 25,
      "metadata": {
        "colab": {
          "base_uri": "https://localhost:8080/"
        },
        "id": "hI5yLJhGhsqN",
        "outputId": "67bc2e64-e8d5-4e69-f3ff-c5bf8defeafa"
      },
      "outputs": [
        {
          "output_type": "stream",
          "name": "stdout",
          "text": [
            "0/10000, error=0.42\n",
            "100/10000, error=0.0047\n",
            "200/10000, error=0.00165\n",
            "300/10000, error=0.000975\n",
            "400/10000, error=0.000684\n",
            "500/10000, error=0.000524\n",
            "600/10000, error=0.000423\n",
            "700/10000, error=0.000355\n",
            "800/10000, error=0.000304\n",
            "900/10000, error=0.000266\n",
            "1000/10000, error=0.000237\n",
            "1100/10000, error=0.000213\n",
            "1200/10000, error=0.000193\n",
            "1300/10000, error=0.000177\n",
            "1400/10000, error=0.000163\n",
            "1500/10000, error=0.000151\n",
            "1600/10000, error=0.000141\n",
            "1700/10000, error=0.000132\n",
            "1800/10000, error=0.000124\n",
            "1900/10000, error=0.000117\n",
            "2000/10000, error=0.00011\n",
            "2100/10000, error=0.000105\n",
            "2200/10000, error=9.96e-05\n",
            "2300/10000, error=9.49e-05\n",
            "2400/10000, error=9.07e-05\n",
            "2500/10000, error=8.68e-05\n",
            "2600/10000, error=8.32e-05\n",
            "2700/10000, error=7.99e-05\n",
            "2800/10000, error=7.68e-05\n",
            "2900/10000, error=7.4e-05\n",
            "3000/10000, error=7.13e-05\n",
            "3100/10000, error=6.89e-05\n",
            "3200/10000, error=6.66e-05\n",
            "3300/10000, error=6.44e-05\n",
            "3400/10000, error=6.24e-05\n",
            "3500/10000, error=6.05e-05\n",
            "3600/10000, error=5.87e-05\n",
            "3700/10000, error=5.7e-05\n",
            "3800/10000, error=5.54e-05\n",
            "3900/10000, error=5.39e-05\n",
            "4000/10000, error=5.25e-05\n",
            "4100/10000, error=5.11e-05\n",
            "4200/10000, error=4.98e-05\n",
            "4300/10000, error=4.86e-05\n",
            "4400/10000, error=4.74e-05\n",
            "4500/10000, error=4.63e-05\n",
            "4600/10000, error=4.52e-05\n",
            "4700/10000, error=4.42e-05\n",
            "4800/10000, error=4.32e-05\n",
            "4900/10000, error=4.23e-05\n",
            "5000/10000, error=4.14e-05\n",
            "5100/10000, error=4.06e-05\n",
            "5200/10000, error=3.97e-05\n",
            "5300/10000, error=3.89e-05\n",
            "5400/10000, error=3.82e-05\n",
            "5500/10000, error=3.74e-05\n",
            "5600/10000, error=3.67e-05\n",
            "5700/10000, error=3.61e-05\n",
            "5800/10000, error=3.54e-05\n",
            "5900/10000, error=3.48e-05\n",
            "6000/10000, error=3.42e-05\n",
            "6100/10000, error=3.36e-05\n",
            "6200/10000, error=3.3e-05\n",
            "6300/10000, error=3.24e-05\n",
            "6400/10000, error=3.19e-05\n",
            "6500/10000, error=3.14e-05\n",
            "6600/10000, error=3.09e-05\n",
            "6700/10000, error=3.04e-05\n",
            "6800/10000, error=2.99e-05\n",
            "6900/10000, error=2.95e-05\n",
            "7000/10000, error=2.9e-05\n",
            "7100/10000, error=2.86e-05\n",
            "7200/10000, error=2.82e-05\n",
            "7300/10000, error=2.78e-05\n",
            "7400/10000, error=2.74e-05\n",
            "7500/10000, error=2.7e-05\n",
            "7600/10000, error=2.66e-05\n",
            "7700/10000, error=2.63e-05\n",
            "7800/10000, error=2.59e-05\n",
            "7900/10000, error=2.56e-05\n",
            "8000/10000, error=2.52e-05\n",
            "8100/10000, error=2.49e-05\n",
            "8200/10000, error=2.46e-05\n",
            "8300/10000, error=2.43e-05\n",
            "8400/10000, error=2.4e-05\n",
            "8500/10000, error=2.37e-05\n",
            "8600/10000, error=2.34e-05\n",
            "8700/10000, error=2.31e-05\n",
            "8800/10000, error=2.28e-05\n",
            "8900/10000, error=2.26e-05\n",
            "9000/10000, error=2.23e-05\n",
            "9100/10000, error=2.21e-05\n",
            "9200/10000, error=2.18e-05\n",
            "9300/10000, error=2.16e-05\n",
            "9400/10000, error=2.13e-05\n",
            "9500/10000, error=2.11e-05\n",
            "9600/10000, error=2.08e-05\n",
            "9700/10000, error=2.06e-05\n",
            "9800/10000, error=2.04e-05\n",
            "9900/10000, error=2.02e-05\n",
            "CPU times: user 3.03 s, sys: 47.7 ms, total: 3.08 s\n",
            "Wall time: 3.07 s\n"
          ]
        }
      ],
      "source": [
        "%%time\n",
        "\n",
        "train(network, \n",
        "      loss = mse, \n",
        "      loss_prime = mse_prime, \n",
        "      x_train = X, \n",
        "      y_train = Y, \n",
        "      epochs = 10000, \n",
        "      learning_rate = 0.1)"
      ]
    },
    {
      "cell_type": "code",
      "execution_count": 26,
      "metadata": {
        "colab": {
          "base_uri": "https://localhost:8080/",
          "height": 248
        },
        "id": "ENzQRzmRsO3M",
        "outputId": "03991715-0b18-4b93-a438-de41ea2c5303"
      },
      "outputs": [
        {
          "output_type": "display_data",
          "data": {
            "text/plain": [
              "<Figure size 432x288 with 1 Axes>"
            ],
            "image/png": "[encoded data removed]"
          },
          "metadata": {
            "needs_background": "light"
          }
        }
      ],
      "source": [
        "# decision boundary plot\n",
        "points = []\n",
        "for x in np.linspace(0, 1, 20):\n",
        "    for y in np.linspace(0, 1, 20):\n",
        "        z = predict(network, [[x], [y]])\n",
        "        points.append([x, y, z[0,0]])\n",
        "\n",
        "points = np.array(points)\n",
        "\n",
        "fig = plt.figure()\n",
        "ax = fig.add_subplot(111, projection=\"3d\")\n",
        "ax.scatter(points[:, 0], points[:, 1], points[:, 2], c=points[:, 2], cmap=\"winter\")\n",
        "plt.show()"
      ]
    },
    {
      "cell_type": "markdown",
      "metadata": {
        "id": "_OSZUaHL9zUh"
      },
      "source": [
        "#### Example: MNIST"
      ]
    },
    {
      "cell_type": "code",
      "execution_count": 27,
      "metadata": {
        "id": "HMMN7BtI91TX"
      },
      "outputs": [],
      "source": [
        "# load MNIST from server\n",
        "(x_train, y_train), (x_test, y_test) = mnist.load_data()"
      ]
    },
    {
      "cell_type": "markdown",
      "metadata": {
        "id": "I_9PSGOkkX6h"
      },
      "source": [
        "##### Loading the data"
      ]
    },
    {
      "cell_type": "code",
      "execution_count": 28,
      "metadata": {
        "id": "L5Gcoq1nkYBS"
      },
      "outputs": [],
      "source": [
        "total_examples_train = 1000"
      ]
    },
    {
      "cell_type": "code",
      "execution_count": 29,
      "metadata": {
        "id": "P8zCarNEV-Wj"
      },
      "outputs": [],
      "source": [
        "total_examples_test = total_examples_train * .1\n",
        "total_examples_test = int(total_examples_test)"
      ]
    },
    {
      "cell_type": "code",
      "execution_count": 30,
      "metadata": {
        "colab": {
          "base_uri": "https://localhost:8080/"
        },
        "id": "fwcWHKKgYBtK",
        "outputId": "696e12c5-5e4f-4a5f-e276-825a8c88f02c"
      },
      "outputs": [
        {
          "output_type": "execute_result",
          "data": {
            "text/plain": [
              "(28, 28)"
            ]
          },
          "metadata": {},
          "execution_count": 30
        }
      ],
      "source": [
        "x_train[0].shape"
      ]
    },
    {
      "cell_type": "code",
      "execution_count": 31,
      "metadata": {
        "colab": {
          "base_uri": "https://localhost:8080/",
          "height": 336
        },
        "id": "Xd7qKexIkyR4",
        "outputId": "921bc24e-7f60-4218-ce97-5b426ff49294"
      },
      "outputs": [
        {
          "output_type": "display_data",
          "data": {
            "text/plain": [
              "<Figure size 720x360 with 1 Axes>"
            ],
            "image/png": "[encoded data removed]"
          },
          "metadata": {
            "needs_background": "light"
          }
        }
      ],
      "source": [
        "fig, axes = plt.subplots( 1, 1, figsize=( 10, 5 ) )\n",
        "\n",
        "axes.set_title( f'Label: {y_train[0]}' )\n",
        "axes.imshow( x_train[0], cmap='gray' )\n",
        "\n",
        "plt.show()"
      ]
    },
    {
      "cell_type": "code",
      "execution_count": 32,
      "metadata": {
        "colab": {
          "base_uri": "https://localhost:8080/"
        },
        "id": "tjLOjGg9TENH",
        "outputId": "54b9e983-1a31-495f-9506-d8ced142b6d3"
      },
      "outputs": [
        {
          "output_type": "execute_result",
          "data": {
            "text/plain": [
              "array([[  0,   0,   0,   0,   0,   0,   0,   0,   0,   0,   0,   0,   0,\n",
              "          0,   0,   0,   0,   0,   0,   0,   0,   0,   0,   0,   0,   0,\n",
              "          0,   0],\n",
              "       [  0,   0,   0,   0,   0,   0,   0,   0,   0,   0,   0,   0,   0,\n",
              "          0,   0,   0,   0,   0,   0,   0,   0,   0,   0,   0,   0,   0,\n",
              "          0,   0],\n",
              "       [  0,   0,   0,   0,   0,   0,   0,   0,   0,   0,   0,   0,   0,\n",
              "          0,   0,   0,   0,   0,   0,   0,   0,   0,   0,   0,   0,   0,\n",
              "          0,   0],\n",
              "       [  0,   0,   0,   0,   0,   0,   0,   0,   0,   0,   0,   0,   0,\n",
              "          0,   0,   0,   0,   0,   0,   0,   0,   0,   0,   0,   0,   0,\n",
              "          0,   0],\n",
              "       [  0,   0,   0,   0,   0,   0,   0,   0,   0,   0,   0,   0,   0,\n",
              "          0,   0,   0,   0,   0,   0,   0,   0,   0,   0,   0,   0,   0,\n",
              "          0,   0],\n",
              "       [  0,   0,   0,   0,   0,   0,   0,   0,   0,   0,   0,   0,   3,\n",
              "         18,  18,  18, 126, 136, 175,  26, 166, 255, 247, 127,   0,   0,\n",
              "          0,   0],\n",
              "       [  0,   0,   0,   0,   0,   0,   0,   0,  30,  36,  94, 154, 170,\n",
              "        253, 253, 253, 253, 253, 225, 172, 253, 242, 195,  64,   0,   0,\n",
              "          0,   0],\n",
              "       [  0,   0,   0,   0,   0,   0,   0,  49, 238, 253, 253, 253, 253,\n",
              "        253, 253, 253, 253, 251,  93,  82,  82,  56,  39,   0,   0,   0,\n",
              "          0,   0],\n",
              "       [  0,   0,   0,   0,   0,   0,   0,  18, 219, 253, 253, 253, 253,\n",
              "        253, 198, 182, 247, 241,   0,   0,   0,   0,   0,   0,   0,   0,\n",
              "          0,   0],\n",
              "       [  0,   0,   0,   0,   0,   0,   0,   0,  80, 156, 107, 253, 253,\n",
              "        205,  11,   0,  43, 154,   0,   0,   0,   0,   0,   0,   0,   0,\n",
              "          0,   0],\n",
              "       [  0,   0,   0,   0,   0,   0,   0,   0,   0,  14,   1, 154, 253,\n",
              "         90,   0,   0,   0,   0,   0,   0,   0,   0,   0,   0,   0,   0,\n",
              "          0,   0],\n",
              "       [  0,   0,   0,   0,   0,   0,   0,   0,   0,   0,   0, 139, 253,\n",
              "        190,   2,   0,   0,   0,   0,   0,   0,   0,   0,   0,   0,   0,\n",
              "          0,   0],\n",
              "       [  0,   0,   0,   0,   0,   0,   0,   0,   0,   0,   0,  11, 190,\n",
              "        253,  70,   0,   0,   0,   0,   0,   0,   0,   0,   0,   0,   0,\n",
              "          0,   0],\n",
              "       [  0,   0,   0,   0,   0,   0,   0,   0,   0,   0,   0,   0,  35,\n",
              "        241, 225, 160, 108,   1,   0,   0,   0,   0,   0,   0,   0,   0,\n",
              "          0,   0],\n",
              "       [  0,   0,   0,   0,   0,   0,   0,   0,   0,   0,   0,   0,   0,\n",
              "         81, 240, 253, 253, 119,  25,   0,   0,   0,   0,   0,   0,   0,\n",
              "          0,   0],\n",
              "       [  0,   0,   0,   0,   0,   0,   0,   0,   0,   0,   0,   0,   0,\n",
              "          0,  45, 186, 253, 253, 150,  27,   0,   0,   0,   0,   0,   0,\n",
              "          0,   0],\n",
              "       [  0,   0,   0,   0,   0,   0,   0,   0,   0,   0,   0,   0,   0,\n",
              "          0,   0,  16,  93, 252, 253, 187,   0,   0,   0,   0,   0,   0,\n",
              "          0,   0],\n",
              "       [  0,   0,   0,   0,   0,   0,   0,   0,   0,   0,   0,   0,   0,\n",
              "          0,   0,   0,   0, 249, 253, 249,  64,   0,   0,   0,   0,   0,\n",
              "          0,   0],\n",
              "       [  0,   0,   0,   0,   0,   0,   0,   0,   0,   0,   0,   0,   0,\n",
              "          0,  46, 130, 183, 253, 253, 207,   2,   0,   0,   0,   0,   0,\n",
              "          0,   0],\n",
              "       [  0,   0,   0,   0,   0,   0,   0,   0,   0,   0,   0,   0,  39,\n",
              "        148, 229, 253, 253, 253, 250, 182,   0,   0,   0,   0,   0,   0,\n",
              "          0,   0],\n",
              "       [  0,   0,   0,   0,   0,   0,   0,   0,   0,   0,  24, 114, 221,\n",
              "        253, 253, 253, 253, 201,  78,   0,   0,   0,   0,   0,   0,   0,\n",
              "          0,   0],\n",
              "       [  0,   0,   0,   0,   0,   0,   0,   0,  23,  66, 213, 253, 253,\n",
              "        253, 253, 198,  81,   2,   0,   0,   0,   0,   0,   0,   0,   0,\n",
              "          0,   0],\n",
              "       [  0,   0,   0,   0,   0,   0,  18, 171, 219, 253, 253, 253, 253,\n",
              "        195,  80,   9,   0,   0,   0,   0,   0,   0,   0,   0,   0,   0,\n",
              "          0,   0],\n",
              "       [  0,   0,   0,   0,  55, 172, 226, 253, 253, 253, 253, 244, 133,\n",
              "         11,   0,   0,   0,   0,   0,   0,   0,   0,   0,   0,   0,   0,\n",
              "          0,   0],\n",
              "       [  0,   0,   0,   0, 136, 253, 253, 253, 212, 135, 132,  16,   0,\n",
              "          0,   0,   0,   0,   0,   0,   0,   0,   0,   0,   0,   0,   0,\n",
              "          0,   0],\n",
              "       [  0,   0,   0,   0,   0,   0,   0,   0,   0,   0,   0,   0,   0,\n",
              "          0,   0,   0,   0,   0,   0,   0,   0,   0,   0,   0,   0,   0,\n",
              "          0,   0],\n",
              "       [  0,   0,   0,   0,   0,   0,   0,   0,   0,   0,   0,   0,   0,\n",
              "          0,   0,   0,   0,   0,   0,   0,   0,   0,   0,   0,   0,   0,\n",
              "          0,   0],\n",
              "       [  0,   0,   0,   0,   0,   0,   0,   0,   0,   0,   0,   0,   0,\n",
              "          0,   0,   0,   0,   0,   0,   0,   0,   0,   0,   0,   0,   0,\n",
              "          0,   0]], dtype=uint8)"
            ]
          },
          "metadata": {},
          "execution_count": 32
        }
      ],
      "source": [
        "x_train[0]"
      ]
    },
    {
      "cell_type": "markdown",
      "metadata": {
        "id": "JANAzxfJdJXo"
      },
      "source": [
        "##### Depicting examples"
      ]
    },
    {
      "cell_type": "code",
      "execution_count": 33,
      "metadata": {
        "colab": {
          "base_uri": "https://localhost:8080/",
          "height": 473
        },
        "id": "1iytJvAgX36C",
        "outputId": "b4ab4df2-701e-4fe9-c399-9ea0cf1c9891"
      },
      "outputs": [
        {
          "output_type": "display_data",
          "data": {
            "text/plain": [
              "<Figure size 1080x576 with 21 Axes>"
            ],
            "image/png": "[encoded data removed]"
          },
          "metadata": {
            "needs_background": "light"
          }
        }
      ],
      "source": [
        "rows = 3\n",
        "columns = 7\n",
        "\n",
        "fig, axes = plt.subplots( rows, columns, figsize=( 15, 8 ) )\n",
        "\n",
        "for i in range(rows):\n",
        "  for j in range(columns):\n",
        "    random_number = int(np.random.rand() * total_examples_train)\n",
        "    axes[i][j].set_title( f'Label: {y_train[random_number]}' )\n",
        "    axes[i][j].imshow( x_train[random_number], cmap='gray' )\n",
        "\n",
        "plt.show()"
      ]
    },
    {
      "cell_type": "markdown",
      "metadata": {
        "id": "Y-xQOhu3dAdE"
      },
      "source": [
        "##### Preprocessing Data"
      ]
    },
    {
      "cell_type": "code",
      "execution_count": 34,
      "metadata": {
        "id": "oVQI0CQLsO5_"
      },
      "outputs": [],
      "source": [
        "def preprocess_data(x, y, limit):\n",
        "    # reshape and normalize input data\n",
        "    x = x.reshape(x.shape[0], 28 * 28, 1)\n",
        "    x = x.astype(\"float32\") / 255\n",
        "    # encode output which is a number in range [0,9] into a vector of size 10\n",
        "    # e.g. number 3 will become [0, 0, 0, 1, 0, 0, 0, 0, 0, 0]\n",
        "    y = np_utils.to_categorical(y)\n",
        "    y = y.reshape(y.shape[0], 10, 1)\n",
        "    return x[:limit], y[:limit]"
      ]
    },
    {
      "cell_type": "code",
      "execution_count": 35,
      "metadata": {
        "id": "DOrqrXJTZ_E5"
      },
      "outputs": [],
      "source": [
        "x_train, y_train = preprocess_data(x_train, y_train, total_examples_train)\n",
        "x_test, y_test = preprocess_data(x_test, y_test, total_examples_test)"
      ]
    },
    {
      "cell_type": "markdown",
      "metadata": {
        "id": "ELbAsarTmmt3"
      },
      "source": [
        "##### Neural Network"
      ]
    },
    {
      "cell_type": "code",
      "execution_count": 36,
      "metadata": {
        "id": "eZP9rM_991Wp"
      },
      "outputs": [],
      "source": [
        "network = [\n",
        "    Dense(input_size = 28 * 28, \n",
        "          output_size = 40),\n",
        "    Activation(activation = tanh, \n",
        "               activation_prime = tanh_prime),\n",
        "    Dense(input_size = 40, \n",
        "          output_size = 10),\n",
        "    Activation(activation = tanh,\n",
        "               activation_prime = tanh_prime),\n",
        "]"
      ]
    },
    {
      "cell_type": "markdown",
      "metadata": {
        "id": "hn7CSFqEDCks"
      },
      "source": [
        "##### Training"
      ]
    },
    {
      "cell_type": "code",
      "execution_count": 37,
      "metadata": {
        "colab": {
          "base_uri": "https://localhost:8080/"
        },
        "id": "dwrW39Iv91ZN",
        "outputId": "5559006e-c958-4958-f764-b16173bb06b2"
      },
      "outputs": [
        {
          "output_type": "stream",
          "name": "stdout",
          "text": [
            "0/1000, error=0.889\n",
            "100/1000, error=0.0747\n",
            "200/1000, error=0.0613\n",
            "300/1000, error=0.0549\n",
            "400/1000, error=0.0502\n",
            "500/1000, error=0.0456\n",
            "600/1000, error=0.0407\n",
            "700/1000, error=0.0369\n",
            "800/1000, error=0.0352\n",
            "900/1000, error=0.0332\n",
            "CPU times: user 4min 3s, sys: 3min 11s, total: 7min 15s\n",
            "Wall time: 3min 43s\n"
          ]
        }
      ],
      "source": [
        "%%time\n",
        "\n",
        "train(network, \n",
        "      loss = mse, \n",
        "      loss_prime = mse_prime, \n",
        "      x_train = x_train, \n",
        "      y_train = y_train, \n",
        "      epochs = 1000, \n",
        "      learning_rate = 0.1)\n",
        "      # epochs = 100000, \n",
        "      # learning_rate = 1e-5,\n",
        "      # batch_size = 256)"
      ]
    },
    {
      "cell_type": "markdown",
      "metadata": {
        "id": "UmC-kT0Gi8q-"
      },
      "source": [
        "##### Testing"
      ]
    },
    {
      "cell_type": "code",
      "execution_count": 38,
      "metadata": {
        "colab": {
          "base_uri": "https://localhost:8080/"
        },
        "id": "JxWd2D1djQ1V",
        "outputId": "64532428-cb85-4256-cc4a-1c7633f3d336"
      },
      "outputs": [
        {
          "output_type": "stream",
          "name": "stdout",
          "text": [
            "len(y_test): 100\n"
          ]
        }
      ],
      "source": [
        "print( f'len(y_test): {len(y_test)}' )"
      ]
    },
    {
      "cell_type": "code",
      "execution_count": 39,
      "metadata": {
        "colab": {
          "base_uri": "https://localhost:8080/"
        },
        "id": "8Y3vA1od91cb",
        "outputId": "ba7ce2b4-0b67-4346-bf69-97cd3c52b2e2"
      },
      "outputs": [
        {
          "output_type": "stream",
          "name": "stdout",
          "text": [
            "pred: 7 \ttrue: 7\n",
            "pred: 6 \ttrue: 2\n",
            "pred: 1 \ttrue: 1\n",
            "pred: 0 \ttrue: 0\n",
            "pred: 4 \ttrue: 4\n",
            "pred: 1 \ttrue: 1\n",
            "pred: 4 \ttrue: 4\n",
            "pred: 9 \ttrue: 9\n",
            "pred: 6 \ttrue: 5\n",
            "pred: 7 \ttrue: 9\n",
            "pred: 0 \ttrue: 0\n",
            "pred: 8 \ttrue: 6\n",
            "pred: 9 \ttrue: 9\n",
            "pred: 0 \ttrue: 0\n",
            "pred: 1 \ttrue: 1\n",
            "pred: 8 \ttrue: 5\n",
            "pred: 4 \ttrue: 9\n",
            "pred: 7 \ttrue: 7\n",
            "pred: 9 \ttrue: 3\n",
            "pred: 4 \ttrue: 4\n",
            "pred: 9 \ttrue: 9\n",
            "pred: 6 \ttrue: 6\n",
            "pred: 3 \ttrue: 6\n",
            "pred: 8 \ttrue: 5\n",
            "pred: 4 \ttrue: 4\n",
            "pred: 0 \ttrue: 0\n",
            "pred: 7 \ttrue: 7\n",
            "pred: 4 \ttrue: 4\n",
            "pred: 0 \ttrue: 0\n",
            "pred: 1 \ttrue: 1\n",
            "pred: 3 \ttrue: 3\n",
            "pred: 1 \ttrue: 1\n",
            "pred: 3 \ttrue: 3\n",
            "pred: 0 \ttrue: 4\n",
            "pred: 7 \ttrue: 7\n",
            "pred: 3 \ttrue: 2\n",
            "pred: 4 \ttrue: 7\n",
            "pred: 1 \ttrue: 1\n",
            "pred: 2 \ttrue: 2\n",
            "pred: 1 \ttrue: 1\n",
            "pred: 3 \ttrue: 1\n",
            "pred: 7 \ttrue: 7\n",
            "pred: 4 \ttrue: 4\n",
            "pred: 9 \ttrue: 2\n",
            "pred: 5 \ttrue: 3\n",
            "pred: 8 \ttrue: 5\n",
            "pred: 8 \ttrue: 1\n",
            "pred: 7 \ttrue: 2\n",
            "pred: 8 \ttrue: 4\n",
            "pred: 2 \ttrue: 4\n",
            "pred: 6 \ttrue: 6\n",
            "pred: 9 \ttrue: 3\n",
            "pred: 8 \ttrue: 5\n",
            "pred: 8 \ttrue: 5\n",
            "pred: 8 \ttrue: 6\n",
            "pred: 0 \ttrue: 0\n",
            "pred: 4 \ttrue: 4\n",
            "pred: 1 \ttrue: 1\n",
            "pred: 9 \ttrue: 9\n",
            "pred: 7 \ttrue: 5\n",
            "pred: 7 \ttrue: 7\n",
            "pred: 8 \ttrue: 8\n",
            "pred: 8 \ttrue: 9\n",
            "pred: 5 \ttrue: 3\n",
            "pred: 7 \ttrue: 7\n",
            "pred: 8 \ttrue: 4\n",
            "pred: 8 \ttrue: 6\n",
            "pred: 4 \ttrue: 4\n",
            "pred: 3 \ttrue: 3\n",
            "pred: 0 \ttrue: 0\n",
            "pred: 7 \ttrue: 7\n",
            "pred: 0 \ttrue: 0\n",
            "pred: 2 \ttrue: 2\n",
            "pred: 8 \ttrue: 9\n",
            "pred: 1 \ttrue: 1\n",
            "pred: 7 \ttrue: 7\n",
            "pred: 3 \ttrue: 3\n",
            "pred: 7 \ttrue: 2\n",
            "pred: 9 \ttrue: 9\n",
            "pred: 7 \ttrue: 7\n",
            "pred: 7 \ttrue: 7\n",
            "pred: 6 \ttrue: 6\n",
            "pred: 2 \ttrue: 2\n",
            "pred: 7 \ttrue: 7\n",
            "pred: 2 \ttrue: 8\n",
            "pred: 8 \ttrue: 4\n",
            "pred: 7 \ttrue: 7\n",
            "pred: 6 \ttrue: 3\n",
            "pred: 6 \ttrue: 6\n",
            "pred: 1 \ttrue: 1\n",
            "pred: 3 \ttrue: 3\n",
            "pred: 6 \ttrue: 6\n",
            "pred: 8 \ttrue: 9\n",
            "pred: 3 \ttrue: 3\n",
            "pred: 1 \ttrue: 1\n",
            "pred: 4 \ttrue: 4\n",
            "pred: 5 \ttrue: 1\n",
            "pred: 9 \ttrue: 7\n",
            "pred: 6 \ttrue: 6\n",
            "pred: 7 \ttrue: 9\n",
            "CPU times: user 27.7 ms, sys: 24.1 ms, total: 51.8 ms\n",
            "Wall time: 30.4 ms\n"
          ]
        }
      ],
      "source": [
        "%%time\n",
        "\n",
        "y_predicted = list()\n",
        "y_actual = list()\n",
        "\n",
        "for x, y in zip(x_test, y_test):\n",
        "    output = predict(network, x)\n",
        "\n",
        "    y_predicted.append( np.argmax(output) )\n",
        "    y_actual.append( np.argmax(y) )\n",
        "\n",
        "    print('pred:', np.argmax(output), '\\ttrue:', np.argmax(y))"
      ]
    },
    {
      "cell_type": "markdown",
      "metadata": {
        "id": "nyoSYVo-_psT"
      },
      "source": [
        "###### Confusion Matrix"
      ]
    },
    {
      "cell_type": "code",
      "execution_count": 40,
      "metadata": {
        "id": "FY6ZVW4491ez"
      },
      "outputs": [],
      "source": [
        "confusion_matrix = metrics.confusion_matrix(y_actual, y_predicted)\n",
        "# print(confusion_matrix)"
      ]
    },
    {
      "cell_type": "code",
      "execution_count": 41,
      "metadata": {
        "colab": {
          "base_uri": "https://localhost:8080/"
        },
        "id": "4aFbP0Ei91p3",
        "outputId": "417410b3-3c34-45d6-ce77-edecd81b2d8f"
      },
      "outputs": [
        {
          "output_type": "stream",
          "name": "stdout",
          "text": [
            "Predicted  0   1  2  3  4  5  6   7  8  9\n",
            "Actual                                   \n",
            "0          8   0  0  0  0  0  0   0  0  0\n",
            "1          0  11  0  1  0  1  0   0  1  0\n",
            "2          0   0  3  1  0  0  1   2  0  1\n",
            "3          0   0  0  6  0  2  1   0  0  2\n",
            "4          1   0  1  0  9  0  0   0  3  0\n",
            "5          0   0  0  0  0  0  1   1  5  0\n",
            "6          0   0  0  1  0  0  6   0  3  0\n",
            "7          0   0  0  0  1  0  0  13  0  1\n",
            "8          0   0  1  0  0  0  0   0  1  0\n",
            "9          0   0  0  0  1  0  0   2  3  5\n"
          ]
        }
      ],
      "source": [
        "# based on https://www.statology.org/confusion-matrix-python/\n",
        "\n",
        "y_actual = pd.Series(y_actual, name='Actual')\n",
        "y_predicted = pd.Series(y_predicted, name='Predicted')\n",
        "\n",
        "#create confusion matrix\n",
        "print(pd.crosstab(y_actual, y_predicted))"
      ]
    },
    {
      "cell_type": "code",
      "execution_count": 42,
      "metadata": {
        "colab": {
          "base_uri": "https://localhost:8080/",
          "height": 279
        },
        "id": "M3KMCNp291is",
        "outputId": "ceb3c94a-2292-4d7e-a410-4318448581f6"
      },
      "outputs": [
        {
          "output_type": "display_data",
          "data": {
            "text/plain": [
              "<Figure size 432x288 with 2 Axes>"
            ],
            "image/png": "[encoded data removed]"
          },
          "metadata": {
            "needs_background": "light"
          }
        }
      ],
      "source": [
        "# based on https://www.w3schools.com/python/python_ml_confusion_matrix.asp\n",
        "\n",
        "cm_display = metrics.ConfusionMatrixDisplay(\n",
        "    confusion_matrix = confusion_matrix, \n",
        "    display_labels = [0, 1, 2, 3, 4, 5, 6, 7, 8, 9])\n",
        "cm_display.plot()\n",
        "plt.show()"
      ]
    },
    {
      "cell_type": "code",
      "execution_count": 43,
      "metadata": {
        "colab": {
          "base_uri": "https://localhost:8080/"
        },
        "id": "G4dPZmYhVSNo",
        "outputId": "1b61d2a1-f034-487d-f380-89ad13c144fe"
      },
      "outputs": [
        {
          "output_type": "execute_result",
          "data": {
            "text/plain": [
              "1     6\n",
              "8     6\n",
              "9     7\n",
              "11    8\n",
              "15    8\n",
              "16    4\n",
              "18    9\n",
              "22    3\n",
              "23    8\n",
              "33    0\n",
              "35    3\n",
              "36    4\n",
              "40    3\n",
              "43    9\n",
              "44    5\n",
              "45    8\n",
              "46    8\n",
              "47    7\n",
              "48    8\n",
              "49    2\n",
              "Name: Predicted, dtype: int64"
            ]
          },
          "metadata": {},
          "execution_count": 43
        }
      ],
      "source": [
        "y_err = y_predicted[ y_predicted != y_actual ]\n",
        "y_err[:20]"
      ]
    },
    {
      "cell_type": "markdown",
      "metadata": {
        "id": "cc8H-HcXYpuG"
      },
      "source": [
        "#### Error Rate\n",
        "\n",
        "\"o valor da taxa de erro (calculada como o número de todas as previsões incorretas dividido pelo número total do conjunto de dados. A melhor taxa de erro é 0, enquanto a pior é 1.)\""
      ]
    },
    {
      "cell_type": "code",
      "execution_count": 44,
      "metadata": {
        "colab": {
          "base_uri": "https://localhost:8080/"
        },
        "id": "znrDYWkRYugM",
        "outputId": "d9fbc5b1-2b08-44d6-fb8e-8b246554ebf8"
      },
      "outputs": [
        {
          "output_type": "stream",
          "name": "stdout",
          "text": [
            "error_rate: 0.38\n"
          ]
        }
      ],
      "source": [
        "error_rate = len(y_err) / total_examples_test\n",
        "print( f'error_rate: {error_rate:.3}' )"
      ]
    },
    {
      "cell_type": "code",
      "execution_count": 45,
      "metadata": {
        "colab": {
          "base_uri": "https://localhost:8080/"
        },
        "id": "4GdIEPBFVwVe",
        "outputId": "727cdb7a-c5f9-4e58-d757-da78adf53d8d"
      },
      "outputs": [
        {
          "output_type": "stream",
          "name": "stdout",
          "text": [
            "error_rate_percentage: 38.0%\n"
          ]
        }
      ],
      "source": [
        "error_rate_percentage = len(y_err) / total_examples_test * 100\n",
        "print( f'error_rate_percentage: {error_rate_percentage:.3}%' )"
      ]
    }
  ],
  "metadata": {
    "colab": {
      "collapsed_sections": [],
      "toc_visible": true,
      "provenance": []
    },
    "kernelspec": {
      "display_name": "Python 3",
      "name": "python3"
    },
    "language_info": {
      "name": "python"
    },
    "accelerator": "GPU"
  },
  "nbformat": 4,
  "nbformat_minor": 0
}