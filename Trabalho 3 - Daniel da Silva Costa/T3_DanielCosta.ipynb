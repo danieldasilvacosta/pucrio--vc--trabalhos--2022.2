{
  "cells": [
    {
      "cell_type": "markdown",
      "metadata": {
        "id": "yRPDSJgl5066"
      },
      "source": [
        "# Trabalho 3\n",
        "Descrição do trabalho:\n",
        "\n",
        "http://webserver2.tecgraf.puc-rio.br/~mgattass/visao/trb/T3.html\n",
        "\n",
        "Aluno: Daniel da Silva Costa\n",
        "\n",
        "E-mail: danieldasilvacosta@gmail.com"
      ]
    },
    {
      "cell_type": "markdown",
      "metadata": {
        "id": "kXpKGbGz8FJ7"
      },
      "source": [
        "### Imports"
      ]
    },
    {
      "cell_type": "code",
      "execution_count": 1,
      "metadata": {
        "id": "O9jx1Ztl8ID7"
      },
      "outputs": [],
      "source": [
        "import numpy as np\n",
        "import matplotlib.pyplot as plt\n",
        "from mpl_toolkits.mplot3d import Axes3D\n",
        "import time\n",
        "from keras.datasets import mnist\n",
        "from keras.utils import np_utils\n",
        "from sklearn import metrics\n",
        "import pandas as pd\n",
        "\n",
        "import torch\n",
        "import torch.nn as nn\n",
        "import torchvision\n",
        "import torchvision.transforms as transforms"
      ]
    },
    {
      "cell_type": "markdown",
      "source": [
        "### Using PyTorch\n",
        "\n",
        "Based on https://www.youtube.com/watch?v=oPhxf2fXHkQ&list=PLqnslRFeH2UrcDBWF5mfPGpqQDSta6VK4&index=13"
      ],
      "metadata": {
        "id": "BrvhmdIJNDDl"
      }
    },
    {
      "cell_type": "markdown",
      "source": [
        "#### Device configuration"
      ],
      "metadata": {
        "id": "JwhExFPdNrBu"
      }
    },
    {
      "cell_type": "code",
      "source": [
        "device = torch.device('cuda' if torch.cuda.is_available() else 'cpu')\n",
        "device"
      ],
      "metadata": {
        "colab": {
          "base_uri": "https://localhost:8080/"
        },
        "id": "uKxJtdt9Nn_z",
        "outputId": "73968ff3-2746-408e-8334-ea2b5fbe9fa6"
      },
      "execution_count": 2,
      "outputs": [
        {
          "output_type": "execute_result",
          "data": {
            "text/plain": [
              "device(type='cuda')"
            ]
          },
          "metadata": {},
          "execution_count": 2
        }
      ]
    },
    {
      "cell_type": "markdown",
      "source": [
        "#### Hyper-parameters "
      ],
      "metadata": {
        "id": "oEVIrygFNvOs"
      }
    },
    {
      "cell_type": "code",
      "source": [
        "input_size = 784 # 28x28\n",
        "hidden_size = 500 \n",
        "num_classes = 10\n",
        "num_epochs = 5\n",
        "batch_size = 256\n",
        "learning_rate = 0.001"
      ],
      "metadata": {
        "id": "INKH10FaNoCS"
      },
      "execution_count": 3,
      "outputs": []
    },
    {
      "cell_type": "markdown",
      "source": [
        "#### MNIST dataset "
      ],
      "metadata": {
        "id": "DVKVg2AdN4md"
      }
    },
    {
      "cell_type": "code",
      "source": [
        "train_dataset = torchvision.datasets.MNIST(root='./data', \n",
        "                                           train=True, \n",
        "                                           transform=transforms.ToTensor(),  \n",
        "                                           download=True)\n",
        "\n",
        "test_dataset = torchvision.datasets.MNIST(root='./data', \n",
        "                                          train=False, \n",
        "                                          transform=transforms.ToTensor())"
      ],
      "metadata": {
        "id": "hGFzrzw2NoEu"
      },
      "execution_count": 4,
      "outputs": []
    },
    {
      "cell_type": "markdown",
      "source": [
        "#### Data loader\n",
        "\n",
        "Creating the batches of the training set and test set."
      ],
      "metadata": {
        "id": "iTcrUT-vOD5I"
      }
    },
    {
      "cell_type": "code",
      "source": [
        "train_loader = torch.utils.data.DataLoader(dataset=train_dataset, \n",
        "                                           batch_size=batch_size, \n",
        "                                           shuffle=True)\n",
        "\n",
        "test_loader = torch.utils.data.DataLoader(dataset=test_dataset, \n",
        "                                          batch_size=batch_size, \n",
        "                                          shuffle=False)"
      ],
      "metadata": {
        "id": "dRurEs0yNoHJ"
      },
      "execution_count": 5,
      "outputs": []
    },
    {
      "cell_type": "code",
      "source": [
        "train_loader"
      ],
      "metadata": {
        "colab": {
          "base_uri": "https://localhost:8080/"
        },
        "id": "70Wk7rTYNoKF",
        "outputId": "ec8a8f9d-b267-4ef3-ea9f-9e985c4e2898"
      },
      "execution_count": 6,
      "outputs": [
        {
          "output_type": "execute_result",
          "data": {
            "text/plain": [
              "<torch.utils.data.dataloader.DataLoader at 0x7f25f5125390>"
            ]
          },
          "metadata": {},
          "execution_count": 6
        }
      ]
    },
    {
      "cell_type": "code",
      "source": [
        "# list(enumerate(train_loader))[0]"
      ],
      "metadata": {
        "id": "7mq1nzl9OgTK"
      },
      "execution_count": 7,
      "outputs": []
    },
    {
      "cell_type": "markdown",
      "source": [
        "#### Depicting examples\n",
        "\n",
        "From test set"
      ],
      "metadata": {
        "id": "tgJv_vWtPkCO"
      }
    },
    {
      "cell_type": "code",
      "source": [
        "examples = iter(test_loader)\n",
        "example_data, example_targets = examples.next()\n",
        "\n",
        "for i in range(6):\n",
        "    plt.subplot(2,3,i+1)\n",
        "    plt.imshow(example_data[i][0], cmap='gray')\n",
        "plt.show()"
      ],
      "metadata": {
        "colab": {
          "base_uri": "https://localhost:8080/",
          "height": 267
        },
        "id": "Fp0QhoO5OgYW",
        "outputId": "8d03f0a8-3a9a-4b9b-9b6e-c3835dec7812"
      },
      "execution_count": 8,
      "outputs": [
        {
          "output_type": "display_data",
          "data": {
            "text/plain": [
              "<Figure size 432x288 with 6 Axes>"
            ],
            "image/png": "[encoded data removed]"
          },
          "metadata": {
            "needs_background": "light"
          }
        }
      ]
    },
    {
      "cell_type": "markdown",
      "source": [
        "#### Neural Network"
      ],
      "metadata": {
        "id": "qkbk4jzfRJQk"
      }
    },
    {
      "cell_type": "code",
      "source": [
        "# Fully connected neural network with one hidden layer\n",
        "class NeuralNet(nn.Module):\n",
        "    def __init__(self, input_size, hidden_size, num_classes):\n",
        "        super(NeuralNet, self).__init__()\n",
        "        self.input_size = input_size\n",
        "        self.l1 = nn.Linear(input_size, hidden_size) \n",
        "        self.relu = nn.ReLU()\n",
        "        self.l2 = nn.Linear(hidden_size, num_classes)  \n",
        "    \n",
        "    def forward(self, x):\n",
        "        out = self.l1(x)\n",
        "        out = self.relu(out)\n",
        "        out = self.l2(out)\n",
        "        # no activation and no softmax at the end\n",
        "        return out"
      ],
      "metadata": {
        "id": "GzGATPhlOgbH"
      },
      "execution_count": 9,
      "outputs": []
    },
    {
      "cell_type": "code",
      "source": [
        "model = NeuralNet(input_size, hidden_size, num_classes).to(device)"
      ],
      "metadata": {
        "id": "UZa49n9RRIye"
      },
      "execution_count": 10,
      "outputs": []
    },
    {
      "cell_type": "markdown",
      "source": [
        "#### Loss and optimizer"
      ],
      "metadata": {
        "id": "G00kLTk_RdAl"
      }
    },
    {
      "cell_type": "code",
      "source": [
        "criterion = nn.CrossEntropyLoss()\n",
        "optimizer = torch.optim.Adam(model.parameters(), lr=learning_rate)  "
      ],
      "metadata": {
        "id": "VziJW7zVRI1O"
      },
      "execution_count": 11,
      "outputs": []
    },
    {
      "cell_type": "markdown",
      "source": [
        "#### Training"
      ],
      "metadata": {
        "id": "lq_eXDcpRgK3"
      }
    },
    {
      "cell_type": "code",
      "source": [
        "%%time\n",
        "\n",
        "n_total_steps = len(train_loader)\n",
        "for epoch in range(num_epochs):\n",
        "    for i, (images, labels) in enumerate(train_loader):  \n",
        "        # origin shape: [100, 1, 28, 28]\n",
        "        # resized: [100, 784]\n",
        "        images = images.reshape(-1, 28*28).to(device)\n",
        "        labels = labels.to(device)\n",
        "        \n",
        "        # Forward pass\n",
        "        outputs = model(images)\n",
        "        loss = criterion(outputs, labels)\n",
        "        \n",
        "        # Backward and optimize\n",
        "        optimizer.zero_grad()\n",
        "        loss.backward()\n",
        "        optimizer.step()\n",
        "        \n",
        "        if (i+1) % 100 == 0:\n",
        "            print (f'Epoch [{epoch+1}/{num_epochs}], Step [{i+1}/{n_total_steps}], Loss: {loss.item():.4f}')"
      ],
      "metadata": {
        "colab": {
          "base_uri": "https://localhost:8080/"
        },
        "id": "xrxQrYyRRI3w",
        "outputId": "cff10572-aef7-4bfe-bc9f-8cbb0e6df2f4"
      },
      "execution_count": 12,
      "outputs": [
        {
          "output_type": "stream",
          "name": "stdout",
          "text": [
            "Epoch [1/5], Step [100/235], Loss: 0.2909\n",
            "Epoch [1/5], Step [200/235], Loss: 0.1642\n",
            "Epoch [2/5], Step [100/235], Loss: 0.2086\n",
            "Epoch [2/5], Step [200/235], Loss: 0.0793\n",
            "Epoch [3/5], Step [100/235], Loss: 0.0944\n",
            "Epoch [3/5], Step [200/235], Loss: 0.1501\n",
            "Epoch [4/5], Step [100/235], Loss: 0.0565\n",
            "Epoch [4/5], Step [200/235], Loss: 0.0591\n",
            "Epoch [5/5], Step [100/235], Loss: 0.0384\n",
            "Epoch [5/5], Step [200/235], Loss: 0.0488\n",
            "CPU times: user 29 s, sys: 298 ms, total: 29.3 s\n",
            "Wall time: 33.2 s\n"
          ]
        }
      ]
    },
    {
      "cell_type": "markdown",
      "source": [
        "#### Testing"
      ],
      "metadata": {
        "id": "aXmC0E-ORsDR"
      }
    },
    {
      "cell_type": "code",
      "source": [
        "with torch.no_grad():\n",
        "    n_correct = 0\n",
        "    n_samples = 0\n",
        "    for images, labels in test_loader:\n",
        "        images = images.reshape(-1, 28*28).to(device)\n",
        "        labels = labels.to(device)\n",
        "        outputs = model(images)\n",
        "        # max returns (value ,index)\n",
        "        _, predicted = torch.max(outputs.data, 1)\n",
        "        n_samples += labels.size(0)\n",
        "        n_correct += (predicted == labels).sum().item()\n",
        "\n",
        "    acc = 100.0 * n_correct / n_samples\n",
        "    print(f'Accuracy of the network on the {n_samples} test images: {acc} %')"
      ],
      "metadata": {
        "colab": {
          "base_uri": "https://localhost:8080/"
        },
        "id": "D1AiWK9ANDK8",
        "outputId": "bbdba2ca-e523-4782-c15e-b372f9b24e7e"
      },
      "execution_count": 13,
      "outputs": [
        {
          "output_type": "stream",
          "name": "stdout",
          "text": [
            "Accuracy of the network on the 10000 test images: 97.72 %\n"
          ]
        }
      ]
    },
    {
      "cell_type": "markdown",
      "metadata": {
        "id": "8JHDwTgFsMeT"
      },
      "source": [
        "### Using the Numpy\n",
        "\n",
        "Based on https://www.youtube.com/watch?v=M0jlQzHo5Jg"
      ]
    },
    {
      "cell_type": "markdown",
      "source": [
        "#### Utility functions"
      ],
      "metadata": {
        "id": "HlDgfkQKSI6E"
      }
    },
    {
      "cell_type": "code",
      "source": [
        "def to_categorical(x, n_col=None):\n",
        "  \"\"\" One hot encoding function\"\"\"\n",
        "  if not n_col:\n",
        "    n_col = np.amax(x) + 1\n",
        "  \n",
        "  one_hot = np.zeros((x.shape[0], n_col))\n",
        "  one_hot[np.arange(x.shape[0]), x] = 1\n",
        "  return one_hot"
      ],
      "metadata": {
        "id": "F7ogQapVSJ9L"
      },
      "execution_count": 14,
      "outputs": []
    },
    {
      "cell_type": "code",
      "source": [
        "def accuracy(y_true, y_pred):\n",
        "  ### Returns accuracy ###\n",
        "  return np.sum(y_true == y_pred, axis = 0) / len(y_true)"
      ],
      "metadata": {
        "id": "fURCsxAmSJ_8"
      },
      "execution_count": 15,
      "outputs": []
    },
    {
      "cell_type": "code",
      "source": [
        "def batch_loader(X, y = None, batch_size=64):\n",
        "  \"\"\" Generates batches for training\"\"\"\n",
        "  n_samples = X.shape[0]\n",
        "  for i in np.arange(0, n_samples, batch_size):\n",
        "    begin, end = i, min(i + batch_size, n_samples)\n",
        "    if y is not None:\n",
        "      yield X[begin:end], y[begin: end]\n",
        "    else:\n",
        "      yield X[begin:end]"
      ],
      "metadata": {
        "id": "6ewHOmkWSKCb"
      },
      "execution_count": 16,
      "outputs": []
    },
    {
      "cell_type": "markdown",
      "source": [
        "#### Loss"
      ],
      "metadata": {
        "id": "2Lc_ah4sSjHt"
      }
    },
    {
      "cell_type": "code",
      "source": [
        "class CrossEntropy():\n",
        "  def __init__(self): pass\n",
        "\n",
        "  def loss(self, y, p):\n",
        "    p = np.clip(p, 1e-15, 1- 1e-15)\n",
        "    return -y*np.log(p) - (1 - y) * np.log(1- p)\n",
        "  \n",
        "  def gradient(self, y, p):\n",
        "    p = np.clip(p, 1e-15, 1- 1e-15)\n",
        "    return -(y/p) + (1 - y) / (1 - p)"
      ],
      "metadata": {
        "id": "s7T3RfzOSf4K"
      },
      "execution_count": 17,
      "outputs": []
    },
    {
      "cell_type": "markdown",
      "source": [
        "#### Activation Functions"
      ],
      "metadata": {
        "id": "SG9HcUaabnba"
      }
    },
    {
      "cell_type": "code",
      "source": [
        "class LeakyReLU():\n",
        "  def __init__(self, alpha = 0.2):\n",
        "    self.alpha = alpha\n",
        "  \n",
        "  def __call__(self, x):\n",
        "    return self.activation(x)\n",
        "  \n",
        "  def activation(self, x):\n",
        "    return np.where(x >= 0, x, self.alpha * x)\n",
        "  \n",
        "  def gradient(self, x):\n",
        "    return np.where(x >= 0, 1, self.alpha)"
      ],
      "metadata": {
        "id": "xCaKD0FYSf64"
      },
      "execution_count": 18,
      "outputs": []
    },
    {
      "cell_type": "code",
      "source": [
        "class Softmax():\n",
        "  def __init__(self): pass\n",
        "  \n",
        "  def __call__(self, x):\n",
        "    return self.activation(x)\n",
        "  \n",
        "  def activation(self, x):\n",
        "    e_x = np.exp(x - np.max(x, axis = -1, keepdims=True))\n",
        "    return e_x / np.sum(e_x, axis=-1, keepdims = True)\n",
        "  \n",
        "  def gradient(self, x):\n",
        "    # Error was in our softmax\n",
        "    p = self.activation(x)\n",
        "    return p * (1 - p)"
      ],
      "metadata": {
        "id": "-q247jd8Sf9B"
      },
      "execution_count": 19,
      "outputs": []
    },
    {
      "cell_type": "markdown",
      "source": [
        "#### Layers"
      ],
      "metadata": {
        "id": "D_cAsslfSwnE"
      }
    },
    {
      "cell_type": "markdown",
      "source": [
        "##### class Linear\n",
        "\n",
        "Fully Connected Layer"
      ],
      "metadata": {
        "id": "YBT0tWlecKPq"
      }
    },
    {
      "cell_type": "code",
      "source": [
        "class Linear():\n",
        "  def __init__(self, n_in, n_out, name=\"linear\"):\n",
        "    limit = 1 / np.sqrt(n_in)\n",
        "    self.W = np.random.uniform(-limit, limit, (n_in, n_out))\n",
        "    self.b = np.zeros((1, n_out)) # Biases\n",
        "    self.input = None\n",
        "    self.output = None\n",
        "    self.name = name\n",
        "  \n",
        "  def forward(self, x):\n",
        "    self.input = x\n",
        "    self.output = np.dot(self.input, self.W) + self.b # Wx + b\n",
        "    return self.output\n",
        "  \n",
        "  def backward(self, output_gradient, learning_rate = 0.01):\n",
        "    input_gradient = np.dot(output_gradient, self.W.T)\n",
        "    weights_gradients = np.dot(self.input.T, output_gradient) # Calculate the weights error\n",
        "    bias_gradients = np.sum(output_gradient, axis=0).reshape((1, -1))\n",
        "\n",
        "    # Usually, we would allow an optimizer function to update the weights\n",
        "    # but here, we just use simple SGD\n",
        "    self.W -= learning_rate * weights_gradients\n",
        "    self.b -= learning_rate * bias_gradients\n",
        "    # We updated the weights below\n",
        "    return input_gradient\n",
        "  \n",
        "  def __call__(self, x):\n",
        "    return self.forward(x)"
      ],
      "metadata": {
        "id": "lsj3oOWeSwx9"
      },
      "execution_count": 20,
      "outputs": []
    },
    {
      "cell_type": "markdown",
      "source": [
        "##### class Activation"
      ],
      "metadata": {
        "id": "bb1WjT3NcGGo"
      }
    },
    {
      "cell_type": "code",
      "source": [
        "class Activation():\n",
        "  def __init__(self, activation, name=\"activation\"):\n",
        "    self.activation = activation\n",
        "    self.gradient = activation.gradient\n",
        "    self.input = None\n",
        "    self.output = None\n",
        "    self.name = name\n",
        "  \n",
        "  def forward(self, x):\n",
        "    self.input = x\n",
        "    self.output = self.activation(x)\n",
        "    return self.output\n",
        "  \n",
        "  def backward(self, output_error, learning_rate = 0.01):\n",
        "    return self.gradient(self.input) * output_error\n",
        "  \n",
        "  def __call__(self, x):\n",
        "    return self.forward(x)"
      ],
      "metadata": {
        "id": "ZOYOeQG9SwvZ"
      },
      "execution_count": 21,
      "outputs": []
    },
    {
      "cell_type": "markdown",
      "source": [
        "#### Network"
      ],
      "metadata": {
        "id": "O_oL2TZVTDyv"
      }
    },
    {
      "cell_type": "code",
      "source": [
        "class Network():\n",
        "  def __init__(self, input_dim, output_dim, learning_rate=0.01):\n",
        "    # input_dim = 784, output_dim = 10 for mnist\n",
        "    self.layers = [\n",
        "                   Linear(input_dim, 256, name=\"input\"),\n",
        "                   Activation(LeakyReLU(), name=\"relu1\"),\n",
        "                   Linear(256, 128, name=\"input\"),\n",
        "                   Activation(LeakyReLU(), name=\"relu2\"),\n",
        "                   Linear(128, output_dim, name=\"output\"),\n",
        "                   Activation(Softmax(), name=\"softmax\")\n",
        "    ]\n",
        "    self.learning_rate = learning_rate\n",
        "  \n",
        "  def forward(self, x):\n",
        "    for layer in self.layers:\n",
        "      x = layer(x)\n",
        "    return x\n",
        "  \n",
        "  def backward(self, loss_grad):\n",
        "    for layer in reversed(self.layers):\n",
        "      loss_grad = layer.backward(loss_grad, self.learning_rate)\n",
        "    # Iterating backwards through the layers\n",
        "  \n",
        "  def __call__(self, x):\n",
        "    return self.forward(x)"
      ],
      "metadata": {
        "id": "jFLqihR6Sw0k"
      },
      "execution_count": 22,
      "outputs": []
    },
    {
      "cell_type": "markdown",
      "source": [
        "#### Loading the data"
      ],
      "metadata": {
        "id": "pKzSbN-kSYDl"
      }
    },
    {
      "cell_type": "code",
      "source": [
        "(X_train, y_train), (X_test, y_test) = mnist.load_data()"
      ],
      "metadata": {
        "id": "p1jIDPHJSKH8"
      },
      "execution_count": 23,
      "outputs": []
    },
    {
      "cell_type": "code",
      "execution_count": 24,
      "metadata": {
        "colab": {
          "base_uri": "https://localhost:8080/",
          "height": 336
        },
        "id": "Xd7qKexIkyR4",
        "outputId": "a48ccacb-2f09-4924-de0c-57846a106d1a"
      },
      "outputs": [
        {
          "output_type": "display_data",
          "data": {
            "text/plain": [
              "<Figure size 720x360 with 1 Axes>"
            ],
            "image/png": "[encoded data removed]"
          },
          "metadata": {
            "needs_background": "light"
          }
        }
      ],
      "source": [
        "fig, axes = plt.subplots( 1, 1, figsize=( 10, 5 ) )\n",
        "\n",
        "axes.set_title( f'Label: {y_train[0]}' )\n",
        "axes.imshow( X_train[0], cmap='gray' )\n",
        "\n",
        "plt.show()"
      ]
    },
    {
      "cell_type": "code",
      "execution_count": 25,
      "metadata": {
        "id": "tjLOjGg9TENH"
      },
      "outputs": [],
      "source": [
        "# X_train[0]"
      ]
    },
    {
      "cell_type": "markdown",
      "metadata": {
        "id": "JANAzxfJdJXo"
      },
      "source": [
        "#### Depicting examples"
      ]
    },
    {
      "cell_type": "code",
      "execution_count": 26,
      "metadata": {
        "colab": {
          "base_uri": "https://localhost:8080/",
          "height": 473
        },
        "id": "1iytJvAgX36C",
        "outputId": "84596daa-d220-4031-c94e-e695de36eb25"
      },
      "outputs": [
        {
          "output_type": "display_data",
          "data": {
            "text/plain": [
              "<Figure size 1080x576 with 21 Axes>"
            ],
            "image/png": "[encoded data removed]"
          },
          "metadata": {
            "needs_background": "light"
          }
        }
      ],
      "source": [
        "rows = 3\n",
        "columns = 7\n",
        "\n",
        "fig, axes = plt.subplots( rows, columns, figsize=( 15, 8 ) )\n",
        "\n",
        "for i in range(rows):\n",
        "  for j in range(columns):\n",
        "    random_number = int(np.random.rand() * X_train.shape[0])\n",
        "    axes[i][j].set_title( f'Label: {y_train[random_number]}' )\n",
        "    axes[i][j].imshow( X_train[random_number], cmap='gray' )\n",
        "\n",
        "plt.show()"
      ]
    },
    {
      "cell_type": "markdown",
      "source": [
        "#### Preprocessing Data"
      ],
      "metadata": {
        "id": "iI5d7sAciAfy"
      }
    },
    {
      "cell_type": "code",
      "source": [
        "y_train, y_test = to_categorical(y_train.astype(\"int\")), to_categorical(y_test.astype(\"int\"))\n",
        "X_train, X_test = X_train / 255.0, X_test / 255.0"
      ],
      "metadata": {
        "id": "bCzwTCguSKKf"
      },
      "execution_count": 27,
      "outputs": []
    },
    {
      "cell_type": "code",
      "source": [
        "X_train, X_test = X_train.reshape(-1, 28*28), X_test.reshape(-1, 28*28)\n",
        "X_train.shape, X_test.shape"
      ],
      "metadata": {
        "colab": {
          "base_uri": "https://localhost:8080/"
        },
        "id": "zmpouDjoSKNL",
        "outputId": "f838b243-a322-49a9-cd35-e7a28435ff10"
      },
      "execution_count": 28,
      "outputs": [
        {
          "output_type": "execute_result",
          "data": {
            "text/plain": [
              "((60000, 784), (10000, 784))"
            ]
          },
          "metadata": {},
          "execution_count": 28
        }
      ]
    },
    {
      "cell_type": "markdown",
      "source": [
        "#### Training"
      ],
      "metadata": {
        "id": "-rqdecptTJIT"
      }
    },
    {
      "cell_type": "code",
      "source": [
        "n_input_dim = 28*28 # 784\n",
        "n_out = 10 # 10 classes"
      ],
      "metadata": {
        "id": "kkPZAIr1Sf1e"
      },
      "execution_count": 29,
      "outputs": []
    },
    {
      "cell_type": "code",
      "source": [
        "criterion = CrossEntropy()\n",
        "model = Network(n_input_dim, n_out, learning_rate=1e-3)"
      ],
      "metadata": {
        "id": "gGiH0lTbSw3E"
      },
      "execution_count": 30,
      "outputs": []
    },
    {
      "cell_type": "code",
      "source": [
        "EPOCHS = 5\n",
        "# batch_size = 1\n",
        "batch_size = 128\n",
        "# batch_size = X_train.shape[0]"
      ],
      "metadata": {
        "id": "cRIw7YuoSw6Q"
      },
      "execution_count": 31,
      "outputs": []
    },
    {
      "cell_type": "code",
      "source": [
        "for epoch in range(EPOCHS):\n",
        "  loss = []\n",
        "  acc = []\n",
        "  for x_batch, y_batch in batch_loader(X_train, y_train, batch_size):\n",
        "    # Forward pass\n",
        "    out = model(x_batch)\n",
        "    \n",
        "    # Loss - for display\n",
        "    loss.append(np.mean(criterion.loss(y_batch, out)))\n",
        "    \n",
        "    # Accuracy - For display\n",
        "    acc.append(accuracy(np.argmax(y_batch, axis=1), np.argmax(out, axis=1)))\n",
        "\n",
        "    # Calculate gradient of loss\n",
        "    error = criterion.gradient(y_batch, out) \n",
        "    \n",
        "    # Backpropagation\n",
        "    model.backward(error)\n",
        "  \n",
        "  print(f\"Epoch {epoch + 1}, Loss: {np.mean(loss):.5}, Acc: {np.mean(acc):.3}\")"
      ],
      "metadata": {
        "colab": {
          "base_uri": "https://localhost:8080/"
        },
        "id": "E4ZqZs9GSgAK",
        "outputId": "288e2f35-8dd4-46a7-bc87-753978f9ce75"
      },
      "execution_count": 32,
      "outputs": [
        {
          "output_type": "stream",
          "name": "stdout",
          "text": [
            "Epoch 1, Loss: 0.0952, Acc: 0.843\n",
            "Epoch 2, Loss: 0.043491, Acc: 0.926\n",
            "Epoch 3, Loss: 0.033251, Acc: 0.944\n",
            "Epoch 4, Loss: 0.026695, Acc: 0.955\n",
            "Epoch 5, Loss: 0.022181, Acc: 0.964\n"
          ]
        }
      ]
    },
    {
      "cell_type": "markdown",
      "source": [
        "#### Testing"
      ],
      "metadata": {
        "id": "yRiMx0IZTPVf"
      }
    },
    {
      "cell_type": "markdown",
      "source": [
        "##### Accuracy"
      ],
      "metadata": {
        "id": "hqk4XM3EmGaA"
      }
    },
    {
      "cell_type": "code",
      "source": [
        "out = model(X_test)\n",
        "accuracy_value = accuracy(np.argmax(y_test, axis=1), np.argmax(out, axis=1))\n",
        "print( f'{(accuracy_value * 100):.3}%' )"
      ],
      "metadata": {
        "colab": {
          "base_uri": "https://localhost:8080/"
        },
        "id": "V5PvuEgjSKQf",
        "outputId": "e5596207-8cae-4514-8568-aaf583f74296"
      },
      "execution_count": 33,
      "outputs": [
        {
          "output_type": "stream",
          "name": "stdout",
          "text": [
            "96.1%\n"
          ]
        }
      ]
    },
    {
      "cell_type": "markdown",
      "metadata": {
        "id": "nyoSYVo-_psT"
      },
      "source": [
        "##### Confusion Matrix"
      ]
    },
    {
      "cell_type": "code",
      "source": [
        "%%time\n",
        "\n",
        "y_predicted = list(np.argmax(out, axis=1))\n",
        "y_actual = list(np.argmax(y_test, axis=1))\n",
        "\n",
        "for i, y_pred in enumerate(y_predicted):\n",
        "    print('pred:', y_predicted[i], '\\ttrue:', y_actual[i])\n",
        "\n",
        "    if i > 20:\n",
        "      break"
      ],
      "metadata": {
        "colab": {
          "base_uri": "https://localhost:8080/"
        },
        "id": "YCEBGdZakFLW",
        "outputId": "61758738-27eb-42be-8b92-c874ed74480f"
      },
      "execution_count": 34,
      "outputs": [
        {
          "output_type": "stream",
          "name": "stdout",
          "text": [
            "pred: 7 \ttrue: 7\n",
            "pred: 2 \ttrue: 2\n",
            "pred: 1 \ttrue: 1\n",
            "pred: 0 \ttrue: 0\n",
            "pred: 4 \ttrue: 4\n",
            "pred: 1 \ttrue: 1\n",
            "pred: 4 \ttrue: 4\n",
            "pred: 9 \ttrue: 9\n",
            "pred: 6 \ttrue: 5\n",
            "pred: 9 \ttrue: 9\n",
            "pred: 0 \ttrue: 0\n",
            "pred: 6 \ttrue: 6\n",
            "pred: 9 \ttrue: 9\n",
            "pred: 0 \ttrue: 0\n",
            "pred: 1 \ttrue: 1\n",
            "pred: 5 \ttrue: 5\n",
            "pred: 9 \ttrue: 9\n",
            "pred: 7 \ttrue: 7\n",
            "pred: 3 \ttrue: 3\n",
            "pred: 4 \ttrue: 4\n",
            "pred: 9 \ttrue: 9\n",
            "pred: 6 \ttrue: 6\n",
            "CPU times: user 7.03 ms, sys: 10.7 ms, total: 17.8 ms\n",
            "Wall time: 13.2 ms\n"
          ]
        }
      ]
    },
    {
      "cell_type": "code",
      "execution_count": 35,
      "metadata": {
        "id": "FY6ZVW4491ez"
      },
      "outputs": [],
      "source": [
        "confusion_matrix = metrics.confusion_matrix(y_actual, y_predicted)"
      ]
    },
    {
      "cell_type": "code",
      "execution_count": 36,
      "metadata": {
        "colab": {
          "base_uri": "https://localhost:8080/"
        },
        "id": "4aFbP0Ei91p3",
        "outputId": "a68a3454-508a-43d6-cdf5-8dd57628b715"
      },
      "outputs": [
        {
          "output_type": "stream",
          "name": "stdout",
          "text": [
            "Predicted    0     1    2    3    4    5    6    7    8    9\n",
            "Actual                                                      \n",
            "0          967     0    0    2    0    5    3    1    2    0\n",
            "1            0  1122    2    1    0    1    3    1    5    0\n",
            "2            8     3  979   12    7    1    8    4    9    1\n",
            "3            1     1    2  966    1   17    0    8    9    5\n",
            "4            1     0    3    0  955    0    7    0    3   13\n",
            "5            5     1    0    5    2  860    7    0    7    5\n",
            "6            9     3    0    0    5   19  917    1    4    0\n",
            "7            2    12   12    8    5    1    0  948    3   37\n",
            "8            3     3    1    9    7    8    5    3  932    3\n",
            "9            5     8    0    8   18    4    1    1    1  963\n"
          ]
        }
      ],
      "source": [
        "# based on https://www.statology.org/confusion-matrix-python/\n",
        "\n",
        "y_actual = pd.Series(y_actual, name='Actual')\n",
        "y_predicted = pd.Series(y_predicted, name='Predicted')\n",
        "\n",
        "#create confusion matrix\n",
        "print(pd.crosstab(y_actual, y_predicted))"
      ]
    },
    {
      "cell_type": "code",
      "execution_count": 37,
      "metadata": {
        "colab": {
          "base_uri": "https://localhost:8080/",
          "height": 279
        },
        "id": "M3KMCNp291is",
        "outputId": "50a88503-763c-4f2c-993d-504b0a61a600"
      },
      "outputs": [
        {
          "output_type": "display_data",
          "data": {
            "text/plain": [
              "<Figure size 432x288 with 2 Axes>"
            ],
            "image/png": "[encoded data removed]"
          },
          "metadata": {
            "needs_background": "light"
          }
        }
      ],
      "source": [
        "# based on https://www.w3schools.com/python/python_ml_confusion_matrix.asp\n",
        "\n",
        "cm_display = metrics.ConfusionMatrixDisplay(\n",
        "    confusion_matrix = confusion_matrix, \n",
        "    display_labels = [0, 1, 2, 3, 4, 5, 6, 7, 8, 9])\n",
        "cm_display.plot()\n",
        "plt.show()"
      ]
    },
    {
      "cell_type": "code",
      "execution_count": 38,
      "metadata": {
        "colab": {
          "base_uri": "https://localhost:8080/"
        },
        "id": "G4dPZmYhVSNo",
        "outputId": "b682fb55-9177-47b1-e4d4-bf4f2a20babd"
      },
      "outputs": [
        {
          "output_type": "execute_result",
          "data": {
            "text/plain": [
              "8      6\n",
              "124    4\n",
              "149    4\n",
              "217    5\n",
              "241    5\n",
              "247    2\n",
              "259    0\n",
              "290    4\n",
              "320    1\n",
              "321    7\n",
              "340    3\n",
              "358    9\n",
              "381    7\n",
              "445    0\n",
              "449    5\n",
              "507    5\n",
              "551    1\n",
              "565    9\n",
              "582    2\n",
              "591    3\n",
              "Name: Predicted, dtype: int64"
            ]
          },
          "metadata": {},
          "execution_count": 38
        }
      ],
      "source": [
        "y_err = y_predicted[ y_predicted != y_actual ]\n",
        "y_err[:20]"
      ]
    },
    {
      "cell_type": "markdown",
      "metadata": {
        "id": "cc8H-HcXYpuG"
      },
      "source": [
        "#### Error Rate\n",
        "\n",
        "\"o valor da taxa de erro (calculada como o número de todas as previsões incorretas dividido pelo número total do conjunto de dados. A melhor taxa de erro é 0, enquanto a pior é 1.)\""
      ]
    },
    {
      "cell_type": "code",
      "execution_count": 39,
      "metadata": {
        "colab": {
          "base_uri": "https://localhost:8080/"
        },
        "id": "znrDYWkRYugM",
        "outputId": "a2c91bdf-b319-404c-c573-57f0b8b7f6e7"
      },
      "outputs": [
        {
          "output_type": "stream",
          "name": "stdout",
          "text": [
            "error_rate: 0.00652\n"
          ]
        }
      ],
      "source": [
        "error_rate = len(y_err) / X_train.shape[0]\n",
        "print( f'error_rate: {error_rate:.3}' )"
      ]
    },
    {
      "cell_type": "code",
      "execution_count": 40,
      "metadata": {
        "colab": {
          "base_uri": "https://localhost:8080/"
        },
        "id": "4GdIEPBFVwVe",
        "outputId": "d7444bdf-b0d0-496a-b482-2a1261734993"
      },
      "outputs": [
        {
          "output_type": "stream",
          "name": "stdout",
          "text": [
            "error_rate_percentage: 0.65%\n"
          ]
        }
      ],
      "source": [
        "error_rate_percentage = len(y_err) / X_train.shape[0] * 100\n",
        "print( f'error_rate_percentage: {error_rate_percentage:.2}%' )"
      ]
    }
  ],
  "metadata": {
    "colab": {
      "collapsed_sections": [],
      "toc_visible": true,
      "provenance": []
    },
    "kernelspec": {
      "display_name": "Python 3",
      "name": "python3"
    },
    "language_info": {
      "name": "python"
    },
    "accelerator": "GPU"
  },
  "nbformat": 4,
  "nbformat_minor": 0
}