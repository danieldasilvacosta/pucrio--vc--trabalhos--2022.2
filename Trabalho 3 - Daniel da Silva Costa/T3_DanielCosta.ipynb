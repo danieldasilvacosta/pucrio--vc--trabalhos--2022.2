{
  "cells": [
    {
      "cell_type": "markdown",
      "metadata": {
        "id": "yRPDSJgl5066"
      },
      "source": [
        "# Trabalho 3\n",
        "Descrição do trabalho:\n",
        "\n",
        "http://webserver2.tecgraf.puc-rio.br/~mgattass/visao/trb/T3.html\n",
        "\n",
        "Aluno: Daniel da Silva Costa\n",
        "\n",
        "E-mail: danieldasilvacosta@gmail.com"
      ]
    },
    {
      "cell_type": "markdown",
      "metadata": {
        "id": "kXpKGbGz8FJ7"
      },
      "source": [
        "### Imports"
      ]
    },
    {
      "cell_type": "code",
      "execution_count": 1,
      "metadata": {
        "id": "O9jx1Ztl8ID7"
      },
      "outputs": [],
      "source": [
        "import numpy as np\n",
        "import matplotlib.pyplot as plt\n",
        "from mpl_toolkits.mplot3d import Axes3D\n",
        "import time\n",
        "from keras.datasets import mnist\n",
        "from keras.utils import np_utils\n",
        "from sklearn import metrics\n",
        "import pandas as pd\n",
        "\n",
        "import torch\n",
        "import torch.nn as nn\n",
        "import torchvision\n",
        "import torchvision.transforms as transforms"
      ]
    },
    {
      "cell_type": "markdown",
      "metadata": {
        "id": "8JHDwTgFsMeT"
      },
      "source": [
        "### Using the Numpy\n",
        "\n",
        "Based on https://www.youtube.com/watch?v=M0jlQzHo5Jg"
      ]
    },
    {
      "cell_type": "markdown",
      "source": [
        "#### Utility functions"
      ],
      "metadata": {
        "id": "HlDgfkQKSI6E"
      }
    },
    {
      "cell_type": "code",
      "source": [
        "def to_categorical(x, n_col=None):\n",
        "  \"\"\" One hot encoding function\"\"\"\n",
        "  if not n_col:\n",
        "    n_col = np.amax(x) + 1\n",
        "  \n",
        "  one_hot = np.zeros((x.shape[0], n_col))\n",
        "  one_hot[np.arange(x.shape[0]), x] = 1\n",
        "  return one_hot"
      ],
      "metadata": {
        "id": "F7ogQapVSJ9L"
      },
      "execution_count": 2,
      "outputs": []
    },
    {
      "cell_type": "code",
      "source": [
        "def accuracy(y_true, y_pred):\n",
        "  ### Returns accuracy ###\n",
        "  return np.sum(y_true == y_pred, axis = 0) / len(y_true)"
      ],
      "metadata": {
        "id": "fURCsxAmSJ_8"
      },
      "execution_count": 3,
      "outputs": []
    },
    {
      "cell_type": "code",
      "source": [
        "def batch_loader(X, y = None, batch_size=64):\n",
        "  \"\"\" Generates batches for training\"\"\"\n",
        "  n_samples = X.shape[0]\n",
        "  for i in np.arange(0, n_samples, batch_size):\n",
        "    begin, end = i, min(i + batch_size, n_samples)\n",
        "    if y is not None:\n",
        "      yield X[begin:end], y[begin: end]\n",
        "    else:\n",
        "      yield X[begin:end]"
      ],
      "metadata": {
        "id": "6ewHOmkWSKCb"
      },
      "execution_count": 4,
      "outputs": []
    },
    {
      "cell_type": "markdown",
      "source": [
        "#### Loss"
      ],
      "metadata": {
        "id": "2Lc_ah4sSjHt"
      }
    },
    {
      "cell_type": "code",
      "source": [
        "class CrossEntropy():\n",
        "  def __init__(self): pass\n",
        "\n",
        "  def loss(self, y, p):\n",
        "    p = np.clip(p, 1e-15, 1- 1e-15)\n",
        "    return -y*np.log(p) - (1 - y) * np.log(1- p)\n",
        "  \n",
        "  def gradient(self, y, p):\n",
        "    p = np.clip(p, 1e-15, 1- 1e-15)\n",
        "    return -(y/p) + (1 - y) / (1 - p)"
      ],
      "metadata": {
        "id": "s7T3RfzOSf4K"
      },
      "execution_count": 5,
      "outputs": []
    },
    {
      "cell_type": "markdown",
      "source": [
        "#### Activation Functions"
      ],
      "metadata": {
        "id": "SG9HcUaabnba"
      }
    },
    {
      "cell_type": "code",
      "source": [
        "class LeakyReLU():\n",
        "  def __init__(self, alpha = 0.2):\n",
        "    self.alpha = alpha\n",
        "  \n",
        "  def __call__(self, x):\n",
        "    return self.activation(x)\n",
        "  \n",
        "  def activation(self, x):\n",
        "    return np.where(x >= 0, x, self.alpha * x)\n",
        "  \n",
        "  def gradient(self, x):\n",
        "    return np.where(x >= 0, 1, self.alpha)"
      ],
      "metadata": {
        "id": "xCaKD0FYSf64"
      },
      "execution_count": 6,
      "outputs": []
    },
    {
      "cell_type": "code",
      "source": [
        "class Softmax():\n",
        "  def __init__(self): pass\n",
        "  \n",
        "  def __call__(self, x):\n",
        "    return self.activation(x)\n",
        "  \n",
        "  def activation(self, x):\n",
        "    e_x = np.exp(x - np.max(x, axis = -1, keepdims=True))\n",
        "    return e_x / np.sum(e_x, axis=-1, keepdims = True)\n",
        "  \n",
        "  def gradient(self, x):\n",
        "    # Error was in our softmax\n",
        "    p = self.activation(x)\n",
        "    return p * (1 - p)"
      ],
      "metadata": {
        "id": "-q247jd8Sf9B"
      },
      "execution_count": 7,
      "outputs": []
    },
    {
      "cell_type": "markdown",
      "source": [
        "#### Layers"
      ],
      "metadata": {
        "id": "D_cAsslfSwnE"
      }
    },
    {
      "cell_type": "markdown",
      "source": [
        "##### class Linear\n",
        "\n",
        "Fully Connected Layer"
      ],
      "metadata": {
        "id": "YBT0tWlecKPq"
      }
    },
    {
      "cell_type": "code",
      "source": [
        "class Linear():\n",
        "  def __init__(self, n_in, n_out, name=\"linear\"):\n",
        "    limit = 1 / np.sqrt(n_in)\n",
        "    self.W = np.random.uniform(-limit, limit, (n_in, n_out))\n",
        "    self.b = np.zeros((1, n_out)) # Biases\n",
        "    self.input = None\n",
        "    self.output = None\n",
        "    self.name = name\n",
        "  \n",
        "  def forward(self, x):\n",
        "    self.input = x\n",
        "    self.output = np.dot(self.input, self.W) + self.b # Wx + b\n",
        "    return self.output\n",
        "  \n",
        "  def backward(self, output_gradient, learning_rate = 0.01):\n",
        "    input_gradient = np.dot(output_gradient, self.W.T)\n",
        "    weights_gradients = np.dot(self.input.T, output_gradient) # Calculate the weights error\n",
        "    bias_gradients = np.sum(output_gradient, axis=0).reshape((1, -1))\n",
        "\n",
        "    # Usually, we would allow an optimizer function to update the weights\n",
        "    # but here, we just use simple SGD\n",
        "    self.W -= learning_rate * weights_gradients\n",
        "    self.b -= learning_rate * bias_gradients\n",
        "    # We updated the weights below\n",
        "    return input_gradient\n",
        "  \n",
        "  def __call__(self, x):\n",
        "    return self.forward(x)"
      ],
      "metadata": {
        "id": "lsj3oOWeSwx9"
      },
      "execution_count": 8,
      "outputs": []
    },
    {
      "cell_type": "markdown",
      "source": [
        "##### class Activation"
      ],
      "metadata": {
        "id": "bb1WjT3NcGGo"
      }
    },
    {
      "cell_type": "code",
      "source": [
        "class Activation():\n",
        "  def __init__(self, activation, name=\"activation\"):\n",
        "    self.activation = activation\n",
        "    self.gradient = activation.gradient\n",
        "    self.input = None\n",
        "    self.output = None\n",
        "    self.name = name\n",
        "  \n",
        "  def forward(self, x):\n",
        "    self.input = x\n",
        "    self.output = self.activation(x)\n",
        "    return self.output\n",
        "  \n",
        "  def backward(self, output_error, learning_rate = 0.01):\n",
        "    return self.gradient(self.input) * output_error\n",
        "  \n",
        "  def __call__(self, x):\n",
        "    return self.forward(x)"
      ],
      "metadata": {
        "id": "ZOYOeQG9SwvZ"
      },
      "execution_count": 9,
      "outputs": []
    },
    {
      "cell_type": "markdown",
      "source": [
        "#### Network"
      ],
      "metadata": {
        "id": "O_oL2TZVTDyv"
      }
    },
    {
      "cell_type": "code",
      "source": [
        "class Network():\n",
        "  def __init__(self, input_dim, output_dim, learning_rate=0.01):\n",
        "    # input_dim = 784, output_dim = 10 for mnist\n",
        "    self.layers = [\n",
        "                   Linear(input_dim, 256, name=\"input\"),\n",
        "                   Activation(LeakyReLU(), name=\"relu1\"),\n",
        "                   Linear(256, 128, name=\"input\"),\n",
        "                   Activation(LeakyReLU(), name=\"relu2\"),\n",
        "                   Linear(128, output_dim, name=\"output\"),\n",
        "                   Activation(Softmax(), name=\"softmax\")\n",
        "    ]\n",
        "    self.learning_rate = learning_rate\n",
        "  \n",
        "  def forward(self, x):\n",
        "    for layer in self.layers:\n",
        "      x = layer(x)\n",
        "    return x\n",
        "  \n",
        "  def backward(self, loss_grad):\n",
        "    for layer in reversed(self.layers):\n",
        "      loss_grad = layer.backward(loss_grad, self.learning_rate)\n",
        "    # Iterating backwards through the layers\n",
        "  \n",
        "  def __call__(self, x):\n",
        "    return self.forward(x)"
      ],
      "metadata": {
        "id": "jFLqihR6Sw0k"
      },
      "execution_count": 10,
      "outputs": []
    },
    {
      "cell_type": "markdown",
      "source": [
        "#### Loading the data"
      ],
      "metadata": {
        "id": "pKzSbN-kSYDl"
      }
    },
    {
      "cell_type": "code",
      "source": [
        "(X_train, y_train), (X_test, y_test) = mnist.load_data()"
      ],
      "metadata": {
        "id": "p1jIDPHJSKH8"
      },
      "execution_count": 11,
      "outputs": []
    },
    {
      "cell_type": "code",
      "execution_count": 12,
      "metadata": {
        "colab": {
          "base_uri": "https://localhost:8080/",
          "height": 336
        },
        "id": "Xd7qKexIkyR4",
        "outputId": "b6d6cef8-295e-4dd7-e520-aa4e4677b96e"
      },
      "outputs": [
        {
          "output_type": "display_data",
          "data": {
            "text/plain": [
              "<Figure size 720x360 with 1 Axes>"
            ],
            "image/png": "[encoded data removed]"
          },
          "metadata": {
            "needs_background": "light"
          }
        }
      ],
      "source": [
        "fig, axes = plt.subplots( 1, 1, figsize=( 10, 5 ) )\n",
        "\n",
        "axes.set_title( f'Label: {y_train[0]}' )\n",
        "axes.imshow( X_train[0], cmap='gray' )\n",
        "\n",
        "plt.show()"
      ]
    },
    {
      "cell_type": "code",
      "execution_count": 13,
      "metadata": {
        "id": "tjLOjGg9TENH"
      },
      "outputs": [],
      "source": [
        "# X_train[0]"
      ]
    },
    {
      "cell_type": "markdown",
      "metadata": {
        "id": "JANAzxfJdJXo"
      },
      "source": [
        "#### Depicting examples"
      ]
    },
    {
      "cell_type": "code",
      "execution_count": 14,
      "metadata": {
        "colab": {
          "base_uri": "https://localhost:8080/",
          "height": 473
        },
        "id": "1iytJvAgX36C",
        "outputId": "8e09b85d-28d8-4f69-c05a-b608846ba16e"
      },
      "outputs": [
        {
          "output_type": "display_data",
          "data": {
            "text/plain": [
              "<Figure size 1080x576 with 21 Axes>"
            ],
            "image/png": "[encoded data removed]"
          },
          "metadata": {
            "needs_background": "light"
          }
        }
      ],
      "source": [
        "rows = 3\n",
        "columns = 7\n",
        "\n",
        "fig, axes = plt.subplots( rows, columns, figsize=( 15, 8 ) )\n",
        "\n",
        "for i in range(rows):\n",
        "  for j in range(columns):\n",
        "    random_number = int(np.random.rand() * X_train.shape[0])\n",
        "    axes[i][j].set_title( f'Label: {y_train[random_number]}' )\n",
        "    axes[i][j].imshow( X_train[random_number], cmap='gray' )\n",
        "\n",
        "plt.show()"
      ]
    },
    {
      "cell_type": "markdown",
      "source": [
        "#### Preprocessing Data"
      ],
      "metadata": {
        "id": "iI5d7sAciAfy"
      }
    },
    {
      "cell_type": "code",
      "source": [
        "y_train, y_test = to_categorical(y_train.astype(\"int\")), to_categorical(y_test.astype(\"int\"))\n",
        "X_train, X_test = X_train / 255.0, X_test / 255.0"
      ],
      "metadata": {
        "id": "bCzwTCguSKKf"
      },
      "execution_count": 15,
      "outputs": []
    },
    {
      "cell_type": "code",
      "source": [
        "X_train, X_test = X_train.reshape(-1, 28*28), X_test.reshape(-1, 28*28)\n",
        "X_train.shape, X_test.shape"
      ],
      "metadata": {
        "colab": {
          "base_uri": "https://localhost:8080/"
        },
        "id": "zmpouDjoSKNL",
        "outputId": "96a864f3-4d32-4db8-82c9-0cabd112571c"
      },
      "execution_count": 16,
      "outputs": [
        {
          "output_type": "execute_result",
          "data": {
            "text/plain": [
              "((60000, 784), (10000, 784))"
            ]
          },
          "metadata": {},
          "execution_count": 16
        }
      ]
    },
    {
      "cell_type": "markdown",
      "source": [
        "#### Training"
      ],
      "metadata": {
        "id": "-rqdecptTJIT"
      }
    },
    {
      "cell_type": "code",
      "source": [
        "n_input_dim = 28*28 # 784\n",
        "n_out = 10 # 10 classes"
      ],
      "metadata": {
        "id": "kkPZAIr1Sf1e"
      },
      "execution_count": 17,
      "outputs": []
    },
    {
      "cell_type": "code",
      "source": [
        "criterion = CrossEntropy()\n",
        "model = Network(n_input_dim, n_out, learning_rate=1e-3)"
      ],
      "metadata": {
        "id": "gGiH0lTbSw3E"
      },
      "execution_count": 18,
      "outputs": []
    },
    {
      "cell_type": "code",
      "source": [
        "EPOCHS = 5\n",
        "# batch_size = 1\n",
        "batch_size = 128\n",
        "# batch_size = X_train.shape[0]"
      ],
      "metadata": {
        "id": "cRIw7YuoSw6Q"
      },
      "execution_count": 19,
      "outputs": []
    },
    {
      "cell_type": "code",
      "source": [
        "%%time\n",
        "\n",
        "for epoch in range(EPOCHS):\n",
        "  loss = []\n",
        "  acc = []\n",
        "  for x_batch, y_batch in batch_loader(X_train, y_train, batch_size):\n",
        "    # Forward pass\n",
        "    out = model(x_batch)\n",
        "    \n",
        "    # Loss - for display\n",
        "    loss.append(np.mean(criterion.loss(y_batch, out)))\n",
        "    \n",
        "    # Accuracy - For display\n",
        "    acc.append(accuracy(np.argmax(y_batch, axis=1), np.argmax(out, axis=1)))\n",
        "\n",
        "    # Calculate gradient of loss\n",
        "    error = criterion.gradient(y_batch, out) \n",
        "    \n",
        "    # Backpropagation\n",
        "    model.backward(error)\n",
        "  \n",
        "  print(f\"Epoch {epoch + 1}, Loss: {np.mean(loss):.5}, Acc: {np.mean(acc):.3}\")"
      ],
      "metadata": {
        "colab": {
          "base_uri": "https://localhost:8080/"
        },
        "id": "E4ZqZs9GSgAK",
        "outputId": "2d57b5e6-9242-4a5e-ee9b-232b633333a3"
      },
      "execution_count": 20,
      "outputs": [
        {
          "output_type": "stream",
          "name": "stdout",
          "text": [
            "Epoch 1, Loss: 0.095875, Acc: 0.836\n",
            "Epoch 2, Loss: 0.043966, Acc: 0.925\n",
            "Epoch 3, Loss: 0.033638, Acc: 0.944\n",
            "Epoch 4, Loss: 0.026969, Acc: 0.955\n",
            "Epoch 5, Loss: 0.022378, Acc: 0.963\n",
            "CPU times: user 28.7 s, sys: 11.1 s, total: 39.8 s\n",
            "Wall time: 29.3 s\n"
          ]
        }
      ]
    },
    {
      "cell_type": "markdown",
      "source": [
        "#### Testing"
      ],
      "metadata": {
        "id": "yRiMx0IZTPVf"
      }
    },
    {
      "cell_type": "markdown",
      "source": [
        "##### Accuracy"
      ],
      "metadata": {
        "id": "hqk4XM3EmGaA"
      }
    },
    {
      "cell_type": "code",
      "source": [
        "%time\n",
        "\n",
        "out = model(X_test)\n",
        "accuracy_value = accuracy(np.argmax(y_test, axis=1), np.argmax(out, axis=1))\n",
        "print( f'{(accuracy_value * 100):.3}%' )"
      ],
      "metadata": {
        "colab": {
          "base_uri": "https://localhost:8080/"
        },
        "id": "V5PvuEgjSKQf",
        "outputId": "0409956e-d434-462a-d167-62b90ebed95e"
      },
      "execution_count": 21,
      "outputs": [
        {
          "output_type": "stream",
          "name": "stdout",
          "text": [
            "CPU times: user 3 µs, sys: 1 µs, total: 4 µs\n",
            "Wall time: 7.39 µs\n",
            "96.0%\n"
          ]
        }
      ]
    },
    {
      "cell_type": "markdown",
      "metadata": {
        "id": "cc8H-HcXYpuG"
      },
      "source": [
        "##### Error Rate\n",
        "\n",
        "\"o valor da taxa de erro (calculada como o número de todas as previsões incorretas dividido pelo número total do conjunto de dados. A melhor taxa de erro é 0, enquanto a pior é 1.)\""
      ]
    },
    {
      "cell_type": "code",
      "source": [
        "y_predicted = list(np.argmax(out, axis=1))\n",
        "y_actual = list(np.argmax(y_test, axis=1))\n",
        "\n",
        "for i, y_pred in enumerate(y_predicted):\n",
        "    print('pred:', y_predicted[i], '\\ttrue:', y_actual[i])\n",
        "\n",
        "    if i > 20:\n",
        "      break"
      ],
      "metadata": {
        "colab": {
          "base_uri": "https://localhost:8080/"
        },
        "id": "YCEBGdZakFLW",
        "outputId": "ca1e4c52-d788-4047-95d4-4686134e208f"
      },
      "execution_count": 22,
      "outputs": [
        {
          "output_type": "stream",
          "name": "stdout",
          "text": [
            "pred: 7 \ttrue: 7\n",
            "pred: 2 \ttrue: 2\n",
            "pred: 1 \ttrue: 1\n",
            "pred: 0 \ttrue: 0\n",
            "pred: 4 \ttrue: 4\n",
            "pred: 1 \ttrue: 1\n",
            "pred: 4 \ttrue: 4\n",
            "pred: 9 \ttrue: 9\n",
            "pred: 6 \ttrue: 5\n",
            "pred: 9 \ttrue: 9\n",
            "pred: 0 \ttrue: 0\n",
            "pred: 6 \ttrue: 6\n",
            "pred: 9 \ttrue: 9\n",
            "pred: 0 \ttrue: 0\n",
            "pred: 1 \ttrue: 1\n",
            "pred: 5 \ttrue: 5\n",
            "pred: 9 \ttrue: 9\n",
            "pred: 7 \ttrue: 7\n",
            "pred: 3 \ttrue: 3\n",
            "pred: 4 \ttrue: 4\n",
            "pred: 9 \ttrue: 9\n",
            "pred: 6 \ttrue: 6\n"
          ]
        }
      ]
    },
    {
      "cell_type": "code",
      "source": [
        "num_errors = 0 \n",
        "for i, y_pred in enumerate(y_predicted):\n",
        "  if y_predicted[i] != y_actual[i]:\n",
        "    # print('pred:', y_predicted[i], '\\ttrue:', y_actual[i])\n",
        "    num_errors += 1\n",
        "\n",
        "print( f'num_errors: {num_errors}' )"
      ],
      "metadata": {
        "colab": {
          "base_uri": "https://localhost:8080/"
        },
        "id": "ILl7nl9hR_iZ",
        "outputId": "1e275f90-6ee6-4977-eba6-411710debbec"
      },
      "execution_count": 23,
      "outputs": [
        {
          "output_type": "stream",
          "name": "stdout",
          "text": [
            "num_errors: 402\n"
          ]
        }
      ]
    },
    {
      "cell_type": "code",
      "execution_count": 24,
      "metadata": {
        "colab": {
          "base_uri": "https://localhost:8080/"
        },
        "id": "znrDYWkRYugM",
        "outputId": "068dc790-5126-4a95-bdba-a3ccd9f14b63"
      },
      "outputs": [
        {
          "output_type": "stream",
          "name": "stdout",
          "text": [
            "error_rate: 0.0067\n"
          ]
        }
      ],
      "source": [
        "error_rate = num_errors / X_train.shape[0]\n",
        "print( f'error_rate: {error_rate:.3}' )"
      ]
    },
    {
      "cell_type": "code",
      "execution_count": 25,
      "metadata": {
        "colab": {
          "base_uri": "https://localhost:8080/"
        },
        "id": "4GdIEPBFVwVe",
        "outputId": "952960cc-806b-428d-b39d-0f5213e897c2"
      },
      "outputs": [
        {
          "output_type": "stream",
          "name": "stdout",
          "text": [
            "error_rate_percentage: 0.67%\n"
          ]
        }
      ],
      "source": [
        "error_rate_percentage = num_errors / X_train.shape[0] * 100\n",
        "print( f'error_rate_percentage: {error_rate_percentage:.2}%' )"
      ]
    },
    {
      "cell_type": "markdown",
      "metadata": {
        "id": "nyoSYVo-_psT"
      },
      "source": [
        "##### Confusion Matrix"
      ]
    },
    {
      "cell_type": "code",
      "execution_count": 26,
      "metadata": {
        "id": "FY6ZVW4491ez"
      },
      "outputs": [],
      "source": [
        "confusion_matrix = metrics.confusion_matrix(y_actual, y_predicted)"
      ]
    },
    {
      "cell_type": "code",
      "execution_count": 27,
      "metadata": {
        "colab": {
          "base_uri": "https://localhost:8080/"
        },
        "id": "4aFbP0Ei91p3",
        "outputId": "49f0df9d-d559-4fb0-bfad-f47d34fe100a"
      },
      "outputs": [
        {
          "output_type": "stream",
          "name": "stdout",
          "text": [
            "Predicted    0     1    2    3    4    5    6    7    8    9\n",
            "Actual                                                      \n",
            "0          968     0    0    2    0    5    3    0    1    1\n",
            "1            0  1123    2    1    0    1    3    1    4    0\n",
            "2            8     7  981    7    7    2    5    4   11    0\n",
            "3            1     0    2  961    2   21    0    7   10    6\n",
            "4            1     0    5    0  948    0    7    1    3   17\n",
            "5            7     2    0    3    2  862    7    0    5    4\n",
            "6           10     3    0    0    3   15  924    1    2    0\n",
            "7            0    14   14    7    4    1    0  948    2   38\n",
            "8            4     4    2    9    7   13    6    3  923    3\n",
            "9            6     8    1    6   18    6    1    1    2  960\n"
          ]
        }
      ],
      "source": [
        "# based on https://www.statology.org/confusion-matrix-python/\n",
        "\n",
        "y_actual = pd.Series(y_actual, name='Actual')\n",
        "y_predicted = pd.Series(y_predicted, name='Predicted')\n",
        "\n",
        "#create confusion matrix\n",
        "print(pd.crosstab(y_actual, y_predicted))"
      ]
    },
    {
      "cell_type": "code",
      "execution_count": 28,
      "metadata": {
        "colab": {
          "base_uri": "https://localhost:8080/",
          "height": 279
        },
        "id": "M3KMCNp291is",
        "outputId": "e5e24ed5-b0b2-4a2d-c7b6-1eebf896d52c"
      },
      "outputs": [
        {
          "output_type": "display_data",
          "data": {
            "text/plain": [
              "<Figure size 432x288 with 2 Axes>"
            ],
            "image/png": "[encoded data removed]"
          },
          "metadata": {
            "needs_background": "light"
          }
        }
      ],
      "source": [
        "# based on https://www.w3schools.com/python/python_ml_confusion_matrix.asp\n",
        "\n",
        "cm_display = metrics.ConfusionMatrixDisplay(\n",
        "    confusion_matrix = confusion_matrix, \n",
        "    display_labels = [0, 1, 2, 3, 4, 5, 6, 7, 8, 9])\n",
        "cm_display.plot()\n",
        "plt.show()"
      ]
    },
    {
      "cell_type": "markdown",
      "source": [
        "### Using PyTorch\n",
        "\n",
        "Based on https://www.youtube.com/watch?v=oPhxf2fXHkQ&list=PLqnslRFeH2UrcDBWF5mfPGpqQDSta6VK4&index=13"
      ],
      "metadata": {
        "id": "BrvhmdIJNDDl"
      }
    },
    {
      "cell_type": "markdown",
      "source": [
        "#### Device configuration"
      ],
      "metadata": {
        "id": "JwhExFPdNrBu"
      }
    },
    {
      "cell_type": "code",
      "source": [
        "device = torch.device('cuda' if torch.cuda.is_available() else 'cpu')\n",
        "device"
      ],
      "metadata": {
        "colab": {
          "base_uri": "https://localhost:8080/"
        },
        "id": "uKxJtdt9Nn_z",
        "outputId": "ad5ed534-f26a-4025-8b9c-4dfb7fe857ab"
      },
      "execution_count": 29,
      "outputs": [
        {
          "output_type": "execute_result",
          "data": {
            "text/plain": [
              "device(type='cuda')"
            ]
          },
          "metadata": {},
          "execution_count": 29
        }
      ]
    },
    {
      "cell_type": "markdown",
      "source": [
        "#### Hyper-parameters "
      ],
      "metadata": {
        "id": "oEVIrygFNvOs"
      }
    },
    {
      "cell_type": "code",
      "source": [
        "input_size = 784 # 28x28\n",
        "hidden_size = 500 \n",
        "num_classes = 10\n",
        "num_epochs = 5\n",
        "batch_size = 256\n",
        "learning_rate = 0.001"
      ],
      "metadata": {
        "id": "INKH10FaNoCS"
      },
      "execution_count": 30,
      "outputs": []
    },
    {
      "cell_type": "markdown",
      "source": [
        "#### MNIST dataset "
      ],
      "metadata": {
        "id": "DVKVg2AdN4md"
      }
    },
    {
      "cell_type": "code",
      "source": [
        "train_dataset = torchvision.datasets.MNIST(root='./data', \n",
        "                                           train=True, \n",
        "                                           transform=transforms.ToTensor(),  \n",
        "                                           download=True)\n",
        "\n",
        "test_dataset = torchvision.datasets.MNIST(root='./data', \n",
        "                                          train=False, \n",
        "                                          transform=transforms.ToTensor())"
      ],
      "metadata": {
        "id": "hGFzrzw2NoEu"
      },
      "execution_count": 31,
      "outputs": []
    },
    {
      "cell_type": "markdown",
      "source": [
        "#### Data loader\n",
        "\n",
        "Creating the batches of the training set and test set."
      ],
      "metadata": {
        "id": "iTcrUT-vOD5I"
      }
    },
    {
      "cell_type": "code",
      "source": [
        "train_loader = torch.utils.data.DataLoader(dataset=train_dataset, \n",
        "                                           batch_size=batch_size, \n",
        "                                           shuffle=True)\n",
        "\n",
        "test_loader = torch.utils.data.DataLoader(dataset=test_dataset, \n",
        "                                          batch_size=batch_size, \n",
        "                                          shuffle=False)"
      ],
      "metadata": {
        "id": "dRurEs0yNoHJ"
      },
      "execution_count": 32,
      "outputs": []
    },
    {
      "cell_type": "code",
      "source": [
        "train_loader"
      ],
      "metadata": {
        "colab": {
          "base_uri": "https://localhost:8080/"
        },
        "id": "70Wk7rTYNoKF",
        "outputId": "6ee1b40b-de4b-45d0-8861-f5e13579709e"
      },
      "execution_count": 33,
      "outputs": [
        {
          "output_type": "execute_result",
          "data": {
            "text/plain": [
              "<torch.utils.data.dataloader.DataLoader at 0x7fc1ff3dda90>"
            ]
          },
          "metadata": {},
          "execution_count": 33
        }
      ]
    },
    {
      "cell_type": "code",
      "source": [
        "# list(enumerate(train_loader))[0]"
      ],
      "metadata": {
        "id": "7mq1nzl9OgTK"
      },
      "execution_count": 34,
      "outputs": []
    },
    {
      "cell_type": "markdown",
      "source": [
        "#### Depicting examples\n",
        "\n",
        "From test set"
      ],
      "metadata": {
        "id": "tgJv_vWtPkCO"
      }
    },
    {
      "cell_type": "code",
      "source": [
        "examples = iter(test_loader)\n",
        "example_data, example_targets = examples.next()\n",
        "\n",
        "for i in range(6):\n",
        "    plt.subplot(2,3,i+1)\n",
        "    plt.imshow(example_data[i][0], cmap='gray')\n",
        "plt.show()"
      ],
      "metadata": {
        "colab": {
          "base_uri": "https://localhost:8080/",
          "height": 267
        },
        "id": "Fp0QhoO5OgYW",
        "outputId": "893c6a18-cbc9-4270-c7a5-25be2647824e"
      },
      "execution_count": 35,
      "outputs": [
        {
          "output_type": "display_data",
          "data": {
            "text/plain": [
              "<Figure size 432x288 with 6 Axes>"
            ],
            "image/png": "[encoded data removed]"
          },
          "metadata": {
            "needs_background": "light"
          }
        }
      ]
    },
    {
      "cell_type": "markdown",
      "source": [
        "#### Neural Network"
      ],
      "metadata": {
        "id": "qkbk4jzfRJQk"
      }
    },
    {
      "cell_type": "code",
      "source": [
        "# Fully connected neural network with one hidden layer\n",
        "class NeuralNet(nn.Module):\n",
        "    def __init__(self, input_size, hidden_size, num_classes):\n",
        "        super(NeuralNet, self).__init__()\n",
        "        self.input_size = input_size\n",
        "        self.l1 = nn.Linear(input_size, hidden_size) \n",
        "        self.relu = nn.ReLU()\n",
        "        self.l2 = nn.Linear(hidden_size, num_classes)  \n",
        "    \n",
        "    def forward(self, x):\n",
        "        out = self.l1(x)\n",
        "        out = self.relu(out)\n",
        "        out = self.l2(out)\n",
        "        # no activation and no softmax at the end\n",
        "        return out"
      ],
      "metadata": {
        "id": "GzGATPhlOgbH"
      },
      "execution_count": 36,
      "outputs": []
    },
    {
      "cell_type": "code",
      "source": [
        "model = NeuralNet(input_size, hidden_size, num_classes).to(device)"
      ],
      "metadata": {
        "id": "UZa49n9RRIye"
      },
      "execution_count": 37,
      "outputs": []
    },
    {
      "cell_type": "markdown",
      "source": [
        "#### Loss and optimizer"
      ],
      "metadata": {
        "id": "G00kLTk_RdAl"
      }
    },
    {
      "cell_type": "code",
      "source": [
        "criterion = nn.CrossEntropyLoss()\n",
        "optimizer = torch.optim.Adam(model.parameters(), lr=learning_rate)  "
      ],
      "metadata": {
        "id": "VziJW7zVRI1O"
      },
      "execution_count": 38,
      "outputs": []
    },
    {
      "cell_type": "markdown",
      "source": [
        "#### Training"
      ],
      "metadata": {
        "id": "lq_eXDcpRgK3"
      }
    },
    {
      "cell_type": "code",
      "source": [
        "%%time\n",
        "\n",
        "n_total_steps = len(train_loader)\n",
        "for epoch in range(num_epochs):\n",
        "    for i, (images, labels) in enumerate(train_loader):  \n",
        "        # origin shape: [100, 1, 28, 28]\n",
        "        # resized: [100, 784]\n",
        "        images = images.reshape(-1, 28*28).to(device)\n",
        "        labels = labels.to(device)\n",
        "        \n",
        "        # Forward pass\n",
        "        outputs = model(images)\n",
        "        loss = criterion(outputs, labels)\n",
        "        \n",
        "        # Backward and optimize\n",
        "        optimizer.zero_grad()\n",
        "        loss.backward()\n",
        "        optimizer.step()\n",
        "        \n",
        "        if (i+1) % 100 == 0:\n",
        "            print (f'Epoch [{epoch+1}/{num_epochs}], Step [{i+1}/{n_total_steps}], Loss: {loss.item():.4f}')"
      ],
      "metadata": {
        "colab": {
          "base_uri": "https://localhost:8080/"
        },
        "id": "xrxQrYyRRI3w",
        "outputId": "861e91bc-544c-4386-dce0-b4be1eafde76"
      },
      "execution_count": 39,
      "outputs": [
        {
          "output_type": "stream",
          "name": "stdout",
          "text": [
            "Epoch [1/5], Step [100/235], Loss: 0.2875\n",
            "Epoch [1/5], Step [200/235], Loss: 0.2020\n",
            "Epoch [2/5], Step [100/235], Loss: 0.1686\n",
            "Epoch [2/5], Step [200/235], Loss: 0.1448\n",
            "Epoch [3/5], Step [100/235], Loss: 0.1988\n",
            "Epoch [3/5], Step [200/235], Loss: 0.0796\n",
            "Epoch [4/5], Step [100/235], Loss: 0.0650\n",
            "Epoch [4/5], Step [200/235], Loss: 0.0768\n",
            "Epoch [5/5], Step [100/235], Loss: 0.0524\n",
            "Epoch [5/5], Step [200/235], Loss: 0.0713\n",
            "CPU times: user 23.3 s, sys: 145 ms, total: 23.4 s\n",
            "Wall time: 23.4 s\n"
          ]
        }
      ]
    },
    {
      "cell_type": "markdown",
      "source": [
        "#### Testing"
      ],
      "metadata": {
        "id": "aXmC0E-ORsDR"
      }
    },
    {
      "cell_type": "code",
      "source": [
        "with torch.no_grad():\n",
        "    n_correct = 0\n",
        "    n_samples = 0\n",
        "    for images, labels in test_loader:\n",
        "        images = images.reshape(-1, 28*28).to(device)\n",
        "        labels = labels.to(device)\n",
        "        outputs = model(images)\n",
        "        # max returns (value ,index)\n",
        "        _, predicted = torch.max(outputs.data, 1)\n",
        "        n_samples += labels.size(0)\n",
        "        n_correct += (predicted == labels).sum().item()\n",
        "\n",
        "    acc = 100.0 * n_correct / n_samples\n",
        "    print(f'Accuracy of the network on the {n_samples} test images: {acc} %')"
      ],
      "metadata": {
        "colab": {
          "base_uri": "https://localhost:8080/"
        },
        "id": "D1AiWK9ANDK8",
        "outputId": "ddf1d592-9b42-451d-8cbe-15b3acace9f7"
      },
      "execution_count": 40,
      "outputs": [
        {
          "output_type": "stream",
          "name": "stdout",
          "text": [
            "Accuracy of the network on the 10000 test images: 97.63 %\n"
          ]
        }
      ]
    },
    {
      "cell_type": "markdown",
      "source": [
        "### Exporting to HTML file"
      ],
      "metadata": {
        "id": "hyQxRZWAOJc_"
      }
    },
    {
      "cell_type": "markdown",
      "source": [
        "Changing Google Drive folder."
      ],
      "metadata": {
        "id": "wGpdfGeFOWXs"
      }
    },
    {
      "cell_type": "code",
      "source": [
        "from google.colab import drive\n",
        "drive.mount('/content/drive/', force_remount=True)"
      ],
      "metadata": {
        "colab": {
          "base_uri": "https://localhost:8080/"
        },
        "id": "0H1nCKc7OJki",
        "outputId": "e1fb540a-6e7f-48d9-c6ae-008c13b2e2c1"
      },
      "execution_count": 41,
      "outputs": [
        {
          "output_type": "stream",
          "name": "stdout",
          "text": [
            "Mounted at /content/drive/\n"
          ]
        }
      ]
    },
    {
      "cell_type": "code",
      "source": [
        "!cd \"./drive/MyDrive/Doutorado/Disciplinas/[2022.2] [PUC-Rio] Visão Computacional - Professor: Marcelo Gattass/Trabalhos/Trabalho 3\""
      ],
      "metadata": {
        "id": "FSeisG58OVF-"
      },
      "execution_count": 42,
      "outputs": []
    },
    {
      "cell_type": "code",
      "source": [
        "!pwd"
      ],
      "metadata": {
        "colab": {
          "base_uri": "https://localhost:8080/"
        },
        "id": "z46RRs6-OVIl",
        "outputId": "0a5c94b3-e56c-4340-ea37-6f9a4ed4564d"
      },
      "execution_count": 43,
      "outputs": [
        {
          "output_type": "stream",
          "name": "stdout",
          "text": [
            "/content\n"
          ]
        }
      ]
    },
    {
      "cell_type": "code",
      "source": [
        "%%time\n",
        "\n",
        "!jupyter nbconvert --to html ./T3_DanielCosta.ipynb"
      ],
      "metadata": {
        "id": "O4GemAIPOVLR"
      },
      "execution_count": 45,
      "outputs": []
    }
  ],
  "metadata": {
    "colab": {
      "collapsed_sections": [],
      "provenance": []
    },
    "kernelspec": {
      "display_name": "Python 3",
      "name": "python3"
    },
    "language_info": {
      "name": "python"
    },
    "accelerator": "GPU"
  },
  "nbformat": 4,
  "nbformat_minor": 0
}