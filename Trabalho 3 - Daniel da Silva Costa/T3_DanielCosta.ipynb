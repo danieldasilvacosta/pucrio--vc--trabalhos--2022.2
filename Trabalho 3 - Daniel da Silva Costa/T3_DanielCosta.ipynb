{
  "nbformat": 4,
  "nbformat_minor": 0,
  "metadata": {
    "colab": {
      "provenance": [],
      "collapsed_sections": [],
      "toc_visible": true
    },
    "kernelspec": {
      "name": "python3",
      "display_name": "Python 3"
    },
    "language_info": {
      "name": "python"
    }
  },
  "cells": [
    {
      "cell_type": "markdown",
      "source": [
        "# Trabalho 3\n",
        "Descrição do trabalho:\n",
        "\n",
        "http://webserver2.tecgraf.puc-rio.br/~mgattass/visao/trb/T3.html\n",
        "\n",
        "Aluno: Daniel da Silva Costa\n",
        "\n",
        "E-mail: danieldasilvacosta@gmail.com"
      ],
      "metadata": {
        "id": "yRPDSJgl5066"
      }
    },
    {
      "cell_type": "markdown",
      "source": [
        "### Imports"
      ],
      "metadata": {
        "id": "kXpKGbGz8FJ7"
      }
    },
    {
      "cell_type": "code",
      "source": [
        "import numpy as np\n",
        "import matplotlib.pyplot as plt\n",
        "from matplotlib import pyplot\n",
        "from mpl_toolkits.mplot3d import Axes3D\n",
        "import time\n",
        "from keras.datasets import mnist\n",
        "from keras.utils import np_utils\n",
        "from sklearn import metrics\n",
        "import pandas as pd"
      ],
      "metadata": {
        "id": "O9jx1Ztl8ID7"
      },
      "execution_count": 1,
      "outputs": []
    },
    {
      "cell_type": "markdown",
      "source": [
        "### Using the Numpy"
      ],
      "metadata": {
        "id": "8JHDwTgFsMeT"
      }
    },
    {
      "cell_type": "markdown",
      "source": [
        "#### Loss Functions"
      ],
      "metadata": {
        "id": "m71Mxp2ivWRp"
      }
    },
    {
      "cell_type": "code",
      "source": [
        "def mse(y_true, y_pred):\n",
        "    return np.mean(np.power(y_true - y_pred, 2))\n",
        "\n",
        "def mse_prime(y_true, y_pred):\n",
        "    return 2 * (y_pred - y_true) / np.size(y_true)\n",
        "\n",
        "def binary_cross_entropy(y_true, y_pred):\n",
        "    return np.mean(-y_true * np.log(y_pred) - (1 - y_true) * np.log(1 - y_pred))\n",
        "\n",
        "def binary_cross_entropy_prime(y_true, y_pred):\n",
        "    return ((1 - y_true) / (1 - y_pred) - y_true / y_pred) / np.size(y_true)"
      ],
      "metadata": {
        "id": "ZCJ9iEfmtGmV"
      },
      "execution_count": 2,
      "outputs": []
    },
    {
      "cell_type": "markdown",
      "source": [
        "#### Activation Functions"
      ],
      "metadata": {
        "id": "A1YmoLev8onL"
      }
    },
    {
      "cell_type": "code",
      "source": [
        "def tanh(x):\n",
        "  return np.tanh(x)\n",
        "\n",
        "def tanh_prime(x):\n",
        "  return 1 - np.tanh(x) ** 2"
      ],
      "metadata": {
        "id": "KRJwZb3LzaD0"
      },
      "execution_count": 3,
      "outputs": []
    },
    {
      "cell_type": "code",
      "source": [
        "def sigmoid(x):\n",
        "  return 1/(1+np.exp(-x))\n",
        "\n",
        "def sigmoid_prime(x):\n",
        "  s = 1/(1+np.exp(-x))\n",
        "  ds = s*(1-s)\n",
        "  return ds"
      ],
      "metadata": {
        "id": "LH-43l1N6SoO"
      },
      "execution_count": 4,
      "outputs": []
    },
    {
      "cell_type": "code",
      "source": [
        "def relu(x):\n",
        "  return np.maximum(0,x)\n",
        "\n",
        "def relu_prime(x):\n",
        "  return (x>0).astype(x.dtype)"
      ],
      "metadata": {
        "id": "Dg0ucoe06SoO"
      },
      "execution_count": 5,
      "outputs": []
    },
    {
      "cell_type": "markdown",
      "source": [
        "#### class Layer"
      ],
      "metadata": {
        "id": "_6sFXydFvYuF"
      }
    },
    {
      "cell_type": "code",
      "source": [
        "class Layer:\n",
        "    def __init__(self):\n",
        "        self.input = None\n",
        "        self.output = None\n",
        "\n",
        "    def forward(self, input):\n",
        "        # TODO: return output\n",
        "        pass\n",
        "\n",
        "    def backward(self, output_gradient, learning_rate):\n",
        "        # TODO: update parameters and return input gradient\n",
        "        pass"
      ],
      "metadata": {
        "id": "q9tc-xPLtCyd"
      },
      "execution_count": 6,
      "outputs": []
    },
    {
      "cell_type": "markdown",
      "source": [
        "#### class Activation(Layer)"
      ],
      "metadata": {
        "id": "j1apvwBWvcs5"
      }
    },
    {
      "cell_type": "code",
      "source": [
        "class Activation(Layer):\n",
        "    def __init__(self, activation, activation_prime):\n",
        "        self.activation = activation\n",
        "        self.activation_prime = activation_prime\n",
        "\n",
        "    def forward(self, input):\n",
        "        self.input = input\n",
        "        return self.activation(self.input)\n",
        "\n",
        "    def backward(self, output_gradient, learning_rate):\n",
        "        return np.multiply(output_gradient, self.activation_prime(self.input))"
      ],
      "metadata": {
        "id": "l1pBLTS1t-hV"
      },
      "execution_count": 7,
      "outputs": []
    },
    {
      "cell_type": "markdown",
      "source": [
        "#### class Dense(Layer)"
      ],
      "metadata": {
        "id": "E7ekyuq5vhIb"
      }
    },
    {
      "cell_type": "code",
      "source": [
        "class Dense(Layer):\n",
        "    def __init__(self, input_size, output_size):\n",
        "        self.weights = np.random.randn(output_size, input_size)\n",
        "        self.bias = np.random.randn(output_size, 1)\n",
        "\n",
        "    def forward(self, input):\n",
        "        self.input = input\n",
        "        self.output = np.dot(self.weights, self.input) + self.bias\n",
        "        return self.output\n",
        "\n",
        "    def backward(self, output_gradient, learning_rate):\n",
        "        input_gradient = np.dot(self.weights.T, output_gradient)\n",
        "        # print( f'output_gradient.shape: {output_gradient.shape}' )\n",
        "        d_weights = np.dot(output_gradient, self.input.T)\n",
        "        d_bias = np.sum(output_gradient, axis=0).reshape((1, -1))\n",
        "\n",
        "        # update parameters\n",
        "        # print( f'learning_rate: {learning_rate}' )\n",
        "        # print( f'd_weights.shape: {d_weights.shape}' )\n",
        "        self.weights -= learning_rate * d_weights\n",
        "        self.bias -= learning_rate * d_bias\n",
        "        return input_gradient "
      ],
      "metadata": {
        "id": "jnwqfgZ1sOug"
      },
      "execution_count": 8,
      "outputs": []
    },
    {
      "cell_type": "markdown",
      "source": [
        "#### function predict()"
      ],
      "metadata": {
        "id": "d3u673AxvoRy"
      }
    },
    {
      "cell_type": "code",
      "source": [
        "def predict(network, input):\n",
        "    output = input\n",
        "    for layer in network:\n",
        "        output = layer.forward(output)\n",
        "    return output"
      ],
      "metadata": {
        "id": "FwUcSfQ8sO0S"
      },
      "execution_count": 9,
      "outputs": []
    },
    {
      "cell_type": "markdown",
      "source": [
        "#### function train()"
      ],
      "metadata": {
        "id": "1ed25mo3vkfg"
      }
    },
    {
      "cell_type": "code",
      "source": [
        "def train(network, loss, loss_prime, x_train, y_train, epochs = 1000, learning_rate = 0.01, batch_size = -1, verbose = True):\n",
        "\n",
        "    if batch_size > 0: # train using batches\n",
        "\n",
        "        n_samples = len(x_train)\n",
        "        n_batches = n_samples//batch_size\n",
        "\n",
        "        batches = list()\n",
        "        batches_y = list()\n",
        "        for k in range(n_batches):\n",
        "\n",
        "              ini = k * batch_size\n",
        "              end = (k + 1) * batch_size\n",
        "              batch = x_train[ini:end]\n",
        "              batch_y = y_train[ini:end]\n",
        "              batches.append( batch )\n",
        "              batches_y.append( batch_y )\n",
        "\n",
        "        if (n_batches * batch_size < len(x_train)):\n",
        "\n",
        "              batch = x_train[ n_batches * batch_size: ]\n",
        "              batch_y = y_train[ n_batches * batch_size: ]\n",
        "              batches.append( batch )\n",
        "              batches_y.append( batch_y )\n",
        "\n",
        "        # print( f'len(batches): {len(batches)}' )\n",
        "\n",
        "        for e in range(epochs):\n",
        "\n",
        "            error = 0\n",
        "            for key, batch in enumerate(batches):\n",
        "\n",
        "                print()\n",
        "\n",
        "                batch_y = batches_y[key]\n",
        "                batch_output = list()\n",
        "\n",
        "                for key, item in enumerate(batch):\n",
        "\n",
        "                    # forward\n",
        "                    output = predict(network, item)\n",
        "                    # print( f'output: {output}' )\n",
        "\n",
        "                    batch_output.append( output )\n",
        "\n",
        "                error += loss(batch_y, batch_output)\n",
        "                print( f'error: {error}' )\n",
        "\n",
        "                # backward\n",
        "                grad = loss_prime(batch_y, batch_output) # b, n\n",
        "                # grad = np.sum(grad, axis=0)\n",
        "                print( f'grad.shape: {grad.shape}' )\n",
        "                print( f'grad: {grad}' )\n",
        "                # print( f'grad[0]: {grad[0]}' )\n",
        "                # print( f'grad[1]: {grad[1]}' )\n",
        "                for layer in reversed(network):\n",
        "                    grad = layer.backward(grad, learning_rate)\n",
        "\n",
        "            error /= len(batches)\n",
        "            print( f'error /= len(batches): {error}' )\n",
        "\n",
        "            if verbose:\n",
        "                if e % 100 == 0:\n",
        "                    print(f\"{e}/{epochs}, error={error:.3}\")\n",
        "\n",
        "    else: # train item by item\n",
        "\n",
        "        for e in range(epochs):\n",
        "            error = 0\n",
        "            for x, y in zip(x_train, y_train):\n",
        "                # forward\n",
        "                output = predict(network, x)\n",
        "\n",
        "                # error\n",
        "                error += loss(y, output)\n",
        "\n",
        "                # backward\n",
        "                grad = loss_prime(y, output)\n",
        "                for layer in reversed(network):\n",
        "                    grad = layer.backward(grad, learning_rate)\n",
        "\n",
        "            error /= len(x_train)\n",
        "\n",
        "            if verbose:\n",
        "                if e % 100 == 0:\n",
        "                    print(f\"{e}/{epochs}, error={error:.3}\")"
      ],
      "metadata": {
        "id": "sNFNobT_Mml0"
      },
      "execution_count": 10,
      "outputs": []
    },
    {
      "cell_type": "markdown",
      "source": [
        "#### Example: XOR"
      ],
      "metadata": {
        "id": "VBi2gzj2tqRp"
      }
    },
    {
      "cell_type": "code",
      "source": [
        "X = np.reshape([[0, 0], [0, 1], [1, 0], [1, 1]], (4, 2, 1))\n",
        "Y = np.reshape([[0], [1], [1], [0]], (4, 1, 1))"
      ],
      "metadata": {
        "id": "tBaIStgfsO8m"
      },
      "execution_count": 11,
      "outputs": []
    },
    {
      "cell_type": "markdown",
      "source": [
        "##### Neural Network"
      ],
      "metadata": {
        "id": "kLSQOyZqmelh"
      }
    },
    {
      "cell_type": "code",
      "source": [
        "network = [\n",
        "    Dense(input_size = 2, \n",
        "          output_size = 3),\n",
        "    Activation(activation = tanh, \n",
        "               activation_prime = tanh_prime),\n",
        "    Dense(input_size = 3, \n",
        "          output_size = 1),\n",
        "    Activation(activation = tanh,\n",
        "               activation_prime = tanh_prime),\n",
        "]"
      ],
      "metadata": {
        "id": "8S2ye1Wsmf7n"
      },
      "execution_count": 12,
      "outputs": []
    },
    {
      "cell_type": "markdown",
      "source": [
        "##### Training"
      ],
      "metadata": {
        "id": "8cKQ8Fhbhq1H"
      }
    },
    {
      "cell_type": "code",
      "source": [
        "%%time\n",
        "\n",
        "train(network, \n",
        "      loss = mse, \n",
        "      loss_prime = mse_prime, \n",
        "      x_train = X, \n",
        "      y_train = Y, \n",
        "      epochs = 10000, \n",
        "      learning_rate = 0.1)"
      ],
      "metadata": {
        "colab": {
          "base_uri": "https://localhost:8080/"
        },
        "id": "hI5yLJhGhsqN",
        "outputId": "68fdaf48-c8f9-4ed9-8aa9-af91c3ebff41"
      },
      "execution_count": 13,
      "outputs": [
        {
          "output_type": "stream",
          "name": "stdout",
          "text": [
            "0/10000, error=0.329\n",
            "100/10000, error=0.212\n",
            "200/10000, error=0.149\n",
            "300/10000, error=0.0416\n",
            "400/10000, error=0.00355\n",
            "500/10000, error=0.0422\n",
            "600/10000, error=0.00255\n",
            "700/10000, error=0.00179\n",
            "800/10000, error=0.00139\n",
            "900/10000, error=0.00112\n",
            "1000/10000, error=0.000934\n",
            "1100/10000, error=0.0008\n",
            "1200/10000, error=0.000699\n",
            "1300/10000, error=0.00062\n",
            "1400/10000, error=0.000556\n",
            "1500/10000, error=0.000504\n",
            "1600/10000, error=0.000461\n",
            "1700/10000, error=0.000424\n",
            "1800/10000, error=0.000392\n",
            "1900/10000, error=0.000365\n",
            "2000/10000, error=0.000341\n",
            "2100/10000, error=0.00032\n",
            "2200/10000, error=0.000301\n",
            "2300/10000, error=0.000285\n",
            "2400/10000, error=0.00027\n",
            "2500/10000, error=0.000256\n",
            "2600/10000, error=0.000244\n",
            "2700/10000, error=0.000233\n",
            "2800/10000, error=0.000222\n",
            "2900/10000, error=0.000213\n",
            "3000/10000, error=0.000204\n",
            "3100/10000, error=0.000196\n",
            "3200/10000, error=0.000189\n",
            "3300/10000, error=0.000182\n",
            "3400/10000, error=0.000176\n",
            "3500/10000, error=0.00017\n",
            "3600/10000, error=0.000164\n",
            "3700/10000, error=0.000159\n",
            "3800/10000, error=0.000154\n",
            "3900/10000, error=0.000149\n",
            "4000/10000, error=0.000145\n",
            "4100/10000, error=0.000141\n",
            "4200/10000, error=0.000137\n",
            "4300/10000, error=0.000133\n",
            "4400/10000, error=0.000129\n",
            "4500/10000, error=0.000126\n",
            "4600/10000, error=0.000123\n",
            "4700/10000, error=0.00012\n",
            "4800/10000, error=0.000117\n",
            "4900/10000, error=0.000114\n",
            "5000/10000, error=0.000111\n",
            "5100/10000, error=0.000109\n",
            "5200/10000, error=0.000107\n",
            "5300/10000, error=0.000104\n",
            "5400/10000, error=0.000102\n",
            "5500/10000, error=9.99e-05\n",
            "5600/10000, error=9.78e-05\n",
            "5700/10000, error=9.58e-05\n",
            "5800/10000, error=9.4e-05\n",
            "5900/10000, error=9.21e-05\n",
            "6000/10000, error=9.04e-05\n",
            "6100/10000, error=8.87e-05\n",
            "6200/10000, error=8.71e-05\n",
            "6300/10000, error=8.55e-05\n",
            "6400/10000, error=8.4e-05\n",
            "6500/10000, error=8.25e-05\n",
            "6600/10000, error=8.11e-05\n",
            "6700/10000, error=7.97e-05\n",
            "6800/10000, error=7.84e-05\n",
            "6900/10000, error=7.71e-05\n",
            "7000/10000, error=7.59e-05\n",
            "7100/10000, error=7.47e-05\n",
            "7200/10000, error=7.35e-05\n",
            "7300/10000, error=7.24e-05\n",
            "7400/10000, error=7.12e-05\n",
            "7500/10000, error=7.02e-05\n",
            "7600/10000, error=6.91e-05\n",
            "7700/10000, error=6.81e-05\n",
            "7800/10000, error=6.72e-05\n",
            "7900/10000, error=6.62e-05\n",
            "8000/10000, error=6.53e-05\n",
            "8100/10000, error=6.44e-05\n",
            "8200/10000, error=6.35e-05\n",
            "8300/10000, error=6.26e-05\n",
            "8400/10000, error=6.18e-05\n",
            "8500/10000, error=6.1e-05\n",
            "8600/10000, error=6.02e-05\n",
            "8700/10000, error=5.94e-05\n",
            "8800/10000, error=5.87e-05\n",
            "8900/10000, error=5.79e-05\n",
            "9000/10000, error=5.72e-05\n",
            "9100/10000, error=5.65e-05\n",
            "9200/10000, error=5.58e-05\n",
            "9300/10000, error=5.52e-05\n",
            "9400/10000, error=5.45e-05\n",
            "9500/10000, error=5.39e-05\n",
            "9600/10000, error=5.32e-05\n",
            "9700/10000, error=5.26e-05\n",
            "9800/10000, error=5.2e-05\n",
            "9900/10000, error=5.15e-05\n",
            "CPU times: user 6.07 s, sys: 48.8 ms, total: 6.12 s\n",
            "Wall time: 8.24 s\n"
          ]
        }
      ]
    },
    {
      "cell_type": "code",
      "source": [
        "# decision boundary plot\n",
        "points = []\n",
        "for x in np.linspace(0, 1, 20):\n",
        "    for y in np.linspace(0, 1, 20):\n",
        "        z = predict(network, [[x], [y]])\n",
        "        points.append([x, y, z[0,0]])\n",
        "\n",
        "points = np.array(points)\n",
        "\n",
        "fig = plt.figure()\n",
        "ax = fig.add_subplot(111, projection=\"3d\")\n",
        "ax.scatter(points[:, 0], points[:, 1], points[:, 2], c=points[:, 2], cmap=\"winter\")\n",
        "plt.show()"
      ],
      "metadata": {
        "colab": {
          "base_uri": "https://localhost:8080/",
          "height": 248
        },
        "id": "ENzQRzmRsO3M",
        "outputId": "bd7d661f-2661-489b-a3d4-99ea2d0352ff"
      },
      "execution_count": 14,
      "outputs": [
        {
          "output_type": "display_data",
          "data": {
            "text/plain": [
              "<Figure size 432x288 with 1 Axes>"
            ],
            "image/png": "[encoded data removed]"
          },
          "metadata": {
            "needs_background": "light"
          }
        }
      ]
    },
    {
      "cell_type": "markdown",
      "source": [
        "#### Example: MNIST"
      ],
      "metadata": {
        "id": "_OSZUaHL9zUh"
      }
    },
    {
      "cell_type": "code",
      "source": [
        "# load MNIST from server\n",
        "(x_train, y_train), (x_test, y_test) = mnist.load_data()"
      ],
      "metadata": {
        "id": "HMMN7BtI91TX"
      },
      "execution_count": 15,
      "outputs": []
    },
    {
      "cell_type": "markdown",
      "source": [
        "##### Loading the data"
      ],
      "metadata": {
        "id": "I_9PSGOkkX6h"
      }
    },
    {
      "cell_type": "code",
      "source": [
        "total_examples_train = 1000"
      ],
      "metadata": {
        "id": "L5Gcoq1nkYBS"
      },
      "execution_count": 16,
      "outputs": []
    },
    {
      "cell_type": "code",
      "source": [
        "total_examples_test = total_examples_train * .1\n",
        "total_examples_test = int(total_examples_test)"
      ],
      "metadata": {
        "id": "P8zCarNEV-Wj"
      },
      "execution_count": 17,
      "outputs": []
    },
    {
      "cell_type": "code",
      "source": [
        "x_train[0].shape"
      ],
      "metadata": {
        "colab": {
          "base_uri": "https://localhost:8080/"
        },
        "id": "fwcWHKKgYBtK",
        "outputId": "e45e2164-f6a2-4c62-d68b-92547ecfe947"
      },
      "execution_count": 18,
      "outputs": [
        {
          "output_type": "execute_result",
          "data": {
            "text/plain": [
              "(28, 28)"
            ]
          },
          "metadata": {},
          "execution_count": 18
        }
      ]
    },
    {
      "cell_type": "code",
      "source": [
        "fig, axes = plt.subplots( 1, 1, figsize=( 10, 5 ) )\n",
        "\n",
        "axes.set_title( f'Label: {y_train[0]}' )\n",
        "axes.imshow( x_train[0], cmap='gray' )\n",
        "\n",
        "plt.show()"
      ],
      "metadata": {
        "colab": {
          "base_uri": "https://localhost:8080/",
          "height": 336
        },
        "id": "Xd7qKexIkyR4",
        "outputId": "0fe5f9fa-e4e2-402a-a96f-4e5ecdf0e0b6"
      },
      "execution_count": 19,
      "outputs": [
        {
          "output_type": "display_data",
          "data": {
            "text/plain": [
              "<Figure size 720x360 with 1 Axes>"
            ],
            "image/png": "[encoded data removed]"
          },
          "metadata": {
            "needs_background": "light"
          }
        }
      ]
    },
    {
      "cell_type": "code",
      "source": [
        "x_train[0]"
      ],
      "metadata": {
        "colab": {
          "base_uri": "https://localhost:8080/"
        },
        "id": "tjLOjGg9TENH",
        "outputId": "8c984620-ef16-4c07-d917-ce9320478078"
      },
      "execution_count": 20,
      "outputs": [
        {
          "output_type": "execute_result",
          "data": {
            "text/plain": [
              "array([[  0,   0,   0,   0,   0,   0,   0,   0,   0,   0,   0,   0,   0,\n",
              "          0,   0,   0,   0,   0,   0,   0,   0,   0,   0,   0,   0,   0,\n",
              "          0,   0],\n",
              "       [  0,   0,   0,   0,   0,   0,   0,   0,   0,   0,   0,   0,   0,\n",
              "          0,   0,   0,   0,   0,   0,   0,   0,   0,   0,   0,   0,   0,\n",
              "          0,   0],\n",
              "       [  0,   0,   0,   0,   0,   0,   0,   0,   0,   0,   0,   0,   0,\n",
              "          0,   0,   0,   0,   0,   0,   0,   0,   0,   0,   0,   0,   0,\n",
              "          0,   0],\n",
              "       [  0,   0,   0,   0,   0,   0,   0,   0,   0,   0,   0,   0,   0,\n",
              "          0,   0,   0,   0,   0,   0,   0,   0,   0,   0,   0,   0,   0,\n",
              "          0,   0],\n",
              "       [  0,   0,   0,   0,   0,   0,   0,   0,   0,   0,   0,   0,   0,\n",
              "          0,   0,   0,   0,   0,   0,   0,   0,   0,   0,   0,   0,   0,\n",
              "          0,   0],\n",
              "       [  0,   0,   0,   0,   0,   0,   0,   0,   0,   0,   0,   0,   3,\n",
              "         18,  18,  18, 126, 136, 175,  26, 166, 255, 247, 127,   0,   0,\n",
              "          0,   0],\n",
              "       [  0,   0,   0,   0,   0,   0,   0,   0,  30,  36,  94, 154, 170,\n",
              "        253, 253, 253, 253, 253, 225, 172, 253, 242, 195,  64,   0,   0,\n",
              "          0,   0],\n",
              "       [  0,   0,   0,   0,   0,   0,   0,  49, 238, 253, 253, 253, 253,\n",
              "        253, 253, 253, 253, 251,  93,  82,  82,  56,  39,   0,   0,   0,\n",
              "          0,   0],\n",
              "       [  0,   0,   0,   0,   0,   0,   0,  18, 219, 253, 253, 253, 253,\n",
              "        253, 198, 182, 247, 241,   0,   0,   0,   0,   0,   0,   0,   0,\n",
              "          0,   0],\n",
              "       [  0,   0,   0,   0,   0,   0,   0,   0,  80, 156, 107, 253, 253,\n",
              "        205,  11,   0,  43, 154,   0,   0,   0,   0,   0,   0,   0,   0,\n",
              "          0,   0],\n",
              "       [  0,   0,   0,   0,   0,   0,   0,   0,   0,  14,   1, 154, 253,\n",
              "         90,   0,   0,   0,   0,   0,   0,   0,   0,   0,   0,   0,   0,\n",
              "          0,   0],\n",
              "       [  0,   0,   0,   0,   0,   0,   0,   0,   0,   0,   0, 139, 253,\n",
              "        190,   2,   0,   0,   0,   0,   0,   0,   0,   0,   0,   0,   0,\n",
              "          0,   0],\n",
              "       [  0,   0,   0,   0,   0,   0,   0,   0,   0,   0,   0,  11, 190,\n",
              "        253,  70,   0,   0,   0,   0,   0,   0,   0,   0,   0,   0,   0,\n",
              "          0,   0],\n",
              "       [  0,   0,   0,   0,   0,   0,   0,   0,   0,   0,   0,   0,  35,\n",
              "        241, 225, 160, 108,   1,   0,   0,   0,   0,   0,   0,   0,   0,\n",
              "          0,   0],\n",
              "       [  0,   0,   0,   0,   0,   0,   0,   0,   0,   0,   0,   0,   0,\n",
              "         81, 240, 253, 253, 119,  25,   0,   0,   0,   0,   0,   0,   0,\n",
              "          0,   0],\n",
              "       [  0,   0,   0,   0,   0,   0,   0,   0,   0,   0,   0,   0,   0,\n",
              "          0,  45, 186, 253, 253, 150,  27,   0,   0,   0,   0,   0,   0,\n",
              "          0,   0],\n",
              "       [  0,   0,   0,   0,   0,   0,   0,   0,   0,   0,   0,   0,   0,\n",
              "          0,   0,  16,  93, 252, 253, 187,   0,   0,   0,   0,   0,   0,\n",
              "          0,   0],\n",
              "       [  0,   0,   0,   0,   0,   0,   0,   0,   0,   0,   0,   0,   0,\n",
              "          0,   0,   0,   0, 249, 253, 249,  64,   0,   0,   0,   0,   0,\n",
              "          0,   0],\n",
              "       [  0,   0,   0,   0,   0,   0,   0,   0,   0,   0,   0,   0,   0,\n",
              "          0,  46, 130, 183, 253, 253, 207,   2,   0,   0,   0,   0,   0,\n",
              "          0,   0],\n",
              "       [  0,   0,   0,   0,   0,   0,   0,   0,   0,   0,   0,   0,  39,\n",
              "        148, 229, 253, 253, 253, 250, 182,   0,   0,   0,   0,   0,   0,\n",
              "          0,   0],\n",
              "       [  0,   0,   0,   0,   0,   0,   0,   0,   0,   0,  24, 114, 221,\n",
              "        253, 253, 253, 253, 201,  78,   0,   0,   0,   0,   0,   0,   0,\n",
              "          0,   0],\n",
              "       [  0,   0,   0,   0,   0,   0,   0,   0,  23,  66, 213, 253, 253,\n",
              "        253, 253, 198,  81,   2,   0,   0,   0,   0,   0,   0,   0,   0,\n",
              "          0,   0],\n",
              "       [  0,   0,   0,   0,   0,   0,  18, 171, 219, 253, 253, 253, 253,\n",
              "        195,  80,   9,   0,   0,   0,   0,   0,   0,   0,   0,   0,   0,\n",
              "          0,   0],\n",
              "       [  0,   0,   0,   0,  55, 172, 226, 253, 253, 253, 253, 244, 133,\n",
              "         11,   0,   0,   0,   0,   0,   0,   0,   0,   0,   0,   0,   0,\n",
              "          0,   0],\n",
              "       [  0,   0,   0,   0, 136, 253, 253, 253, 212, 135, 132,  16,   0,\n",
              "          0,   0,   0,   0,   0,   0,   0,   0,   0,   0,   0,   0,   0,\n",
              "          0,   0],\n",
              "       [  0,   0,   0,   0,   0,   0,   0,   0,   0,   0,   0,   0,   0,\n",
              "          0,   0,   0,   0,   0,   0,   0,   0,   0,   0,   0,   0,   0,\n",
              "          0,   0],\n",
              "       [  0,   0,   0,   0,   0,   0,   0,   0,   0,   0,   0,   0,   0,\n",
              "          0,   0,   0,   0,   0,   0,   0,   0,   0,   0,   0,   0,   0,\n",
              "          0,   0],\n",
              "       [  0,   0,   0,   0,   0,   0,   0,   0,   0,   0,   0,   0,   0,\n",
              "          0,   0,   0,   0,   0,   0,   0,   0,   0,   0,   0,   0,   0,\n",
              "          0,   0]], dtype=uint8)"
            ]
          },
          "metadata": {},
          "execution_count": 20
        }
      ]
    },
    {
      "cell_type": "markdown",
      "source": [
        "##### Depicting examples"
      ],
      "metadata": {
        "id": "JANAzxfJdJXo"
      }
    },
    {
      "cell_type": "code",
      "source": [
        "rows = 3\n",
        "columns = 7\n",
        "\n",
        "fig, axes = plt.subplots( rows, columns, figsize=( 15, 8 ) )\n",
        "\n",
        "for i in range(rows):\n",
        "  for j in range(columns):\n",
        "    random_number = int(np.random.rand() * total_examples_train)\n",
        "    axes[i][j].set_title( f'Label: {y_train[random_number]}' )\n",
        "    axes[i][j].imshow( x_train[random_number], cmap='gray' )\n",
        "\n",
        "plt.show()"
      ],
      "metadata": {
        "colab": {
          "base_uri": "https://localhost:8080/",
          "height": 389
        },
        "id": "1iytJvAgX36C",
        "outputId": "149bdbef-342a-4c7f-d4ca-f2af153a436b"
      },
      "execution_count": 21,
      "outputs": [
        {
          "output_type": "display_data",
          "data": {
            "text/plain": [
              "<Figure size 1080x576 with 21 Axes>"
            ],
            "image/png": "[encoded data removed]"
          },
          "metadata": {
            "needs_background": "light"
          }
        }
      ]
    },
    {
      "cell_type": "markdown",
      "source": [
        "##### Preprocessing Data"
      ],
      "metadata": {
        "id": "Y-xQOhu3dAdE"
      }
    },
    {
      "cell_type": "code",
      "source": [
        "def preprocess_data(x, y, limit):\n",
        "    # reshape and normalize input data\n",
        "    x = x.reshape(x.shape[0], 28 * 28, 1)\n",
        "    x = x.astype(\"float32\") / 255\n",
        "    # encode output which is a number in range [0,9] into a vector of size 10\n",
        "    # e.g. number 3 will become [0, 0, 0, 1, 0, 0, 0, 0, 0, 0]\n",
        "    y = np_utils.to_categorical(y)\n",
        "    y = y.reshape(y.shape[0], 10, 1)\n",
        "    return x[:limit], y[:limit]"
      ],
      "metadata": {
        "id": "oVQI0CQLsO5_"
      },
      "execution_count": 22,
      "outputs": []
    },
    {
      "cell_type": "code",
      "source": [
        "x_train, y_train = preprocess_data(x_train, y_train, total_examples_train)\n",
        "x_test, y_test = preprocess_data(x_test, y_test, total_examples_test)"
      ],
      "metadata": {
        "id": "DOrqrXJTZ_E5"
      },
      "execution_count": 23,
      "outputs": []
    },
    {
      "cell_type": "markdown",
      "source": [
        "##### Neural Network"
      ],
      "metadata": {
        "id": "ELbAsarTmmt3"
      }
    },
    {
      "cell_type": "code",
      "source": [
        "network = [\n",
        "    Dense(input_size = 28 * 28, \n",
        "          output_size = 40),\n",
        "    Activation(activation = tanh, \n",
        "               activation_prime = tanh_prime),\n",
        "    Dense(input_size = 40, \n",
        "          output_size = 10),\n",
        "    Activation(activation = tanh,\n",
        "               activation_prime = tanh_prime),\n",
        "]"
      ],
      "metadata": {
        "id": "eZP9rM_991Wp"
      },
      "execution_count": 24,
      "outputs": []
    },
    {
      "cell_type": "markdown",
      "source": [
        "##### Training"
      ],
      "metadata": {
        "id": "hn7CSFqEDCks"
      }
    },
    {
      "cell_type": "code",
      "source": [
        "%%time\n",
        "\n",
        "train(network, \n",
        "      loss = mse, \n",
        "      loss_prime = mse_prime, \n",
        "      x_train = x_train, \n",
        "      y_train = y_train, \n",
        "      epochs = 100, \n",
        "      learning_rate = 0.1)\n",
        "      # learning_rate = 0.1,\n",
        "      # batch_size = 10)"
      ],
      "metadata": {
        "colab": {
          "base_uri": "https://localhost:8080/"
        },
        "id": "dwrW39Iv91ZN",
        "outputId": "392f2090-1228-4b9b-f9c9-9047b5e796a1"
      },
      "execution_count": 25,
      "outputs": [
        {
          "output_type": "stream",
          "name": "stdout",
          "text": [
            "0/100, error=0.897\n",
            "CPU times: user 30.6 s, sys: 24.3 s, total: 55 s\n",
            "Wall time: 28.3 s\n"
          ]
        }
      ]
    },
    {
      "cell_type": "markdown",
      "source": [
        "##### Testing"
      ],
      "metadata": {
        "id": "UmC-kT0Gi8q-"
      }
    },
    {
      "cell_type": "code",
      "source": [
        "print( f'len(y_test): {len(y_test)}' )"
      ],
      "metadata": {
        "colab": {
          "base_uri": "https://localhost:8080/"
        },
        "id": "JxWd2D1djQ1V",
        "outputId": "134bb5a0-6e0e-45ed-9555-91517df7e122"
      },
      "execution_count": 26,
      "outputs": [
        {
          "output_type": "stream",
          "name": "stdout",
          "text": [
            "len(y_test): 100\n"
          ]
        }
      ]
    },
    {
      "cell_type": "code",
      "source": [
        "%%time\n",
        "\n",
        "y_predicted = list()\n",
        "y_actual = list()\n",
        "\n",
        "for x, y in zip(x_test, y_test):\n",
        "    output = predict(network, x)\n",
        "\n",
        "    y_predicted.append( np.argmax(output) )\n",
        "    y_actual.append( np.argmax(y) )\n",
        "\n",
        "    print('pred:', np.argmax(output), '\\ttrue:', np.argmax(y))"
      ],
      "metadata": {
        "colab": {
          "base_uri": "https://localhost:8080/"
        },
        "id": "8Y3vA1od91cb",
        "outputId": "87764b10-82ef-4c82-e293-f1bee9afaa0f"
      },
      "execution_count": 27,
      "outputs": [
        {
          "output_type": "stream",
          "name": "stdout",
          "text": [
            "pred: 7 \ttrue: 7\n",
            "pred: 2 \ttrue: 2\n",
            "pred: 1 \ttrue: 1\n",
            "pred: 0 \ttrue: 0\n",
            "pred: 7 \ttrue: 4\n",
            "pred: 1 \ttrue: 1\n",
            "pred: 9 \ttrue: 4\n",
            "pred: 9 \ttrue: 9\n",
            "pred: 7 \ttrue: 5\n",
            "pred: 7 \ttrue: 9\n",
            "pred: 0 \ttrue: 0\n",
            "pred: 7 \ttrue: 6\n",
            "pred: 7 \ttrue: 9\n",
            "pred: 0 \ttrue: 0\n",
            "pred: 1 \ttrue: 1\n",
            "pred: 5 \ttrue: 5\n",
            "pred: 7 \ttrue: 9\n",
            "pred: 7 \ttrue: 7\n",
            "pred: 5 \ttrue: 3\n",
            "pred: 4 \ttrue: 4\n",
            "pred: 9 \ttrue: 9\n",
            "pred: 4 \ttrue: 6\n",
            "pred: 2 \ttrue: 6\n",
            "pred: 4 \ttrue: 5\n",
            "pred: 4 \ttrue: 4\n",
            "pred: 5 \ttrue: 0\n",
            "pred: 9 \ttrue: 7\n",
            "pred: 4 \ttrue: 4\n",
            "pred: 0 \ttrue: 0\n",
            "pred: 1 \ttrue: 1\n",
            "pred: 5 \ttrue: 3\n",
            "pred: 2 \ttrue: 1\n",
            "pred: 5 \ttrue: 3\n",
            "pred: 2 \ttrue: 4\n",
            "pred: 7 \ttrue: 7\n",
            "pred: 7 \ttrue: 2\n",
            "pred: 7 \ttrue: 7\n",
            "pred: 1 \ttrue: 1\n",
            "pred: 2 \ttrue: 2\n",
            "pred: 1 \ttrue: 1\n",
            "pred: 1 \ttrue: 1\n",
            "pred: 7 \ttrue: 7\n",
            "pred: 7 \ttrue: 4\n",
            "pred: 1 \ttrue: 2\n",
            "pred: 3 \ttrue: 3\n",
            "pred: 5 \ttrue: 5\n",
            "pred: 3 \ttrue: 1\n",
            "pred: 7 \ttrue: 2\n",
            "pred: 7 \ttrue: 4\n",
            "pred: 4 \ttrue: 4\n",
            "pred: 6 \ttrue: 6\n",
            "pred: 7 \ttrue: 3\n",
            "pred: 9 \ttrue: 5\n",
            "pred: 5 \ttrue: 5\n",
            "pred: 2 \ttrue: 6\n",
            "pred: 0 \ttrue: 0\n",
            "pred: 4 \ttrue: 4\n",
            "pred: 1 \ttrue: 1\n",
            "pred: 7 \ttrue: 9\n",
            "pred: 3 \ttrue: 5\n",
            "pred: 7 \ttrue: 7\n",
            "pred: 8 \ttrue: 8\n",
            "pred: 7 \ttrue: 9\n",
            "pred: 7 \ttrue: 3\n",
            "pred: 7 \ttrue: 7\n",
            "pred: 9 \ttrue: 4\n",
            "pred: 7 \ttrue: 6\n",
            "pred: 7 \ttrue: 4\n",
            "pred: 3 \ttrue: 3\n",
            "pred: 0 \ttrue: 0\n",
            "pred: 7 \ttrue: 7\n",
            "pred: 0 \ttrue: 0\n",
            "pred: 3 \ttrue: 2\n",
            "pred: 7 \ttrue: 9\n",
            "pred: 1 \ttrue: 1\n",
            "pred: 7 \ttrue: 7\n",
            "pred: 3 \ttrue: 3\n",
            "pred: 2 \ttrue: 2\n",
            "pred: 9 \ttrue: 9\n",
            "pred: 7 \ttrue: 7\n",
            "pred: 9 \ttrue: 7\n",
            "pred: 6 \ttrue: 6\n",
            "pred: 2 \ttrue: 2\n",
            "pred: 7 \ttrue: 7\n",
            "pred: 7 \ttrue: 8\n",
            "pred: 7 \ttrue: 4\n",
            "pred: 7 \ttrue: 7\n",
            "pred: 5 \ttrue: 3\n",
            "pred: 7 \ttrue: 6\n",
            "pred: 1 \ttrue: 1\n",
            "pred: 3 \ttrue: 3\n",
            "pred: 6 \ttrue: 6\n",
            "pred: 9 \ttrue: 9\n",
            "pred: 3 \ttrue: 3\n",
            "pred: 1 \ttrue: 1\n",
            "pred: 4 \ttrue: 4\n",
            "pred: 9 \ttrue: 1\n",
            "pred: 7 \ttrue: 7\n",
            "pred: 6 \ttrue: 6\n",
            "pred: 7 \ttrue: 9\n",
            "CPU times: user 43.4 ms, sys: 31.2 ms, total: 74.6 ms\n",
            "Wall time: 42.1 ms\n"
          ]
        }
      ]
    },
    {
      "cell_type": "markdown",
      "source": [
        "###### Confusion Matrix"
      ],
      "metadata": {
        "id": "nyoSYVo-_psT"
      }
    },
    {
      "cell_type": "code",
      "source": [
        "confusion_matrix = metrics.confusion_matrix(y_actual, y_predicted)\n",
        "# print(confusion_matrix)"
      ],
      "metadata": {
        "id": "FY6ZVW4491ez"
      },
      "execution_count": 28,
      "outputs": []
    },
    {
      "cell_type": "code",
      "source": [
        "# based on https://www.statology.org/confusion-matrix-python/\n",
        "\n",
        "y_actual = pd.Series(y_actual, name='Actual')\n",
        "y_predicted = pd.Series(y_predicted, name='Predicted')\n",
        "\n",
        "#create confusion matrix\n",
        "print(pd.crosstab(y_actual, y_predicted))"
      ],
      "metadata": {
        "colab": {
          "base_uri": "https://localhost:8080/"
        },
        "id": "4aFbP0Ei91p3",
        "outputId": "0fe39bb8-ec74-417d-9780-5eab4ec68920"
      },
      "execution_count": 29,
      "outputs": [
        {
          "output_type": "stream",
          "name": "stdout",
          "text": [
            "Predicted  0   1  2  3  4  5  6   7  8  9\n",
            "Actual                                   \n",
            "0          7   0  0  0  0  1  0   0  0  0\n",
            "1          0  11  1  1  0  0  0   0  0  1\n",
            "2          0   1  4  1  0  0  0   2  0  0\n",
            "3          0   0  0  5  0  4  0   2  0  0\n",
            "4          0   0  1  0  6  0  0   5  0  2\n",
            "5          0   0  0  1  1  3  0   1  0  1\n",
            "6          0   0  2  0  1  0  4   3  0  0\n",
            "7          0   0  0  0  0  0  0  13  0  2\n",
            "8          0   0  0  0  0  0  0   1  1  0\n",
            "9          0   0  0  0  0  0  0   7  0  4\n"
          ]
        }
      ]
    },
    {
      "cell_type": "code",
      "source": [
        "# based on https://www.w3schools.com/python/python_ml_confusion_matrix.asp\n",
        "\n",
        "cm_display = metrics.ConfusionMatrixDisplay(\n",
        "    confusion_matrix = confusion_matrix, \n",
        "    display_labels = [0, 1, 2, 3, 4, 5, 6, 7, 8, 9])\n",
        "cm_display.plot()\n",
        "plt.show()"
      ],
      "metadata": {
        "colab": {
          "base_uri": "https://localhost:8080/",
          "height": 279
        },
        "id": "M3KMCNp291is",
        "outputId": "30cf35b6-a527-4d2b-bd46-235bc131b259"
      },
      "execution_count": 30,
      "outputs": [
        {
          "output_type": "display_data",
          "data": {
            "text/plain": [
              "<Figure size 432x288 with 2 Axes>"
            ],
            "image/png": "[encoded data removed]"
          },
          "metadata": {
            "needs_background": "light"
          }
        }
      ]
    },
    {
      "cell_type": "code",
      "source": [
        "y_err = y_predicted[ y_predicted != y_actual ]\n",
        "y_err[:20]"
      ],
      "metadata": {
        "colab": {
          "base_uri": "https://localhost:8080/"
        },
        "id": "G4dPZmYhVSNo",
        "outputId": "f150a946-3a75-491a-b71f-b21e74ef435c"
      },
      "execution_count": 31,
      "outputs": [
        {
          "output_type": "execute_result",
          "data": {
            "text/plain": [
              "4     7\n",
              "6     9\n",
              "8     7\n",
              "9     7\n",
              "11    7\n",
              "12    7\n",
              "16    7\n",
              "18    5\n",
              "21    4\n",
              "22    2\n",
              "23    4\n",
              "25    5\n",
              "26    9\n",
              "30    5\n",
              "31    2\n",
              "32    5\n",
              "33    2\n",
              "35    7\n",
              "42    7\n",
              "43    1\n",
              "Name: Predicted, dtype: int64"
            ]
          },
          "metadata": {},
          "execution_count": 31
        }
      ]
    },
    {
      "cell_type": "markdown",
      "source": [
        "#### Error Rate\n",
        "\n",
        "\"o valor da taxa de erro (calculada como o número de todas as previsões incorretas dividido pelo número total do conjunto de dados. A melhor taxa de erro é 0, enquanto a pior é 1.)\""
      ],
      "metadata": {
        "id": "cc8H-HcXYpuG"
      }
    },
    {
      "cell_type": "code",
      "source": [
        "error_rate = len(y_err) / total_examples_test\n",
        "print( f'error_rate: {error_rate:.3}' )"
      ],
      "metadata": {
        "colab": {
          "base_uri": "https://localhost:8080/"
        },
        "id": "znrDYWkRYugM",
        "outputId": "36219fba-02de-48a1-8909-698fdde52246"
      },
      "execution_count": 32,
      "outputs": [
        {
          "output_type": "stream",
          "name": "stdout",
          "text": [
            "error_rate: 0.42\n"
          ]
        }
      ]
    },
    {
      "cell_type": "code",
      "source": [
        "error_rate_percentage = len(y_err) / total_examples_test * 100\n",
        "print( f'error_rate_percentage: {error_rate_percentage:.3}%' )"
      ],
      "metadata": {
        "colab": {
          "base_uri": "https://localhost:8080/"
        },
        "id": "4GdIEPBFVwVe",
        "outputId": "6b4f0c3e-701e-4e40-e59a-07abaf93af29"
      },
      "execution_count": 33,
      "outputs": [
        {
          "output_type": "stream",
          "name": "stdout",
          "text": [
            "error_rate_percentage: 42.0%\n"
          ]
        }
      ]
    }
  ]
}