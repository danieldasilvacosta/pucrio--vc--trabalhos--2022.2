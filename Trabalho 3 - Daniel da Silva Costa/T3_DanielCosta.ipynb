{
  "nbformat": 4,
  "nbformat_minor": 0,
  "metadata": {
    "colab": {
      "provenance": [],
      "collapsed_sections": [],
      "toc_visible": true
    },
    "kernelspec": {
      "name": "python3",
      "display_name": "Python 3"
    },
    "language_info": {
      "name": "python"
    }
  },
  "cells": [
    {
      "cell_type": "markdown",
      "source": [
        "# Trabalho 3\n",
        "Descrição do trabalho:\n",
        "\n",
        "http://webserver2.tecgraf.puc-rio.br/~mgattass/visao/trb/T3.html\n",
        "\n",
        "Aluno: Daniel da Silva Costa\n",
        "\n",
        "E-mail: danieldasilvacosta@gmail.com"
      ],
      "metadata": {
        "id": "yRPDSJgl5066"
      }
    },
    {
      "cell_type": "markdown",
      "source": [
        "### Imports"
      ],
      "metadata": {
        "id": "kXpKGbGz8FJ7"
      }
    },
    {
      "cell_type": "code",
      "source": [
        "import numpy as np\n",
        "import matplotlib.pyplot as plt\n",
        "from matplotlib import pyplot\n",
        "from mpl_toolkits.mplot3d import Axes3D\n",
        "import time\n",
        "from keras.datasets import mnist\n",
        "from keras.utils import np_utils\n",
        "from sklearn import metrics\n",
        "import pandas as pd"
      ],
      "metadata": {
        "id": "O9jx1Ztl8ID7"
      },
      "execution_count": 1,
      "outputs": []
    },
    {
      "cell_type": "markdown",
      "source": [
        "### Using the Numpy"
      ],
      "metadata": {
        "id": "8JHDwTgFsMeT"
      }
    },
    {
      "cell_type": "markdown",
      "source": [
        "#### Loss Functions"
      ],
      "metadata": {
        "id": "m71Mxp2ivWRp"
      }
    },
    {
      "cell_type": "code",
      "source": [
        "def mse(y_true, y_pred):\n",
        "    return np.mean(np.power(y_true - y_pred, 2))\n",
        "\n",
        "def mse_prime(y_true, y_pred):\n",
        "    return 2 * (y_pred - y_true) / np.size(y_true)\n",
        "\n",
        "def binary_cross_entropy(y_true, y_pred):\n",
        "    return np.mean(-y_true * np.log(y_pred) - (1 - y_true) * np.log(1 - y_pred))\n",
        "\n",
        "def binary_cross_entropy_prime(y_true, y_pred):\n",
        "    return ((1 - y_true) / (1 - y_pred) - y_true / y_pred) / np.size(y_true)"
      ],
      "metadata": {
        "id": "ZCJ9iEfmtGmV"
      },
      "execution_count": 2,
      "outputs": []
    },
    {
      "cell_type": "markdown",
      "source": [
        "#### Activation Functions"
      ],
      "metadata": {
        "id": "A1YmoLev8onL"
      }
    },
    {
      "cell_type": "code",
      "source": [
        "def tanh(x):\n",
        "  return np.tanh(x)\n",
        "\n",
        "def tanh_prime(x):\n",
        "  return 1 - np.tanh(x) ** 2"
      ],
      "metadata": {
        "id": "KRJwZb3LzaD0"
      },
      "execution_count": 3,
      "outputs": []
    },
    {
      "cell_type": "code",
      "source": [
        "def sigmoid(x):\n",
        "  return 1/(1+np.exp(-x))\n",
        "\n",
        "def sigmoid_prime(x):\n",
        "  s = 1/(1+np.exp(-x))\n",
        "  ds = s*(1-s)\n",
        "  return ds"
      ],
      "metadata": {
        "id": "LH-43l1N6SoO"
      },
      "execution_count": 4,
      "outputs": []
    },
    {
      "cell_type": "code",
      "source": [
        "def relu(x):\n",
        "  return np.maximum(0,x)\n",
        "\n",
        "def relu_prime(x):\n",
        "  return (x>0).astype(x.dtype)"
      ],
      "metadata": {
        "id": "Dg0ucoe06SoO"
      },
      "execution_count": 5,
      "outputs": []
    },
    {
      "cell_type": "markdown",
      "source": [
        "#### class Layer"
      ],
      "metadata": {
        "id": "_6sFXydFvYuF"
      }
    },
    {
      "cell_type": "code",
      "source": [
        "class Layer:\n",
        "    def __init__(self):\n",
        "        self.input = None\n",
        "        self.output = None\n",
        "\n",
        "    def forward(self, input):\n",
        "        # TODO: return output\n",
        "        pass\n",
        "\n",
        "    def backward(self, output_gradient, learning_rate):\n",
        "        # TODO: update parameters and return input gradient\n",
        "        pass"
      ],
      "metadata": {
        "id": "q9tc-xPLtCyd"
      },
      "execution_count": 6,
      "outputs": []
    },
    {
      "cell_type": "markdown",
      "source": [
        "#### class Activation(Layer)"
      ],
      "metadata": {
        "id": "j1apvwBWvcs5"
      }
    },
    {
      "cell_type": "code",
      "source": [
        "class Activation(Layer):\n",
        "    def __init__(self, activation, activation_prime):\n",
        "        self.activation = activation\n",
        "        self.activation_prime = activation_prime\n",
        "\n",
        "    def forward(self, input):\n",
        "        self.input = input\n",
        "        return self.activation(self.input)\n",
        "\n",
        "    def backward(self, output_gradient, learning_rate):\n",
        "        return np.multiply(output_gradient, self.activation_prime(self.input))"
      ],
      "metadata": {
        "id": "l1pBLTS1t-hV"
      },
      "execution_count": 7,
      "outputs": []
    },
    {
      "cell_type": "markdown",
      "source": [
        "#### class Dense(Layer)"
      ],
      "metadata": {
        "id": "E7ekyuq5vhIb"
      }
    },
    {
      "cell_type": "code",
      "source": [
        "class Dense(Layer):\n",
        "    def __init__(self, input_size, output_size):\n",
        "        self.weights = np.random.randn(output_size, input_size)\n",
        "        self.bias = np.random.randn(output_size, 1)\n",
        "\n",
        "    def forward(self, input):\n",
        "        self.input = input\n",
        "        self.output = np.dot(self.weights, self.input) + self.bias\n",
        "        return self.output\n",
        "\n",
        "    def backward(self, output_gradient, learning_rate):\n",
        "        input_gradient = np.dot(self.weights.T, output_gradient)\n",
        "        # print( f'output_gradient.shape: {output_gradient.shape}' )\n",
        "        weights_gradients = np.dot(output_gradient, self.input.T)\n",
        "        bias_gradients = np.sum(output_gradient, axis=0).reshape((1, -1))\n",
        "\n",
        "        # update parameters\n",
        "        # print( f'learning_rate: {learning_rate}' )\n",
        "        # print( f'weights_gradients.shape: {weights_gradients.shape}' )\n",
        "        self.weights -= learning_rate * weights_gradients\n",
        "        self.bias -= learning_rate * bias_gradients\n",
        "        return input_gradient "
      ],
      "metadata": {
        "id": "jnwqfgZ1sOug"
      },
      "execution_count": 8,
      "outputs": []
    },
    {
      "cell_type": "markdown",
      "source": [
        "#### function predict()"
      ],
      "metadata": {
        "id": "d3u673AxvoRy"
      }
    },
    {
      "cell_type": "code",
      "source": [
        "def predict(network, input):\n",
        "    output = input\n",
        "    for layer in network:\n",
        "        output = layer.forward(output)\n",
        "    return output"
      ],
      "metadata": {
        "id": "FwUcSfQ8sO0S"
      },
      "execution_count": 9,
      "outputs": []
    },
    {
      "cell_type": "markdown",
      "source": [
        "#### function train()"
      ],
      "metadata": {
        "id": "1ed25mo3vkfg"
      }
    },
    {
      "cell_type": "code",
      "source": [
        "def train(network, loss, loss_prime, x_train, y_train, epochs = 1000, learning_rate = 0.01, batch_size = -1, verbose = True):\n",
        "\n",
        "    if batch_size > -1: # training using batches\n",
        "\n",
        "        n_samples = len(x_train)\n",
        "        n_batches = n_samples//batch_size\n",
        "\n",
        "        batch_list_x = list()\n",
        "        batch_list_y = list()\n",
        "        for k in range(n_batches):\n",
        "\n",
        "              ini = k * batch_size\n",
        "              end = (k + 1) * batch_size\n",
        "              batch_x = x_train[ini:end]\n",
        "              batch_y = y_train[ini:end]\n",
        "              batch_list_x.append( batch_x )\n",
        "              batch_list_y.append( batch_y )\n",
        "\n",
        "        if (n_batches * batch_size < len(x_train)):\n",
        "\n",
        "              batch_x = x_train[ n_batches * batch_size: ]\n",
        "              batch_y = y_train[ n_batches * batch_size: ]\n",
        "              batch_list_x.append( batch_x )\n",
        "              batch_list_y.append( batch_y )\n",
        "\n",
        "        inner_verbose = False\n",
        "        for e in range(epochs):\n",
        "\n",
        "            if(inner_verbose):\n",
        "                print( '========================================' )\n",
        "                print( f'epoch number: {e}' )\n",
        "\n",
        "            epoch_error = 0\n",
        "            if inner_verbose:\n",
        "                batch_index = 0\n",
        "            # for key, batch_x in enumerate(batch_list_x):\n",
        "            for batch_x, batch_y in zip(batch_list_x, batch_list_y):\n",
        "\n",
        "                if inner_verbose:\n",
        "                    print( '-------------------------------------' )\n",
        "                    print( f'batch index: {batch_index}' )\n",
        "\n",
        "                y_pred_list = list()\n",
        "                for key, x in enumerate(batch_x):\n",
        "\n",
        "                    # forward\n",
        "                    y_pred = predict(network, x)\n",
        "                    # print( f'y_pred: {y_pred}' )\n",
        "\n",
        "                    y_pred_list.append( y_pred )\n",
        "\n",
        "                batch_error = loss(batch_y, y_pred_list)\n",
        "                if inner_verbose:\n",
        "                    print( f'batch_error: {batch_error}' )\n",
        "\n",
        "                epoch_error += batch_error\n",
        "\n",
        "                # backward\n",
        "                grad = loss_prime(batch_y, y_pred_list) # b, n\n",
        "                # print( f'grad.shape: {grad.shape}' )\n",
        "                # print( f'grad[0]: {grad[0]}' )\n",
        "                # print( f'grad[0][0]: {grad[0][0]}' )\n",
        "                # print( f'grad[1][0]: {grad[1][0]}' )\n",
        "                # print( f'grad[2][0]: {grad[2][0]}' )\n",
        "\n",
        "                grad = np.sum(grad, axis=0)\n",
        "                grad /= len(batch_y)\n",
        "                # print( f'grad.shape: {grad.shape}' )\n",
        "                # print( f'grad[0]: {grad[0]}' )\n",
        "\n",
        "                for layer in reversed(network):\n",
        "                    grad = layer.backward(grad, learning_rate)\n",
        "\n",
        "                if inner_verbose:\n",
        "                    batch_index += 1\n",
        "\n",
        "            epoch_error /= len(batch_list_x)\n",
        "            if inner_verbose:\n",
        "                # print( f'epoch_error /= len(batch_list_x): {epoch_error}' )\n",
        "                print()\n",
        "                print( f'epoch_error: {epoch_error}' )\n",
        "\n",
        "            if verbose:\n",
        "                if e % 100 == 0:\n",
        "                    print(f\"{e}/{epochs}, epoch_error={epoch_error:.15}\")\n",
        "\n",
        "    else: # training item by item (stochastic)\n",
        "\n",
        "        for e in range(epochs):\n",
        "            error = 0\n",
        "            for x, y in zip(x_train, y_train):\n",
        "                # forward\n",
        "                y_pred = predict(network, x)\n",
        "\n",
        "                # error\n",
        "                error += loss(y, y_pred)\n",
        "\n",
        "                # backward\n",
        "                grad = loss_prime(y, y_pred)\n",
        "                for layer in reversed(network):\n",
        "                    grad = layer.backward(grad, learning_rate)\n",
        "\n",
        "            error /= len(x_train)\n",
        "\n",
        "            if verbose:\n",
        "                if e % 100 == 0:\n",
        "                    print(f\"{e}/{epochs}, error={error:.3}\")"
      ],
      "metadata": {
        "id": "sNFNobT_Mml0"
      },
      "execution_count": 10,
      "outputs": []
    },
    {
      "cell_type": "markdown",
      "source": [
        "#### Example: XOR"
      ],
      "metadata": {
        "id": "VBi2gzj2tqRp"
      }
    },
    {
      "cell_type": "code",
      "source": [
        "X = np.reshape([[0, 0], [0, 1], [1, 0], [1, 1]], (4, 2, 1))\n",
        "Y = np.reshape([[0], [1], [1], [0]], (4, 1, 1))"
      ],
      "metadata": {
        "id": "tBaIStgfsO8m"
      },
      "execution_count": 11,
      "outputs": []
    },
    {
      "cell_type": "markdown",
      "source": [
        "##### Neural Network"
      ],
      "metadata": {
        "id": "kLSQOyZqmelh"
      }
    },
    {
      "cell_type": "code",
      "source": [
        "network = [\n",
        "    Dense(input_size = 2, \n",
        "          output_size = 3),\n",
        "    Activation(activation = tanh, \n",
        "               activation_prime = tanh_prime),\n",
        "    Dense(input_size = 3, \n",
        "          output_size = 1),\n",
        "    Activation(activation = tanh,\n",
        "               activation_prime = tanh_prime),\n",
        "]"
      ],
      "metadata": {
        "id": "8S2ye1Wsmf7n"
      },
      "execution_count": 12,
      "outputs": []
    },
    {
      "cell_type": "markdown",
      "source": [
        "##### Training"
      ],
      "metadata": {
        "id": "8cKQ8Fhbhq1H"
      }
    },
    {
      "cell_type": "code",
      "source": [
        "%%time\n",
        "\n",
        "train(network, \n",
        "      loss = mse, \n",
        "      loss_prime = mse_prime, \n",
        "      x_train = X, \n",
        "      y_train = Y, \n",
        "      epochs = 10000, \n",
        "      learning_rate = 0.1)"
      ],
      "metadata": {
        "id": "hI5yLJhGhsqN",
        "colab": {
          "base_uri": "https://localhost:8080/"
        },
        "outputId": "df3322cf-3ef3-407b-aac1-f3b82317b79b"
      },
      "execution_count": 13,
      "outputs": [
        {
          "output_type": "stream",
          "name": "stdout",
          "text": [
            "0/10000, error=1.46\n",
            "100/10000, error=0.0178\n",
            "200/10000, error=0.102\n",
            "300/10000, error=0.0576\n",
            "400/10000, error=0.0396\n",
            "500/10000, error=0.0278\n",
            "600/10000, error=0.02\n",
            "700/10000, error=0.0148\n",
            "800/10000, error=0.0113\n",
            "900/10000, error=0.00898\n",
            "1000/10000, error=0.00729\n",
            "1100/10000, error=0.00607\n",
            "1200/10000, error=0.00514\n",
            "1300/10000, error=0.00443\n",
            "1400/10000, error=0.00387\n",
            "1500/10000, error=0.00342\n",
            "1600/10000, error=0.00305\n",
            "1700/10000, error=0.00275\n",
            "1800/10000, error=0.00249\n",
            "1900/10000, error=0.00227\n",
            "2000/10000, error=0.00209\n",
            "2100/10000, error=0.00193\n",
            "2200/10000, error=0.00179\n",
            "2300/10000, error=0.00167\n",
            "2400/10000, error=0.00156\n",
            "2500/10000, error=0.00146\n",
            "2600/10000, error=0.00137\n",
            "2700/10000, error=0.0013\n",
            "2800/10000, error=0.00123\n",
            "2900/10000, error=0.00116\n",
            "3000/10000, error=0.0011\n",
            "3100/10000, error=0.00105\n",
            "3200/10000, error=0.001\n",
            "3300/10000, error=0.000959\n",
            "3400/10000, error=0.000918\n",
            "3500/10000, error=0.00088\n",
            "3600/10000, error=0.000844\n",
            "3700/10000, error=0.000812\n",
            "3800/10000, error=0.000781\n",
            "3900/10000, error=0.000753\n",
            "4000/10000, error=0.000726\n",
            "4100/10000, error=0.000701\n",
            "4200/10000, error=0.000678\n",
            "4300/10000, error=0.000656\n",
            "4400/10000, error=0.000635\n",
            "4500/10000, error=0.000615\n",
            "4600/10000, error=0.000597\n",
            "4700/10000, error=0.000579\n",
            "4800/10000, error=0.000563\n",
            "4900/10000, error=0.000547\n",
            "5000/10000, error=0.000532\n",
            "5100/10000, error=0.000518\n",
            "5200/10000, error=0.000504\n",
            "5300/10000, error=0.000491\n",
            "5400/10000, error=0.000479\n",
            "5500/10000, error=0.000467\n",
            "5600/10000, error=0.000456\n",
            "5700/10000, error=0.000445\n",
            "5800/10000, error=0.000435\n",
            "5900/10000, error=0.000425\n",
            "6000/10000, error=0.000416\n",
            "6100/10000, error=0.000407\n",
            "6200/10000, error=0.000398\n",
            "6300/10000, error=0.00039\n",
            "6400/10000, error=0.000382\n",
            "6500/10000, error=0.000374\n",
            "6600/10000, error=0.000367\n",
            "6700/10000, error=0.000359\n",
            "6800/10000, error=0.000352\n",
            "6900/10000, error=0.000346\n",
            "7000/10000, error=0.000339\n",
            "7100/10000, error=0.000333\n",
            "7200/10000, error=0.000327\n",
            "7300/10000, error=0.000321\n",
            "7400/10000, error=0.000316\n",
            "7500/10000, error=0.00031\n",
            "7600/10000, error=0.000305\n",
            "7700/10000, error=0.0003\n",
            "7800/10000, error=0.000295\n",
            "7900/10000, error=0.00029\n",
            "8000/10000, error=0.000285\n",
            "8100/10000, error=0.000281\n",
            "8200/10000, error=0.000276\n",
            "8300/10000, error=0.000272\n",
            "8400/10000, error=0.000268\n",
            "8500/10000, error=0.000264\n",
            "8600/10000, error=0.00026\n",
            "8700/10000, error=0.000256\n",
            "8800/10000, error=0.000253\n",
            "8900/10000, error=0.000249\n",
            "9000/10000, error=0.000246\n",
            "9100/10000, error=0.000242\n",
            "9200/10000, error=0.000239\n",
            "9300/10000, error=0.000236\n",
            "9400/10000, error=0.000232\n",
            "9500/10000, error=0.000229\n",
            "9600/10000, error=0.000226\n",
            "9700/10000, error=0.000223\n",
            "9800/10000, error=0.00022\n",
            "9900/10000, error=0.000218\n",
            "CPU times: user 4.41 s, sys: 35.5 ms, total: 4.44 s\n",
            "Wall time: 5.79 s\n"
          ]
        }
      ]
    },
    {
      "cell_type": "code",
      "source": [
        "# decision boundary plot\n",
        "points = []\n",
        "for x in np.linspace(0, 1, 20):\n",
        "    for y in np.linspace(0, 1, 20):\n",
        "        z = predict(network, [[x], [y]])\n",
        "        points.append([x, y, z[0,0]])\n",
        "\n",
        "points = np.array(points)\n",
        "\n",
        "fig = plt.figure()\n",
        "ax = fig.add_subplot(111, projection=\"3d\")\n",
        "ax.scatter(points[:, 0], points[:, 1], points[:, 2], c=points[:, 2], cmap=\"winter\")\n",
        "plt.show()"
      ],
      "metadata": {
        "id": "ENzQRzmRsO3M",
        "colab": {
          "base_uri": "https://localhost:8080/",
          "height": 248
        },
        "outputId": "120671a0-caec-41e4-c7ee-0af0ca01f5ff"
      },
      "execution_count": 14,
      "outputs": [
        {
          "output_type": "display_data",
          "data": {
            "text/plain": [
              "<Figure size 432x288 with 1 Axes>"
            ],
            "image/png": "[encoded data removed]"
          },
          "metadata": {
            "needs_background": "light"
          }
        }
      ]
    },
    {
      "cell_type": "markdown",
      "source": [
        "#### Example: MNIST"
      ],
      "metadata": {
        "id": "_OSZUaHL9zUh"
      }
    },
    {
      "cell_type": "code",
      "source": [
        "# load MNIST from server\n",
        "(x_train, y_train), (x_test, y_test) = mnist.load_data()"
      ],
      "metadata": {
        "id": "HMMN7BtI91TX"
      },
      "execution_count": 15,
      "outputs": []
    },
    {
      "cell_type": "markdown",
      "source": [
        "##### Loading the data"
      ],
      "metadata": {
        "id": "I_9PSGOkkX6h"
      }
    },
    {
      "cell_type": "code",
      "source": [
        "total_examples_train = 1000"
      ],
      "metadata": {
        "id": "L5Gcoq1nkYBS"
      },
      "execution_count": 16,
      "outputs": []
    },
    {
      "cell_type": "code",
      "source": [
        "total_examples_test = total_examples_train * .1\n",
        "total_examples_test = int(total_examples_test)"
      ],
      "metadata": {
        "id": "P8zCarNEV-Wj"
      },
      "execution_count": 17,
      "outputs": []
    },
    {
      "cell_type": "code",
      "source": [
        "x_train[0].shape"
      ],
      "metadata": {
        "colab": {
          "base_uri": "https://localhost:8080/"
        },
        "id": "fwcWHKKgYBtK",
        "outputId": "5ec87fac-26d3-4aa6-adb4-6b8896243406"
      },
      "execution_count": 18,
      "outputs": [
        {
          "output_type": "execute_result",
          "data": {
            "text/plain": [
              "(28, 28)"
            ]
          },
          "metadata": {},
          "execution_count": 18
        }
      ]
    },
    {
      "cell_type": "code",
      "source": [
        "fig, axes = plt.subplots( 1, 1, figsize=( 10, 5 ) )\n",
        "\n",
        "axes.set_title( f'Label: {y_train[0]}' )\n",
        "axes.imshow( x_train[0], cmap='gray' )\n",
        "\n",
        "plt.show()"
      ],
      "metadata": {
        "colab": {
          "base_uri": "https://localhost:8080/",
          "height": 336
        },
        "id": "Xd7qKexIkyR4",
        "outputId": "36ffdf55-95d6-4d90-b376-ec994ba274f5"
      },
      "execution_count": 19,
      "outputs": [
        {
          "output_type": "display_data",
          "data": {
            "text/plain": [
              "<Figure size 720x360 with 1 Axes>"
            ],
            "image/png": "[encoded data removed]"
          },
          "metadata": {
            "needs_background": "light"
          }
        }
      ]
    },
    {
      "cell_type": "code",
      "source": [
        "x_train[0]"
      ],
      "metadata": {
        "colab": {
          "base_uri": "https://localhost:8080/"
        },
        "id": "tjLOjGg9TENH",
        "outputId": "bedd75c9-0b3f-416c-e690-65ccee9bbf43"
      },
      "execution_count": 20,
      "outputs": [
        {
          "output_type": "execute_result",
          "data": {
            "text/plain": [
              "array([[  0,   0,   0,   0,   0,   0,   0,   0,   0,   0,   0,   0,   0,\n",
              "          0,   0,   0,   0,   0,   0,   0,   0,   0,   0,   0,   0,   0,\n",
              "          0,   0],\n",
              "       [  0,   0,   0,   0,   0,   0,   0,   0,   0,   0,   0,   0,   0,\n",
              "          0,   0,   0,   0,   0,   0,   0,   0,   0,   0,   0,   0,   0,\n",
              "          0,   0],\n",
              "       [  0,   0,   0,   0,   0,   0,   0,   0,   0,   0,   0,   0,   0,\n",
              "          0,   0,   0,   0,   0,   0,   0,   0,   0,   0,   0,   0,   0,\n",
              "          0,   0],\n",
              "       [  0,   0,   0,   0,   0,   0,   0,   0,   0,   0,   0,   0,   0,\n",
              "          0,   0,   0,   0,   0,   0,   0,   0,   0,   0,   0,   0,   0,\n",
              "          0,   0],\n",
              "       [  0,   0,   0,   0,   0,   0,   0,   0,   0,   0,   0,   0,   0,\n",
              "          0,   0,   0,   0,   0,   0,   0,   0,   0,   0,   0,   0,   0,\n",
              "          0,   0],\n",
              "       [  0,   0,   0,   0,   0,   0,   0,   0,   0,   0,   0,   0,   3,\n",
              "         18,  18,  18, 126, 136, 175,  26, 166, 255, 247, 127,   0,   0,\n",
              "          0,   0],\n",
              "       [  0,   0,   0,   0,   0,   0,   0,   0,  30,  36,  94, 154, 170,\n",
              "        253, 253, 253, 253, 253, 225, 172, 253, 242, 195,  64,   0,   0,\n",
              "          0,   0],\n",
              "       [  0,   0,   0,   0,   0,   0,   0,  49, 238, 253, 253, 253, 253,\n",
              "        253, 253, 253, 253, 251,  93,  82,  82,  56,  39,   0,   0,   0,\n",
              "          0,   0],\n",
              "       [  0,   0,   0,   0,   0,   0,   0,  18, 219, 253, 253, 253, 253,\n",
              "        253, 198, 182, 247, 241,   0,   0,   0,   0,   0,   0,   0,   0,\n",
              "          0,   0],\n",
              "       [  0,   0,   0,   0,   0,   0,   0,   0,  80, 156, 107, 253, 253,\n",
              "        205,  11,   0,  43, 154,   0,   0,   0,   0,   0,   0,   0,   0,\n",
              "          0,   0],\n",
              "       [  0,   0,   0,   0,   0,   0,   0,   0,   0,  14,   1, 154, 253,\n",
              "         90,   0,   0,   0,   0,   0,   0,   0,   0,   0,   0,   0,   0,\n",
              "          0,   0],\n",
              "       [  0,   0,   0,   0,   0,   0,   0,   0,   0,   0,   0, 139, 253,\n",
              "        190,   2,   0,   0,   0,   0,   0,   0,   0,   0,   0,   0,   0,\n",
              "          0,   0],\n",
              "       [  0,   0,   0,   0,   0,   0,   0,   0,   0,   0,   0,  11, 190,\n",
              "        253,  70,   0,   0,   0,   0,   0,   0,   0,   0,   0,   0,   0,\n",
              "          0,   0],\n",
              "       [  0,   0,   0,   0,   0,   0,   0,   0,   0,   0,   0,   0,  35,\n",
              "        241, 225, 160, 108,   1,   0,   0,   0,   0,   0,   0,   0,   0,\n",
              "          0,   0],\n",
              "       [  0,   0,   0,   0,   0,   0,   0,   0,   0,   0,   0,   0,   0,\n",
              "         81, 240, 253, 253, 119,  25,   0,   0,   0,   0,   0,   0,   0,\n",
              "          0,   0],\n",
              "       [  0,   0,   0,   0,   0,   0,   0,   0,   0,   0,   0,   0,   0,\n",
              "          0,  45, 186, 253, 253, 150,  27,   0,   0,   0,   0,   0,   0,\n",
              "          0,   0],\n",
              "       [  0,   0,   0,   0,   0,   0,   0,   0,   0,   0,   0,   0,   0,\n",
              "          0,   0,  16,  93, 252, 253, 187,   0,   0,   0,   0,   0,   0,\n",
              "          0,   0],\n",
              "       [  0,   0,   0,   0,   0,   0,   0,   0,   0,   0,   0,   0,   0,\n",
              "          0,   0,   0,   0, 249, 253, 249,  64,   0,   0,   0,   0,   0,\n",
              "          0,   0],\n",
              "       [  0,   0,   0,   0,   0,   0,   0,   0,   0,   0,   0,   0,   0,\n",
              "          0,  46, 130, 183, 253, 253, 207,   2,   0,   0,   0,   0,   0,\n",
              "          0,   0],\n",
              "       [  0,   0,   0,   0,   0,   0,   0,   0,   0,   0,   0,   0,  39,\n",
              "        148, 229, 253, 253, 253, 250, 182,   0,   0,   0,   0,   0,   0,\n",
              "          0,   0],\n",
              "       [  0,   0,   0,   0,   0,   0,   0,   0,   0,   0,  24, 114, 221,\n",
              "        253, 253, 253, 253, 201,  78,   0,   0,   0,   0,   0,   0,   0,\n",
              "          0,   0],\n",
              "       [  0,   0,   0,   0,   0,   0,   0,   0,  23,  66, 213, 253, 253,\n",
              "        253, 253, 198,  81,   2,   0,   0,   0,   0,   0,   0,   0,   0,\n",
              "          0,   0],\n",
              "       [  0,   0,   0,   0,   0,   0,  18, 171, 219, 253, 253, 253, 253,\n",
              "        195,  80,   9,   0,   0,   0,   0,   0,   0,   0,   0,   0,   0,\n",
              "          0,   0],\n",
              "       [  0,   0,   0,   0,  55, 172, 226, 253, 253, 253, 253, 244, 133,\n",
              "         11,   0,   0,   0,   0,   0,   0,   0,   0,   0,   0,   0,   0,\n",
              "          0,   0],\n",
              "       [  0,   0,   0,   0, 136, 253, 253, 253, 212, 135, 132,  16,   0,\n",
              "          0,   0,   0,   0,   0,   0,   0,   0,   0,   0,   0,   0,   0,\n",
              "          0,   0],\n",
              "       [  0,   0,   0,   0,   0,   0,   0,   0,   0,   0,   0,   0,   0,\n",
              "          0,   0,   0,   0,   0,   0,   0,   0,   0,   0,   0,   0,   0,\n",
              "          0,   0],\n",
              "       [  0,   0,   0,   0,   0,   0,   0,   0,   0,   0,   0,   0,   0,\n",
              "          0,   0,   0,   0,   0,   0,   0,   0,   0,   0,   0,   0,   0,\n",
              "          0,   0],\n",
              "       [  0,   0,   0,   0,   0,   0,   0,   0,   0,   0,   0,   0,   0,\n",
              "          0,   0,   0,   0,   0,   0,   0,   0,   0,   0,   0,   0,   0,\n",
              "          0,   0]], dtype=uint8)"
            ]
          },
          "metadata": {},
          "execution_count": 20
        }
      ]
    },
    {
      "cell_type": "markdown",
      "source": [
        "##### Depicting examples"
      ],
      "metadata": {
        "id": "JANAzxfJdJXo"
      }
    },
    {
      "cell_type": "code",
      "source": [
        "rows = 3\n",
        "columns = 7\n",
        "\n",
        "fig, axes = plt.subplots( rows, columns, figsize=( 15, 8 ) )\n",
        "\n",
        "for i in range(rows):\n",
        "  for j in range(columns):\n",
        "    random_number = int(np.random.rand() * total_examples_train)\n",
        "    axes[i][j].set_title( f'Label: {y_train[random_number]}' )\n",
        "    axes[i][j].imshow( x_train[random_number], cmap='gray' )\n",
        "\n",
        "plt.show()"
      ],
      "metadata": {
        "colab": {
          "base_uri": "https://localhost:8080/",
          "height": 473
        },
        "id": "1iytJvAgX36C",
        "outputId": "b8940b88-d9ed-4c80-8b94-700558d0aab1"
      },
      "execution_count": 21,
      "outputs": [
        {
          "output_type": "display_data",
          "data": {
            "text/plain": [
              "<Figure size 1080x576 with 21 Axes>"
            ],
            "image/png": "[encoded data removed]"
          },
          "metadata": {
            "needs_background": "light"
          }
        }
      ]
    },
    {
      "cell_type": "markdown",
      "source": [
        "##### Preprocessing Data"
      ],
      "metadata": {
        "id": "Y-xQOhu3dAdE"
      }
    },
    {
      "cell_type": "code",
      "source": [
        "def preprocess_data(x, y, limit):\n",
        "    # reshape and normalize input data\n",
        "    x = x.reshape(x.shape[0], 28 * 28, 1)\n",
        "    x = x.astype(\"float32\") / 255\n",
        "    # encode output which is a number in range [0,9] into a vector of size 10\n",
        "    # e.g. number 3 will become [0, 0, 0, 1, 0, 0, 0, 0, 0, 0]\n",
        "    y = np_utils.to_categorical(y)\n",
        "    y = y.reshape(y.shape[0], 10, 1)\n",
        "    return x[:limit], y[:limit]"
      ],
      "metadata": {
        "id": "oVQI0CQLsO5_"
      },
      "execution_count": 22,
      "outputs": []
    },
    {
      "cell_type": "code",
      "source": [
        "x_train, y_train = preprocess_data(x_train, y_train, total_examples_train)\n",
        "x_test, y_test = preprocess_data(x_test, y_test, total_examples_test)"
      ],
      "metadata": {
        "id": "DOrqrXJTZ_E5"
      },
      "execution_count": 23,
      "outputs": []
    },
    {
      "cell_type": "markdown",
      "source": [
        "##### Neural Network"
      ],
      "metadata": {
        "id": "ELbAsarTmmt3"
      }
    },
    {
      "cell_type": "code",
      "source": [
        "network = [\n",
        "    Dense(input_size = 28 * 28, \n",
        "          output_size = 40),\n",
        "    Activation(activation = tanh, \n",
        "               activation_prime = tanh_prime),\n",
        "    Dense(input_size = 40, \n",
        "          output_size = 10),\n",
        "    Activation(activation = tanh,\n",
        "               activation_prime = tanh_prime),\n",
        "]"
      ],
      "metadata": {
        "id": "eZP9rM_991Wp"
      },
      "execution_count": 24,
      "outputs": []
    },
    {
      "cell_type": "markdown",
      "source": [
        "##### Training"
      ],
      "metadata": {
        "id": "hn7CSFqEDCks"
      }
    },
    {
      "cell_type": "code",
      "source": [
        "%%time\n",
        "\n",
        "train(network, \n",
        "      loss = mse, \n",
        "      loss_prime = mse_prime, \n",
        "      x_train = x_train, \n",
        "      y_train = y_train, \n",
        "      epochs = 1000, \n",
        "      learning_rate = 0.1)\n",
        "      # epochs = 10000, \n",
        "      # learning_rate = 0.1,\n",
        "      # batch_size = 100)"
      ],
      "metadata": {
        "colab": {
          "base_uri": "https://localhost:8080/"
        },
        "id": "dwrW39Iv91ZN",
        "outputId": "a3c0775d-071a-435c-8982-10f9eb4315d2"
      },
      "execution_count": 25,
      "outputs": [
        {
          "output_type": "stream",
          "name": "stdout",
          "text": [
            "0/1000, error=0.893\n",
            "100/1000, error=0.053\n",
            "200/1000, error=0.0434\n",
            "300/1000, error=0.0387\n",
            "400/1000, error=0.0364\n",
            "500/1000, error=0.0346\n",
            "600/1000, error=0.0331\n",
            "700/1000, error=0.0321\n",
            "800/1000, error=0.0306\n",
            "900/1000, error=0.0298\n",
            "CPU times: user 3min 16s, sys: 2min 18s, total: 5min 34s\n",
            "Wall time: 2min 50s\n"
          ]
        }
      ]
    },
    {
      "cell_type": "markdown",
      "source": [
        "##### Testing"
      ],
      "metadata": {
        "id": "UmC-kT0Gi8q-"
      }
    },
    {
      "cell_type": "code",
      "source": [
        "print( f'len(y_test): {len(y_test)}' )"
      ],
      "metadata": {
        "colab": {
          "base_uri": "https://localhost:8080/"
        },
        "id": "JxWd2D1djQ1V",
        "outputId": "f1596182-8eec-44b5-daab-a39f0595f3af"
      },
      "execution_count": 26,
      "outputs": [
        {
          "output_type": "stream",
          "name": "stdout",
          "text": [
            "len(y_test): 100\n"
          ]
        }
      ]
    },
    {
      "cell_type": "code",
      "source": [
        "%%time\n",
        "\n",
        "y_predicted = list()\n",
        "y_actual = list()\n",
        "\n",
        "for x, y in zip(x_test, y_test):\n",
        "    output = predict(network, x)\n",
        "\n",
        "    y_predicted.append( np.argmax(output) )\n",
        "    y_actual.append( np.argmax(y) )\n",
        "\n",
        "    print('pred:', np.argmax(output), '\\ttrue:', np.argmax(y))"
      ],
      "metadata": {
        "colab": {
          "base_uri": "https://localhost:8080/"
        },
        "id": "8Y3vA1od91cb",
        "outputId": "aa62743b-a672-48e1-d2be-08512e626b85"
      },
      "execution_count": 27,
      "outputs": [
        {
          "output_type": "stream",
          "name": "stdout",
          "text": [
            "pred: 7 \ttrue: 7\n",
            "pred: 2 \ttrue: 2\n",
            "pred: 1 \ttrue: 1\n",
            "pred: 0 \ttrue: 0\n",
            "pred: 4 \ttrue: 4\n",
            "pred: 1 \ttrue: 1\n",
            "pred: 4 \ttrue: 4\n",
            "pred: 0 \ttrue: 9\n",
            "pred: 2 \ttrue: 5\n",
            "pred: 9 \ttrue: 9\n",
            "pred: 0 \ttrue: 0\n",
            "pred: 2 \ttrue: 6\n",
            "pred: 9 \ttrue: 9\n",
            "pred: 0 \ttrue: 0\n",
            "pred: 1 \ttrue: 1\n",
            "pred: 5 \ttrue: 5\n",
            "pred: 3 \ttrue: 9\n",
            "pred: 7 \ttrue: 7\n",
            "pred: 2 \ttrue: 3\n",
            "pred: 4 \ttrue: 4\n",
            "pred: 9 \ttrue: 9\n",
            "pred: 9 \ttrue: 6\n",
            "pred: 6 \ttrue: 6\n",
            "pred: 5 \ttrue: 5\n",
            "pred: 5 \ttrue: 4\n",
            "pred: 0 \ttrue: 0\n",
            "pred: 7 \ttrue: 7\n",
            "pred: 4 \ttrue: 4\n",
            "pred: 0 \ttrue: 0\n",
            "pred: 1 \ttrue: 1\n",
            "pred: 3 \ttrue: 3\n",
            "pred: 1 \ttrue: 1\n",
            "pred: 9 \ttrue: 3\n",
            "pred: 0 \ttrue: 4\n",
            "pred: 7 \ttrue: 7\n",
            "pred: 2 \ttrue: 2\n",
            "pred: 7 \ttrue: 7\n",
            "pred: 1 \ttrue: 1\n",
            "pred: 3 \ttrue: 2\n",
            "pred: 1 \ttrue: 1\n",
            "pred: 1 \ttrue: 1\n",
            "pred: 7 \ttrue: 7\n",
            "pred: 9 \ttrue: 4\n",
            "pred: 3 \ttrue: 2\n",
            "pred: 3 \ttrue: 3\n",
            "pred: 0 \ttrue: 5\n",
            "pred: 9 \ttrue: 1\n",
            "pred: 7 \ttrue: 2\n",
            "pred: 4 \ttrue: 4\n",
            "pred: 4 \ttrue: 4\n",
            "pred: 6 \ttrue: 6\n",
            "pred: 3 \ttrue: 3\n",
            "pred: 5 \ttrue: 5\n",
            "pred: 9 \ttrue: 5\n",
            "pred: 2 \ttrue: 6\n",
            "pred: 0 \ttrue: 0\n",
            "pred: 4 \ttrue: 4\n",
            "pred: 1 \ttrue: 1\n",
            "pred: 9 \ttrue: 9\n",
            "pred: 4 \ttrue: 5\n",
            "pred: 5 \ttrue: 7\n",
            "pred: 2 \ttrue: 8\n",
            "pred: 4 \ttrue: 9\n",
            "pred: 2 \ttrue: 3\n",
            "pred: 3 \ttrue: 7\n",
            "pred: 9 \ttrue: 4\n",
            "pred: 2 \ttrue: 6\n",
            "pred: 4 \ttrue: 4\n",
            "pred: 3 \ttrue: 3\n",
            "pred: 2 \ttrue: 0\n",
            "pred: 7 \ttrue: 7\n",
            "pred: 0 \ttrue: 0\n",
            "pred: 0 \ttrue: 2\n",
            "pred: 9 \ttrue: 9\n",
            "pred: 8 \ttrue: 1\n",
            "pred: 7 \ttrue: 7\n",
            "pred: 9 \ttrue: 3\n",
            "pred: 5 \ttrue: 2\n",
            "pred: 8 \ttrue: 9\n",
            "pred: 7 \ttrue: 7\n",
            "pred: 9 \ttrue: 7\n",
            "pred: 6 \ttrue: 6\n",
            "pred: 2 \ttrue: 2\n",
            "pred: 7 \ttrue: 7\n",
            "pred: 8 \ttrue: 8\n",
            "pred: 4 \ttrue: 4\n",
            "pred: 7 \ttrue: 7\n",
            "pred: 5 \ttrue: 3\n",
            "pred: 6 \ttrue: 6\n",
            "pred: 1 \ttrue: 1\n",
            "pred: 3 \ttrue: 3\n",
            "pred: 6 \ttrue: 6\n",
            "pred: 8 \ttrue: 9\n",
            "pred: 3 \ttrue: 3\n",
            "pred: 8 \ttrue: 1\n",
            "pred: 9 \ttrue: 4\n",
            "pred: 2 \ttrue: 1\n",
            "pred: 8 \ttrue: 7\n",
            "pred: 6 \ttrue: 6\n",
            "pred: 9 \ttrue: 9\n",
            "CPU times: user 31.1 ms, sys: 21.1 ms, total: 52.2 ms\n",
            "Wall time: 26.3 ms\n"
          ]
        }
      ]
    },
    {
      "cell_type": "markdown",
      "source": [
        "###### Confusion Matrix"
      ],
      "metadata": {
        "id": "nyoSYVo-_psT"
      }
    },
    {
      "cell_type": "code",
      "source": [
        "confusion_matrix = metrics.confusion_matrix(y_actual, y_predicted)\n",
        "# print(confusion_matrix)"
      ],
      "metadata": {
        "id": "FY6ZVW4491ez"
      },
      "execution_count": 28,
      "outputs": []
    },
    {
      "cell_type": "code",
      "source": [
        "# based on https://www.statology.org/confusion-matrix-python/\n",
        "\n",
        "y_actual = pd.Series(y_actual, name='Actual')\n",
        "y_predicted = pd.Series(y_predicted, name='Predicted')\n",
        "\n",
        "#create confusion matrix\n",
        "print(pd.crosstab(y_actual, y_predicted))"
      ],
      "metadata": {
        "colab": {
          "base_uri": "https://localhost:8080/"
        },
        "id": "4aFbP0Ei91p3",
        "outputId": "7174ba46-f2ad-4d1d-a785-a1b74fe5737b"
      },
      "execution_count": 29,
      "outputs": [
        {
          "output_type": "stream",
          "name": "stdout",
          "text": [
            "Predicted  0   1  2  3  4  5  6   7  8  9\n",
            "Actual                                   \n",
            "0          7   0  1  0  0  0  0   0  0  0\n",
            "1          0  10  1  0  0  0  0   0  2  1\n",
            "2          1   0  3  2  0  1  0   1  0  0\n",
            "3          0   0  2  6  0  1  0   0  0  2\n",
            "4          1   0  0  0  9  1  0   0  0  3\n",
            "5          1   0  1  0  1  3  0   0  0  1\n",
            "6          0   0  3  0  0  0  6   0  0  1\n",
            "7          0   0  0  1  0  1  0  11  1  1\n",
            "8          0   0  1  0  0  0  0   0  1  0\n",
            "9          1   0  0  1  1  0  0   0  2  6\n"
          ]
        }
      ]
    },
    {
      "cell_type": "code",
      "source": [
        "# based on https://www.w3schools.com/python/python_ml_confusion_matrix.asp\n",
        "\n",
        "cm_display = metrics.ConfusionMatrixDisplay(\n",
        "    confusion_matrix = confusion_matrix, \n",
        "    display_labels = [0, 1, 2, 3, 4, 5, 6, 7, 8, 9])\n",
        "cm_display.plot()\n",
        "plt.show()"
      ],
      "metadata": {
        "colab": {
          "base_uri": "https://localhost:8080/",
          "height": 279
        },
        "id": "M3KMCNp291is",
        "outputId": "d55f85fb-750b-4b3e-fe45-d4e5741b6217"
      },
      "execution_count": 30,
      "outputs": [
        {
          "output_type": "display_data",
          "data": {
            "text/plain": [
              "<Figure size 432x288 with 2 Axes>"
            ],
            "image/png": "[encoded data removed]"
          },
          "metadata": {
            "needs_background": "light"
          }
        }
      ]
    },
    {
      "cell_type": "code",
      "source": [
        "y_err = y_predicted[ y_predicted != y_actual ]\n",
        "y_err[:20]"
      ],
      "metadata": {
        "colab": {
          "base_uri": "https://localhost:8080/"
        },
        "id": "G4dPZmYhVSNo",
        "outputId": "b3358496-95c9-4bd2-ba4f-9fd6fa25667a"
      },
      "execution_count": 31,
      "outputs": [
        {
          "output_type": "execute_result",
          "data": {
            "text/plain": [
              "7     0\n",
              "8     2\n",
              "11    2\n",
              "16    3\n",
              "18    2\n",
              "21    9\n",
              "24    5\n",
              "32    9\n",
              "33    0\n",
              "38    3\n",
              "42    9\n",
              "43    3\n",
              "45    0\n",
              "46    9\n",
              "47    7\n",
              "53    9\n",
              "54    2\n",
              "59    4\n",
              "60    5\n",
              "61    2\n",
              "Name: Predicted, dtype: int64"
            ]
          },
          "metadata": {},
          "execution_count": 31
        }
      ]
    },
    {
      "cell_type": "markdown",
      "source": [
        "#### Error Rate\n",
        "\n",
        "\"o valor da taxa de erro (calculada como o número de todas as previsões incorretas dividido pelo número total do conjunto de dados. A melhor taxa de erro é 0, enquanto a pior é 1.)\""
      ],
      "metadata": {
        "id": "cc8H-HcXYpuG"
      }
    },
    {
      "cell_type": "code",
      "source": [
        "error_rate = len(y_err) / total_examples_test\n",
        "print( f'error_rate: {error_rate:.3}' )"
      ],
      "metadata": {
        "colab": {
          "base_uri": "https://localhost:8080/"
        },
        "id": "znrDYWkRYugM",
        "outputId": "93983f37-4c20-46cf-a097-e94563017674"
      },
      "execution_count": 32,
      "outputs": [
        {
          "output_type": "stream",
          "name": "stdout",
          "text": [
            "error_rate: 0.38\n"
          ]
        }
      ]
    },
    {
      "cell_type": "code",
      "source": [
        "error_rate_percentage = len(y_err) / total_examples_test * 100\n",
        "print( f'error_rate_percentage: {error_rate_percentage:.3}%' )"
      ],
      "metadata": {
        "colab": {
          "base_uri": "https://localhost:8080/"
        },
        "id": "4GdIEPBFVwVe",
        "outputId": "eb9f6e16-0160-48d0-b9fa-73c1b5945416"
      },
      "execution_count": 33,
      "outputs": [
        {
          "output_type": "stream",
          "name": "stdout",
          "text": [
            "error_rate_percentage: 38.0%\n"
          ]
        }
      ]
    }
  ]
}