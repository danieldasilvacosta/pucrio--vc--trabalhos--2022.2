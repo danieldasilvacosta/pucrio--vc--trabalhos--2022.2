{
  "nbformat": 4,
  "nbformat_minor": 0,
  "metadata": {
    "colab": {
      "provenance": [],
      "collapsed_sections": [
        "kXpKGbGz8FJ7",
        "m71Mxp2ivWRp",
        "A1YmoLev8onL",
        "_6sFXydFvYuF",
        "kLSQOyZqmelh",
        "8cKQ8Fhbhq1H",
        "UmC-kT0Gi8q-",
        "nyoSYVo-_psT",
        "cc8H-HcXYpuG"
      ],
      "toc_visible": true
    },
    "kernelspec": {
      "name": "python3",
      "display_name": "Python 3"
    },
    "language_info": {
      "name": "python"
    }
  },
  "cells": [
    {
      "cell_type": "markdown",
      "source": [
        "# Trabalho 3\n",
        "Descrição do trabalho:\n",
        "\n",
        "http://webserver2.tecgraf.puc-rio.br/~mgattass/visao/trb/T3.html\n",
        "\n",
        "Aluno: Daniel da Silva Costa\n",
        "\n",
        "E-mail: danieldasilvacosta@gmail.com"
      ],
      "metadata": {
        "id": "yRPDSJgl5066"
      }
    },
    {
      "cell_type": "markdown",
      "source": [
        "### Imports"
      ],
      "metadata": {
        "id": "kXpKGbGz8FJ7"
      }
    },
    {
      "cell_type": "code",
      "source": [
        "import numpy as np\n",
        "import matplotlib.pyplot as plt\n",
        "from matplotlib import pyplot\n",
        "from mpl_toolkits.mplot3d import Axes3D\n",
        "import time\n",
        "from keras.datasets import mnist\n",
        "from keras.utils import np_utils\n",
        "from sklearn import metrics\n",
        "import pandas as pd"
      ],
      "metadata": {
        "id": "O9jx1Ztl8ID7"
      },
      "execution_count": 1,
      "outputs": []
    },
    {
      "cell_type": "markdown",
      "source": [
        "### Using the Numpy"
      ],
      "metadata": {
        "id": "8JHDwTgFsMeT"
      }
    },
    {
      "cell_type": "markdown",
      "source": [
        "#### Loss Functions"
      ],
      "metadata": {
        "id": "m71Mxp2ivWRp"
      }
    },
    {
      "cell_type": "code",
      "source": [
        "def mse(y_true, y_pred):\n",
        "    return np.mean(np.power(y_true - y_pred, 2))\n",
        "\n",
        "def mse_prime(y_true, y_pred):\n",
        "    return 2 * (y_pred - y_true) / np.size(y_true)\n",
        "\n",
        "def binary_cross_entropy(y_true, y_pred):\n",
        "    return np.mean(-y_true * np.log(y_pred) - (1 - y_true) * np.log(1 - y_pred))\n",
        "\n",
        "def binary_cross_entropy_prime(y_true, y_pred):\n",
        "    return ((1 - y_true) / (1 - y_pred) - y_true / y_pred) / np.size(y_true)"
      ],
      "metadata": {
        "id": "ZCJ9iEfmtGmV"
      },
      "execution_count": 2,
      "outputs": []
    },
    {
      "cell_type": "markdown",
      "source": [
        "#### Activation Functions"
      ],
      "metadata": {
        "id": "A1YmoLev8onL"
      }
    },
    {
      "cell_type": "code",
      "source": [
        "def tanh(x):\n",
        "  return np.tanh(x)\n",
        "\n",
        "def tanh_prime(x):\n",
        "  return 1 - np.tanh(x) ** 2"
      ],
      "metadata": {
        "id": "KRJwZb3LzaD0"
      },
      "execution_count": 3,
      "outputs": []
    },
    {
      "cell_type": "code",
      "source": [
        "def sigmoid(x):\n",
        "  return 1/(1+np.exp(-x))\n",
        "\n",
        "def sigmoid_prime(x):\n",
        "  s = 1/(1+np.exp(-x))\n",
        "  ds = s*(1-s)\n",
        "  return ds"
      ],
      "metadata": {
        "id": "LH-43l1N6SoO"
      },
      "execution_count": 4,
      "outputs": []
    },
    {
      "cell_type": "code",
      "source": [
        "def relu(x):\n",
        "  return np.maximum(0,x)\n",
        "\n",
        "def relu_prime(x):\n",
        "  return (x>0).astype(x.dtype)"
      ],
      "metadata": {
        "id": "Dg0ucoe06SoO"
      },
      "execution_count": 5,
      "outputs": []
    },
    {
      "cell_type": "markdown",
      "source": [
        "#### class Layer"
      ],
      "metadata": {
        "id": "_6sFXydFvYuF"
      }
    },
    {
      "cell_type": "code",
      "source": [
        "class Layer:\n",
        "    def __init__(self):\n",
        "        self.input = None\n",
        "        self.output = None\n",
        "\n",
        "    def forward(self, input):\n",
        "        # TODO: return output\n",
        "        pass\n",
        "\n",
        "    def backward(self, output_gradient, learning_rate):\n",
        "        # TODO: update parameters and return input gradient\n",
        "        pass"
      ],
      "metadata": {
        "id": "q9tc-xPLtCyd"
      },
      "execution_count": 6,
      "outputs": []
    },
    {
      "cell_type": "markdown",
      "source": [
        "#### class Activation(Layer)"
      ],
      "metadata": {
        "id": "j1apvwBWvcs5"
      }
    },
    {
      "cell_type": "code",
      "source": [
        "class Activation(Layer):\n",
        "    def __init__(self, activation, activation_prime):\n",
        "        self.activation = activation\n",
        "        self.activation_prime = activation_prime\n",
        "\n",
        "    def forward(self, input):\n",
        "        self.input = input\n",
        "        return self.activation(self.input)\n",
        "\n",
        "    def backward(self, output_gradient, learning_rate):\n",
        "        return np.multiply(output_gradient, self.activation_prime(self.input))"
      ],
      "metadata": {
        "id": "l1pBLTS1t-hV"
      },
      "execution_count": 7,
      "outputs": []
    },
    {
      "cell_type": "markdown",
      "source": [
        "#### class Dense(Layer)"
      ],
      "metadata": {
        "id": "E7ekyuq5vhIb"
      }
    },
    {
      "cell_type": "code",
      "source": [
        "class Dense(Layer):\n",
        "    def __init__(self, input_size, output_size):\n",
        "        self.weights = np.random.randn(output_size, input_size)\n",
        "        self.bias = np.random.randn(output_size, 1)\n",
        "\n",
        "    def forward(self, input):\n",
        "        self.input = input\n",
        "        self.output = np.dot(self.weights, self.input) + self.bias\n",
        "        return self.output\n",
        "\n",
        "    def backward(self, output_gradient, learning_rate):\n",
        "        input_gradient = np.dot(self.weights.T, output_gradient)\n",
        "        # print( f'output_gradient.shape: {output_gradient.shape}' )\n",
        "        weights_gradients = np.dot(output_gradient, self.input.T)\n",
        "        bias_gradients = np.sum(output_gradient, axis=0).reshape((1, -1))\n",
        "\n",
        "        # update parameters\n",
        "        # print( f'learning_rate: {learning_rate}' )\n",
        "        # print( f'weights_gradients.shape: {weights_gradients.shape}' )\n",
        "        self.weights -= learning_rate * weights_gradients\n",
        "        self.bias -= learning_rate * bias_gradients\n",
        "        return input_gradient "
      ],
      "metadata": {
        "id": "jnwqfgZ1sOug"
      },
      "execution_count": 8,
      "outputs": []
    },
    {
      "cell_type": "markdown",
      "source": [
        "#### function predict()"
      ],
      "metadata": {
        "id": "d3u673AxvoRy"
      }
    },
    {
      "cell_type": "code",
      "source": [
        "def predict(network, input):\n",
        "    output = input\n",
        "    for layer in network:\n",
        "        output = layer.forward(output)\n",
        "    return output"
      ],
      "metadata": {
        "id": "FwUcSfQ8sO0S"
      },
      "execution_count": 9,
      "outputs": []
    },
    {
      "cell_type": "markdown",
      "source": [
        "#### function train()"
      ],
      "metadata": {
        "id": "1ed25mo3vkfg"
      }
    },
    {
      "cell_type": "code",
      "source": [
        "def train(network, loss, loss_prime, x_train, y_train, epochs = 1000, learning_rate = 0.01, batch_size = -1, verbose = True):\n",
        "\n",
        "    if batch_size > -1: # training using batches\n",
        "\n",
        "        n_samples = len(x_train)\n",
        "        n_batches = n_samples//batch_size\n",
        "\n",
        "        batch_list_x = list()\n",
        "        batch_list_y = list()\n",
        "        for k in range(n_batches):\n",
        "\n",
        "              ini = k * batch_size\n",
        "              end = (k + 1) * batch_size\n",
        "              batch_x = x_train[ini:end]\n",
        "              batch_y = y_train[ini:end]\n",
        "              batch_list_x.append( batch_x )\n",
        "              batch_list_y.append( batch_y )\n",
        "\n",
        "        if (n_batches * batch_size < len(x_train)):\n",
        "\n",
        "              batch_x = x_train[ n_batches * batch_size: ]\n",
        "              batch_y = y_train[ n_batches * batch_size: ]\n",
        "              batch_list_x.append( batch_x )\n",
        "              batch_list_y.append( batch_y )\n",
        "\n",
        "        inner_verbose = False\n",
        "        for e in range(epochs):\n",
        "\n",
        "            if(inner_verbose):\n",
        "                print( '========================================' )\n",
        "                print( f'epoch number: {e}' )\n",
        "\n",
        "            epoch_error = 0\n",
        "            if inner_verbose:\n",
        "                batch_index = 0\n",
        "            # for key, batch_x in enumerate(batch_list_x):\n",
        "            for batch_x, batch_y in zip(batch_list_x, batch_list_y):\n",
        "\n",
        "                if inner_verbose:\n",
        "                    print( '-------------------------------------' )\n",
        "                    print( f'batch index: {batch_index}' )\n",
        "\n",
        "                y_pred_list = list()\n",
        "                for key, x in enumerate(batch_x):\n",
        "\n",
        "                    # forward\n",
        "                    y_pred = predict(network, x)\n",
        "                    # print( f'y_pred: {y_pred}' )\n",
        "\n",
        "                    y_pred_list.append( y_pred )\n",
        "\n",
        "                batch_error = loss(batch_y, y_pred_list)\n",
        "                if inner_verbose:\n",
        "                    print( f'batch_error: {batch_error}' )\n",
        "\n",
        "                epoch_error += batch_error\n",
        "\n",
        "                # backward\n",
        "                grad = loss_prime(batch_y, y_pred_list) # b, n\n",
        "                # print( f'grad.shape: {grad.shape}' )\n",
        "                # print( f'grad[0]: {grad[0]}' )\n",
        "                # print( f'grad[0][0]: {grad[0][0]}' )\n",
        "                # print( f'grad[1][0]: {grad[1][0]}' )\n",
        "                # print( f'grad[2][0]: {grad[2][0]}' )\n",
        "\n",
        "                grad = np.sum(grad, axis=0)\n",
        "                grad /= len(batch_y)\n",
        "                # print( f'grad.shape: {grad.shape}' )\n",
        "                # print( f'grad[0]: {grad[0]}' )\n",
        "\n",
        "                for layer in reversed(network):\n",
        "                    grad = layer.backward(grad, learning_rate)\n",
        "\n",
        "                if inner_verbose:\n",
        "                    batch_index += 1\n",
        "\n",
        "            epoch_error /= len(batch_list_x)\n",
        "            if inner_verbose:\n",
        "                # print( f'epoch_error /= len(batch_list_x): {epoch_error}' )\n",
        "                print()\n",
        "                print( f'epoch_error: {epoch_error}' )\n",
        "\n",
        "            if verbose:\n",
        "                if e % 100 == 0:\n",
        "                    print(f\"{e}/{epochs}, epoch_error={epoch_error:.15}\")\n",
        "\n",
        "    else: # training item by item (stochastic)\n",
        "\n",
        "        for e in range(epochs):\n",
        "            error = 0\n",
        "            for x, y in zip(x_train, y_train):\n",
        "                # forward\n",
        "                y_pred = predict(network, x)\n",
        "\n",
        "                # error\n",
        "                error += loss(y, y_pred)\n",
        "\n",
        "                # backward\n",
        "                grad = loss_prime(y, y_pred)\n",
        "                for layer in reversed(network):\n",
        "                    grad = layer.backward(grad, learning_rate)\n",
        "\n",
        "            error /= len(x_train)\n",
        "\n",
        "            if verbose:\n",
        "                if e % 100 == 0:\n",
        "                    print(f\"{e}/{epochs}, error={error:.3}\")"
      ],
      "metadata": {
        "id": "sNFNobT_Mml0"
      },
      "execution_count": 90,
      "outputs": []
    },
    {
      "cell_type": "markdown",
      "source": [
        "#### Example: XOR"
      ],
      "metadata": {
        "id": "VBi2gzj2tqRp"
      }
    },
    {
      "cell_type": "code",
      "source": [
        "# X = np.reshape([[0, 0], [0, 1], [1, 0], [1, 1]], (4, 2, 1))\n",
        "# Y = np.reshape([[0], [1], [1], [0]], (4, 1, 1))"
      ],
      "metadata": {
        "id": "tBaIStgfsO8m"
      },
      "execution_count": 13,
      "outputs": []
    },
    {
      "cell_type": "markdown",
      "source": [
        "##### Neural Network"
      ],
      "metadata": {
        "id": "kLSQOyZqmelh"
      }
    },
    {
      "cell_type": "code",
      "source": [
        "# network = [\n",
        "#     Dense(input_size = 2, \n",
        "#           output_size = 3),\n",
        "#     Activation(activation = tanh, \n",
        "#                activation_prime = tanh_prime),\n",
        "#     Dense(input_size = 3, \n",
        "#           output_size = 1),\n",
        "#     Activation(activation = tanh,\n",
        "#                activation_prime = tanh_prime),\n",
        "# ]"
      ],
      "metadata": {
        "id": "8S2ye1Wsmf7n"
      },
      "execution_count": 14,
      "outputs": []
    },
    {
      "cell_type": "markdown",
      "source": [
        "##### Training"
      ],
      "metadata": {
        "id": "8cKQ8Fhbhq1H"
      }
    },
    {
      "cell_type": "code",
      "source": [
        "# %%time\n",
        "\n",
        "# train(network, \n",
        "#       loss = mse, \n",
        "#       loss_prime = mse_prime, \n",
        "#       x_train = X, \n",
        "#       y_train = Y, \n",
        "#       epochs = 10000, \n",
        "#       learning_rate = 0.1)"
      ],
      "metadata": {
        "id": "hI5yLJhGhsqN"
      },
      "execution_count": 15,
      "outputs": []
    },
    {
      "cell_type": "code",
      "source": [
        "# # decision boundary plot\n",
        "# points = []\n",
        "# for x in np.linspace(0, 1, 20):\n",
        "#     for y in np.linspace(0, 1, 20):\n",
        "#         z = predict(network, [[x], [y]])\n",
        "#         points.append([x, y, z[0,0]])\n",
        "\n",
        "# points = np.array(points)\n",
        "\n",
        "# fig = plt.figure()\n",
        "# ax = fig.add_subplot(111, projection=\"3d\")\n",
        "# ax.scatter(points[:, 0], points[:, 1], points[:, 2], c=points[:, 2], cmap=\"winter\")\n",
        "# plt.show()"
      ],
      "metadata": {
        "id": "ENzQRzmRsO3M"
      },
      "execution_count": 16,
      "outputs": []
    },
    {
      "cell_type": "markdown",
      "source": [
        "#### Example: MNIST"
      ],
      "metadata": {
        "id": "_OSZUaHL9zUh"
      }
    },
    {
      "cell_type": "code",
      "source": [
        "# load MNIST from server\n",
        "(x_train, y_train), (x_test, y_test) = mnist.load_data()"
      ],
      "metadata": {
        "id": "HMMN7BtI91TX"
      },
      "execution_count": 101,
      "outputs": []
    },
    {
      "cell_type": "markdown",
      "source": [
        "##### Loading the data"
      ],
      "metadata": {
        "id": "I_9PSGOkkX6h"
      }
    },
    {
      "cell_type": "code",
      "source": [
        "total_examples_train = 10000"
      ],
      "metadata": {
        "id": "L5Gcoq1nkYBS"
      },
      "execution_count": 102,
      "outputs": []
    },
    {
      "cell_type": "code",
      "source": [
        "total_examples_test = total_examples_train * .1\n",
        "total_examples_test = int(total_examples_test)"
      ],
      "metadata": {
        "id": "P8zCarNEV-Wj"
      },
      "execution_count": 103,
      "outputs": []
    },
    {
      "cell_type": "code",
      "source": [
        "x_train[0].shape"
      ],
      "metadata": {
        "colab": {
          "base_uri": "https://localhost:8080/"
        },
        "id": "fwcWHKKgYBtK",
        "outputId": "96217b19-58e6-4d39-ad7c-47dc72b84295"
      },
      "execution_count": 104,
      "outputs": [
        {
          "output_type": "execute_result",
          "data": {
            "text/plain": [
              "(28, 28)"
            ]
          },
          "metadata": {},
          "execution_count": 104
        }
      ]
    },
    {
      "cell_type": "code",
      "source": [
        "fig, axes = plt.subplots( 1, 1, figsize=( 10, 5 ) )\n",
        "\n",
        "axes.set_title( f'Label: {y_train[0]}' )\n",
        "axes.imshow( x_train[0], cmap='gray' )\n",
        "\n",
        "plt.show()"
      ],
      "metadata": {
        "colab": {
          "base_uri": "https://localhost:8080/",
          "height": 336
        },
        "id": "Xd7qKexIkyR4",
        "outputId": "f2fdc99e-c2a0-4506-d0dd-7be32b2406ab"
      },
      "execution_count": 105,
      "outputs": [
        {
          "output_type": "display_data",
          "data": {
            "text/plain": [
              "<Figure size 720x360 with 1 Axes>"
            ],
            "image/png": "[encoded data removed]"
          },
          "metadata": {
            "needs_background": "light"
          }
        }
      ]
    },
    {
      "cell_type": "code",
      "source": [
        "x_train[0]"
      ],
      "metadata": {
        "colab": {
          "base_uri": "https://localhost:8080/"
        },
        "id": "tjLOjGg9TENH",
        "outputId": "c0fd2a35-10cb-43e7-93fc-90ec37fdf394"
      },
      "execution_count": 106,
      "outputs": [
        {
          "output_type": "execute_result",
          "data": {
            "text/plain": [
              "array([[  0,   0,   0,   0,   0,   0,   0,   0,   0,   0,   0,   0,   0,\n",
              "          0,   0,   0,   0,   0,   0,   0,   0,   0,   0,   0,   0,   0,\n",
              "          0,   0],\n",
              "       [  0,   0,   0,   0,   0,   0,   0,   0,   0,   0,   0,   0,   0,\n",
              "          0,   0,   0,   0,   0,   0,   0,   0,   0,   0,   0,   0,   0,\n",
              "          0,   0],\n",
              "       [  0,   0,   0,   0,   0,   0,   0,   0,   0,   0,   0,   0,   0,\n",
              "          0,   0,   0,   0,   0,   0,   0,   0,   0,   0,   0,   0,   0,\n",
              "          0,   0],\n",
              "       [  0,   0,   0,   0,   0,   0,   0,   0,   0,   0,   0,   0,   0,\n",
              "          0,   0,   0,   0,   0,   0,   0,   0,   0,   0,   0,   0,   0,\n",
              "          0,   0],\n",
              "       [  0,   0,   0,   0,   0,   0,   0,   0,   0,   0,   0,   0,   0,\n",
              "          0,   0,   0,   0,   0,   0,   0,   0,   0,   0,   0,   0,   0,\n",
              "          0,   0],\n",
              "       [  0,   0,   0,   0,   0,   0,   0,   0,   0,   0,   0,   0,   3,\n",
              "         18,  18,  18, 126, 136, 175,  26, 166, 255, 247, 127,   0,   0,\n",
              "          0,   0],\n",
              "       [  0,   0,   0,   0,   0,   0,   0,   0,  30,  36,  94, 154, 170,\n",
              "        253, 253, 253, 253, 253, 225, 172, 253, 242, 195,  64,   0,   0,\n",
              "          0,   0],\n",
              "       [  0,   0,   0,   0,   0,   0,   0,  49, 238, 253, 253, 253, 253,\n",
              "        253, 253, 253, 253, 251,  93,  82,  82,  56,  39,   0,   0,   0,\n",
              "          0,   0],\n",
              "       [  0,   0,   0,   0,   0,   0,   0,  18, 219, 253, 253, 253, 253,\n",
              "        253, 198, 182, 247, 241,   0,   0,   0,   0,   0,   0,   0,   0,\n",
              "          0,   0],\n",
              "       [  0,   0,   0,   0,   0,   0,   0,   0,  80, 156, 107, 253, 253,\n",
              "        205,  11,   0,  43, 154,   0,   0,   0,   0,   0,   0,   0,   0,\n",
              "          0,   0],\n",
              "       [  0,   0,   0,   0,   0,   0,   0,   0,   0,  14,   1, 154, 253,\n",
              "         90,   0,   0,   0,   0,   0,   0,   0,   0,   0,   0,   0,   0,\n",
              "          0,   0],\n",
              "       [  0,   0,   0,   0,   0,   0,   0,   0,   0,   0,   0, 139, 253,\n",
              "        190,   2,   0,   0,   0,   0,   0,   0,   0,   0,   0,   0,   0,\n",
              "          0,   0],\n",
              "       [  0,   0,   0,   0,   0,   0,   0,   0,   0,   0,   0,  11, 190,\n",
              "        253,  70,   0,   0,   0,   0,   0,   0,   0,   0,   0,   0,   0,\n",
              "          0,   0],\n",
              "       [  0,   0,   0,   0,   0,   0,   0,   0,   0,   0,   0,   0,  35,\n",
              "        241, 225, 160, 108,   1,   0,   0,   0,   0,   0,   0,   0,   0,\n",
              "          0,   0],\n",
              "       [  0,   0,   0,   0,   0,   0,   0,   0,   0,   0,   0,   0,   0,\n",
              "         81, 240, 253, 253, 119,  25,   0,   0,   0,   0,   0,   0,   0,\n",
              "          0,   0],\n",
              "       [  0,   0,   0,   0,   0,   0,   0,   0,   0,   0,   0,   0,   0,\n",
              "          0,  45, 186, 253, 253, 150,  27,   0,   0,   0,   0,   0,   0,\n",
              "          0,   0],\n",
              "       [  0,   0,   0,   0,   0,   0,   0,   0,   0,   0,   0,   0,   0,\n",
              "          0,   0,  16,  93, 252, 253, 187,   0,   0,   0,   0,   0,   0,\n",
              "          0,   0],\n",
              "       [  0,   0,   0,   0,   0,   0,   0,   0,   0,   0,   0,   0,   0,\n",
              "          0,   0,   0,   0, 249, 253, 249,  64,   0,   0,   0,   0,   0,\n",
              "          0,   0],\n",
              "       [  0,   0,   0,   0,   0,   0,   0,   0,   0,   0,   0,   0,   0,\n",
              "          0,  46, 130, 183, 253, 253, 207,   2,   0,   0,   0,   0,   0,\n",
              "          0,   0],\n",
              "       [  0,   0,   0,   0,   0,   0,   0,   0,   0,   0,   0,   0,  39,\n",
              "        148, 229, 253, 253, 253, 250, 182,   0,   0,   0,   0,   0,   0,\n",
              "          0,   0],\n",
              "       [  0,   0,   0,   0,   0,   0,   0,   0,   0,   0,  24, 114, 221,\n",
              "        253, 253, 253, 253, 201,  78,   0,   0,   0,   0,   0,   0,   0,\n",
              "          0,   0],\n",
              "       [  0,   0,   0,   0,   0,   0,   0,   0,  23,  66, 213, 253, 253,\n",
              "        253, 253, 198,  81,   2,   0,   0,   0,   0,   0,   0,   0,   0,\n",
              "          0,   0],\n",
              "       [  0,   0,   0,   0,   0,   0,  18, 171, 219, 253, 253, 253, 253,\n",
              "        195,  80,   9,   0,   0,   0,   0,   0,   0,   0,   0,   0,   0,\n",
              "          0,   0],\n",
              "       [  0,   0,   0,   0,  55, 172, 226, 253, 253, 253, 253, 244, 133,\n",
              "         11,   0,   0,   0,   0,   0,   0,   0,   0,   0,   0,   0,   0,\n",
              "          0,   0],\n",
              "       [  0,   0,   0,   0, 136, 253, 253, 253, 212, 135, 132,  16,   0,\n",
              "          0,   0,   0,   0,   0,   0,   0,   0,   0,   0,   0,   0,   0,\n",
              "          0,   0],\n",
              "       [  0,   0,   0,   0,   0,   0,   0,   0,   0,   0,   0,   0,   0,\n",
              "          0,   0,   0,   0,   0,   0,   0,   0,   0,   0,   0,   0,   0,\n",
              "          0,   0],\n",
              "       [  0,   0,   0,   0,   0,   0,   0,   0,   0,   0,   0,   0,   0,\n",
              "          0,   0,   0,   0,   0,   0,   0,   0,   0,   0,   0,   0,   0,\n",
              "          0,   0],\n",
              "       [  0,   0,   0,   0,   0,   0,   0,   0,   0,   0,   0,   0,   0,\n",
              "          0,   0,   0,   0,   0,   0,   0,   0,   0,   0,   0,   0,   0,\n",
              "          0,   0]], dtype=uint8)"
            ]
          },
          "metadata": {},
          "execution_count": 106
        }
      ]
    },
    {
      "cell_type": "markdown",
      "source": [
        "##### Depicting examples"
      ],
      "metadata": {
        "id": "JANAzxfJdJXo"
      }
    },
    {
      "cell_type": "code",
      "source": [
        "rows = 3\n",
        "columns = 7\n",
        "\n",
        "fig, axes = plt.subplots( rows, columns, figsize=( 15, 8 ) )\n",
        "\n",
        "for i in range(rows):\n",
        "  for j in range(columns):\n",
        "    random_number = int(np.random.rand() * total_examples_train)\n",
        "    axes[i][j].set_title( f'Label: {y_train[random_number]}' )\n",
        "    axes[i][j].imshow( x_train[random_number], cmap='gray' )\n",
        "\n",
        "plt.show()"
      ],
      "metadata": {
        "colab": {
          "base_uri": "https://localhost:8080/",
          "height": 383
        },
        "id": "1iytJvAgX36C",
        "outputId": "0ecaf223-cd1a-4a57-cf9c-168a41fdb667"
      },
      "execution_count": 107,
      "outputs": [
        {
          "output_type": "display_data",
          "data": {
            "text/plain": [
              "<Figure size 1080x576 with 21 Axes>"
            ],
            "image/png": "[encoded data removed]"
          },
          "metadata": {
            "needs_background": "light"
          }
        }
      ]
    },
    {
      "cell_type": "markdown",
      "source": [
        "##### Preprocessing Data"
      ],
      "metadata": {
        "id": "Y-xQOhu3dAdE"
      }
    },
    {
      "cell_type": "code",
      "source": [
        "def preprocess_data(x, y, limit):\n",
        "    # reshape and normalize input data\n",
        "    x = x.reshape(x.shape[0], 28 * 28, 1)\n",
        "    x = x.astype(\"float32\") / 255\n",
        "    # encode output which is a number in range [0,9] into a vector of size 10\n",
        "    # e.g. number 3 will become [0, 0, 0, 1, 0, 0, 0, 0, 0, 0]\n",
        "    y = np_utils.to_categorical(y)\n",
        "    y = y.reshape(y.shape[0], 10, 1)\n",
        "    return x[:limit], y[:limit]"
      ],
      "metadata": {
        "id": "oVQI0CQLsO5_"
      },
      "execution_count": 108,
      "outputs": []
    },
    {
      "cell_type": "code",
      "source": [
        "x_train, y_train = preprocess_data(x_train, y_train, total_examples_train)\n",
        "x_test, y_test = preprocess_data(x_test, y_test, total_examples_test)"
      ],
      "metadata": {
        "id": "DOrqrXJTZ_E5"
      },
      "execution_count": 109,
      "outputs": []
    },
    {
      "cell_type": "markdown",
      "source": [
        "##### Neural Network"
      ],
      "metadata": {
        "id": "ELbAsarTmmt3"
      }
    },
    {
      "cell_type": "code",
      "source": [
        "network = [\n",
        "    Dense(input_size = 28 * 28, \n",
        "          output_size = 40),\n",
        "    Activation(activation = tanh, \n",
        "               activation_prime = tanh_prime),\n",
        "    Dense(input_size = 40, \n",
        "          output_size = 10),\n",
        "    Activation(activation = tanh,\n",
        "               activation_prime = tanh_prime),\n",
        "]"
      ],
      "metadata": {
        "id": "eZP9rM_991Wp"
      },
      "execution_count": 110,
      "outputs": []
    },
    {
      "cell_type": "markdown",
      "source": [
        "##### Training"
      ],
      "metadata": {
        "id": "hn7CSFqEDCks"
      }
    },
    {
      "cell_type": "code",
      "source": [
        "%%time\n",
        "\n",
        "train(network, \n",
        "      loss = mse, \n",
        "      loss_prime = mse_prime, \n",
        "      x_train = x_train, \n",
        "      y_train = y_train, \n",
        "      # epochs = 1000, \n",
        "      # learning_rate = 0.1)\n",
        "      epochs = 10000, \n",
        "      learning_rate = 0.1,\n",
        "      batch_size = 10000)"
      ],
      "metadata": {
        "colab": {
          "base_uri": "https://localhost:8080/"
        },
        "id": "dwrW39Iv91ZN",
        "outputId": "d73ef17c-62c4-475c-e56d-8dbfc014af5e"
      },
      "execution_count": 112,
      "outputs": [
        {
          "output_type": "stream",
          "name": "stdout",
          "text": [
            "0/10000, epoch_error=1.00210568510174\n",
            "100/10000, epoch_error=1.00210154294339\n",
            "200/10000, epoch_error=1.00209740707422\n",
            "300/10000, epoch_error=1.00209327741183\n",
            "400/10000, epoch_error=1.0020891538743\n",
            "500/10000, epoch_error=1.00208503638019\n",
            "600/10000, epoch_error=1.00208092484854\n",
            "700/10000, epoch_error=1.00207681919882\n",
            "800/10000, epoch_error=1.002072719351\n",
            "900/10000, epoch_error=1.00206862522545\n",
            "1000/10000, epoch_error=1.002064536743\n",
            "1100/10000, epoch_error=1.00206045382491\n",
            "1200/10000, epoch_error=1.00205637639287\n",
            "1300/10000, epoch_error=1.00205230436897\n",
            "1400/10000, epoch_error=1.00204823767571\n",
            "1500/10000, epoch_error=1.002044176236\n",
            "1600/10000, epoch_error=1.00204011997314\n",
            "1700/10000, epoch_error=1.00203606881082\n",
            "1800/10000, epoch_error=1.00203202267309\n",
            "1900/10000, epoch_error=1.00202798148442\n",
            "2000/10000, epoch_error=1.00202394516959\n",
            "2100/10000, epoch_error=1.00201991365377\n",
            "2200/10000, epoch_error=1.00201588686249\n",
            "2300/10000, epoch_error=1.0020118647216\n",
            "2400/10000, epoch_error=1.00200784715732\n",
            "2500/10000, epoch_error=1.00200383409617\n",
            "2600/10000, epoch_error=1.00199982546503\n",
            "2700/10000, epoch_error=1.00199582119107\n",
            "2800/10000, epoch_error=1.00199182120179\n",
            "2900/10000, epoch_error=1.001987825425\n",
            "3000/10000, epoch_error=1.00198383378881\n",
            "3100/10000, epoch_error=1.00197984622161\n",
            "3200/10000, epoch_error=1.00197586265211\n",
            "3300/10000, epoch_error=1.00197188300927\n",
            "3400/10000, epoch_error=1.00196790722236\n",
            "3500/10000, epoch_error=1.00196393522088\n",
            "3600/10000, epoch_error=1.00195996693464\n",
            "3700/10000, epoch_error=1.00195600229368\n",
            "3800/10000, epoch_error=1.00195204122831\n",
            "3900/10000, epoch_error=1.00194808366909\n",
            "4000/10000, epoch_error=1.0019441295468\n",
            "4100/10000, epoch_error=1.00194017879248\n",
            "4200/10000, epoch_error=1.0019362313374\n",
            "4300/10000, epoch_error=1.00193228711304\n",
            "4400/10000, epoch_error=1.00192834605113\n",
            "4500/10000, epoch_error=1.00192440808359\n",
            "4600/10000, epoch_error=1.00192047314256\n",
            "4700/10000, epoch_error=1.00191654116038\n",
            "4800/10000, epoch_error=1.0019126120696\n",
            "4900/10000, epoch_error=1.00190868580296\n",
            "5000/10000, epoch_error=1.00190476229339\n",
            "5100/10000, epoch_error=1.001900841474\n",
            "5200/10000, epoch_error=1.00189692327808\n",
            "5300/10000, epoch_error=1.0018930076391\n",
            "5400/10000, epoch_error=1.0018890944907\n",
            "5500/10000, epoch_error=1.00188518376669\n",
            "5600/10000, epoch_error=1.00188127540102\n",
            "5700/10000, epoch_error=1.00187736932781\n",
            "5800/10000, epoch_error=1.00187346548134\n",
            "5900/10000, epoch_error=1.00186956379601\n",
            "6000/10000, epoch_error=1.00186566420638\n",
            "6100/10000, epoch_error=1.00186176664715\n",
            "6200/10000, epoch_error=1.00185787105314\n",
            "6300/10000, epoch_error=1.00185397735929\n",
            "6400/10000, epoch_error=1.00185008550069\n",
            "6500/10000, epoch_error=1.00184619541253\n",
            "6600/10000, epoch_error=1.00184230703012\n",
            "6700/10000, epoch_error=1.00183842028886\n",
            "6800/10000, epoch_error=1.0018345351243\n",
            "6900/10000, epoch_error=1.00183065147204\n",
            "7000/10000, epoch_error=1.00182676926782\n",
            "7100/10000, epoch_error=1.00182288844744\n",
            "7200/10000, epoch_error=1.0018190089468\n",
            "7300/10000, epoch_error=1.00181513070191\n",
            "7400/10000, epoch_error=1.00181125364882\n",
            "7500/10000, epoch_error=1.00180737772368\n",
            "7600/10000, epoch_error=1.00180350286271\n",
            "7700/10000, epoch_error=1.00179962900219\n",
            "7800/10000, epoch_error=1.00179575607848\n",
            "7900/10000, epoch_error=1.00179188402798\n",
            "8000/10000, epoch_error=1.00178801278717\n",
            "8100/10000, epoch_error=1.00178414229258\n",
            "8200/10000, epoch_error=1.00178027248076\n",
            "8300/10000, epoch_error=1.00177640328835\n",
            "8400/10000, epoch_error=1.00177253465201\n",
            "8500/10000, epoch_error=1.00176866650844\n",
            "8600/10000, epoch_error=1.00176479879437\n",
            "8700/10000, epoch_error=1.00176093144658\n",
            "8800/10000, epoch_error=1.00175706440186\n",
            "8900/10000, epoch_error=1.00175319759703\n",
            "9000/10000, epoch_error=1.00174933096895\n",
            "9100/10000, epoch_error=1.00174546445448\n",
            "9200/10000, epoch_error=1.0017415979905\n",
            "9300/10000, epoch_error=1.00173773151389\n",
            "9400/10000, epoch_error=1.00173386496158\n",
            "9500/10000, epoch_error=1.00172999827046\n",
            "9600/10000, epoch_error=1.00172613137744\n",
            "9700/10000, epoch_error=1.00172226421945\n",
            "9800/10000, epoch_error=1.0017183967334\n",
            "9900/10000, epoch_error=1.00171452885618\n",
            "CPU times: user 41min 22s, sys: 24min 57s, total: 1h 6min 20s\n",
            "Wall time: 34min 4s\n"
          ]
        }
      ]
    },
    {
      "cell_type": "markdown",
      "source": [
        "##### Testing"
      ],
      "metadata": {
        "id": "UmC-kT0Gi8q-"
      }
    },
    {
      "cell_type": "code",
      "source": [
        "print( f'len(y_test): {len(y_test)}' )"
      ],
      "metadata": {
        "colab": {
          "base_uri": "https://localhost:8080/"
        },
        "id": "JxWd2D1djQ1V",
        "outputId": "3ab6bb46-a924-43f6-c7e2-7025b0c89b9d"
      },
      "execution_count": 113,
      "outputs": [
        {
          "output_type": "stream",
          "name": "stdout",
          "text": [
            "len(y_test): 1000\n"
          ]
        }
      ]
    },
    {
      "cell_type": "code",
      "source": [
        "%%time\n",
        "\n",
        "y_predicted = list()\n",
        "y_actual = list()\n",
        "\n",
        "for x, y in zip(x_test, y_test):\n",
        "    output = predict(network, x)\n",
        "\n",
        "    y_predicted.append( np.argmax(output) )\n",
        "    y_actual.append( np.argmax(y) )\n",
        "\n",
        "    print('pred:', np.argmax(output), '\\ttrue:', np.argmax(y))"
      ],
      "metadata": {
        "colab": {
          "base_uri": "https://localhost:8080/"
        },
        "id": "8Y3vA1od91cb",
        "outputId": "746cd0ab-d88a-4323-bf8d-dbc88bbf395f"
      },
      "execution_count": 114,
      "outputs": [
        {
          "output_type": "stream",
          "name": "stdout",
          "text": [
            "pred: 6 \ttrue: 7\n",
            "pred: 6 \ttrue: 2\n",
            "pred: 6 \ttrue: 1\n",
            "pred: 6 \ttrue: 0\n",
            "pred: 1 \ttrue: 4\n",
            "pred: 6 \ttrue: 1\n",
            "pred: 1 \ttrue: 4\n",
            "pred: 6 \ttrue: 9\n",
            "pred: 6 \ttrue: 5\n",
            "pred: 7 \ttrue: 9\n",
            "pred: 9 \ttrue: 0\n",
            "pred: 1 \ttrue: 6\n",
            "pred: 1 \ttrue: 9\n",
            "pred: 6 \ttrue: 0\n",
            "pred: 6 \ttrue: 1\n",
            "pred: 6 \ttrue: 5\n",
            "pred: 7 \ttrue: 9\n",
            "pred: 2 \ttrue: 7\n",
            "pred: 2 \ttrue: 3\n",
            "pred: 7 \ttrue: 4\n",
            "pred: 6 \ttrue: 9\n",
            "pred: 7 \ttrue: 6\n",
            "pred: 6 \ttrue: 6\n",
            "pred: 1 \ttrue: 5\n",
            "pred: 1 \ttrue: 4\n",
            "pred: 9 \ttrue: 0\n",
            "pred: 7 \ttrue: 7\n",
            "pred: 1 \ttrue: 4\n",
            "pred: 6 \ttrue: 0\n",
            "pred: 1 \ttrue: 1\n",
            "pred: 6 \ttrue: 3\n",
            "pred: 7 \ttrue: 1\n",
            "pred: 4 \ttrue: 3\n",
            "pred: 1 \ttrue: 4\n",
            "pred: 6 \ttrue: 7\n",
            "pred: 1 \ttrue: 2\n",
            "pred: 7 \ttrue: 7\n",
            "pred: 7 \ttrue: 1\n",
            "pred: 1 \ttrue: 2\n",
            "pred: 6 \ttrue: 1\n",
            "pred: 6 \ttrue: 1\n",
            "pred: 6 \ttrue: 7\n",
            "pred: 1 \ttrue: 4\n",
            "pred: 1 \ttrue: 2\n",
            "pred: 6 \ttrue: 3\n",
            "pred: 6 \ttrue: 5\n",
            "pred: 1 \ttrue: 1\n",
            "pred: 6 \ttrue: 2\n",
            "pred: 1 \ttrue: 4\n",
            "pred: 1 \ttrue: 4\n",
            "pred: 1 \ttrue: 6\n",
            "pred: 2 \ttrue: 3\n",
            "pred: 1 \ttrue: 5\n",
            "pred: 6 \ttrue: 5\n",
            "pred: 0 \ttrue: 6\n",
            "pred: 5 \ttrue: 0\n",
            "pred: 1 \ttrue: 4\n",
            "pred: 6 \ttrue: 1\n",
            "pred: 7 \ttrue: 9\n",
            "pred: 6 \ttrue: 5\n",
            "pred: 7 \ttrue: 7\n",
            "pred: 6 \ttrue: 8\n",
            "pred: 6 \ttrue: 9\n",
            "pred: 7 \ttrue: 3\n",
            "pred: 7 \ttrue: 7\n",
            "pred: 7 \ttrue: 4\n",
            "pred: 1 \ttrue: 6\n",
            "pred: 7 \ttrue: 4\n",
            "pred: 1 \ttrue: 3\n",
            "pred: 6 \ttrue: 0\n",
            "pred: 6 \ttrue: 7\n",
            "pred: 1 \ttrue: 0\n",
            "pred: 1 \ttrue: 2\n",
            "pred: 6 \ttrue: 9\n",
            "pred: 6 \ttrue: 1\n",
            "pred: 1 \ttrue: 7\n",
            "pred: 7 \ttrue: 3\n",
            "pred: 7 \ttrue: 2\n",
            "pred: 6 \ttrue: 9\n",
            "pred: 6 \ttrue: 7\n",
            "pred: 6 \ttrue: 7\n",
            "pred: 1 \ttrue: 6\n",
            "pred: 6 \ttrue: 2\n",
            "pred: 7 \ttrue: 7\n",
            "pred: 1 \ttrue: 8\n",
            "pred: 6 \ttrue: 4\n",
            "pred: 5 \ttrue: 7\n",
            "pred: 6 \ttrue: 3\n",
            "pred: 7 \ttrue: 6\n",
            "pred: 6 \ttrue: 1\n",
            "pred: 6 \ttrue: 3\n",
            "pred: 7 \ttrue: 6\n",
            "pred: 3 \ttrue: 9\n",
            "pred: 6 \ttrue: 3\n",
            "pred: 7 \ttrue: 1\n",
            "pred: 1 \ttrue: 4\n",
            "pred: 7 \ttrue: 1\n",
            "pred: 5 \ttrue: 7\n",
            "pred: 6 \ttrue: 6\n",
            "pred: 8 \ttrue: 9\n",
            "pred: 7 \ttrue: 6\n",
            "pred: 9 \ttrue: 0\n",
            "pred: 6 \ttrue: 5\n",
            "pred: 1 \ttrue: 4\n",
            "pred: 7 \ttrue: 9\n",
            "pred: 7 \ttrue: 9\n",
            "pred: 1 \ttrue: 2\n",
            "pred: 6 \ttrue: 1\n",
            "pred: 6 \ttrue: 9\n",
            "pred: 6 \ttrue: 4\n",
            "pred: 6 \ttrue: 8\n",
            "pred: 6 \ttrue: 7\n",
            "pred: 7 \ttrue: 3\n",
            "pred: 6 \ttrue: 9\n",
            "pred: 1 \ttrue: 7\n",
            "pred: 6 \ttrue: 4\n",
            "pred: 1 \ttrue: 4\n",
            "pred: 1 \ttrue: 4\n",
            "pred: 6 \ttrue: 9\n",
            "pred: 1 \ttrue: 2\n",
            "pred: 1 \ttrue: 5\n",
            "pred: 1 \ttrue: 4\n",
            "pred: 1 \ttrue: 7\n",
            "pred: 7 \ttrue: 6\n",
            "pred: 7 \ttrue: 7\n",
            "pred: 6 \ttrue: 9\n",
            "pred: 6 \ttrue: 0\n",
            "pred: 1 \ttrue: 5\n",
            "pred: 1 \ttrue: 8\n",
            "pred: 6 \ttrue: 5\n",
            "pred: 1 \ttrue: 6\n",
            "pred: 1 \ttrue: 6\n",
            "pred: 6 \ttrue: 5\n",
            "pred: 1 \ttrue: 7\n",
            "pred: 6 \ttrue: 8\n",
            "pred: 6 \ttrue: 1\n",
            "pred: 5 \ttrue: 0\n",
            "pred: 6 \ttrue: 1\n",
            "pred: 1 \ttrue: 6\n",
            "pred: 1 \ttrue: 4\n",
            "pred: 4 \ttrue: 6\n",
            "pred: 0 \ttrue: 7\n",
            "pred: 1 \ttrue: 3\n",
            "pred: 6 \ttrue: 1\n",
            "pred: 7 \ttrue: 7\n",
            "pred: 7 \ttrue: 1\n",
            "pred: 5 \ttrue: 8\n",
            "pred: 0 \ttrue: 2\n",
            "pred: 6 \ttrue: 0\n",
            "pred: 1 \ttrue: 2\n",
            "pred: 7 \ttrue: 9\n",
            "pred: 1 \ttrue: 9\n",
            "pred: 1 \ttrue: 5\n",
            "pred: 6 \ttrue: 5\n",
            "pred: 1 \ttrue: 1\n",
            "pred: 1 \ttrue: 5\n",
            "pred: 0 \ttrue: 6\n",
            "pred: 7 \ttrue: 0\n",
            "pred: 1 \ttrue: 3\n",
            "pred: 1 \ttrue: 4\n",
            "pred: 6 \ttrue: 4\n",
            "pred: 7 \ttrue: 6\n",
            "pred: 5 \ttrue: 5\n",
            "pred: 1 \ttrue: 4\n",
            "pred: 6 \ttrue: 6\n",
            "pred: 6 \ttrue: 5\n",
            "pred: 1 \ttrue: 4\n",
            "pred: 6 \ttrue: 5\n",
            "pred: 6 \ttrue: 1\n",
            "pred: 6 \ttrue: 4\n",
            "pred: 7 \ttrue: 4\n",
            "pred: 6 \ttrue: 7\n",
            "pred: 6 \ttrue: 2\n",
            "pred: 6 \ttrue: 3\n",
            "pred: 7 \ttrue: 2\n",
            "pred: 5 \ttrue: 7\n",
            "pred: 6 \ttrue: 1\n",
            "pred: 5 \ttrue: 8\n",
            "pred: 6 \ttrue: 1\n",
            "pred: 6 \ttrue: 8\n",
            "pred: 6 \ttrue: 1\n",
            "pred: 6 \ttrue: 8\n",
            "pred: 7 \ttrue: 5\n",
            "pred: 4 \ttrue: 0\n",
            "pred: 6 \ttrue: 8\n",
            "pred: 1 \ttrue: 9\n",
            "pred: 6 \ttrue: 2\n",
            "pred: 5 \ttrue: 5\n",
            "pred: 6 \ttrue: 0\n",
            "pred: 7 \ttrue: 1\n",
            "pred: 6 \ttrue: 1\n",
            "pred: 1 \ttrue: 1\n",
            "pred: 1 \ttrue: 0\n",
            "pred: 1 \ttrue: 9\n",
            "pred: 6 \ttrue: 0\n",
            "pred: 1 \ttrue: 3\n",
            "pred: 6 \ttrue: 1\n",
            "pred: 6 \ttrue: 6\n",
            "pred: 7 \ttrue: 4\n",
            "pred: 6 \ttrue: 2\n",
            "pred: 6 \ttrue: 3\n",
            "pred: 9 \ttrue: 6\n",
            "pred: 6 \ttrue: 1\n",
            "pred: 6 \ttrue: 1\n",
            "pred: 6 \ttrue: 1\n",
            "pred: 4 \ttrue: 3\n",
            "pred: 7 \ttrue: 9\n",
            "pred: 5 \ttrue: 5\n",
            "pred: 6 \ttrue: 2\n",
            "pred: 6 \ttrue: 9\n",
            "pred: 6 \ttrue: 4\n",
            "pred: 6 \ttrue: 5\n",
            "pred: 1 \ttrue: 9\n",
            "pred: 6 \ttrue: 3\n",
            "pred: 7 \ttrue: 9\n",
            "pred: 6 \ttrue: 0\n",
            "pred: 2 \ttrue: 3\n",
            "pred: 6 \ttrue: 6\n",
            "pred: 6 \ttrue: 5\n",
            "pred: 6 \ttrue: 5\n",
            "pred: 7 \ttrue: 7\n",
            "pred: 7 \ttrue: 2\n",
            "pred: 6 \ttrue: 2\n",
            "pred: 6 \ttrue: 7\n",
            "pred: 6 \ttrue: 1\n",
            "pred: 1 \ttrue: 2\n",
            "pred: 1 \ttrue: 8\n",
            "pred: 1 \ttrue: 4\n",
            "pred: 6 \ttrue: 1\n",
            "pred: 6 \ttrue: 7\n",
            "pred: 6 \ttrue: 3\n",
            "pred: 6 \ttrue: 3\n",
            "pred: 1 \ttrue: 8\n",
            "pred: 5 \ttrue: 8\n",
            "pred: 1 \ttrue: 7\n",
            "pred: 6 \ttrue: 9\n",
            "pred: 1 \ttrue: 2\n",
            "pred: 6 \ttrue: 2\n",
            "pred: 6 \ttrue: 4\n",
            "pred: 6 \ttrue: 1\n",
            "pred: 6 \ttrue: 5\n",
            "pred: 6 \ttrue: 9\n",
            "pred: 1 \ttrue: 8\n",
            "pred: 1 \ttrue: 7\n",
            "pred: 1 \ttrue: 2\n",
            "pred: 2 \ttrue: 3\n",
            "pred: 1 \ttrue: 0\n",
            "pred: 4 \ttrue: 4\n",
            "pred: 1 \ttrue: 4\n",
            "pred: 6 \ttrue: 2\n",
            "pred: 1 \ttrue: 4\n",
            "pred: 6 \ttrue: 1\n",
            "pred: 1 \ttrue: 9\n",
            "pred: 6 \ttrue: 5\n",
            "pred: 7 \ttrue: 7\n",
            "pred: 1 \ttrue: 7\n",
            "pred: 6 \ttrue: 2\n",
            "pred: 1 \ttrue: 8\n",
            "pred: 7 \ttrue: 2\n",
            "pred: 9 \ttrue: 6\n",
            "pred: 6 \ttrue: 8\n",
            "pred: 6 \ttrue: 5\n",
            "pred: 1 \ttrue: 7\n",
            "pred: 1 \ttrue: 7\n",
            "pred: 6 \ttrue: 9\n",
            "pred: 6 \ttrue: 1\n",
            "pred: 6 \ttrue: 8\n",
            "pred: 6 \ttrue: 1\n",
            "pred: 1 \ttrue: 8\n",
            "pred: 5 \ttrue: 0\n",
            "pred: 6 \ttrue: 3\n",
            "pred: 7 \ttrue: 0\n",
            "pred: 6 \ttrue: 1\n",
            "pred: 7 \ttrue: 9\n",
            "pred: 7 \ttrue: 9\n",
            "pred: 8 \ttrue: 4\n",
            "pred: 6 \ttrue: 1\n",
            "pred: 7 \ttrue: 8\n",
            "pred: 1 \ttrue: 2\n",
            "pred: 6 \ttrue: 1\n",
            "pred: 6 \ttrue: 2\n",
            "pred: 6 \ttrue: 9\n",
            "pred: 7 \ttrue: 7\n",
            "pred: 6 \ttrue: 5\n",
            "pred: 8 \ttrue: 9\n",
            "pred: 1 \ttrue: 2\n",
            "pred: 1 \ttrue: 6\n",
            "pred: 6 \ttrue: 4\n",
            "pred: 6 \ttrue: 1\n",
            "pred: 1 \ttrue: 5\n",
            "pred: 6 \ttrue: 8\n",
            "pred: 6 \ttrue: 2\n",
            "pred: 6 \ttrue: 9\n",
            "pred: 7 \ttrue: 2\n",
            "pred: 6 \ttrue: 0\n",
            "pred: 6 \ttrue: 4\n",
            "pred: 9 \ttrue: 0\n",
            "pred: 6 \ttrue: 0\n",
            "pred: 6 \ttrue: 2\n",
            "pred: 1 \ttrue: 8\n",
            "pred: 6 \ttrue: 4\n",
            "pred: 1 \ttrue: 7\n",
            "pred: 6 \ttrue: 1\n",
            "pred: 1 \ttrue: 2\n",
            "pred: 6 \ttrue: 4\n",
            "pred: 4 \ttrue: 0\n",
            "pred: 1 \ttrue: 2\n",
            "pred: 6 \ttrue: 7\n",
            "pred: 1 \ttrue: 4\n",
            "pred: 1 \ttrue: 3\n",
            "pred: 1 \ttrue: 3\n",
            "pred: 1 \ttrue: 0\n",
            "pred: 4 \ttrue: 0\n",
            "pred: 7 \ttrue: 3\n",
            "pred: 6 \ttrue: 1\n",
            "pred: 7 \ttrue: 9\n",
            "pred: 6 \ttrue: 6\n",
            "pred: 6 \ttrue: 5\n",
            "pred: 6 \ttrue: 2\n",
            "pred: 6 \ttrue: 5\n",
            "pred: 7 \ttrue: 9\n",
            "pred: 6 \ttrue: 2\n",
            "pred: 6 \ttrue: 9\n",
            "pred: 7 \ttrue: 3\n",
            "pred: 6 \ttrue: 0\n",
            "pred: 1 \ttrue: 4\n",
            "pred: 6 \ttrue: 2\n",
            "pred: 4 \ttrue: 0\n",
            "pred: 1 \ttrue: 7\n",
            "pred: 6 \ttrue: 1\n",
            "pred: 6 \ttrue: 1\n",
            "pred: 7 \ttrue: 2\n",
            "pred: 6 \ttrue: 1\n",
            "pred: 7 \ttrue: 5\n",
            "pred: 6 \ttrue: 3\n",
            "pred: 1 \ttrue: 3\n",
            "pred: 1 \ttrue: 9\n",
            "pred: 4 \ttrue: 7\n",
            "pred: 6 \ttrue: 8\n",
            "pred: 1 \ttrue: 6\n",
            "pred: 6 \ttrue: 5\n",
            "pred: 1 \ttrue: 6\n",
            "pred: 6 \ttrue: 1\n",
            "pred: 6 \ttrue: 3\n",
            "pred: 1 \ttrue: 8\n",
            "pred: 6 \ttrue: 1\n",
            "pred: 6 \ttrue: 0\n",
            "pred: 1 \ttrue: 5\n",
            "pred: 6 \ttrue: 1\n",
            "pred: 7 \ttrue: 3\n",
            "pred: 7 \ttrue: 1\n",
            "pred: 5 \ttrue: 5\n",
            "pred: 6 \ttrue: 5\n",
            "pred: 1 \ttrue: 6\n",
            "pred: 6 \ttrue: 1\n",
            "pred: 6 \ttrue: 8\n",
            "pred: 6 \ttrue: 5\n",
            "pred: 7 \ttrue: 1\n",
            "pred: 6 \ttrue: 7\n",
            "pred: 7 \ttrue: 9\n",
            "pred: 1 \ttrue: 4\n",
            "pred: 6 \ttrue: 6\n",
            "pred: 2 \ttrue: 2\n",
            "pred: 6 \ttrue: 2\n",
            "pred: 5 \ttrue: 5\n",
            "pred: 4 \ttrue: 0\n",
            "pred: 6 \ttrue: 6\n",
            "pred: 1 \ttrue: 5\n",
            "pred: 7 \ttrue: 6\n",
            "pred: 2 \ttrue: 3\n",
            "pred: 1 \ttrue: 7\n",
            "pred: 6 \ttrue: 2\n",
            "pred: 6 \ttrue: 0\n",
            "pred: 6 \ttrue: 8\n",
            "pred: 7 \ttrue: 8\n",
            "pred: 1 \ttrue: 5\n",
            "pred: 1 \ttrue: 4\n",
            "pred: 6 \ttrue: 1\n",
            "pred: 6 \ttrue: 1\n",
            "pred: 5 \ttrue: 4\n",
            "pred: 6 \ttrue: 0\n",
            "pred: 1 \ttrue: 3\n",
            "pred: 4 \ttrue: 3\n",
            "pred: 6 \ttrue: 7\n",
            "pred: 1 \ttrue: 6\n",
            "pred: 6 \ttrue: 1\n",
            "pred: 6 \ttrue: 6\n",
            "pred: 1 \ttrue: 2\n",
            "pred: 1 \ttrue: 1\n",
            "pred: 7 \ttrue: 9\n",
            "pred: 6 \ttrue: 2\n",
            "pred: 5 \ttrue: 8\n",
            "pred: 7 \ttrue: 6\n",
            "pred: 6 \ttrue: 1\n",
            "pred: 7 \ttrue: 9\n",
            "pred: 6 \ttrue: 5\n",
            "pred: 1 \ttrue: 2\n",
            "pred: 7 \ttrue: 5\n",
            "pred: 5 \ttrue: 4\n",
            "pred: 1 \ttrue: 4\n",
            "pred: 1 \ttrue: 2\n",
            "pred: 6 \ttrue: 8\n",
            "pred: 6 \ttrue: 3\n",
            "pred: 6 \ttrue: 8\n",
            "pred: 9 \ttrue: 2\n",
            "pred: 1 \ttrue: 4\n",
            "pred: 6 \ttrue: 5\n",
            "pred: 6 \ttrue: 0\n",
            "pred: 6 \ttrue: 3\n",
            "pred: 6 \ttrue: 1\n",
            "pred: 7 \ttrue: 7\n",
            "pred: 6 \ttrue: 7\n",
            "pred: 6 \ttrue: 5\n",
            "pred: 5 \ttrue: 7\n",
            "pred: 1 \ttrue: 9\n",
            "pred: 7 \ttrue: 7\n",
            "pred: 6 \ttrue: 1\n",
            "pred: 1 \ttrue: 9\n",
            "pred: 7 \ttrue: 2\n",
            "pred: 6 \ttrue: 1\n",
            "pred: 7 \ttrue: 4\n",
            "pred: 1 \ttrue: 2\n",
            "pred: 1 \ttrue: 9\n",
            "pred: 1 \ttrue: 2\n",
            "pred: 9 \ttrue: 0\n",
            "pred: 6 \ttrue: 4\n",
            "pred: 6 \ttrue: 9\n",
            "pred: 6 \ttrue: 1\n",
            "pred: 6 \ttrue: 4\n",
            "pred: 1 \ttrue: 8\n",
            "pred: 6 \ttrue: 1\n",
            "pred: 5 \ttrue: 8\n",
            "pred: 7 \ttrue: 4\n",
            "pred: 1 \ttrue: 5\n",
            "pred: 6 \ttrue: 9\n",
            "pred: 5 \ttrue: 8\n",
            "pred: 5 \ttrue: 8\n",
            "pred: 1 \ttrue: 3\n",
            "pred: 5 \ttrue: 7\n",
            "pred: 1 \ttrue: 6\n",
            "pred: 6 \ttrue: 0\n",
            "pred: 4 \ttrue: 0\n",
            "pred: 7 \ttrue: 3\n",
            "pred: 4 \ttrue: 0\n",
            "pred: 6 \ttrue: 2\n",
            "pred: 6 \ttrue: 6\n",
            "pred: 6 \ttrue: 6\n",
            "pred: 1 \ttrue: 4\n",
            "pred: 6 \ttrue: 9\n",
            "pred: 7 \ttrue: 3\n",
            "pred: 7 \ttrue: 3\n",
            "pred: 7 \ttrue: 3\n",
            "pred: 6 \ttrue: 2\n",
            "pred: 4 \ttrue: 3\n",
            "pred: 1 \ttrue: 9\n",
            "pred: 6 \ttrue: 1\n",
            "pred: 6 \ttrue: 2\n",
            "pred: 6 \ttrue: 6\n",
            "pred: 7 \ttrue: 8\n",
            "pred: 1 \ttrue: 0\n",
            "pred: 7 \ttrue: 5\n",
            "pred: 0 \ttrue: 6\n",
            "pred: 7 \ttrue: 6\n",
            "pred: 7 \ttrue: 6\n",
            "pred: 5 \ttrue: 3\n",
            "pred: 6 \ttrue: 8\n",
            "pred: 4 \ttrue: 8\n",
            "pred: 6 \ttrue: 2\n",
            "pred: 5 \ttrue: 7\n",
            "pred: 1 \ttrue: 5\n",
            "pred: 1 \ttrue: 8\n",
            "pred: 6 \ttrue: 9\n",
            "pred: 1 \ttrue: 6\n",
            "pred: 7 \ttrue: 1\n",
            "pred: 1 \ttrue: 8\n",
            "pred: 6 \ttrue: 4\n",
            "pred: 6 \ttrue: 1\n",
            "pred: 6 \ttrue: 2\n",
            "pred: 1 \ttrue: 5\n",
            "pred: 6 \ttrue: 9\n",
            "pred: 6 \ttrue: 1\n",
            "pred: 7 \ttrue: 9\n",
            "pred: 7 \ttrue: 7\n",
            "pred: 6 \ttrue: 5\n",
            "pred: 1 \ttrue: 4\n",
            "pred: 6 \ttrue: 0\n",
            "pred: 7 \ttrue: 8\n",
            "pred: 9 \ttrue: 9\n",
            "pred: 7 \ttrue: 9\n",
            "pred: 6 \ttrue: 1\n",
            "pred: 1 \ttrue: 0\n",
            "pred: 6 \ttrue: 5\n",
            "pred: 6 \ttrue: 2\n",
            "pred: 6 \ttrue: 3\n",
            "pred: 1 \ttrue: 7\n",
            "pred: 6 \ttrue: 8\n",
            "pred: 5 \ttrue: 9\n",
            "pred: 7 \ttrue: 4\n",
            "pred: 5 \ttrue: 0\n",
            "pred: 1 \ttrue: 6\n",
            "pred: 6 \ttrue: 3\n",
            "pred: 7 \ttrue: 9\n",
            "pred: 6 \ttrue: 5\n",
            "pred: 1 \ttrue: 2\n",
            "pred: 6 \ttrue: 1\n",
            "pred: 6 \ttrue: 3\n",
            "pred: 6 \ttrue: 1\n",
            "pred: 1 \ttrue: 3\n",
            "pred: 1 \ttrue: 6\n",
            "pred: 6 \ttrue: 5\n",
            "pred: 7 \ttrue: 7\n",
            "pred: 8 \ttrue: 4\n",
            "pred: 6 \ttrue: 2\n",
            "pred: 1 \ttrue: 2\n",
            "pred: 6 \ttrue: 6\n",
            "pred: 7 \ttrue: 3\n",
            "pred: 6 \ttrue: 2\n",
            "pred: 6 \ttrue: 6\n",
            "pred: 7 \ttrue: 5\n",
            "pred: 6 \ttrue: 4\n",
            "pred: 0 \ttrue: 8\n",
            "pred: 6 \ttrue: 9\n",
            "pred: 1 \ttrue: 7\n",
            "pred: 2 \ttrue: 1\n",
            "pred: 1 \ttrue: 3\n",
            "pred: 4 \ttrue: 0\n",
            "pred: 6 \ttrue: 3\n",
            "pred: 1 \ttrue: 8\n",
            "pred: 7 \ttrue: 3\n",
            "pred: 6 \ttrue: 1\n",
            "pred: 6 \ttrue: 9\n",
            "pred: 1 \ttrue: 3\n",
            "pred: 1 \ttrue: 4\n",
            "pred: 1 \ttrue: 4\n",
            "pred: 7 \ttrue: 6\n",
            "pred: 7 \ttrue: 4\n",
            "pred: 1 \ttrue: 2\n",
            "pred: 6 \ttrue: 1\n",
            "pred: 6 \ttrue: 8\n",
            "pred: 6 \ttrue: 2\n",
            "pred: 6 \ttrue: 5\n",
            "pred: 1 \ttrue: 4\n",
            "pred: 1 \ttrue: 8\n",
            "pred: 1 \ttrue: 8\n",
            "pred: 7 \ttrue: 4\n",
            "pred: 7 \ttrue: 0\n",
            "pred: 5 \ttrue: 0\n",
            "pred: 6 \ttrue: 2\n",
            "pred: 1 \ttrue: 3\n",
            "pred: 1 \ttrue: 2\n",
            "pred: 7 \ttrue: 7\n",
            "pred: 1 \ttrue: 7\n",
            "pred: 1 \ttrue: 0\n",
            "pred: 2 \ttrue: 8\n",
            "pred: 1 \ttrue: 7\n",
            "pred: 1 \ttrue: 4\n",
            "pred: 1 \ttrue: 4\n",
            "pred: 7 \ttrue: 7\n",
            "pred: 7 \ttrue: 9\n",
            "pred: 1 \ttrue: 6\n",
            "pred: 6 \ttrue: 9\n",
            "pred: 6 \ttrue: 0\n",
            "pred: 6 \ttrue: 9\n",
            "pred: 7 \ttrue: 8\n",
            "pred: 5 \ttrue: 0\n",
            "pred: 7 \ttrue: 4\n",
            "pred: 6 \ttrue: 6\n",
            "pred: 2 \ttrue: 0\n",
            "pred: 7 \ttrue: 6\n",
            "pred: 1 \ttrue: 3\n",
            "pred: 6 \ttrue: 5\n",
            "pred: 1 \ttrue: 4\n",
            "pred: 7 \ttrue: 8\n",
            "pred: 6 \ttrue: 3\n",
            "pred: 6 \ttrue: 3\n",
            "pred: 1 \ttrue: 9\n",
            "pred: 1 \ttrue: 3\n",
            "pred: 6 \ttrue: 3\n",
            "pred: 7 \ttrue: 3\n",
            "pred: 4 \ttrue: 7\n",
            "pred: 6 \ttrue: 8\n",
            "pred: 1 \ttrue: 0\n",
            "pred: 6 \ttrue: 8\n",
            "pred: 6 \ttrue: 2\n",
            "pred: 6 \ttrue: 1\n",
            "pred: 1 \ttrue: 7\n",
            "pred: 6 \ttrue: 0\n",
            "pred: 6 \ttrue: 6\n",
            "pred: 4 \ttrue: 5\n",
            "pred: 6 \ttrue: 4\n",
            "pred: 6 \ttrue: 3\n",
            "pred: 1 \ttrue: 8\n",
            "pred: 6 \ttrue: 0\n",
            "pred: 7 \ttrue: 9\n",
            "pred: 7 \ttrue: 6\n",
            "pred: 1 \ttrue: 3\n",
            "pred: 5 \ttrue: 8\n",
            "pred: 9 \ttrue: 0\n",
            "pred: 7 \ttrue: 9\n",
            "pred: 1 \ttrue: 9\n",
            "pred: 7 \ttrue: 6\n",
            "pred: 5 \ttrue: 8\n",
            "pred: 6 \ttrue: 6\n",
            "pred: 5 \ttrue: 8\n",
            "pred: 1 \ttrue: 5\n",
            "pred: 1 \ttrue: 7\n",
            "pred: 4 \ttrue: 8\n",
            "pred: 6 \ttrue: 6\n",
            "pred: 6 \ttrue: 0\n",
            "pred: 2 \ttrue: 2\n",
            "pred: 1 \ttrue: 4\n",
            "pred: 1 \ttrue: 0\n",
            "pred: 1 \ttrue: 2\n",
            "pred: 6 \ttrue: 2\n",
            "pred: 6 \ttrue: 3\n",
            "pred: 6 \ttrue: 1\n",
            "pred: 7 \ttrue: 9\n",
            "pred: 6 \ttrue: 7\n",
            "pred: 4 \ttrue: 5\n",
            "pred: 1 \ttrue: 1\n",
            "pred: 4 \ttrue: 0\n",
            "pred: 7 \ttrue: 8\n",
            "pred: 1 \ttrue: 4\n",
            "pred: 1 \ttrue: 6\n",
            "pred: 6 \ttrue: 2\n",
            "pred: 1 \ttrue: 6\n",
            "pred: 7 \ttrue: 7\n",
            "pred: 6 \ttrue: 9\n",
            "pred: 7 \ttrue: 3\n",
            "pred: 6 \ttrue: 2\n",
            "pred: 1 \ttrue: 9\n",
            "pred: 7 \ttrue: 8\n",
            "pred: 7 \ttrue: 2\n",
            "pred: 6 \ttrue: 2\n",
            "pred: 7 \ttrue: 9\n",
            "pred: 6 \ttrue: 2\n",
            "pred: 1 \ttrue: 7\n",
            "pred: 2 \ttrue: 3\n",
            "pred: 6 \ttrue: 5\n",
            "pred: 6 \ttrue: 9\n",
            "pred: 7 \ttrue: 1\n",
            "pred: 6 \ttrue: 8\n",
            "pred: 9 \ttrue: 0\n",
            "pred: 0 \ttrue: 2\n",
            "pred: 9 \ttrue: 0\n",
            "pred: 1 \ttrue: 5\n",
            "pred: 7 \ttrue: 2\n",
            "pred: 6 \ttrue: 1\n",
            "pred: 1 \ttrue: 3\n",
            "pred: 6 \ttrue: 7\n",
            "pred: 1 \ttrue: 6\n",
            "pred: 7 \ttrue: 7\n",
            "pred: 6 \ttrue: 1\n",
            "pred: 1 \ttrue: 2\n",
            "pred: 6 \ttrue: 5\n",
            "pred: 1 \ttrue: 8\n",
            "pred: 1 \ttrue: 0\n",
            "pred: 5 \ttrue: 3\n",
            "pred: 2 \ttrue: 7\n",
            "pred: 7 \ttrue: 2\n",
            "pred: 1 \ttrue: 4\n",
            "pred: 1 \ttrue: 0\n",
            "pred: 7 \ttrue: 9\n",
            "pred: 6 \ttrue: 1\n",
            "pred: 6 \ttrue: 8\n",
            "pred: 0 \ttrue: 6\n",
            "pred: 7 \ttrue: 7\n",
            "pred: 2 \ttrue: 7\n",
            "pred: 6 \ttrue: 4\n",
            "pred: 1 \ttrue: 3\n",
            "pred: 1 \ttrue: 4\n",
            "pred: 7 \ttrue: 9\n",
            "pred: 6 \ttrue: 1\n",
            "pred: 9 \ttrue: 9\n",
            "pred: 7 \ttrue: 5\n",
            "pred: 6 \ttrue: 1\n",
            "pred: 4 \ttrue: 7\n",
            "pred: 6 \ttrue: 3\n",
            "pred: 1 \ttrue: 9\n",
            "pred: 1 \ttrue: 7\n",
            "pred: 7 \ttrue: 6\n",
            "pred: 7 \ttrue: 9\n",
            "pred: 6 \ttrue: 1\n",
            "pred: 1 \ttrue: 3\n",
            "pred: 1 \ttrue: 7\n",
            "pred: 1 \ttrue: 8\n",
            "pred: 1 \ttrue: 3\n",
            "pred: 1 \ttrue: 3\n",
            "pred: 1 \ttrue: 6\n",
            "pred: 1 \ttrue: 7\n",
            "pred: 1 \ttrue: 2\n",
            "pred: 1 \ttrue: 8\n",
            "pred: 6 \ttrue: 5\n",
            "pred: 1 \ttrue: 8\n",
            "pred: 6 \ttrue: 5\n",
            "pred: 6 \ttrue: 1\n",
            "pred: 6 \ttrue: 1\n",
            "pred: 1 \ttrue: 4\n",
            "pred: 1 \ttrue: 4\n",
            "pred: 7 \ttrue: 3\n",
            "pred: 7 \ttrue: 1\n",
            "pred: 6 \ttrue: 0\n",
            "pred: 5 \ttrue: 7\n",
            "pred: 1 \ttrue: 7\n",
            "pred: 1 \ttrue: 0\n",
            "pred: 1 \ttrue: 7\n",
            "pred: 1 \ttrue: 9\n",
            "pred: 1 \ttrue: 4\n",
            "pred: 6 \ttrue: 4\n",
            "pred: 6 \ttrue: 8\n",
            "pred: 1 \ttrue: 5\n",
            "pred: 6 \ttrue: 5\n",
            "pred: 1 \ttrue: 4\n",
            "pred: 5 \ttrue: 0\n",
            "pred: 6 \ttrue: 8\n",
            "pred: 6 \ttrue: 2\n",
            "pred: 6 \ttrue: 1\n",
            "pred: 9 \ttrue: 0\n",
            "pred: 7 \ttrue: 8\n",
            "pred: 4 \ttrue: 4\n",
            "pred: 2 \ttrue: 5\n",
            "pred: 3 \ttrue: 0\n",
            "pred: 1 \ttrue: 4\n",
            "pred: 6 \ttrue: 0\n",
            "pred: 7 \ttrue: 6\n",
            "pred: 6 \ttrue: 1\n",
            "pred: 7 \ttrue: 7\n",
            "pred: 7 \ttrue: 3\n",
            "pred: 2 \ttrue: 2\n",
            "pred: 6 \ttrue: 6\n",
            "pred: 7 \ttrue: 7\n",
            "pred: 1 \ttrue: 2\n",
            "pred: 1 \ttrue: 6\n",
            "pred: 1 \ttrue: 9\n",
            "pred: 1 \ttrue: 3\n",
            "pred: 6 \ttrue: 1\n",
            "pred: 1 \ttrue: 4\n",
            "pred: 1 \ttrue: 6\n",
            "pred: 4 \ttrue: 2\n",
            "pred: 6 \ttrue: 5\n",
            "pred: 6 \ttrue: 4\n",
            "pred: 2 \ttrue: 2\n",
            "pred: 9 \ttrue: 0\n",
            "pred: 1 \ttrue: 6\n",
            "pred: 1 \ttrue: 2\n",
            "pred: 6 \ttrue: 1\n",
            "pred: 1 \ttrue: 7\n",
            "pred: 6 \ttrue: 3\n",
            "pred: 1 \ttrue: 4\n",
            "pred: 6 \ttrue: 1\n",
            "pred: 6 \ttrue: 0\n",
            "pred: 5 \ttrue: 5\n",
            "pred: 1 \ttrue: 4\n",
            "pred: 1 \ttrue: 3\n",
            "pred: 6 \ttrue: 1\n",
            "pred: 7 \ttrue: 1\n",
            "pred: 6 \ttrue: 7\n",
            "pred: 1 \ttrue: 4\n",
            "pred: 7 \ttrue: 9\n",
            "pred: 7 \ttrue: 9\n",
            "pred: 6 \ttrue: 4\n",
            "pred: 6 \ttrue: 8\n",
            "pred: 0 \ttrue: 4\n",
            "pred: 6 \ttrue: 0\n",
            "pred: 7 \ttrue: 2\n",
            "pred: 1 \ttrue: 4\n",
            "pred: 1 \ttrue: 5\n",
            "pred: 6 \ttrue: 1\n",
            "pred: 6 \ttrue: 1\n",
            "pred: 7 \ttrue: 6\n",
            "pred: 1 \ttrue: 4\n",
            "pred: 1 \ttrue: 7\n",
            "pred: 6 \ttrue: 1\n",
            "pred: 6 \ttrue: 9\n",
            "pred: 6 \ttrue: 4\n",
            "pred: 0 \ttrue: 2\n",
            "pred: 7 \ttrue: 4\n",
            "pred: 1 \ttrue: 1\n",
            "pred: 5 \ttrue: 5\n",
            "pred: 6 \ttrue: 5\n",
            "pred: 6 \ttrue: 3\n",
            "pred: 1 \ttrue: 8\n",
            "pred: 1 \ttrue: 3\n",
            "pred: 6 \ttrue: 1\n",
            "pred: 7 \ttrue: 4\n",
            "pred: 5 \ttrue: 5\n",
            "pred: 1 \ttrue: 6\n",
            "pred: 2 \ttrue: 8\n",
            "pred: 7 \ttrue: 9\n",
            "pred: 6 \ttrue: 4\n",
            "pred: 6 \ttrue: 1\n",
            "pred: 1 \ttrue: 5\n",
            "pred: 1 \ttrue: 3\n",
            "pred: 7 \ttrue: 8\n",
            "pred: 4 \ttrue: 0\n",
            "pred: 1 \ttrue: 3\n",
            "pred: 6 \ttrue: 2\n",
            "pred: 1 \ttrue: 5\n",
            "pred: 1 \ttrue: 1\n",
            "pred: 6 \ttrue: 2\n",
            "pred: 6 \ttrue: 8\n",
            "pred: 1 \ttrue: 3\n",
            "pred: 7 \ttrue: 4\n",
            "pred: 6 \ttrue: 4\n",
            "pred: 4 \ttrue: 0\n",
            "pred: 6 \ttrue: 8\n",
            "pred: 1 \ttrue: 8\n",
            "pred: 6 \ttrue: 3\n",
            "pred: 6 \ttrue: 3\n",
            "pred: 2 \ttrue: 1\n",
            "pred: 4 \ttrue: 7\n",
            "pred: 6 \ttrue: 3\n",
            "pred: 6 \ttrue: 5\n",
            "pred: 5 \ttrue: 9\n",
            "pred: 7 \ttrue: 6\n",
            "pred: 6 \ttrue: 3\n",
            "pred: 6 \ttrue: 2\n",
            "pred: 9 \ttrue: 6\n",
            "pred: 6 \ttrue: 1\n",
            "pred: 6 \ttrue: 3\n",
            "pred: 1 \ttrue: 6\n",
            "pred: 6 \ttrue: 0\n",
            "pred: 7 \ttrue: 7\n",
            "pred: 6 \ttrue: 2\n",
            "pred: 6 \ttrue: 1\n",
            "pred: 7 \ttrue: 7\n",
            "pred: 6 \ttrue: 1\n",
            "pred: 2 \ttrue: 4\n",
            "pred: 6 \ttrue: 2\n",
            "pred: 1 \ttrue: 4\n",
            "pred: 1 \ttrue: 2\n",
            "pred: 6 \ttrue: 1\n",
            "pred: 1 \ttrue: 7\n",
            "pred: 1 \ttrue: 9\n",
            "pred: 7 \ttrue: 6\n",
            "pred: 1 \ttrue: 1\n",
            "pred: 6 \ttrue: 1\n",
            "pred: 1 \ttrue: 2\n",
            "pred: 6 \ttrue: 4\n",
            "pred: 6 \ttrue: 8\n",
            "pred: 6 \ttrue: 1\n",
            "pred: 1 \ttrue: 7\n",
            "pred: 6 \ttrue: 7\n",
            "pred: 1 \ttrue: 4\n",
            "pred: 4 \ttrue: 8\n",
            "pred: 1 \ttrue: 0\n",
            "pred: 5 \ttrue: 7\n",
            "pred: 2 \ttrue: 3\n",
            "pred: 6 \ttrue: 1\n",
            "pred: 2 \ttrue: 3\n",
            "pred: 6 \ttrue: 1\n",
            "pred: 6 \ttrue: 0\n",
            "pred: 7 \ttrue: 7\n",
            "pred: 6 \ttrue: 7\n",
            "pred: 5 \ttrue: 0\n",
            "pred: 1 \ttrue: 3\n",
            "pred: 1 \ttrue: 5\n",
            "pred: 1 \ttrue: 5\n",
            "pred: 1 \ttrue: 2\n",
            "pred: 1 \ttrue: 7\n",
            "pred: 1 \ttrue: 6\n",
            "pred: 7 \ttrue: 6\n",
            "pred: 1 \ttrue: 9\n",
            "pred: 7 \ttrue: 2\n",
            "pred: 6 \ttrue: 8\n",
            "pred: 6 \ttrue: 3\n",
            "pred: 1 \ttrue: 5\n",
            "pred: 6 \ttrue: 2\n",
            "pred: 1 \ttrue: 2\n",
            "pred: 6 \ttrue: 5\n",
            "pred: 6 \ttrue: 6\n",
            "pred: 9 \ttrue: 0\n",
            "pred: 5 \ttrue: 8\n",
            "pred: 4 \ttrue: 2\n",
            "pred: 1 \ttrue: 9\n",
            "pred: 6 \ttrue: 2\n",
            "pred: 1 \ttrue: 8\n",
            "pred: 2 \ttrue: 8\n",
            "pred: 2 \ttrue: 8\n",
            "pred: 1 \ttrue: 8\n",
            "pred: 1 \ttrue: 7\n",
            "pred: 6 \ttrue: 4\n",
            "pred: 2 \ttrue: 9\n",
            "pred: 1 \ttrue: 3\n",
            "pred: 7 \ttrue: 0\n",
            "pred: 7 \ttrue: 6\n",
            "pred: 1 \ttrue: 6\n",
            "pred: 6 \ttrue: 3\n",
            "pred: 2 \ttrue: 2\n",
            "pred: 6 \ttrue: 1\n",
            "pred: 1 \ttrue: 3\n",
            "pred: 2 \ttrue: 2\n",
            "pred: 1 \ttrue: 2\n",
            "pred: 7 \ttrue: 9\n",
            "pred: 6 \ttrue: 3\n",
            "pred: 6 \ttrue: 0\n",
            "pred: 4 \ttrue: 0\n",
            "pred: 6 \ttrue: 5\n",
            "pred: 6 \ttrue: 7\n",
            "pred: 6 \ttrue: 8\n",
            "pred: 6 \ttrue: 1\n",
            "pred: 2 \ttrue: 4\n",
            "pred: 1 \ttrue: 4\n",
            "pred: 7 \ttrue: 6\n",
            "pred: 1 \ttrue: 0\n",
            "pred: 6 \ttrue: 2\n",
            "pred: 1 \ttrue: 9\n",
            "pred: 6 \ttrue: 1\n",
            "pred: 6 \ttrue: 4\n",
            "pred: 1 \ttrue: 7\n",
            "pred: 7 \ttrue: 4\n",
            "pred: 5 \ttrue: 7\n",
            "pred: 6 \ttrue: 3\n",
            "pred: 8 \ttrue: 9\n",
            "pred: 6 \ttrue: 8\n",
            "pred: 6 \ttrue: 8\n",
            "pred: 1 \ttrue: 4\n",
            "pred: 1 \ttrue: 7\n",
            "pred: 6 \ttrue: 1\n",
            "pred: 7 \ttrue: 2\n",
            "pred: 7 \ttrue: 1\n",
            "pred: 7 \ttrue: 2\n",
            "pred: 6 \ttrue: 2\n",
            "pred: 6 \ttrue: 3\n",
            "pred: 4 \ttrue: 2\n",
            "pred: 6 \ttrue: 3\n",
            "pred: 1 \ttrue: 2\n",
            "pred: 0 \ttrue: 3\n",
            "pred: 1 \ttrue: 9\n",
            "pred: 6 \ttrue: 1\n",
            "pred: 5 \ttrue: 7\n",
            "pred: 1 \ttrue: 4\n",
            "pred: 6 \ttrue: 0\n",
            "pred: 6 \ttrue: 3\n",
            "pred: 6 \ttrue: 5\n",
            "pred: 1 \ttrue: 5\n",
            "pred: 7 \ttrue: 8\n",
            "pred: 1 \ttrue: 6\n",
            "pred: 6 \ttrue: 3\n",
            "pred: 6 \ttrue: 2\n",
            "pred: 6 \ttrue: 6\n",
            "pred: 1 \ttrue: 7\n",
            "pred: 7 \ttrue: 6\n",
            "pred: 6 \ttrue: 6\n",
            "pred: 7 \ttrue: 3\n",
            "pred: 6 \ttrue: 2\n",
            "pred: 7 \ttrue: 7\n",
            "pred: 1 \ttrue: 8\n",
            "pred: 6 \ttrue: 1\n",
            "pred: 6 \ttrue: 1\n",
            "pred: 7 \ttrue: 7\n",
            "pred: 6 \ttrue: 5\n",
            "pred: 0 \ttrue: 6\n",
            "pred: 6 \ttrue: 4\n",
            "pred: 2 \ttrue: 9\n",
            "pred: 7 \ttrue: 5\n",
            "pred: 6 \ttrue: 1\n",
            "pred: 6 \ttrue: 3\n",
            "pred: 6 \ttrue: 3\n",
            "pred: 6 \ttrue: 4\n",
            "pred: 7 \ttrue: 7\n",
            "pred: 6 \ttrue: 8\n",
            "pred: 1 \ttrue: 9\n",
            "pred: 1 \ttrue: 1\n",
            "pred: 6 \ttrue: 1\n",
            "pred: 6 \ttrue: 6\n",
            "pred: 6 \ttrue: 9\n",
            "pred: 6 \ttrue: 1\n",
            "pred: 1 \ttrue: 4\n",
            "pred: 6 \ttrue: 4\n",
            "pred: 5 \ttrue: 5\n",
            "pred: 1 \ttrue: 4\n",
            "pred: 9 \ttrue: 0\n",
            "pred: 1 \ttrue: 6\n",
            "pred: 7 \ttrue: 2\n",
            "pred: 2 \ttrue: 2\n",
            "pred: 5 \ttrue: 3\n",
            "pred: 6 \ttrue: 1\n",
            "pred: 6 \ttrue: 5\n",
            "pred: 1 \ttrue: 1\n",
            "pred: 1 \ttrue: 2\n",
            "pred: 4 \ttrue: 0\n",
            "pred: 6 \ttrue: 3\n",
            "pred: 6 \ttrue: 8\n",
            "pred: 6 \ttrue: 1\n",
            "pred: 6 \ttrue: 2\n",
            "pred: 1 \ttrue: 6\n",
            "pred: 6 \ttrue: 7\n",
            "pred: 7 \ttrue: 1\n",
            "pred: 4 \ttrue: 6\n",
            "pred: 1 \ttrue: 2\n",
            "pred: 6 \ttrue: 3\n",
            "pred: 1 \ttrue: 9\n",
            "pred: 6 \ttrue: 0\n",
            "pred: 7 \ttrue: 1\n",
            "pred: 1 \ttrue: 2\n",
            "pred: 6 \ttrue: 2\n",
            "pred: 9 \ttrue: 0\n",
            "pred: 1 \ttrue: 8\n",
            "pred: 1 \ttrue: 9\n",
            "CPU times: user 1.25 s, sys: 860 ms, total: 2.11 s\n",
            "Wall time: 1.19 s\n"
          ]
        }
      ]
    },
    {
      "cell_type": "markdown",
      "source": [
        "###### Confusion Matrix"
      ],
      "metadata": {
        "id": "nyoSYVo-_psT"
      }
    },
    {
      "cell_type": "code",
      "source": [
        "confusion_matrix = metrics.confusion_matrix(y_actual, y_predicted)\n",
        "# print(confusion_matrix)"
      ],
      "metadata": {
        "id": "FY6ZVW4491ez"
      },
      "execution_count": 115,
      "outputs": []
    },
    {
      "cell_type": "code",
      "source": [
        "# based on https://www.statology.org/confusion-matrix-python/\n",
        "\n",
        "y_actual = pd.Series(y_actual, name='Actual')\n",
        "y_predicted = pd.Series(y_predicted, name='Predicted')\n",
        "\n",
        "#create confusion matrix\n",
        "print(pd.crosstab(y_actual, y_predicted))"
      ],
      "metadata": {
        "colab": {
          "base_uri": "https://localhost:8080/"
        },
        "id": "4aFbP0Ei91p3",
        "outputId": "5b52cce0-c7c2-4ef6-f102-7bdd90ceb2d1"
      },
      "execution_count": 116,
      "outputs": [
        {
          "output_type": "stream",
          "name": "stdout",
          "text": [
            "Predicted  0   1  2  3   4   5   6   7  8   9\n",
            "Actual                                       \n",
            "0          0  14  1  1  13   8  31   4  0  13\n",
            "1          0  11  2  0   0   0  98  15  0   0\n",
            "2          3  37  7  0   3   0  50  15  0   1\n",
            "3          1  30  8  0   4   3  44  17  0   0\n",
            "4          1  57  2  0   2   2  29  15  2   0\n",
            "5          0  23  1  0   2   9  45   7  0   0\n",
            "6          5  31  0  0   2   0  23  23  0   3\n",
            "7          1  33  3  0   4  10  21  27  0   0\n",
            "8          1  26  4  0   3  11  33  11  0   0\n",
            "9          0  25  2  1   0   2  29  30  3   2\n"
          ]
        }
      ]
    },
    {
      "cell_type": "code",
      "source": [
        "# based on https://www.w3schools.com/python/python_ml_confusion_matrix.asp\n",
        "\n",
        "cm_display = metrics.ConfusionMatrixDisplay(\n",
        "    confusion_matrix = confusion_matrix, \n",
        "    display_labels = [0, 1, 2, 3, 4, 5, 6, 7, 8, 9])\n",
        "cm_display.plot()\n",
        "plt.show()"
      ],
      "metadata": {
        "colab": {
          "base_uri": "https://localhost:8080/",
          "height": 279
        },
        "id": "M3KMCNp291is",
        "outputId": "e964ed6b-b472-4a15-9590-a017334bf165"
      },
      "execution_count": 117,
      "outputs": [
        {
          "output_type": "display_data",
          "data": {
            "text/plain": [
              "<Figure size 432x288 with 2 Axes>"
            ],
            "image/png": "[encoded data removed]"
          },
          "metadata": {
            "needs_background": "light"
          }
        }
      ]
    },
    {
      "cell_type": "code",
      "source": [
        "y_err = y_predicted[ y_predicted != y_actual ]\n",
        "y_err[:20]"
      ],
      "metadata": {
        "colab": {
          "base_uri": "https://localhost:8080/"
        },
        "id": "G4dPZmYhVSNo",
        "outputId": "a6a04c24-467e-4cc3-fb17-56185c97a82f"
      },
      "execution_count": 118,
      "outputs": [
        {
          "output_type": "execute_result",
          "data": {
            "text/plain": [
              "0     6\n",
              "1     6\n",
              "2     6\n",
              "3     6\n",
              "4     1\n",
              "5     6\n",
              "6     1\n",
              "7     6\n",
              "8     6\n",
              "9     7\n",
              "10    9\n",
              "11    1\n",
              "12    1\n",
              "13    6\n",
              "14    6\n",
              "15    6\n",
              "16    7\n",
              "17    2\n",
              "18    2\n",
              "19    7\n",
              "Name: Predicted, dtype: int64"
            ]
          },
          "metadata": {},
          "execution_count": 118
        }
      ]
    },
    {
      "cell_type": "markdown",
      "source": [
        "#### Error Rate\n",
        "\n",
        "\"o valor da taxa de erro (calculada como o número de todas as previsões incorretas dividido pelo número total do conjunto de dados. A melhor taxa de erro é 0, enquanto a pior é 1.)\""
      ],
      "metadata": {
        "id": "cc8H-HcXYpuG"
      }
    },
    {
      "cell_type": "code",
      "source": [
        "error_rate = len(y_err) / total_examples_test\n",
        "print( f'error_rate: {error_rate:.3}' )"
      ],
      "metadata": {
        "colab": {
          "base_uri": "https://localhost:8080/"
        },
        "id": "znrDYWkRYugM",
        "outputId": "5a409351-5ef9-4634-a2cc-e91ffa637b51"
      },
      "execution_count": 119,
      "outputs": [
        {
          "output_type": "stream",
          "name": "stdout",
          "text": [
            "error_rate: 0.919\n"
          ]
        }
      ]
    },
    {
      "cell_type": "code",
      "source": [
        "error_rate_percentage = len(y_err) / total_examples_test * 100\n",
        "print( f'error_rate_percentage: {error_rate_percentage:.3}%' )"
      ],
      "metadata": {
        "colab": {
          "base_uri": "https://localhost:8080/"
        },
        "id": "4GdIEPBFVwVe",
        "outputId": "625c8150-fdfd-4103-ccde-c3e2294ad50d"
      },
      "execution_count": 120,
      "outputs": [
        {
          "output_type": "stream",
          "name": "stdout",
          "text": [
            "error_rate_percentage: 91.9%\n"
          ]
        }
      ]
    }
  ]
}