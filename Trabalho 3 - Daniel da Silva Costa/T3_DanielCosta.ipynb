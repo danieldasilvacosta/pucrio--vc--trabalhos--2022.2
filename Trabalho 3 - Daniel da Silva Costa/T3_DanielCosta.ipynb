{
  "nbformat": 4,
  "nbformat_minor": 0,
  "metadata": {
    "colab": {
      "provenance": [],
      "collapsed_sections": [],
      "toc_visible": true
    },
    "kernelspec": {
      "name": "python3",
      "display_name": "Python 3"
    },
    "language_info": {
      "name": "python"
    }
  },
  "cells": [
    {
      "cell_type": "markdown",
      "source": [
        "# Trabalho 3\n",
        "Descrição do trabalho:\n",
        "\n",
        "http://webserver2.tecgraf.puc-rio.br/~mgattass/visao/trb/T3.html\n",
        "\n",
        "Aluno: Daniel da Silva Costa\n",
        "\n",
        "E-mail: danieldasilvacosta@gmail.com"
      ],
      "metadata": {
        "id": "yRPDSJgl5066"
      }
    },
    {
      "cell_type": "markdown",
      "source": [
        "### Imports"
      ],
      "metadata": {
        "id": "kXpKGbGz8FJ7"
      }
    },
    {
      "cell_type": "code",
      "source": [
        "import numpy as np\n",
        "import matplotlib.pyplot as plt\n",
        "from mpl_toolkits.mplot3d import Axes3D\n",
        "import time\n",
        "from keras.datasets import mnist\n",
        "from keras.utils import np_utils\n",
        "from sklearn import metrics\n",
        "import pandas as pd"
      ],
      "metadata": {
        "id": "O9jx1Ztl8ID7"
      },
      "execution_count": 1,
      "outputs": []
    },
    {
      "cell_type": "markdown",
      "source": [
        "### Using the Numpy (OLD)"
      ],
      "metadata": {
        "id": "VGmsgRtP8283"
      }
    },
    {
      "cell_type": "markdown",
      "source": [
        "<!-- #### Funções de ativação -->"
      ],
      "metadata": {
        "id": "Y8fXUF_2-lVY"
      }
    },
    {
      "cell_type": "code",
      "source": [
        "# def tanh(x):\n",
        "#   return np.tanh(x)\n",
        "\n",
        "# def tanh_prime(x):\n",
        "#   return 1-np.tanh(x)**2"
      ],
      "metadata": {
        "id": "ejfGb6st9Cai"
      },
      "execution_count": 2,
      "outputs": []
    },
    {
      "cell_type": "code",
      "source": [
        "# def sigmoid(x):\n",
        "#   return 1/(1+np.exp(-x))\n",
        "\n",
        "# def sigmoid_prime(x):\n",
        "#   s = 1/(1+np.exp(-x))\n",
        "#   ds = s*(1-s)\n",
        "#   return ds"
      ],
      "metadata": {
        "id": "CnkdF7aw9CjL"
      },
      "execution_count": 3,
      "outputs": []
    },
    {
      "cell_type": "code",
      "source": [
        "# def relu(x):\n",
        "#   return np.maximum(0,x)\n",
        "\n",
        "# def relu_prime(x):\n",
        "#   return (x>0).astype(x.dtype)"
      ],
      "metadata": {
        "id": "Anph_pJR9CqE"
      },
      "execution_count": 4,
      "outputs": []
    },
    {
      "cell_type": "markdown",
      "source": [
        "<!-- #### Função loss -->"
      ],
      "metadata": {
        "id": "A2X3VCHE-iYN"
      }
    },
    {
      "cell_type": "code",
      "execution_count": 5,
      "metadata": {
        "id": "UYJmw7CS5xBR"
      },
      "outputs": [],
      "source": [
        "# # loss function and its derivative\n",
        "# def mse(y_true, y_pred):\n",
        "#   return np.mean(np.power(y_true-y_pred, 2))"
      ]
    },
    {
      "cell_type": "code",
      "source": [
        "# def mse_prime(y_true, y_pred):\n",
        "#   grad_output = 2*(y_pred-y_true)/y_true.size\n",
        "#   return grad_output"
      ],
      "metadata": {
        "id": "pVna32JL55C6"
      },
      "execution_count": 6,
      "outputs": []
    },
    {
      "cell_type": "markdown",
      "source": [
        "<!-- #### class Layer -->"
      ],
      "metadata": {
        "id": "My5ulsha-o5q"
      }
    },
    {
      "cell_type": "code",
      "source": [
        "# # Base class\n",
        "# class Layer:\n",
        "#   def __init__(self):\n",
        "#     self.input = None\n",
        "#     self.output = None\n",
        "\n",
        "#   # computes the output Y of a layer for a given input X\n",
        "#   def forward(self, input):\n",
        "#     raise NotImplementedError\n",
        "\n",
        "#   # computes dE/dX for a given dE/dY (and update parameters, if any)\n",
        "#   def backward(self, grad_output, learning_rate):\n",
        "#     raise NotImplementedError"
      ],
      "metadata": {
        "id": "oON88LkY55FY"
      },
      "execution_count": 7,
      "outputs": []
    },
    {
      "cell_type": "markdown",
      "source": [
        "<!-- #### class FCLayer(Layer) -->"
      ],
      "metadata": {
        "id": "-vqjZCnq-sUa"
      }
    },
    {
      "cell_type": "code",
      "source": [
        "# # inherit from base class Layer\n",
        "# class FCLayer(Layer):\n",
        "#   # input_size = number of input neurons\n",
        "#   # output_size = number of output neurons\n",
        "#   def __init__(self, input_size, output_size):\n",
        "#     self.weights = 2*np.random.rand(input_size, output_size) - 1.0\n",
        "#     self.bias = 2*np.random.rand(1, output_size) - 1.0\n",
        "\n",
        "#   # returns output for a given input\n",
        "#   def forward(self, input):\n",
        "#     self.input = input\n",
        "#     self.output = np.dot(input, self.weights) + self.bias\n",
        "#     return self.output\n",
        "\n",
        "#   # computes dE/dW, dE/dB for a given grad_output=dE/dY.\n",
        "#   # returns grad_input=dE/dX.\n",
        "#   # ajusta os pesos e bias em função da regra do\n",
        "#   # gradiente descendente\n",
        "#   def backward(self, grad_output, learning_rate):\n",
        "#     grad_input = np.dot(grad_output, self.weights.T)\n",
        "#     grad_weights = np.dot(self.input.T, grad_output)\n",
        "#     grad_bias = grad_output\n",
        "\n",
        "#     # update parameters\n",
        "#     self.weights -= learning_rate * grad_weights\n",
        "#     # self.bias -= learning_rate * grad_bias\n",
        "#     self.bias = self.bias - learning_rate * grad_bias\n",
        "#     return grad_input"
      ],
      "metadata": {
        "id": "oTyVVx0A55J-"
      },
      "execution_count": 8,
      "outputs": []
    },
    {
      "cell_type": "markdown",
      "source": [
        "<!-- #### class ActivationLayer(Layer) -->"
      ],
      "metadata": {
        "id": "1jq0yFhG-ywV"
      }
    },
    {
      "cell_type": "code",
      "source": [
        "# class ActivationLayer(Layer):\n",
        "#   def __init__(self, activation, activation_prime):\n",
        "#     self.activation = activation\n",
        "#     self.activation_prime = activation_prime\n",
        "\n",
        "#   # returns the activated input\n",
        "#   def forward(self, input):\n",
        "#     self.input = input\n",
        "#     self.output = self.activation(self.input)\n",
        "#     return self.output\n",
        "\n",
        "#   # Returns grad_input=dE/dX given grad_output=dE/dY.\n",
        "#   # learning_rate is not used because there is no \"learnable\" parameters.\n",
        "#   def backward(self, grad_output, learning_rate):\n",
        "#     return self.activation_prime(self.input) * grad_output"
      ],
      "metadata": {
        "id": "yok3m0ub55QJ"
      },
      "execution_count": 9,
      "outputs": []
    },
    {
      "cell_type": "markdown",
      "source": [
        "<!-- #### class Network -->"
      ],
      "metadata": {
        "id": "a7r1j-lv-1nj"
      }
    },
    {
      "cell_type": "code",
      "source": [
        "# class Network:\n",
        "#   def __init__(self):\n",
        "#     self.layers = []\n",
        "#     self.loss = None\n",
        "#     self.loss_prime = None\n",
        "\n",
        "#   # add layer to network\n",
        "#   def add(self, layer):\n",
        "#     self.layers.append(layer)\n",
        "\n",
        "#   # set loss to use\n",
        "#   def use(self, loss, loss_prime):\n",
        "#     self.loss = loss\n",
        "#     self.loss_prime = loss_prime\n",
        "\n",
        "#   # predict output for given input\n",
        "#   def predict(self, input_data):\n",
        "#     # sample dimension first\n",
        "#     # n_samples = len(input_data)\n",
        "#     n_samples = input_data.shape[0]#daniel\n",
        "#     result = []\n",
        "    \n",
        "#     #   # run network over all n_samples\n",
        "#     # for i in range(n_samples):\n",
        "    \n",
        "#     #   # forward propagation\n",
        "#     #   output = input_data[i]\n",
        "#     #   for layer in self.layers:\n",
        "#     #     output = layer.forward(output)        \n",
        "#     #   result.append(output)\n",
        "\n",
        "#     #daniel\n",
        "#     for j in range(n_samples):\n",
        "\n",
        "#       # forward propagation\n",
        "#       output = input_data[j]\n",
        "#       for layer in self.layers:\n",
        "#         output = layer.forward(output)\n",
        "        \n",
        "#       result.append(output)\n",
        "\n",
        "#     return result\n",
        "#     # return result[-1]\n",
        "\n",
        "#   # train the network\n",
        "#   def fit(self, x_train, y_train, epochs, learning_rate):\n",
        "#     n_samples = x_train.shape[0]\n",
        "    \n",
        "#     # training loop\n",
        "#     for i in range(epochs):\n",
        "#       err = 0\n",
        "#       for j in range(n_samples):\n",
        "\n",
        "#         # forward propagation\n",
        "#         output = x_train[j]\n",
        "#         for layer in self.layers:\n",
        "#           output = layer.forward(output)\n",
        "\n",
        "#         # compute loss (for display purpose only)\n",
        "#         err += self.loss(y_train[j], output)\n",
        "\n",
        "#         # backward propagation\n",
        "#         grad_out = self.loss_prime(y_train[j], output)\n",
        "#         for layer in reversed(self.layers):\n",
        "#           grad_out = layer.backward(grad_out, learning_rate)\n",
        "\n",
        "#       if i % 500 == 0:\n",
        "#         # calculate average error on all samples\n",
        "#         err /= n_samples\n",
        "#         print(f'epoch {i+1}/{epochs} error={err:.3f}')"
      ],
      "metadata": {
        "id": "1evNVPXU55Wr"
      },
      "execution_count": 10,
      "outputs": []
    },
    {
      "cell_type": "markdown",
      "source": [
        "<!-- #### Treinamento -->"
      ],
      "metadata": {
        "id": "MfNBMV0I-3Fd"
      }
    },
    {
      "cell_type": "code",
      "source": [
        "# x_train = np.array( [1, 2, 3, 4, 5] )\n",
        "# y_train = np.array( [2, 4, 6, 8, 10] )"
      ],
      "metadata": {
        "id": "AX3_DSCc55ZF"
      },
      "execution_count": 11,
      "outputs": []
    },
    {
      "cell_type": "code",
      "source": [
        "# input_size = len(x_train)\n",
        "# output_size = 5 # output_size = m = number of weights\n",
        "\n",
        "# network = Network()\n",
        "# network.add( FCLayer(input_size, output_size) )\n",
        "# network.add( ActivationLayer(sigmoid, sigmoid_prime) )\n",
        "# network.add( FCLayer(output_size, 1) ) #daniel\n",
        "# # network.add( ActivationLayer(sigmoid, sigmoid_prime) ) #daniel\n",
        "\n",
        "# network.use( mse, mse_prime )\n",
        "# network.fit(x_train, \n",
        "#             y_train, \n",
        "#             epochs = 10000, \n",
        "#             learning_rate = 1e-3)"
      ],
      "metadata": {
        "id": "jMxtReIr-YGf"
      },
      "execution_count": 12,
      "outputs": []
    },
    {
      "cell_type": "markdown",
      "source": [
        "<!-- #### Predição -->"
      ],
      "metadata": {
        "id": "donU5AaYLYC2"
      }
    },
    {
      "cell_type": "code",
      "source": [
        "# x_test = np.array( [6, 7, 8, 9, 10] )\n",
        "# y_test = np.array( [12, 14, 16, 18, 20] )"
      ],
      "metadata": {
        "id": "rw9ySzug-YI9"
      },
      "execution_count": 13,
      "outputs": []
    },
    {
      "cell_type": "code",
      "source": [
        "# results = network.predict( x_test )\n",
        "# y_pred = results\n",
        "# y_pred"
      ],
      "metadata": {
        "id": "qpxbBw2B-YLc"
      },
      "execution_count": 14,
      "outputs": []
    },
    {
      "cell_type": "markdown",
      "source": [
        "### Using the Numpy"
      ],
      "metadata": {
        "id": "8JHDwTgFsMeT"
      }
    },
    {
      "cell_type": "markdown",
      "source": [
        "#### Loss Functions"
      ],
      "metadata": {
        "id": "m71Mxp2ivWRp"
      }
    },
    {
      "cell_type": "code",
      "source": [
        "def mse(y_true, y_pred):\n",
        "    return np.mean(np.power(y_true - y_pred, 2))\n",
        "\n",
        "def mse_prime(y_true, y_pred):\n",
        "    return 2 * (y_pred - y_true) / np.size(y_true)\n",
        "\n",
        "def binary_cross_entropy(y_true, y_pred):\n",
        "    return np.mean(-y_true * np.log(y_pred) - (1 - y_true) * np.log(1 - y_pred))\n",
        "\n",
        "def binary_cross_entropy_prime(y_true, y_pred):\n",
        "    return ((1 - y_true) / (1 - y_pred) - y_true / y_pred) / np.size(y_true)"
      ],
      "metadata": {
        "id": "ZCJ9iEfmtGmV"
      },
      "execution_count": 15,
      "outputs": []
    },
    {
      "cell_type": "markdown",
      "source": [
        "#### Layer"
      ],
      "metadata": {
        "id": "_6sFXydFvYuF"
      }
    },
    {
      "cell_type": "code",
      "source": [
        "class Layer:\n",
        "    def __init__(self):\n",
        "        self.input = None\n",
        "        self.output = None\n",
        "\n",
        "    def forward(self, input):\n",
        "        # TODO: return output\n",
        "        pass\n",
        "\n",
        "    def backward(self, output_gradient, learning_rate):\n",
        "        # TODO: update parameters and return input gradient\n",
        "        pass"
      ],
      "metadata": {
        "id": "q9tc-xPLtCyd"
      },
      "execution_count": 16,
      "outputs": []
    },
    {
      "cell_type": "markdown",
      "source": [
        "#### Activation Functions"
      ],
      "metadata": {
        "id": "A1YmoLev8onL"
      }
    },
    {
      "cell_type": "code",
      "source": [
        "def tanh(x):\n",
        "  return np.tanh(x)\n",
        "\n",
        "def tanh_prime(x):\n",
        "  return 1 - np.tanh(x) ** 2"
      ],
      "metadata": {
        "id": "KRJwZb3LzaD0"
      },
      "execution_count": 17,
      "outputs": []
    },
    {
      "cell_type": "code",
      "source": [
        "def sigmoid(x):\n",
        "  return 1/(1+np.exp(-x))\n",
        "\n",
        "def sigmoid_prime(x):\n",
        "  s = 1/(1+np.exp(-x))\n",
        "  ds = s*(1-s)\n",
        "  return ds"
      ],
      "metadata": {
        "id": "LH-43l1N6SoO"
      },
      "execution_count": 18,
      "outputs": []
    },
    {
      "cell_type": "code",
      "source": [
        "def relu(x):\n",
        "  return np.maximum(0,x)\n",
        "\n",
        "def relu_prime(x):\n",
        "  return (x>0).astype(x.dtype)"
      ],
      "metadata": {
        "id": "Dg0ucoe06SoO"
      },
      "execution_count": 19,
      "outputs": []
    },
    {
      "cell_type": "markdown",
      "source": [
        "#### Activation(Layer)"
      ],
      "metadata": {
        "id": "j1apvwBWvcs5"
      }
    },
    {
      "cell_type": "code",
      "source": [
        "class Activation(Layer):\n",
        "    def __init__(self, activation, activation_prime):\n",
        "        self.activation = activation\n",
        "        self.activation_prime = activation_prime\n",
        "\n",
        "    def forward(self, input):\n",
        "        self.input = input\n",
        "        return self.activation(self.input)\n",
        "\n",
        "    def backward(self, output_gradient, learning_rate):\n",
        "        return np.multiply(output_gradient, self.activation_prime(self.input))"
      ],
      "metadata": {
        "id": "l1pBLTS1t-hV"
      },
      "execution_count": 20,
      "outputs": []
    },
    {
      "cell_type": "markdown",
      "source": [
        "<!-- #### Tanh(Activation) -->"
      ],
      "metadata": {
        "id": "M0V1kBaUvfw1"
      }
    },
    {
      "cell_type": "code",
      "source": [
        "# class Tanh(Activation):\n",
        "#     def __init__(self):\n",
        "#         def tanh(x):\n",
        "#             return np.tanh(x)\n",
        "\n",
        "#         def tanh_prime(x):\n",
        "#             return 1 - np.tanh(x) ** 2\n",
        "\n",
        "#         super().__init__(tanh, tanh_prime)\n",
        "\n",
        "# class Sigmoid(Activation):\n",
        "#     def __init__(self):\n",
        "#         def sigmoid(x):\n",
        "#             return 1 / (1 + np.exp(-x))\n",
        "\n",
        "#         def sigmoid_prime(x):\n",
        "#             s = sigmoid(x)\n",
        "#             return s * (1 - s)\n",
        "\n",
        "#         super().__init__(sigmoid, sigmoid_prime)\n",
        "\n",
        "# class Softmax(Layer):\n",
        "#     def forward(self, input):\n",
        "#         tmp = np.exp(input)\n",
        "#         self.output = tmp / np.sum(tmp)\n",
        "#         return self.output\n",
        "    \n",
        "#     def backward(self, output_gradient, learning_rate):\n",
        "#         # This version is faster than the one presented in the video\n",
        "#         n = np.size(self.output)\n",
        "#         return np.dot((np.identity(n) - self.output.T) * self.output, output_gradient)\n",
        "#         # Original formula:\n",
        "#         # tmp = np.tile(self.output, n)\n",
        "#         # return np.dot(tmp * (np.identity(n) - np.transpose(tmp)), output_gradient)"
      ],
      "metadata": {
        "id": "kv4VyJQUsOr7"
      },
      "execution_count": 21,
      "outputs": []
    },
    {
      "cell_type": "markdown",
      "source": [
        "#### Dense(Layer)"
      ],
      "metadata": {
        "id": "E7ekyuq5vhIb"
      }
    },
    {
      "cell_type": "code",
      "source": [
        "class Dense(Layer):\n",
        "    def __init__(self, input_size, output_size):\n",
        "        self.weights = np.random.randn(output_size, input_size)\n",
        "        self.bias = np.random.randn(output_size, 1)\n",
        "\n",
        "    def forward(self, input):\n",
        "        self.input = input\n",
        "        return np.dot(self.weights, self.input) + self.bias\n",
        "\n",
        "    def backward(self, output_gradient, learning_rate):\n",
        "        weights_gradient = np.dot(output_gradient, self.input.T)\n",
        "        input_gradient = np.dot(self.weights.T, output_gradient)\n",
        "        self.weights -= learning_rate * weights_gradient\n",
        "        self.bias -= learning_rate * output_gradient\n",
        "        return input_gradient "
      ],
      "metadata": {
        "id": "jnwqfgZ1sOug"
      },
      "execution_count": 22,
      "outputs": []
    },
    {
      "cell_type": "markdown",
      "source": [
        "#### predict(...)"
      ],
      "metadata": {
        "id": "d3u673AxvoRy"
      }
    },
    {
      "cell_type": "code",
      "source": [
        "def predict(network, input):\n",
        "    output = input\n",
        "    for layer in network:\n",
        "        output = layer.forward(output)\n",
        "    return output"
      ],
      "metadata": {
        "id": "FwUcSfQ8sO0S"
      },
      "execution_count": 23,
      "outputs": []
    },
    {
      "cell_type": "markdown",
      "source": [
        "#### train(...)"
      ],
      "metadata": {
        "id": "1ed25mo3vkfg"
      }
    },
    {
      "cell_type": "code",
      "source": [
        "def train(network, loss, loss_prime, x_train, y_train, epochs = 1000, learning_rate = 0.01, verbose = True):\n",
        "    for e in range(epochs):\n",
        "        error = 0\n",
        "        for x, y in zip(x_train, y_train):\n",
        "            # forward\n",
        "            output = predict(network, x)\n",
        "\n",
        "            # error\n",
        "            error += loss(y, output)\n",
        "\n",
        "            # backward\n",
        "            grad = loss_prime(y, output)\n",
        "            for layer in reversed(network):\n",
        "                grad = layer.backward(grad, learning_rate)\n",
        "\n",
        "        error /= len(x_train)\n",
        "        if verbose:\n",
        "            if e % 100 == 0:\n",
        "                print(f\"{e}/{epochs}, error={error:.3}\")"
      ],
      "metadata": {
        "id": "RSvHgQcAsOwb"
      },
      "execution_count": 24,
      "outputs": []
    },
    {
      "cell_type": "markdown",
      "source": [
        "#### Example: XOR"
      ],
      "metadata": {
        "id": "VBi2gzj2tqRp"
      }
    },
    {
      "cell_type": "code",
      "source": [
        "X = np.reshape([[0, 0], [0, 1], [1, 0], [1, 1]], (4, 2, 1))\n",
        "Y = np.reshape([[0], [1], [1], [0]], (4, 1, 1))\n",
        "\n",
        "network = [\n",
        "    Dense(input_size = 2, \n",
        "          output_size = 3),\n",
        "    Activation(activation = tanh, \n",
        "               activation_prime = tanh_prime),\n",
        "    Dense(input_size = 3, \n",
        "          output_size = 1),\n",
        "    Activation(activation = tanh,\n",
        "               activation_prime = tanh_prime),\n",
        "]\n",
        "\n",
        "train(\n",
        "    network, \n",
        "    mse, \n",
        "    mse_prime, \n",
        "    X, \n",
        "    Y, \n",
        "    epochs=10000, \n",
        "    learning_rate=0.1)"
      ],
      "metadata": {
        "colab": {
          "base_uri": "https://localhost:8080/"
        },
        "id": "tBaIStgfsO8m",
        "outputId": "7383b02d-62a9-4287-862c-5ba5e26f2f24"
      },
      "execution_count": 25,
      "outputs": [
        {
          "output_type": "stream",
          "name": "stdout",
          "text": [
            "0/10000, error=0.81\n",
            "100/10000, error=0.00647\n",
            "200/10000, error=0.00199\n",
            "300/10000, error=0.00112\n",
            "400/10000, error=0.000769\n",
            "500/10000, error=0.00058\n",
            "600/10000, error=0.000464\n",
            "700/10000, error=0.000386\n",
            "800/10000, error=0.000329\n",
            "900/10000, error=0.000287\n",
            "1000/10000, error=0.000254\n",
            "1100/10000, error=0.000227\n",
            "1200/10000, error=0.000206\n",
            "1300/10000, error=0.000188\n",
            "1400/10000, error=0.000173\n",
            "1500/10000, error=0.00016\n",
            "1600/10000, error=0.000149\n",
            "1700/10000, error=0.000139\n",
            "1800/10000, error=0.00013\n",
            "1900/10000, error=0.000123\n",
            "2000/10000, error=0.000116\n",
            "2100/10000, error=0.00011\n",
            "2200/10000, error=0.000104\n",
            "2300/10000, error=9.92e-05\n",
            "2400/10000, error=9.47e-05\n",
            "2500/10000, error=9.05e-05\n",
            "2600/10000, error=8.67e-05\n",
            "2700/10000, error=8.32e-05\n",
            "2800/10000, error=7.99e-05\n",
            "2900/10000, error=7.69e-05\n",
            "3000/10000, error=7.41e-05\n",
            "3100/10000, error=7.15e-05\n",
            "3200/10000, error=6.91e-05\n",
            "3300/10000, error=6.68e-05\n",
            "3400/10000, error=6.47e-05\n",
            "3500/10000, error=6.27e-05\n",
            "3600/10000, error=6.08e-05\n",
            "3700/10000, error=5.9e-05\n",
            "3800/10000, error=5.74e-05\n",
            "3900/10000, error=5.58e-05\n",
            "4000/10000, error=5.43e-05\n",
            "4100/10000, error=5.28e-05\n",
            "4200/10000, error=5.15e-05\n",
            "4300/10000, error=5.02e-05\n",
            "4400/10000, error=4.9e-05\n",
            "4500/10000, error=4.78e-05\n",
            "4600/10000, error=4.67e-05\n",
            "4700/10000, error=4.56e-05\n",
            "4800/10000, error=4.46e-05\n",
            "4900/10000, error=4.36e-05\n",
            "5000/10000, error=4.27e-05\n",
            "5100/10000, error=4.18e-05\n",
            "5200/10000, error=4.09e-05\n",
            "5300/10000, error=4.01e-05\n",
            "5400/10000, error=3.93e-05\n",
            "5500/10000, error=3.85e-05\n",
            "5600/10000, error=3.78e-05\n",
            "5700/10000, error=3.71e-05\n",
            "5800/10000, error=3.64e-05\n",
            "5900/10000, error=3.57e-05\n",
            "6000/10000, error=3.51e-05\n",
            "6100/10000, error=3.45e-05\n",
            "6200/10000, error=3.39e-05\n",
            "6300/10000, error=3.33e-05\n",
            "6400/10000, error=3.28e-05\n",
            "6500/10000, error=3.22e-05\n",
            "6600/10000, error=3.17e-05\n",
            "6700/10000, error=3.12e-05\n",
            "6800/10000, error=3.07e-05\n",
            "6900/10000, error=3.02e-05\n",
            "7000/10000, error=2.98e-05\n",
            "7100/10000, error=2.93e-05\n",
            "7200/10000, error=2.89e-05\n",
            "7300/10000, error=2.85e-05\n",
            "7400/10000, error=2.81e-05\n",
            "7500/10000, error=2.77e-05\n",
            "7600/10000, error=2.73e-05\n",
            "7700/10000, error=2.69e-05\n",
            "7800/10000, error=2.65e-05\n",
            "7900/10000, error=2.62e-05\n",
            "8000/10000, error=2.58e-05\n",
            "8100/10000, error=2.55e-05\n",
            "8200/10000, error=2.52e-05\n",
            "8300/10000, error=2.49e-05\n",
            "8400/10000, error=2.45e-05\n",
            "8500/10000, error=2.42e-05\n",
            "8600/10000, error=2.39e-05\n",
            "8700/10000, error=2.36e-05\n",
            "8800/10000, error=2.34e-05\n",
            "8900/10000, error=2.31e-05\n",
            "9000/10000, error=2.28e-05\n",
            "9100/10000, error=2.25e-05\n",
            "9200/10000, error=2.23e-05\n",
            "9300/10000, error=2.2e-05\n",
            "9400/10000, error=2.18e-05\n",
            "9500/10000, error=2.15e-05\n",
            "9600/10000, error=2.13e-05\n",
            "9700/10000, error=2.11e-05\n",
            "9800/10000, error=2.08e-05\n",
            "9900/10000, error=2.06e-05\n"
          ]
        }
      ]
    },
    {
      "cell_type": "code",
      "source": [
        "# decision boundary plot\n",
        "points = []\n",
        "for x in np.linspace(0, 1, 20):\n",
        "    for y in np.linspace(0, 1, 20):\n",
        "        z = predict(network, [[x], [y]])\n",
        "        points.append([x, y, z[0,0]])\n",
        "\n",
        "points = np.array(points)\n",
        "\n",
        "fig = plt.figure()\n",
        "ax = fig.add_subplot(111, projection=\"3d\")\n",
        "ax.scatter(points[:, 0], points[:, 1], points[:, 2], c=points[:, 2], cmap=\"winter\")\n",
        "plt.show()"
      ],
      "metadata": {
        "colab": {
          "base_uri": "https://localhost:8080/",
          "height": 248
        },
        "id": "ENzQRzmRsO3M",
        "outputId": "e59adb5f-b660-4b96-f995-e38118318bac"
      },
      "execution_count": 26,
      "outputs": [
        {
          "output_type": "display_data",
          "data": {
            "text/plain": [
              "<Figure size 432x288 with 1 Axes>"
            ],
            "image/png": "[encoded data removed]"
          },
          "metadata": {
            "needs_background": "light"
          }
        }
      ]
    },
    {
      "cell_type": "markdown",
      "source": [
        "#### Example: MNIST"
      ],
      "metadata": {
        "id": "_OSZUaHL9zUh"
      }
    },
    {
      "cell_type": "code",
      "source": [
        "def preprocess_data(x, y, limit):\n",
        "    # reshape and normalize input data\n",
        "    x = x.reshape(x.shape[0], 28 * 28, 1)\n",
        "    x = x.astype(\"float32\") / 255\n",
        "    # encode output which is a number in range [0,9] into a vector of size 10\n",
        "    # e.g. number 3 will become [0, 0, 0, 1, 0, 0, 0, 0, 0, 0]\n",
        "    y = np_utils.to_categorical(y)\n",
        "    y = y.reshape(y.shape[0], 10, 1)\n",
        "    return x[:limit], y[:limit]"
      ],
      "metadata": {
        "id": "oVQI0CQLsO5_"
      },
      "execution_count": 27,
      "outputs": []
    },
    {
      "cell_type": "code",
      "source": [
        "# load MNIST from server\n",
        "(x_train, y_train), (x_test, y_test) = mnist.load_data()\n",
        "x_train, y_train = preprocess_data(x_train, y_train, 1000)\n",
        "x_test, y_test = preprocess_data(x_test, y_test, 20)"
      ],
      "metadata": {
        "id": "HMMN7BtI91TX"
      },
      "execution_count": 28,
      "outputs": []
    },
    {
      "cell_type": "code",
      "source": [
        "# neural network\n",
        "network = [\n",
        "    Dense(input_size = 28 * 28, \n",
        "          output_size = 40),\n",
        "    Activation(activation = tanh, \n",
        "               activation_prime = tanh_prime),\n",
        "    Dense(input_size = 40, \n",
        "          output_size = 10),\n",
        "    Activation(activation = tanh,\n",
        "               activation_prime = tanh_prime),\n",
        "]"
      ],
      "metadata": {
        "id": "eZP9rM_991Wp"
      },
      "execution_count": 29,
      "outputs": []
    },
    {
      "cell_type": "markdown",
      "source": [
        "##### Train"
      ],
      "metadata": {
        "id": "hn7CSFqEDCks"
      }
    },
    {
      "cell_type": "code",
      "source": [
        "%%time\n",
        "\n",
        "train(network, \n",
        "      mse, \n",
        "      mse_prime, \n",
        "      x_train, \n",
        "      y_train, \n",
        "      epochs=1000, \n",
        "      learning_rate=0.1)"
      ],
      "metadata": {
        "colab": {
          "base_uri": "https://localhost:8080/"
        },
        "id": "dwrW39Iv91ZN",
        "outputId": "924aed56-ef85-43f9-fd6e-001beba8ef6d"
      },
      "execution_count": 38,
      "outputs": [
        {
          "output_type": "stream",
          "name": "stdout",
          "text": [
            "0/1000, error=0.0695\n",
            "100/1000, error=0.055\n",
            "200/1000, error=0.0472\n",
            "300/1000, error=0.0437\n",
            "400/1000, error=0.041\n",
            "500/1000, error=0.039\n",
            "600/1000, error=0.0374\n",
            "700/1000, error=0.0351\n",
            "800/1000, error=0.0342\n",
            "900/1000, error=0.033\n"
          ]
        }
      ]
    },
    {
      "cell_type": "code",
      "source": [
        "# test\n",
        "y_predicted = list()\n",
        "y_actual = list()\n",
        "\n",
        "for x, y in zip(x_test, y_test):\n",
        "    output = predict(network, x)\n",
        "\n",
        "    y_predicted.append( np.argmax(output) )\n",
        "    y_actual.append( np.argmax(y) )\n",
        "\n",
        "    print('pred:', np.argmax(output), '\\ttrue:', np.argmax(y))"
      ],
      "metadata": {
        "colab": {
          "base_uri": "https://localhost:8080/"
        },
        "id": "8Y3vA1od91cb",
        "outputId": "48b9fd7c-76b8-419a-b885-a14ef6a5afd1"
      },
      "execution_count": 39,
      "outputs": [
        {
          "output_type": "stream",
          "name": "stdout",
          "text": [
            "pred: 7 \ttrue: 7\n",
            "pred: 2 \ttrue: 2\n",
            "pred: 1 \ttrue: 1\n",
            "pred: 6 \ttrue: 0\n",
            "pred: 4 \ttrue: 4\n",
            "pred: 1 \ttrue: 1\n",
            "pred: 4 \ttrue: 4\n",
            "pred: 9 \ttrue: 9\n",
            "pred: 5 \ttrue: 5\n",
            "pred: 9 \ttrue: 9\n",
            "pred: 0 \ttrue: 0\n",
            "pred: 8 \ttrue: 6\n",
            "pred: 4 \ttrue: 9\n",
            "pred: 0 \ttrue: 0\n",
            "pred: 1 \ttrue: 1\n",
            "pred: 1 \ttrue: 5\n",
            "pred: 7 \ttrue: 9\n",
            "pred: 7 \ttrue: 7\n",
            "pred: 5 \ttrue: 3\n",
            "pred: 4 \ttrue: 4\n"
          ]
        }
      ]
    },
    {
      "cell_type": "code",
      "source": [
        "y_actual"
      ],
      "metadata": {
        "colab": {
          "base_uri": "https://localhost:8080/"
        },
        "id": "d_yx2KaXAGv8",
        "outputId": "eaef7467-a11d-44a4-85a9-c9474b24d2a0"
      },
      "execution_count": 40,
      "outputs": [
        {
          "output_type": "execute_result",
          "data": {
            "text/plain": [
              "[7, 2, 1, 0, 4, 1, 4, 9, 5, 9, 0, 6, 9, 0, 1, 5, 9, 7, 3, 4]"
            ]
          },
          "metadata": {},
          "execution_count": 40
        }
      ]
    },
    {
      "cell_type": "code",
      "source": [
        "y_predicted"
      ],
      "metadata": {
        "colab": {
          "base_uri": "https://localhost:8080/"
        },
        "id": "jGPBqLLjAIso",
        "outputId": "efe74eb4-47e5-4af0-bcb2-0e60d987bdc4"
      },
      "execution_count": 41,
      "outputs": [
        {
          "output_type": "execute_result",
          "data": {
            "text/plain": [
              "[7, 2, 1, 6, 4, 1, 4, 9, 5, 9, 0, 8, 4, 0, 1, 1, 7, 7, 5, 4]"
            ]
          },
          "metadata": {},
          "execution_count": 41
        }
      ]
    },
    {
      "cell_type": "markdown",
      "source": [
        "##### Confusion Matrix"
      ],
      "metadata": {
        "id": "nyoSYVo-_psT"
      }
    },
    {
      "cell_type": "code",
      "source": [
        "confusion_matrix = metrics.confusion_matrix(y_actual, y_predicted)\n",
        "# print(confusion_matrix)"
      ],
      "metadata": {
        "id": "FY6ZVW4491ez"
      },
      "execution_count": 42,
      "outputs": []
    },
    {
      "cell_type": "code",
      "source": [
        "# based on https://www.statology.org/confusion-matrix-python/\n",
        "\n",
        "y_actual = pd.Series(y_actual, name='Actual')\n",
        "y_predicted = pd.Series(y_predicted, name='Predicted')\n",
        "\n",
        "#create confusion matrix\n",
        "print(pd.crosstab(y_actual, y_predicted))"
      ],
      "metadata": {
        "colab": {
          "base_uri": "https://localhost:8080/"
        },
        "id": "4aFbP0Ei91p3",
        "outputId": "2f0e9bce-b890-4a1f-c07d-371b835c737f"
      },
      "execution_count": 44,
      "outputs": [
        {
          "output_type": "stream",
          "name": "stdout",
          "text": [
            "Predicted  0  1  2  4  5  6  7  8  9\n",
            "Actual                              \n",
            "0          2  0  0  0  0  1  0  0  0\n",
            "1          0  3  0  0  0  0  0  0  0\n",
            "2          0  0  1  0  0  0  0  0  0\n",
            "3          0  0  0  0  1  0  0  0  0\n",
            "4          0  0  0  3  0  0  0  0  0\n",
            "5          0  1  0  0  1  0  0  0  0\n",
            "6          0  0  0  0  0  0  0  1  0\n",
            "7          0  0  0  0  0  0  2  0  0\n",
            "9          0  0  0  1  0  0  1  0  2\n"
          ]
        }
      ]
    },
    {
      "cell_type": "code",
      "source": [
        "# based on https://www.w3schools.com/python/python_ml_confusion_matrix.asp\n",
        "\n",
        "cm_display = metrics.ConfusionMatrixDisplay(\n",
        "    confusion_matrix = confusion_matrix, \n",
        "    display_labels = [0, 1, 2, 3, 4, 5, 6, 7, 8, 9])\n",
        "cm_display.plot()\n",
        "plt.show()"
      ],
      "metadata": {
        "colab": {
          "base_uri": "https://localhost:8080/",
          "height": 283
        },
        "id": "M3KMCNp291is",
        "outputId": "df56661b-3a24-4a09-81a9-7d35817a01cd"
      },
      "execution_count": 43,
      "outputs": [
        {
          "output_type": "display_data",
          "data": {
            "text/plain": [
              "<Figure size 432x288 with 2 Axes>"
            ],
            "image/png": "[encoded data removed]"
          },
          "metadata": {
            "needs_background": "light"
          }
        }
      ]
    }
  ]
}