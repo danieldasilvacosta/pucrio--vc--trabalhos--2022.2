{
  "nbformat": 4,
  "nbformat_minor": 0,
  "metadata": {
    "colab": {
      "provenance": [],
      "collapsed_sections": [],
      "toc_visible": true
    },
    "kernelspec": {
      "name": "python3",
      "display_name": "Python 3"
    },
    "language_info": {
      "name": "python"
    }
  },
  "cells": [
    {
      "cell_type": "markdown",
      "source": [
        "# Trabalho 3\n",
        "Descrição do trabalho:\n",
        "\n",
        "http://webserver2.tecgraf.puc-rio.br/~mgattass/visao/trb/T3.html\n",
        "\n",
        "Aluno: Daniel da Silva Costa\n",
        "\n",
        "E-mail: danieldasilvacosta@gmail.com"
      ],
      "metadata": {
        "id": "yRPDSJgl5066"
      }
    },
    {
      "cell_type": "markdown",
      "source": [
        "### Imports"
      ],
      "metadata": {
        "id": "kXpKGbGz8FJ7"
      }
    },
    {
      "cell_type": "code",
      "source": [
        "import numpy as np\n",
        "import matplotlib.pyplot as plt\n",
        "from mpl_toolkits.mplot3d import Axes3D\n",
        "import time"
      ],
      "metadata": {
        "id": "O9jx1Ztl8ID7"
      },
      "execution_count": 1,
      "outputs": []
    },
    {
      "cell_type": "markdown",
      "source": [
        "### Usando o Numpy (OLD)"
      ],
      "metadata": {
        "id": "VGmsgRtP8283"
      }
    },
    {
      "cell_type": "markdown",
      "source": [
        "<!-- #### Funções de ativação -->"
      ],
      "metadata": {
        "id": "Y8fXUF_2-lVY"
      }
    },
    {
      "cell_type": "code",
      "source": [
        "# def tanh(x):\n",
        "#   return np.tanh(x)\n",
        "\n",
        "# def tanh_prime(x):\n",
        "#   return 1-np.tanh(x)**2"
      ],
      "metadata": {
        "id": "ejfGb6st9Cai"
      },
      "execution_count": 2,
      "outputs": []
    },
    {
      "cell_type": "code",
      "source": [
        "# def sigmoid(x):\n",
        "#   return 1/(1+np.exp(-x))\n",
        "\n",
        "# def sigmoid_prime(x):\n",
        "#   s = 1/(1+np.exp(-x))\n",
        "#   ds = s*(1-s)\n",
        "#   return ds"
      ],
      "metadata": {
        "id": "CnkdF7aw9CjL"
      },
      "execution_count": 3,
      "outputs": []
    },
    {
      "cell_type": "code",
      "source": [
        "# def relu(x):\n",
        "#   return np.maximum(0,x)\n",
        "\n",
        "# def relu_prime(x):\n",
        "#   return (x>0).astype(x.dtype)"
      ],
      "metadata": {
        "id": "Anph_pJR9CqE"
      },
      "execution_count": 4,
      "outputs": []
    },
    {
      "cell_type": "markdown",
      "source": [
        "<!-- #### Função loss -->"
      ],
      "metadata": {
        "id": "A2X3VCHE-iYN"
      }
    },
    {
      "cell_type": "code",
      "execution_count": 5,
      "metadata": {
        "id": "UYJmw7CS5xBR"
      },
      "outputs": [],
      "source": [
        "# # loss function and its derivative\n",
        "# def mse(y_true, y_pred):\n",
        "#   return np.mean(np.power(y_true-y_pred, 2))"
      ]
    },
    {
      "cell_type": "code",
      "source": [
        "# def mse_prime(y_true, y_pred):\n",
        "#   grad_output = 2*(y_pred-y_true)/y_true.size\n",
        "#   return grad_output"
      ],
      "metadata": {
        "id": "pVna32JL55C6"
      },
      "execution_count": 6,
      "outputs": []
    },
    {
      "cell_type": "markdown",
      "source": [
        "<!-- #### class Layer -->"
      ],
      "metadata": {
        "id": "My5ulsha-o5q"
      }
    },
    {
      "cell_type": "code",
      "source": [
        "# # Base class\n",
        "# class Layer:\n",
        "#   def __init__(self):\n",
        "#     self.input = None\n",
        "#     self.output = None\n",
        "\n",
        "#   # computes the output Y of a layer for a given input X\n",
        "#   def forward(self, input):\n",
        "#     raise NotImplementedError\n",
        "\n",
        "#   # computes dE/dX for a given dE/dY (and update parameters, if any)\n",
        "#   def backward(self, grad_output, learning_rate):\n",
        "#     raise NotImplementedError"
      ],
      "metadata": {
        "id": "oON88LkY55FY"
      },
      "execution_count": 7,
      "outputs": []
    },
    {
      "cell_type": "markdown",
      "source": [
        "<!-- #### class FCLayer(Layer) -->"
      ],
      "metadata": {
        "id": "-vqjZCnq-sUa"
      }
    },
    {
      "cell_type": "code",
      "source": [
        "# # inherit from base class Layer\n",
        "# class FCLayer(Layer):\n",
        "#   # input_size = number of input neurons\n",
        "#   # output_size = number of output neurons\n",
        "#   def __init__(self, input_size, output_size):\n",
        "#     self.weights = 2*np.random.rand(input_size, output_size) - 1.0\n",
        "#     self.bias = 2*np.random.rand(1, output_size) - 1.0\n",
        "\n",
        "#   # returns output for a given input\n",
        "#   def forward(self, input):\n",
        "#     self.input = input\n",
        "#     self.output = np.dot(input, self.weights) + self.bias\n",
        "#     return self.output\n",
        "\n",
        "#   # computes dE/dW, dE/dB for a given grad_output=dE/dY.\n",
        "#   # returns grad_input=dE/dX.\n",
        "#   # ajusta os pesos e bias em função da regra do\n",
        "#   # gradiente descendente\n",
        "#   def backward(self, grad_output, learning_rate):\n",
        "#     grad_input = np.dot(grad_output, self.weights.T)\n",
        "#     grad_weights = np.dot(self.input.T, grad_output)\n",
        "#     grad_bias = grad_output\n",
        "\n",
        "#     # update parameters\n",
        "#     self.weights -= learning_rate * grad_weights\n",
        "#     # self.bias -= learning_rate * grad_bias\n",
        "#     self.bias = self.bias - learning_rate * grad_bias\n",
        "#     return grad_input"
      ],
      "metadata": {
        "id": "oTyVVx0A55J-"
      },
      "execution_count": 8,
      "outputs": []
    },
    {
      "cell_type": "markdown",
      "source": [
        "<!-- #### class ActivationLayer(Layer) -->"
      ],
      "metadata": {
        "id": "1jq0yFhG-ywV"
      }
    },
    {
      "cell_type": "code",
      "source": [
        "# class ActivationLayer(Layer):\n",
        "#   def __init__(self, activation, activation_prime):\n",
        "#     self.activation = activation\n",
        "#     self.activation_prime = activation_prime\n",
        "\n",
        "#   # returns the activated input\n",
        "#   def forward(self, input):\n",
        "#     self.input = input\n",
        "#     self.output = self.activation(self.input)\n",
        "#     return self.output\n",
        "\n",
        "#   # Returns grad_input=dE/dX given grad_output=dE/dY.\n",
        "#   # learning_rate is not used because there is no \"learnable\" parameters.\n",
        "#   def backward(self, grad_output, learning_rate):\n",
        "#     return self.activation_prime(self.input) * grad_output"
      ],
      "metadata": {
        "id": "yok3m0ub55QJ"
      },
      "execution_count": 9,
      "outputs": []
    },
    {
      "cell_type": "markdown",
      "source": [
        "<!-- #### class Network -->"
      ],
      "metadata": {
        "id": "a7r1j-lv-1nj"
      }
    },
    {
      "cell_type": "code",
      "source": [
        "# class Network:\n",
        "#   def __init__(self):\n",
        "#     self.layers = []\n",
        "#     self.loss = None\n",
        "#     self.loss_prime = None\n",
        "\n",
        "#   # add layer to network\n",
        "#   def add(self, layer):\n",
        "#     self.layers.append(layer)\n",
        "\n",
        "#   # set loss to use\n",
        "#   def use(self, loss, loss_prime):\n",
        "#     self.loss = loss\n",
        "#     self.loss_prime = loss_prime\n",
        "\n",
        "#   # predict output for given input\n",
        "#   def predict(self, input_data):\n",
        "#     # sample dimension first\n",
        "#     # n_samples = len(input_data)\n",
        "#     n_samples = input_data.shape[0]#daniel\n",
        "#     result = []\n",
        "    \n",
        "#     #   # run network over all n_samples\n",
        "#     # for i in range(n_samples):\n",
        "    \n",
        "#     #   # forward propagation\n",
        "#     #   output = input_data[i]\n",
        "#     #   for layer in self.layers:\n",
        "#     #     output = layer.forward(output)        \n",
        "#     #   result.append(output)\n",
        "\n",
        "#     #daniel\n",
        "#     for j in range(n_samples):\n",
        "\n",
        "#       # forward propagation\n",
        "#       output = input_data[j]\n",
        "#       for layer in self.layers:\n",
        "#         output = layer.forward(output)\n",
        "        \n",
        "#       result.append(output)\n",
        "\n",
        "#     return result\n",
        "#     # return result[-1]\n",
        "\n",
        "#   # train the network\n",
        "#   def fit(self, x_train, y_train, epochs, learning_rate):\n",
        "#     n_samples = x_train.shape[0]\n",
        "    \n",
        "#     # training loop\n",
        "#     for i in range(epochs):\n",
        "#       err = 0\n",
        "#       for j in range(n_samples):\n",
        "\n",
        "#         # forward propagation\n",
        "#         output = x_train[j]\n",
        "#         for layer in self.layers:\n",
        "#           output = layer.forward(output)\n",
        "\n",
        "#         # compute loss (for display purpose only)\n",
        "#         err += self.loss(y_train[j], output)\n",
        "\n",
        "#         # backward propagation\n",
        "#         grad_out = self.loss_prime(y_train[j], output)\n",
        "#         for layer in reversed(self.layers):\n",
        "#           grad_out = layer.backward(grad_out, learning_rate)\n",
        "\n",
        "#       if i % 500 == 0:\n",
        "#         # calculate average error on all samples\n",
        "#         err /= n_samples\n",
        "#         print(f'epoch {i+1}/{epochs} error={err:.3f}')"
      ],
      "metadata": {
        "id": "1evNVPXU55Wr"
      },
      "execution_count": 10,
      "outputs": []
    },
    {
      "cell_type": "markdown",
      "source": [
        "<!-- #### Treinamento -->"
      ],
      "metadata": {
        "id": "MfNBMV0I-3Fd"
      }
    },
    {
      "cell_type": "code",
      "source": [
        "# x_train = np.array( [1, 2, 3, 4, 5] )\n",
        "# y_train = np.array( [2, 4, 6, 8, 10] )"
      ],
      "metadata": {
        "id": "AX3_DSCc55ZF"
      },
      "execution_count": 11,
      "outputs": []
    },
    {
      "cell_type": "code",
      "source": [
        "# input_size = len(x_train)\n",
        "# output_size = 5 # output_size = m = number of weights\n",
        "\n",
        "# network = Network()\n",
        "# network.add( FCLayer(input_size, output_size) )\n",
        "# network.add( ActivationLayer(sigmoid, sigmoid_prime) )\n",
        "# network.add( FCLayer(output_size, 1) ) #daniel\n",
        "# # network.add( ActivationLayer(sigmoid, sigmoid_prime) ) #daniel\n",
        "\n",
        "# network.use( mse, mse_prime )\n",
        "# network.fit(x_train, \n",
        "#             y_train, \n",
        "#             epochs = 10000, \n",
        "#             learning_rate = 1e-3)"
      ],
      "metadata": {
        "id": "jMxtReIr-YGf"
      },
      "execution_count": 12,
      "outputs": []
    },
    {
      "cell_type": "markdown",
      "source": [
        "<!-- #### Predição -->"
      ],
      "metadata": {
        "id": "donU5AaYLYC2"
      }
    },
    {
      "cell_type": "code",
      "source": [
        "# x_test = np.array( [6, 7, 8, 9, 10] )\n",
        "# y_test = np.array( [12, 14, 16, 18, 20] )"
      ],
      "metadata": {
        "id": "rw9ySzug-YI9"
      },
      "execution_count": 13,
      "outputs": []
    },
    {
      "cell_type": "code",
      "source": [
        "# results = network.predict( x_test )\n",
        "# y_pred = results\n",
        "# y_pred"
      ],
      "metadata": {
        "id": "qpxbBw2B-YLc"
      },
      "execution_count": 14,
      "outputs": []
    },
    {
      "cell_type": "markdown",
      "source": [
        "### Usando o Numpy"
      ],
      "metadata": {
        "id": "8JHDwTgFsMeT"
      }
    },
    {
      "cell_type": "markdown",
      "source": [
        "#### Funções de erro"
      ],
      "metadata": {
        "id": "m71Mxp2ivWRp"
      }
    },
    {
      "cell_type": "code",
      "source": [
        "def mse(y_true, y_pred):\n",
        "    return np.mean(np.power(y_true - y_pred, 2))\n",
        "\n",
        "def mse_prime(y_true, y_pred):\n",
        "    return 2 * (y_pred - y_true) / np.size(y_true)\n",
        "\n",
        "def binary_cross_entropy(y_true, y_pred):\n",
        "    return np.mean(-y_true * np.log(y_pred) - (1 - y_true) * np.log(1 - y_pred))\n",
        "\n",
        "def binary_cross_entropy_prime(y_true, y_pred):\n",
        "    return ((1 - y_true) / (1 - y_pred) - y_true / y_pred) / np.size(y_true)"
      ],
      "metadata": {
        "id": "ZCJ9iEfmtGmV"
      },
      "execution_count": 15,
      "outputs": []
    },
    {
      "cell_type": "markdown",
      "source": [
        "#### class Layer"
      ],
      "metadata": {
        "id": "_6sFXydFvYuF"
      }
    },
    {
      "cell_type": "code",
      "source": [
        "class Layer:\n",
        "    def __init__(self):\n",
        "        self.input = None\n",
        "        self.output = None\n",
        "\n",
        "    def forward(self, input):\n",
        "        # TODO: return output\n",
        "        pass\n",
        "\n",
        "    def backward(self, output_gradient, learning_rate):\n",
        "        # TODO: update parameters and return input gradient\n",
        "        pass"
      ],
      "metadata": {
        "id": "q9tc-xPLtCyd"
      },
      "execution_count": 16,
      "outputs": []
    },
    {
      "cell_type": "markdown",
      "source": [
        "#### Activation(Layer)"
      ],
      "metadata": {
        "id": "j1apvwBWvcs5"
      }
    },
    {
      "cell_type": "code",
      "source": [
        "def tanh(x):\n",
        "  return np.tanh(x)\n",
        "\n",
        "def tanh_prime(x):\n",
        "  return 1 - np.tanh(x) ** 2"
      ],
      "metadata": {
        "id": "KRJwZb3LzaD0"
      },
      "execution_count": 17,
      "outputs": []
    },
    {
      "cell_type": "code",
      "source": [
        "def sigmoid(x):\n",
        "  return 1/(1+np.exp(-x))\n",
        "\n",
        "def sigmoid_prime(x):\n",
        "  s = 1/(1+np.exp(-x))\n",
        "  ds = s*(1-s)\n",
        "  return ds"
      ],
      "metadata": {
        "id": "LH-43l1N6SoO"
      },
      "execution_count": 18,
      "outputs": []
    },
    {
      "cell_type": "code",
      "source": [
        "def relu(x):\n",
        "  return np.maximum(0,x)\n",
        "\n",
        "def relu_prime(x):\n",
        "  return (x>0).astype(x.dtype)"
      ],
      "metadata": {
        "id": "Dg0ucoe06SoO"
      },
      "execution_count": 19,
      "outputs": []
    },
    {
      "cell_type": "code",
      "source": [
        "class Activation(Layer):\n",
        "    def __init__(self, activation, activation_prime):\n",
        "        self.activation = activation\n",
        "        self.activation_prime = activation_prime\n",
        "\n",
        "    def forward(self, input):\n",
        "        self.input = input\n",
        "        return self.activation(self.input)\n",
        "\n",
        "    def backward(self, output_gradient, learning_rate):\n",
        "        return np.multiply(output_gradient, self.activation_prime(self.input))"
      ],
      "metadata": {
        "id": "l1pBLTS1t-hV"
      },
      "execution_count": 20,
      "outputs": []
    },
    {
      "cell_type": "markdown",
      "source": [
        "<!-- #### Tanh(Activation) -->"
      ],
      "metadata": {
        "id": "M0V1kBaUvfw1"
      }
    },
    {
      "cell_type": "code",
      "source": [
        "# class Tanh(Activation):\n",
        "#     def __init__(self):\n",
        "#         def tanh(x):\n",
        "#             return np.tanh(x)\n",
        "\n",
        "#         def tanh_prime(x):\n",
        "#             return 1 - np.tanh(x) ** 2\n",
        "\n",
        "#         super().__init__(tanh, tanh_prime)\n",
        "\n",
        "# class Sigmoid(Activation):\n",
        "#     def __init__(self):\n",
        "#         def sigmoid(x):\n",
        "#             return 1 / (1 + np.exp(-x))\n",
        "\n",
        "#         def sigmoid_prime(x):\n",
        "#             s = sigmoid(x)\n",
        "#             return s * (1 - s)\n",
        "\n",
        "#         super().__init__(sigmoid, sigmoid_prime)\n",
        "\n",
        "# class Softmax(Layer):\n",
        "#     def forward(self, input):\n",
        "#         tmp = np.exp(input)\n",
        "#         self.output = tmp / np.sum(tmp)\n",
        "#         return self.output\n",
        "    \n",
        "#     def backward(self, output_gradient, learning_rate):\n",
        "#         # This version is faster than the one presented in the video\n",
        "#         n = np.size(self.output)\n",
        "#         return np.dot((np.identity(n) - self.output.T) * self.output, output_gradient)\n",
        "#         # Original formula:\n",
        "#         # tmp = np.tile(self.output, n)\n",
        "#         # return np.dot(tmp * (np.identity(n) - np.transpose(tmp)), output_gradient)"
      ],
      "metadata": {
        "id": "kv4VyJQUsOr7"
      },
      "execution_count": 21,
      "outputs": []
    },
    {
      "cell_type": "markdown",
      "source": [
        "#### class Dense(Layer)"
      ],
      "metadata": {
        "id": "E7ekyuq5vhIb"
      }
    },
    {
      "cell_type": "code",
      "source": [
        "class Dense(Layer):\n",
        "    def __init__(self, input_size, output_size):\n",
        "        self.weights = np.random.randn(output_size, input_size)\n",
        "        self.bias = np.random.randn(output_size, 1)\n",
        "\n",
        "    def forward(self, input):\n",
        "        self.input = input\n",
        "        return np.dot(self.weights, self.input) + self.bias\n",
        "\n",
        "    def backward(self, output_gradient, learning_rate):\n",
        "        weights_gradient = np.dot(output_gradient, self.input.T)\n",
        "        input_gradient = np.dot(self.weights.T, output_gradient)\n",
        "        self.weights -= learning_rate * weights_gradient\n",
        "        self.bias -= learning_rate * output_gradient\n",
        "        return input_gradient "
      ],
      "metadata": {
        "id": "jnwqfgZ1sOug"
      },
      "execution_count": 22,
      "outputs": []
    },
    {
      "cell_type": "markdown",
      "source": [
        "#### def predict(...)"
      ],
      "metadata": {
        "id": "d3u673AxvoRy"
      }
    },
    {
      "cell_type": "code",
      "source": [
        "def predict(network, input):\n",
        "    output = input\n",
        "    for layer in network:\n",
        "        output = layer.forward(output)\n",
        "    return output"
      ],
      "metadata": {
        "id": "FwUcSfQ8sO0S"
      },
      "execution_count": 23,
      "outputs": []
    },
    {
      "cell_type": "markdown",
      "source": [
        "#### def train(...)"
      ],
      "metadata": {
        "id": "1ed25mo3vkfg"
      }
    },
    {
      "cell_type": "code",
      "source": [
        "def train(network, loss, loss_prime, x_train, y_train, epochs = 1000, learning_rate = 0.01, verbose = True):\n",
        "    for e in range(epochs):\n",
        "        error = 0\n",
        "        for x, y in zip(x_train, y_train):\n",
        "            # forward\n",
        "            output = predict(network, x)\n",
        "\n",
        "            # error\n",
        "            error += loss(y, output)\n",
        "\n",
        "            # backward\n",
        "            grad = loss_prime(y, output)\n",
        "            for layer in reversed(network):\n",
        "                grad = layer.backward(grad, learning_rate)\n",
        "\n",
        "        error /= len(x_train)\n",
        "        if verbose:\n",
        "            if e % 500 == 0:\n",
        "                print(f\"{e}/{epochs}, error={error:.3}\")"
      ],
      "metadata": {
        "id": "RSvHgQcAsOwb"
      },
      "execution_count": 24,
      "outputs": []
    },
    {
      "cell_type": "markdown",
      "source": [
        "#### Exemplo XOR"
      ],
      "metadata": {
        "id": "VBi2gzj2tqRp"
      }
    },
    {
      "cell_type": "code",
      "source": [
        "X = np.reshape([[0, 0], [0, 1], [1, 0], [1, 1]], (4, 2, 1))\n",
        "Y = np.reshape([[0], [1], [1], [0]], (4, 1, 1))\n",
        "\n",
        "network = [\n",
        "    Dense(input_size = 2, \n",
        "          output_size = 3),\n",
        "    Activation(activation = tanh, \n",
        "               activation_prime = tanh_prime),\n",
        "    Dense(input_size = 3, \n",
        "          output_size = 1),\n",
        "    Activation(activation = tanh,\n",
        "               activation_prime = tanh_prime),\n",
        "]\n",
        "\n",
        "train(\n",
        "    network, \n",
        "    mse, \n",
        "    mse_prime, \n",
        "    X, \n",
        "    Y, \n",
        "    epochs=10000, \n",
        "    learning_rate=0.1)"
      ],
      "metadata": {
        "colab": {
          "base_uri": "https://localhost:8080/"
        },
        "id": "tBaIStgfsO8m",
        "outputId": "a529a145-4274-47d5-e004-55bfb0e86e56"
      },
      "execution_count": 25,
      "outputs": [
        {
          "output_type": "stream",
          "name": "stdout",
          "text": [
            "0/10000, error=1.31\n",
            "500/10000, error=0.185\n",
            "1000/10000, error=0.18\n",
            "1500/10000, error=0.000449\n",
            "2000/10000, error=0.000205\n",
            "2500/10000, error=0.000133\n",
            "3000/10000, error=9.84e-05\n",
            "3500/10000, error=7.8e-05\n",
            "4000/10000, error=6.46e-05\n",
            "4500/10000, error=5.51e-05\n",
            "5000/10000, error=4.81e-05\n",
            "5500/10000, error=4.26e-05\n",
            "6000/10000, error=3.82e-05\n",
            "6500/10000, error=3.46e-05\n",
            "7000/10000, error=3.17e-05\n",
            "7500/10000, error=2.92e-05\n",
            "8000/10000, error=2.71e-05\n",
            "8500/10000, error=2.52e-05\n",
            "9000/10000, error=2.36e-05\n",
            "9500/10000, error=2.22e-05\n"
          ]
        }
      ]
    },
    {
      "cell_type": "code",
      "source": [
        "# decision boundary plot\n",
        "points = []\n",
        "for x in np.linspace(0, 1, 20):\n",
        "    for y in np.linspace(0, 1, 20):\n",
        "        z = predict(network, [[x], [y]])\n",
        "        points.append([x, y, z[0,0]])\n",
        "\n",
        "points = np.array(points)\n",
        "\n",
        "fig = plt.figure()\n",
        "ax = fig.add_subplot(111, projection=\"3d\")\n",
        "ax.scatter(points[:, 0], points[:, 1], points[:, 2], c=points[:, 2], cmap=\"winter\")\n",
        "plt.show()"
      ],
      "metadata": {
        "colab": {
          "base_uri": "https://localhost:8080/",
          "height": 248
        },
        "id": "ENzQRzmRsO3M",
        "outputId": "e6a57eb4-b0e8-4cef-95f5-0c68b848d961"
      },
      "execution_count": 26,
      "outputs": [
        {
          "output_type": "display_data",
          "data": {
            "text/plain": [
              "<Figure size 432x288 with 1 Axes>"
            ],
            "image/png": "[encoded data removed]"
          },
          "metadata": {
            "needs_background": "light"
          }
        }
      ]
    },
    {
      "cell_type": "code",
      "source": [],
      "metadata": {
        "id": "oVQI0CQLsO5_"
      },
      "execution_count": 26,
      "outputs": []
    }
  ]
}