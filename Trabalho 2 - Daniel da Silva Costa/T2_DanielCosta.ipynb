{
  "nbformat": 4,
  "nbformat_minor": 0,
  "metadata": {
    "colab": {
      "provenance": [],
      "collapsed_sections": [],
      "toc_visible": true
    },
    "kernelspec": {
      "name": "python3",
      "display_name": "Python 3"
    },
    "language_info": {
      "name": "python"
    }
  },
  "cells": [
    {
      "cell_type": "markdown",
      "source": [
        "# Trabalho 2\n",
        "Descrição do trabalho:\n",
        "\n",
        "https://web.tecgraf.puc-rio.br/~mgattass/visao/trb/T2.html\n",
        "\n",
        "Aluno: Daniel da Silva Costa\n",
        "\n",
        "E-mail: danieldasilvacosta@gmail.com"
      ],
      "metadata": {
        "id": "yYaWGT4pERMq"
      }
    },
    {
      "cell_type": "markdown",
      "source": [
        "### Imports"
      ],
      "metadata": {
        "id": "EkLE1G6zEO5u"
      }
    },
    {
      "cell_type": "code",
      "execution_count": 4,
      "metadata": {
        "id": "InHEjpqdECyn"
      },
      "outputs": [],
      "source": [
        "import numpy as np\n",
        "import matplotlib.pyplot as plt\n",
        "import torch\n",
        "import torch.nn as nn"
      ]
    },
    {
      "cell_type": "markdown",
      "source": [
        "### Função\n",
        "\n",
        "y = np.sin(np.pi\\*x) - x\\*\\*3"
      ],
      "metadata": {
        "id": "lA0SS3LWjMAF"
      }
    },
    {
      "cell_type": "code",
      "source": [
        "num_points = 101\n",
        "x = np.linspace( -1, 1, num_points )\n",
        "y = np.sin( np.pi * x) - x**3"
      ],
      "metadata": {
        "id": "Vnaorbrfir3S"
      },
      "execution_count": 212,
      "outputs": []
    },
    {
      "cell_type": "code",
      "source": [
        "plt.figure( figsize = ( 10, 5 ) )\n",
        "plt.plot( x, y )\n",
        "plt.axhline( 0, color='gray')\n",
        "plt.axvline( 0, color='gray')\n",
        "plt.show()"
      ],
      "metadata": {
        "colab": {
          "base_uri": "https://localhost:8080/",
          "height": 320
        },
        "id": "uE-MW7SfjtGM",
        "outputId": "55b310cf-22a2-41e0-e18d-93acb1f4bb4c"
      },
      "execution_count": 213,
      "outputs": [
        {
          "output_type": "display_data",
          "data": {
            "text/plain": [
              "<Figure size 720x360 with 1 Axes>"
            ],
            "image/png": "[encoded data removed]"
          },
          "metadata": {
            "needs_background": "light"
          }
        }
      ]
    },
    {
      "cell_type": "markdown",
      "source": [
        "### Solução por Mínimos Quadrados"
      ],
      "metadata": {
        "id": "dEWzFLLKNCAB"
      }
    },
    {
      "cell_type": "code",
      "source": [
        "# sxy = sx = sy = sx2 = 0\n",
        "# n = x_.shape[0]\n",
        "\n",
        "# for i in range(n):\n",
        "\n",
        "#     sxy += x_[i] * y_[i]\n",
        "#     sx += x_[i]\n",
        "#     sy += y_[i]\n",
        "#     sx2 += x_[i]**2\n",
        "\n",
        "# a_ls = ( n * sxy - sx * sy ) / ( n * sx2 - sx * sx )\n",
        "# b_ls = ( sy * sx2 - sx * sxy ) / ( n * sx2 - sx * sx )"
      ],
      "metadata": {
        "id": "kg-7m7SWMbVk"
      },
      "execution_count": 214,
      "outputs": []
    },
    {
      "cell_type": "code",
      "source": [
        "# print( f'=== a ===' )\n",
        "# print( f'ls = {a_ls:.3f}' )\n",
        "# print( f'gd = {a0_gd:.3f}' )\n",
        "# print()\n",
        "\n",
        "# print( f'=== b ===' )\n",
        "# print( f'ls = {b_ls:.3f}' )\n",
        "# print( f'gd = {b0_gd:.3f}' )"
      ],
      "metadata": {
        "id": "Um4ewO3mMbX3"
      },
      "execution_count": 184,
      "outputs": []
    },
    {
      "cell_type": "code",
      "source": [
        "# # Somatório das distâncias d = y - y_pred\n",
        "# for i in range( len(x) ):\n",
        "\n",
        "#     y_pred_i = np.sin( np.pi * x[i]) - x[i]**3\n",
        "#     np.power( ( y[i] - y_pred_i ) , 2)"
      ],
      "metadata": {
        "id": "S62bHQilnoxO"
      },
      "execution_count": null,
      "outputs": []
    },
    {
      "cell_type": "code",
      "source": [
        "# x_ = np.array( [0.0, 1.0, 2.0, 3.0, 4.0, 5.0] )\n",
        "# y_ = np.array( [0.4, 0.7, 1.9, 2.0, 3.2, 4.5] )"
      ],
      "metadata": {
        "id": "u9Po_jwREdon"
      },
      "execution_count": null,
      "outputs": []
    },
    {
      "cell_type": "code",
      "source": [
        "# fig = plt.figure( figsize=( 4, 4 ) )\n",
        "# plt.scatter( x_, y_ )\n",
        "# plt.show()"
      ],
      "metadata": {
        "id": "CraB7Zb9Edrt"
      },
      "execution_count": null,
      "outputs": []
    },
    {
      "cell_type": "code",
      "source": [
        "# a = np.arange( -2, 3, 0.1 )\n",
        "# b = np.arange( -2, 3, 0.1 )\n",
        "# aa, bb = np.meshgrid( a, b, sparse = True)"
      ],
      "metadata": {
        "id": "MfbpMc4rEvMh"
      },
      "execution_count": null,
      "outputs": []
    },
    {
      "cell_type": "code",
      "source": [
        "# a"
      ],
      "metadata": {
        "id": "0JPyqMeFpfNq"
      },
      "execution_count": null,
      "outputs": []
    },
    {
      "cell_type": "code",
      "source": [
        "# b"
      ],
      "metadata": {
        "id": "iMnnBEs-pf0Y"
      },
      "execution_count": null,
      "outputs": []
    },
    {
      "cell_type": "code",
      "source": [
        "# err = calcula_erro( aa, bb )"
      ],
      "metadata": {
        "id": "40lD-b4EFfvk"
      },
      "execution_count": null,
      "outputs": []
    },
    {
      "cell_type": "code",
      "source": [
        "# z = np.power( err, 0.2 )\n",
        "# n_levels = 15"
      ],
      "metadata": {
        "id": "prloRHboTZTh"
      },
      "execution_count": 37,
      "outputs": []
    },
    {
      "cell_type": "code",
      "source": [
        "# h = plt.contourf( a, b, z, n_levels )\n",
        "# plt.axis( 'scaled' )\n",
        "# plt.colorbar()\n",
        "# plt.show()"
      ],
      "metadata": {
        "id": "u2EIwaVQFfxv"
      },
      "execution_count": null,
      "outputs": []
    },
    {
      "cell_type": "markdown",
      "source": [
        "### Gradiente Descendente"
      ],
      "metadata": {
        "id": "z1gvbAjZJR43"
      }
    },
    {
      "cell_type": "code",
      "source": [
        "def calcula_erro( a, b, c, d ):\n",
        "\n",
        "    soma = 0.0\n",
        "    n = len(x)\n",
        "    for i in range(n):\n",
        "\n",
        "        e  = y[i] - ( a + b*x[i] + c*(x[i]**2) + d*(x[i]**3) )\n",
        "        soma += e**2\n",
        "\n",
        "    return soma/n"
      ],
      "metadata": {
        "id": "ZCKoWi6Y5V7E"
      },
      "execution_count": 197,
      "outputs": []
    },
    {
      "cell_type": "code",
      "source": [
        "def calcula_derivada_a( a, b, c, d ):\n",
        "\n",
        "    soma = 0.0\n",
        "    for i in range( len(x) ):\n",
        "\n",
        "        soma += y[i] - a - b*x[i] - c*(x[i]**2) - d*(x[i]**3)\n",
        "\n",
        "    return -2 * soma"
      ],
      "metadata": {
        "id": "vHX2wyH_lxlG"
      },
      "execution_count": 198,
      "outputs": []
    },
    {
      "cell_type": "code",
      "source": [
        "def calcula_derivada_b( a, b, c, d ):\n",
        "\n",
        "    soma = 0.0\n",
        "    for i in range( len(x) ):\n",
        "\n",
        "        soma += x[i] * (y[i] - a - b*x[i] - c*(x[i]**2) - d*(x[i]**3))\n",
        "\n",
        "    return -2 * soma"
      ],
      "metadata": {
        "id": "8V9zzeDRsd2i"
      },
      "execution_count": 199,
      "outputs": []
    },
    {
      "cell_type": "code",
      "source": [
        "def calcula_derivada_c( a, b, c, d ):\n",
        "\n",
        "    soma = 0.0\n",
        "    for i in range( len(x) ):\n",
        "\n",
        "        soma += x[i] * (y[i] - a - b*x[i] - c*(x[i]**2) - d*(x[i]**3))\n",
        "\n",
        "    return -4 * soma"
      ],
      "metadata": {
        "id": "JRi-AGbFseFq"
      },
      "execution_count": 200,
      "outputs": []
    },
    {
      "cell_type": "code",
      "source": [
        "def calcula_derivada_d( a, b, c, d ):\n",
        "\n",
        "    soma = 0.0\n",
        "    for i in range( len(x) ):\n",
        "\n",
        "        soma += (x[i]**2) * (y[i] - a - b*x[i] - c*(x[i]**2) - d*(x[i]**3))\n",
        "\n",
        "    return -6 * soma"
      ],
      "metadata": {
        "id": "u6oiWOf2seL4"
      },
      "execution_count": 201,
      "outputs": []
    },
    {
      "cell_type": "code",
      "source": [
        "a = np.random.rand()\n",
        "b = np.random.rand()\n",
        "c = np.random.rand()\n",
        "d = np.random.rand()\n",
        "\n",
        "print( f'a: {a}' )\n",
        "print( f'b: {b}' )\n",
        "print( f'c: {c}' )\n",
        "print( f'd: {d}' )"
      ],
      "metadata": {
        "colab": {
          "base_uri": "https://localhost:8080/"
        },
        "id": "tVsW30_PpVZL",
        "outputId": "cbcb639d-e6dc-410e-cf4e-ad3cfcffef44"
      },
      "execution_count": 202,
      "outputs": [
        {
          "output_type": "stream",
          "name": "stdout",
          "text": [
            "a: 0.9411899908139824\n",
            "b: 0.7319408466270871\n",
            "c: 0.6925683534630863\n",
            "d: 0.05310816379678995\n"
          ]
        }
      ]
    },
    {
      "cell_type": "code",
      "source": [
        "err = calcula_erro( a, b, c, d )\n",
        "err"
      ],
      "metadata": {
        "colab": {
          "base_uri": "https://localhost:8080/"
        },
        "id": "MqEm_3Btpubm",
        "outputId": "85f381d5-8b1b-4108-d13a-456583577d20"
      },
      "execution_count": 203,
      "outputs": [
        {
          "output_type": "execute_result",
          "data": {
            "text/plain": [
              "2.2879548910816063"
            ]
          },
          "metadata": {},
          "execution_count": 203
        }
      ]
    },
    {
      "cell_type": "code",
      "source": [
        "def grad_desc( a0, b0, c0, d0, tol, max_it, learning_rate ):\n",
        "\n",
        "    erro0 = calcula_erro( a0, b0, c0, d0 )\n",
        "    erros = [erro0]\n",
        "    \n",
        "    for it in range( max_it ):\n",
        "\n",
        "        derivada_a = calcula_derivada_a( a0, b0, c0, d0 )\n",
        "        derivada_b = calcula_derivada_b( a0, b0, c0, d0 )\n",
        "        derivada_c = calcula_derivada_c( a0, b0, c0, d0 )\n",
        "        derivada_d = calcula_derivada_d( a0, b0, c0, d0 )\n",
        "\n",
        "        a1 = a0 - learning_rate * derivada_a\n",
        "        b1 = b0 - learning_rate * derivada_b\n",
        "        c1 = c0 - learning_rate * derivada_c\n",
        "        d1 = d0 - learning_rate * derivada_d\n",
        "\n",
        "        erro1 = calcula_erro( a1, b1, c1, d1 )\n",
        "        erros.append( erro1 )\n",
        "\n",
        "        tol_erro = abs(erro1 - erro0) < tol\n",
        "        tol_a = abs(a1 - a0) < tol\n",
        "        tol_b = abs(b1 - b0) < tol\n",
        "        tol_c = abs(c1 - c0) < tol\n",
        "        tol_d = abs(d1 - d0) < tol\n",
        "        if tol_erro and tol_a and tol_b and tol_c and tol_d:\n",
        "\n",
        "            print( f'Convergiu na iteração {it}' )\n",
        "            print( f'Erro atual = {erro1:.3f}' )\n",
        "            print( f'Delta erro = {erro1 - erro0}' )\n",
        "            break\n",
        "        \n",
        "        a0 = a1\n",
        "        b0 = b1\n",
        "        c0 = c1\n",
        "        d0 = d1\n",
        "        erro0 = erro1\n",
        "\n",
        "    print( f'Solução a = {a1:.3f}' )\n",
        "    print( f'Solução b = {b1:.3f}' )\n",
        "    print( f'Solução c = {c1:.3f}' )\n",
        "    print( f'Solução d = {d1:.3f}' )\n",
        "\n",
        "    return a0, b0, c0, d0, np.array(erros)"
      ],
      "metadata": {
        "id": "5l863lw-xCBy"
      },
      "execution_count": 204,
      "outputs": []
    },
    {
      "cell_type": "code",
      "source": [
        "%%time\n",
        "\n",
        "a0_gd, b0_gd, c0_gd, d0_gd, erros = grad_desc(a0 = a,\n",
        "                                              b0 = b, \n",
        "                                              c0 = c, \n",
        "                                              d0 = d, \n",
        "                                              tol = 1e-5, \n",
        "                                              max_it = 10000, \n",
        "                                              learning_rate = 0.000001)\n",
        "\n",
        "interacao = np.linspace( 0, erros.shape[0] - 1, erros.shape[0] )\n",
        "plt.plot( interacao, erros )\n",
        "plt.show()"
      ],
      "metadata": {
        "colab": {
          "base_uri": "https://localhost:8080/",
          "height": 369
        },
        "id": "bh2Z0Bke0gcV",
        "outputId": "8908f414-30a1-4c7c-cf04-a4dfcd0f5b88"
      },
      "execution_count": 233,
      "outputs": [
        {
          "output_type": "stream",
          "name": "stdout",
          "text": [
            "Solução a = -0.080\n",
            "Solução b = 0.791\n",
            "Solução c = 0.811\n",
            "Solução d = -1.363\n"
          ]
        },
        {
          "output_type": "display_data",
          "data": {
            "text/plain": [
              "<Figure size 432x288 with 1 Axes>"
            ],
            "image/png": "[encoded data removed]"
          },
          "metadata": {
            "needs_background": "light"
          }
        },
        {
          "output_type": "stream",
          "name": "stdout",
          "text": [
            "CPU times: user 8.68 s, sys: 22.4 ms, total: 8.7 s\n",
            "Wall time: 8.71 s\n"
          ]
        }
      ]
    },
    {
      "cell_type": "code",
      "source": [
        "y_novo = -0.080 + 0.791*x + 0.811*(x**2) + -1.363*(x**3)"
      ],
      "metadata": {
        "id": "M3Tv_q95I9NT"
      },
      "execution_count": 234,
      "outputs": []
    },
    {
      "cell_type": "code",
      "source": [
        "plt.figure( figsize = ( 10, 5 ) )\n",
        "plt.plot( x, y_novo )\n",
        "plt.axhline( 0, color='gray')\n",
        "plt.axvline( 0, color='gray')\n",
        "plt.show()"
      ],
      "metadata": {
        "colab": {
          "base_uri": "https://localhost:8080/",
          "height": 320
        },
        "id": "GemlgchnJNfX",
        "outputId": "fdd419e3-f93d-4e72-c3e8-2c70104fd269"
      },
      "execution_count": 235,
      "outputs": [
        {
          "output_type": "display_data",
          "data": {
            "text/plain": [
              "<Figure size 720x360 with 1 Axes>"
            ],
            "image/png": "[encoded data removed]"
          },
          "metadata": {
            "needs_background": "light"
          }
        }
      ]
    },
    {
      "cell_type": "code",
      "source": [
        "# h = plt.contourf( a, b, z, n_levels )\n",
        "\n",
        "# plt.axis( 'scaled' )\n",
        "# plt.plot( caminho[:, 0], caminho[:, 1], 'r' )\n",
        "# plt.colorbar()\n",
        "# plt.show()"
      ],
      "metadata": {
        "id": "AfFKUOAiEvQA"
      },
      "execution_count": 149,
      "outputs": []
    },
    {
      "cell_type": "markdown",
      "source": [
        "### Pytorch (autograd)"
      ],
      "metadata": {
        "id": "0STIA4gGP1MP"
      }
    },
    {
      "cell_type": "code",
      "source": [
        "X = torch.tensor([[1], [2], [3], [4]], dtype=torch.float32)\n",
        "Y = torch.tensor([[2], [4], [6], [8]], dtype=torch.float32)"
      ],
      "metadata": {
        "id": "IHTw-16jMbaN"
      },
      "execution_count": null,
      "outputs": []
    },
    {
      "cell_type": "code",
      "source": [
        "n_samples, n_features = X.shape\n",
        "print(f'#samples: {n_samples}, #features: {n_features}')\n",
        "# 0) create a test sample\n",
        "X_test = torch.tensor([5], dtype=torch.float32)"
      ],
      "metadata": {
        "colab": {
          "base_uri": "https://localhost:8080/"
        },
        "id": "eAaXGrF3Soyz",
        "outputId": "b4ecf4e9-b65a-402b-99c0-f6b30eeec829"
      },
      "execution_count": null,
      "outputs": [
        {
          "output_type": "stream",
          "name": "stdout",
          "text": [
            "#samples: 4, #features: 1\n"
          ]
        }
      ]
    },
    {
      "cell_type": "code",
      "source": [
        "input_size = n_features\n",
        "output_size = n_features"
      ],
      "metadata": {
        "id": "hL8QAL8mSqoU"
      },
      "execution_count": null,
      "outputs": []
    },
    {
      "cell_type": "code",
      "source": [
        "# model = nn.Linear(input_size, output_size)"
      ],
      "metadata": {
        "id": "ExiP7G5wSspN"
      },
      "execution_count": null,
      "outputs": []
    },
    {
      "cell_type": "code",
      "source": [
        "class LinearRegression(nn.Module):\n",
        "    def __init__(self, input_dim, output_dim):\n",
        "        super(LinearRegression, self).__init__()\n",
        "        # define diferent layers\n",
        "        self.lin = nn.Linear(input_dim, output_dim)\n",
        "    def forward(self, x):\n",
        "        return self.lin(x)\n",
        "model = LinearRegression(input_size, output_size)"
      ],
      "metadata": {
        "id": "BDqBC4bkSvLR"
      },
      "execution_count": null,
      "outputs": []
    },
    {
      "cell_type": "code",
      "source": [
        "# class MeuModelo(nn.Module):\n",
        "#     def __init__(self, input_dim, output_dim):\n",
        "        \n",
        "#         # super(LinearRegression, self).__init__()\n",
        "#         self.forward = nn.Linear(input_dim, output_dim)\n",
        "#     def forward(self, x):\n",
        "#         return self.lin(x)\n",
        "# model = LinearRegression(input_size, output_size)"
      ],
      "metadata": {
        "id": "n2vGGhOmce2e"
      },
      "execution_count": null,
      "outputs": []
    },
    {
      "cell_type": "code",
      "source": [
        "print(f'Prediction before training: f(5) = {model(X_test).item():.3f}')"
      ],
      "metadata": {
        "colab": {
          "base_uri": "https://localhost:8080/"
        },
        "id": "fvs2Bt3zMbcy",
        "outputId": "f4a0047d-a2ff-43c2-8373-f47e279f8db0"
      },
      "execution_count": null,
      "outputs": [
        {
          "output_type": "stream",
          "name": "stdout",
          "text": [
            "Prediction before training: f(5) = -4.125\n"
          ]
        }
      ]
    },
    {
      "cell_type": "code",
      "source": [
        "learning_rate = 0.01\n",
        "n_iters = 100"
      ],
      "metadata": {
        "id": "Isb_eUg5EduH"
      },
      "execution_count": null,
      "outputs": []
    },
    {
      "cell_type": "code",
      "source": [
        "loss = nn.MSELoss()\n",
        "optimizer = torch.optim.SGD(model.parameters(), lr=learning_rate)"
      ],
      "metadata": {
        "id": "Wv2QuDjuS36h"
      },
      "execution_count": null,
      "outputs": []
    },
    {
      "cell_type": "code",
      "source": [
        "for epoch in range(n_iters):\n",
        "    # predict = forward pass with our model\n",
        "    y_predicted = model(X)\n",
        "\n",
        "    # loss\n",
        "    l = loss(Y, y_predicted)\n",
        "\n",
        "    # calculate gradients = backward pass\n",
        "    l.backward()\n",
        "\n",
        "    # update weights\n",
        "    optimizer.step()\n",
        "\n",
        "    # zero the gradients after updating\n",
        "    optimizer.zero_grad()\n",
        "\n",
        "    if epoch % 10 == 0:\n",
        "        [w, b] = model.parameters() # unpack parameters\n",
        "        print('epoch ', epoch+1, ': w = ', w[0][0].item(), ' loss = ', l)\n",
        "\n",
        "print(f'Prediction after training: f(5) = {model(X_test).item():.3f}')"
      ],
      "metadata": {
        "colab": {
          "base_uri": "https://localhost:8080/"
        },
        "id": "RAlBHCR9P4Hl",
        "outputId": "d6854768-d336-4122-9c39-41cf24fbc6c6"
      },
      "execution_count": null,
      "outputs": [
        {
          "output_type": "stream",
          "name": "stdout",
          "text": [
            "epoch  1 : w =  1.7890064716339111  loss =  tensor(0.0647, grad_fn=<MseLossBackward0>)\n",
            "epoch  11 : w =  1.795238971710205  loss =  tensor(0.0609, grad_fn=<MseLossBackward0>)\n",
            "epoch  21 : w =  1.8012874126434326  loss =  tensor(0.0574, grad_fn=<MseLossBackward0>)\n",
            "epoch  31 : w =  1.8071571588516235  loss =  tensor(0.0540, grad_fn=<MseLossBackward0>)\n",
            "epoch  41 : w =  1.812853455543518  loss =  tensor(0.0509, grad_fn=<MseLossBackward0>)\n",
            "epoch  51 : w =  1.8183815479278564  loss =  tensor(0.0479, grad_fn=<MseLossBackward0>)\n",
            "epoch  61 : w =  1.8237463235855103  loss =  tensor(0.0451, grad_fn=<MseLossBackward0>)\n",
            "epoch  71 : w =  1.8289527893066406  loss =  tensor(0.0425, grad_fn=<MseLossBackward0>)\n",
            "epoch  81 : w =  1.8340051174163818  loss =  tensor(0.0400, grad_fn=<MseLossBackward0>)\n",
            "epoch  91 : w =  1.8389084339141846  loss =  tensor(0.0377, grad_fn=<MseLossBackward0>)\n",
            "Prediction after training: f(5) = 9.677\n"
          ]
        }
      ]
    },
    {
      "cell_type": "code",
      "source": [
        "x = torch.randn(3, requires_grad=True)\n",
        "y = x + 2\n",
        "\n",
        "# y was created as a result of an operation, so it has a grad_fn attribute.\n",
        "# grad_fn: references a Function that has created the Tensor\n",
        "print(x) # created by the user -> grad_fn is None\n",
        "print(y)\n",
        "print(y.grad_fn)\n",
        "\n",
        "# Do more operations on y\n",
        "z = y * y * 3\n",
        "print(z)\n",
        "z = z.mean()\n",
        "print(z)\n",
        "\n",
        "# Let's compute the gradients with backpropagation\n",
        "# When we finish our computation we can call .backward() and have all the gradients computed automatically.\n",
        "# The gradient for this tensor will be accumulated into .grad attribute.\n",
        "# It is the partial derivate of the function w.r.t. the tensor\n",
        "\n",
        "z.backward()\n",
        "print(x.grad) # dz/dx\n",
        "\n",
        "# Generally speaking, torch.autograd is an engine for computing vector-Jacobian product\n",
        "# It computes partial derivates while applying the chain rule\n",
        "\n",
        "# -------------\n",
        "# Model with non-scalar output:\n",
        "# If a Tensor is non-scalar (more than 1 elements), we need to specify arguments for backward() \n",
        "# specify a gradient argument that is a tensor of matching shape.\n",
        "# needed for vector-Jacobian product\n",
        "\n",
        "x = torch.randn(3, requires_grad=True)\n",
        "\n",
        "y = x * 2\n",
        "for _ in range(10):\n",
        "    y = y * 2\n",
        "\n",
        "print(y)\n",
        "print(y.shape)\n",
        "\n",
        "v = torch.tensor([0.1, 1.0, 0.0001], dtype=torch.float32)\n",
        "y.backward(v)\n",
        "print(x.grad)\n",
        "\n",
        "# -------------\n",
        "# Stop a tensor from tracking history:\n",
        "# For example during our training loop when we want to update our weights\n",
        "# then this update operation should not be part of the gradient computation\n",
        "# - x.requires_grad_(False)\n",
        "# - x.detach()\n",
        "# - wrap in 'with torch.no_grad():'\n",
        "\n",
        "# .requires_grad_(...) changes an existing flag in-place.\n",
        "a = torch.randn(2, 2)\n",
        "print(a.requires_grad)\n",
        "b = ((a * 3) / (a - 1))\n",
        "print(b.grad_fn)\n",
        "a.requires_grad_(True)\n",
        "print(a.requires_grad)\n",
        "b = (a * a).sum()\n",
        "print(b.grad_fn)\n",
        "\n",
        "# .detach(): get a new Tensor with the same content but no gradient computation:\n",
        "a = torch.randn(2, 2, requires_grad=True)\n",
        "print(a.requires_grad)\n",
        "b = a.detach()\n",
        "print(b.requires_grad)\n",
        "\n",
        "# wrap in 'with torch.no_grad():'\n",
        "a = torch.randn(2, 2, requires_grad=True)\n",
        "print(a.requires_grad)\n",
        "with torch.no_grad():\n",
        "    print((x ** 2).requires_grad)\n",
        "\n",
        "# -------------\n",
        "# backward() accumulates the gradient for this tensor into .grad attribute.\n",
        "# !!! We need to be careful during optimization !!!\n",
        "# Use .zero_() to empty the gradients before a new optimization step!\n",
        "weights = torch.ones(4, requires_grad=True)\n",
        "\n",
        "for epoch in range(3):\n",
        "    # just a dummy example\n",
        "    model_output = (weights*3).sum()\n",
        "    model_output.backward()\n",
        "    \n",
        "    print(weights.grad)\n",
        "\n",
        "    # optimize model, i.e. adjust weights...\n",
        "    with torch.no_grad():\n",
        "        weights -= 0.1 * weights.grad\n",
        "\n",
        "    # this is important! It affects the final weights & output\n",
        "    weights.grad.zero_()\n",
        "\n",
        "print(weights)\n",
        "print(model_output)\n",
        "\n",
        "# Optimizer has zero_grad() method\n",
        "# optimizer = torch.optim.SGD([weights], lr=0.1)\n",
        "# During training:\n",
        "# optimizer.step()\n",
        "# optimizer.zero_grad()"
      ],
      "metadata": {
        "id": "mPxglgBvR2ju"
      },
      "execution_count": null,
      "outputs": []
    },
    {
      "cell_type": "code",
      "source": [],
      "metadata": {
        "id": "uBD_HxStR2mV"
      },
      "execution_count": null,
      "outputs": []
    },
    {
      "cell_type": "code",
      "source": [],
      "metadata": {
        "id": "Pc6Ihw2lR2ok"
      },
      "execution_count": null,
      "outputs": []
    },
    {
      "cell_type": "code",
      "source": [],
      "metadata": {
        "id": "mHhr5JJ9R2q0"
      },
      "execution_count": null,
      "outputs": []
    },
    {
      "cell_type": "code",
      "source": [],
      "metadata": {
        "id": "vYhaxTxNR2sX"
      },
      "execution_count": null,
      "outputs": []
    },
    {
      "cell_type": "code",
      "source": [],
      "metadata": {
        "id": "i8QoNzDQEdyx"
      },
      "execution_count": null,
      "outputs": []
    }
  ]
}