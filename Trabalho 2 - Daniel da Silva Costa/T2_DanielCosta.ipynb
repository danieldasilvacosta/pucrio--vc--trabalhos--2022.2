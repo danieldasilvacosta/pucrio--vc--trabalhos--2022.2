{
  "nbformat": 4,
  "nbformat_minor": 0,
  "metadata": {
    "colab": {
      "provenance": [],
      "collapsed_sections": [],
      "toc_visible": true
    },
    "kernelspec": {
      "name": "python3",
      "display_name": "Python 3"
    },
    "language_info": {
      "name": "python"
    }
  },
  "cells": [
    {
      "cell_type": "markdown",
      "source": [
        "# Trabalho 2\n",
        "Descrição do trabalho:\n",
        "\n",
        "https://web.tecgraf.puc-rio.br/~mgattass/visao/trb/T2.html\n",
        "\n",
        "Aluno: Daniel da Silva Costa\n",
        "\n",
        "E-mail: danieldasilvacosta@gmail.com"
      ],
      "metadata": {
        "id": "yYaWGT4pERMq"
      }
    },
    {
      "cell_type": "markdown",
      "source": [
        "### Imports"
      ],
      "metadata": {
        "id": "EkLE1G6zEO5u"
      }
    },
    {
      "cell_type": "code",
      "execution_count": 1,
      "metadata": {
        "id": "InHEjpqdECyn"
      },
      "outputs": [],
      "source": [
        "import numpy as np\n",
        "import matplotlib.pyplot as plt\n",
        "import torch\n",
        "import torch.nn as nn"
      ]
    },
    {
      "cell_type": "markdown",
      "source": [
        "### Solução por Mínimos Quadrados"
      ],
      "metadata": {
        "id": "dEWzFLLKNCAB"
      }
    },
    {
      "cell_type": "code",
      "source": [
        "sxy = sx = sy = sx2 = 0\n",
        "n = x_.shape[0]\n",
        "\n",
        "for i in range(n):\n",
        "\n",
        "    sxy += x_[i] * y_[i]\n",
        "    sx += x_[i]\n",
        "    sy += y_[i]\n",
        "    sx2 += x_[i]**2\n",
        "\n",
        "a_ls = ( n * sxy - sx * sy ) / ( n * sx2 - sx * sx )\n",
        "b_ls = ( sy * sx2 - sx * sxy ) / ( n * sx2 - sx * sx )"
      ],
      "metadata": {
        "id": "kg-7m7SWMbVk"
      },
      "execution_count": 14,
      "outputs": []
    },
    {
      "cell_type": "code",
      "source": [
        "print( f'=== a ===' )\n",
        "print( f'ls = {a_ls:.3f}' )\n",
        "print( f'gd = {a0_gd:.3f}' )\n",
        "print()\n",
        "\n",
        "print( f'=== b ===' )\n",
        "print( f'ls = {b_ls:.3f}' )\n",
        "print( f'gd = {b0_gd:.3f}' )"
      ],
      "metadata": {
        "colab": {
          "base_uri": "https://localhost:8080/"
        },
        "id": "Um4ewO3mMbX3",
        "outputId": "fa650304-25ab-44a3-d3d8-a9f0c920128d"
      },
      "execution_count": 15,
      "outputs": [
        {
          "output_type": "stream",
          "name": "stdout",
          "text": [
            "=== a ===\n",
            "ls = 0.803\n",
            "gd = 0.802\n",
            "\n",
            "=== b ===\n",
            "ls = 0.110\n",
            "gd = 0.112\n"
          ]
        }
      ]
    },
    {
      "cell_type": "markdown",
      "source": [
        "### Função\n",
        "\n",
        "y = np.sin(np.pi\\*x) - x\\*\\*3"
      ],
      "metadata": {
        "id": "lA0SS3LWjMAF"
      }
    },
    {
      "cell_type": "code",
      "source": [
        "x = np.linspace( -1, 1, 101 )\n",
        "y = np.sin( np.pi * x) - np.power(x, 3)"
      ],
      "metadata": {
        "id": "Vnaorbrfir3S"
      },
      "execution_count": 34,
      "outputs": []
    },
    {
      "cell_type": "code",
      "source": [
        "plt.figure( figsize = ( 10, 5 ) )\n",
        "plt.plot( x, y )\n",
        "plt.axhline( 0, color='gray')\n",
        "plt.axvline( 0, color='gray')\n",
        "plt.show()"
      ],
      "metadata": {
        "colab": {
          "base_uri": "https://localhost:8080/",
          "height": 320
        },
        "id": "uE-MW7SfjtGM",
        "outputId": "3b21258c-0635-45ee-ed7b-c27020e31d20"
      },
      "execution_count": 36,
      "outputs": [
        {
          "output_type": "display_data",
          "data": {
            "text/plain": [
              "<Figure size 720x360 with 1 Axes>"
            ],
            "image/png": "[encoded data removed]"
          },
          "metadata": {
            "needs_background": "light"
          }
        }
      ]
    },
    {
      "cell_type": "code",
      "source": [
        "x_ = np.array( [0.0, 1.0, 2.0, 3.0, 4.0, 5.0] )\n",
        "y_ = np.array( [0.4, 0.7, 1.9, 2.0, 3.2, 4.5] )"
      ],
      "metadata": {
        "id": "u9Po_jwREdon"
      },
      "execution_count": 2,
      "outputs": []
    },
    {
      "cell_type": "code",
      "source": [
        "# fig = plt.figure( figsize=( 4, 4 ) )\n",
        "# plt.scatter( x_, y_ )\n",
        "# plt.show()"
      ],
      "metadata": {
        "id": "CraB7Zb9Edrt"
      },
      "execution_count": 3,
      "outputs": []
    },
    {
      "cell_type": "code",
      "source": [
        "# def calcula_erro( a, b ):\n",
        "\n",
        "#     soma = 0.0\n",
        "#     n = x_.shape[0]\n",
        "#     for i in range(n):\n",
        "\n",
        "#         e  = y_[i] - ( a * x_[i] + b )\n",
        "#         soma += e * e\n",
        "\n",
        "#     return soma/n"
      ],
      "metadata": {
        "id": "v1HThxK9EvKO"
      },
      "execution_count": 4,
      "outputs": []
    },
    {
      "cell_type": "code",
      "source": [
        "def calcula_erro( a, b, c, d ):\n",
        "\n",
        "    loss = 0\n",
        "    n = x.shape[0]\n",
        "    for i in range(n):\n",
        "      \n",
        "        y_pred = a + b*x + c*(x**2) + d*(x**3)\n",
        "        erro = ( y_pred - y[i] )**2\n",
        "        loss += erro\n",
        "\n",
        "    return loss"
      ],
      "metadata": {
        "id": "4-7ZEo5emWtg"
      },
      "execution_count": 37,
      "outputs": []
    },
    {
      "cell_type": "code",
      "source": [
        "# a = np.arange( -2, 3, 0.1 )\n",
        "# b = np.arange( -2, 3, 0.1 )\n",
        "# aa, bb = np.meshgrid( a, b, sparse = True)"
      ],
      "metadata": {
        "id": "MfbpMc4rEvMh"
      },
      "execution_count": 41,
      "outputs": []
    },
    {
      "cell_type": "code",
      "source": [
        "# a"
      ],
      "metadata": {
        "id": "0JPyqMeFpfNq"
      },
      "execution_count": 42,
      "outputs": []
    },
    {
      "cell_type": "code",
      "source": [
        "# b"
      ],
      "metadata": {
        "id": "iMnnBEs-pf0Y"
      },
      "execution_count": 43,
      "outputs": []
    },
    {
      "cell_type": "code",
      "source": [
        "# err = calcula_erro( aa, bb )"
      ],
      "metadata": {
        "id": "40lD-b4EFfvk"
      },
      "execution_count": 6,
      "outputs": []
    },
    {
      "cell_type": "code",
      "source": [
        "a = np.random.randn()\n",
        "b = np.random.randn()\n",
        "c = np.random.randn()\n",
        "d = np.random.randn()\n",
        "\n",
        "print( f'a: {a}' )\n",
        "print( f'b: {b}' )\n",
        "print( f'c: {c}' )\n",
        "print( f'd: {d}' )"
      ],
      "metadata": {
        "colab": {
          "base_uri": "https://localhost:8080/"
        },
        "id": "tVsW30_PpVZL",
        "outputId": "a5e9fe63-5c04-452e-d1dc-e2ed93313f07"
      },
      "execution_count": 47,
      "outputs": [
        {
          "output_type": "stream",
          "name": "stdout",
          "text": [
            "a: -0.349555983778718\n",
            "b: -0.7489729672104214\n",
            "c: -2.6750560710119085\n",
            "d: 0.16610196120437867\n"
          ]
        }
      ]
    },
    {
      "cell_type": "code",
      "source": [
        "err = calcula_erro( a, b, c, d )\n",
        "err"
      ],
      "metadata": {
        "colab": {
          "base_uri": "https://localhost:8080/"
        },
        "id": "MqEm_3Btpubm",
        "outputId": "99c0083a-b55f-4529-9f11-0be0d3246d8b"
      },
      "execution_count": 51,
      "outputs": [
        {
          "output_type": "execute_result",
          "data": {
            "text/plain": [
              "array([ 642.5385528 ,  593.88443455,  548.42544357,  506.00753595,\n",
              "        466.48114893,  429.70116037,  395.52684829,  363.82185055,\n",
              "        334.4541247 ,  307.29590791,  282.22367705,  259.11810889,\n",
              "        237.86404043,  218.35042939,  200.47031478,  184.12077759,\n",
              "        169.20290171,  155.62173483,  143.2862496 ,  132.10930481,\n",
              "        122.00760681,  112.90167096,  104.71578324,   97.37796204,\n",
              "         90.81992   ,   84.977026  ,   79.78826734,   75.19621195,\n",
              "         71.14697082,   67.59016048,   64.47886566,   61.76960208,\n",
              "         59.42227933,   57.40016389,   55.66984234,   54.20118457,\n",
              "         52.96730727,   51.94453742,   51.112376  ,   50.45346176,\n",
              "         49.95353518,   49.60140249,   49.38889988,   49.31085783,\n",
              "         49.3650655 ,   49.55223537,   49.87596787,   50.34271626,\n",
              "         50.96175156,   51.74512766,   52.70764648,   53.86682338,\n",
              "         55.24285258,   56.85857277,   58.73943285,   60.91345778,\n",
              "         63.41121455,   66.26577831,   69.51269858,   73.18996568,\n",
              "         77.33797715,   81.99950443,   87.21965961,   93.04586226,\n",
              "         99.52780652,  106.71742818,  114.66887197,  123.43845896,\n",
              "        133.08465406,  143.6680337 ,  155.2512536 ,  167.89901668,\n",
              "        181.67804111,  196.65702844,  212.90663194,  230.49942499,\n",
              "        249.50986965,  270.01428533,  292.09081762,  315.81940719,\n",
              "        341.28175888,  368.56131088,  397.74320407,  428.91425147,\n",
              "        462.16290779,  497.57923917,  535.25489299,  575.28306786,\n",
              "        617.75848369,  662.77735192,  710.43734587,  760.83757122,\n",
              "        814.07853661,  870.26212438,  929.49156143,  991.87139019,\n",
              "       1057.50743979, 1126.50679727, 1198.97777896, 1275.029902  ,\n",
              "       1354.77385594])"
            ]
          },
          "metadata": {},
          "execution_count": 51
        }
      ]
    },
    {
      "cell_type": "code",
      "source": [
        "z = np.power( err, 0.2 )\n",
        "n_levels = 15"
      ],
      "metadata": {
        "id": "prloRHboTZTh"
      },
      "execution_count": 7,
      "outputs": []
    },
    {
      "cell_type": "code",
      "source": [
        "# h = plt.contourf( a, b, z, n_levels )\n",
        "# plt.axis( 'scaled' )\n",
        "# plt.colorbar()\n",
        "# plt.show()"
      ],
      "metadata": {
        "id": "u2EIwaVQFfxv"
      },
      "execution_count": 8,
      "outputs": []
    },
    {
      "cell_type": "markdown",
      "source": [
        "### Gradiente Descendente"
      ],
      "metadata": {
        "id": "z1gvbAjZJR43"
      }
    },
    {
      "cell_type": "code",
      "source": [
        "def calcula_da( a, b ):\n",
        "\n",
        "    soma = 0.0\n",
        "    for i in range( x_.shape[0] ):\n",
        "\n",
        "        soma += x_[i] * ( y_[i] - ( a * x_[i] + b ) )\n",
        "\n",
        "    return -2 * soma"
      ],
      "metadata": {
        "id": "bJyH-4UOFf0m"
      },
      "execution_count": 9,
      "outputs": []
    },
    {
      "cell_type": "code",
      "source": [
        "# def calcula_da( a, b, c, d ):\n",
        "\n",
        "#     soma = 0.0\n",
        "#     for i in range( x.shape[0] ):\n",
        "\n",
        "#         soma += x_[i] * ( y_[i] - ( a * x_[i] + b ) )\n",
        "\n",
        "#     return -2 * soma"
      ],
      "metadata": {
        "id": "vHX2wyH_lxlG"
      },
      "execution_count": null,
      "outputs": []
    },
    {
      "cell_type": "code",
      "source": [
        "def calcula_db( a, b ):\n",
        "\n",
        "    soma = 0.0\n",
        "    for i in range( x_.shape[0] ):\n",
        "\n",
        "        soma += y_[i] - ( a * x_[i] + b )\n",
        "\n",
        "    return -2 * soma"
      ],
      "metadata": {
        "id": "oxeXgQwHGIW_"
      },
      "execution_count": 10,
      "outputs": []
    },
    {
      "cell_type": "code",
      "source": [
        "def grad_desc( a0, b0, tol, max_it, learning_rate ):\n",
        "\n",
        "    erro0 = calcula_erro( a0, b0 )\n",
        "    erros = [erro0]\n",
        "    caminho = [[ a0, b0 ]]\n",
        "\n",
        "    for it in range( max_it ):\n",
        "\n",
        "        da = calcula_da( a0, b0 )\n",
        "        db = calcula_db( a0, b0 )\n",
        "        a1 = a0 - learning_rate * da\n",
        "        b1 = b0 - learning_rate * db\n",
        "\n",
        "        erro1 = calcula_erro( a1, b1 )\n",
        "        erros.append( erro1 )\n",
        "        caminho.append( [a1, b1] )\n",
        "\n",
        "        if abs(erro1 - erro0) < tol and abs(a1 - a0) < tol and abs(b1 - b0) < tol:\n",
        "\n",
        "            print( f'Convergiu na iteração {it}' )\n",
        "            print( f'Erro atual = {erro1:.3f}' )\n",
        "            print( f'Delta erro = {erro1 - erro0}' )\n",
        "            break\n",
        "        \n",
        "        a0 = a1\n",
        "        b0 = b1\n",
        "        erro0 = erro1\n",
        "\n",
        "\n",
        "    print( f'Solução a = {a1:.3f}' )\n",
        "    print( f'Solução b = {b1:.3f}' )\n",
        "\n",
        "    return a0, b0, np.array(caminho), np.array(erros)"
      ],
      "metadata": {
        "id": "qOhRFY1AGIcT"
      },
      "execution_count": 11,
      "outputs": []
    },
    {
      "cell_type": "code",
      "source": [
        "a0_gd, b0_gd, caminho, erros = grad_desc( -1, +1, 1e-5, 10000, 0.001 )\n",
        "\n",
        "interacao = np.linspace( 0, erros.shape[0] - 1, erros.shape[0] )\n",
        "plt.plot( interacao, erros )\n",
        "plt.show()"
      ],
      "metadata": {
        "colab": {
          "base_uri": "https://localhost:8080/",
          "height": 352
        },
        "id": "msPmGNOJGIe-",
        "outputId": "fe2e659d-fcf8-40d7-84a1-8244347f3a27"
      },
      "execution_count": 12,
      "outputs": [
        {
          "output_type": "stream",
          "name": "stdout",
          "text": [
            "Convergiu na iteração 1726\n",
            "Erro atual = 0.098\n",
            "Delta erro = -1.792981069170807e-08\n",
            "Solução a = 0.802\n",
            "Solução b = 0.112\n"
          ]
        },
        {
          "output_type": "display_data",
          "data": {
            "text/plain": [
              "<Figure size 432x288 with 1 Axes>"
            ],
            "image/png": "[encoded data removed]"
          },
          "metadata": {
            "needs_background": "light"
          }
        }
      ]
    },
    {
      "cell_type": "code",
      "source": [
        "h = plt.contourf( a, b, z, n_levels )\n",
        "\n",
        "plt.axis( 'scaled' )\n",
        "plt.plot( caminho[:, 0], caminho[:, 1], 'r' )\n",
        "plt.colorbar()\n",
        "plt.show()"
      ],
      "metadata": {
        "colab": {
          "base_uri": "https://localhost:8080/",
          "height": 265
        },
        "id": "AfFKUOAiEvQA",
        "outputId": "b9041525-78ed-4602-9236-d96580626b90"
      },
      "execution_count": 13,
      "outputs": [
        {
          "output_type": "display_data",
          "data": {
            "text/plain": [
              "<Figure size 432x288 with 2 Axes>"
            ],
            "image/png": "[encoded data removed]"
          },
          "metadata": {
            "needs_background": "light"
          }
        }
      ]
    },
    {
      "cell_type": "markdown",
      "source": [
        "### Pytorch (autograd)"
      ],
      "metadata": {
        "id": "0STIA4gGP1MP"
      }
    },
    {
      "cell_type": "code",
      "source": [
        "X = torch.tensor([[1], [2], [3], [4]], dtype=torch.float32)\n",
        "Y = torch.tensor([[2], [4], [6], [8]], dtype=torch.float32)"
      ],
      "metadata": {
        "id": "IHTw-16jMbaN"
      },
      "execution_count": 16,
      "outputs": []
    },
    {
      "cell_type": "code",
      "source": [
        "n_samples, n_features = X.shape\n",
        "print(f'#samples: {n_samples}, #features: {n_features}')\n",
        "# 0) create a test sample\n",
        "X_test = torch.tensor([5], dtype=torch.float32)"
      ],
      "metadata": {
        "colab": {
          "base_uri": "https://localhost:8080/"
        },
        "id": "eAaXGrF3Soyz",
        "outputId": "b4ecf4e9-b65a-402b-99c0-f6b30eeec829"
      },
      "execution_count": 17,
      "outputs": [
        {
          "output_type": "stream",
          "name": "stdout",
          "text": [
            "#samples: 4, #features: 1\n"
          ]
        }
      ]
    },
    {
      "cell_type": "code",
      "source": [
        "input_size = n_features\n",
        "output_size = n_features"
      ],
      "metadata": {
        "id": "hL8QAL8mSqoU"
      },
      "execution_count": 18,
      "outputs": []
    },
    {
      "cell_type": "code",
      "source": [
        "# model = nn.Linear(input_size, output_size)"
      ],
      "metadata": {
        "id": "ExiP7G5wSspN"
      },
      "execution_count": 19,
      "outputs": []
    },
    {
      "cell_type": "code",
      "source": [
        "class LinearRegression(nn.Module):\n",
        "    def __init__(self, input_dim, output_dim):\n",
        "        super(LinearRegression, self).__init__()\n",
        "        # define diferent layers\n",
        "        self.lin = nn.Linear(input_dim, output_dim)\n",
        "    def forward(self, x):\n",
        "        return self.lin(x)\n",
        "model = LinearRegression(input_size, output_size)"
      ],
      "metadata": {
        "id": "BDqBC4bkSvLR"
      },
      "execution_count": 20,
      "outputs": []
    },
    {
      "cell_type": "code",
      "source": [
        "# class MeuModelo(nn.Module):\n",
        "#     def __init__(self, input_dim, output_dim):\n",
        "        \n",
        "#         # super(LinearRegression, self).__init__()\n",
        "#         self.forward = nn.Linear(input_dim, output_dim)\n",
        "#     def forward(self, x):\n",
        "#         return self.lin(x)\n",
        "# model = LinearRegression(input_size, output_size)"
      ],
      "metadata": {
        "id": "n2vGGhOmce2e"
      },
      "execution_count": null,
      "outputs": []
    },
    {
      "cell_type": "code",
      "source": [
        "print(f'Prediction before training: f(5) = {model(X_test).item():.3f}')"
      ],
      "metadata": {
        "colab": {
          "base_uri": "https://localhost:8080/"
        },
        "id": "fvs2Bt3zMbcy",
        "outputId": "f4a0047d-a2ff-43c2-8373-f47e279f8db0"
      },
      "execution_count": 21,
      "outputs": [
        {
          "output_type": "stream",
          "name": "stdout",
          "text": [
            "Prediction before training: f(5) = -4.125\n"
          ]
        }
      ]
    },
    {
      "cell_type": "code",
      "source": [
        "learning_rate = 0.01\n",
        "n_iters = 100"
      ],
      "metadata": {
        "id": "Isb_eUg5EduH"
      },
      "execution_count": 22,
      "outputs": []
    },
    {
      "cell_type": "code",
      "source": [
        "loss = nn.MSELoss()\n",
        "optimizer = torch.optim.SGD(model.parameters(), lr=learning_rate)"
      ],
      "metadata": {
        "id": "Wv2QuDjuS36h"
      },
      "execution_count": 23,
      "outputs": []
    },
    {
      "cell_type": "code",
      "source": [
        "for epoch in range(n_iters):\n",
        "    # predict = forward pass with our model\n",
        "    y_predicted = model(X)\n",
        "\n",
        "    # loss\n",
        "    l = loss(Y, y_predicted)\n",
        "\n",
        "    # calculate gradients = backward pass\n",
        "    l.backward()\n",
        "\n",
        "    # update weights\n",
        "    optimizer.step()\n",
        "\n",
        "    # zero the gradients after updating\n",
        "    optimizer.zero_grad()\n",
        "\n",
        "    if epoch % 10 == 0:\n",
        "        [w, b] = model.parameters() # unpack parameters\n",
        "        print('epoch ', epoch+1, ': w = ', w[0][0].item(), ' loss = ', l)\n",
        "\n",
        "print(f'Prediction after training: f(5) = {model(X_test).item():.3f}')"
      ],
      "metadata": {
        "colab": {
          "base_uri": "https://localhost:8080/"
        },
        "id": "RAlBHCR9P4Hl",
        "outputId": "d6854768-d336-4122-9c39-41cf24fbc6c6"
      },
      "execution_count": 29,
      "outputs": [
        {
          "output_type": "stream",
          "name": "stdout",
          "text": [
            "epoch  1 : w =  1.7890064716339111  loss =  tensor(0.0647, grad_fn=<MseLossBackward0>)\n",
            "epoch  11 : w =  1.795238971710205  loss =  tensor(0.0609, grad_fn=<MseLossBackward0>)\n",
            "epoch  21 : w =  1.8012874126434326  loss =  tensor(0.0574, grad_fn=<MseLossBackward0>)\n",
            "epoch  31 : w =  1.8071571588516235  loss =  tensor(0.0540, grad_fn=<MseLossBackward0>)\n",
            "epoch  41 : w =  1.812853455543518  loss =  tensor(0.0509, grad_fn=<MseLossBackward0>)\n",
            "epoch  51 : w =  1.8183815479278564  loss =  tensor(0.0479, grad_fn=<MseLossBackward0>)\n",
            "epoch  61 : w =  1.8237463235855103  loss =  tensor(0.0451, grad_fn=<MseLossBackward0>)\n",
            "epoch  71 : w =  1.8289527893066406  loss =  tensor(0.0425, grad_fn=<MseLossBackward0>)\n",
            "epoch  81 : w =  1.8340051174163818  loss =  tensor(0.0400, grad_fn=<MseLossBackward0>)\n",
            "epoch  91 : w =  1.8389084339141846  loss =  tensor(0.0377, grad_fn=<MseLossBackward0>)\n",
            "Prediction after training: f(5) = 9.677\n"
          ]
        }
      ]
    },
    {
      "cell_type": "code",
      "source": [
        "x = torch.randn(3, requires_grad=True)\n",
        "y = x + 2\n",
        "\n",
        "# y was created as a result of an operation, so it has a grad_fn attribute.\n",
        "# grad_fn: references a Function that has created the Tensor\n",
        "print(x) # created by the user -> grad_fn is None\n",
        "print(y)\n",
        "print(y.grad_fn)\n",
        "\n",
        "# Do more operations on y\n",
        "z = y * y * 3\n",
        "print(z)\n",
        "z = z.mean()\n",
        "print(z)\n",
        "\n",
        "# Let's compute the gradients with backpropagation\n",
        "# When we finish our computation we can call .backward() and have all the gradients computed automatically.\n",
        "# The gradient for this tensor will be accumulated into .grad attribute.\n",
        "# It is the partial derivate of the function w.r.t. the tensor\n",
        "\n",
        "z.backward()\n",
        "print(x.grad) # dz/dx\n",
        "\n",
        "# Generally speaking, torch.autograd is an engine for computing vector-Jacobian product\n",
        "# It computes partial derivates while applying the chain rule\n",
        "\n",
        "# -------------\n",
        "# Model with non-scalar output:\n",
        "# If a Tensor is non-scalar (more than 1 elements), we need to specify arguments for backward() \n",
        "# specify a gradient argument that is a tensor of matching shape.\n",
        "# needed for vector-Jacobian product\n",
        "\n",
        "x = torch.randn(3, requires_grad=True)\n",
        "\n",
        "y = x * 2\n",
        "for _ in range(10):\n",
        "    y = y * 2\n",
        "\n",
        "print(y)\n",
        "print(y.shape)\n",
        "\n",
        "v = torch.tensor([0.1, 1.0, 0.0001], dtype=torch.float32)\n",
        "y.backward(v)\n",
        "print(x.grad)\n",
        "\n",
        "# -------------\n",
        "# Stop a tensor from tracking history:\n",
        "# For example during our training loop when we want to update our weights\n",
        "# then this update operation should not be part of the gradient computation\n",
        "# - x.requires_grad_(False)\n",
        "# - x.detach()\n",
        "# - wrap in 'with torch.no_grad():'\n",
        "\n",
        "# .requires_grad_(...) changes an existing flag in-place.\n",
        "a = torch.randn(2, 2)\n",
        "print(a.requires_grad)\n",
        "b = ((a * 3) / (a - 1))\n",
        "print(b.grad_fn)\n",
        "a.requires_grad_(True)\n",
        "print(a.requires_grad)\n",
        "b = (a * a).sum()\n",
        "print(b.grad_fn)\n",
        "\n",
        "# .detach(): get a new Tensor with the same content but no gradient computation:\n",
        "a = torch.randn(2, 2, requires_grad=True)\n",
        "print(a.requires_grad)\n",
        "b = a.detach()\n",
        "print(b.requires_grad)\n",
        "\n",
        "# wrap in 'with torch.no_grad():'\n",
        "a = torch.randn(2, 2, requires_grad=True)\n",
        "print(a.requires_grad)\n",
        "with torch.no_grad():\n",
        "    print((x ** 2).requires_grad)\n",
        "\n",
        "# -------------\n",
        "# backward() accumulates the gradient for this tensor into .grad attribute.\n",
        "# !!! We need to be careful during optimization !!!\n",
        "# Use .zero_() to empty the gradients before a new optimization step!\n",
        "weights = torch.ones(4, requires_grad=True)\n",
        "\n",
        "for epoch in range(3):\n",
        "    # just a dummy example\n",
        "    model_output = (weights*3).sum()\n",
        "    model_output.backward()\n",
        "    \n",
        "    print(weights.grad)\n",
        "\n",
        "    # optimize model, i.e. adjust weights...\n",
        "    with torch.no_grad():\n",
        "        weights -= 0.1 * weights.grad\n",
        "\n",
        "    # this is important! It affects the final weights & output\n",
        "    weights.grad.zero_()\n",
        "\n",
        "print(weights)\n",
        "print(model_output)\n",
        "\n",
        "# Optimizer has zero_grad() method\n",
        "# optimizer = torch.optim.SGD([weights], lr=0.1)\n",
        "# During training:\n",
        "# optimizer.step()\n",
        "# optimizer.zero_grad()"
      ],
      "metadata": {
        "id": "mPxglgBvR2ju"
      },
      "execution_count": 24,
      "outputs": []
    },
    {
      "cell_type": "code",
      "source": [],
      "metadata": {
        "id": "uBD_HxStR2mV"
      },
      "execution_count": 24,
      "outputs": []
    },
    {
      "cell_type": "code",
      "source": [],
      "metadata": {
        "id": "Pc6Ihw2lR2ok"
      },
      "execution_count": 24,
      "outputs": []
    },
    {
      "cell_type": "code",
      "source": [],
      "metadata": {
        "id": "mHhr5JJ9R2q0"
      },
      "execution_count": 24,
      "outputs": []
    },
    {
      "cell_type": "code",
      "source": [],
      "metadata": {
        "id": "vYhaxTxNR2sX"
      },
      "execution_count": 24,
      "outputs": []
    },
    {
      "cell_type": "code",
      "source": [],
      "metadata": {
        "id": "i8QoNzDQEdyx"
      },
      "execution_count": 24,
      "outputs": []
    }
  ]
}