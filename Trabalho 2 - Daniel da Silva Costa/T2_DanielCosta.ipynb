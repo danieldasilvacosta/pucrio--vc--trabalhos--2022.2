{
  "nbformat": 4,
  "nbformat_minor": 0,
  "metadata": {
    "colab": {
      "provenance": [],
      "collapsed_sections": [],
      "toc_visible": true
    },
    "kernelspec": {
      "name": "python3",
      "display_name": "Python 3"
    },
    "language_info": {
      "name": "python"
    }
  },
  "cells": [
    {
      "cell_type": "markdown",
      "source": [
        "# Trabalho 2\n",
        "Descrição do trabalho:\n",
        "\n",
        "https://web.tecgraf.puc-rio.br/~mgattass/visao/trb/T2.html\n",
        "\n",
        "Aluno: Daniel da Silva Costa\n",
        "\n",
        "E-mail: danieldasilvacosta@gmail.com"
      ],
      "metadata": {
        "id": "yYaWGT4pERMq"
      }
    },
    {
      "cell_type": "markdown",
      "source": [
        "### Imports"
      ],
      "metadata": {
        "id": "EkLE1G6zEO5u"
      }
    },
    {
      "cell_type": "code",
      "execution_count": 1,
      "metadata": {
        "id": "InHEjpqdECyn"
      },
      "outputs": [],
      "source": [
        "import numpy as np\n",
        "import matplotlib.pyplot as plt\n",
        "import torch\n",
        "import torch.nn as nn"
      ]
    },
    {
      "cell_type": "code",
      "source": [
        "x_ = np.array( [0.0, 1.0, 2.0, 3.0, 4.0, 5.0] )\n",
        "y_ = np.array( [0.4, 0.7, 1.9, 2.0, 3.2, 4.5] )"
      ],
      "metadata": {
        "id": "u9Po_jwREdon"
      },
      "execution_count": 2,
      "outputs": []
    },
    {
      "cell_type": "code",
      "source": [
        "# fig = plt.figure( figsize=( 4, 4 ) )\n",
        "# plt.scatter( x_, y_ )\n",
        "# plt.show()"
      ],
      "metadata": {
        "id": "CraB7Zb9Edrt"
      },
      "execution_count": 3,
      "outputs": []
    },
    {
      "cell_type": "code",
      "source": [
        "def calcula_erro( a, b ):\n",
        "\n",
        "    soma = 0.0\n",
        "    n = x_.shape[0]\n",
        "    for i in range(n):\n",
        "\n",
        "        e  = y_[i] - ( a * x_[i] + b )\n",
        "        soma += e * e\n",
        "\n",
        "    return soma/n"
      ],
      "metadata": {
        "id": "v1HThxK9EvKO"
      },
      "execution_count": 4,
      "outputs": []
    },
    {
      "cell_type": "code",
      "source": [
        "a = np.arange( -2, 3, 0.1 )\n",
        "b = np.arange( -2, 3, 0.1 )\n",
        "aa, bb = np.meshgrid( a, b, sparse = True)"
      ],
      "metadata": {
        "id": "MfbpMc4rEvMh"
      },
      "execution_count": 5,
      "outputs": []
    },
    {
      "cell_type": "code",
      "source": [
        "err = calcula_erro( aa, bb )"
      ],
      "metadata": {
        "id": "40lD-b4EFfvk"
      },
      "execution_count": 6,
      "outputs": []
    },
    {
      "cell_type": "code",
      "source": [
        "z = np.power( err, 0.2 )\n",
        "n_levels = 15"
      ],
      "metadata": {
        "id": "prloRHboTZTh"
      },
      "execution_count": 7,
      "outputs": []
    },
    {
      "cell_type": "code",
      "source": [
        "# h = plt.contourf( a, b, z, n_levels )\n",
        "# plt.axis( 'scaled' )\n",
        "# plt.colorbar()\n",
        "# plt.show()"
      ],
      "metadata": {
        "id": "u2EIwaVQFfxv"
      },
      "execution_count": 8,
      "outputs": []
    },
    {
      "cell_type": "markdown",
      "source": [
        "### Gradiente Descendente"
      ],
      "metadata": {
        "id": "z1gvbAjZJR43"
      }
    },
    {
      "cell_type": "code",
      "source": [
        "def calcula_da( a, b ):\n",
        "\n",
        "    soma = 0.0\n",
        "    for i in range( x_.shape[0] ):\n",
        "\n",
        "        soma += x_[i] * ( y_[i] - ( a * x_[i] + b ) )\n",
        "\n",
        "    return -2 * soma"
      ],
      "metadata": {
        "id": "bJyH-4UOFf0m"
      },
      "execution_count": 9,
      "outputs": []
    },
    {
      "cell_type": "code",
      "source": [
        "def calcula_db( a, b ):\n",
        "\n",
        "    soma = 0.0\n",
        "    for i in range( x_.shape[0] ):\n",
        "\n",
        "        soma += y_[i] - ( a * x_[i] + b )\n",
        "\n",
        "    return -2 * soma"
      ],
      "metadata": {
        "id": "oxeXgQwHGIW_"
      },
      "execution_count": 10,
      "outputs": []
    },
    {
      "cell_type": "code",
      "source": [
        "def grad_desc( a0, b0, tol, max_it, learning_rate ):\n",
        "\n",
        "    erro0 = calcula_erro( a0, b0 )\n",
        "    erros = [erro0]\n",
        "    caminho = [[ a0, b0 ]]\n",
        "\n",
        "    for it in range( max_it ):\n",
        "\n",
        "        da = calcula_da( a0, b0 )\n",
        "        db = calcula_db( a0, b0 )\n",
        "        a1 = a0 - learning_rate * da\n",
        "        b1 = b0 - learning_rate * db\n",
        "\n",
        "        erro1 = calcula_erro( a1, b1 )\n",
        "        erros.append( erro1 )\n",
        "        caminho.append( [a1, b1] )\n",
        "\n",
        "        if abs(erro1 - erro0) < tol and abs(a1 - a0) < tol and abs(b1 - b0) < tol:\n",
        "\n",
        "            print( f'Convergiu na iteração {it}' )\n",
        "            print( f'Erro atual = {erro1:.3f}' )\n",
        "            print( f'Delta erro = {erro1 - erro0}' )\n",
        "            break\n",
        "        \n",
        "        a0 = a1\n",
        "        b0 = b1\n",
        "        erro0 = erro1\n",
        "\n",
        "\n",
        "    print( f'Solução a = {a1:.3f}' )\n",
        "    print( f'Solução b = {b1:.3f}' )\n",
        "\n",
        "    return a0, b0, np.array(caminho), np.array(erros)"
      ],
      "metadata": {
        "id": "qOhRFY1AGIcT"
      },
      "execution_count": 11,
      "outputs": []
    },
    {
      "cell_type": "code",
      "source": [
        "a0_gd, b0_gd, caminho, erros = grad_desc( -1, +1, 1e-5, 10000, 0.001 )\n",
        "\n",
        "interacao = np.linspace( 0, erros.shape[0] - 1, erros.shape[0] )\n",
        "plt.plot( interacao, erros )\n",
        "plt.show()"
      ],
      "metadata": {
        "colab": {
          "base_uri": "https://localhost:8080/",
          "height": 352
        },
        "id": "msPmGNOJGIe-",
        "outputId": "fe2e659d-fcf8-40d7-84a1-8244347f3a27"
      },
      "execution_count": 12,
      "outputs": [
        {
          "output_type": "stream",
          "name": "stdout",
          "text": [
            "Convergiu na iteração 1726\n",
            "Erro atual = 0.098\n",
            "Delta erro = -1.792981069170807e-08\n",
            "Solução a = 0.802\n",
            "Solução b = 0.112\n"
          ]
        },
        {
          "output_type": "display_data",
          "data": {
            "text/plain": [
              "<Figure size 432x288 with 1 Axes>"
            ],
            "image/png": "[encoded data removed]"
          },
          "metadata": {
            "needs_background": "light"
          }
        }
      ]
    },
    {
      "cell_type": "code",
      "source": [
        "h = plt.contourf( a, b, z, n_levels )\n",
        "\n",
        "plt.axis( 'scaled' )\n",
        "plt.plot( caminho[:, 0], caminho[:, 1], 'r' )\n",
        "plt.colorbar()\n",
        "plt.show()"
      ],
      "metadata": {
        "colab": {
          "base_uri": "https://localhost:8080/",
          "height": 265
        },
        "id": "AfFKUOAiEvQA",
        "outputId": "b9041525-78ed-4602-9236-d96580626b90"
      },
      "execution_count": 13,
      "outputs": [
        {
          "output_type": "display_data",
          "data": {
            "text/plain": [
              "<Figure size 432x288 with 2 Axes>"
            ],
            "image/png": "[encoded data removed]"
          },
          "metadata": {
            "needs_background": "light"
          }
        }
      ]
    },
    {
      "cell_type": "markdown",
      "source": [
        "### Solução por Mínimos Quadrados"
      ],
      "metadata": {
        "id": "dEWzFLLKNCAB"
      }
    },
    {
      "cell_type": "code",
      "source": [
        "sxy = sx = sy = sx2 = 0\n",
        "n = x_.shape[0]\n",
        "\n",
        "for i in range(n):\n",
        "\n",
        "    sxy += x_[i] * y_[i]\n",
        "    sx += x_[i]\n",
        "    sy += y_[i]\n",
        "    sx2 += x_[i]**2\n",
        "\n",
        "a_ls = ( n * sxy - sx * sy ) / ( n * sx2 - sx * sx )\n",
        "b_ls = ( sy * sx2 - sx * sxy ) / ( n * sx2 - sx * sx )"
      ],
      "metadata": {
        "id": "kg-7m7SWMbVk"
      },
      "execution_count": 14,
      "outputs": []
    },
    {
      "cell_type": "code",
      "source": [
        "print( f'=== a ===' )\n",
        "print( f'ls = {a_ls:.3f}' )\n",
        "print( f'gd = {a0_gd:.3f}' )\n",
        "print()\n",
        "\n",
        "print( f'=== b ===' )\n",
        "print( f'ls = {b_ls:.3f}' )\n",
        "print( f'gd = {b0_gd:.3f}' )"
      ],
      "metadata": {
        "colab": {
          "base_uri": "https://localhost:8080/"
        },
        "id": "Um4ewO3mMbX3",
        "outputId": "fa650304-25ab-44a3-d3d8-a9f0c920128d"
      },
      "execution_count": 15,
      "outputs": [
        {
          "output_type": "stream",
          "name": "stdout",
          "text": [
            "=== a ===\n",
            "ls = 0.803\n",
            "gd = 0.802\n",
            "\n",
            "=== b ===\n",
            "ls = 0.110\n",
            "gd = 0.112\n"
          ]
        }
      ]
    },
    {
      "cell_type": "markdown",
      "source": [
        "### Pytorch (autograd)"
      ],
      "metadata": {
        "id": "0STIA4gGP1MP"
      }
    },
    {
      "cell_type": "code",
      "source": [
        "X = torch.tensor([[1], [2], [3], [4]], dtype=torch.float32)\n",
        "Y = torch.tensor([[2], [4], [6], [8]], dtype=torch.float32)"
      ],
      "metadata": {
        "id": "IHTw-16jMbaN"
      },
      "execution_count": 16,
      "outputs": []
    },
    {
      "cell_type": "code",
      "source": [
        "n_samples, n_features = X.shape\n",
        "print(f'#samples: {n_samples}, #features: {n_features}')\n",
        "# 0) create a test sample\n",
        "X_test = torch.tensor([5], dtype=torch.float32)"
      ],
      "metadata": {
        "colab": {
          "base_uri": "https://localhost:8080/"
        },
        "id": "eAaXGrF3Soyz",
        "outputId": "b4ecf4e9-b65a-402b-99c0-f6b30eeec829"
      },
      "execution_count": 17,
      "outputs": [
        {
          "output_type": "stream",
          "name": "stdout",
          "text": [
            "#samples: 4, #features: 1\n"
          ]
        }
      ]
    },
    {
      "cell_type": "code",
      "source": [
        "input_size = n_features\n",
        "output_size = n_features"
      ],
      "metadata": {
        "id": "hL8QAL8mSqoU"
      },
      "execution_count": 18,
      "outputs": []
    },
    {
      "cell_type": "code",
      "source": [
        "# model = nn.Linear(input_size, output_size)"
      ],
      "metadata": {
        "id": "ExiP7G5wSspN"
      },
      "execution_count": 19,
      "outputs": []
    },
    {
      "cell_type": "code",
      "source": [
        "class LinearRegression(nn.Module):\n",
        "    def __init__(self, input_dim, output_dim):\n",
        "        super(LinearRegression, self).__init__()\n",
        "        # define diferent layers\n",
        "        self.lin = nn.Linear(input_dim, output_dim)\n",
        "    def forward(self, x):\n",
        "        return self.lin(x)\n",
        "model = LinearRegression(input_size, output_size)"
      ],
      "metadata": {
        "id": "BDqBC4bkSvLR"
      },
      "execution_count": 20,
      "outputs": []
    },
    {
      "cell_type": "code",
      "source": [
        "print(f'Prediction before training: f(5) = {model(X_test).item():.3f}')"
      ],
      "metadata": {
        "colab": {
          "base_uri": "https://localhost:8080/"
        },
        "id": "fvs2Bt3zMbcy",
        "outputId": "f4a0047d-a2ff-43c2-8373-f47e279f8db0"
      },
      "execution_count": 21,
      "outputs": [
        {
          "output_type": "stream",
          "name": "stdout",
          "text": [
            "Prediction before training: f(5) = -4.125\n"
          ]
        }
      ]
    },
    {
      "cell_type": "code",
      "source": [
        "learning_rate = 0.01\n",
        "n_iters = 100"
      ],
      "metadata": {
        "id": "Isb_eUg5EduH"
      },
      "execution_count": 22,
      "outputs": []
    },
    {
      "cell_type": "code",
      "source": [
        "loss = nn.MSELoss()\n",
        "optimizer = torch.optim.SGD(model.parameters(), lr=learning_rate)"
      ],
      "metadata": {
        "id": "Wv2QuDjuS36h"
      },
      "execution_count": 23,
      "outputs": []
    },
    {
      "cell_type": "code",
      "source": [
        "for epoch in range(n_iters):\n",
        "    # predict = forward pass with our model\n",
        "    y_predicted = model(X)\n",
        "\n",
        "    # loss\n",
        "    l = loss(Y, y_predicted)\n",
        "\n",
        "    # calculate gradients = backward pass\n",
        "    l.backward()\n",
        "\n",
        "    # update weights\n",
        "    optimizer.step()\n",
        "\n",
        "    # zero the gradients after updating\n",
        "    optimizer.zero_grad()\n",
        "\n",
        "    if epoch % 10 == 0:\n",
        "        [w, b] = model.parameters() # unpack parameters\n",
        "        print('epoch ', epoch+1, ': w = ', w[0][0].item(), ' loss = ', l)\n",
        "\n",
        "print(f'Prediction after training: f(5) = {model(X_test).item():.3f}')"
      ],
      "metadata": {
        "colab": {
          "base_uri": "https://localhost:8080/"
        },
        "id": "RAlBHCR9P4Hl",
        "outputId": "03559a4d-2fac-4614-99ea-f78510428e56"
      },
      "execution_count": 24,
      "outputs": [
        {
          "output_type": "stream",
          "name": "stdout",
          "text": [
            "epoch  1 : w =  -0.5570077300071716  loss =  tensor(56.0069, grad_fn=<MseLossBackward0>)\n",
            "epoch  11 : w =  1.16622793674469  loss =  tensor(1.8113, grad_fn=<MseLossBackward0>)\n",
            "epoch  21 : w =  1.4558881521224976  loss =  tensor(0.3880, grad_fn=<MseLossBackward0>)\n",
            "epoch  31 : w =  1.5145906209945679  loss =  tensor(0.3313, grad_fn=<MseLossBackward0>)\n",
            "epoch  41 : w =  1.5357860326766968  loss =  tensor(0.3112, grad_fn=<MseLossBackward0>)\n",
            "epoch  51 : w =  1.5506013631820679  loss =  tensor(0.2930, grad_fn=<MseLossBackward0>)\n",
            "epoch  61 : w =  1.5640534162521362  loss =  tensor(0.2760, grad_fn=<MseLossBackward0>)\n",
            "epoch  71 : w =  1.5769593715667725  loss =  tensor(0.2599, grad_fn=<MseLossBackward0>)\n",
            "epoch  81 : w =  1.5894601345062256  loss =  tensor(0.2448, grad_fn=<MseLossBackward0>)\n",
            "epoch  91 : w =  1.6015877723693848  loss =  tensor(0.2305, grad_fn=<MseLossBackward0>)\n",
            "Prediction after training: f(5) = 9.201\n"
          ]
        }
      ]
    },
    {
      "cell_type": "code",
      "source": [],
      "metadata": {
        "id": "mPxglgBvR2ju"
      },
      "execution_count": 24,
      "outputs": []
    },
    {
      "cell_type": "code",
      "source": [],
      "metadata": {
        "id": "uBD_HxStR2mV"
      },
      "execution_count": 24,
      "outputs": []
    },
    {
      "cell_type": "code",
      "source": [],
      "metadata": {
        "id": "Pc6Ihw2lR2ok"
      },
      "execution_count": 24,
      "outputs": []
    },
    {
      "cell_type": "code",
      "source": [],
      "metadata": {
        "id": "mHhr5JJ9R2q0"
      },
      "execution_count": 24,
      "outputs": []
    },
    {
      "cell_type": "code",
      "source": [],
      "metadata": {
        "id": "vYhaxTxNR2sX"
      },
      "execution_count": 24,
      "outputs": []
    },
    {
      "cell_type": "code",
      "source": [],
      "metadata": {
        "id": "i8QoNzDQEdyx"
      },
      "execution_count": 24,
      "outputs": []
    }
  ]
}